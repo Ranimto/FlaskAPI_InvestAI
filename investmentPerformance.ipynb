{
 "cells": [
  {
   "cell_type": "code",
   "execution_count": 2,
   "id": "14a403a0",
   "metadata": {},
   "outputs": [
    {
     "name": "stdout",
     "output_type": "stream",
     "text": [
      "investmentData for Investor id: 108\n",
      "The length of investmentData is: (1, 11)\n"
     ]
    }
   ],
   "source": [
    "import requests\n",
    "import pandas as pd\n",
    "\n",
    "base_url = 'http://localhost:8023/investment/'\n",
    "investor_id = 108 \n",
    "company_Name = 'IBM' \n",
    "\n",
    "api_url = f'{base_url}{investor_id}/{company_Name}'\n",
    "\n",
    "response = requests.get(api_url)\n",
    "\n",
    "if response.status_code == 200:\n",
    "    # Extract JSON data from the response\n",
    "    data = response.json()\n",
    "    \n",
    "    # Create a Pandas DataFrame from JSON data\n",
    "    investmentData = pd.DataFrame([data])\n",
    "    \n",
    "    print(\"investmentData for Investor id:\", investor_id)\n",
    "    print(\"The length of investmentData is:\", investmentData.shape)\n",
    "    investmentData.head()\n",
    "else:\n",
    "    print(f\"Failed request {response.status_code}\")\n",
    "\n"
   ]
  },
  {
   "cell_type": "code",
   "execution_count": null,
   "id": "3302dea0",
   "metadata": {},
   "outputs": [],
   "source": [
    "startDate = data['startDate']\n",
    "start_date = pd.Timestamp(startDate)\n",
    "duration_months = int(data['duration'])\n",
    "end_date = start_date + pd.Timedelta(days=duration_months * 30)\n",
    "# Convert end date to the desired string format\n",
    "end_date_str = end_date.strftime('%Y-%m-%d')\n",
    "end_date_str"
   ]
  },
  {
   "cell_type": "code",
   "execution_count": 1,
   "id": "84e62e60",
   "metadata": {
    "scrolled": true
   },
   "outputs": [
    {
     "name": "stdout",
     "output_type": "stream",
     "text": [
      "Collecting flask-cors\n",
      "  Downloading Flask_Cors-4.0.0-py2.py3-none-any.whl (14 kB)\n",
      "Requirement already satisfied: Flask>=0.9 in c:\\programdata\\anaconda3\\lib\\site-packages (from flask-cors) (1.1.2)\n",
      "Requirement already satisfied: itsdangerous>=0.24 in c:\\programdata\\anaconda3\\lib\\site-packages (from Flask>=0.9->flask-cors) (2.0.1)\n",
      "Requirement already satisfied: click>=5.1 in c:\\programdata\\anaconda3\\lib\\site-packages (from Flask>=0.9->flask-cors) (8.0.3)\n",
      "Requirement already satisfied: Jinja2>=2.10.1 in c:\\programdata\\anaconda3\\lib\\site-packages (from Flask>=0.9->flask-cors) (2.11.3)\n",
      "Requirement already satisfied: Werkzeug>=0.15 in c:\\programdata\\anaconda3\\lib\\site-packages (from Flask>=0.9->flask-cors) (2.0.2)\n",
      "Requirement already satisfied: colorama in c:\\programdata\\anaconda3\\lib\\site-packages (from click>=5.1->Flask>=0.9->flask-cors) (0.4.4)\n",
      "Requirement already satisfied: MarkupSafe>=0.23 in c:\\programdata\\anaconda3\\lib\\site-packages (from Jinja2>=2.10.1->Flask>=0.9->flask-cors) (1.1.1)\n",
      "Installing collected packages: flask-cors\n",
      "Successfully installed flask-cors-4.0.0\n",
      "Note: you may need to restart the kernel to use updated packages.\n"
     ]
    },
    {
     "name": "stderr",
     "output_type": "stream",
     "text": [
      "WARNING: Ignoring invalid distribution -tz (c:\\programdata\\anaconda3\\lib\\site-packages)\n",
      "WARNING: Ignoring invalid distribution -mpy (c:\\programdata\\anaconda3\\lib\\site-packages)\n",
      "WARNING: Ignoring invalid distribution -ytz (c:\\programdata\\anaconda3\\lib\\site-packages)\n",
      "WARNING: Ignoring invalid distribution -umpy (c:\\programdata\\anaconda3\\lib\\site-packages)\n",
      "WARNING: Ignoring invalid distribution -tz (c:\\programdata\\anaconda3\\lib\\site-packages)\n",
      "WARNING: Ignoring invalid distribution -pencv-python (c:\\programdata\\anaconda3\\lib\\site-packages)\n",
      "WARNING: Ignoring invalid distribution -oblib (c:\\programdata\\anaconda3\\lib\\site-packages)\n",
      "WARNING: Ignoring invalid distribution -mpy (c:\\programdata\\anaconda3\\lib\\site-packages)\n",
      "WARNING: Ignoring invalid distribution - (c:\\programdata\\anaconda3\\lib\\site-packages)\n",
      "WARNING: Ignoring invalid distribution -tz (c:\\programdata\\anaconda3\\lib\\site-packages)\n",
      "WARNING: Ignoring invalid distribution -mpy (c:\\programdata\\anaconda3\\lib\\site-packages)\n",
      "WARNING: Ignoring invalid distribution -ytz (c:\\programdata\\anaconda3\\lib\\site-packages)\n",
      "WARNING: Ignoring invalid distribution -umpy (c:\\programdata\\anaconda3\\lib\\site-packages)\n",
      "WARNING: Ignoring invalid distribution -tz (c:\\programdata\\anaconda3\\lib\\site-packages)\n",
      "WARNING: Ignoring invalid distribution -pencv-python (c:\\programdata\\anaconda3\\lib\\site-packages)\n",
      "WARNING: Ignoring invalid distribution -oblib (c:\\programdata\\anaconda3\\lib\\site-packages)\n",
      "WARNING: Ignoring invalid distribution -mpy (c:\\programdata\\anaconda3\\lib\\site-packages)\n",
      "WARNING: Ignoring invalid distribution - (c:\\programdata\\anaconda3\\lib\\site-packages)\n",
      "WARNING: Ignoring invalid distribution -tz (c:\\programdata\\anaconda3\\lib\\site-packages)\n",
      "WARNING: Ignoring invalid distribution -mpy (c:\\programdata\\anaconda3\\lib\\site-packages)\n",
      "WARNING: Ignoring invalid distribution -ytz (c:\\programdata\\anaconda3\\lib\\site-packages)\n",
      "WARNING: Ignoring invalid distribution -umpy (c:\\programdata\\anaconda3\\lib\\site-packages)\n",
      "WARNING: Ignoring invalid distribution -tz (c:\\programdata\\anaconda3\\lib\\site-packages)\n",
      "WARNING: Ignoring invalid distribution -pencv-python (c:\\programdata\\anaconda3\\lib\\site-packages)\n",
      "WARNING: Ignoring invalid distribution -oblib (c:\\programdata\\anaconda3\\lib\\site-packages)\n",
      "WARNING: Ignoring invalid distribution -mpy (c:\\programdata\\anaconda3\\lib\\site-packages)\n",
      "WARNING: Ignoring invalid distribution - (c:\\programdata\\anaconda3\\lib\\site-packages)\n",
      "WARNING: Ignoring invalid distribution -tz (c:\\programdata\\anaconda3\\lib\\site-packages)\n",
      "WARNING: Ignoring invalid distribution -mpy (c:\\programdata\\anaconda3\\lib\\site-packages)\n",
      "WARNING: Ignoring invalid distribution -ytz (c:\\programdata\\anaconda3\\lib\\site-packages)\n",
      "WARNING: Ignoring invalid distribution -umpy (c:\\programdata\\anaconda3\\lib\\site-packages)\n",
      "WARNING: Ignoring invalid distribution -tz (c:\\programdata\\anaconda3\\lib\\site-packages)\n",
      "WARNING: Ignoring invalid distribution -pencv-python (c:\\programdata\\anaconda3\\lib\\site-packages)\n",
      "WARNING: Ignoring invalid distribution -oblib (c:\\programdata\\anaconda3\\lib\\site-packages)\n",
      "WARNING: Ignoring invalid distribution -mpy (c:\\programdata\\anaconda3\\lib\\site-packages)\n",
      "WARNING: Ignoring invalid distribution - (c:\\programdata\\anaconda3\\lib\\site-packages)\n",
      "WARNING: Ignoring invalid distribution -tz (c:\\programdata\\anaconda3\\lib\\site-packages)\n",
      "WARNING: Ignoring invalid distribution -mpy (c:\\programdata\\anaconda3\\lib\\site-packages)\n",
      "WARNING: Ignoring invalid distribution -ytz (c:\\programdata\\anaconda3\\lib\\site-packages)\n",
      "WARNING: Ignoring invalid distribution -umpy (c:\\programdata\\anaconda3\\lib\\site-packages)\n",
      "WARNING: Ignoring invalid distribution -tz (c:\\programdata\\anaconda3\\lib\\site-packages)\n",
      "WARNING: Ignoring invalid distribution -pencv-python (c:\\programdata\\anaconda3\\lib\\site-packages)\n",
      "WARNING: Ignoring invalid distribution -oblib (c:\\programdata\\anaconda3\\lib\\site-packages)\n",
      "WARNING: Ignoring invalid distribution -mpy (c:\\programdata\\anaconda3\\lib\\site-packages)\n",
      "WARNING: Ignoring invalid distribution - (c:\\programdata\\anaconda3\\lib\\site-packages)\n",
      "WARNING: Ignoring invalid distribution -tz (c:\\programdata\\anaconda3\\lib\\site-packages)\n",
      "WARNING: Ignoring invalid distribution -mpy (c:\\programdata\\anaconda3\\lib\\site-packages)\n",
      "WARNING: Ignoring invalid distribution -ytz (c:\\programdata\\anaconda3\\lib\\site-packages)\n",
      "WARNING: Ignoring invalid distribution -umpy (c:\\programdata\\anaconda3\\lib\\site-packages)\n",
      "WARNING: Ignoring invalid distribution -tz (c:\\programdata\\anaconda3\\lib\\site-packages)\n",
      "WARNING: Ignoring invalid distribution -pencv-python (c:\\programdata\\anaconda3\\lib\\site-packages)\n",
      "WARNING: Ignoring invalid distribution -oblib (c:\\programdata\\anaconda3\\lib\\site-packages)\n",
      "WARNING: Ignoring invalid distribution -mpy (c:\\programdata\\anaconda3\\lib\\site-packages)\n",
      "WARNING: Ignoring invalid distribution - (c:\\programdata\\anaconda3\\lib\\site-packages)\n",
      "WARNING: Ignoring invalid distribution -tz (c:\\programdata\\anaconda3\\lib\\site-packages)\n",
      "WARNING: Ignoring invalid distribution -mpy (c:\\programdata\\anaconda3\\lib\\site-packages)\n",
      "WARNING: Ignoring invalid distribution -ytz (c:\\programdata\\anaconda3\\lib\\site-packages)\n",
      "WARNING: Ignoring invalid distribution -umpy (c:\\programdata\\anaconda3\\lib\\site-packages)\n",
      "WARNING: Ignoring invalid distribution -tz (c:\\programdata\\anaconda3\\lib\\site-packages)\n",
      "WARNING: Ignoring invalid distribution -pencv-python (c:\\programdata\\anaconda3\\lib\\site-packages)\n",
      "WARNING: Ignoring invalid distribution -oblib (c:\\programdata\\anaconda3\\lib\\site-packages)\n",
      "WARNING: Ignoring invalid distribution -mpy (c:\\programdata\\anaconda3\\lib\\site-packages)\n",
      "WARNING: Ignoring invalid distribution - (c:\\programdata\\anaconda3\\lib\\site-packages)\n"
     ]
    }
   ],
   "source": [
    "pip install flask-cors\n"
   ]
  },
  {
   "cell_type": "code",
   "execution_count": null,
   "id": "9fbc53a7",
   "metadata": {},
   "outputs": [],
   "source": [
    "%tb"
   ]
  },
  {
   "cell_type": "code",
   "execution_count": null,
   "id": "054ddfa3",
   "metadata": {},
   "outputs": [
    {
     "name": "stdout",
     "output_type": "stream",
     "text": [
      " * Serving Flask app \"__main__\" (lazy loading)\n",
      " * Environment: production\n",
      "\u001b[31m   WARNING: This is a development server. Do not use it in a production deployment.\u001b[0m\n",
      "\u001b[2m   Use a production WSGI server instead.\u001b[0m\n",
      " * Debug mode: off\n"
     ]
    },
    {
     "name": "stderr",
     "output_type": "stream",
     "text": [
      " * Running on http://127.0.0.1:5002/ (Press CTRL+C to quit)\n",
      "127.0.0.1 - - [06/May/2024 23:43:18] \"OPTIONS /investment_performance HTTP/1.1\" 200 -\n"
     ]
    },
    {
     "name": "stdout",
     "output_type": "stream",
     "text": [
      "close_prices [168.79, 168.8, 168.25, 169.45, 169.409, 169.18, 169.5, 169.1, 169.4, 169.25, 169.25, 169.57, 169.25, 169.4, 169.094, 169.2, 169.25, 169.75, 169.34, 169.0, 168.94, 168.9, 168.7, 168.56, 168.39, 168.32, 168.23, 168.1, 167.95, 168.3, 167.5, 167.8, 169.57, 170.5, 171.47, 171.7, 171.96, 172.07, 172.12, 171.51, 171.61, 170.72, 172.2, 173.64, 173.4, 176.0, 179.01, 184.25, 184.1, 183.76, 183.53, 183.555, 183.78, 184.148, 184.115, 184.09, 183.79, 183.82, 183.55, 183.36, 183.33, 183.535, 183.47, 183.27, 183.135, 182.96, 183.05, 183.08, 183.19, 182.85, 183.305, 183.308, 183.23, 183.105, 183.11, 183.09, 182.84, 182.625, 182.48, 182.505, 182.3, 182.2, 182.28, 182.43, 182.64, 182.537, 181.705, 182.31, 182.43, 181.76, 181.875, 181.835, 182.25, 181.89, 182.01, 182.3, 182.08, 182.44, 182.62, 182.73]\n",
      "prices_series Date\n",
      "2024-04-24 19:55:00    168.790\n",
      "2024-04-24 19:50:00    168.800\n",
      "2024-04-24 19:45:00    168.250\n",
      "2024-04-24 19:40:00    169.450\n",
      "2024-04-24 19:35:00    169.409\n",
      "                        ...   \n",
      "2024-04-24 12:00:00    182.300\n",
      "2024-04-24 11:55:00    182.080\n",
      "2024-04-24 11:50:00    182.440\n",
      "2024-04-24 11:45:00    182.620\n",
      "2024-04-24 11:40:00    182.730\n",
      "Name: Close, Length: 100, dtype: float64\n",
      "0.20449076220961504\n"
     ]
    },
    {
     "name": "stderr",
     "output_type": "stream",
     "text": [
      "127.0.0.1 - - [06/May/2024 23:43:19] \"POST /investment_performance HTTP/1.1\" 200 -\n"
     ]
    },
    {
     "name": "stdout",
     "output_type": "stream",
     "text": [
      "2.9094066921982384 9.872434090695815\n",
      "current_value 388.88\n",
      "188.88\n"
     ]
    },
    {
     "name": "stderr",
     "output_type": "stream",
     "text": [
      "127.0.0.1 - - [06/May/2024 23:50:40] \"OPTIONS /investment_performance HTTP/1.1\" 200 -\n",
      "127.0.0.1 - - [06/May/2024 23:50:40] \"POST /investment_performance HTTP/1.1\" 500 -\n"
     ]
    },
    {
     "name": "stdout",
     "output_type": "stream",
     "text": [
      "Failed request 400\n"
     ]
    },
    {
     "name": "stderr",
     "output_type": "stream",
     "text": [
      "127.0.0.1 - - [06/May/2024 23:51:19] \"OPTIONS /investment_performance HTTP/1.1\" 200 -\n",
      "127.0.0.1 - - [06/May/2024 23:51:19] \"POST /investment_performance HTTP/1.1\" 500 -\n"
     ]
    },
    {
     "name": "stdout",
     "output_type": "stream",
     "text": [
      "Failed request 400\n"
     ]
    }
   ],
   "source": [
    "from flask import Flask, jsonify, request\n",
    "import quantstats as qs\n",
    "import pandas as pd\n",
    "import requests\n",
    "from flask_cors import CORS\n",
    "import json\n",
    "import matplotlib.pyplot as plt\n",
    "  \n",
    "app = Flask(__name__)\n",
    "CORS(app) \n",
    "\n",
    "\n",
    "def fetch_investment_data(base_url, investor_id, company_Name):\n",
    "    api_url = f'{base_url}/{investor_id}/{company_Name}'\n",
    "    response = requests.get(api_url)\n",
    "    \n",
    "    if response.status_code == 200:\n",
    "        # Extract JSON data from the response\n",
    "        data = response.json()\n",
    "        return data\n",
    "    else:\n",
    "        print(f\"Failed request {response.status_code}\")\n",
    "        return None\n",
    "    \n",
    "\n",
    "    \n",
    "def fetch_historical_data(base_url, symbol):\n",
    "    api_url = f'{base_url}/{symbol}'\n",
    "    response = requests.get(api_url)\n",
    "    \n",
    "    if response.status_code == 200:\n",
    "        # Extract JSON data from the response\n",
    "        data = response.json()\n",
    "        return data\n",
    "    else:\n",
    "        print(f\"Failed request {response.status_code}\")\n",
    "        return None\n",
    "\n",
    "    \n",
    "    \n",
    "\n",
    "@app.route('/investment_performance', methods=['POST'])\n",
    "def investment_performance():\n",
    "    request_data = request.json\n",
    "    \n",
    "    if request_data is None or 'base_url' not in request_data or 'investor_id' not in request_data or 'company_Name' not in request_data or 'price_url' not in request_data:\n",
    "        return jsonify({'error': 'Request data is missing or invalid.'}), 400\n",
    "\n",
    "    # Fetch investment data\n",
    "    investment_data = fetch_investment_data(request_data['base_url'], request_data['investor_id'], request_data['company_Name'])\n",
    "\n",
    "\n",
    "    if investment_data is None:\n",
    "        return jsonify({'error': 'Failed to fetch investment data.'}), 500\n",
    "\n",
    "    # Extract relevant information from investment data\n",
    "    initial_investment = investment_data['investmentAmount']\n",
    "    current_value = investment_data['currentInvestmentAmount']\n",
    "\n",
    "    # Fetch historical data\n",
    "    historical_data = fetch_historical_data(request_data['price_url'], request_data['company_Name'])\n",
    "    if historical_data:\n",
    "        # Extract dates and close prices from historical data\n",
    "        dates = list(historical_data.get(\"Time Series (5min)\", {}).keys())\n",
    "        close_prices = [float(data.get(\"4. close\", 0)) for data in historical_data.get(\"Time Series (5min)\", {}).values()]\n",
    "        print(\"close_prices\",close_prices)\n",
    "        \n",
    "        if dates and close_prices:\n",
    "            # Create pandas DataFrame for historical prices\n",
    "            historical_prices = pd.DataFrame({\n",
    "                'Date': dates,\n",
    "                'Close': close_prices\n",
    "            })\n",
    "\n",
    "            # Convert dates to datetime\n",
    "            historical_prices['Date'] = pd.to_datetime(historical_prices['Date']) # list string--> list datetime\n",
    "\n",
    "            # Set Date column as index\n",
    "            #Pandas will use this column as an identifier to quickly access specific data in the DataFrame.\n",
    "            #each DataFrame row is now identified by its date\n",
    "            historical_prices.set_index('Date', inplace=True)\n",
    "            \n",
    "            # Load prices into quantstats\n",
    "            qs.extend_pandas()\n",
    "\n",
    "            # Convert historical prices to a Series\n",
    "            prices_series = historical_prices['Close']\n",
    "            print(\"prices_series\",prices_series)\n",
    "            \n",
    "            # Calculate performance metrics using quantstats\n",
    "            #.dropna() deletes the NaN values resulting from the percentage change calculation, as there will be no yield for the first observation.\n",
    "            #calculates the daily percentage return between each period of two successive days.\n",
    "            #The calculation of the daily return is based on the difference between the closing price of the asset at the end of the current day and the closing price of the previous day.\n",
    "            qs_returns = prices_series.pct_change().dropna()\n",
    "            qs_annual_return = qs_returns.mean() * 252  # Assuming 252 trading days in a year\n",
    "            print(qs_annual_return)\n",
    "            \n",
    "            # Calculate Sharpe ratio and Sortino ratio\n",
    "            sharpe_ratio = qs_returns.sharpe()\n",
    "            sortino_ratio = qs_returns.sortino()\n",
    "            print(sharpe_ratio, sortino_ratio)\n",
    "            \n",
    "            # gain_percentage \n",
    "            gain_percentage = ((current_value) / initial_investment)\n",
    "            print(\"current_value\",current_value)\n",
    "            print(initial_investment)\n",
    "\n",
    "            \n",
    "            # Construct response data\n",
    "            performance_data = {\n",
    "                \"total_return\": (current_value - initial_investment) / initial_investment,\n",
    "                \"annual_return\": qs_annual_return,\n",
    "                \"sharpe_ratio\": sharpe_ratio,\n",
    "                \"sortino_ratio\": sortino_ratio,\n",
    "                'gain_percentage':gain_percentage,\n",
    "          \n",
    "                \n",
    "            }\n",
    "\n",
    "            return jsonify(performance_data)\n",
    "        else:\n",
    "            return jsonify({'error': 'No historical data available.'}), 500\n",
    "    else:\n",
    "        return jsonify({'error': 'Failed to fetch historical data.'}), 500\n",
    "\n",
    "if __name__ == '__main__':\n",
    "    app.run(port=5002)\n"
   ]
  },
  {
   "cell_type": "code",
   "execution_count": 17,
   "id": "f67efc9f",
   "metadata": {},
   "outputs": [
    {
     "name": "stdout",
     "output_type": "stream",
     "text": [
      "{'2024-04': [-0.4533042053522578, 3.769133702748656], '2024-03': [-0.06284038542103296, 0.12051980716830317, 2.5540377871984066, -3.9550905843327384], '2024-02': [1.0338143441740186, -0.6928160306970705, -0.2951593860684831], '2024-01': [-8.504962117169992, -3.3123396314438875, -4.0048250904704545]}\n"
     ]
    },
    {
     "data": {
      "image/png": "[encoded data removed]",
      "text/plain": [
       "<Figure size 720x432 with 1 Axes>"
      ]
     },
     "metadata": {
      "needs_background": "light"
     },
     "output_type": "display_data"
    }
   ],
   "source": []
  },
  {
   "cell_type": "code",
   "execution_count": null,
   "id": "0ebc1532",
   "metadata": {},
   "outputs": [],
   "source": []
  },
  {
   "cell_type": "code",
   "execution_count": null,
   "id": "bbe6bd63",
   "metadata": {},
   "outputs": [],
   "source": []
  }
 ],
 "metadata": {
  "kernelspec": {
   "display_name": "Python 3 (ipykernel)",
   "language": "python",
   "name": "python3"
  },
  "language_info": {
   "codemirror_mode": {
    "name": "ipython",
    "version": 3
   },
   "file_extension": ".py",
   "mimetype": "text/x-python",
   "name": "python",
   "nbconvert_exporter": "python",
   "pygments_lexer": "ipython3",
   "version": "3.9.7"
  }
 },
 "nbformat": 4,
 "nbformat_minor": 5
}

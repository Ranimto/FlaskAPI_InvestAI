{
 "cells": [
  {
   "cell_type": "code",
   "execution_count": null,
   "id": "2c0ce242",
   "metadata": {},
   "outputs": [
    {
     "name": "stdout",
     "output_type": "stream",
     "text": [
      " * Serving Flask app \"__main__\" (lazy loading)\n",
      " * Environment: production\n",
      "\u001b[31m   WARNING: This is a development server. Do not use it in a production deployment.\u001b[0m\n",
      "\u001b[2m   Use a production WSGI server instead.\u001b[0m\n",
      " * Debug mode: off\n"
     ]
    },
    {
     "name": "stderr",
     "output_type": "stream",
     "text": [
      " * Running on http://127.0.0.1:5000/ (Press CTRL+C to quit)\n",
      "127.0.0.1 - - [08/May/2024 22:26:10] \"OPTIONS /recommend_companies HTTP/1.1\" 200 -\n"
     ]
    },
    {
     "name": "stdout",
     "output_type": "stream",
     "text": [
      "Mean Squared Error on the validation set with XGBoost: 101.54817039817044\n",
      "activity Finance\n",
      "predicted_profit [83.37804]\n",
      "activity Technology\n",
      "predicted_profit [98.83949]\n",
      "activity Technology\n",
      "predicted_profit [97.33631]\n",
      "activity Technology\n",
      "predicted_profit [97.33631]\n",
      "activity Finance\n",
      "predicted_profit [83.18572]\n",
      "activity Technology\n",
      "predicted_profit [85.31423]\n",
      "activity Technology\n",
      "predicted_profit [56.94652]\n",
      "activity Technology\n",
      "predicted_profit [100.391136]\n",
      "activity Technology\n",
      "predicted_profit [98.83949]\n"
     ]
    },
    {
     "name": "stderr",
     "output_type": "stream",
     "text": [
      "127.0.0.1 - - [08/May/2024 22:26:46] \"POST /recommend_companies HTTP/1.1\" 200 -\n"
     ]
    },
    {
     "name": "stdout",
     "output_type": "stream",
     "text": [
      "Technology\n"
     ]
    },
    {
     "name": "stderr",
     "output_type": "stream",
     "text": [
      "127.0.0.1 - - [08/May/2024 22:35:24] \"OPTIONS /recommend_companies HTTP/1.1\" 200 -\n"
     ]
    },
    {
     "name": "stdout",
     "output_type": "stream",
     "text": [
      "Mean Squared Error on the validation set with XGBoost: 101.54817039817044\n",
      "activity Finance\n",
      "predicted_profit [83.37804]\n",
      "activity Technology\n",
      "predicted_profit [98.83949]\n",
      "activity Technology\n",
      "predicted_profit [97.33631]\n",
      "activity Technology\n",
      "predicted_profit [97.33631]\n",
      "activity Finance\n",
      "predicted_profit [83.18572]\n",
      "activity Technology\n",
      "predicted_profit [85.31423]\n",
      "activity Technology\n",
      "predicted_profit [56.94652]\n",
      "activity Technology\n",
      "predicted_profit [100.391136]\n",
      "activity Technology\n",
      "predicted_profit [98.83949]\n"
     ]
    },
    {
     "name": "stderr",
     "output_type": "stream",
     "text": [
      "127.0.0.1 - - [08/May/2024 22:36:05] \"POST /recommend_companies HTTP/1.1\" 200 -\n"
     ]
    },
    {
     "name": "stdout",
     "output_type": "stream",
     "text": [
      "Technology\n"
     ]
    },
    {
     "name": "stderr",
     "output_type": "stream",
     "text": [
      "127.0.0.1 - - [08/May/2024 22:37:43] \"OPTIONS /recommend_companies HTTP/1.1\" 200 -\n"
     ]
    },
    {
     "name": "stdout",
     "output_type": "stream",
     "text": [
      "Mean Squared Error on the validation set with XGBoost: 101.54817039817044\n",
      "activity Finance\n",
      "predicted_profit [83.37804]\n",
      "activity Technology\n",
      "predicted_profit [98.83949]\n",
      "activity Technology\n",
      "predicted_profit [97.33631]\n",
      "activity Technology\n",
      "predicted_profit [97.33631]\n",
      "activity Finance\n",
      "predicted_profit [83.18572]\n",
      "activity Technology\n",
      "predicted_profit [85.31423]\n",
      "activity Technology\n",
      "predicted_profit [56.94652]\n",
      "activity Technology\n",
      "predicted_profit [100.391136]\n",
      "activity Technology\n",
      "predicted_profit [98.83949]\n"
     ]
    },
    {
     "name": "stderr",
     "output_type": "stream",
     "text": [
      "127.0.0.1 - - [08/May/2024 22:38:22] \"POST /recommend_companies HTTP/1.1\" 200 -\n"
     ]
    },
    {
     "name": "stdout",
     "output_type": "stream",
     "text": [
      "Technology\n"
     ]
    },
    {
     "name": "stderr",
     "output_type": "stream",
     "text": [
      "127.0.0.1 - - [08/May/2024 22:40:43] \"OPTIONS /recommend_companies HTTP/1.1\" 200 -\n",
      "127.0.0.1 - - [08/May/2024 22:40:53] \"OPTIONS /recommend_companies HTTP/1.1\" 200 -\n",
      "127.0.0.1 - - [08/May/2024 22:41:10] \"OPTIONS /recommend_companies HTTP/1.1\" 200 -\n"
     ]
    },
    {
     "name": "stdout",
     "output_type": "stream",
     "text": [
      "Mean Squared Error on the validation set with XGBoost: 101.54817039817044\n",
      "activity Finance\n",
      "predicted_profit [83.37804]\n",
      "activity Technology\n",
      "predicted_profit [98.83949]\n",
      "activity Technology\n",
      "predicted_profit [97.33631]\n",
      "activity Technology\n",
      "predicted_profit [97.33631]\n",
      "activity Finance\n",
      "predicted_profit [83.18572]\n",
      "activity Technology\n",
      "predicted_profit [85.31423]\n",
      "activity Technology\n",
      "predicted_profit [56.94652]\n",
      "activity Technology\n",
      "predicted_profit [100.391136]\n",
      "activity Technology\n",
      "predicted_profit [98.83949]\n"
     ]
    },
    {
     "name": "stderr",
     "output_type": "stream",
     "text": [
      "127.0.0.1 - - [08/May/2024 22:42:14] \"POST /recommend_companies HTTP/1.1\" 200 -\n"
     ]
    },
    {
     "name": "stdout",
     "output_type": "stream",
     "text": [
      "Technology\n",
      "Mean Squared Error on the validation set with XGBoost: 101.54817039817044\n",
      "activity Finance\n",
      "predicted_profit [83.37804]\n",
      "activity Technology\n",
      "predicted_profit [98.83949]\n",
      "activity Technology\n",
      "predicted_profit [97.33631]\n",
      "activity Technology\n",
      "predicted_profit [97.33631]\n",
      "activity Finance\n",
      "predicted_profit [83.18572]\n",
      "activity Technology\n",
      "predicted_profit [85.31423]\n",
      "activity Technology\n",
      "predicted_profit [56.94652]\n",
      "activity Technology\n",
      "predicted_profit [100.391136]\n",
      "activity Technology\n",
      "predicted_profit [98.83949]\n",
      "Mean Squared Error on the validation set with XGBoost: 101.54817039817044\n"
     ]
    },
    {
     "name": "stderr",
     "output_type": "stream",
     "text": [
      "127.0.0.1 - - [08/May/2024 22:42:30] \"POST /recommend_companies HTTP/1.1\" 200 -\n"
     ]
    },
    {
     "name": "stdout",
     "output_type": "stream",
     "text": [
      "Technology\n",
      "activity Finance\n",
      "predicted_profit [83.37804]\n",
      "activity Technology\n",
      "predicted_profit [98.83949]\n",
      "activity Technology\n",
      "predicted_profit [97.33631]\n",
      "activity Technology\n",
      "predicted_profit [97.33631]\n",
      "activity Finance\n",
      "predicted_profit [83.18572]\n",
      "activity Technology\n",
      "predicted_profit [85.31423]\n",
      "activity Technology\n",
      "predicted_profit [56.94652]\n",
      "activity Technology\n",
      "predicted_profit [100.391136]\n",
      "activity Technology\n",
      "predicted_profit [98.83949]\n"
     ]
    },
    {
     "name": "stderr",
     "output_type": "stream",
     "text": [
      "127.0.0.1 - - [08/May/2024 22:42:37] \"POST /recommend_companies HTTP/1.1\" 200 -\n"
     ]
    },
    {
     "name": "stdout",
     "output_type": "stream",
     "text": [
      "Technology\n"
     ]
    },
    {
     "name": "stderr",
     "output_type": "stream",
     "text": [
      "127.0.0.1 - - [08/May/2024 22:43:39] \"OPTIONS /recommend_companies HTTP/1.1\" 200 -\n"
     ]
    },
    {
     "name": "stdout",
     "output_type": "stream",
     "text": [
      "Mean Squared Error on the validation set with XGBoost: 101.54817039817044\n",
      "activity Finance\n",
      "predicted_profit [83.37804]\n",
      "activity Technology\n",
      "predicted_profit [98.83949]\n",
      "activity Technology\n",
      "predicted_profit [97.33631]\n",
      "activity Technology\n",
      "predicted_profit [97.33631]\n",
      "activity Finance\n",
      "predicted_profit [83.18572]\n",
      "activity Technology\n",
      "predicted_profit [85.31423]\n",
      "activity Technology\n",
      "predicted_profit [56.94652]\n",
      "activity Technology\n",
      "predicted_profit [100.391136]\n",
      "activity Technology\n",
      "predicted_profit [98.83949]\n"
     ]
    },
    {
     "name": "stderr",
     "output_type": "stream",
     "text": [
      "127.0.0.1 - - [08/May/2024 22:44:19] \"POST /recommend_companies HTTP/1.1\" 200 -\n"
     ]
    },
    {
     "name": "stdout",
     "output_type": "stream",
     "text": [
      "Technology\n"
     ]
    },
    {
     "name": "stderr",
     "output_type": "stream",
     "text": [
      "127.0.0.1 - - [08/May/2024 22:49:54] \"OPTIONS /recommend_companies HTTP/1.1\" 200 -\n"
     ]
    },
    {
     "name": "stdout",
     "output_type": "stream",
     "text": [
      "Mean Squared Error on the validation set with XGBoost: 101.54817039817044\n",
      "activity Finance\n",
      "predicted_profit [83.37804]\n",
      "activity Technology\n",
      "predicted_profit [98.83949]\n",
      "activity Technology\n",
      "predicted_profit [97.33631]\n",
      "activity Technology\n",
      "predicted_profit [97.33631]\n",
      "activity Finance\n",
      "predicted_profit [83.18572]\n",
      "activity Technology\n",
      "predicted_profit [85.31423]\n",
      "activity Technology\n",
      "predicted_profit [56.94652]\n",
      "activity Technology\n",
      "predicted_profit [100.391136]\n",
      "activity Technology\n",
      "predicted_profit [98.83949]\n"
     ]
    },
    {
     "name": "stderr",
     "output_type": "stream",
     "text": [
      "127.0.0.1 - - [08/May/2024 22:50:36] \"POST /recommend_companies HTTP/1.1\" 200 -\n"
     ]
    },
    {
     "name": "stdout",
     "output_type": "stream",
     "text": [
      "Technology\n"
     ]
    },
    {
     "name": "stderr",
     "output_type": "stream",
     "text": [
      "127.0.0.1 - - [08/May/2024 22:52:50] \"OPTIONS /recommend_companies HTTP/1.1\" 200 -\n"
     ]
    },
    {
     "name": "stdout",
     "output_type": "stream",
     "text": [
      "Mean Squared Error on the validation set with XGBoost: 101.54817039817044\n",
      "activity Finance\n",
      "predicted_profit [83.37804]\n",
      "activity Technology\n",
      "predicted_profit [98.83949]\n",
      "activity Technology\n",
      "predicted_profit [97.33631]\n",
      "activity Technology\n",
      "predicted_profit [97.33631]\n",
      "activity Finance\n",
      "predicted_profit [83.18572]\n",
      "activity Technology\n",
      "predicted_profit [85.31423]\n",
      "activity Technology\n",
      "predicted_profit [56.94652]\n",
      "activity Technology\n",
      "predicted_profit [100.391136]\n",
      "activity Technology\n",
      "predicted_profit [98.83949]\n"
     ]
    },
    {
     "name": "stderr",
     "output_type": "stream",
     "text": [
      "127.0.0.1 - - [08/May/2024 22:53:34] \"POST /recommend_companies HTTP/1.1\" 200 -\n"
     ]
    },
    {
     "name": "stdout",
     "output_type": "stream",
     "text": [
      "Technology\n"
     ]
    },
    {
     "name": "stderr",
     "output_type": "stream",
     "text": [
      "127.0.0.1 - - [08/May/2024 22:54:59] \"OPTIONS /recommend_companies HTTP/1.1\" 200 -\n"
     ]
    },
    {
     "name": "stdout",
     "output_type": "stream",
     "text": [
      "Mean Squared Error on the validation set with XGBoost: 101.54817039817044\n",
      "activity Finance\n",
      "predicted_profit [83.37804]\n",
      "activity Technology\n",
      "predicted_profit [98.83949]\n",
      "activity Technology\n",
      "predicted_profit [97.33631]\n",
      "activity Technology\n",
      "predicted_profit [97.33631]\n",
      "activity Finance\n",
      "predicted_profit [83.18572]\n",
      "activity Technology\n",
      "predicted_profit [85.31423]\n",
      "activity Technology\n",
      "predicted_profit [56.94652]\n",
      "activity Technology\n",
      "predicted_profit [100.391136]\n",
      "activity Technology\n",
      "predicted_profit [98.83949]\n"
     ]
    },
    {
     "name": "stderr",
     "output_type": "stream",
     "text": [
      "127.0.0.1 - - [08/May/2024 22:55:39] \"POST /recommend_companies HTTP/1.1\" 200 -\n"
     ]
    },
    {
     "name": "stdout",
     "output_type": "stream",
     "text": [
      "Technology\n"
     ]
    },
    {
     "name": "stderr",
     "output_type": "stream",
     "text": [
      "127.0.0.1 - - [08/May/2024 22:56:25] \"OPTIONS /recommend_companies HTTP/1.1\" 200 -\n"
     ]
    },
    {
     "name": "stdout",
     "output_type": "stream",
     "text": [
      "Mean Squared Error on the validation set with XGBoost: 101.54817039817044\n",
      "activity Finance\n",
      "predicted_profit [83.37804]\n",
      "activity Technology\n",
      "predicted_profit [98.83949]\n",
      "activity Technology\n",
      "predicted_profit [97.33631]\n",
      "activity Technology\n",
      "predicted_profit [97.33631]\n",
      "activity Finance\n",
      "predicted_profit [83.18572]\n",
      "activity Technology\n",
      "predicted_profit [85.31423]\n",
      "activity Technology\n",
      "predicted_profit [56.94652]\n",
      "activity Technology\n",
      "predicted_profit [100.391136]\n",
      "activity Technology\n",
      "predicted_profit [98.83949]\n"
     ]
    },
    {
     "name": "stderr",
     "output_type": "stream",
     "text": [
      "127.0.0.1 - - [08/May/2024 22:57:01] \"POST /recommend_companies HTTP/1.1\" 200 -\n"
     ]
    },
    {
     "name": "stdout",
     "output_type": "stream",
     "text": [
      "Technology\n"
     ]
    },
    {
     "name": "stderr",
     "output_type": "stream",
     "text": [
      "127.0.0.1 - - [08/May/2024 22:58:15] \"OPTIONS /recommend_companies HTTP/1.1\" 200 -\n",
      "127.0.0.1 - - [08/May/2024 22:58:15] \"OPTIONS /recommend_companies HTTP/1.1\" 200 -\n",
      "127.0.0.1 - - [08/May/2024 22:58:45] \"OPTIONS /recommend_companies HTTP/1.1\" 200 -\n",
      "127.0.0.1 - - [08/May/2024 22:58:50] \"OPTIONS /recommend_companies HTTP/1.1\" 200 -\n"
     ]
    },
    {
     "name": "stdout",
     "output_type": "stream",
     "text": [
      "Mean Squared Error on the validation set with XGBoost: 101.54817039817044\n",
      "Mean Squared Error on the validation set with XGBoost: 101.54817039817044\n",
      "activity Finance\n",
      "predicted_profit [83.37804]\n",
      "activity Technology\n",
      "predicted_profit [98.83949]\n",
      "activity Technology\n",
      "predicted_profit [97.33631]\n",
      "activity Technology\n",
      "predicted_profit [97.33631]\n",
      "activity Finance\n",
      "predicted_profit [83.18572]\n",
      "activity Technology\n",
      "predicted_profit [85.31423]\n",
      "activity Finance\n",
      "activity Technology\n",
      "predicted_profit [83.37804]\n",
      "predicted_profit [56.94652]\n",
      "activity Technology\n",
      "activity Technology\n",
      "predicted_profit [98.83949]\n",
      "predicted_profit [100.391136]\n",
      "activityactivity Technology\n",
      " Technology\n",
      "predicted_profit [98.83949]\n",
      "predicted_profit [97.33631]\n",
      "activity Technology\n",
      "predicted_profit [97.33631]\n",
      "activity Finance\n",
      "predicted_profit [83.18572]\n",
      "activity Technology\n",
      "predicted_profit [85.31423]\n",
      "activity Technology\n",
      "predicted_profit [56.94652]\n",
      "activity Technology\n",
      "predicted_profit [100.391136]\n",
      "activity Technology\n",
      "predicted_profit [98.83949]\n"
     ]
    },
    {
     "name": "stderr",
     "output_type": "stream",
     "text": [
      "127.0.0.1 - - [08/May/2024 23:01:22] \"POST /recommend_companies HTTP/1.1\" 200 -\n",
      "127.0.0.1 - - [08/May/2024 23:01:22] \"POST /recommend_companies HTTP/1.1\" 200 -\n"
     ]
    },
    {
     "name": "stdout",
     "output_type": "stream",
     "text": [
      "Technology\n",
      "Technology\n",
      "Mean Squared Error on the validation set with XGBoost: 101.54817039817044\n",
      "activity Finance\n",
      "predicted_profit [83.37804]\n",
      "activity Technology\n",
      "predicted_profit [98.83949]\n",
      "activity Technology\n",
      "predicted_profit [97.33631]\n",
      "activity Technology\n",
      "predicted_profit [97.33631]\n",
      "activity Finance\n",
      "predicted_profit [83.18572]\n",
      "activity Technology\n",
      "predicted_profit [85.31423]\n",
      "activity Technology\n",
      "predicted_profit [56.94652]\n",
      "activity Technology\n",
      "predicted_profit [100.391136]\n",
      "activity Technology\n",
      "predicted_profit [98.83949]\n"
     ]
    },
    {
     "name": "stderr",
     "output_type": "stream",
     "text": [
      "127.0.0.1 - - [08/May/2024 23:02:13] \"OPTIONS /recommend_companies HTTP/1.1\" 200 -\n",
      "127.0.0.1 - - [08/May/2024 23:02:17] \"POST /recommend_companies HTTP/1.1\" 200 -\n"
     ]
    },
    {
     "name": "stdout",
     "output_type": "stream",
     "text": [
      "Technology\n",
      "Mean Squared Error on the validation set with XGBoost: 101.54817039817044\n",
      "Mean Squared Error on the validation set with XGBoost: 101.54817039817044\n",
      "Mean Squared Error on the validation set with XGBoost: 101.54817039817044\n",
      "Mean Squared Error on the validation set with XGBoost: 101.54817039817044\n",
      "activity Finance\n",
      "predicted_profit [83.37804]\n",
      "activity Technology\n",
      "predicted_profit [98.83949]\n",
      "activity Technology\n",
      "predicted_profit [97.33631]\n",
      "activity Technology\n",
      "predicted_profit [97.33631]\n",
      "activity Finance\n",
      "predicted_profit [83.18572]\n",
      "activity Technology\n",
      "predicted_profit [85.31423]\n",
      "activity Technology\n",
      "predicted_profit [56.94652]\n",
      "activity Technology\n",
      "predicted_profit [100.391136]\n",
      "activity Technology\n",
      "predicted_profit [98.83949]\n",
      "activity Finance\n",
      "predicted_profit [83.37804]\n",
      "activity Technology\n",
      "predicted_profit [98.83949]\n",
      "activity Technology\n",
      "predicted_profit [97.33631]\n",
      "activity Technology\n",
      "predicted_profit [97.33631]\n",
      "activity Finance\n",
      "activity Finance\n",
      "predicted_profit [83.18572]\n",
      "activity Technology\n",
      "predicted_profit [83.37804]\n",
      "activity Technology\n",
      "predicted_profit [85.31423]\n",
      "activity Technology\n",
      "predicted_profit [98.83949]\n",
      "activitypredicted_profit  [56.94652]\n",
      "Technology\n",
      "activity Technology\n",
      "predicted_profitpredicted_profit [97.33631]\n",
      " [100.391136]\n",
      "activity Technology\n",
      "activity Technology\n",
      "predicted_profitpredicted_profit  [98.83949]\n",
      "[97.33631]\n",
      "activity Finance\n",
      "predicted_profit [83.18572]\n",
      "activity Technology\n",
      "predicted_profit [85.31423]\n",
      "activity Technology\n",
      "predicted_profit [56.94652]\n",
      "activity Technology\n",
      "predicted_profit [100.391136]\n",
      "activity Technology\n",
      "predicted_profit [98.83949]\n",
      "activity Finance\n",
      "predicted_profit [83.37804]\n",
      "activity Technology\n",
      "predicted_profit [98.83949]\n",
      "activity Technology\n",
      "predicted_profit [97.33631]\n",
      "activity Technology\n",
      "predicted_profit [97.33631]\n",
      "activity Finance\n",
      "predicted_profit [83.18572]\n",
      "activity Technology\n",
      "predicted_profit [85.31423]\n",
      "activity Technology\n",
      "predicted_profit [56.94652]\n",
      "activity Technology\n",
      "predicted_profit [100.391136]\n",
      "activity Technology\n",
      "predicted_profit [98.83949]\n"
     ]
    },
    {
     "name": "stderr",
     "output_type": "stream",
     "text": [
      "127.0.0.1 - - [08/May/2024 23:02:46] \"POST /recommend_companies HTTP/1.1\" 200 -\n"
     ]
    },
    {
     "name": "stdout",
     "output_type": "stream",
     "text": [
      "Technology\n"
     ]
    },
    {
     "name": "stderr",
     "output_type": "stream",
     "text": [
      "127.0.0.1 - - [08/May/2024 23:02:47] \"POST /recommend_companies HTTP/1.1\" 200 -\n",
      "127.0.0.1 - - [08/May/2024 23:02:47] \"POST /recommend_companies HTTP/1.1\" 200 -\n",
      "127.0.0.1 - - [08/May/2024 23:02:47] \"POST /recommend_companies HTTP/1.1\" 200 -\n"
     ]
    },
    {
     "name": "stdout",
     "output_type": "stream",
     "text": [
      "Technology\n",
      "Technology\n",
      "Technology\n",
      "Mean Squared Error on the validation set with XGBoost: 101.54817039817044\n",
      "activity Finance\n",
      "predicted_profit [83.37804]\n",
      "activity Technology\n",
      "predicted_profit [98.83949]\n",
      "activity Technology\n",
      "predicted_profit [97.33631]\n",
      "activity Technology\n",
      "predicted_profit [97.33631]\n",
      "activity Finance\n",
      "predicted_profit [83.18572]\n",
      "activity Technology\n",
      "predicted_profit [85.31423]\n",
      "activity Technology\n",
      "predicted_profit [56.94652]\n",
      "activity Technology\n",
      "predicted_profit [100.391136]\n",
      "activity Technology\n",
      "predicted_profit [98.83949]\n"
     ]
    },
    {
     "name": "stderr",
     "output_type": "stream",
     "text": [
      "127.0.0.1 - - [08/May/2024 23:03:24] \"POST /recommend_companies HTTP/1.1\" 200 -\n"
     ]
    },
    {
     "name": "stdout",
     "output_type": "stream",
     "text": [
      "Technology\n"
     ]
    },
    {
     "name": "stderr",
     "output_type": "stream",
     "text": [
      "127.0.0.1 - - [08/May/2024 23:04:39] \"OPTIONS /recommend_companies HTTP/1.1\" 200 -\n",
      "127.0.0.1 - - [08/May/2024 23:04:51] \"OPTIONS /recommend_companies HTTP/1.1\" 200 -\n",
      "127.0.0.1 - - [08/May/2024 23:05:41] \"OPTIONS /recommend_companies HTTP/1.1\" 200 -\n",
      "127.0.0.1 - - [08/May/2024 23:06:45] \"OPTIONS /recommend_companies HTTP/1.1\" 200 -\n",
      "127.0.0.1 - - [08/May/2024 23:07:01] \"OPTIONS /recommend_companies HTTP/1.1\" 200 -\n",
      "127.0.0.1 - - [08/May/2024 23:07:20] \"OPTIONS /recommend_companies HTTP/1.1\" 200 -\n",
      "127.0.0.1 - - [08/May/2024 23:07:35] \"OPTIONS /recommend_companies HTTP/1.1\" 200 -\n",
      "127.0.0.1 - - [08/May/2024 23:08:17] \"OPTIONS /recommend_companies HTTP/1.1\" 200 -\n",
      "127.0.0.1 - - [08/May/2024 23:08:35] \"OPTIONS /recommend_companies HTTP/1.1\" 200 -\n",
      "127.0.0.1 - - [08/May/2024 23:08:59] \"OPTIONS /recommend_companies HTTP/1.1\" 200 -\n",
      "127.0.0.1 - - [08/May/2024 23:09:29] \"OPTIONS /recommend_companies HTTP/1.1\" 200 -\n",
      "127.0.0.1 - - [08/May/2024 23:11:10] \"OPTIONS /recommend_companies HTTP/1.1\" 200 -\n"
     ]
    },
    {
     "name": "stdout",
     "output_type": "stream",
     "text": [
      "Mean Squared Error on the validation set with XGBoost: 101.54817039817044\n",
      "activity Finance\n",
      "predicted_profit [83.37804]\n",
      "activity Technology\n",
      "predicted_profit [98.83949]\n",
      "activity Technology\n",
      "predicted_profit [97.33631]\n",
      "activity Technology\n",
      "predicted_profit [97.33631]\n",
      "activity Finance\n",
      "predicted_profit [83.18572]\n",
      "activity Technology\n",
      "predicted_profit [85.31423]\n",
      "activity Technology\n",
      "predicted_profit [56.94652]\n",
      "activity Technology\n",
      "predicted_profit [100.391136]\n",
      "activity Technology\n",
      "predicted_profit [98.83949]\n"
     ]
    },
    {
     "name": "stderr",
     "output_type": "stream",
     "text": [
      "127.0.0.1 - - [08/May/2024 23:13:24] \"POST /recommend_companies HTTP/1.1\" 200 -\n"
     ]
    },
    {
     "name": "stdout",
     "output_type": "stream",
     "text": [
      "Technology\n",
      "Mean Squared Error on the validation set with XGBoost: 101.54817039817044\n",
      "Mean Squared Error on the validation set with XGBoost: 101.54817039817044\n",
      "activity Finance\n",
      "predicted_profit [83.37804]\n",
      "activity Technology\n",
      "predicted_profit [98.83949]\n",
      "activity Technology\n",
      "predicted_profit [97.33631]\n",
      "activity Technology\n",
      "predicted_profit [97.33631]\n",
      "activity Finance\n",
      "predicted_profit [83.18572]\n",
      "activity Technology\n",
      "predicted_profit [85.31423]\n",
      "activity Technology\n",
      "predicted_profit [56.94652]\n",
      "activity Technology\n",
      "predicted_profit [100.391136]\n",
      "activity Technology\n",
      "predicted_profit [98.83949]\n",
      "activity Finance\n",
      "predicted_profit [83.37804]\n",
      "activity Technology\n",
      "predicted_profit [98.83949]\n",
      "activity Technology\n",
      "predicted_profit [97.33631]\n",
      "activity Technology\n",
      "predicted_profit [97.33631]\n",
      "activity Finance\n",
      "predicted_profit [83.18572]\n",
      "activity Technology\n",
      "predicted_profit [85.31423]\n",
      "activity Technology\n",
      "predicted_profit [56.94652]\n",
      "activity Technology\n",
      "predicted_profit [100.391136]\n",
      "activity Technology\n",
      "predicted_profit [98.83949]\n"
     ]
    },
    {
     "name": "stderr",
     "output_type": "stream",
     "text": [
      "127.0.0.1 - - [08/May/2024 23:13:39] \"POST /recommend_companies HTTP/1.1\" 200 -\n"
     ]
    },
    {
     "name": "stdout",
     "output_type": "stream",
     "text": [
      "Technology\n",
      "Mean Squared Error on the validation set with XGBoost: 101.54817039817044\n"
     ]
    },
    {
     "name": "stderr",
     "output_type": "stream",
     "text": [
      "127.0.0.1 - - [08/May/2024 23:13:42] \"POST /recommend_companies HTTP/1.1\" 200 -\n"
     ]
    },
    {
     "name": "stdout",
     "output_type": "stream",
     "text": [
      "Technology\n",
      "Mean Squared Error on the validation set with XGBoost: 101.54817039817044\n",
      "activity Finance\n",
      "predicted_profit [83.37804]\n",
      "activity Technology\n",
      "predicted_profit [98.83949]\n",
      "activity Technology\n",
      "predicted_profit [97.33631]\n",
      "activity Technology\n",
      "predicted_profit [97.33631]\n",
      "activity Finance\n",
      "predicted_profit [83.18572]\n",
      "activity Technology\n",
      "predicted_profit [85.31423]\n",
      "activity Technology\n",
      "predicted_profit [56.94652]\n",
      "activity Technology\n",
      "predicted_profit [100.391136]\n",
      "activity Technology\n",
      "predicted_profit [98.83949]\n",
      "Mean Squared Error on the validation set with XGBoost: 101.54817039817044\n",
      "activity Finance\n",
      "predicted_profit [83.37804]\n",
      "activity Technology\n",
      "predicted_profit [98.83949]\n",
      "activity Technology\n",
      "predicted_profit [97.33631]\n",
      "activity Technology\n",
      "predicted_profit [97.33631]\n",
      "activity Finance\n",
      "predicted_profit [83.18572]\n",
      "activity Technology\n",
      "predicted_profit [85.31423]\n",
      "activity Technology\n",
      "predicted_profit [56.94652]\n",
      "activity Technology\n",
      "predicted_profit [100.391136]\n",
      "activity Technology\n",
      "predicted_profit [98.83949]\n"
     ]
    },
    {
     "name": "stderr",
     "output_type": "stream",
     "text": [
      "127.0.0.1 - - [08/May/2024 23:13:54] \"POST /recommend_companies HTTP/1.1\" 200 -\n"
     ]
    },
    {
     "name": "stdout",
     "output_type": "stream",
     "text": [
      "Technology\n",
      "Mean Squared Error on the validation set with XGBoost: 101.54817039817044\n",
      "activity Finance\n",
      "predicted_profit [83.37804]\n",
      "activity Technology\n",
      "predicted_profit [98.83949]\n",
      "activity Technology\n",
      "predicted_profit [97.33631]\n",
      "activity Technology\n",
      "predicted_profit [97.33631]\n",
      "activity Finance\n",
      "predicted_profit [83.18572]\n",
      "activity Technology\n",
      "predicted_profit [85.31423]\n",
      "activity Technology\n",
      "predicted_profit [56.94652]\n",
      "activity Technology\n",
      "predicted_profit [100.391136]\n",
      "activity Technology\n",
      "predicted_profit [98.83949]\n"
     ]
    },
    {
     "name": "stderr",
     "output_type": "stream",
     "text": [
      "127.0.0.1 - - [08/May/2024 23:14:00] \"POST /recommend_companies HTTP/1.1\" 200 -\n"
     ]
    },
    {
     "name": "stdout",
     "output_type": "stream",
     "text": [
      "Technology\n"
     ]
    },
    {
     "name": "stderr",
     "output_type": "stream",
     "text": [
      "127.0.0.1 - - [08/May/2024 23:14:02] \"POST /recommend_companies HTTP/1.1\" 200 -\n"
     ]
    },
    {
     "name": "stdout",
     "output_type": "stream",
     "text": [
      "activity Finance\n",
      "predicted_profit [83.37804]\n",
      "activity Technology\n",
      "predicted_profit [98.83949]\n",
      "activity Technology\n",
      "Technology\n",
      "predicted_profit [97.33631]\n",
      "activity Technology\n",
      "predicted_profit [97.33631]\n",
      "activity Finance\n",
      "predicted_profit [83.18572]\n",
      "activity Technology\n",
      "predicted_profit [85.31423]\n",
      "activity Technology\n",
      "predicted_profit [56.94652]\n",
      "activity Technology\n",
      "predicted_profit [100.391136]\n",
      "activity Technology\n",
      "predicted_profit [98.83949]\n"
     ]
    },
    {
     "name": "stderr",
     "output_type": "stream",
     "text": [
      "127.0.0.1 - - [08/May/2024 23:14:08] \"POST /recommend_companies HTTP/1.1\" 200 -\n"
     ]
    },
    {
     "name": "stdout",
     "output_type": "stream",
     "text": [
      "Technology\n",
      "Mean Squared Error on the validation set with XGBoost: 101.54817039817044\n",
      "activity Finance\n",
      "predicted_profit [83.37804]\n",
      "activity Technology\n",
      "predicted_profit [98.83949]\n",
      "activity Technology\n",
      "predicted_profit [97.33631]\n",
      "activity Technology\n",
      "predicted_profit [97.33631]\n",
      "activity Finance\n",
      "predicted_profit [83.18572]\n",
      "activity Technology\n",
      "predicted_profit [85.31423]\n",
      "activity Technology\n",
      "predicted_profit [56.94652]\n",
      "activity Technology\n",
      "predicted_profit [100.391136]\n",
      "activity Technology\n",
      "predicted_profit [98.83949]\n"
     ]
    },
    {
     "name": "stderr",
     "output_type": "stream",
     "text": [
      "127.0.0.1 - - [08/May/2024 23:14:35] \"POST /recommend_companies HTTP/1.1\" 200 -\n"
     ]
    },
    {
     "name": "stdout",
     "output_type": "stream",
     "text": [
      "Technology\n"
     ]
    },
    {
     "name": "stderr",
     "output_type": "stream",
     "text": [
      "127.0.0.1 - - [08/May/2024 23:15:17] \"OPTIONS /recommend_companies HTTP/1.1\" 200 -\n",
      "127.0.0.1 - - [08/May/2024 23:16:30] \"OPTIONS /recommend_companies HTTP/1.1\" 200 -\n",
      "127.0.0.1 - - [08/May/2024 23:16:30] \"OPTIONS /recommend_companies HTTP/1.1\" 200 -\n"
     ]
    },
    {
     "name": "stdout",
     "output_type": "stream",
     "text": [
      "Mean Squared Error on the validation set with XGBoost: 101.54817039817044\n",
      "activity Finance\n",
      "predicted_profit [83.37804]\n",
      "activity Technology\n",
      "predicted_profit [98.83949]\n",
      "activity Technology\n",
      "predicted_profit [97.33631]\n",
      "activity Technology\n",
      "predicted_profit [97.33631]\n",
      "activity Finance\n",
      "predicted_profit [83.18572]\n",
      "activity Technology\n",
      "predicted_profit [85.31423]\n",
      "activity Technology\n",
      "predicted_profit [56.94652]\n",
      "activity Technology\n",
      "predicted_profit [100.391136]\n",
      "activity Technology\n",
      "predicted_profit [98.83949]\n"
     ]
    },
    {
     "name": "stderr",
     "output_type": "stream",
     "text": [
      "127.0.0.1 - - [08/May/2024 23:17:10] \"POST /recommend_companies HTTP/1.1\" 200 -\n"
     ]
    },
    {
     "name": "stdout",
     "output_type": "stream",
     "text": [
      "Technology\n",
      "Mean Squared Error on the validation set with XGBoost: 101.54817039817044\n",
      "activity Finance\n",
      "predicted_profit [83.37804]\n",
      "activity Technology\n",
      "predicted_profit [98.83949]\n",
      "activity Technology\n",
      "predicted_profit [97.33631]\n",
      "activity Technology\n",
      "predicted_profit [97.33631]\n",
      "activity Finance\n",
      "predicted_profit [83.18572]\n",
      "activity Technology\n",
      "predicted_profit [85.31423]\n",
      "activity Technology\n",
      "predicted_profit [56.94652]\n",
      "activity Technology\n",
      "predicted_profit [100.391136]\n",
      "activity Technology\n",
      "predicted_profit [98.83949]\n"
     ]
    },
    {
     "name": "stderr",
     "output_type": "stream",
     "text": [
      "127.0.0.1 - - [08/May/2024 23:18:35] \"POST /recommend_companies HTTP/1.1\" 200 -\n"
     ]
    },
    {
     "name": "stdout",
     "output_type": "stream",
     "text": [
      "Technology\n",
      "Mean Squared Error on the validation set with XGBoost: 101.54817039817044\n"
     ]
    },
    {
     "name": "stderr",
     "output_type": "stream",
     "text": [
      "127.0.0.1 - - [08/May/2024 23:18:45] \"OPTIONS /recommend_companies HTTP/1.1\" 200 -\n"
     ]
    },
    {
     "name": "stdout",
     "output_type": "stream",
     "text": [
      "activity Finance\n",
      "predicted_profit [83.37804]\n",
      "activity Technology\n",
      "predicted_profit [98.83949]\n",
      "activity Technology\n",
      "predicted_profit [97.33631]\n",
      "activity Technology\n",
      "predicted_profit [97.33631]\n",
      "activity Finance\n",
      "predicted_profit [83.18572]\n",
      "activity Technology\n",
      "predicted_profit [85.31423]\n",
      "activity Technology\n",
      "predicted_profit [56.94652]\n",
      "activity Technology\n",
      "predicted_profit [100.391136]\n",
      "activity Technology\n",
      "predicted_profit [98.83949]\n"
     ]
    },
    {
     "name": "stderr",
     "output_type": "stream",
     "text": [
      "127.0.0.1 - - [08/May/2024 23:18:57] \"POST /recommend_companies HTTP/1.1\" 200 -\n"
     ]
    },
    {
     "name": "stdout",
     "output_type": "stream",
     "text": [
      "Technology\n",
      "Mean Squared Error on the validation set with XGBoost: 101.54817039817044\n",
      "activity Finance\n",
      "predicted_profit [83.37804]\n",
      "activity Technology\n",
      "predicted_profit [98.83949]\n",
      "activity Technology\n",
      "predicted_profit [97.33631]\n",
      "activity Technology\n",
      "predicted_profit [97.33631]\n",
      "activity Finance\n",
      "predicted_profit [83.18572]\n",
      "activity Technology\n",
      "predicted_profit [85.31423]\n",
      "activity Technology\n",
      "predicted_profit [56.94652]\n",
      "activity Technology\n",
      "predicted_profit [100.391136]\n",
      "activity Technology\n",
      "predicted_profit [98.83949]\n"
     ]
    },
    {
     "name": "stderr",
     "output_type": "stream",
     "text": [
      "127.0.0.1 - - [08/May/2024 23:19:24] \"POST /recommend_companies HTTP/1.1\" 200 -\n"
     ]
    },
    {
     "name": "stdout",
     "output_type": "stream",
     "text": [
      "Technology\n",
      "Mean Squared Error on the validation set with XGBoost: 101.54817039817044\n",
      "activity Finance\n",
      "predicted_profit [83.37804]\n",
      "activity Technology\n",
      "predicted_profit [98.83949]\n",
      "activity Technology\n",
      "predicted_profit [97.33631]\n",
      "activity Technology\n",
      "predicted_profit [97.33631]\n",
      "activity Finance\n",
      "predicted_profit [83.18572]\n",
      "activity Technology\n",
      "predicted_profit [85.31423]\n",
      "activity Technology\n",
      "predicted_profit [56.94652]\n",
      "activity Technology\n",
      "predicted_profit [100.391136]\n",
      "activity Technology\n",
      "predicted_profit [98.83949]\n",
      "Mean Squared Error on the validation set with XGBoost: 101.54817039817044\n"
     ]
    },
    {
     "name": "stderr",
     "output_type": "stream",
     "text": [
      "127.0.0.1 - - [08/May/2024 23:20:33] \"POST /recommend_companies HTTP/1.1\" 200 -\n"
     ]
    },
    {
     "name": "stdout",
     "output_type": "stream",
     "text": [
      "Technology\n",
      "activity Finance\n",
      "predicted_profit [83.37804]\n",
      "activity Technology\n",
      "predicted_profit [98.83949]\n",
      "activity Technology\n",
      "predicted_profit [97.33631]\n",
      "activity Technology\n",
      "predicted_profit [97.33631]\n",
      "activity Finance\n",
      "predicted_profit [83.18572]\n",
      "activity Technology\n",
      "predicted_profit [85.31423]\n",
      "activity Technology\n",
      "predicted_profit [56.94652]\n",
      "activity Technology\n",
      "predicted_profit [100.391136]\n",
      "activity Technology\n",
      "predicted_profit [98.83949]\n"
     ]
    },
    {
     "name": "stderr",
     "output_type": "stream",
     "text": [
      "127.0.0.1 - - [08/May/2024 23:20:40] \"POST /recommend_companies HTTP/1.1\" 200 -\n",
      "127.0.0.1 - - [08/May/2024 23:20:40] \"OPTIONS /recommend_companies HTTP/1.1\" 200 -\n",
      "127.0.0.1 - - [08/May/2024 23:20:40] \"OPTIONS /recommend_companies HTTP/1.1\" 200 -\n"
     ]
    },
    {
     "name": "stdout",
     "output_type": "stream",
     "text": [
      "Technology\n",
      "Mean Squared Error on the validation set with XGBoost: 101.54817039817044\n",
      "Mean Squared Error on the validation set with XGBoost: 101.54817039817044\n",
      "activity Finance\n",
      "predicted_profit [83.37804]\n",
      "activity Technology\n",
      "predicted_profit [98.83949]\n",
      "activity Technology\n",
      "predicted_profit [97.33631]\n",
      "activity Technology\n",
      "predicted_profit [97.33631]\n",
      "activity Finance\n",
      "predicted_profit [83.18572]\n",
      "activity Technology\n",
      "predicted_profit [85.31423]\n",
      "activity Technology\n",
      "predicted_profit [56.94652]\n",
      "activity Technology\n",
      "predicted_profit [100.391136]\n",
      "activity Technology\n",
      "predicted_profit [98.83949]\n",
      "activity Finance\n",
      "predicted_profit [83.37804]\n",
      "activity Technology\n",
      "predicted_profit [98.83949]\n",
      "activity Technology\n",
      "predicted_profit [97.33631]\n",
      "activity Technology\n",
      "predicted_profit [97.33631]\n",
      "activity Finance\n",
      "predicted_profit [83.18572]\n",
      "activity Technology\n",
      "predicted_profit [85.31423]\n",
      "activity Technology\n",
      "predicted_profit [56.94652]\n",
      "activity Technology\n",
      "predicted_profit [100.391136]\n",
      "activity Technology\n",
      "predicted_profit [98.83949]\n"
     ]
    },
    {
     "name": "stderr",
     "output_type": "stream",
     "text": [
      "127.0.0.1 - - [08/May/2024 23:21:05] \"POST /recommend_companies HTTP/1.1\" 200 -\n"
     ]
    },
    {
     "name": "stdout",
     "output_type": "stream",
     "text": [
      "Technology\n"
     ]
    },
    {
     "name": "stderr",
     "output_type": "stream",
     "text": [
      "127.0.0.1 - - [08/May/2024 23:21:07] \"POST /recommend_companies HTTP/1.1\" 200 -\n"
     ]
    },
    {
     "name": "stdout",
     "output_type": "stream",
     "text": [
      "Technology\n"
     ]
    },
    {
     "name": "stderr",
     "output_type": "stream",
     "text": [
      "127.0.0.1 - - [08/May/2024 23:21:19] \"OPTIONS /recommend_companies HTTP/1.1\" 200 -\n"
     ]
    },
    {
     "name": "stdout",
     "output_type": "stream",
     "text": [
      "Mean Squared Error on the validation set with XGBoost: 101.54817039817044\n",
      "Mean Squared Error on the validation set with XGBoost: 101.54817039817044\n",
      "Mean Squared Error on the validation set with XGBoost: 101.54817039817044\n",
      "activity Finance\n",
      "predicted_profit [83.37804]\n",
      "activity Finance\n",
      "activity Technology\n",
      "predicted_profit [83.37804]\n",
      "activity Technology\n",
      "predicted_profit [98.83949]\n",
      "activity Technology\n",
      "predicted_profit [98.83949]\n",
      "activitypredicted_profit Technology [97.33631]\n",
      "\n",
      "activity Technology\n",
      "predicted_profit [97.33631]\n",
      "predicted_profitactivity  Technology\n",
      "[97.33631]\n",
      "predicted_profit [97.33631]\n",
      "activity Finance\n",
      "activity Finance\n",
      "predicted_profit [83.18572]\n",
      "activity Technology\n",
      "predicted_profit [83.18572]\n",
      "predicted_profit [85.31423]\n",
      "activity Technology\n",
      "activity Technology\n",
      "predicted_profitpredicted_profit [56.94652]\n",
      " [85.31423]\n",
      "activityactivity Technology\n",
      " Technology\n",
      "predicted_profitpredicted_profit [56.94652]\n",
      " [100.391136]\n",
      "activity Technology\n",
      "activity Technology\n",
      "predicted_profit [100.391136]\n",
      "predicted_profit [98.83949]\n",
      "activity Technology\n",
      "predicted_profit [98.83949]\n",
      "activity Finance\n",
      "predicted_profit [83.37804]\n",
      "activity Technology\n",
      "predicted_profit [98.83949]\n",
      "activity Technology\n",
      "predicted_profit [97.33631]\n",
      "activity Technology\n",
      "predicted_profit [97.33631]\n",
      "activity Finance\n",
      "predicted_profit [83.18572]\n",
      "activity Technology\n",
      "predicted_profit [85.31423]\n",
      "activity Technology\n",
      "predicted_profit [56.94652]\n",
      "activity Technology\n",
      "predicted_profit [100.391136]\n",
      "activity Technology\n",
      "predicted_profit [98.83949]\n"
     ]
    },
    {
     "name": "stderr",
     "output_type": "stream",
     "text": [
      "127.0.0.1 - - [08/May/2024 23:21:51] \"POST /recommend_companies HTTP/1.1\" 200 -\n",
      "127.0.0.1 - - [08/May/2024 23:21:51] \"POST /recommend_companies HTTP/1.1\" 200 -\n"
     ]
    },
    {
     "name": "stdout",
     "output_type": "stream",
     "text": [
      "Technology\n",
      "Technology\n",
      "Mean Squared Error on the validation set with XGBoost: 101.54817039817044\n"
     ]
    },
    {
     "name": "stderr",
     "output_type": "stream",
     "text": [
      "127.0.0.1 - - [08/May/2024 23:21:55] \"POST /recommend_companies HTTP/1.1\" 200 -\n"
     ]
    },
    {
     "name": "stdout",
     "output_type": "stream",
     "text": [
      "Technology\n",
      "activity Finance\n",
      "predicted_profit [83.37804]\n",
      "activity Technology\n",
      "predicted_profit [98.83949]\n",
      "activity Technology\n",
      "predicted_profit [97.33631]\n",
      "activity Technology\n",
      "predicted_profit [97.33631]\n",
      "activity Finance\n",
      "predicted_profit [83.18572]\n",
      "activity Technology\n",
      "predicted_profit [85.31423]\n",
      "activity Technology\n",
      "predicted_profit [56.94652]\n",
      "activity Technology\n",
      "predicted_profit [100.391136]\n",
      "activity Technology\n",
      "predicted_profit [98.83949]\n",
      "Mean Squared Error on the validation set with XGBoost: 101.54817039817044\n"
     ]
    },
    {
     "name": "stderr",
     "output_type": "stream",
     "text": [
      "127.0.0.1 - - [08/May/2024 23:22:05] \"POST /recommend_companies HTTP/1.1\" 200 -\n"
     ]
    },
    {
     "name": "stdout",
     "output_type": "stream",
     "text": [
      "Technology\n",
      "activity Finance\n",
      "predicted_profit [83.37804]\n",
      "activity Technology\n",
      "predicted_profit [98.83949]\n",
      "activity Technology\n",
      "predicted_profit [97.33631]\n",
      "activity Technology\n",
      "predicted_profit [97.33631]\n",
      "activity Finance\n",
      "predicted_profit [83.18572]\n",
      "activity Technology\n",
      "predicted_profit [85.31423]\n",
      "activity Technology\n",
      "predicted_profit [56.94652]\n",
      "activity Technology\n",
      "predicted_profit [100.391136]\n",
      "activity Technology\n",
      "predicted_profit [98.83949]\n"
     ]
    },
    {
     "name": "stderr",
     "output_type": "stream",
     "text": [
      "127.0.0.1 - - [08/May/2024 23:22:13] \"POST /recommend_companies HTTP/1.1\" 200 -\n"
     ]
    },
    {
     "name": "stdout",
     "output_type": "stream",
     "text": [
      "Technology\n",
      "Mean Squared Error on the validation set with XGBoost: 101.54817039817044\n",
      "activity Finance\n",
      "predicted_profit [83.37804]\n",
      "activity Technology\n",
      "predicted_profit [98.83949]\n",
      "activity Technology\n",
      "predicted_profit [97.33631]\n",
      "activity Technology\n",
      "predicted_profit [97.33631]\n",
      "activity Finance\n",
      "predicted_profit [83.18572]\n",
      "activity Technology\n",
      "predicted_profit [85.31423]\n",
      "activity Technology\n",
      "predicted_profit [56.94652]\n",
      "activity Technology\n",
      "predicted_profit [100.391136]\n",
      "activity Technology\n",
      "predicted_profit [98.83949]\n"
     ]
    },
    {
     "name": "stderr",
     "output_type": "stream",
     "text": [
      "127.0.0.1 - - [08/May/2024 23:22:37] \"POST /recommend_companies HTTP/1.1\" 200 -\n"
     ]
    },
    {
     "name": "stdout",
     "output_type": "stream",
     "text": [
      "Technology\n",
      "Mean Squared Error on the validation set with XGBoost: 101.54817039817044\n",
      "activity Finance\n",
      "predicted_profit [83.37804]\n",
      "activity Technology\n",
      "predicted_profit [98.83949]\n",
      "activity Technology\n",
      "predicted_profit [97.33631]\n",
      "activity Technology\n",
      "predicted_profit [97.33631]\n",
      "activity Finance\n",
      "predicted_profit [83.18572]\n",
      "activity Technology\n",
      "predicted_profit [85.31423]\n",
      "activity Technology\n",
      "predicted_profit [56.94652]\n",
      "activity Technology\n",
      "predicted_profit [100.391136]\n",
      "activity Technology\n",
      "predicted_profit [98.83949]\n"
     ]
    },
    {
     "name": "stderr",
     "output_type": "stream",
     "text": [
      "127.0.0.1 - - [08/May/2024 23:23:11] \"POST /recommend_companies HTTP/1.1\" 200 -\n"
     ]
    },
    {
     "name": "stdout",
     "output_type": "stream",
     "text": [
      "Technology\n",
      "Mean Squared Error on the validation set with XGBoost: 101.54817039817044\n",
      "Mean Squared Error on the validation set with XGBoost: 101.54817039817044\n",
      "activity Finance\n",
      "predicted_profit [83.37804]\n",
      "activity Technology\n",
      "predicted_profit [98.83949]\n",
      "activity Technology\n",
      "predicted_profit [97.33631]\n",
      "activity Technology\n",
      "predicted_profit [97.33631]\n",
      "activity Finance\n",
      "predicted_profit [83.18572]\n",
      "activity Technology\n",
      "predicted_profit [85.31423]\n",
      "activity Technology\n",
      "predicted_profit [56.94652]\n",
      "activity Technology\n",
      "predicted_profit [100.391136]\n",
      "activity Technology\n",
      "predicted_profit [98.83949]\n",
      "activity Finance\n",
      "predicted_profit [83.37804]\n",
      "activity Technology\n",
      "predicted_profit [98.83949]\n",
      "activity Technology\n",
      "predicted_profit [97.33631]\n",
      "activity Technology\n",
      "predicted_profit [97.33631]\n",
      "activity Finance\n",
      "predicted_profit [83.18572]\n",
      "activity Technology\n",
      "predicted_profit [85.31423]\n",
      "activity Technology\n",
      "predicted_profit [56.94652]\n",
      "activity Technology\n",
      "predicted_profit [100.391136]\n",
      "activity Technology\n",
      "predicted_profit [98.83949]\n"
     ]
    },
    {
     "name": "stderr",
     "output_type": "stream",
     "text": [
      "127.0.0.1 - - [08/May/2024 23:23:51] \"POST /recommend_companies HTTP/1.1\" 200 -\n"
     ]
    },
    {
     "name": "stdout",
     "output_type": "stream",
     "text": [
      "Technology\n"
     ]
    },
    {
     "name": "stderr",
     "output_type": "stream",
     "text": [
      "127.0.0.1 - - [08/May/2024 23:23:53] \"POST /recommend_companies HTTP/1.1\" 200 -\n"
     ]
    },
    {
     "name": "stdout",
     "output_type": "stream",
     "text": [
      "Technology\n",
      "Mean Squared Error on the validation set with XGBoost: 101.54817039817044\n",
      "Mean Squared Error on the validation set with XGBoost: 101.54817039817044\n",
      "activity Finance\n",
      "predicted_profit [83.37804]\n",
      "activity Technology\n",
      "predicted_profit [98.83949]\n",
      "activity Technology\n",
      "predicted_profit [97.33631]\n",
      "activity Technology\n",
      "predicted_profit [97.33631]\n",
      "activity Finance\n",
      "predicted_profit [83.18572]\n",
      "activity Technology\n",
      "predicted_profit [85.31423]\n",
      "activity Technology\n",
      "predicted_profit [56.94652]\n",
      "activity Technology\n",
      "predicted_profit [100.391136]\n",
      "activity Technology\n",
      "predicted_profit [98.83949]\n",
      "activity Finance\n",
      "predicted_profit [83.37804]\n",
      "activity Technology\n",
      "predicted_profit [98.83949]\n",
      "activity Technology\n",
      "predicted_profit [97.33631]\n",
      "activity Technology\n",
      "predicted_profit [97.33631]\n",
      "activity Finance\n",
      "predicted_profit [83.18572]\n",
      "activity Technology\n",
      "predicted_profit [85.31423]\n",
      "activity Technology\n",
      "predicted_profit [56.94652]\n",
      "activity Technology\n",
      "predicted_profit [100.391136]\n",
      "activity Technology\n",
      "predicted_profit [98.83949]\n"
     ]
    },
    {
     "name": "stderr",
     "output_type": "stream",
     "text": [
      "127.0.0.1 - - [08/May/2024 23:24:08] \"POST /recommend_companies HTTP/1.1\" 200 -\n"
     ]
    },
    {
     "name": "stdout",
     "output_type": "stream",
     "text": [
      "Technology\n",
      "Mean Squared Error on the validation set with XGBoost: 101.54817039817044\n"
     ]
    },
    {
     "name": "stderr",
     "output_type": "stream",
     "text": [
      "127.0.0.1 - - [08/May/2024 23:24:12] \"POST /recommend_companies HTTP/1.1\" 200 -\n"
     ]
    },
    {
     "name": "stdout",
     "output_type": "stream",
     "text": [
      "Technology\n",
      "activity Finance\n",
      "predicted_profit [83.37804]\n",
      "activity Technology\n",
      "predicted_profit [98.83949]\n",
      "activity Technology\n",
      "predicted_profit [97.33631]\n",
      "activity Technology\n",
      "predicted_profit [97.33631]\n",
      "activity Finance\n",
      "predicted_profit [83.18572]\n",
      "activity Technology\n",
      "predicted_profit [85.31423]\n",
      "activity Technology\n",
      "predicted_profit [56.94652]\n",
      "activity Technology\n",
      "predicted_profit [100.391136]\n",
      "activity Technology\n",
      "predicted_profit [98.83949]\n"
     ]
    },
    {
     "name": "stderr",
     "output_type": "stream",
     "text": [
      "127.0.0.1 - - [08/May/2024 23:24:19] \"POST /recommend_companies HTTP/1.1\" 200 -\n"
     ]
    },
    {
     "name": "stdout",
     "output_type": "stream",
     "text": [
      "Technology\n"
     ]
    },
    {
     "name": "stderr",
     "output_type": "stream",
     "text": [
      "127.0.0.1 - - [08/May/2024 23:28:12] \"OPTIONS /recommend_companies HTTP/1.1\" 200 -\n",
      "127.0.0.1 - - [08/May/2024 23:28:30] \"OPTIONS /recommend_companies HTTP/1.1\" 200 -\n",
      "127.0.0.1 - - [08/May/2024 23:28:50] \"OPTIONS /recommend_companies HTTP/1.1\" 200 -\n",
      "127.0.0.1 - - [08/May/2024 23:29:08] \"OPTIONS /recommend_companies HTTP/1.1\" 200 -\n"
     ]
    },
    {
     "name": "stdout",
     "output_type": "stream",
     "text": [
      "Mean Squared Error on the validation set with XGBoost: 101.54817039817044\n",
      "activity Finance\n",
      "predicted_profit [83.37804]\n",
      "activity Technology\n",
      "predicted_profit [98.83949]\n",
      "activity Technology\n",
      "predicted_profit [97.33631]\n",
      "activity Technology\n",
      "predicted_profit [97.33631]\n",
      "activity Finance\n",
      "predicted_profit [83.18572]\n",
      "activity Technology\n",
      "predicted_profit [85.31423]\n",
      "activity Technology\n",
      "predicted_profit [56.94652]\n",
      "activity Technology\n",
      "predicted_profit [100.391136]\n",
      "activity Technology\n",
      "predicted_profit [98.83949]\n"
     ]
    },
    {
     "name": "stderr",
     "output_type": "stream",
     "text": [
      "127.0.0.1 - - [08/May/2024 23:29:52] \"POST /recommend_companies HTTP/1.1\" 200 -\n"
     ]
    },
    {
     "name": "stdout",
     "output_type": "stream",
     "text": [
      "Technology\n",
      "Mean Squared Error on the validation set with XGBoost: 101.54817039817044\n",
      "activity Finance\n",
      "predicted_profit [83.37804]\n",
      "activity Technology\n",
      "predicted_profit [98.83949]\n",
      "activity Technology\n",
      "predicted_profit [97.33631]\n",
      "activity Technology\n",
      "predicted_profit [97.33631]\n",
      "activity Finance\n",
      "predicted_profit [83.18572]\n",
      "activity Technology\n",
      "predicted_profit [85.31423]\n",
      "activity Technology\n",
      "predicted_profit [56.94652]\n",
      "activity Technology\n",
      "predicted_profit [100.391136]\n",
      "activity Technology\n",
      "predicted_profit [98.83949]\n"
     ]
    },
    {
     "name": "stderr",
     "output_type": "stream",
     "text": [
      "127.0.0.1 - - [08/May/2024 23:30:52] \"OPTIONS /recommend_companies HTTP/1.1\" 200 -\n",
      "127.0.0.1 - - [08/May/2024 23:30:55] \"POST /recommend_companies HTTP/1.1\" 200 -\n"
     ]
    },
    {
     "name": "stdout",
     "output_type": "stream",
     "text": [
      "Technology\n",
      "Mean Squared Error on the validation set with XGBoost: 101.54817039817044\n",
      "activity Finance\n",
      "predicted_profit [83.37804]\n",
      "activity Technology\n",
      "predicted_profit [98.83949]\n",
      "activity Technology\n",
      "predicted_profit [97.33631]\n",
      "activity Technology\n",
      "predicted_profit [97.33631]\n",
      "activity Finance\n",
      "predicted_profit [83.18572]\n",
      "activity Technology\n",
      "predicted_profit [85.31423]\n",
      "activity Technology\n",
      "predicted_profit [56.94652]\n",
      "activity Technology\n",
      "predicted_profit [100.391136]\n",
      "activity Technology\n",
      "predicted_profit [98.83949]\n"
     ]
    },
    {
     "name": "stderr",
     "output_type": "stream",
     "text": [
      "127.0.0.1 - - [08/May/2024 23:31:25] \"OPTIONS /recommend_companies HTTP/1.1\" 200 -\n",
      "127.0.0.1 - - [08/May/2024 23:31:29] \"POST /recommend_companies HTTP/1.1\" 200 -\n"
     ]
    },
    {
     "name": "stdout",
     "output_type": "stream",
     "text": [
      "Technology\n",
      "Mean Squared Error on the validation set with XGBoost: 101.54817039817044\n",
      "activity Finance\n",
      "predicted_profit [83.37804]\n",
      "activity Technology\n",
      "predicted_profit [98.83949]\n",
      "activity Technology\n",
      "predicted_profit [97.33631]\n",
      "activity Technology\n",
      "predicted_profit [97.33631]\n",
      "activity Finance\n",
      "predicted_profit [83.18572]\n",
      "activity Technology\n",
      "predicted_profit [85.31423]\n",
      "activity Technology\n",
      "predicted_profit [56.94652]\n",
      "activity Technology\n",
      "predicted_profit [100.391136]\n",
      "activity Technology\n",
      "predicted_profit [98.83949]\n"
     ]
    },
    {
     "name": "stderr",
     "output_type": "stream",
     "text": [
      "127.0.0.1 - - [08/May/2024 23:31:48] \"POST /recommend_companies HTTP/1.1\" 200 -\n"
     ]
    },
    {
     "name": "stdout",
     "output_type": "stream",
     "text": [
      "Technology\n",
      "Mean Squared Error on the validation set with XGBoost: 101.54817039817044\n",
      "activity Finance\n",
      "predicted_profit [83.37804]\n",
      "activity Technology\n",
      "predicted_profit [98.83949]\n",
      "activity Technology\n",
      "predicted_profit [97.33631]\n",
      "activity Technology\n",
      "predicted_profit [97.33631]\n",
      "activity Finance\n",
      "predicted_profit [83.18572]\n",
      "activity Technology\n",
      "predicted_profit [85.31423]\n",
      "activity Technology\n",
      "predicted_profit [56.94652]\n",
      "activity Technology\n",
      "predicted_profit [100.391136]\n",
      "activity Technology\n",
      "predicted_profit [98.83949]\n"
     ]
    },
    {
     "name": "stderr",
     "output_type": "stream",
     "text": [
      "127.0.0.1 - - [08/May/2024 23:33:32] \"POST /recommend_companies HTTP/1.1\" 200 -\n"
     ]
    },
    {
     "name": "stdout",
     "output_type": "stream",
     "text": [
      "Technology\n",
      "Mean Squared Error on the validation set with XGBoost: 101.54817039817044\n",
      "Mean Squared Error on the validation set with XGBoost: 101.54817039817044\n",
      "activity Finance\n",
      "predicted_profit [83.37804]\n",
      "activity Technology\n",
      "predicted_profit [98.83949]\n",
      "activity Technology\n",
      "predicted_profit [97.33631]\n",
      "activity Technology\n",
      "predicted_profit [97.33631]\n",
      "activity Finance\n",
      "predicted_profit [83.18572]\n",
      "activity Technology\n",
      "predicted_profit [85.31423]\n",
      "activity Technology\n",
      "predicted_profit [56.94652]\n",
      "activity Technology\n",
      "predicted_profit [100.391136]\n",
      "activity Technology\n",
      "predicted_profit [98.83949]\n",
      "activity Finance\n",
      "predicted_profit [83.37804]\n",
      "activity Technology\n",
      "predicted_profit [98.83949]\n",
      "activity Technology\n",
      "predicted_profit [97.33631]\n",
      "activity Technology\n",
      "predicted_profit [97.33631]\n",
      "activity Finance\n",
      "predicted_profit [83.18572]\n",
      "activity Technology\n",
      "predicted_profit [85.31423]\n",
      "activity Technology\n",
      "predicted_profit [56.94652]\n",
      "activity Technology\n",
      "predicted_profit [100.391136]\n",
      "activity Technology\n",
      "predicted_profit [98.83949]\n"
     ]
    },
    {
     "name": "stderr",
     "output_type": "stream",
     "text": [
      "127.0.0.1 - - [08/May/2024 23:33:56] \"POST /recommend_companies HTTP/1.1\" 200 -\n",
      "127.0.0.1 - - [08/May/2024 23:33:56] \"POST /recommend_companies HTTP/1.1\" 200 -\n"
     ]
    },
    {
     "name": "stdout",
     "output_type": "stream",
     "text": [
      "Technology\n",
      "Technology\n"
     ]
    },
    {
     "name": "stderr",
     "output_type": "stream",
     "text": [
      "127.0.0.1 - - [08/May/2024 23:34:08] \"OPTIONS /recommend_companies HTTP/1.1\" 200 -\n",
      "127.0.0.1 - - [08/May/2024 23:34:10] \"OPTIONS /recommend_companies HTTP/1.1\" 200 -\n",
      "127.0.0.1 - - [08/May/2024 23:34:55] \"OPTIONS /recommend_companies HTTP/1.1\" 200 -\n",
      "127.0.0.1 - - [08/May/2024 23:36:03] \"OPTIONS /recommend_companies HTTP/1.1\" 200 -\n",
      "127.0.0.1 - - [08/May/2024 23:37:33] \"OPTIONS /recommend_companies HTTP/1.1\" 200 -\n",
      "127.0.0.1 - - [08/May/2024 23:37:43] \"OPTIONS /recommend_companies HTTP/1.1\" 200 -\n",
      "127.0.0.1 - - [08/May/2024 23:38:18] \"OPTIONS /recommend_companies HTTP/1.1\" 200 -\n"
     ]
    },
    {
     "name": "stdout",
     "output_type": "stream",
     "text": [
      "Mean Squared Error on the validation set with XGBoost: 101.54817039817044\n",
      "activity Finance\n",
      "predicted_profit [83.37804]\n",
      "activity Technology\n",
      "predicted_profit [98.83949]\n",
      "activity Technology\n",
      "predicted_profit [97.33631]\n",
      "activity Technology\n",
      "predicted_profit [97.33631]\n",
      "activity Finance\n",
      "predicted_profit [83.18572]\n",
      "activity Technology\n",
      "predicted_profit [85.31423]\n",
      "activity Technology\n",
      "predicted_profit [56.94652]\n",
      "activity Technology\n",
      "predicted_profit [100.391136]\n",
      "activity Technology\n",
      "predicted_profit [98.83949]\n"
     ]
    },
    {
     "name": "stderr",
     "output_type": "stream",
     "text": [
      "127.0.0.1 - - [08/May/2024 23:38:59] \"POST /recommend_companies HTTP/1.1\" 200 -\n"
     ]
    },
    {
     "name": "stdout",
     "output_type": "stream",
     "text": [
      "Technology\n",
      "Mean Squared Error on the validation set with XGBoost: 101.54817039817044\n",
      "Mean Squared Error on the validation set with XGBoost: 101.54817039817044\n",
      "Mean Squared Error on the validation set with XGBoost: 101.54817039817044\n",
      "activity Finance\n",
      "predicted_profit [83.37804]\n",
      "activity Technology\n",
      "predicted_profit [98.83949]\n",
      "activity Technology\n",
      "predicted_profit [97.33631]\n",
      "activity Technology\n",
      "predicted_profit [97.33631]\n",
      "activity Finance\n",
      "predicted_profit [83.18572]\n",
      "activity Technology\n",
      "predicted_profit [85.31423]\n",
      "activity Technology\n",
      "predicted_profit [56.94652]\n",
      "activity Technology\n",
      "predicted_profit [100.391136]\n",
      "activity Technology\n",
      "predicted_profit [98.83949]\n",
      "Mean Squared Error on the validation set with XGBoost: 101.54817039817044\n",
      "Mean Squared Error on the validation set with XGBoost: 101.54817039817044\n",
      "activity Finance\n",
      "predicted_profit [83.37804]\n",
      "activity Technology\n",
      "predicted_profit [98.83949]\n",
      "activity Technology\n",
      "predicted_profit [97.33631]\n",
      "activity Technology\n",
      "predicted_profit [97.33631]\n",
      "activity Finance\n",
      "predicted_profit [83.18572]\n",
      "activity Technology\n",
      "predicted_profit [85.31423]\n",
      "activity Technology\n",
      "predicted_profit [56.94652]\n",
      "activity Technology\n",
      "predicted_profit [100.391136]\n",
      "activity Technology\n",
      "predicted_profit [98.83949]\n",
      "activity Finance\n",
      "predicted_profit [83.37804]\n",
      "activity Technology\n",
      "predicted_profit [98.83949]\n",
      "activity Technology\n",
      "predicted_profit [97.33631]\n",
      "activity Technology\n",
      "predicted_profit [97.33631]\n",
      "activity Finance\n",
      "predicted_profit [83.18572]\n",
      "activity Technology\n",
      "predicted_profit [85.31423]\n",
      "activity Technology\n",
      "predicted_profit [56.94652]\n",
      "activity Technology\n",
      "predicted_profit [100.391136]\n",
      "activity Technology\n",
      "predicted_profit [98.83949]\n"
     ]
    },
    {
     "name": "stderr",
     "output_type": "stream",
     "text": [
      "127.0.0.1 - - [08/May/2024 23:41:13] \"POST /recommend_companies HTTP/1.1\" 200 -\n"
     ]
    },
    {
     "name": "stdout",
     "output_type": "stream",
     "text": [
      "Technology\n",
      "activity Finance\n",
      "predicted_profit [83.37804]\n",
      "activity Technology\n",
      "predicted_profit [98.83949]\n",
      "activity Technology\n",
      "predicted_profit [97.33631]\n",
      "activity Technology\n",
      "predicted_profit [97.33631]\n",
      "activity Finance\n",
      "predicted_profit [83.18572]\n",
      "activity Technology\n",
      "predicted_profit [85.31423]\n",
      "activity Technology\n",
      "predicted_profit [56.94652]\n",
      "activity Technology\n",
      "predicted_profit [100.391136]\n",
      "activity Technology\n",
      "predicted_profit [98.83949]\n",
      "activity Finance\n",
      "predicted_profit [83.37804]\n",
      "activity Technology\n",
      "predicted_profit [98.83949]\n",
      "activity Technology\n",
      "predicted_profit [97.33631]\n",
      "activity Technology\n",
      "predicted_profit [97.33631]\n",
      "activity Finance\n",
      "predicted_profit [83.18572]\n",
      "activity Technology\n",
      "predicted_profit [85.31423]\n",
      "activity Technology\n",
      "predicted_profit [56.94652]\n",
      "activity Technology\n",
      "predicted_profit [100.391136]\n",
      "activity Technology\n",
      "predicted_profit [98.83949]\n",
      "Mean Squared Error on the validation set with XGBoost: 101.54817039817044\n"
     ]
    },
    {
     "name": "stderr",
     "output_type": "stream",
     "text": [
      "127.0.0.1 - - [08/May/2024 23:41:19] \"POST /recommend_companies HTTP/1.1\" 200 -\n"
     ]
    },
    {
     "name": "stdout",
     "output_type": "stream",
     "text": [
      "Technology\n"
     ]
    },
    {
     "name": "stderr",
     "output_type": "stream",
     "text": [
      "127.0.0.1 - - [08/May/2024 23:41:21] \"POST /recommend_companies HTTP/1.1\" 200 -\n"
     ]
    },
    {
     "name": "stdout",
     "output_type": "stream",
     "text": [
      "Technology\n"
     ]
    },
    {
     "name": "stderr",
     "output_type": "stream",
     "text": [
      "127.0.0.1 - - [08/May/2024 23:41:21] \"POST /recommend_companies HTTP/1.1\" 200 -\n"
     ]
    },
    {
     "name": "stdout",
     "output_type": "stream",
     "text": [
      "Technology\n"
     ]
    },
    {
     "name": "stderr",
     "output_type": "stream",
     "text": [
      "127.0.0.1 - - [08/May/2024 23:41:22] \"POST /recommend_companies HTTP/1.1\" 200 -\n"
     ]
    },
    {
     "name": "stdout",
     "output_type": "stream",
     "text": [
      "Technology\n",
      "activity Finance\n",
      "predicted_profit [83.37804]\n",
      "activity Technology\n",
      "predicted_profit [98.83949]\n",
      "activity Technology\n",
      "predicted_profit [97.33631]\n",
      "activity Technology\n",
      "predicted_profit [97.33631]\n",
      "activity Finance\n",
      "predicted_profit [83.18572]\n",
      "activity Technology\n",
      "predicted_profit [85.31423]\n",
      "activity Technology\n",
      "predicted_profit [56.94652]\n",
      "activity Technology\n",
      "predicted_profit [100.391136]\n",
      "activity Technology\n",
      "predicted_profit [98.83949]\n"
     ]
    },
    {
     "name": "stderr",
     "output_type": "stream",
     "text": [
      "127.0.0.1 - - [08/May/2024 23:41:30] \"POST /recommend_companies HTTP/1.1\" 200 -\n"
     ]
    },
    {
     "name": "stdout",
     "output_type": "stream",
     "text": [
      "Technology\n",
      "Mean Squared Error on the validation set with XGBoost: 101.54817039817044\n",
      "activity Finance\n",
      "predicted_profit [83.37804]\n",
      "activity Technology\n",
      "predicted_profit [98.83949]\n",
      "activity Technology\n",
      "predicted_profit [97.33631]\n",
      "activity Technology\n",
      "predicted_profit [97.33631]\n",
      "activity Finance\n",
      "predicted_profit [83.18572]\n",
      "activity Technology\n",
      "predicted_profit [85.31423]\n",
      "activity Technology\n",
      "predicted_profit [56.94652]\n",
      "activity Technology\n",
      "predicted_profit [100.391136]\n",
      "activity Technology\n",
      "predicted_profit [98.83949]\n"
     ]
    },
    {
     "name": "stderr",
     "output_type": "stream",
     "text": [
      "127.0.0.1 - - [08/May/2024 23:42:02] \"POST /recommend_companies HTTP/1.1\" 200 -\n"
     ]
    },
    {
     "name": "stdout",
     "output_type": "stream",
     "text": [
      "Technology\n",
      "Mean Squared Error on the validation set with XGBoost: 101.54817039817044\n",
      "activity Finance\n",
      "predicted_profit [83.37804]\n",
      "activity Technology\n",
      "predicted_profit [98.83949]\n",
      "activity Technology\n",
      "predicted_profit [97.33631]\n",
      "activity Technology\n",
      "predicted_profit [97.33631]\n",
      "activity Finance\n",
      "predicted_profit [83.18572]\n",
      "activity Technology\n",
      "predicted_profit [85.31423]\n",
      "activity Technology\n",
      "predicted_profit [56.94652]\n",
      "activity Technology\n",
      "predicted_profit [100.391136]\n",
      "activity Technology\n",
      "predicted_profit [98.83949]\n"
     ]
    },
    {
     "name": "stderr",
     "output_type": "stream",
     "text": [
      "127.0.0.1 - - [08/May/2024 23:42:19] \"POST /recommend_companies HTTP/1.1\" 200 -\n"
     ]
    },
    {
     "name": "stdout",
     "output_type": "stream",
     "text": [
      "Technology\n",
      "Mean Squared Error on the validation set with XGBoost: 101.54817039817044\n",
      "activity Finance\n",
      "predicted_profit [83.37804]\n",
      "activity Technology\n",
      "predicted_profit [98.83949]\n",
      "activity Technology\n",
      "predicted_profit [97.33631]\n",
      "activity Technology\n",
      "predicted_profit [97.33631]\n",
      "activity Finance\n",
      "predicted_profit [83.18572]\n",
      "activity Technology\n",
      "predicted_profit [85.31423]\n",
      "activity Technology\n",
      "predicted_profit [56.94652]\n",
      "activity Technology\n",
      "predicted_profit [100.391136]\n",
      "activity Technology\n",
      "predicted_profit [98.83949]\n"
     ]
    },
    {
     "name": "stderr",
     "output_type": "stream",
     "text": [
      "127.0.0.1 - - [08/May/2024 23:42:51] \"POST /recommend_companies HTTP/1.1\" 200 -\n"
     ]
    },
    {
     "name": "stdout",
     "output_type": "stream",
     "text": [
      "Technology\n",
      "Mean Squared Error on the validation set with XGBoost: 101.54817039817044\n",
      "Mean Squared Error on the validation set with XGBoost: 101.54817039817044\n",
      "activity Finance\n",
      "predicted_profit [83.37804]\n",
      "activity Technology\n",
      "predicted_profit [98.83949]\n",
      "activity Technology\n",
      "predicted_profit [97.33631]\n",
      "activity Technology\n",
      "predicted_profit [97.33631]\n",
      "activity Finance\n",
      "predicted_profit [83.18572]\n",
      "activity Technology\n",
      "predicted_profit [85.31423]\n",
      "activity Technology\n",
      "predicted_profit [56.94652]\n",
      "activity Technology\n",
      "predicted_profit [100.391136]\n",
      "activity Technology\n",
      "predicted_profit [98.83949]\n",
      "activity Finance\n",
      "predicted_profit [83.37804]\n",
      "activity Technology\n",
      "predicted_profit [98.83949]\n",
      "activity Technology\n",
      "predicted_profit [97.33631]\n",
      "activity Technology\n",
      "predicted_profit [97.33631]\n",
      "activity Finance\n",
      "predicted_profit [83.18572]\n",
      "activity Technology\n",
      "predicted_profit [85.31423]\n",
      "activity Technology\n",
      "predicted_profit [56.94652]\n",
      "activity Technology\n",
      "predicted_profit [100.391136]\n",
      "activity Technology\n",
      "predicted_profit [98.83949]\n"
     ]
    },
    {
     "name": "stderr",
     "output_type": "stream",
     "text": [
      "127.0.0.1 - - [08/May/2024 23:43:03] \"POST /recommend_companies HTTP/1.1\" 200 -\n"
     ]
    },
    {
     "name": "stdout",
     "output_type": "stream",
     "text": [
      "Technology\n"
     ]
    },
    {
     "name": "stderr",
     "output_type": "stream",
     "text": [
      "127.0.0.1 - - [08/May/2024 23:43:06] \"POST /recommend_companies HTTP/1.1\" 200 -\n"
     ]
    },
    {
     "name": "stdout",
     "output_type": "stream",
     "text": [
      "Technology\n"
     ]
    },
    {
     "name": "stderr",
     "output_type": "stream",
     "text": [
      "127.0.0.1 - - [08/May/2024 23:43:48] \"OPTIONS /recommend_companies HTTP/1.1\" 200 -\n",
      "127.0.0.1 - - [08/May/2024 23:43:58] \"OPTIONS /recommend_companies HTTP/1.1\" 200 -\n",
      "127.0.0.1 - - [08/May/2024 23:44:06] \"OPTIONS /recommend_companies HTTP/1.1\" 200 -\n"
     ]
    },
    {
     "name": "stdout",
     "output_type": "stream",
     "text": [
      "Mean Squared Error on the validation set with XGBoost: 101.54817039817044\n"
     ]
    },
    {
     "name": "stderr",
     "output_type": "stream",
     "text": [
      "127.0.0.1 - - [08/May/2024 23:45:27] \"OPTIONS /recommend_companies HTTP/1.1\" 200 -\n"
     ]
    },
    {
     "name": "stdout",
     "output_type": "stream",
     "text": [
      "activity Finance\n",
      "predicted_profit [83.37804]\n",
      "activity Technology\n",
      "predicted_profit [98.83949]\n",
      "activity Technology\n",
      "predicted_profit [97.33631]\n",
      "activity Technology\n",
      "predicted_profit [97.33631]\n",
      "activity Finance\n",
      "predicted_profit [83.18572]\n",
      "activity Technology\n",
      "predicted_profit [85.31423]\n",
      "activity Technology\n",
      "predicted_profit [56.94652]\n",
      "activity Technology\n",
      "predicted_profit [100.391136]\n",
      "activity Technology\n",
      "predicted_profit [98.83949]\n"
     ]
    },
    {
     "name": "stderr",
     "output_type": "stream",
     "text": [
      "127.0.0.1 - - [08/May/2024 23:45:35] \"POST /recommend_companies HTTP/1.1\" 200 -\n"
     ]
    },
    {
     "name": "stdout",
     "output_type": "stream",
     "text": [
      "Technology\n",
      "Mean Squared Error on the validation set with XGBoost: 101.54817039817044\n",
      "Mean Squared Error on the validation set with XGBoost: 101.54817039817044\n",
      "activity Finance\n",
      "predicted_profit [83.37804]\n",
      "activity Technology\n",
      "predicted_profit [98.83949]\n",
      "activity Technology\n",
      "predicted_profit [97.33631]\n",
      "activity Technology\n",
      "predicted_profit [97.33631]\n",
      "activity Finance\n",
      "predicted_profit [83.18572]\n",
      "activity Technology\n",
      "predicted_profit [85.31423]\n",
      "activity Technology\n",
      "predicted_profit [56.94652]\n",
      "activity Technology\n",
      "predicted_profit [100.391136]\n",
      "activity Technology\n",
      "predicted_profit [98.83949]\n",
      "activity Finance\n",
      "predicted_profit [83.37804]\n",
      "activity Technology\n",
      "predicted_profit [98.83949]\n",
      "activity Technology\n",
      "predicted_profit [97.33631]\n",
      "activity Technology\n",
      "predicted_profit [97.33631]\n",
      "activity Finance\n",
      "predicted_profit [83.18572]\n",
      "activity Technology\n",
      "predicted_profit [85.31423]\n",
      "activity Technology\n",
      "predicted_profit [56.94652]\n",
      "activity Technology\n",
      "predicted_profit [100.391136]\n",
      "activity Technology\n",
      "predicted_profit [98.83949]\n"
     ]
    },
    {
     "name": "stderr",
     "output_type": "stream",
     "text": [
      "127.0.0.1 - - [08/May/2024 23:45:55] \"POST /recommend_companies HTTP/1.1\" 200 -\n"
     ]
    },
    {
     "name": "stdout",
     "output_type": "stream",
     "text": [
      "Technology\n"
     ]
    },
    {
     "name": "stderr",
     "output_type": "stream",
     "text": [
      "127.0.0.1 - - [08/May/2024 23:45:59] \"POST /recommend_companies HTTP/1.1\" 200 -\n"
     ]
    },
    {
     "name": "stdout",
     "output_type": "stream",
     "text": [
      "Technology\n",
      "Mean Squared Error on the validation set with XGBoost: 101.54817039817044\n"
     ]
    },
    {
     "name": "stderr",
     "output_type": "stream",
     "text": [
      "127.0.0.1 - - [08/May/2024 23:46:20] \"OPTIONS /recommend_companies HTTP/1.1\" 200 -\n"
     ]
    },
    {
     "name": "stdout",
     "output_type": "stream",
     "text": [
      "activity Finance\n",
      "predicted_profit [83.37804]\n",
      "activity Technology\n",
      "predicted_profit [98.83949]\n",
      "activity Technology\n",
      "predicted_profit [97.33631]\n",
      "activity Technology\n",
      "predicted_profit [97.33631]\n",
      "activity Finance\n",
      "predicted_profit [83.18572]\n",
      "activity Technology\n",
      "predicted_profit [85.31423]\n",
      "activity Technology\n",
      "predicted_profit [56.94652]\n",
      "activity Technology\n",
      "predicted_profit [100.391136]\n",
      "activity Technology\n",
      "predicted_profit [98.83949]\n"
     ]
    },
    {
     "name": "stderr",
     "output_type": "stream",
     "text": [
      "127.0.0.1 - - [08/May/2024 23:46:31] \"POST /recommend_companies HTTP/1.1\" 200 -\n"
     ]
    },
    {
     "name": "stdout",
     "output_type": "stream",
     "text": [
      "Technology\n",
      "Mean Squared Error on the validation set with XGBoost: 101.54817039817044\n",
      "activity Finance\n",
      "predicted_profit [83.37804]\n",
      "activity Technology\n",
      "predicted_profit [98.83949]\n",
      "activity Technology\n",
      "predicted_profit [97.33631]\n",
      "activity Technology\n",
      "predicted_profit [97.33631]\n",
      "activity Finance\n",
      "predicted_profit [83.18572]\n",
      "activity Technology\n",
      "predicted_profit [85.31423]\n",
      "activity Technology\n",
      "predicted_profit [56.94652]\n",
      "activity Technology\n",
      "predicted_profit [100.391136]\n",
      "activity Technology\n",
      "predicted_profit [98.83949]\n"
     ]
    },
    {
     "name": "stderr",
     "output_type": "stream",
     "text": [
      "127.0.0.1 - - [08/May/2024 23:47:09] \"POST /recommend_companies HTTP/1.1\" 200 -\n"
     ]
    },
    {
     "name": "stdout",
     "output_type": "stream",
     "text": [
      "Technology\n"
     ]
    },
    {
     "name": "stderr",
     "output_type": "stream",
     "text": [
      "127.0.0.1 - - [08/May/2024 23:47:30] \"OPTIONS /recommend_companies HTTP/1.1\" 200 -\n"
     ]
    },
    {
     "name": "stdout",
     "output_type": "stream",
     "text": [
      "Mean Squared Error on the validation set with XGBoost: 101.54817039817044\n",
      "activity Finance\n",
      "predicted_profit [83.37804]\n",
      "activity Technology\n",
      "predicted_profit [98.83949]\n",
      "activity Technology\n",
      "predicted_profit [97.33631]\n",
      "activity Technology\n",
      "predicted_profit [97.33631]\n",
      "activity Finance\n",
      "predicted_profit [83.18572]\n",
      "activity Technology\n",
      "predicted_profit [85.31423]\n",
      "activity Technology\n",
      "predicted_profit [56.94652]\n",
      "activity Technology\n",
      "predicted_profit [100.391136]\n",
      "activity Technology\n",
      "predicted_profit [98.83949]\n"
     ]
    },
    {
     "name": "stderr",
     "output_type": "stream",
     "text": [
      "127.0.0.1 - - [08/May/2024 23:48:14] \"POST /recommend_companies HTTP/1.1\" 200 -\n"
     ]
    },
    {
     "name": "stdout",
     "output_type": "stream",
     "text": [
      "Technology\n"
     ]
    },
    {
     "name": "stderr",
     "output_type": "stream",
     "text": [
      "127.0.0.1 - - [08/May/2024 23:50:47] \"OPTIONS /recommend_companies HTTP/1.1\" 200 -\n",
      "127.0.0.1 - - [08/May/2024 23:51:06] \"OPTIONS /recommend_companies HTTP/1.1\" 200 -\n",
      "127.0.0.1 - - [08/May/2024 23:51:14] \"OPTIONS /recommend_companies HTTP/1.1\" 200 -\n",
      "127.0.0.1 - - [08/May/2024 23:51:39] \"OPTIONS /recommend_companies HTTP/1.1\" 200 -\n",
      "127.0.0.1 - - [08/May/2024 23:52:53] \"OPTIONS /recommend_companies HTTP/1.1\" 200 -\n"
     ]
    },
    {
     "name": "stdout",
     "output_type": "stream",
     "text": [
      "Mean Squared Error on the validation set with XGBoost: 101.54817039817044\n",
      "Mean Squared Error on the validation set with XGBoost: 101.54817039817044\n",
      "activity Finance\n",
      "predicted_profit [83.37804]\n",
      "activity Technology\n",
      "predicted_profit [98.83949]\n",
      "activity Technology\n",
      "predicted_profit [97.33631]\n",
      "activity Technology\n",
      "predicted_profit [97.33631]\n",
      "activity Finance\n",
      "predicted_profit [83.18572]\n",
      "activity Technology\n",
      "predicted_profit [85.31423]\n",
      "activity Technology\n",
      "predicted_profit [56.94652]\n",
      "activity Technology\n",
      "predicted_profit [100.391136]\n",
      "activity Technology\n",
      "predicted_profit [98.83949]\n",
      "activity Finance\n",
      "predicted_profit [83.37804]\n",
      "activity Technology\n",
      "predicted_profit [98.83949]\n",
      "activity Technology\n",
      "predicted_profit [97.33631]\n",
      "activity Technology\n",
      "predicted_profit [97.33631]\n",
      "activity Finance\n",
      "predicted_profit [83.18572]\n",
      "activity Technology\n",
      "predicted_profit [85.31423]\n",
      "activity Technology\n",
      "predicted_profit [56.94652]\n",
      "activity Technology\n",
      "predicted_profit [100.391136]\n",
      "activity Technology\n",
      "predicted_profit [98.83949]\n"
     ]
    },
    {
     "name": "stderr",
     "output_type": "stream",
     "text": [
      "127.0.0.1 - - [08/May/2024 23:53:39] \"POST /recommend_companies HTTP/1.1\" 200 -\n"
     ]
    },
    {
     "name": "stdout",
     "output_type": "stream",
     "text": [
      "Technology\n"
     ]
    },
    {
     "name": "stderr",
     "output_type": "stream",
     "text": [
      "127.0.0.1 - - [08/May/2024 23:53:40] \"POST /recommend_companies HTTP/1.1\" 200 -\n"
     ]
    },
    {
     "name": "stdout",
     "output_type": "stream",
     "text": [
      "Technology\n",
      "Mean Squared Error on the validation set with XGBoost: 101.54817039817044\n",
      "activity Finance\n",
      "predicted_profit [83.37804]\n",
      "activity Technology\n",
      "predicted_profit [98.83949]\n",
      "activity Technology\n",
      "predicted_profit [97.33631]\n",
      "activity Technology\n",
      "predicted_profit [97.33631]\n",
      "activity Finance\n",
      "predicted_profit [83.18572]\n",
      "activity Technology\n",
      "predicted_profit [85.31423]\n",
      "activity Technology\n",
      "predicted_profit [56.94652]\n",
      "activity Technology\n",
      "predicted_profit [100.391136]\n",
      "activity Technology\n",
      "predicted_profit [98.83949]\n",
      "Mean Squared Error on the validation set with XGBoost: 101.54817039817044\n"
     ]
    },
    {
     "name": "stderr",
     "output_type": "stream",
     "text": [
      "127.0.0.1 - - [08/May/2024 23:54:09] \"POST /recommend_companies HTTP/1.1\" 200 -\n"
     ]
    },
    {
     "name": "stdout",
     "output_type": "stream",
     "text": [
      "Technology\n",
      "activity Finance\n",
      "predicted_profit [83.37804]\n",
      "activity Technology\n",
      "predicted_profit [98.83949]\n",
      "activity Technology\n",
      "predicted_profit [97.33631]\n",
      "activity Technology\n",
      "predicted_profit [97.33631]\n",
      "activity Finance\n",
      "predicted_profit [83.18572]\n",
      "activity Technology\n",
      "predicted_profit [85.31423]\n",
      "activity Technology\n",
      "predicted_profit [56.94652]\n",
      "activity Technology\n",
      "predicted_profit [100.391136]\n",
      "activity Technology\n",
      "predicted_profit [98.83949]\n",
      "Mean Squared Error on the validation set with XGBoost: 101.54817039817044\n"
     ]
    },
    {
     "name": "stderr",
     "output_type": "stream",
     "text": [
      "127.0.0.1 - - [08/May/2024 23:54:15] \"POST /recommend_companies HTTP/1.1\" 200 -\n"
     ]
    },
    {
     "name": "stdout",
     "output_type": "stream",
     "text": [
      "Technology\n",
      "activity Finance\n",
      "predicted_profit [83.37804]\n",
      "activity Technology\n",
      "predicted_profit [98.83949]\n",
      "activity Technology\n",
      "predicted_profit [97.33631]\n",
      "activity Technology\n",
      "predicted_profit [97.33631]\n",
      "activity Finance\n",
      "predicted_profit [83.18572]\n",
      "activity Technology\n",
      "predicted_profit [85.31423]\n",
      "activity Technology\n",
      "predicted_profit [56.94652]\n",
      "activity Technology\n",
      "predicted_profit [100.391136]\n",
      "activity Technology\n",
      "predicted_profit [98.83949]\n"
     ]
    },
    {
     "name": "stderr",
     "output_type": "stream",
     "text": [
      "127.0.0.1 - - [08/May/2024 23:54:24] \"POST /recommend_companies HTTP/1.1\" 200 -\n"
     ]
    },
    {
     "name": "stdout",
     "output_type": "stream",
     "text": [
      "Technology\n",
      "Mean Squared Error on the validation set with XGBoost: 101.54817039817044\n",
      "activity Finance\n",
      "predicted_profit [83.37804]\n",
      "activity Technology\n",
      "predicted_profit [98.83949]\n",
      "activity Technology\n",
      "predicted_profit [97.33631]\n",
      "activity Technology\n",
      "predicted_profit [97.33631]\n",
      "activity Finance\n",
      "predicted_profit [83.18572]\n",
      "activity Technology\n",
      "predicted_profit [85.31423]\n",
      "activity Technology\n",
      "predicted_profit [56.94652]\n",
      "activity Technology\n",
      "predicted_profit [100.391136]\n",
      "activity Technology\n",
      "predicted_profit [98.83949]\n"
     ]
    },
    {
     "name": "stderr",
     "output_type": "stream",
     "text": [
      "127.0.0.1 - - [08/May/2024 23:54:41] \"POST /recommend_companies HTTP/1.1\" 200 -\n"
     ]
    },
    {
     "name": "stdout",
     "output_type": "stream",
     "text": [
      "Technology\n"
     ]
    },
    {
     "name": "stderr",
     "output_type": "stream",
     "text": [
      "127.0.0.1 - - [09/May/2024 00:00:11] \"OPTIONS /recommend_companies HTTP/1.1\" 200 -\n"
     ]
    },
    {
     "name": "stdout",
     "output_type": "stream",
     "text": [
      "Mean Squared Error on the validation set with XGBoost: 101.54817039817044\n",
      "activity Finance\n",
      "predicted_profit [83.37804]\n",
      "activity Technology\n",
      "predicted_profit [98.83949]\n",
      "activity Technology\n",
      "predicted_profit [97.33631]\n",
      "activity Technology\n",
      "predicted_profit [97.33631]\n",
      "activity Finance\n",
      "predicted_profit [83.18572]\n",
      "activity Technology\n",
      "predicted_profit [85.31423]\n",
      "activity Technology\n",
      "predicted_profit [56.94652]\n",
      "activity Technology\n",
      "predicted_profit [100.391136]\n",
      "activity Technology\n",
      "predicted_profit [98.83949]\n"
     ]
    },
    {
     "name": "stderr",
     "output_type": "stream",
     "text": [
      "127.0.0.1 - - [09/May/2024 00:01:06] \"POST /recommend_companies HTTP/1.1\" 200 -\n"
     ]
    },
    {
     "name": "stdout",
     "output_type": "stream",
     "text": [
      "Technology\n"
     ]
    },
    {
     "name": "stderr",
     "output_type": "stream",
     "text": [
      "127.0.0.1 - - [09/May/2024 00:03:33] \"OPTIONS /recommend_companies HTTP/1.1\" 200 -\n"
     ]
    },
    {
     "name": "stdout",
     "output_type": "stream",
     "text": [
      "Mean Squared Error on the validation set with XGBoost: 101.54817039817044\n"
     ]
    },
    {
     "name": "stderr",
     "output_type": "stream",
     "text": [
      "127.0.0.1 - - [09/May/2024 00:04:23] \"OPTIONS /recommend_companies HTTP/1.1\" 200 -\n"
     ]
    },
    {
     "name": "stdout",
     "output_type": "stream",
     "text": [
      "activity Finance\n",
      "predicted_profit [83.37804]\n",
      "activity Technology\n",
      "predicted_profit [98.83949]\n",
      "activity Technology\n",
      "predicted_profit [97.33631]\n",
      "activity Technology\n",
      "predicted_profit [97.33631]\n",
      "activity Finance\n",
      "predicted_profit [83.18572]\n",
      "activity Technology\n",
      "predicted_profit [85.31423]\n",
      "activity Technology\n",
      "predicted_profit [56.94652]\n",
      "activity Technology\n",
      "predicted_profit [100.391136]\n",
      "activity Technology\n",
      "predicted_profit [98.83949]\n"
     ]
    },
    {
     "name": "stderr",
     "output_type": "stream",
     "text": [
      "127.0.0.1 - - [09/May/2024 00:04:32] \"POST /recommend_companies HTTP/1.1\" 200 -\n"
     ]
    },
    {
     "name": "stdout",
     "output_type": "stream",
     "text": [
      "Technology\n"
     ]
    },
    {
     "name": "stderr",
     "output_type": "stream",
     "text": [
      "127.0.0.1 - - [09/May/2024 00:04:35] \"OPTIONS /recommend_companies HTTP/1.1\" 200 -\n",
      "127.0.0.1 - - [09/May/2024 00:04:49] \"OPTIONS /recommend_companies HTTP/1.1\" 200 -\n",
      "127.0.0.1 - - [09/May/2024 00:06:26] \"OPTIONS /recommend_companies HTTP/1.1\" 200 -\n",
      "127.0.0.1 - - [09/May/2024 00:06:59] \"OPTIONS /recommend_companies HTTP/1.1\" 200 -\n"
     ]
    },
    {
     "name": "stdout",
     "output_type": "stream",
     "text": [
      "Mean Squared Error on the validation set with XGBoost: 101.54817039817044\n",
      "activity Finance\n",
      "predicted_profit [83.37804]\n",
      "activity Technology\n",
      "predicted_profit [98.83949]\n",
      "activity Technology\n",
      "predicted_profit [97.33631]\n",
      "activity Technology\n",
      "predicted_profit [97.33631]\n",
      "activity Finance\n",
      "predicted_profit [83.18572]\n",
      "activity Technology\n",
      "predicted_profit [85.31423]\n",
      "activity Technology\n",
      "predicted_profit [56.94652]\n",
      "activity Technology\n",
      "predicted_profit [100.391136]\n",
      "activity Technology\n",
      "predicted_profit [98.83949]\n"
     ]
    },
    {
     "name": "stderr",
     "output_type": "stream",
     "text": [
      "127.0.0.1 - - [09/May/2024 00:07:12] \"POST /recommend_companies HTTP/1.1\" 200 -\n"
     ]
    },
    {
     "name": "stdout",
     "output_type": "stream",
     "text": [
      "Technology\n",
      "Mean Squared Error on the validation set with XGBoost: 101.54817039817044\n",
      "activity Finance\n",
      "predicted_profit [83.37804]\n",
      "activity Technology\n",
      "predicted_profit [98.83949]\n",
      "activity Technology\n",
      "predicted_profit [97.33631]\n",
      "activity Technology\n",
      "predicted_profit [97.33631]\n",
      "activity Finance\n",
      "predicted_profit [83.18572]\n",
      "activity Technology\n",
      "predicted_profit [85.31423]\n",
      "activity Technology\n",
      "predicted_profit [56.94652]\n",
      "activity Technology\n",
      "predicted_profit [100.391136]\n",
      "activity Technology\n",
      "predicted_profit [98.83949]\n"
     ]
    },
    {
     "name": "stderr",
     "output_type": "stream",
     "text": [
      "127.0.0.1 - - [09/May/2024 00:07:27] \"POST /recommend_companies HTTP/1.1\" 200 -\n"
     ]
    },
    {
     "name": "stdout",
     "output_type": "stream",
     "text": [
      "Technology\n",
      "Mean Squared Error on the validation set with XGBoost: 101.54817039817044\n",
      "activity Finance\n",
      "predicted_profit [83.37804]\n",
      "activity Technology\n",
      "predicted_profit [98.83949]\n",
      "activity Technology\n",
      "predicted_profit [97.33631]\n",
      "activity Technology\n",
      "predicted_profit [97.33631]\n",
      "activity Finance\n",
      "predicted_profit [83.18572]\n",
      "activity Technology\n",
      "predicted_profit [85.31423]\n",
      "activity Technology\n",
      "predicted_profit [56.94652]\n",
      "activity Technology\n",
      "predicted_profit [100.391136]\n",
      "activity Technology\n",
      "predicted_profit [98.83949]\n"
     ]
    },
    {
     "name": "stderr",
     "output_type": "stream",
     "text": [
      "127.0.0.1 - - [09/May/2024 00:07:46] \"OPTIONS /recommend_companies HTTP/1.1\" 200 -\n",
      "127.0.0.1 - - [09/May/2024 00:07:47] \"POST /recommend_companies HTTP/1.1\" 200 -\n"
     ]
    },
    {
     "name": "stdout",
     "output_type": "stream",
     "text": [
      "Technology\n",
      "Mean Squared Error on the validation set with XGBoost: 101.54817039817044\n",
      "activity Finance\n",
      "predicted_profit [83.37804]\n",
      "activity Technology\n",
      "predicted_profit [98.83949]\n",
      "activity Technology\n",
      "predicted_profit [97.33631]\n",
      "activity Technology\n",
      "predicted_profit [97.33631]\n",
      "activity Finance\n",
      "predicted_profit [83.18572]\n",
      "activity Technology\n",
      "predicted_profit [85.31423]\n",
      "activity Technology\n",
      "predicted_profit [56.94652]\n",
      "activity Technology\n",
      "predicted_profit [100.391136]\n",
      "activity Technology\n",
      "predicted_profit [98.83949]\n"
     ]
    },
    {
     "name": "stderr",
     "output_type": "stream",
     "text": [
      "127.0.0.1 - - [09/May/2024 00:08:07] \"POST /recommend_companies HTTP/1.1\" 200 -\n"
     ]
    },
    {
     "name": "stdout",
     "output_type": "stream",
     "text": [
      "Technology\n"
     ]
    },
    {
     "name": "stderr",
     "output_type": "stream",
     "text": [
      "127.0.0.1 - - [09/May/2024 00:08:42] \"OPTIONS /recommend_companies HTTP/1.1\" 200 -\n"
     ]
    },
    {
     "name": "stdout",
     "output_type": "stream",
     "text": [
      "Mean Squared Error on the validation set with XGBoost: 101.54817039817044\n",
      "activity Finance\n",
      "predicted_profit [83.37804]\n",
      "activity Technology\n",
      "predicted_profit [98.83949]\n",
      "activity Technology\n",
      "predicted_profit [97.33631]\n",
      "activity Technology\n",
      "predicted_profit [97.33631]\n",
      "activity Finance\n",
      "predicted_profit [83.18572]\n",
      "activity Technology\n",
      "predicted_profit [85.31423]\n",
      "activity Technology\n",
      "predicted_profit [56.94652]\n",
      "activity Technology\n",
      "predicted_profit [100.391136]\n",
      "activity Technology\n",
      "predicted_profit [98.83949]\n"
     ]
    },
    {
     "name": "stderr",
     "output_type": "stream",
     "text": [
      "127.0.0.1 - - [09/May/2024 00:09:41] \"POST /recommend_companies HTTP/1.1\" 200 -\n"
     ]
    },
    {
     "name": "stdout",
     "output_type": "stream",
     "text": [
      "Technology\n",
      "Mean Squared Error on the validation set with XGBoost: 101.54817039817044\n",
      "activity Finance\n",
      "predicted_profit [83.37804]\n",
      "activity Technology\n",
      "predicted_profit [98.83949]\n",
      "activity Technology\n",
      "predicted_profit [97.33631]\n",
      "activity Technology\n",
      "predicted_profit [97.33631]\n",
      "activity Finance\n",
      "predicted_profit [83.18572]\n",
      "activity Technology\n",
      "predicted_profit [85.31423]\n",
      "activity Technology\n",
      "predicted_profit [56.94652]\n",
      "activity Technology\n",
      "predicted_profit [100.391136]\n",
      "activity Technology\n",
      "predicted_profit [98.83949]\n",
      "Mean Squared Error on the validation set with XGBoost: 101.54817039817044\n"
     ]
    },
    {
     "name": "stderr",
     "output_type": "stream",
     "text": [
      "127.0.0.1 - - [09/May/2024 00:10:03] \"POST /recommend_companies HTTP/1.1\" 200 -\n"
     ]
    },
    {
     "name": "stdout",
     "output_type": "stream",
     "text": [
      "Technology\n",
      "activity Finance\n",
      "predicted_profit [83.37804]\n",
      "activity Technology\n",
      "predicted_profit [98.83949]\n",
      "activity Technology\n",
      "predicted_profit [97.33631]\n",
      "activity Technology\n",
      "predicted_profit [97.33631]\n",
      "activity Finance\n",
      "predicted_profit [83.18572]\n",
      "activity Technology\n",
      "predicted_profit [85.31423]\n",
      "activity Technology\n",
      "predicted_profit [56.94652]\n",
      "activity Technology\n",
      "predicted_profit [100.391136]\n",
      "activity Technology\n",
      "predicted_profit [98.83949]\n"
     ]
    },
    {
     "name": "stderr",
     "output_type": "stream",
     "text": [
      "127.0.0.1 - - [09/May/2024 00:10:09] \"POST /recommend_companies HTTP/1.1\" 200 -\n"
     ]
    },
    {
     "name": "stdout",
     "output_type": "stream",
     "text": [
      "Mean Squared Error on the validation set with XGBoost: 101.54817039817044\n",
      "Technology\n",
      "activity Finance\n",
      "predicted_profit [83.37804]\n",
      "activity Technology\n",
      "predicted_profit [98.83949]\n",
      "activity Technology\n",
      "predicted_profit [97.33631]\n",
      "activity Technology\n",
      "predicted_profit [97.33631]\n",
      "activity Finance\n",
      "predicted_profit [83.18572]\n",
      "activity Technology\n",
      "predicted_profit [85.31423]\n",
      "activity Technology\n",
      "predicted_profit [56.94652]\n",
      "activity Technology\n",
      "predicted_profit [100.391136]\n",
      "activity Technology\n",
      "predicted_profit [98.83949]\n"
     ]
    },
    {
     "name": "stderr",
     "output_type": "stream",
     "text": [
      "127.0.0.1 - - [09/May/2024 00:10:21] \"POST /recommend_companies HTTP/1.1\" 200 -\n"
     ]
    },
    {
     "name": "stdout",
     "output_type": "stream",
     "text": [
      "Technology\n",
      "Mean Squared Error on the validation set with XGBoost: 101.54817039817044\n",
      "activity Finance\n",
      "predicted_profit [83.37804]\n",
      "activity Technology\n",
      "predicted_profit [98.83949]\n",
      "activity Technology\n",
      "predicted_profit [97.33631]\n",
      "activity Technology\n",
      "predicted_profit [97.33631]\n",
      "activity Finance\n",
      "predicted_profit [83.18572]\n",
      "activity Technology\n",
      "predicted_profit [85.31423]\n",
      "activity Technology\n",
      "predicted_profit [56.94652]\n",
      "activity Technology\n",
      "predicted_profit [100.391136]\n",
      "activity Technology\n",
      "predicted_profit [98.83949]\n"
     ]
    },
    {
     "name": "stderr",
     "output_type": "stream",
     "text": [
      "127.0.0.1 - - [09/May/2024 00:10:47] \"POST /recommend_companies HTTP/1.1\" 200 -\n"
     ]
    },
    {
     "name": "stdout",
     "output_type": "stream",
     "text": [
      "Technology\n"
     ]
    },
    {
     "name": "stderr",
     "output_type": "stream",
     "text": [
      "127.0.0.1 - - [09/May/2024 00:11:03] \"OPTIONS /recommend_companies HTTP/1.1\" 200 -\n"
     ]
    },
    {
     "name": "stdout",
     "output_type": "stream",
     "text": [
      "Mean Squared Error on the validation set with XGBoost: 101.54817039817044\n",
      "activity Finance\n",
      "predicted_profit [83.37804]\n",
      "activity Technology\n",
      "predicted_profit [98.83949]\n",
      "activity Technology\n",
      "predicted_profit [97.33631]\n",
      "activity Technology\n",
      "predicted_profit [97.33631]\n",
      "activity Finance\n",
      "predicted_profit [83.18572]\n",
      "activity Technology\n",
      "predicted_profit [85.31423]\n",
      "activity Technology\n",
      "predicted_profit [56.94652]\n",
      "activity Technology\n",
      "predicted_profit [100.391136]\n",
      "activity Technology\n",
      "predicted_profit [98.83949]\n"
     ]
    },
    {
     "name": "stderr",
     "output_type": "stream",
     "text": [
      "127.0.0.1 - - [09/May/2024 00:11:56] \"POST /recommend_companies HTTP/1.1\" 200 -\n"
     ]
    },
    {
     "name": "stdout",
     "output_type": "stream",
     "text": [
      "Technology\n"
     ]
    },
    {
     "name": "stderr",
     "output_type": "stream",
     "text": [
      "127.0.0.1 - - [09/May/2024 00:13:16] \"OPTIONS /recommend_companies HTTP/1.1\" 200 -\n"
     ]
    },
    {
     "name": "stdout",
     "output_type": "stream",
     "text": [
      "Mean Squared Error on the validation set with XGBoost: 101.54817039817044\n",
      "activity Finance\n",
      "predicted_profit [83.37804]\n",
      "activity Technology\n",
      "predicted_profit [98.83949]\n",
      "activity Technology\n",
      "predicted_profit [97.33631]\n",
      "activity Technology\n",
      "predicted_profit [97.33631]\n",
      "activity Finance\n",
      "predicted_profit [83.18572]\n",
      "activity Technology\n",
      "predicted_profit [85.31423]\n",
      "activity Technology\n",
      "predicted_profit [56.94652]\n",
      "activity Technology\n",
      "predicted_profit [100.391136]\n",
      "activity Technology\n",
      "predicted_profit [98.83949]\n"
     ]
    },
    {
     "name": "stderr",
     "output_type": "stream",
     "text": [
      "127.0.0.1 - - [09/May/2024 00:14:02] \"OPTIONS /recommend_companies HTTP/1.1\" 200 -\n",
      "127.0.0.1 - - [09/May/2024 00:14:04] \"POST /recommend_companies HTTP/1.1\" 200 -\n"
     ]
    },
    {
     "name": "stdout",
     "output_type": "stream",
     "text": [
      "Technology\n",
      "Mean Squared Error on the validation set with XGBoost: 101.54817039817044\n",
      "activity Finance\n",
      "predicted_profit [83.37804]\n",
      "activity Technology\n",
      "predicted_profit [98.83949]\n",
      "activity Technology\n",
      "predicted_profit [97.33631]\n",
      "activity Technology\n",
      "predicted_profit [97.33631]\n",
      "activity Finance\n",
      "predicted_profit [83.18572]\n",
      "activity Technology\n",
      "predicted_profit [85.31423]\n",
      "activity Technology\n",
      "predicted_profit [56.94652]\n",
      "activity Technology\n",
      "predicted_profit [100.391136]\n",
      "activity Technology\n",
      "predicted_profit [98.83949]\n"
     ]
    },
    {
     "name": "stderr",
     "output_type": "stream",
     "text": [
      "127.0.0.1 - - [09/May/2024 00:14:57] \"OPTIONS /recommend_companies HTTP/1.1\" 200 -\n",
      "127.0.0.1 - - [09/May/2024 00:15:01] \"POST /recommend_companies HTTP/1.1\" 200 -\n"
     ]
    },
    {
     "name": "stdout",
     "output_type": "stream",
     "text": [
      "Technology\n"
     ]
    },
    {
     "name": "stderr",
     "output_type": "stream",
     "text": [
      "127.0.0.1 - - [09/May/2024 00:15:13] \"OPTIONS /recommend_companies HTTP/1.1\" 200 -\n",
      "127.0.0.1 - - [09/May/2024 00:15:32] \"OPTIONS /recommend_companies HTTP/1.1\" 200 -\n",
      "127.0.0.1 - - [09/May/2024 00:15:41] \"OPTIONS /recommend_companies HTTP/1.1\" 200 -\n",
      "127.0.0.1 - - [09/May/2024 00:15:59] \"OPTIONS /recommend_companies HTTP/1.1\" 200 -\n"
     ]
    },
    {
     "name": "stdout",
     "output_type": "stream",
     "text": [
      "Mean Squared Error on the validation set with XGBoost: 101.54817039817044\n",
      "Mean Squared Error on the validation set with XGBoost: 101.54817039817044\n",
      "activity Finance\n",
      "predicted_profit [83.37804]\n",
      "activity Technology\n",
      "predicted_profit [98.83949]\n",
      "activity Technology\n",
      "predicted_profit [97.33631]\n",
      "activity Technology\n",
      "predicted_profit [97.33631]\n",
      "activity Finance\n",
      "predicted_profit [83.18572]\n",
      "activity Technology\n",
      "predicted_profit [85.31423]\n",
      "activity Technology\n",
      "predicted_profit [56.94652]\n",
      "activity Technology\n",
      "predicted_profit [100.391136]\n",
      "activity Technology\n",
      "predicted_profit [98.83949]\n",
      "Mean Squared Error on the validation set with XGBoost: 101.54817039817044\n",
      "activity Finance\n",
      "predicted_profit [83.37804]\n",
      "activity Technology\n",
      "predicted_profit [98.83949]\n",
      "activity Technology\n",
      "predicted_profit [97.33631]\n",
      "activity Technology\n",
      "predicted_profit [97.33631]\n",
      "activity Finance\n",
      "predicted_profit [83.18572]\n",
      "activity Technology\n",
      "predicted_profit [85.31423]\n",
      "activity Technology\n",
      "predicted_profit [56.94652]\n",
      "activity Technology\n",
      "predicted_profit [100.391136]\n",
      "activity Technology\n",
      "predicted_profit [98.83949]\n"
     ]
    },
    {
     "name": "stderr",
     "output_type": "stream",
     "text": [
      "127.0.0.1 - - [09/May/2024 00:18:14] \"POST /recommend_companies HTTP/1.1\" 200 -\n"
     ]
    },
    {
     "name": "stdout",
     "output_type": "stream",
     "text": [
      "Technology\n",
      "activity Finance\n",
      "predicted_profit [83.37804]\n",
      "activity Technology\n",
      "predicted_profit [98.83949]\n",
      "activity Technology\n",
      "predicted_profit [97.33631]\n",
      "activity Technology\n",
      "predicted_profit [97.33631]\n",
      "activity Finance\n",
      "predicted_profit [83.18572]\n",
      "activity Technology\n",
      "predicted_profit [85.31423]\n",
      "activity Technology\n",
      "predicted_profit [56.94652]\n",
      "activity Technology\n",
      "predicted_profit [100.391136]\n",
      "activity Technology\n",
      "predicted_profit [98.83949]\n"
     ]
    },
    {
     "name": "stderr",
     "output_type": "stream",
     "text": [
      "127.0.0.1 - - [09/May/2024 00:18:17] \"POST /recommend_companies HTTP/1.1\" 200 -\n"
     ]
    },
    {
     "name": "stdout",
     "output_type": "stream",
     "text": [
      "Technology\n",
      "Mean Squared Error on the validation set with XGBoost: 101.54817039817044\n"
     ]
    },
    {
     "name": "stderr",
     "output_type": "stream",
     "text": [
      "127.0.0.1 - - [09/May/2024 00:18:22] \"POST /recommend_companies HTTP/1.1\" 200 -\n"
     ]
    },
    {
     "name": "stdout",
     "output_type": "stream",
     "text": [
      "Technology\n",
      "activity Finance\n",
      "predicted_profit [83.37804]\n",
      "activity Technology\n",
      "predicted_profit [98.83949]\n",
      "activity Technology\n",
      "predicted_profit [97.33631]\n",
      "activity Technology\n",
      "predicted_profit [97.33631]\n",
      "activity Finance\n",
      "predicted_profit [83.18572]\n",
      "activity Technology\n",
      "predicted_profit [85.31423]\n",
      "activity Technology\n",
      "predicted_profit [56.94652]\n",
      "activity Technology\n",
      "predicted_profit [100.391136]\n",
      "activity Technology\n",
      "predicted_profit [98.83949]\n"
     ]
    },
    {
     "name": "stderr",
     "output_type": "stream",
     "text": [
      "127.0.0.1 - - [09/May/2024 00:18:31] \"POST /recommend_companies HTTP/1.1\" 200 -\n"
     ]
    },
    {
     "name": "stdout",
     "output_type": "stream",
     "text": [
      "Technology\n",
      "Mean Squared Error on the validation set with XGBoost: 101.54817039817044\n",
      "Mean Squared Error on the validation set with XGBoost: 101.54817039817044\n",
      "activity Finance\n",
      "predicted_profit [83.37804]\n",
      "activity Technology\n",
      "predicted_profit [98.83949]\n",
      "activity Technology\n",
      "predicted_profit [97.33631]\n",
      "activity Technology\n",
      "predicted_profit [97.33631]\n",
      "activity Finance\n",
      "predicted_profit [83.18572]\n",
      "activity Technology\n",
      "predicted_profit [85.31423]\n",
      "activity Technology\n",
      "predicted_profit [56.94652]\n",
      "activity Technology\n",
      "predicted_profit [100.391136]\n",
      "activity Technology\n",
      "predicted_profit [98.83949]\n",
      "activity Finance\n",
      "predicted_profit [83.37804]\n",
      "activity Technology\n",
      "predicted_profit [98.83949]\n",
      "activity Technology\n",
      "predicted_profit [97.33631]\n",
      "activity Technology\n",
      "predicted_profit [97.33631]\n",
      "activity Finance\n",
      "predicted_profit [83.18572]\n",
      "activity Technology\n",
      "predicted_profit [85.31423]\n",
      "activity Technology\n",
      "predicted_profit [56.94652]\n",
      "activity Technology\n",
      "predicted_profit [100.391136]\n",
      "activity Technology\n",
      "predicted_profit [98.83949]\n"
     ]
    },
    {
     "name": "stderr",
     "output_type": "stream",
     "text": [
      "127.0.0.1 - - [09/May/2024 00:18:45] \"POST /recommend_companies HTTP/1.1\" 200 -\n"
     ]
    },
    {
     "name": "stdout",
     "output_type": "stream",
     "text": [
      "Technology\n"
     ]
    },
    {
     "name": "stderr",
     "output_type": "stream",
     "text": [
      "127.0.0.1 - - [09/May/2024 00:18:50] \"POST /recommend_companies HTTP/1.1\" 200 -\n"
     ]
    },
    {
     "name": "stdout",
     "output_type": "stream",
     "text": [
      "Technology\n"
     ]
    },
    {
     "name": "stderr",
     "output_type": "stream",
     "text": [
      "127.0.0.1 - - [09/May/2024 00:25:14] \"OPTIONS /recommend_companies HTTP/1.1\" 200 -\n",
      "127.0.0.1 - - [09/May/2024 00:25:25] \"OPTIONS /recommend_companies HTTP/1.1\" 200 -\n",
      "127.0.0.1 - - [09/May/2024 00:25:43] \"OPTIONS /recommend_companies HTTP/1.1\" 200 -\n",
      "127.0.0.1 - - [09/May/2024 00:26:19] \"OPTIONS /recommend_companies HTTP/1.1\" 200 -\n"
     ]
    },
    {
     "name": "stdout",
     "output_type": "stream",
     "text": [
      "Mean Squared Error on the validation set with XGBoost: 101.54817039817044\n"
     ]
    },
    {
     "name": "stderr",
     "output_type": "stream",
     "text": [
      "127.0.0.1 - - [09/May/2024 00:26:48] \"OPTIONS /recommend_companies HTTP/1.1\" 200 -\n"
     ]
    },
    {
     "name": "stdout",
     "output_type": "stream",
     "text": [
      "activity Finance\n",
      "predicted_profit [83.37804]\n",
      "activity Technology\n",
      "predicted_profit [98.83949]\n",
      "activity Technology\n",
      "predicted_profit [97.33631]\n",
      "activity Technology\n",
      "predicted_profit [97.33631]\n",
      "activity Finance\n",
      "predicted_profit [83.18572]\n",
      "activity Technology\n",
      "predicted_profit [85.31423]\n",
      "activity Technology\n",
      "predicted_profit [56.94652]\n",
      "activity Technology\n",
      "predicted_profit [100.391136]\n",
      "activity Technology\n",
      "predicted_profit [98.83949]\n"
     ]
    },
    {
     "name": "stderr",
     "output_type": "stream",
     "text": [
      "127.0.0.1 - - [09/May/2024 00:26:54] \"POST /recommend_companies HTTP/1.1\" 200 -\n"
     ]
    },
    {
     "name": "stdout",
     "output_type": "stream",
     "text": [
      "Technology\n"
     ]
    },
    {
     "name": "stderr",
     "output_type": "stream",
     "text": [
      "127.0.0.1 - - [09/May/2024 00:27:19] \"OPTIONS /recommend_companies HTTP/1.1\" 200 -\n"
     ]
    },
    {
     "name": "stdout",
     "output_type": "stream",
     "text": [
      "Mean Squared Error on the validation set with XGBoost: 101.54817039817044\n",
      "activity Finance\n",
      "predicted_profit [83.37804]\n",
      "activity Technology\n",
      "predicted_profit [98.83949]\n",
      "activity Technology\n",
      "predicted_profit [97.33631]\n",
      "activity Technology\n",
      "predicted_profit [97.33631]\n",
      "activity Finance\n",
      "predicted_profit [83.18572]\n",
      "activity Technology\n",
      "predicted_profit [85.31423]\n",
      "activity Technology\n",
      "predicted_profit [56.94652]\n",
      "activity Technology\n",
      "predicted_profit [100.391136]\n",
      "activity Technology\n",
      "predicted_profit [98.83949]\n"
     ]
    },
    {
     "name": "stderr",
     "output_type": "stream",
     "text": [
      "127.0.0.1 - - [09/May/2024 00:27:37] \"POST /recommend_companies HTTP/1.1\" 200 -\n"
     ]
    },
    {
     "name": "stdout",
     "output_type": "stream",
     "text": [
      "Technology\n",
      "Mean Squared Error on the validation set with XGBoost: 101.54817039817044\n",
      "activity Finance\n",
      "predicted_profit [83.37804]\n",
      "activity Technology\n",
      "predicted_profit [98.83949]\n",
      "activity Technology\n",
      "predicted_profit [97.33631]\n",
      "activity Technology\n",
      "predicted_profit [97.33631]\n",
      "activity Finance\n",
      "predicted_profit [83.18572]\n",
      "activity Technology\n",
      "predicted_profit [85.31423]\n",
      "activity Technology\n",
      "predicted_profit [56.94652]\n",
      "activity Technology\n",
      "predicted_profit [100.391136]\n",
      "activity Technology\n",
      "predicted_profit [98.83949]\n"
     ]
    },
    {
     "name": "stderr",
     "output_type": "stream",
     "text": [
      "127.0.0.1 - - [09/May/2024 00:28:07] \"POST /recommend_companies HTTP/1.1\" 200 -\n"
     ]
    },
    {
     "name": "stdout",
     "output_type": "stream",
     "text": [
      "Technology\n"
     ]
    },
    {
     "name": "stderr",
     "output_type": "stream",
     "text": [
      "127.0.0.1 - - [09/May/2024 00:28:23] \"OPTIONS /recommend_companies HTTP/1.1\" 200 -\n",
      "127.0.0.1 - - [09/May/2024 00:28:41] \"OPTIONS /recommend_companies HTTP/1.1\" 200 -\n"
     ]
    },
    {
     "name": "stdout",
     "output_type": "stream",
     "text": [
      "Mean Squared Error on the validation set with XGBoost: 101.54817039817044\n",
      "activity Finance\n",
      "predicted_profit [83.37804]\n",
      "activity Technology\n",
      "predicted_profit [98.83949]\n",
      "activity Technology\n",
      "predicted_profit [97.33631]\n",
      "activity Technology\n",
      "predicted_profit [97.33631]\n",
      "activity Finance\n",
      "predicted_profit [83.18572]\n",
      "activity Technology\n",
      "predicted_profit [85.31423]\n",
      "activity Technology\n",
      "predicted_profit [56.94652]\n",
      "activity Technology\n",
      "predicted_profit [100.391136]\n",
      "activity Technology\n",
      "predicted_profit [98.83949]\n"
     ]
    },
    {
     "name": "stderr",
     "output_type": "stream",
     "text": [
      "127.0.0.1 - - [09/May/2024 00:28:56] \"POST /recommend_companies HTTP/1.1\" 200 -\n"
     ]
    },
    {
     "name": "stdout",
     "output_type": "stream",
     "text": [
      "Technology\n"
     ]
    },
    {
     "name": "stderr",
     "output_type": "stream",
     "text": [
      "127.0.0.1 - - [09/May/2024 00:28:56] \"OPTIONS /recommend_companies HTTP/1.1\" 200 -\n",
      "127.0.0.1 - - [09/May/2024 00:29:13] \"OPTIONS /recommend_companies HTTP/1.1\" 200 -\n"
     ]
    },
    {
     "name": "stdout",
     "output_type": "stream",
     "text": [
      "Mean Squared Error on the validation set with XGBoost: 101.54817039817044\n",
      "activity Finance\n",
      "predicted_profit [83.37804]\n",
      "activity Technology\n",
      "predicted_profit [98.83949]\n",
      "activity Technology\n",
      "predicted_profit [97.33631]\n",
      "activity Technology\n",
      "predicted_profit [97.33631]\n",
      "activity Finance\n",
      "predicted_profit [83.18572]\n",
      "activity Technology\n",
      "predicted_profit [85.31423]\n",
      "activity Technology\n",
      "predicted_profit [56.94652]\n",
      "activity Technology\n",
      "predicted_profit [100.391136]\n",
      "activity Technology\n",
      "predicted_profit [98.83949]\n"
     ]
    },
    {
     "name": "stderr",
     "output_type": "stream",
     "text": [
      "127.0.0.1 - - [09/May/2024 00:29:30] \"POST /recommend_companies HTTP/1.1\" 200 -\n"
     ]
    },
    {
     "name": "stdout",
     "output_type": "stream",
     "text": [
      "Technology\n",
      "Mean Squared Error on the validation set with XGBoost: 101.54817039817044\n",
      "activity Finance\n",
      "predicted_profit [83.37804]\n",
      "activity Technology\n",
      "predicted_profit [98.83949]\n",
      "activity Technology\n",
      "predicted_profit [97.33631]\n",
      "activity Technology\n",
      "predicted_profit [97.33631]\n",
      "activity Finance\n",
      "predicted_profit [83.18572]\n",
      "activity Technology\n",
      "predicted_profit [85.31423]\n",
      "activity Technology\n",
      "predicted_profit [56.94652]\n",
      "activity Technology\n",
      "predicted_profit [100.391136]\n",
      "activity Technology\n",
      "predicted_profit [98.83949]\n"
     ]
    },
    {
     "name": "stderr",
     "output_type": "stream",
     "text": [
      "127.0.0.1 - - [09/May/2024 00:30:10] \"POST /recommend_companies HTTP/1.1\" 200 -\n"
     ]
    },
    {
     "name": "stdout",
     "output_type": "stream",
     "text": [
      "Technology\n",
      "Mean Squared Error on the validation set with XGBoost: 101.54817039817044\n",
      "activity Finance\n",
      "predicted_profit [83.37804]\n",
      "activity Technology\n",
      "predicted_profit [98.83949]\n",
      "activity Technology\n",
      "predicted_profit [97.33631]\n",
      "activity Technology\n",
      "predicted_profit [97.33631]\n",
      "activity Finance\n",
      "predicted_profit [83.18572]\n",
      "activity Technology\n",
      "predicted_profit [85.31423]\n",
      "activity Technology\n",
      "predicted_profit [56.94652]\n",
      "activity Technology\n",
      "predicted_profit [100.391136]\n",
      "activity Technology\n",
      "predicted_profit [98.83949]\n",
      "Mean Squared Error on the validation set with XGBoost: 101.54817039817044\n"
     ]
    },
    {
     "name": "stderr",
     "output_type": "stream",
     "text": [
      "127.0.0.1 - - [09/May/2024 00:31:13] \"POST /recommend_companies HTTP/1.1\" 200 -\n"
     ]
    },
    {
     "name": "stdout",
     "output_type": "stream",
     "text": [
      "Technology\n",
      "activity Finance\n",
      "predicted_profit [83.37804]\n",
      "activity Technology\n",
      "predicted_profit [98.83949]\n",
      "activity Technology\n",
      "predicted_profit [97.33631]\n",
      "activity Technology\n",
      "predicted_profit [97.33631]\n",
      "activity Finance\n",
      "predicted_profit [83.18572]\n",
      "activity Technology\n",
      "predicted_profit [85.31423]\n",
      "activity Technology\n",
      "predicted_profit [56.94652]\n",
      "activity Technology\n",
      "predicted_profit [100.391136]\n",
      "activity Technology\n",
      "predicted_profit [98.83949]\n",
      "Mean Squared Error on the validation set with XGBoost: 101.54817039817044\n",
      "Mean Squared Error on the validation set with XGBoost: 101.54817039817044\n"
     ]
    },
    {
     "name": "stderr",
     "output_type": "stream",
     "text": [
      "127.0.0.1 - - [09/May/2024 00:31:24] \"POST /recommend_companies HTTP/1.1\" 200 -\n"
     ]
    },
    {
     "name": "stdout",
     "output_type": "stream",
     "text": [
      "Technology\n",
      "activity Finance\n",
      "predicted_profit [83.37804]\n",
      "activity Technology\n",
      "predicted_profit [98.83949]\n",
      "activity Technology\n",
      "predicted_profit [97.33631]\n",
      "activity Technology\n",
      "predicted_profit [97.33631]\n",
      "activity Finance\n",
      "predicted_profit [83.18572]\n",
      "activity Technology\n",
      "predicted_profit [85.31423]\n",
      "activity Technology\n",
      "predicted_profit [56.94652]\n",
      "activity Technology\n",
      "predicted_profit [100.391136]\n",
      "activity Technology\n",
      "predicted_profit [98.83949]\n",
      "activity Finance\n",
      "predicted_profit [83.37804]\n",
      "activity Technology\n",
      "predicted_profit [98.83949]\n",
      "activity Technology\n",
      "predicted_profit [97.33631]\n",
      "activity Technology\n",
      "predicted_profit [97.33631]\n",
      "activity Finance\n",
      "predicted_profit [83.18572]\n",
      "activity Technology\n",
      "predicted_profit [85.31423]\n",
      "activity Technology\n",
      "predicted_profit [56.94652]\n",
      "activity Technology\n",
      "predicted_profit [100.391136]\n",
      "activity Technology\n",
      "predicted_profit [98.83949]\n"
     ]
    },
    {
     "name": "stderr",
     "output_type": "stream",
     "text": [
      "127.0.0.1 - - [09/May/2024 00:31:29] \"POST /recommend_companies HTTP/1.1\" 200 -\n"
     ]
    },
    {
     "name": "stdout",
     "output_type": "stream",
     "text": [
      "Technology\n"
     ]
    },
    {
     "name": "stderr",
     "output_type": "stream",
     "text": [
      "127.0.0.1 - - [09/May/2024 00:31:32] \"POST /recommend_companies HTTP/1.1\" 200 -\n"
     ]
    },
    {
     "name": "stdout",
     "output_type": "stream",
     "text": [
      "Technology\n"
     ]
    },
    {
     "name": "stderr",
     "output_type": "stream",
     "text": [
      "127.0.0.1 - - [09/May/2024 00:31:47] \"OPTIONS /recommend_companies HTTP/1.1\" 200 -\n"
     ]
    },
    {
     "name": "stdout",
     "output_type": "stream",
     "text": [
      "Mean Squared Error on the validation set with XGBoost: 101.54817039817044\n",
      "activity Finance\n",
      "predicted_profit [83.37804]\n",
      "activity Technology\n",
      "predicted_profit [98.83949]\n",
      "activity Technology\n",
      "predicted_profit [97.33631]\n",
      "activity Technology\n",
      "predicted_profit [97.33631]\n",
      "activity Finance\n",
      "predicted_profit [83.18572]\n",
      "activity Technology\n",
      "predicted_profit [85.31423]\n",
      "activity Technology\n",
      "predicted_profit [56.94652]\n",
      "activity Technology\n",
      "predicted_profit [100.391136]\n",
      "activity Technology\n",
      "predicted_profit [98.83949]\n"
     ]
    },
    {
     "name": "stderr",
     "output_type": "stream",
     "text": [
      "127.0.0.1 - - [09/May/2024 00:32:38] \"POST /recommend_companies HTTP/1.1\" 200 -\n"
     ]
    },
    {
     "name": "stdout",
     "output_type": "stream",
     "text": [
      "Technology\n"
     ]
    },
    {
     "name": "stderr",
     "output_type": "stream",
     "text": [
      "127.0.0.1 - - [09/May/2024 00:36:22] \"OPTIONS /recommend_companies HTTP/1.1\" 200 -\n",
      "127.0.0.1 - - [09/May/2024 00:36:33] \"OPTIONS /recommend_companies HTTP/1.1\" 200 -\n",
      "127.0.0.1 - - [09/May/2024 00:36:42] \"OPTIONS /recommend_companies HTTP/1.1\" 200 -\n",
      "127.0.0.1 - - [09/May/2024 00:37:02] \"OPTIONS /recommend_companies HTTP/1.1\" 200 -\n",
      "127.0.0.1 - - [09/May/2024 00:37:27] \"OPTIONS /recommend_companies HTTP/1.1\" 200 -\n"
     ]
    },
    {
     "name": "stdout",
     "output_type": "stream",
     "text": [
      "Mean Squared Error on the validation set with XGBoost: 101.54817039817044\n",
      "activity Finance\n",
      "predicted_profit [83.37804]\n",
      "activity Technology\n",
      "predicted_profit [98.83949]\n",
      "activity Technology\n",
      "predicted_profit [97.33631]\n",
      "activity Technology\n",
      "predicted_profit [97.33631]\n",
      "activity Finance\n",
      "predicted_profit [83.18572]\n",
      "activity Technology\n",
      "predicted_profit [85.31423]\n",
      "activity Technology\n",
      "predicted_profit [56.94652]\n",
      "activity Technology\n",
      "predicted_profit [100.391136]\n",
      "activity Technology\n",
      "predicted_profit [98.83949]\n"
     ]
    },
    {
     "name": "stderr",
     "output_type": "stream",
     "text": [
      "127.0.0.1 - - [09/May/2024 00:38:55] \"POST /recommend_companies HTTP/1.1\" 200 -\n"
     ]
    },
    {
     "name": "stdout",
     "output_type": "stream",
     "text": [
      "Technology\n"
     ]
    },
    {
     "name": "stderr",
     "output_type": "stream",
     "text": [
      "127.0.0.1 - - [09/May/2024 00:39:28] \"OPTIONS /recommend_companies HTTP/1.1\" 200 -\n"
     ]
    },
    {
     "name": "stdout",
     "output_type": "stream",
     "text": [
      "Mean Squared Error on the validation set with XGBoost: 101.54817039817044\n"
     ]
    },
    {
     "name": "stderr",
     "output_type": "stream",
     "text": [
      "127.0.0.1 - - [09/May/2024 00:39:38] \"OPTIONS /recommend_companies HTTP/1.1\" 200 -\n"
     ]
    },
    {
     "name": "stdout",
     "output_type": "stream",
     "text": [
      "activity Finance\n",
      "predicted_profit [83.37804]\n",
      "activity Technology\n",
      "predicted_profit [98.83949]\n",
      "activity Technology\n",
      "predicted_profit [97.33631]\n",
      "activity Technology\n",
      "predicted_profit [97.33631]\n",
      "activity Finance\n",
      "predicted_profit [83.18572]\n",
      "activity Technology\n",
      "predicted_profit [85.31423]\n",
      "activity Technology\n",
      "predicted_profit [56.94652]\n",
      "activity Technology\n",
      "predicted_profit [100.391136]\n",
      "activity Technology\n",
      "predicted_profit [98.83949]\n",
      "Mean Squared Error on the validation set with XGBoost: 101.54817039817044\n"
     ]
    },
    {
     "name": "stderr",
     "output_type": "stream",
     "text": [
      "127.0.0.1 - - [09/May/2024 00:39:45] \"POST /recommend_companies HTTP/1.1\" 200 -\n"
     ]
    },
    {
     "name": "stdout",
     "output_type": "stream",
     "text": [
      "Technology\n",
      "Mean Squared Error on the validation set with XGBoost: 101.54817039817044\n",
      "activity Finance\n",
      "predicted_profit [83.37804]\n",
      "activity Technology\n",
      "predicted_profit [98.83949]\n",
      "activity Technology\n",
      "predicted_profit [97.33631]\n",
      "activity Technology\n",
      "predicted_profit [97.33631]\n",
      "activity Finance\n",
      "predicted_profit [83.18572]\n",
      "activity Technology\n",
      "predicted_profit [85.31423]\n",
      "activity Technology\n",
      "predicted_profit [56.94652]\n",
      "activity Technology\n",
      "predicted_profit [100.391136]\n",
      "activity Technology\n",
      "predicted_profit [98.83949]\n",
      "activity Finance\n",
      "predicted_profit [83.37804]\n",
      "activity Technology\n",
      "predicted_profit [98.83949]\n",
      "activity Technology\n",
      "predicted_profit [97.33631]\n",
      "activity Technology\n",
      "predicted_profit [97.33631]\n",
      "activity Finance\n",
      "predicted_profit [83.18572]\n",
      "activity Technology\n",
      "predicted_profit [85.31423]\n",
      "activity Technology\n",
      "predicted_profit [56.94652]\n",
      "activity Technology\n",
      "predicted_profit [100.391136]\n",
      "activity Technology\n",
      "predicted_profit [98.83949]\n"
     ]
    },
    {
     "name": "stderr",
     "output_type": "stream",
     "text": [
      "127.0.0.1 - - [09/May/2024 00:39:53] \"POST /recommend_companies HTTP/1.1\" 200 -\n"
     ]
    },
    {
     "name": "stdout",
     "output_type": "stream",
     "text": [
      "Technology\n"
     ]
    },
    {
     "name": "stderr",
     "output_type": "stream",
     "text": [
      "127.0.0.1 - - [09/May/2024 00:39:58] \"POST /recommend_companies HTTP/1.1\" 200 -\n"
     ]
    },
    {
     "name": "stdout",
     "output_type": "stream",
     "text": [
      "Technology\n",
      "Mean Squared Error on the validation set with XGBoost: 101.54817039817044\n",
      "activity Finance\n",
      "predicted_profit [83.37804]\n",
      "activity Technology\n",
      "predicted_profit [98.83949]\n",
      "activity Technology\n",
      "predicted_profit [97.33631]\n",
      "activity Technology\n",
      "predicted_profit [97.33631]\n",
      "activity Finance\n",
      "predicted_profit [83.18572]\n",
      "activity Technology\n",
      "predicted_profit [85.31423]\n",
      "activity Technology\n",
      "predicted_profit [56.94652]\n",
      "activity Technology\n",
      "predicted_profit [100.391136]\n",
      "activity Technology\n",
      "predicted_profit [98.83949]\n"
     ]
    },
    {
     "name": "stderr",
     "output_type": "stream",
     "text": [
      "127.0.0.1 - - [09/May/2024 00:40:14] \"POST /recommend_companies HTTP/1.1\" 200 -\n"
     ]
    },
    {
     "name": "stdout",
     "output_type": "stream",
     "text": [
      "Technology\n",
      "Mean Squared Error on the validation set with XGBoost: 101.54817039817044\n",
      "activity Finance\n",
      "predicted_profit [83.37804]\n",
      "activity Technology\n",
      "predicted_profit [98.83949]\n",
      "activity Technology\n",
      "predicted_profit [97.33631]\n",
      "activity Technology\n",
      "predicted_profit [97.33631]\n",
      "activity Finance\n",
      "predicted_profit [83.18572]\n",
      "activity Technology\n",
      "predicted_profit [85.31423]\n",
      "activity Technology\n",
      "predicted_profit [56.94652]\n",
      "activity Technology\n",
      "predicted_profit [100.391136]\n",
      "activity Technology\n",
      "predicted_profit [98.83949]\n"
     ]
    },
    {
     "name": "stderr",
     "output_type": "stream",
     "text": [
      "127.0.0.1 - - [09/May/2024 00:40:28] \"POST /recommend_companies HTTP/1.1\" 200 -\n"
     ]
    },
    {
     "name": "stdout",
     "output_type": "stream",
     "text": [
      "Technology\n",
      "Mean Squared Error on the validation set with XGBoost: 101.54817039817044\n",
      "Mean Squared Error on the validation set with XGBoost: 101.54817039817044\n",
      "activity Finance\n",
      "predicted_profit [83.37804]\n",
      "activity Technology\n",
      "predicted_profit [98.83949]\n",
      "activity Technology\n",
      "predicted_profit [97.33631]\n",
      "activity Technology\n",
      "predicted_profit [97.33631]\n",
      "activity Finance\n",
      "predicted_profit [83.18572]\n",
      "activity Technology\n",
      "predicted_profit [85.31423]\n",
      "activity Technology\n",
      "predicted_profit [56.94652]\n",
      "activity Technology\n",
      "predicted_profit [100.391136]\n",
      "activity Technology\n",
      "predicted_profit [98.83949]\n",
      "activity Finance\n",
      "predicted_profit [83.37804]\n",
      "activity Technology\n",
      "predicted_profit [98.83949]\n",
      "activity Technology\n",
      "predicted_profit [97.33631]\n",
      "activity Technology\n",
      "predicted_profit [97.33631]\n",
      "activity Finance\n",
      "predicted_profit [83.18572]\n",
      "activity Technology\n",
      "predicted_profit [85.31423]\n",
      "activity Technology\n",
      "predicted_profit [56.94652]\n",
      "activity Technology\n",
      "predicted_profit [100.391136]\n",
      "activity Technology\n",
      "predicted_profit [98.83949]\n"
     ]
    },
    {
     "name": "stderr",
     "output_type": "stream",
     "text": [
      "127.0.0.1 - - [09/May/2024 00:41:11] \"POST /recommend_companies HTTP/1.1\" 200 -\n"
     ]
    },
    {
     "name": "stdout",
     "output_type": "stream",
     "text": [
      "Technology\n"
     ]
    },
    {
     "name": "stderr",
     "output_type": "stream",
     "text": [
      "127.0.0.1 - - [09/May/2024 00:41:13] \"POST /recommend_companies HTTP/1.1\" 200 -\n"
     ]
    },
    {
     "name": "stdout",
     "output_type": "stream",
     "text": [
      "Technology\n"
     ]
    },
    {
     "name": "stderr",
     "output_type": "stream",
     "text": [
      "127.0.0.1 - - [09/May/2024 00:45:13] \"OPTIONS /recommend_companies HTTP/1.1\" 200 -\n",
      "127.0.0.1 - - [09/May/2024 00:45:23] \"OPTIONS /recommend_companies HTTP/1.1\" 200 -\n",
      "127.0.0.1 - - [09/May/2024 00:45:25] \"OPTIONS /recommend_companies HTTP/1.1\" 200 -\n"
     ]
    },
    {
     "name": "stdout",
     "output_type": "stream",
     "text": [
      "Mean Squared Error on the validation set with XGBoost: 101.54817039817044\n"
     ]
    },
    {
     "name": "stderr",
     "output_type": "stream",
     "text": [
      "127.0.0.1 - - [09/May/2024 00:46:58] \"OPTIONS /recommend_companies HTTP/1.1\" 200 -\n"
     ]
    },
    {
     "name": "stdout",
     "output_type": "stream",
     "text": [
      "activity Finance\n",
      "predicted_profit [83.37804]\n",
      "activity Technology\n",
      "predicted_profit [98.83949]\n",
      "activity Technology\n",
      "predicted_profit [97.33631]\n",
      "activity Technology\n",
      "predicted_profit [97.33631]\n",
      "activity Finance\n",
      "predicted_profit [83.18572]\n",
      "activity Technology\n",
      "predicted_profit [85.31423]\n",
      "activity Technology\n",
      "predicted_profit [56.94652]\n",
      "activity Technology\n",
      "predicted_profit [100.391136]\n",
      "activity Technology\n",
      "predicted_profit [98.83949]\n",
      "Mean Squared Error on the validation set with XGBoost: 101.54817039817044\n"
     ]
    },
    {
     "name": "stderr",
     "output_type": "stream",
     "text": [
      "127.0.0.1 - - [09/May/2024 00:47:08] \"POST /recommend_companies HTTP/1.1\" 200 -\n"
     ]
    },
    {
     "name": "stdout",
     "output_type": "stream",
     "text": [
      "Technology\n",
      "activity Finance\n",
      "predicted_profit [83.37804]\n",
      "activity Technology\n",
      "predicted_profit [98.83949]\n",
      "activity Technology\n",
      "predicted_profit [97.33631]\n",
      "activity Technology\n",
      "predicted_profit [97.33631]\n",
      "activity Finance\n",
      "predicted_profit [83.18572]\n",
      "activity Technology\n",
      "predicted_profit [85.31423]\n",
      "activity Technology\n",
      "predicted_profit [56.94652]\n",
      "activity Technology\n",
      "predicted_profit [100.391136]\n",
      "activity Technology\n",
      "predicted_profit [98.83949]\n",
      "Mean Squared Error on the validation set with XGBoost: 101.54817039817044\n"
     ]
    },
    {
     "name": "stderr",
     "output_type": "stream",
     "text": [
      "127.0.0.1 - - [09/May/2024 00:47:19] \"POST /recommend_companies HTTP/1.1\" 200 -\n"
     ]
    },
    {
     "name": "stdout",
     "output_type": "stream",
     "text": [
      "Technology\n"
     ]
    },
    {
     "name": "stderr",
     "output_type": "stream",
     "text": [
      "127.0.0.1 - - [09/May/2024 00:47:24] \"OPTIONS /recommend_companies HTTP/1.1\" 200 -\n"
     ]
    },
    {
     "name": "stdout",
     "output_type": "stream",
     "text": [
      "activity Finance\n",
      "predicted_profit [83.37804]\n",
      "activity Technology\n",
      "predicted_profit [98.83949]\n",
      "activity Technology\n",
      "predicted_profit [97.33631]\n",
      "activity Technology\n",
      "predicted_profit [97.33631]\n",
      "activity Finance\n",
      "predicted_profit [83.18572]\n",
      "activity Technology\n",
      "predicted_profit [85.31423]\n",
      "activity Technology\n",
      "predicted_profit [56.94652]\n",
      "activity Technology\n",
      "predicted_profit [100.391136]\n",
      "activity Technology\n",
      "predicted_profit [98.83949]\n"
     ]
    },
    {
     "name": "stderr",
     "output_type": "stream",
     "text": [
      "127.0.0.1 - - [09/May/2024 00:47:31] \"POST /recommend_companies HTTP/1.1\" 200 -\n"
     ]
    },
    {
     "name": "stdout",
     "output_type": "stream",
     "text": [
      "Technology\n"
     ]
    },
    {
     "name": "stderr",
     "output_type": "stream",
     "text": [
      "127.0.0.1 - - [09/May/2024 00:47:43] \"OPTIONS /recommend_companies HTTP/1.1\" 200 -\n",
      "127.0.0.1 - - [09/May/2024 00:47:51] \"OPTIONS /recommend_companies HTTP/1.1\" 200 -\n",
      "127.0.0.1 - - [09/May/2024 00:48:01] \"OPTIONS /recommend_companies HTTP/1.1\" 200 -\n",
      "127.0.0.1 - - [09/May/2024 00:48:54] \"OPTIONS /recommend_companies HTTP/1.1\" 200 -\n",
      "127.0.0.1 - - [09/May/2024 00:49:01] \"OPTIONS /recommend_companies HTTP/1.1\" 200 -\n"
     ]
    },
    {
     "name": "stdout",
     "output_type": "stream",
     "text": [
      "Mean Squared Error on the validation set with XGBoost: 101.54817039817044\n",
      "activity Finance\n",
      "predicted_profit [83.37804]\n",
      "activity Technology\n",
      "predicted_profit [98.83949]\n",
      "activity Technology\n",
      "predicted_profit [97.33631]\n",
      "activity Technology\n",
      "predicted_profit [97.33631]\n",
      "activity Finance\n",
      "predicted_profit [83.18572]\n",
      "activity Technology\n",
      "predicted_profit [85.31423]\n",
      "activity Technology\n",
      "predicted_profit [56.94652]\n",
      "activity Technology\n",
      "predicted_profit [100.391136]\n",
      "activity Technology\n",
      "predicted_profit [98.83949]\n"
     ]
    },
    {
     "name": "stderr",
     "output_type": "stream",
     "text": [
      "127.0.0.1 - - [09/May/2024 00:51:42] \"OPTIONS /recommend_companies HTTP/1.1\" 200 -\n",
      "127.0.0.1 - - [09/May/2024 00:51:44] \"POST /recommend_companies HTTP/1.1\" 200 -\n"
     ]
    },
    {
     "name": "stdout",
     "output_type": "stream",
     "text": [
      "Technology\n"
     ]
    },
    {
     "name": "stderr",
     "output_type": "stream",
     "text": [
      "127.0.0.1 - - [09/May/2024 00:51:52] \"OPTIONS /recommend_companies HTTP/1.1\" 200 -\n",
      "127.0.0.1 - - [09/May/2024 00:53:25] \"OPTIONS /recommend_companies HTTP/1.1\" 200 -\n"
     ]
    },
    {
     "name": "stdout",
     "output_type": "stream",
     "text": [
      "Mean Squared Error on the validation set with XGBoost: 101.54817039817044\n",
      "activity Finance\n",
      "predicted_profit [83.37804]\n",
      "activity Technology\n",
      "predicted_profit [98.83949]\n",
      "activity Technology\n",
      "predicted_profit [97.33631]\n",
      "activity Technology\n",
      "predicted_profit [97.33631]\n",
      "activity Finance\n",
      "predicted_profit [83.18572]\n",
      "activity Technology\n",
      "predicted_profit [85.31423]\n",
      "activity Technology\n",
      "predicted_profit [56.94652]\n",
      "activity Technology\n",
      "predicted_profit [100.391136]\n",
      "activity Technology\n",
      "predicted_profit [98.83949]\n"
     ]
    },
    {
     "name": "stderr",
     "output_type": "stream",
     "text": [
      "127.0.0.1 - - [09/May/2024 00:53:47] \"POST /recommend_companies HTTP/1.1\" 200 -\n"
     ]
    },
    {
     "name": "stdout",
     "output_type": "stream",
     "text": [
      "Technology\n",
      "Mean Squared Error on the validation set with XGBoost: 101.54817039817044\n",
      "activity Finance\n",
      "predicted_profit [83.37804]\n",
      "activity Technology\n",
      "predicted_profit [98.83949]\n",
      "activity Technology\n",
      "predicted_profit [97.33631]\n",
      "activity Technology\n",
      "predicted_profit [97.33631]\n",
      "activity Finance\n",
      "predicted_profit [83.18572]\n",
      "activity Technology\n",
      "predicted_profit [85.31423]\n",
      "activity Technology\n",
      "predicted_profit [56.94652]\n",
      "activity Technology\n",
      "predicted_profit [100.391136]\n",
      "activity Technology\n",
      "predicted_profit [98.83949]\n",
      "Mean Squared Error on the validation set with XGBoost: 101.54817039817044\n",
      "Mean Squared Error on the validation set with XGBoost: 101.54817039817044\n",
      "Mean Squared Error on the validation set with XGBoost: 101.54817039817044\n",
      "Mean Squared Error on the validation set with XGBoost: 101.54817039817044\n"
     ]
    },
    {
     "name": "stderr",
     "output_type": "stream",
     "text": [
      "127.0.0.1 - - [09/May/2024 00:55:03] \"POST /recommend_companies HTTP/1.1\" 200 -\n"
     ]
    },
    {
     "name": "stdout",
     "output_type": "stream",
     "text": [
      "Technology\n",
      "activity Finance\n",
      "predicted_profit [83.37804]\n",
      "activity Technology\n",
      "predicted_profit [98.83949]\n",
      "activity Technology\n",
      "predicted_profit [97.33631]\n",
      "activity Technology\n",
      "predicted_profit [97.33631]\n",
      "activity Finance\n",
      "predicted_profit [83.18572]\n",
      "activity Technology\n",
      "predicted_profit [85.31423]\n",
      "activity Technology\n",
      "predicted_profit [56.94652]\n",
      "activity Technology\n",
      "predicted_profit [100.391136]\n",
      "activity Technology\n",
      "predicted_profit [98.83949]\n",
      "activity Finance\n",
      "predicted_profit [83.37804]\n",
      "activity Technology\n",
      "predicted_profit [98.83949]\n",
      "activity Technology\n",
      "predicted_profit [97.33631]\n",
      "activity Technology\n",
      "predicted_profit [97.33631]\n",
      "activity Finance\n",
      "predicted_profit [83.18572]\n",
      "activity Technology\n",
      "predicted_profit [85.31423]\n",
      "activity Technology\n",
      "predicted_profit [56.94652]\n",
      "activity Technology\n",
      "predicted_profit [100.391136]\n",
      "activity Technology\n",
      "predicted_profit [98.83949]\n",
      "Mean Squared Error on the validation set with XGBoost: 101.54817039817044\n",
      "activity Finance\n",
      "predicted_profit [83.37804]\n",
      "activity Technology\n",
      "predicted_profit [98.83949]\n",
      "activity Technology\n",
      "predicted_profit [97.33631]\n",
      "activity Technology\n",
      "activity Finance\n",
      "predicted_profit [97.33631]\n",
      "predicted_profitactivity  Finance[83.37804]\n",
      "\n",
      "activity predicted_profitTechnology [83.18572]\n",
      "\n",
      "activity Technologypredicted_profit\n",
      " [98.83949]\n",
      "activity Technology\n",
      "predicted_profit [85.31423]\n",
      "predicted_profitactivity  Technology\n",
      "[97.33631]\n",
      "activity Technology\n",
      "predicted_profit [56.94652]\n",
      "activitypredicted_profit [97.33631]\n",
      " Technology\n",
      "activity Finance\n",
      "predicted_profit [100.391136]\n",
      "predicted_profitactivity  [83.18572]\n",
      "Technology\n",
      "activity Technology\n",
      "predicted_profit [98.83949]\n",
      "predicted_profit [85.31423]\n",
      "activity Technology\n",
      "predicted_profit [56.94652]\n",
      "activity Technology\n",
      "predicted_profit [100.391136]\n",
      "activity Technology\n",
      "predicted_profit [98.83949]\n"
     ]
    },
    {
     "name": "stderr",
     "output_type": "stream",
     "text": [
      "127.0.0.1 - - [09/May/2024 00:55:10] \"POST /recommend_companies HTTP/1.1\" 200 -\n"
     ]
    },
    {
     "name": "stdout",
     "output_type": "stream",
     "text": [
      "Technology\n"
     ]
    },
    {
     "name": "stderr",
     "output_type": "stream",
     "text": [
      "127.0.0.1 - - [09/May/2024 00:55:12] \"POST /recommend_companies HTTP/1.1\" 200 -\n"
     ]
    },
    {
     "name": "stdout",
     "output_type": "stream",
     "text": [
      "Technology\n",
      "activity Finance\n",
      "predicted_profit [83.37804]\n",
      "activity Technology\n",
      "predicted_profit [98.83949]\n",
      "activity Technology\n",
      "predicted_profit [97.33631]\n",
      "activity Technology\n",
      "predicted_profit [97.33631]\n",
      "activity Finance\n",
      "predicted_profit [83.18572]\n",
      "activity Technology\n",
      "predicted_profit [85.31423]\n",
      "activity Technology\n",
      "predicted_profit [56.94652]\n",
      "activity Technology\n",
      "predicted_profit [100.391136]\n",
      "activity Technology\n",
      "predicted_profit [98.83949]\n"
     ]
    },
    {
     "name": "stderr",
     "output_type": "stream",
     "text": [
      "127.0.0.1 - - [09/May/2024 00:55:15] \"POST /recommend_companies HTTP/1.1\" 200 -\n",
      "127.0.0.1 - - [09/May/2024 00:55:15] \"POST /recommend_companies HTTP/1.1\" 200 -\n"
     ]
    },
    {
     "name": "stdout",
     "output_type": "stream",
     "text": [
      "Technology\n",
      "Technology\n"
     ]
    },
    {
     "name": "stderr",
     "output_type": "stream",
     "text": [
      "127.0.0.1 - - [09/May/2024 00:55:18] \"POST /recommend_companies HTTP/1.1\" 200 -\n"
     ]
    },
    {
     "name": "stdout",
     "output_type": "stream",
     "text": [
      "Technology\n"
     ]
    },
    {
     "name": "stderr",
     "output_type": "stream",
     "text": [
      "127.0.0.1 - - [09/May/2024 00:55:51] \"OPTIONS /recommend_companies HTTP/1.1\" 200 -\n"
     ]
    },
    {
     "name": "stdout",
     "output_type": "stream",
     "text": [
      "Mean Squared Error on the validation set with XGBoost: 101.54817039817044\n",
      "activity Finance\n",
      "predicted_profit [83.37804]\n",
      "activity Technology\n",
      "predicted_profit [98.83949]\n",
      "activity Technology\n",
      "predicted_profit [97.33631]\n",
      "activity Technology\n",
      "predicted_profit [97.33631]\n",
      "activity Finance\n",
      "predicted_profit [83.18572]\n",
      "activity Technology\n",
      "predicted_profit [85.31423]\n",
      "activity Technology\n",
      "predicted_profit [56.94652]\n",
      "activity Technology\n",
      "predicted_profit [100.391136]\n",
      "activity Technology\n",
      "predicted_profit [98.83949]\n",
      "Mean Squared Error on the validation set with XGBoost: 101.54817039817044\n"
     ]
    },
    {
     "name": "stderr",
     "output_type": "stream",
     "text": [
      "127.0.0.1 - - [09/May/2024 00:56:05] \"POST /recommend_companies HTTP/1.1\" 200 -\n"
     ]
    },
    {
     "name": "stdout",
     "output_type": "stream",
     "text": [
      "Technology\n",
      "activity Finance\n",
      "predicted_profit [83.37804]\n",
      "activity Technology\n",
      "predicted_profit [98.83949]\n",
      "activity Technology\n",
      "predicted_profit [97.33631]\n",
      "activity Technology\n",
      "predicted_profit [97.33631]\n",
      "activity Finance\n",
      "predicted_profit [83.18572]\n",
      "activity Technology\n",
      "predicted_profit [85.31423]\n",
      "activity Technology\n",
      "predicted_profit [56.94652]\n",
      "activity Technology\n",
      "predicted_profit [100.391136]\n",
      "activity Technology\n",
      "predicted_profit [98.83949]\n"
     ]
    },
    {
     "name": "stderr",
     "output_type": "stream",
     "text": [
      "127.0.0.1 - - [09/May/2024 00:56:13] \"POST /recommend_companies HTTP/1.1\" 200 -\n"
     ]
    },
    {
     "name": "stdout",
     "output_type": "stream",
     "text": [
      "Technology\n",
      "Mean Squared Error on the validation set with XGBoost: 101.54817039817044\n",
      "Mean Squared Error on the validation set with XGBoost: 101.54817039817044\n",
      "Mean Squared Error on the validation set with XGBoost: 101.54817039817044\n",
      "activity Finance\n",
      "predicted_profit [83.37804]\n",
      "activity Technology\n",
      "predicted_profit [98.83949]\n",
      "activity Technology\n",
      "predicted_profit [97.33631]\n",
      "activity Technology\n",
      "predicted_profit [97.33631]\n",
      "activity Finance\n",
      "predicted_profit [83.18572]\n",
      "activity Technology\n",
      "predicted_profit [85.31423]\n",
      "activity Technology\n",
      "predicted_profit [56.94652]\n",
      "activity Technology\n",
      "predicted_profit [100.391136]\n",
      "activity Technology\n",
      "predicted_profit [98.83949]\n",
      "activity Finance\n",
      "predicted_profit [83.37804]\n",
      "activity Technology\n",
      "predicted_profit [98.83949]\n",
      "activity Technology\n",
      "predicted_profit [97.33631]\n",
      "activity Technology\n",
      "predicted_profit [97.33631]\n",
      "activity Finance\n",
      "predicted_profit [83.18572]\n",
      "activity Technology\n",
      "predicted_profit [85.31423]\n",
      "activity Technology\n",
      "predicted_profit [56.94652]\n",
      "activity Technology\n",
      "predicted_profit [100.391136]\n",
      "activity Technology\n",
      "predicted_profit [98.83949]\n",
      "activity Finance\n",
      "predicted_profit [83.37804]\n",
      "activity Technology\n",
      "predicted_profit [98.83949]\n",
      "activity Technology\n",
      "predicted_profit [97.33631]\n",
      "activity Technology\n",
      "predicted_profit [97.33631]\n",
      "activity Finance\n",
      "predicted_profit [83.18572]\n",
      "activity Technology\n",
      "predicted_profit [85.31423]\n",
      "activity Technology\n",
      "predicted_profit [56.94652]\n",
      "activity Technology\n",
      "predicted_profit [100.391136]\n",
      "activity Technology\n",
      "predicted_profit [98.83949]\n"
     ]
    },
    {
     "name": "stderr",
     "output_type": "stream",
     "text": [
      "127.0.0.1 - - [09/May/2024 00:57:01] \"POST /recommend_companies HTTP/1.1\" 200 -\n"
     ]
    },
    {
     "name": "stdout",
     "output_type": "stream",
     "text": [
      "Technology\n"
     ]
    },
    {
     "name": "stderr",
     "output_type": "stream",
     "text": [
      "127.0.0.1 - - [09/May/2024 00:57:03] \"POST /recommend_companies HTTP/1.1\" 200 -\n"
     ]
    },
    {
     "name": "stdout",
     "output_type": "stream",
     "text": [
      "Technology\n"
     ]
    },
    {
     "name": "stderr",
     "output_type": "stream",
     "text": [
      "127.0.0.1 - - [09/May/2024 00:57:03] \"POST /recommend_companies HTTP/1.1\" 200 -\n"
     ]
    },
    {
     "name": "stdout",
     "output_type": "stream",
     "text": [
      "Technology\n",
      "Mean Squared Error on the validation set with XGBoost: 101.54817039817044\n",
      "activity Finance\n",
      "predicted_profit [83.37804]\n",
      "activity Technology\n",
      "predicted_profit [98.83949]\n",
      "activity Technology\n",
      "predicted_profit [97.33631]\n",
      "activity Technology\n",
      "predicted_profit [97.33631]\n",
      "activity Finance\n",
      "predicted_profit [83.18572]\n",
      "activity Technology\n",
      "predicted_profit [85.31423]\n",
      "activity Technology\n",
      "predicted_profit [56.94652]\n",
      "activity Technology\n",
      "predicted_profit [100.391136]\n",
      "activity Technology\n",
      "predicted_profit [98.83949]\n"
     ]
    },
    {
     "name": "stderr",
     "output_type": "stream",
     "text": [
      "127.0.0.1 - - [09/May/2024 00:57:18] \"POST /recommend_companies HTTP/1.1\" 200 -\n"
     ]
    },
    {
     "name": "stdout",
     "output_type": "stream",
     "text": [
      "Technology\n",
      "Mean Squared Error on the validation set with XGBoost: 101.54817039817044\n",
      "activity Finance\n",
      "predicted_profit [83.37804]\n",
      "activity Technology\n",
      "predicted_profit [98.83949]\n",
      "activity Technology\n",
      "predicted_profit [97.33631]\n",
      "activity Technology\n",
      "predicted_profit [97.33631]\n",
      "activity Finance\n",
      "predicted_profit [83.18572]\n",
      "activity Technology\n",
      "predicted_profit [85.31423]\n",
      "activity Technology\n",
      "predicted_profit [56.94652]\n",
      "activity Technology\n",
      "predicted_profit [100.391136]\n",
      "activity Technology\n",
      "predicted_profit [98.83949]\n"
     ]
    },
    {
     "name": "stderr",
     "output_type": "stream",
     "text": [
      "127.0.0.1 - - [09/May/2024 00:57:33] \"POST /recommend_companies HTTP/1.1\" 200 -\n"
     ]
    },
    {
     "name": "stdout",
     "output_type": "stream",
     "text": [
      "Technology\n"
     ]
    },
    {
     "name": "stderr",
     "output_type": "stream",
     "text": [
      "127.0.0.1 - - [09/May/2024 01:02:37] \"OPTIONS /recommend_companies HTTP/1.1\" 200 -\n",
      "127.0.0.1 - - [09/May/2024 01:03:07] \"OPTIONS /recommend_companies HTTP/1.1\" 200 -\n"
     ]
    },
    {
     "name": "stdout",
     "output_type": "stream",
     "text": [
      "Mean Squared Error on the validation set with XGBoost: 101.54817039817044\n",
      "activity Finance\n",
      "predicted_profit [83.37804]\n",
      "activity Technology\n",
      "predicted_profit [98.83949]\n",
      "activity Technology\n",
      "predicted_profit [97.33631]\n",
      "activity Technology\n",
      "predicted_profit [97.33631]\n",
      "activity Finance\n",
      "predicted_profit [83.18572]\n",
      "activity Technology\n",
      "predicted_profit [85.31423]\n",
      "activity Technology\n",
      "predicted_profit [56.94652]\n",
      "activity Technology\n",
      "predicted_profit [100.391136]\n",
      "activity Technology\n",
      "predicted_profit [98.83949]\n"
     ]
    },
    {
     "name": "stderr",
     "output_type": "stream",
     "text": [
      "127.0.0.1 - - [09/May/2024 01:03:26] \"POST /recommend_companies HTTP/1.1\" 200 -\n"
     ]
    },
    {
     "name": "stdout",
     "output_type": "stream",
     "text": [
      "Technology\n",
      "Mean Squared Error on the validation set with XGBoost: 101.54817039817044\n",
      "activity Finance\n",
      "predicted_profit [83.37804]\n",
      "activity Technology\n",
      "predicted_profit [98.83949]\n",
      "activity Technology\n",
      "predicted_profit [97.33631]\n",
      "activity Technology\n",
      "predicted_profit [97.33631]\n",
      "activity Finance\n",
      "predicted_profit [83.18572]\n",
      "activity Technology\n",
      "predicted_profit [85.31423]\n",
      "activity Technology\n",
      "predicted_profit [56.94652]\n",
      "activity Technology\n",
      "predicted_profit [100.391136]\n",
      "activity Technology\n",
      "predicted_profit [98.83949]\n"
     ]
    },
    {
     "name": "stderr",
     "output_type": "stream",
     "text": [
      "127.0.0.1 - - [09/May/2024 01:03:56] \"POST /recommend_companies HTTP/1.1\" 200 -\n"
     ]
    },
    {
     "name": "stdout",
     "output_type": "stream",
     "text": [
      "Technology\n"
     ]
    },
    {
     "name": "stderr",
     "output_type": "stream",
     "text": [
      "127.0.0.1 - - [09/May/2024 01:06:24] \"OPTIONS /recommend_companies HTTP/1.1\" 200 -\n"
     ]
    },
    {
     "name": "stdout",
     "output_type": "stream",
     "text": [
      "Mean Squared Error on the validation set with XGBoost: 101.54817039817044\n",
      "activity Finance\n",
      "predicted_profit [83.37804]\n",
      "activity Technology\n",
      "predicted_profit [98.83949]\n",
      "activity Technology\n",
      "predicted_profit [97.33631]\n",
      "activity Technology\n",
      "predicted_profit [97.33631]\n",
      "activity Finance\n",
      "predicted_profit [83.18572]\n",
      "activity Technology\n",
      "predicted_profit [85.31423]\n",
      "activity Technology\n",
      "predicted_profit [56.94652]\n",
      "activity Technology\n",
      "predicted_profit [100.391136]\n",
      "activity Technology\n",
      "predicted_profit [98.83949]\n"
     ]
    },
    {
     "name": "stderr",
     "output_type": "stream",
     "text": [
      "127.0.0.1 - - [09/May/2024 01:07:08] \"POST /recommend_companies HTTP/1.1\" 200 -\n"
     ]
    },
    {
     "name": "stdout",
     "output_type": "stream",
     "text": [
      "Technology\n"
     ]
    },
    {
     "name": "stderr",
     "output_type": "stream",
     "text": [
      "127.0.0.1 - - [09/May/2024 01:07:13] \"OPTIONS /recommend_companies HTTP/1.1\" 200 -\n"
     ]
    },
    {
     "name": "stdout",
     "output_type": "stream",
     "text": [
      "Mean Squared Error on the validation set with XGBoost: 101.54817039817044\n",
      "activity Finance\n",
      "predicted_profit [83.37804]\n",
      "activity Technology\n",
      "predicted_profit [98.83949]\n",
      "activity Technology\n",
      "predicted_profit [97.33631]\n",
      "activity Technology\n",
      "predicted_profit [97.33631]\n",
      "activity Finance\n",
      "predicted_profit [83.18572]\n",
      "activity Technology\n",
      "predicted_profit [85.31423]\n",
      "activity Technology\n",
      "predicted_profit [56.94652]\n",
      "activity Technology\n",
      "predicted_profit [100.391136]\n",
      "activity Technology\n",
      "predicted_profit [98.83949]\n"
     ]
    },
    {
     "name": "stderr",
     "output_type": "stream",
     "text": [
      "127.0.0.1 - - [09/May/2024 01:08:24] \"POST /recommend_companies HTTP/1.1\" 200 -\n"
     ]
    },
    {
     "name": "stdout",
     "output_type": "stream",
     "text": [
      "Technology\n"
     ]
    },
    {
     "name": "stderr",
     "output_type": "stream",
     "text": [
      "127.0.0.1 - - [09/May/2024 01:08:27] \"OPTIONS /recommend_companies HTTP/1.1\" 200 -\n",
      "127.0.0.1 - - [09/May/2024 01:08:43] \"OPTIONS /recommend_companies HTTP/1.1\" 200 -\n"
     ]
    },
    {
     "name": "stdout",
     "output_type": "stream",
     "text": [
      "Mean Squared Error on the validation set with XGBoost: 101.54817039817044\n",
      "activity Finance\n",
      "predicted_profit [83.37804]\n",
      "activity Technology\n",
      "predicted_profit [98.83949]\n",
      "activity Technology\n",
      "predicted_profit [97.33631]\n",
      "activity Technology\n",
      "predicted_profit [97.33631]\n",
      "activity Finance\n",
      "predicted_profit [83.18572]\n",
      "activity Technology\n",
      "predicted_profit [85.31423]\n",
      "activity Technology\n",
      "predicted_profit [56.94652]\n",
      "activity Technology\n",
      "predicted_profit [100.391136]\n",
      "activity Technology\n",
      "predicted_profit [98.83949]\n"
     ]
    },
    {
     "name": "stderr",
     "output_type": "stream",
     "text": [
      "127.0.0.1 - - [09/May/2024 01:09:31] \"POST /recommend_companies HTTP/1.1\" 200 -\n"
     ]
    },
    {
     "name": "stdout",
     "output_type": "stream",
     "text": [
      "Technology\n",
      "Mean Squared Error on the validation set with XGBoost: 101.54817039817044\n",
      "activity Finance\n",
      "predicted_profit [83.37804]\n",
      "activity Technology\n",
      "predicted_profit [98.83949]\n",
      "activity Technology\n",
      "predicted_profit [97.33631]\n",
      "activity Technology\n",
      "predicted_profit [97.33631]\n",
      "activity Finance\n",
      "predicted_profit [83.18572]\n",
      "activity Technology\n",
      "predicted_profit [85.31423]\n",
      "activity Technology\n",
      "predicted_profit [56.94652]\n",
      "activity Technology\n",
      "predicted_profit [100.391136]\n",
      "activity Technology\n",
      "predicted_profit [98.83949]\n"
     ]
    },
    {
     "name": "stderr",
     "output_type": "stream",
     "text": [
      "127.0.0.1 - - [09/May/2024 01:09:44] \"POST /recommend_companies HTTP/1.1\" 200 -\n"
     ]
    },
    {
     "name": "stdout",
     "output_type": "stream",
     "text": [
      "Technology\n"
     ]
    },
    {
     "name": "stderr",
     "output_type": "stream",
     "text": [
      "127.0.0.1 - - [09/May/2024 01:12:11] \"OPTIONS /recommend_companies HTTP/1.1\" 200 -\n"
     ]
    },
    {
     "name": "stdout",
     "output_type": "stream",
     "text": [
      "Mean Squared Error on the validation set with XGBoost: 101.54817039817044\n",
      "activity Finance\n",
      "predicted_profit [83.37804]\n",
      "activity Technology\n",
      "predicted_profit [98.83949]\n",
      "activity Technology\n",
      "predicted_profit [97.33631]\n",
      "activity Technology\n",
      "predicted_profit [97.33631]\n",
      "activity Finance\n",
      "predicted_profit [83.18572]\n",
      "activity Technology\n",
      "predicted_profit [85.31423]\n",
      "activity Technology\n",
      "predicted_profit [56.94652]\n",
      "activity Technology\n",
      "predicted_profit [100.391136]\n",
      "activity Technology\n",
      "predicted_profit [98.83949]\n"
     ]
    },
    {
     "name": "stderr",
     "output_type": "stream",
     "text": [
      "127.0.0.1 - - [09/May/2024 01:12:53] \"POST /recommend_companies HTTP/1.1\" 200 -\n"
     ]
    },
    {
     "name": "stdout",
     "output_type": "stream",
     "text": [
      "Technology\n"
     ]
    },
    {
     "name": "stderr",
     "output_type": "stream",
     "text": [
      "127.0.0.1 - - [09/May/2024 01:13:42] \"OPTIONS /recommend_companies HTTP/1.1\" 200 -\n"
     ]
    },
    {
     "name": "stdout",
     "output_type": "stream",
     "text": [
      "Mean Squared Error on the validation set with XGBoost: 101.54817039817044\n",
      "activity Finance\n",
      "predicted_profit [83.37804]\n",
      "activity Technology\n",
      "predicted_profit [98.83949]\n",
      "activity Technology\n",
      "predicted_profit [97.33631]\n",
      "activity Technology\n",
      "predicted_profit [97.33631]\n",
      "activity Finance\n",
      "predicted_profit [83.18572]\n",
      "activity Technology\n",
      "predicted_profit [85.31423]\n",
      "activity Technology\n",
      "predicted_profit [56.94652]\n",
      "activity Technology\n",
      "predicted_profit [100.391136]\n",
      "activity Technology\n",
      "predicted_profit [98.83949]\n"
     ]
    },
    {
     "name": "stderr",
     "output_type": "stream",
     "text": [
      "127.0.0.1 - - [09/May/2024 01:14:25] \"POST /recommend_companies HTTP/1.1\" 200 -\n"
     ]
    },
    {
     "name": "stdout",
     "output_type": "stream",
     "text": [
      "Technology\n"
     ]
    },
    {
     "name": "stderr",
     "output_type": "stream",
     "text": [
      "127.0.0.1 - - [09/May/2024 01:16:13] \"OPTIONS /recommend_companies HTTP/1.1\" 200 -\n"
     ]
    },
    {
     "name": "stdout",
     "output_type": "stream",
     "text": [
      "Mean Squared Error on the validation set with XGBoost: 101.54817039817044\n",
      "activity Finance\n",
      "predicted_profit [83.37804]\n",
      "activity Technology\n",
      "predicted_profit [98.83949]\n",
      "activity Technology\n",
      "predicted_profit [97.33631]\n",
      "activity Technology\n",
      "predicted_profit [97.33631]\n",
      "activity Finance\n",
      "predicted_profit [83.18572]\n",
      "activity Technology\n",
      "predicted_profit [85.31423]\n",
      "activity Technology\n",
      "predicted_profit [56.94652]\n",
      "activity Technology\n",
      "predicted_profit [100.391136]\n",
      "activity Technology\n",
      "predicted_profit [98.83949]\n"
     ]
    },
    {
     "name": "stderr",
     "output_type": "stream",
     "text": [
      "127.0.0.1 - - [09/May/2024 01:16:56] \"POST /recommend_companies HTTP/1.1\" 200 -\n"
     ]
    },
    {
     "name": "stdout",
     "output_type": "stream",
     "text": [
      "Technology\n"
     ]
    },
    {
     "name": "stderr",
     "output_type": "stream",
     "text": [
      "127.0.0.1 - - [09/May/2024 04:20:13] \"OPTIONS /recommend_companies HTTP/1.1\" 200 -\n"
     ]
    },
    {
     "name": "stdout",
     "output_type": "stream",
     "text": [
      "Mean Squared Error on the validation set with XGBoost: 101.54817039817044\n",
      "activity Finance\n",
      "predicted_profit [83.37804]\n",
      "activity Technology\n",
      "predicted_profit [98.83949]\n",
      "activity Technology\n",
      "predicted_profit [97.33631]\n",
      "activity Technology\n",
      "predicted_profit [97.33631]\n",
      "activity Finance\n",
      "predicted_profit [83.18572]\n",
      "activity Technology\n",
      "predicted_profit [85.31423]\n",
      "activity Technology\n",
      "predicted_profit [56.94652]\n",
      "activity Technology\n",
      "predicted_profit [100.391136]\n",
      "activity Technology\n",
      "predicted_profit [98.83949]\n"
     ]
    },
    {
     "name": "stderr",
     "output_type": "stream",
     "text": [
      "127.0.0.1 - - [09/May/2024 04:20:59] \"POST /recommend_companies HTTP/1.1\" 200 -\n"
     ]
    },
    {
     "name": "stdout",
     "output_type": "stream",
     "text": [
      "Technology\n"
     ]
    }
   ],
   "source": [
    "\n",
    "from flask import Flask, request, jsonify\n",
    "from sklearn.preprocessing import LabelEncoder\n",
    "import requests\n",
    "import pandas as pd\n",
    "from sklearn.ensemble import RandomForestClassifier\n",
    "from sklearn.model_selection import train_test_split\n",
    "import xgboost as xgb\n",
    "from sklearn.metrics import mean_squared_error\n",
    "from sklearn.model_selection import GridSearchCV\n",
    "from flask_cors import CORS\n",
    "\n",
    "import nest_asyncio\n",
    "\n",
    "nest_asyncio.apply()\n",
    "\n",
    "app = Flask(__name__)\n",
    "CORS(app) \n",
    "\n",
    "def fetch_companies():\n",
    "    base_url = 'http://localhost:8023/company/getAll'\n",
    "    api_url = f'{base_url}'\n",
    "    response = requests.get(api_url)\n",
    "    if response.status_code == 200:\n",
    "        # Extract JSON data from the response\n",
    "        companiesData = response.json()\n",
    "        # Print the structure of the data\n",
    "        return companiesData\n",
    "    else:\n",
    "        print(f\"Failed request {response.status_code}\")\n",
    "        return None\n",
    "        \n",
    "def make_predictions(companyData,best_xgb_model):\n",
    "    \n",
    "    if companyData.empty:\n",
    "        print(\"Erreur: Empty data.\")\n",
    "        return None\n",
    "    \n",
    "    # Supprimer les valeurs manquantes\n",
    "    companyData.fillna(0, inplace=True)\n",
    "    \n",
    "    # Supprimer les colonnes inutiles\n",
    "    companyData.drop(columns=['activity', 'rib', 'accountType', 'id', 'description'], inplace=True)\n",
    "    \n",
    "    # Instancier LabelEncoder\n",
    "    label_encoder = LabelEncoder()\n",
    "\n",
    "    # Encoder la colonne 'companyName'\n",
    "    companyData['companyName'] = label_encoder.fit_transform(companyData['companyName'])\n",
    "\n",
    "    # Encoder la colonne 'reportedCurrency'\n",
    "    companyData['reportedCurrency'] = label_encoder.fit_transform(companyData['reportedCurrency'])\n",
    "    \n",
    "    # Utiliser le modèle XGBoost pour faire des prédictions\n",
    "    predictions = best_xgb_model.predict(companyData)\n",
    "\n",
    "    return predictions   \n",
    "\n",
    "def preprocess_data_and_split(file_path):\n",
    "    # Charger les données financières depuis le fichier CSV\n",
    "    Financial_data = pd.read_csv(file_path)\n",
    "    \n",
    "    # Supprimer les lignes contenant des valeurs manquantes\n",
    "    Financial_data.dropna(inplace=True)\n",
    "    \n",
    "    # Supprimer les colonnes inutiles\n",
    "    Financial_data.drop(columns=['Unnamed: 0', 'risk', 'changeInCashAndCashEquivalents'], inplace=True) \n",
    "    \n",
    "    # Instancier LabelEncoder\n",
    "    label_encoder = LabelEncoder()\n",
    "    \n",
    "    # Encoder la colonne 'companyName'\n",
    "    Financial_data['companyName'] = label_encoder.fit_transform(Financial_data['companyName'])\n",
    "    \n",
    "    # Encoder la colonne 'reportedCurrency'\n",
    "    Financial_data['reportedCurrency'] = label_encoder.fit_transform(Financial_data['reportedCurrency'])  \n",
    "    \n",
    "    Financial_data \n",
    "    \n",
    "    # Séparer les données en X (features) et Y (target)\n",
    "    X = Financial_data.drop(columns=[\"profit\"])\n",
    "    Y = Financial_data[\"profit\"]\n",
    "    \n",
    "    # Diviser les données en ensembles d'entraînement, de test et de validation\n",
    "    X_train, X_test_val, Y_train, Y_test_val = train_test_split(X, Y, test_size=0.2, random_state=42)\n",
    "    \n",
    "    \n",
    "    return X_train, X_test_val, Y_train, Y_test_val\n",
    "\n",
    "\n",
    "def get_trained_xgboost_model(X_train, X_val, Y_train, Y_val):\n",
    "    params = {\n",
    "        'learning_rate': [0.01, 0.1, 0.2],\n",
    "        'max_depth': [11, 10, 9],\n",
    "        'min_child_weight': [6, 7, 8],\n",
    "        'subsample': [0.7, 0.8, 0.9],\n",
    "        'colsample_bytree': [0.7, 0.8, 0.9]\n",
    "    }\n",
    "\n",
    "    # Initialize the XGBoost model with default hyperparameters\n",
    "    xgb_model = xgb.XGBRegressor()\n",
    "\n",
    "    # Grid search to find the best hyperparameters\n",
    "    cv_results = GridSearchCV(estimator=xgb_model, param_grid=params, cv=3, scoring='neg_mean_squared_error')\n",
    "    cv_results.fit(X_train, Y_train)\n",
    "    best_params = cv_results.best_params_\n",
    "\n",
    "    # Use the best hyperparameters to train the model\n",
    "    best_xgb_model = xgb.XGBRegressor(**best_params)\n",
    "    best_xgb_model.fit(X_train, Y_train)\n",
    "\n",
    "    # Predict on the validation set and calculate the mean squared error\n",
    "    Y_pred_xgb = best_xgb_model.predict(X_val)\n",
    "    mse_xgb = mean_squared_error(Y_val, Y_pred_xgb)\n",
    "    print(\"Mean Squared Error on the validation set with XGBoost:\", mse_xgb)\n",
    "\n",
    "    return best_xgb_model\n",
    "\n",
    "\n",
    "@app.route('/recommend_companies', methods=['POST'])\n",
    "def recommend_companies():\n",
    "    \n",
    "    # Récupérer l'investisseur ID depuis la requête\n",
    "    investor_id = request.json['investor_id']\n",
    "    \n",
    "    \n",
    "    # Fetch companies data\n",
    "    companiesData = fetch_companies()\n",
    "    companiesData\n",
    "    if companiesData is None:\n",
    "        return jsonify({'error': 'Failed to fetch companies data.'}), 500\n",
    "    \n",
    "    \n",
    "    # Pretraitement de Financial Data et generation du model XGBoost\n",
    "    file_path = 'C:\\\\Users\\\\Ranim\\\\Downloads\\\\financiallll2.csv'\n",
    "    X_train, X_test_val, Y_train, Y_test_val = preprocess_data_and_split(file_path)\n",
    "    best_xgb_model = get_trained_xgboost_model(X_train, X_test_val, Y_train, Y_test_val)\n",
    " \n",
    "    if best_xgb_model is None:\n",
    "        return jsonify({'error': 'Failed to load XGBoost model.'}), 500\n",
    "    \n",
    "\n",
    "    # Récupérer la prédiction de tolérance au risque de l'investisseur\n",
    "    base_url=\"http://localhost:8023/profileData/findProfile/\"\n",
    "    \n",
    "    resp=requests.post('http://localhost:5004/predict_tolerance_risk', json={'base_url': base_url, 'investor_id': investor_id}).json()\n",
    "    tolerance_risk_prediction = resp['predicted_tolerance_risk'][0]\n",
    "   \n",
    "    # Générer les recommandations d'entreprises\n",
    "    recommended_companies_json = []\n",
    "    max_recommendations = 12\n",
    "    \n",
    "    for company in companiesData:\n",
    "        if len(recommended_companies_json) >= max_recommendations:\n",
    "            break\n",
    "\n",
    "        if not company:\n",
    "            print(\"Comapnies List is empty.\")\n",
    "            continue\n",
    "\n",
    "        company_data_df = pd.DataFrame([company])\n",
    "        activity= company_data_df['activity'].values[0] if not company_data_df.empty else None\n",
    "        description= company_data_df['description'].values[0] if not company_data_df.empty else None\n",
    "        print(\"activity\",activity)\n",
    "        # Utiliser la fonction make_predictions avec les données de cette entreprise\n",
    "        predicted_profit = make_predictions(company_data_df, best_xgb_model)\n",
    "        print('predicted_profit',predicted_profit)\n",
    "\n",
    "        # Vérifier si des prédictions ont été générées\n",
    "        if predicted_profit :\n",
    "            \n",
    "            predicted_profit_float = float(predicted_profit[0])  # Convertir en float\n",
    "            if predicted_profit_float > 100  :\n",
    "                predicted_profit_float = 100\n",
    "\n",
    "            # Filtrer les entreprises en fonction de la tolérance au risque prédite de l'investisseur\n",
    "            if  0 < tolerance_risk_prediction and tolerance_risk_prediction <= 20:\n",
    "                # Recommander toutes les entreprises avec un profit de 20% ou plus\n",
    "                if  80 < predicted_profit_float and predicted_profit_float <= 100  :\n",
    "                    recommended_companies_json.append({'companyName': company['companyName'], 'profit': predicted_profit_float, 'activity': activity ,'description':description})\n",
    "                 \n",
    "            elif 20 < tolerance_risk_prediction and tolerance_risk_prediction <= 40:\n",
    "                # Recommander les entreprises avec un profit entre 30% et 100%\n",
    "                if 60 < predicted_profit_float and predicted_profit_float <= 100  :\n",
    "                    recommended_companies_json.append({'companyName': company['companyName'], 'profit': predicted_profit_float, 'activity': activity, 'description':description})\n",
    "                  \n",
    "            elif 40 < tolerance_risk_prediction and tolerance_risk_prediction <= 60  :\n",
    "                # Recommander les entreprises avec un profit entre 50% et 100%\n",
    "                if 40 < predicted_profit_float and predicted_profit_float <= 100:\n",
    "                    recommended_companies_json.append({'companyName': company['companyName'], 'profit': predicted_profit_float , 'activity': activity ,'description':description})\n",
    "                   \n",
    "            elif 60 < tolerance_risk_prediction and tolerance_risk_prediction <= 80:\n",
    "                # Recommander les entreprises avec un profit entre 70% et 100%\n",
    "                if 20 < predicted_profit_float and predicted_profit_float <= 100  :\n",
    "                    recommended_companies_json.append({'companyName': company['companyName'], 'profit': predicted_profit_float ,'activity': activity ,'description':description})\n",
    "                   \n",
    "            elif 80 < tolerance_risk_prediction and tolerance_risk_prediction <= 100:\n",
    "                # Recommander les entreprises avec un profit entre 90% et 100%\n",
    "                if 0 < predicted_profit_float and predicted_profit_float <= 100  :\n",
    "                    recommended_companies_json.append({'companyName': company['companyName'], 'profit': predicted_profit_float , 'activity': activity , 'description':description})\n",
    "                    \n",
    "        else:\n",
    "            print(\"pas de recommandation générée pour cette entreprise.\")\n",
    "            \n",
    "    preffered_activity = requests.post('http://localhost:5004/predict_tolerance_risk', json={'base_url': base_url, 'investor_id': investor_id}).json().get('activity')\n",
    "    print(preffered_activity)\n",
    "    filtered_recommended_companies = [company for company in recommended_companies_json if company.get('activity') == preffered_activity]\n",
    "\n",
    "    return jsonify({'recommended_companies': filtered_recommended_companies}), 200\n",
    "\n",
    "if __name__ == '__main__':\n",
    "    app.run(port=5000)"
   ]
  },
  {
   "cell_type": "code",
   "execution_count": null,
   "id": "8855aa53",
   "metadata": {},
   "outputs": [],
   "source": []
  }
 ],
 "metadata": {
  "kernelspec": {
   "display_name": "Python 3 (ipykernel)",
   "language": "python",
   "name": "python3"
  },
  "language_info": {
   "codemirror_mode": {
    "name": "ipython",
    "version": 3
   },
   "file_extension": ".py",
   "mimetype": "text/x-python",
   "name": "python",
   "nbconvert_exporter": "python",
   "pygments_lexer": "ipython3",
   "version": "3.9.7"
  }
 },
 "nbformat": 4,
 "nbformat_minor": 5
}

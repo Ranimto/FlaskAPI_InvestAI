{
 "cells": [
  {
   "cell_type": "markdown",
   "id": "d2e39698",
   "metadata": {},
   "source": [
    "### Flask Api Profile Data"
   ]
  },
  {
   "cell_type": "code",
   "execution_count": null,
   "id": "c2750636",
   "metadata": {},
   "outputs": [
    {
     "name": "stdout",
     "output_type": "stream",
     "text": [
      " * Serving Flask app \"__main__\" (lazy loading)\n",
      " * Environment: production\n",
      "\u001b[31m   WARNING: This is a development server. Do not use it in a production deployment.\u001b[0m\n",
      "\u001b[2m   Use a production WSGI server instead.\u001b[0m\n",
      " * Debug mode: off\n"
     ]
    },
    {
     "name": "stderr",
     "output_type": "stream",
     "text": [
      " * Running on http://127.0.0.1:5004/ (Press CTRL+C to quit)\n",
      "127.0.0.1 - - [08/May/2024 22:26:10] \"OPTIONS /predict_tolerance_risk HTTP/1.1\" 200 -\n"
     ]
    },
    {
     "name": "stdout",
     "output_type": "stream",
     "text": [
      "ProfileData for Investor id: 108\n",
      "The length of ProfileData is: (1, 20)\n",
      "Technology\n"
     ]
    },
    {
     "name": "stderr",
     "output_type": "stream",
     "text": [
      "127.0.0.1 - - [08/May/2024 22:26:12] \"POST /predict_tolerance_risk HTTP/1.1\" 200 -\n"
     ]
    },
    {
     "name": "stdout",
     "output_type": "stream",
     "text": [
      "activity Technology\n",
      "ProfileData for Investor id: 108\n",
      "The length of ProfileData is: (1, 20)\n",
      "Technology\n"
     ]
    },
    {
     "name": "stderr",
     "output_type": "stream",
     "text": [
      "127.0.0.1 - - [08/May/2024 22:26:42] \"POST /predict_tolerance_risk HTTP/1.1\" 200 -\n"
     ]
    },
    {
     "name": "stdout",
     "output_type": "stream",
     "text": [
      "activity Technology\n",
      "ProfileData for Investor id: 108\n",
      "The length of ProfileData is: (1, 20)\n",
      "Technology\n"
     ]
    },
    {
     "name": "stderr",
     "output_type": "stream",
     "text": [
      "127.0.0.1 - - [08/May/2024 22:26:46] \"POST /predict_tolerance_risk HTTP/1.1\" 200 -\n"
     ]
    },
    {
     "name": "stdout",
     "output_type": "stream",
     "text": [
      "activity Technology\n"
     ]
    },
    {
     "name": "stderr",
     "output_type": "stream",
     "text": [
      "127.0.0.1 - - [08/May/2024 22:35:24] \"OPTIONS /predict_tolerance_risk HTTP/1.1\" 200 -\n"
     ]
    },
    {
     "name": "stdout",
     "output_type": "stream",
     "text": [
      "ProfileData for Investor id: 108\n",
      "The length of ProfileData is: (1, 20)\n",
      "Technology\n"
     ]
    },
    {
     "name": "stderr",
     "output_type": "stream",
     "text": [
      "127.0.0.1 - - [08/May/2024 22:35:27] \"POST /predict_tolerance_risk HTTP/1.1\" 200 -\n"
     ]
    },
    {
     "name": "stdout",
     "output_type": "stream",
     "text": [
      "activity Technology\n",
      "ProfileData for Investor id: 108\n",
      "The length of ProfileData is: (1, 20)\n",
      "Technology\n"
     ]
    },
    {
     "name": "stderr",
     "output_type": "stream",
     "text": [
      "127.0.0.1 - - [08/May/2024 22:36:01] \"POST /predict_tolerance_risk HTTP/1.1\" 200 -\n"
     ]
    },
    {
     "name": "stdout",
     "output_type": "stream",
     "text": [
      "activity Technology\n",
      "ProfileData for Investor id: 108\n",
      "The length of ProfileData is: (1, 20)\n",
      "Technology\n"
     ]
    },
    {
     "name": "stderr",
     "output_type": "stream",
     "text": [
      "127.0.0.1 - - [08/May/2024 22:36:05] \"POST /predict_tolerance_risk HTTP/1.1\" 200 -\n"
     ]
    },
    {
     "name": "stdout",
     "output_type": "stream",
     "text": [
      "activity Technology\n"
     ]
    },
    {
     "name": "stderr",
     "output_type": "stream",
     "text": [
      "127.0.0.1 - - [08/May/2024 22:37:43] \"OPTIONS /predict_tolerance_risk HTTP/1.1\" 200 -\n"
     ]
    },
    {
     "name": "stdout",
     "output_type": "stream",
     "text": [
      "ProfileData for Investor id: 108\n",
      "The length of ProfileData is: (1, 20)\n",
      "Technology\n"
     ]
    },
    {
     "name": "stderr",
     "output_type": "stream",
     "text": [
      "127.0.0.1 - - [08/May/2024 22:37:45] \"POST /predict_tolerance_risk HTTP/1.1\" 200 -\n"
     ]
    },
    {
     "name": "stdout",
     "output_type": "stream",
     "text": [
      "activity Technology\n",
      "ProfileData for Investor id: 108\n",
      "The length of ProfileData is: (1, 20)\n",
      "Technology\n"
     ]
    },
    {
     "name": "stderr",
     "output_type": "stream",
     "text": [
      "127.0.0.1 - - [08/May/2024 22:38:18] \"POST /predict_tolerance_risk HTTP/1.1\" 200 -\n"
     ]
    },
    {
     "name": "stdout",
     "output_type": "stream",
     "text": [
      "activity Technology\n",
      "ProfileData for Investor id: 108\n",
      "The length of ProfileData is: (1, 20)\n",
      "Technology\n"
     ]
    },
    {
     "name": "stderr",
     "output_type": "stream",
     "text": [
      "127.0.0.1 - - [08/May/2024 22:38:22] \"POST /predict_tolerance_risk HTTP/1.1\" 200 -\n"
     ]
    },
    {
     "name": "stdout",
     "output_type": "stream",
     "text": [
      "activity Technology\n"
     ]
    },
    {
     "name": "stderr",
     "output_type": "stream",
     "text": [
      "127.0.0.1 - - [08/May/2024 22:40:43] \"OPTIONS /predict_tolerance_risk HTTP/1.1\" 200 -\n"
     ]
    },
    {
     "name": "stdout",
     "output_type": "stream",
     "text": [
      "ProfileData for Investor id: 108\n",
      "The length of ProfileData is: (1, 20)\n",
      "Technology\n"
     ]
    },
    {
     "name": "stderr",
     "output_type": "stream",
     "text": [
      "127.0.0.1 - - [08/May/2024 22:40:46] \"POST /predict_tolerance_risk HTTP/1.1\" 200 -\n"
     ]
    },
    {
     "name": "stdout",
     "output_type": "stream",
     "text": [
      "activity Technology\n"
     ]
    },
    {
     "name": "stderr",
     "output_type": "stream",
     "text": [
      "127.0.0.1 - - [08/May/2024 22:40:53] \"OPTIONS /predict_tolerance_risk HTTP/1.1\" 200 -\n"
     ]
    },
    {
     "name": "stdout",
     "output_type": "stream",
     "text": [
      "ProfileData for Investor id: 108\n",
      "The length of ProfileData is: (1, 20)\n",
      "Technology\n"
     ]
    },
    {
     "name": "stderr",
     "output_type": "stream",
     "text": [
      "127.0.0.1 - - [08/May/2024 22:40:56] \"POST /predict_tolerance_risk HTTP/1.1\" 200 -\n"
     ]
    },
    {
     "name": "stdout",
     "output_type": "stream",
     "text": [
      "activity Technology\n"
     ]
    },
    {
     "name": "stderr",
     "output_type": "stream",
     "text": [
      "127.0.0.1 - - [08/May/2024 22:41:15] \"OPTIONS /predict_tolerance_risk HTTP/1.1\" 200 -\n"
     ]
    },
    {
     "name": "stdout",
     "output_type": "stream",
     "text": [
      "ProfileData for Investor id: 108\n",
      "The length of ProfileData is: (1, 20)\n",
      "Technology\n"
     ]
    },
    {
     "name": "stderr",
     "output_type": "stream",
     "text": [
      "127.0.0.1 - - [08/May/2024 22:41:18] \"POST /predict_tolerance_risk HTTP/1.1\" 200 -\n"
     ]
    },
    {
     "name": "stdout",
     "output_type": "stream",
     "text": [
      "activity Technology\n",
      "ProfileData for Investor id: 108\n",
      "The length of ProfileData is: (1, 20)\n",
      "Technology\n"
     ]
    },
    {
     "name": "stderr",
     "output_type": "stream",
     "text": [
      "127.0.0.1 - - [08/May/2024 22:42:08] \"POST /predict_tolerance_risk HTTP/1.1\" 200 -\n"
     ]
    },
    {
     "name": "stdout",
     "output_type": "stream",
     "text": [
      "activity Technology\n",
      "ProfileData for Investor id: 108\n",
      "The length of ProfileData is: (1, 20)\n",
      "Technology\n"
     ]
    },
    {
     "name": "stderr",
     "output_type": "stream",
     "text": [
      "127.0.0.1 - - [08/May/2024 22:42:14] \"POST /predict_tolerance_risk HTTP/1.1\" 200 -\n"
     ]
    },
    {
     "name": "stdout",
     "output_type": "stream",
     "text": [
      "activity Technology\n",
      "ProfileData for Investor id: 108\n",
      "The length of ProfileData is: (1, 20)\n",
      "Technology\n"
     ]
    },
    {
     "name": "stderr",
     "output_type": "stream",
     "text": [
      "127.0.0.1 - - [08/May/2024 22:42:26] \"POST /predict_tolerance_risk HTTP/1.1\" 200 -\n"
     ]
    },
    {
     "name": "stdout",
     "output_type": "stream",
     "text": [
      "activity Technology\n",
      "ProfileData for Investor id: 108\n",
      "The length of ProfileData is: (1, 20)\n",
      "Technology\n"
     ]
    },
    {
     "name": "stderr",
     "output_type": "stream",
     "text": [
      "127.0.0.1 - - [08/May/2024 22:42:30] \"POST /predict_tolerance_risk HTTP/1.1\" 200 -\n"
     ]
    },
    {
     "name": "stdout",
     "output_type": "stream",
     "text": [
      "activity Technology\n",
      "ProfileData for Investor id: 108\n",
      "The length of ProfileData is: (1, 20)\n",
      "Technology\n"
     ]
    },
    {
     "name": "stderr",
     "output_type": "stream",
     "text": [
      "127.0.0.1 - - [08/May/2024 22:42:33] \"POST /predict_tolerance_risk HTTP/1.1\" 200 -\n"
     ]
    },
    {
     "name": "stdout",
     "output_type": "stream",
     "text": [
      "activity Technology\n",
      "ProfileData for Investor id: 108\n",
      "The length of ProfileData is: (1, 20)\n",
      "Technology\n"
     ]
    },
    {
     "name": "stderr",
     "output_type": "stream",
     "text": [
      "127.0.0.1 - - [08/May/2024 22:42:37] \"POST /predict_tolerance_risk HTTP/1.1\" 200 -\n"
     ]
    },
    {
     "name": "stdout",
     "output_type": "stream",
     "text": [
      "activity Technology\n"
     ]
    },
    {
     "name": "stderr",
     "output_type": "stream",
     "text": [
      "127.0.0.1 - - [08/May/2024 22:43:39] \"OPTIONS /predict_tolerance_risk HTTP/1.1\" 200 -\n"
     ]
    },
    {
     "name": "stdout",
     "output_type": "stream",
     "text": [
      "ProfileData for Investor id: 108\n",
      "The length of ProfileData is: (1, 20)\n",
      "Technology\n"
     ]
    },
    {
     "name": "stderr",
     "output_type": "stream",
     "text": [
      "127.0.0.1 - - [08/May/2024 22:43:42] \"POST /predict_tolerance_risk HTTP/1.1\" 200 -\n"
     ]
    },
    {
     "name": "stdout",
     "output_type": "stream",
     "text": [
      "activity Technology\n",
      "ProfileData for Investor id: 108\n",
      "The length of ProfileData is: (1, 20)\n",
      "Technology\n"
     ]
    },
    {
     "name": "stderr",
     "output_type": "stream",
     "text": [
      "127.0.0.1 - - [08/May/2024 22:44:15] \"POST /predict_tolerance_risk HTTP/1.1\" 200 -\n"
     ]
    },
    {
     "name": "stdout",
     "output_type": "stream",
     "text": [
      "activity Technology\n",
      "ProfileData for Investor id: 108\n",
      "The length of ProfileData is: (1, 20)\n",
      "Technology\n"
     ]
    },
    {
     "name": "stderr",
     "output_type": "stream",
     "text": [
      "127.0.0.1 - - [08/May/2024 22:44:19] \"POST /predict_tolerance_risk HTTP/1.1\" 200 -\n"
     ]
    },
    {
     "name": "stdout",
     "output_type": "stream",
     "text": [
      "activity Technology\n"
     ]
    },
    {
     "name": "stderr",
     "output_type": "stream",
     "text": [
      "127.0.0.1 - - [08/May/2024 22:49:54] \"OPTIONS /predict_tolerance_risk HTTP/1.1\" 200 -\n"
     ]
    },
    {
     "name": "stdout",
     "output_type": "stream",
     "text": [
      "ProfileData for Investor id: 108\n",
      "The length of ProfileData is: (1, 20)\n",
      "Technology\n"
     ]
    },
    {
     "name": "stderr",
     "output_type": "stream",
     "text": [
      "127.0.0.1 - - [08/May/2024 22:49:57] \"POST /predict_tolerance_risk HTTP/1.1\" 200 -\n"
     ]
    },
    {
     "name": "stdout",
     "output_type": "stream",
     "text": [
      "activity Technology\n",
      "ProfileData for Investor id: 108\n",
      "The length of ProfileData is: (1, 20)\n",
      "Technology\n"
     ]
    },
    {
     "name": "stderr",
     "output_type": "stream",
     "text": [
      "127.0.0.1 - - [08/May/2024 22:50:32] \"POST /predict_tolerance_risk HTTP/1.1\" 200 -\n"
     ]
    },
    {
     "name": "stdout",
     "output_type": "stream",
     "text": [
      "activity Technology\n",
      "ProfileData for Investor id: 108\n",
      "The length of ProfileData is: (1, 20)\n",
      "Technology\n"
     ]
    },
    {
     "name": "stderr",
     "output_type": "stream",
     "text": [
      "127.0.0.1 - - [08/May/2024 22:50:36] \"POST /predict_tolerance_risk HTTP/1.1\" 200 -\n"
     ]
    },
    {
     "name": "stdout",
     "output_type": "stream",
     "text": [
      "activity Technology\n"
     ]
    },
    {
     "name": "stderr",
     "output_type": "stream",
     "text": [
      "127.0.0.1 - - [08/May/2024 22:52:50] \"OPTIONS /predict_tolerance_risk HTTP/1.1\" 200 -\n"
     ]
    },
    {
     "name": "stdout",
     "output_type": "stream",
     "text": [
      "ProfileData for Investor id: 108\n",
      "The length of ProfileData is: (1, 20)\n",
      "Technology\n"
     ]
    },
    {
     "name": "stderr",
     "output_type": "stream",
     "text": [
      "127.0.0.1 - - [08/May/2024 22:52:53] \"POST /predict_tolerance_risk HTTP/1.1\" 200 -\n"
     ]
    },
    {
     "name": "stdout",
     "output_type": "stream",
     "text": [
      "activity Technology\n",
      "ProfileData for Investor id: 108\n",
      "The length of ProfileData is: (1, 20)\n",
      "Technology\n"
     ]
    },
    {
     "name": "stderr",
     "output_type": "stream",
     "text": [
      "127.0.0.1 - - [08/May/2024 22:53:30] \"POST /predict_tolerance_risk HTTP/1.1\" 200 -\n"
     ]
    },
    {
     "name": "stdout",
     "output_type": "stream",
     "text": [
      "activity Technology\n",
      "ProfileData for Investor id: 108\n",
      "The length of ProfileData is: (1, 20)\n",
      "Technology\n"
     ]
    },
    {
     "name": "stderr",
     "output_type": "stream",
     "text": [
      "127.0.0.1 - - [08/May/2024 22:53:34] \"POST /predict_tolerance_risk HTTP/1.1\" 200 -\n"
     ]
    },
    {
     "name": "stdout",
     "output_type": "stream",
     "text": [
      "activity Technology\n"
     ]
    },
    {
     "name": "stderr",
     "output_type": "stream",
     "text": [
      "127.0.0.1 - - [08/May/2024 22:54:59] \"OPTIONS /predict_tolerance_risk HTTP/1.1\" 200 -\n"
     ]
    },
    {
     "name": "stdout",
     "output_type": "stream",
     "text": [
      "ProfileData for Investor id: 108\n",
      "The length of ProfileData is: (1, 20)\n",
      "Technology\n"
     ]
    },
    {
     "name": "stderr",
     "output_type": "stream",
     "text": [
      "127.0.0.1 - - [08/May/2024 22:55:01] \"POST /predict_tolerance_risk HTTP/1.1\" 200 -\n"
     ]
    },
    {
     "name": "stdout",
     "output_type": "stream",
     "text": [
      "activity Technology\n",
      "ProfileData for Investor id: 108\n",
      "The length of ProfileData is: (1, 20)\n",
      "Technology\n"
     ]
    },
    {
     "name": "stderr",
     "output_type": "stream",
     "text": [
      "127.0.0.1 - - [08/May/2024 22:55:35] \"POST /predict_tolerance_risk HTTP/1.1\" 200 -\n"
     ]
    },
    {
     "name": "stdout",
     "output_type": "stream",
     "text": [
      "activity Technology\n",
      "ProfileData for Investor id: 108\n",
      "The length of ProfileData is: (1, 20)\n",
      "Technology\n"
     ]
    },
    {
     "name": "stderr",
     "output_type": "stream",
     "text": [
      "127.0.0.1 - - [08/May/2024 22:55:39] \"POST /predict_tolerance_risk HTTP/1.1\" 200 -\n"
     ]
    },
    {
     "name": "stdout",
     "output_type": "stream",
     "text": [
      "activity Technology\n"
     ]
    },
    {
     "name": "stderr",
     "output_type": "stream",
     "text": [
      "127.0.0.1 - - [08/May/2024 22:56:25] \"OPTIONS /predict_tolerance_risk HTTP/1.1\" 200 -\n"
     ]
    },
    {
     "name": "stdout",
     "output_type": "stream",
     "text": [
      "ProfileData for Investor id: 108\n",
      "The length of ProfileData is: (1, 20)\n",
      "Technology\n"
     ]
    },
    {
     "name": "stderr",
     "output_type": "stream",
     "text": [
      "127.0.0.1 - - [08/May/2024 22:56:28] \"POST /predict_tolerance_risk HTTP/1.1\" 200 -\n"
     ]
    },
    {
     "name": "stdout",
     "output_type": "stream",
     "text": [
      "activity Technology\n",
      "ProfileData for Investor id: 108\n",
      "The length of ProfileData is: (1, 20)\n",
      "Technology\n"
     ]
    },
    {
     "name": "stderr",
     "output_type": "stream",
     "text": [
      "127.0.0.1 - - [08/May/2024 22:56:57] \"POST /predict_tolerance_risk HTTP/1.1\" 200 -\n"
     ]
    },
    {
     "name": "stdout",
     "output_type": "stream",
     "text": [
      "activity Technology\n",
      "ProfileData for Investor id: 108\n",
      "The length of ProfileData is: (1, 20)\n",
      "Technology\n"
     ]
    },
    {
     "name": "stderr",
     "output_type": "stream",
     "text": [
      "127.0.0.1 - - [08/May/2024 22:57:01] \"POST /predict_tolerance_risk HTTP/1.1\" 200 -\n"
     ]
    },
    {
     "name": "stdout",
     "output_type": "stream",
     "text": [
      "activity Technology\n"
     ]
    },
    {
     "name": "stderr",
     "output_type": "stream",
     "text": [
      "127.0.0.1 - - [08/May/2024 22:58:15] \"OPTIONS /predict_tolerance_risk HTTP/1.1\" 200 -\n",
      "127.0.0.1 - - [08/May/2024 22:58:15] \"OPTIONS /predict_tolerance_risk HTTP/1.1\" 200 -\n"
     ]
    },
    {
     "name": "stdout",
     "output_type": "stream",
     "text": [
      "ProfileData for Investor id: 108\n",
      "The length of ProfileData is: (1, 20)\n",
      "Technology\n",
      "ProfileData for Investor id: 108\n",
      "The length of ProfileData is: (1, 20)\n",
      "Technology\n"
     ]
    },
    {
     "name": "stderr",
     "output_type": "stream",
     "text": [
      "127.0.0.1 - - [08/May/2024 22:58:18] \"POST /predict_tolerance_risk HTTP/1.1\" 200 -\n",
      "127.0.0.1 - - [08/May/2024 22:58:18] \"POST /predict_tolerance_risk HTTP/1.1\" 200 -\n"
     ]
    },
    {
     "name": "stdout",
     "output_type": "stream",
     "text": [
      "activity Technology\n",
      "activity Technology\n"
     ]
    },
    {
     "name": "stderr",
     "output_type": "stream",
     "text": [
      "127.0.0.1 - - [08/May/2024 22:58:45] \"OPTIONS /predict_tolerance_risk HTTP/1.1\" 200 -\n"
     ]
    },
    {
     "name": "stdout",
     "output_type": "stream",
     "text": [
      "ProfileData for Investor id: 108\n",
      "The length of ProfileData is: (1, 20)\n",
      "Technology\n",
      "ProfileData for Investor id: 108\n",
      "The length of ProfileData is: (1, 20)\n",
      "Technology\n",
      "ProfileData for Investor id: 108\n",
      "The length of ProfileData is: (1, 20)\n",
      "Technology\n",
      "ProfileData for Investor id: 108\n",
      "The length of ProfileData is: (1, 20)\n",
      "Technology\n"
     ]
    },
    {
     "name": "stderr",
     "output_type": "stream",
     "text": [
      "127.0.0.1 - - [08/May/2024 22:58:50] \"POST /predict_tolerance_risk HTTP/1.1\" 200 -\n"
     ]
    },
    {
     "name": "stdout",
     "output_type": "stream",
     "text": [
      "activity Technology\n"
     ]
    },
    {
     "name": "stderr",
     "output_type": "stream",
     "text": [
      "127.0.0.1 - - [08/May/2024 22:58:50] \"POST /predict_tolerance_risk HTTP/1.1\" 200 -\n",
      "127.0.0.1 - - [08/May/2024 22:58:50] \"OPTIONS /predict_tolerance_risk HTTP/1.1\" 200 -\n"
     ]
    },
    {
     "name": "stdout",
     "output_type": "stream",
     "text": [
      "activity Technology\n",
      "ProfileData for Investor id: 108\n",
      "The length of ProfileData is: (1, 20)\n",
      "Technology\n"
     ]
    },
    {
     "name": "stderr",
     "output_type": "stream",
     "text": [
      "127.0.0.1 - - [08/May/2024 22:58:51] \"POST /predict_tolerance_risk HTTP/1.1\" 200 -\n",
      "127.0.0.1 - - [08/May/2024 22:58:51] \"POST /predict_tolerance_risk HTTP/1.1\" 200 -\n"
     ]
    },
    {
     "name": "stdout",
     "output_type": "stream",
     "text": [
      "activity Technology\n",
      "activity Technology\n"
     ]
    },
    {
     "name": "stderr",
     "output_type": "stream",
     "text": [
      "127.0.0.1 - - [08/May/2024 22:58:53] \"POST /predict_tolerance_risk HTTP/1.1\" 200 -\n"
     ]
    },
    {
     "name": "stdout",
     "output_type": "stream",
     "text": [
      "activity Technology\n",
      "ProfileData for Investor id: 108\n",
      "The length of ProfileData is: (1, 20)\n",
      "Technology\n",
      "ProfileData for Investor id: 108\n",
      "The length of ProfileData is: (1, 20)\n",
      "Technology\n"
     ]
    },
    {
     "name": "stderr",
     "output_type": "stream",
     "text": [
      "127.0.0.1 - - [08/May/2024 23:01:16] \"POST /predict_tolerance_risk HTTP/1.1\" 200 -\n",
      "127.0.0.1 - - [08/May/2024 23:01:16] \"POST /predict_tolerance_risk HTTP/1.1\" 200 -\n"
     ]
    },
    {
     "name": "stdout",
     "output_type": "stream",
     "text": [
      "activity Technology\n",
      "activity Technology\n",
      "ProfileData for Investor id:ProfileData for Investor id: 108\n",
      "The length of ProfileData is: (1, 20)\n",
      "Technology\n",
      " 108\n",
      "The length of ProfileData is: (1, 20)\n",
      "Technology\n"
     ]
    },
    {
     "name": "stderr",
     "output_type": "stream",
     "text": [
      "127.0.0.1 - - [08/May/2024 23:01:22] \"POST /predict_tolerance_risk HTTP/1.1\" 200 -\n",
      "127.0.0.1 - - [08/May/2024 23:01:22] \"POST /predict_tolerance_risk HTTP/1.1\" 200 -\n"
     ]
    },
    {
     "name": "stdout",
     "output_type": "stream",
     "text": [
      "activity Technology\n",
      "activity Technology\n",
      "ProfileData for Investor id: 108\n",
      "The length of ProfileData is: (1, 20)\n",
      "Technology\n"
     ]
    },
    {
     "name": "stderr",
     "output_type": "stream",
     "text": [
      "127.0.0.1 - - [08/May/2024 23:02:12] \"POST /predict_tolerance_risk HTTP/1.1\" 200 -\n"
     ]
    },
    {
     "name": "stdout",
     "output_type": "stream",
     "text": [
      "activity Technology\n",
      "ProfileData for Investor id: 108\n",
      "The length of ProfileData is: (1, 20)\n",
      "Technology\n"
     ]
    },
    {
     "name": "stderr",
     "output_type": "stream",
     "text": [
      "127.0.0.1 - - [08/May/2024 23:02:17] \"POST /predict_tolerance_risk HTTP/1.1\" 200 -\n"
     ]
    },
    {
     "name": "stdout",
     "output_type": "stream",
     "text": [
      "activity Technology\n"
     ]
    },
    {
     "name": "stderr",
     "output_type": "stream",
     "text": [
      "127.0.0.1 - - [08/May/2024 23:02:17] \"OPTIONS /predict_tolerance_risk HTTP/1.1\" 200 -\n"
     ]
    },
    {
     "name": "stdout",
     "output_type": "stream",
     "text": [
      "ProfileData for Investor id: 108\n",
      "The length of ProfileData is: (1, 20)\n",
      "Technology\n"
     ]
    },
    {
     "name": "stderr",
     "output_type": "stream",
     "text": [
      "127.0.0.1 - - [08/May/2024 23:02:21] \"POST /predict_tolerance_risk HTTP/1.1\" 200 -\n"
     ]
    },
    {
     "name": "stdout",
     "output_type": "stream",
     "text": [
      "activity Technology\n",
      "ProfileData for Investor id: 108\n",
      "The length of ProfileData is: (1, 20)\n",
      "Technology\n",
      "ProfileData for Investor id: 108\n",
      "The length of ProfileData is: (1, 20)\n",
      "Technology\n",
      "ProfileData for Investor id: 108\n",
      "The length of ProfileData is: (1, 20)\n",
      "Technology\n",
      "ProfileData for Investor id: 108\n",
      "The length of ProfileData is: (1, 20)\n",
      "Technology\n"
     ]
    },
    {
     "name": "stderr",
     "output_type": "stream",
     "text": [
      "127.0.0.1 - - [08/May/2024 23:02:39] \"POST /predict_tolerance_risk HTTP/1.1\" 200 -\n"
     ]
    },
    {
     "name": "stdout",
     "output_type": "stream",
     "text": [
      "activity Technology\n"
     ]
    },
    {
     "name": "stderr",
     "output_type": "stream",
     "text": [
      "127.0.0.1 - - [08/May/2024 23:02:40] \"POST /predict_tolerance_risk HTTP/1.1\" 200 -\n",
      "127.0.0.1 - - [08/May/2024 23:02:41] \"POST /predict_tolerance_risk HTTP/1.1\" 200 -\n"
     ]
    },
    {
     "name": "stdout",
     "output_type": "stream",
     "text": [
      "activity Technology\n",
      "activity Technology\n"
     ]
    },
    {
     "name": "stderr",
     "output_type": "stream",
     "text": [
      "127.0.0.1 - - [08/May/2024 23:02:41] \"POST /predict_tolerance_risk HTTP/1.1\" 200 -\n"
     ]
    },
    {
     "name": "stdout",
     "output_type": "stream",
     "text": [
      "activity Technology\n",
      "ProfileData for Investor id: 108\n",
      "The length of ProfileData is: (1, 20)\n",
      "Technology\n",
      "ProfileData for Investor id: 108\n",
      "The length of ProfileData is: (1, 20)\n",
      "Technology\n",
      "ProfileData for Investor id: 108\n",
      "The length of ProfileData is: (1, 20)\n",
      "Technology\n",
      "ProfileData for Investor id: 108\n",
      "The length of ProfileData is: (1, 20)\n",
      "Technology\n"
     ]
    },
    {
     "name": "stderr",
     "output_type": "stream",
     "text": [
      "127.0.0.1 - - [08/May/2024 23:02:46] \"POST /predict_tolerance_risk HTTP/1.1\" 200 -\n"
     ]
    },
    {
     "name": "stdout",
     "output_type": "stream",
     "text": [
      "activity Technology\n"
     ]
    },
    {
     "name": "stderr",
     "output_type": "stream",
     "text": [
      "127.0.0.1 - - [08/May/2024 23:02:47] \"POST /predict_tolerance_risk HTTP/1.1\" 200 -\n",
      "127.0.0.1 - - [08/May/2024 23:02:47] \"POST /predict_tolerance_risk HTTP/1.1\" 200 -\n",
      "127.0.0.1 - - [08/May/2024 23:02:47] \"POST /predict_tolerance_risk HTTP/1.1\" 200 -\n"
     ]
    },
    {
     "name": "stdout",
     "output_type": "stream",
     "text": [
      "activity Technology\n",
      "activity Technology\n",
      "activity Technology\n",
      "ProfileData for Investor id: 108\n",
      "The length of ProfileData is: (1, 20)\n",
      "Technology\n"
     ]
    },
    {
     "name": "stderr",
     "output_type": "stream",
     "text": [
      "127.0.0.1 - - [08/May/2024 23:03:20] \"POST /predict_tolerance_risk HTTP/1.1\" 200 -\n"
     ]
    },
    {
     "name": "stdout",
     "output_type": "stream",
     "text": [
      "activity Technology\n",
      "ProfileData for Investor id: 108\n",
      "The length of ProfileData is: (1, 20)\n",
      "Technology\n"
     ]
    },
    {
     "name": "stderr",
     "output_type": "stream",
     "text": [
      "127.0.0.1 - - [08/May/2024 23:03:24] \"POST /predict_tolerance_risk HTTP/1.1\" 200 -\n"
     ]
    },
    {
     "name": "stdout",
     "output_type": "stream",
     "text": [
      "activity Technology\n"
     ]
    },
    {
     "name": "stderr",
     "output_type": "stream",
     "text": [
      "127.0.0.1 - - [08/May/2024 23:04:39] \"OPTIONS /predict_tolerance_risk HTTP/1.1\" 200 -\n"
     ]
    },
    {
     "name": "stdout",
     "output_type": "stream",
     "text": [
      "ProfileData for Investor id: 108\n",
      "The length of ProfileData is: (1, 20)\n",
      "Technology\n",
      "ProfileData for Investor id: 108\n",
      "The length of ProfileData is: (1, 20)\n",
      "Technology\n",
      "ProfileData for Investor id:ProfileData for Investor id:ProfileData for Investor id: 108\n",
      "The length of ProfileData is: (1, 20)\n",
      "Technology\n",
      "  108\n",
      "The length of ProfileData is: (1, 20)\n",
      "Technology\n",
      "108\n",
      "The length of ProfileData is: (1, 20)\n",
      "Technology\n",
      "ProfileData for Investor id: 108\n",
      "The length of ProfileData is: (1, 20)\n",
      "Technology\n"
     ]
    },
    {
     "name": "stderr",
     "output_type": "stream",
     "text": [
      "127.0.0.1 - - [08/May/2024 23:04:44] \"POST /predict_tolerance_risk HTTP/1.1\" 200 -\n"
     ]
    },
    {
     "name": "stdout",
     "output_type": "stream",
     "text": [
      "activity Technology\n"
     ]
    },
    {
     "name": "stderr",
     "output_type": "stream",
     "text": [
      "127.0.0.1 - - [08/May/2024 23:04:45] \"POST /predict_tolerance_risk HTTP/1.1\" 200 -\n",
      "127.0.0.1 - - [08/May/2024 23:04:45] \"POST /predict_tolerance_risk HTTP/1.1\" 200 -\n"
     ]
    },
    {
     "name": "stdout",
     "output_type": "stream",
     "text": [
      "activity Technology\n",
      "activity Technology\n",
      "activity Technology\n"
     ]
    },
    {
     "name": "stderr",
     "output_type": "stream",
     "text": [
      "127.0.0.1 - - [08/May/2024 23:04:45] \"POST /predict_tolerance_risk HTTP/1.1\" 200 -\n",
      "127.0.0.1 - - [08/May/2024 23:04:45] \"POST /predict_tolerance_risk HTTP/1.1\" 200 -\n",
      "127.0.0.1 - - [08/May/2024 23:04:45] \"POST /predict_tolerance_risk HTTP/1.1\" 200 -\n"
     ]
    },
    {
     "name": "stdout",
     "output_type": "stream",
     "text": [
      "activity Technology\n",
      "activity Technology\n"
     ]
    },
    {
     "name": "stderr",
     "output_type": "stream",
     "text": [
      "127.0.0.1 - - [08/May/2024 23:04:51] \"OPTIONS /predict_tolerance_risk HTTP/1.1\" 200 -\n"
     ]
    },
    {
     "name": "stdout",
     "output_type": "stream",
     "text": [
      "ProfileData for Investor id: 108\n",
      "The length of ProfileData is: (1, 20)\n",
      "Technology\n"
     ]
    },
    {
     "name": "stderr",
     "output_type": "stream",
     "text": [
      "127.0.0.1 - - [08/May/2024 23:04:54] \"POST /predict_tolerance_risk HTTP/1.1\" 200 -\n"
     ]
    },
    {
     "name": "stdout",
     "output_type": "stream",
     "text": [
      "activity Technology\n"
     ]
    },
    {
     "name": "stderr",
     "output_type": "stream",
     "text": [
      "127.0.0.1 - - [08/May/2024 23:05:41] \"OPTIONS /predict_tolerance_risk HTTP/1.1\" 200 -\n"
     ]
    },
    {
     "name": "stdout",
     "output_type": "stream",
     "text": [
      "ProfileData for Investor id: 108\n",
      "The length of ProfileData is: (1, 20)\n",
      "Technology\n"
     ]
    },
    {
     "name": "stderr",
     "output_type": "stream",
     "text": [
      "127.0.0.1 - - [08/May/2024 23:05:45] \"POST /predict_tolerance_risk HTTP/1.1\" 200 -\n"
     ]
    },
    {
     "name": "stdout",
     "output_type": "stream",
     "text": [
      "activity Technology\n"
     ]
    },
    {
     "name": "stderr",
     "output_type": "stream",
     "text": [
      "127.0.0.1 - - [08/May/2024 23:06:45] \"OPTIONS /predict_tolerance_risk HTTP/1.1\" 200 -\n"
     ]
    },
    {
     "name": "stdout",
     "output_type": "stream",
     "text": [
      "ProfileData for Investor id: 108\n",
      "The length of ProfileData is: (1, 20)\n",
      "Technology\n"
     ]
    },
    {
     "name": "stderr",
     "output_type": "stream",
     "text": [
      "127.0.0.1 - - [08/May/2024 23:06:48] \"POST /predict_tolerance_risk HTTP/1.1\" 200 -\n"
     ]
    },
    {
     "name": "stdout",
     "output_type": "stream",
     "text": [
      "activity Technology\n"
     ]
    },
    {
     "name": "stderr",
     "output_type": "stream",
     "text": [
      "127.0.0.1 - - [08/May/2024 23:07:01] \"OPTIONS /predict_tolerance_risk HTTP/1.1\" 200 -\n"
     ]
    },
    {
     "name": "stdout",
     "output_type": "stream",
     "text": [
      "ProfileData for Investor id: 108\n",
      "The length of ProfileData is: (1, 20)\n",
      "Technology\n"
     ]
    },
    {
     "name": "stderr",
     "output_type": "stream",
     "text": [
      "127.0.0.1 - - [08/May/2024 23:07:05] \"POST /predict_tolerance_risk HTTP/1.1\" 200 -\n"
     ]
    },
    {
     "name": "stdout",
     "output_type": "stream",
     "text": [
      "activity Technology\n"
     ]
    },
    {
     "name": "stderr",
     "output_type": "stream",
     "text": [
      "127.0.0.1 - - [08/May/2024 23:07:20] \"OPTIONS /predict_tolerance_risk HTTP/1.1\" 200 -\n"
     ]
    },
    {
     "name": "stdout",
     "output_type": "stream",
     "text": [
      "ProfileData for Investor id: 108\n",
      "The length of ProfileData is: (1, 20)\n",
      "Technology\n"
     ]
    },
    {
     "name": "stderr",
     "output_type": "stream",
     "text": [
      "127.0.0.1 - - [08/May/2024 23:07:24] \"POST /predict_tolerance_risk HTTP/1.1\" 200 -\n"
     ]
    },
    {
     "name": "stdout",
     "output_type": "stream",
     "text": [
      "activity Technology\n"
     ]
    },
    {
     "name": "stderr",
     "output_type": "stream",
     "text": [
      "127.0.0.1 - - [08/May/2024 23:07:35] \"OPTIONS /predict_tolerance_risk HTTP/1.1\" 200 -\n"
     ]
    },
    {
     "name": "stdout",
     "output_type": "stream",
     "text": [
      "ProfileData for Investor id: 108\n",
      "The length of ProfileData is: (1, 20)\n",
      "Technology\n"
     ]
    },
    {
     "name": "stderr",
     "output_type": "stream",
     "text": [
      "127.0.0.1 - - [08/May/2024 23:07:39] \"POST /predict_tolerance_risk HTTP/1.1\" 200 -\n"
     ]
    },
    {
     "name": "stdout",
     "output_type": "stream",
     "text": [
      "activity Technology\n"
     ]
    },
    {
     "name": "stderr",
     "output_type": "stream",
     "text": [
      "127.0.0.1 - - [08/May/2024 23:08:17] \"OPTIONS /predict_tolerance_risk HTTP/1.1\" 200 -\n"
     ]
    },
    {
     "name": "stdout",
     "output_type": "stream",
     "text": [
      "ProfileData for Investor id: 108\n",
      "The length of ProfileData is: (1, 20)\n",
      "Technology\n"
     ]
    },
    {
     "name": "stderr",
     "output_type": "stream",
     "text": [
      "127.0.0.1 - - [08/May/2024 23:08:20] \"POST /predict_tolerance_risk HTTP/1.1\" 200 -\n"
     ]
    },
    {
     "name": "stdout",
     "output_type": "stream",
     "text": [
      "activity Technology\n"
     ]
    },
    {
     "name": "stderr",
     "output_type": "stream",
     "text": [
      "127.0.0.1 - - [08/May/2024 23:08:35] \"OPTIONS /predict_tolerance_risk HTTP/1.1\" 200 -\n"
     ]
    },
    {
     "name": "stdout",
     "output_type": "stream",
     "text": [
      "ProfileData for Investor id: 108\n",
      "The length of ProfileData is: (1, 20)\n",
      "Technology\n"
     ]
    },
    {
     "name": "stderr",
     "output_type": "stream",
     "text": [
      "127.0.0.1 - - [08/May/2024 23:08:38] \"POST /predict_tolerance_risk HTTP/1.1\" 200 -\n"
     ]
    },
    {
     "name": "stdout",
     "output_type": "stream",
     "text": [
      "activity Technology\n"
     ]
    },
    {
     "name": "stderr",
     "output_type": "stream",
     "text": [
      "127.0.0.1 - - [08/May/2024 23:08:59] \"OPTIONS /predict_tolerance_risk HTTP/1.1\" 200 -\n"
     ]
    },
    {
     "name": "stdout",
     "output_type": "stream",
     "text": [
      "ProfileData for Investor id: 108\n",
      "The length of ProfileData is: (1, 20)\n",
      "Technology\n",
      "ProfileData for Investor id: 108\n",
      "The length of ProfileData is: (1, 20)\n",
      "Technology\n",
      "ProfileData for Investor id: 108\n",
      "The length of ProfileData is: (1, 20)\n",
      "Technology\n",
      "ProfileData for Investor id: 108\n",
      "The length of ProfileData is: (1, 20)\n",
      "Technology\n"
     ]
    },
    {
     "name": "stderr",
     "output_type": "stream",
     "text": [
      "127.0.0.1 - - [08/May/2024 23:09:05] \"POST /predict_tolerance_risk HTTP/1.1\" 200 -\n",
      "127.0.0.1 - - [08/May/2024 23:09:05] \"POST /predict_tolerance_risk HTTP/1.1\" 200 -\n",
      "127.0.0.1 - - [08/May/2024 23:09:05] \"POST /predict_tolerance_risk HTTP/1.1\" 200 -\n",
      "127.0.0.1 - - [08/May/2024 23:09:05] \"POST /predict_tolerance_risk HTTP/1.1\" 200 -\n"
     ]
    },
    {
     "name": "stdout",
     "output_type": "stream",
     "text": [
      "activity Technology\n",
      "activity Technology\n",
      "activity Technology\n",
      "activity Technology\n"
     ]
    },
    {
     "name": "stderr",
     "output_type": "stream",
     "text": [
      "127.0.0.1 - - [08/May/2024 23:09:29] \"OPTIONS /predict_tolerance_risk HTTP/1.1\" 200 -\n"
     ]
    },
    {
     "name": "stdout",
     "output_type": "stream",
     "text": [
      "ProfileData for Investor id: 108\n",
      "The length of ProfileData is: (1, 20)\n",
      "Technology\n"
     ]
    },
    {
     "name": "stderr",
     "output_type": "stream",
     "text": [
      "127.0.0.1 - - [08/May/2024 23:09:32] \"POST /predict_tolerance_risk HTTP/1.1\" 200 -\n"
     ]
    },
    {
     "name": "stdout",
     "output_type": "stream",
     "text": [
      "activity Technology\n",
      "ProfileData for Investor id: 108\n",
      "The length of ProfileData is: (1, 20)\n",
      "Technology\n"
     ]
    },
    {
     "name": "stderr",
     "output_type": "stream",
     "text": [
      "127.0.0.1 - - [08/May/2024 23:09:36] \"POST /predict_tolerance_risk HTTP/1.1\" 200 -\n"
     ]
    },
    {
     "name": "stdout",
     "output_type": "stream",
     "text": [
      "activity Technology\n"
     ]
    },
    {
     "name": "stderr",
     "output_type": "stream",
     "text": [
      "127.0.0.1 - - [08/May/2024 23:11:10] \"OPTIONS /predict_tolerance_risk HTTP/1.1\" 200 -\n"
     ]
    },
    {
     "name": "stdout",
     "output_type": "stream",
     "text": [
      "ProfileData for Investor id: 108\n",
      "The length of ProfileData is: (1, 20)\n",
      "Technology\n"
     ]
    },
    {
     "name": "stderr",
     "output_type": "stream",
     "text": [
      "127.0.0.1 - - [08/May/2024 23:11:13] \"POST /predict_tolerance_risk HTTP/1.1\" 200 -\n"
     ]
    },
    {
     "name": "stdout",
     "output_type": "stream",
     "text": [
      "activity Technology\n",
      "ProfileData for Investor id: 108\n",
      "The length of ProfileData is: (1, 20)\n",
      "Technology\n"
     ]
    },
    {
     "name": "stderr",
     "output_type": "stream",
     "text": [
      "127.0.0.1 - - [08/May/2024 23:13:18] \"POST /predict_tolerance_risk HTTP/1.1\" 200 -\n"
     ]
    },
    {
     "name": "stdout",
     "output_type": "stream",
     "text": [
      "activity Technology\n",
      "ProfileData for Investor id: 108\n",
      "The length of ProfileData is: (1, 20)\n",
      "Technology\n"
     ]
    },
    {
     "name": "stderr",
     "output_type": "stream",
     "text": [
      "127.0.0.1 - - [08/May/2024 23:13:24] \"POST /predict_tolerance_risk HTTP/1.1\" 200 -\n"
     ]
    },
    {
     "name": "stdout",
     "output_type": "stream",
     "text": [
      "activity Technology\n",
      "ProfileData for Investor id: 108\n",
      "The length of ProfileData is: (1, 20)\n",
      "Technology\n",
      "ProfileData for Investor id: 108\n",
      "The length of ProfileData is: (1, 20)\n",
      "Technology\n"
     ]
    },
    {
     "name": "stderr",
     "output_type": "stream",
     "text": [
      "127.0.0.1 - - [08/May/2024 23:13:31] \"POST /predict_tolerance_risk HTTP/1.1\" 200 -\n"
     ]
    },
    {
     "name": "stdout",
     "output_type": "stream",
     "text": [
      "activity Technology\n",
      "ProfileData for Investor id: 108\n",
      "The length of ProfileData is: (1, 20)\n",
      "Technology\n"
     ]
    },
    {
     "name": "stderr",
     "output_type": "stream",
     "text": [
      "127.0.0.1 - - [08/May/2024 23:13:36] \"POST /predict_tolerance_risk HTTP/1.1\" 200 -\n"
     ]
    },
    {
     "name": "stdout",
     "output_type": "stream",
     "text": [
      "activity Technology\n",
      "ProfileData for Investor id: 108\n",
      "The length of ProfileData is: (1, 20)\n",
      "Technology\n"
     ]
    },
    {
     "name": "stderr",
     "output_type": "stream",
     "text": [
      "127.0.0.1 - - [08/May/2024 23:13:39] \"POST /predict_tolerance_risk HTTP/1.1\" 200 -\n"
     ]
    },
    {
     "name": "stdout",
     "output_type": "stream",
     "text": [
      "activity Technology\n"
     ]
    },
    {
     "name": "stderr",
     "output_type": "stream",
     "text": [
      "127.0.0.1 - - [08/May/2024 23:13:42] \"POST /predict_tolerance_risk HTTP/1.1\" 200 -\n"
     ]
    },
    {
     "name": "stdout",
     "output_type": "stream",
     "text": [
      "activity Technology\n",
      "ProfileData for Investor id: 108\n",
      "The length of ProfileData is: (1, 20)\n",
      "Technology\n"
     ]
    },
    {
     "name": "stderr",
     "output_type": "stream",
     "text": [
      "127.0.0.1 - - [08/May/2024 23:13:46] \"POST /predict_tolerance_risk HTTP/1.1\" 200 -\n"
     ]
    },
    {
     "name": "stdout",
     "output_type": "stream",
     "text": [
      "activity Technology\n",
      "ProfileData for Investor id: 108\n",
      "The length of ProfileData is: (1, 20)\n",
      "Technology\n",
      "ProfileData for Investor id: 108\n",
      "The length of ProfileData is: (1, 20)\n",
      "Technology\n",
      "ProfileData for Investor id: 108\n",
      "The length of ProfileData is: (1, 20)\n",
      "Technology\n"
     ]
    },
    {
     "name": "stderr",
     "output_type": "stream",
     "text": [
      "127.0.0.1 - - [08/May/2024 23:13:53] \"POST /predict_tolerance_risk HTTP/1.1\" 200 -\n"
     ]
    },
    {
     "name": "stdout",
     "output_type": "stream",
     "text": [
      "activity Technology\n"
     ]
    },
    {
     "name": "stderr",
     "output_type": "stream",
     "text": [
      "127.0.0.1 - - [08/May/2024 23:13:54] \"POST /predict_tolerance_risk HTTP/1.1\" 200 -\n"
     ]
    },
    {
     "name": "stdout",
     "output_type": "stream",
     "text": [
      "activity Technology\n"
     ]
    },
    {
     "name": "stderr",
     "output_type": "stream",
     "text": [
      "127.0.0.1 - - [08/May/2024 23:13:55] \"POST /predict_tolerance_risk HTTP/1.1\" 200 -\n"
     ]
    },
    {
     "name": "stdout",
     "output_type": "stream",
     "text": [
      "activity Technology\n",
      "ProfileData for Investor id: 108\n",
      "The length of ProfileData is: (1, 20)\n",
      "Technology\n",
      "ProfileData for Investor id: 108\n",
      "The length of ProfileData is: (1, 20)\n",
      "Technology\n",
      "ProfileData for Investor id: 108\n",
      "The length of ProfileData is: (1, 20)\n",
      "Technology\n"
     ]
    },
    {
     "name": "stderr",
     "output_type": "stream",
     "text": [
      "127.0.0.1 - - [08/May/2024 23:14:00] \"POST /predict_tolerance_risk HTTP/1.1\" 200 -\n"
     ]
    },
    {
     "name": "stdout",
     "output_type": "stream",
     "text": [
      "activity Technology\n"
     ]
    },
    {
     "name": "stderr",
     "output_type": "stream",
     "text": [
      "127.0.0.1 - - [08/May/2024 23:14:02] \"POST /predict_tolerance_risk HTTP/1.1\" 200 -\n",
      "127.0.0.1 - - [08/May/2024 23:14:02] \"POST /predict_tolerance_risk HTTP/1.1\" 200 -\n"
     ]
    },
    {
     "name": "stdout",
     "output_type": "stream",
     "text": [
      "activity Technology\n",
      "activity Technology\n",
      "ProfileData for Investor id: 108\n",
      "The length of ProfileData is: (1, 20)\n",
      "Technology\n"
     ]
    },
    {
     "name": "stderr",
     "output_type": "stream",
     "text": [
      "127.0.0.1 - - [08/May/2024 23:14:08] \"POST /predict_tolerance_risk HTTP/1.1\" 200 -\n"
     ]
    },
    {
     "name": "stdout",
     "output_type": "stream",
     "text": [
      "activity Technology\n",
      "ProfileData for Investor id: 108\n",
      "The length of ProfileData is: (1, 20)\n",
      "Technology\n"
     ]
    },
    {
     "name": "stderr",
     "output_type": "stream",
     "text": [
      "127.0.0.1 - - [08/May/2024 23:14:28] \"POST /predict_tolerance_risk HTTP/1.1\" 200 -\n"
     ]
    },
    {
     "name": "stdout",
     "output_type": "stream",
     "text": [
      "activity Technology\n",
      "ProfileData for Investor id: 108\n",
      "The length of ProfileData is: (1, 20)\n",
      "Technology\n"
     ]
    },
    {
     "name": "stderr",
     "output_type": "stream",
     "text": [
      "127.0.0.1 - - [08/May/2024 23:14:35] \"POST /predict_tolerance_risk HTTP/1.1\" 200 -\n"
     ]
    },
    {
     "name": "stdout",
     "output_type": "stream",
     "text": [
      "activity Technology\n"
     ]
    },
    {
     "name": "stderr",
     "output_type": "stream",
     "text": [
      "127.0.0.1 - - [08/May/2024 23:15:17] \"OPTIONS /predict_tolerance_risk HTTP/1.1\" 200 -\n"
     ]
    },
    {
     "name": "stdout",
     "output_type": "stream",
     "text": [
      "ProfileData for Investor id: 108\n",
      "The length of ProfileData is: (1, 20)\n",
      "Technology\n"
     ]
    },
    {
     "name": "stderr",
     "output_type": "stream",
     "text": [
      "127.0.0.1 - - [08/May/2024 23:15:20] \"POST /predict_tolerance_risk HTTP/1.1\" 200 -\n"
     ]
    },
    {
     "name": "stdout",
     "output_type": "stream",
     "text": [
      "activity Technology\n"
     ]
    },
    {
     "name": "stderr",
     "output_type": "stream",
     "text": [
      "127.0.0.1 - - [08/May/2024 23:16:30] \"OPTIONS /predict_tolerance_risk HTTP/1.1\" 200 -\n",
      "127.0.0.1 - - [08/May/2024 23:16:30] \"OPTIONS /predict_tolerance_risk HTTP/1.1\" 200 -\n"
     ]
    },
    {
     "name": "stdout",
     "output_type": "stream",
     "text": [
      "ProfileData for Investor id: 108\n",
      "The length of ProfileData is: (1, 20)\n",
      "Technology\n",
      "ProfileData for Investor id: 108\n",
      "The length of ProfileData is: (1, 20)\n",
      "Technology\n"
     ]
    },
    {
     "name": "stderr",
     "output_type": "stream",
     "text": [
      "127.0.0.1 - - [08/May/2024 23:16:34] \"POST /predict_tolerance_risk HTTP/1.1\" 200 -\n"
     ]
    },
    {
     "name": "stdout",
     "output_type": "stream",
     "text": [
      "activity Technology\n"
     ]
    },
    {
     "name": "stderr",
     "output_type": "stream",
     "text": [
      "127.0.0.1 - - [08/May/2024 23:16:35] \"POST /predict_tolerance_risk HTTP/1.1\" 200 -\n"
     ]
    },
    {
     "name": "stdout",
     "output_type": "stream",
     "text": [
      "activity Technology\n"
     ]
    },
    {
     "name": "stderr",
     "output_type": "stream",
     "text": [
      "127.0.0.1 - - [08/May/2024 23:16:36] \"OPTIONS /predict_tolerance_risk HTTP/1.1\" 200 -\n"
     ]
    },
    {
     "name": "stdout",
     "output_type": "stream",
     "text": [
      "ProfileData for Investor id: 108\n",
      "The length of ProfileData is: (1, 20)\n",
      "Technology\n"
     ]
    },
    {
     "name": "stderr",
     "output_type": "stream",
     "text": [
      "127.0.0.1 - - [08/May/2024 23:16:40] \"POST /predict_tolerance_risk HTTP/1.1\" 200 -\n"
     ]
    },
    {
     "name": "stdout",
     "output_type": "stream",
     "text": [
      "activity Technology\n",
      "ProfileData for Investor id: 108\n",
      "The length of ProfileData is: (1, 20)\n",
      "Technology\n"
     ]
    },
    {
     "name": "stderr",
     "output_type": "stream",
     "text": [
      "127.0.0.1 - - [08/May/2024 23:17:04] \"POST /predict_tolerance_risk HTTP/1.1\" 200 -\n"
     ]
    },
    {
     "name": "stdout",
     "output_type": "stream",
     "text": [
      "activity Technology\n",
      "ProfileData for Investor id: 108\n",
      "The length of ProfileData is: (1, 20)\n",
      "Technology\n"
     ]
    },
    {
     "name": "stderr",
     "output_type": "stream",
     "text": [
      "127.0.0.1 - - [08/May/2024 23:17:10] \"POST /predict_tolerance_risk HTTP/1.1\" 200 -\n"
     ]
    },
    {
     "name": "stdout",
     "output_type": "stream",
     "text": [
      "activity Technology\n",
      "ProfileData for Investor id: 108\n",
      "The length of ProfileData is: (1, 20)\n",
      "Technology\n"
     ]
    },
    {
     "name": "stderr",
     "output_type": "stream",
     "text": [
      "127.0.0.1 - - [08/May/2024 23:18:29] \"POST /predict_tolerance_risk HTTP/1.1\" 200 -\n"
     ]
    },
    {
     "name": "stdout",
     "output_type": "stream",
     "text": [
      "activity Technology\n",
      "ProfileData for Investor id: 108\n",
      "The length of ProfileData is: (1, 20)\n",
      "Technology\n"
     ]
    },
    {
     "name": "stderr",
     "output_type": "stream",
     "text": [
      "127.0.0.1 - - [08/May/2024 23:18:35] \"POST /predict_tolerance_risk HTTP/1.1\" 200 -\n"
     ]
    },
    {
     "name": "stdout",
     "output_type": "stream",
     "text": [
      "activity Technology\n"
     ]
    },
    {
     "name": "stderr",
     "output_type": "stream",
     "text": [
      "127.0.0.1 - - [08/May/2024 23:18:45] \"OPTIONS /predict_tolerance_risk HTTP/1.1\" 200 -\n"
     ]
    },
    {
     "name": "stdout",
     "output_type": "stream",
     "text": [
      "ProfileData for Investor id: 108\n",
      "The length of ProfileData is: (1, 20)\n",
      "Technology\n",
      "ProfileData for Investor id: 108\n",
      "The length of ProfileData is: (1, 20)\n",
      "Technology\n"
     ]
    },
    {
     "name": "stderr",
     "output_type": "stream",
     "text": [
      "127.0.0.1 - - [08/May/2024 23:18:49] \"POST /predict_tolerance_risk HTTP/1.1\" 200 -\n"
     ]
    },
    {
     "name": "stdout",
     "output_type": "stream",
     "text": [
      "activity Technology\n"
     ]
    },
    {
     "name": "stderr",
     "output_type": "stream",
     "text": [
      "127.0.0.1 - - [08/May/2024 23:18:50] \"POST /predict_tolerance_risk HTTP/1.1\" 200 -\n"
     ]
    },
    {
     "name": "stdout",
     "output_type": "stream",
     "text": [
      "activity Technology\n",
      "ProfileData for Investor id: 108\n",
      "The length of ProfileData is: (1, 20)\n",
      "Technology\n"
     ]
    },
    {
     "name": "stderr",
     "output_type": "stream",
     "text": [
      "127.0.0.1 - - [08/May/2024 23:18:57] \"POST /predict_tolerance_risk HTTP/1.1\" 200 -\n"
     ]
    },
    {
     "name": "stdout",
     "output_type": "stream",
     "text": [
      "activity Technology\n",
      "ProfileData for Investor id: 108\n",
      "The length of ProfileData is: (1, 20)\n",
      "Technology\n"
     ]
    },
    {
     "name": "stderr",
     "output_type": "stream",
     "text": [
      "127.0.0.1 - - [08/May/2024 23:19:18] \"POST /predict_tolerance_risk HTTP/1.1\" 200 -\n"
     ]
    },
    {
     "name": "stdout",
     "output_type": "stream",
     "text": [
      "activity Technology\n",
      "ProfileData for Investor id: 108\n",
      "The length of ProfileData is: (1, 20)\n",
      "Technology\n"
     ]
    },
    {
     "name": "stderr",
     "output_type": "stream",
     "text": [
      "127.0.0.1 - - [08/May/2024 23:19:24] \"POST /predict_tolerance_risk HTTP/1.1\" 200 -\n"
     ]
    },
    {
     "name": "stdout",
     "output_type": "stream",
     "text": [
      "activity Technology\n"
     ]
    },
    {
     "name": "stderr",
     "output_type": "stream",
     "text": [
      "127.0.0.1 - - [08/May/2024 23:19:31] \"OPTIONS /predict_tolerance_risk HTTP/1.1\" 200 -\n"
     ]
    },
    {
     "name": "stdout",
     "output_type": "stream",
     "text": [
      "ProfileData for Investor id: 108\n",
      "The length of ProfileData is: (1, 20)\n",
      "Technology\n"
     ]
    },
    {
     "name": "stderr",
     "output_type": "stream",
     "text": [
      "127.0.0.1 - - [08/May/2024 23:19:35] \"POST /predict_tolerance_risk HTTP/1.1\" 200 -\n"
     ]
    },
    {
     "name": "stdout",
     "output_type": "stream",
     "text": [
      "activity Technology\n"
     ]
    },
    {
     "name": "stderr",
     "output_type": "stream",
     "text": [
      "127.0.0.1 - - [08/May/2024 23:19:36] \"OPTIONS /predict_tolerance_risk HTTP/1.1\" 200 -\n"
     ]
    },
    {
     "name": "stdout",
     "output_type": "stream",
     "text": [
      "ProfileData for Investor id: 108\n",
      "The length of ProfileData is: (1, 20)\n",
      "Technology\n",
      "ProfileData for Investor id: 108\n",
      "The length of ProfileData is: (1, 20)\n",
      "Technology\n",
      "ProfileData for Investor id: 108\n",
      "The length of ProfileData is: (1, 20)\n",
      "Technology\n",
      "ProfileData for Investor id: 108\n",
      "The length of ProfileData is: (1, 20)\n",
      "Technology\n",
      "ProfileData for Investor id: 108\n",
      "The length of ProfileData is: (1, 20)\n",
      "Technology\n",
      "ProfileData for Investor id: 108\n",
      "The length of ProfileData is: (1, 20)\n",
      "Technology\n"
     ]
    },
    {
     "name": "stderr",
     "output_type": "stream",
     "text": [
      "127.0.0.1 - - [08/May/2024 23:19:43] \"POST /predict_tolerance_risk HTTP/1.1\" 200 -\n",
      "127.0.0.1 - - [08/May/2024 23:19:43] \"POST /predict_tolerance_risk HTTP/1.1\" 200 -\n",
      "127.0.0.1 - - [08/May/2024 23:19:43] \"POST /predict_tolerance_risk HTTP/1.1\" 200 -\n",
      "127.0.0.1 - - [08/May/2024 23:19:43] \"POST /predict_tolerance_risk HTTP/1.1\" 200 -\n"
     ]
    },
    {
     "name": "stdout",
     "output_type": "stream",
     "text": [
      "activity Technology\n",
      "activity Technology\n",
      "ProfileData for Investor id: 108\n",
      "The length of ProfileData is: (1, 20)\n",
      "Technology\n",
      "activity Technology\n",
      "activity Technology\n",
      "activity Technology\n"
     ]
    },
    {
     "name": "stderr",
     "output_type": "stream",
     "text": [
      "127.0.0.1 - - [08/May/2024 23:19:43] \"POST /predict_tolerance_risk HTTP/1.1\" 200 -\n",
      "127.0.0.1 - - [08/May/2024 23:19:43] \"POST /predict_tolerance_risk HTTP/1.1\" 200 -\n"
     ]
    },
    {
     "name": "stdout",
     "output_type": "stream",
     "text": [
      "activity Technology\n"
     ]
    },
    {
     "name": "stderr",
     "output_type": "stream",
     "text": [
      "127.0.0.1 - - [08/May/2024 23:19:47] \"POST /predict_tolerance_risk HTTP/1.1\" 200 -\n"
     ]
    },
    {
     "name": "stdout",
     "output_type": "stream",
     "text": [
      "activity Technology\n"
     ]
    },
    {
     "name": "stderr",
     "output_type": "stream",
     "text": [
      "127.0.0.1 - - [08/May/2024 23:20:20] \"OPTIONS /predict_tolerance_risk HTTP/1.1\" 200 -\n"
     ]
    },
    {
     "name": "stdout",
     "output_type": "stream",
     "text": [
      "ProfileData for Investor id: 108\n",
      "The length of ProfileData is: (1, 20)\n",
      "Technology\n",
      "ProfileData for Investor id: 108\n",
      "The length of ProfileData is: (1, 20)\n",
      "Technology\n",
      "ProfileData for Investor id: 108\n",
      "The length of ProfileData is: (1, 20)\n",
      "Technology\n"
     ]
    },
    {
     "name": "stderr",
     "output_type": "stream",
     "text": [
      "127.0.0.1 - - [08/May/2024 23:20:24] \"POST /predict_tolerance_risk HTTP/1.1\" 200 -\n"
     ]
    },
    {
     "name": "stdout",
     "output_type": "stream",
     "text": [
      "activity Technology\n"
     ]
    },
    {
     "name": "stderr",
     "output_type": "stream",
     "text": [
      "127.0.0.1 - - [08/May/2024 23:20:26] \"POST /predict_tolerance_risk HTTP/1.1\" 200 -\n"
     ]
    },
    {
     "name": "stdout",
     "output_type": "stream",
     "text": [
      "activity Technology\n"
     ]
    },
    {
     "name": "stderr",
     "output_type": "stream",
     "text": [
      "127.0.0.1 - - [08/May/2024 23:20:27] \"POST /predict_tolerance_risk HTTP/1.1\" 200 -\n"
     ]
    },
    {
     "name": "stdout",
     "output_type": "stream",
     "text": [
      "activity Technology\n",
      "ProfileData for Investor id: 108\n",
      "The length of ProfileData is: (1, 20)\n",
      "Technology\n",
      "ProfileData for Investor id: 108\n",
      "The length of ProfileData is: (1, 20)\n",
      "Technology\n"
     ]
    },
    {
     "name": "stderr",
     "output_type": "stream",
     "text": [
      "127.0.0.1 - - [08/May/2024 23:20:33] \"POST /predict_tolerance_risk HTTP/1.1\" 200 -\n"
     ]
    },
    {
     "name": "stdout",
     "output_type": "stream",
     "text": [
      "activity Technology\n"
     ]
    },
    {
     "name": "stderr",
     "output_type": "stream",
     "text": [
      "127.0.0.1 - - [08/May/2024 23:20:34] \"POST /predict_tolerance_risk HTTP/1.1\" 200 -\n"
     ]
    },
    {
     "name": "stdout",
     "output_type": "stream",
     "text": [
      "activity Technology\n",
      "ProfileData for Investor id: 108\n",
      "The length of ProfileData is: (1, 20)\n",
      "Technology\n"
     ]
    },
    {
     "name": "stderr",
     "output_type": "stream",
     "text": [
      "127.0.0.1 - - [08/May/2024 23:20:40] \"POST /predict_tolerance_risk HTTP/1.1\" 200 -\n"
     ]
    },
    {
     "name": "stdout",
     "output_type": "stream",
     "text": [
      "activity Technology\n",
      "ProfileData for Investor id: 108\n",
      "The length of ProfileData is: (1, 20)\n",
      "Technology\n",
      "ProfileData for Investor id: 108\n",
      "The length of ProfileData is: (1, 20)\n",
      "Technology\n"
     ]
    },
    {
     "name": "stderr",
     "output_type": "stream",
     "text": [
      "127.0.0.1 - - [08/May/2024 23:20:59] \"POST /predict_tolerance_risk HTTP/1.1\" 200 -\n"
     ]
    },
    {
     "name": "stdout",
     "output_type": "stream",
     "text": [
      "activity Technology\n"
     ]
    },
    {
     "name": "stderr",
     "output_type": "stream",
     "text": [
      "127.0.0.1 - - [08/May/2024 23:21:00] \"POST /predict_tolerance_risk HTTP/1.1\" 200 -\n"
     ]
    },
    {
     "name": "stdout",
     "output_type": "stream",
     "text": [
      "activity Technology\n",
      "ProfileData for Investor id: 108\n",
      "The length of ProfileData is: (1, 20)\n",
      "Technology\n",
      "ProfileData for Investor id: 108\n",
      "The length of ProfileData is: (1, 20)\n",
      "Technology\n"
     ]
    },
    {
     "name": "stderr",
     "output_type": "stream",
     "text": [
      "127.0.0.1 - - [08/May/2024 23:21:05] \"POST /predict_tolerance_risk HTTP/1.1\" 200 -\n"
     ]
    },
    {
     "name": "stdout",
     "output_type": "stream",
     "text": [
      "activity Technology\n"
     ]
    },
    {
     "name": "stderr",
     "output_type": "stream",
     "text": [
      "127.0.0.1 - - [08/May/2024 23:21:06] \"POST /predict_tolerance_risk HTTP/1.1\" 200 -\n"
     ]
    },
    {
     "name": "stdout",
     "output_type": "stream",
     "text": [
      "activity Technology\n"
     ]
    },
    {
     "name": "stderr",
     "output_type": "stream",
     "text": [
      "127.0.0.1 - - [08/May/2024 23:21:19] \"OPTIONS /predict_tolerance_risk HTTP/1.1\" 200 -\n"
     ]
    },
    {
     "name": "stdout",
     "output_type": "stream",
     "text": [
      "ProfileData for Investor id: 108\n",
      "The length of ProfileData is: (1, 20)\n",
      "Technology\n",
      "ProfileData for Investor id: 108\n",
      "The length of ProfileData is: (1, 20)\n",
      "Technology\n"
     ]
    },
    {
     "name": "stderr",
     "output_type": "stream",
     "text": [
      "127.0.0.1 - - [08/May/2024 23:21:23] \"POST /predict_tolerance_risk HTTP/1.1\" 200 -\n",
      "127.0.0.1 - - [08/May/2024 23:21:23] \"POST /predict_tolerance_risk HTTP/1.1\" 200 -\n"
     ]
    },
    {
     "name": "stdout",
     "output_type": "stream",
     "text": [
      "activity Technology\n",
      "activity Technology\n"
     ]
    },
    {
     "name": "stderr",
     "output_type": "stream",
     "text": [
      "127.0.0.1 - - [08/May/2024 23:21:27] \"OPTIONS /predict_tolerance_risk HTTP/1.1\" 200 -\n"
     ]
    },
    {
     "name": "stdout",
     "output_type": "stream",
     "text": [
      "ProfileData for Investor id: 108\n",
      "The length of ProfileData is: (1, 20)\n",
      "Technology\n"
     ]
    },
    {
     "name": "stderr",
     "output_type": "stream",
     "text": [
      "127.0.0.1 - - [08/May/2024 23:21:31] \"POST /predict_tolerance_risk HTTP/1.1\" 200 -\n"
     ]
    },
    {
     "name": "stdout",
     "output_type": "stream",
     "text": [
      "activity Technology\n",
      "ProfileData for Investor id: 108\n",
      "The length of ProfileData is: (1, 20)\n",
      "Technology\n",
      "ProfileData for Investor id: 108\n",
      "The length of ProfileData is: (1, 20)\n",
      "Technology\n"
     ]
    },
    {
     "name": "stderr",
     "output_type": "stream",
     "text": [
      "127.0.0.1 - - [08/May/2024 23:21:45] \"POST /predict_tolerance_risk HTTP/1.1\" 200 -\n",
      "127.0.0.1 - - [08/May/2024 23:21:45] \"POST /predict_tolerance_risk HTTP/1.1\" 200 -\n"
     ]
    },
    {
     "name": "stdout",
     "output_type": "stream",
     "text": [
      "activity Technology\n",
      "activity Technology\n",
      "ProfileData for Investor id: 108\n",
      "The length of ProfileData is: (1, 20)\n",
      "Technology\n",
      "ProfileData for Investor id: 108\n",
      "The length of ProfileData is: (1, 20)\n",
      "Technology\n",
      "ProfileData for Investor id: 108\n",
      "The length of ProfileData is: (1, 20)\n",
      "Technology\n"
     ]
    },
    {
     "name": "stderr",
     "output_type": "stream",
     "text": [
      "127.0.0.1 - - [08/May/2024 23:21:49] \"POST /predict_tolerance_risk HTTP/1.1\" 200 -\n"
     ]
    },
    {
     "name": "stdout",
     "output_type": "stream",
     "text": [
      "activity Technology\n"
     ]
    },
    {
     "name": "stderr",
     "output_type": "stream",
     "text": [
      "127.0.0.1 - - [08/May/2024 23:21:51] \"POST /predict_tolerance_risk HTTP/1.1\" 200 -\n",
      "127.0.0.1 - - [08/May/2024 23:21:51] \"POST /predict_tolerance_risk HTTP/1.1\" 200 -\n"
     ]
    },
    {
     "name": "stdout",
     "output_type": "stream",
     "text": [
      "activity Technology\n",
      "activity Technology\n",
      "ProfileData for Investor id: 108\n",
      "The length of ProfileData is: (1, 20)\n",
      "Technology\n"
     ]
    },
    {
     "name": "stderr",
     "output_type": "stream",
     "text": [
      "127.0.0.1 - - [08/May/2024 23:21:55] \"POST /predict_tolerance_risk HTTP/1.1\" 200 -\n"
     ]
    },
    {
     "name": "stdout",
     "output_type": "stream",
     "text": [
      "activity Technology\n",
      "ProfileData for Investor id: 108\n",
      "The length of ProfileData is: (1, 20)\n",
      "Technology\n"
     ]
    },
    {
     "name": "stderr",
     "output_type": "stream",
     "text": [
      "127.0.0.1 - - [08/May/2024 23:21:59] \"POST /predict_tolerance_risk HTTP/1.1\" 200 -\n"
     ]
    },
    {
     "name": "stdout",
     "output_type": "stream",
     "text": [
      "activity Technology\n",
      "ProfileData for Investor id: 108\n",
      "The length of ProfileData is: (1, 20)\n",
      "Technology\n",
      "ProfileData for Investor id: 108\n",
      "The length of ProfileData is: (1, 20)\n",
      "Technology\n"
     ]
    },
    {
     "name": "stderr",
     "output_type": "stream",
     "text": [
      "127.0.0.1 - - [08/May/2024 23:22:05] \"POST /predict_tolerance_risk HTTP/1.1\" 200 -\n"
     ]
    },
    {
     "name": "stdout",
     "output_type": "stream",
     "text": [
      "activity Technology\n"
     ]
    },
    {
     "name": "stderr",
     "output_type": "stream",
     "text": [
      "127.0.0.1 - - [08/May/2024 23:22:07] \"POST /predict_tolerance_risk HTTP/1.1\" 200 -\n"
     ]
    },
    {
     "name": "stdout",
     "output_type": "stream",
     "text": [
      "activity Technology\n",
      "ProfileData for Investor id: 108\n",
      "The length of ProfileData is: (1, 20)\n",
      "Technology\n"
     ]
    },
    {
     "name": "stderr",
     "output_type": "stream",
     "text": [
      "127.0.0.1 - - [08/May/2024 23:22:13] \"POST /predict_tolerance_risk HTTP/1.1\" 200 -\n"
     ]
    },
    {
     "name": "stdout",
     "output_type": "stream",
     "text": [
      "activity Technology\n",
      "ProfileData for Investor id: 108\n",
      "The length of ProfileData is: (1, 20)\n",
      "Technology\n"
     ]
    },
    {
     "name": "stderr",
     "output_type": "stream",
     "text": [
      "127.0.0.1 - - [08/May/2024 23:22:32] \"POST /predict_tolerance_risk HTTP/1.1\" 200 -\n"
     ]
    },
    {
     "name": "stdout",
     "output_type": "stream",
     "text": [
      "activity Technology\n",
      "ProfileData for Investor id: 108\n",
      "The length of ProfileData is: (1, 20)\n",
      "Technology\n"
     ]
    },
    {
     "name": "stderr",
     "output_type": "stream",
     "text": [
      "127.0.0.1 - - [08/May/2024 23:22:37] \"POST /predict_tolerance_risk HTTP/1.1\" 200 -\n"
     ]
    },
    {
     "name": "stdout",
     "output_type": "stream",
     "text": [
      "activity Technology\n",
      "ProfileData for Investor id: 108\n",
      "The length of ProfileData is: (1, 20)\n",
      "Technology\n"
     ]
    },
    {
     "name": "stderr",
     "output_type": "stream",
     "text": [
      "127.0.0.1 - - [08/May/2024 23:23:06] \"POST /predict_tolerance_risk HTTP/1.1\" 200 -\n"
     ]
    },
    {
     "name": "stdout",
     "output_type": "stream",
     "text": [
      "activity Technology\n",
      "ProfileData for Investor id: 108\n",
      "The length of ProfileData is: (1, 20)\n",
      "Technology\n"
     ]
    },
    {
     "name": "stderr",
     "output_type": "stream",
     "text": [
      "127.0.0.1 - - [08/May/2024 23:23:11] \"POST /predict_tolerance_risk HTTP/1.1\" 200 -\n"
     ]
    },
    {
     "name": "stdout",
     "output_type": "stream",
     "text": [
      "activity Technology\n",
      "ProfileData for Investor id: 108\n",
      "The length of ProfileData is: (1, 20)\n",
      "Technology\n",
      "ProfileData for Investor id: 108\n",
      "The length of ProfileData is: (1, 20)\n",
      "Technology\n"
     ]
    },
    {
     "name": "stderr",
     "output_type": "stream",
     "text": [
      "127.0.0.1 - - [08/May/2024 23:23:45] \"POST /predict_tolerance_risk HTTP/1.1\" 200 -\n"
     ]
    },
    {
     "name": "stdout",
     "output_type": "stream",
     "text": [
      "activity Technology\n"
     ]
    },
    {
     "name": "stderr",
     "output_type": "stream",
     "text": [
      "127.0.0.1 - - [08/May/2024 23:23:47] \"POST /predict_tolerance_risk HTTP/1.1\" 200 -\n"
     ]
    },
    {
     "name": "stdout",
     "output_type": "stream",
     "text": [
      "activity Technology\n",
      "ProfileData for Investor id: 108\n",
      "The length of ProfileData is: (1, 20)\n",
      "Technology\n",
      "ProfileData for Investor id: 108\n",
      "The length of ProfileData is: (1, 20)\n",
      "Technology\n"
     ]
    },
    {
     "name": "stderr",
     "output_type": "stream",
     "text": [
      "127.0.0.1 - - [08/May/2024 23:23:51] \"POST /predict_tolerance_risk HTTP/1.1\" 200 -\n"
     ]
    },
    {
     "name": "stdout",
     "output_type": "stream",
     "text": [
      "activity Technology\n"
     ]
    },
    {
     "name": "stderr",
     "output_type": "stream",
     "text": [
      "127.0.0.1 - - [08/May/2024 23:23:53] \"POST /predict_tolerance_risk HTTP/1.1\" 200 -\n"
     ]
    },
    {
     "name": "stdout",
     "output_type": "stream",
     "text": [
      "activity Technology\n",
      "ProfileData for Investor id: 108\n",
      "The length of ProfileData is: (1, 20)\n",
      "Technology\n"
     ]
    },
    {
     "name": "stderr",
     "output_type": "stream",
     "text": [
      "127.0.0.1 - - [08/May/2024 23:24:02] \"POST /predict_tolerance_risk HTTP/1.1\" 200 -\n"
     ]
    },
    {
     "name": "stdout",
     "output_type": "stream",
     "text": [
      "activity Technology\n",
      "ProfileData for Investor id: 108\n",
      "The length of ProfileData is: (1, 20)\n",
      "Technology\n",
      "ProfileData for Investor id: 108\n",
      "The length of ProfileData is: (1, 20)\n",
      "Technology\n"
     ]
    },
    {
     "name": "stderr",
     "output_type": "stream",
     "text": [
      "127.0.0.1 - - [08/May/2024 23:24:07] \"POST /predict_tolerance_risk HTTP/1.1\" 200 -\n"
     ]
    },
    {
     "name": "stdout",
     "output_type": "stream",
     "text": [
      "activity Technology\n"
     ]
    },
    {
     "name": "stderr",
     "output_type": "stream",
     "text": [
      "127.0.0.1 - - [08/May/2024 23:24:08] \"POST /predict_tolerance_risk HTTP/1.1\" 200 -\n"
     ]
    },
    {
     "name": "stdout",
     "output_type": "stream",
     "text": [
      "activity Technology\n",
      "ProfileData for Investor id: 108\n",
      "The length of ProfileData is: (1, 20)\n",
      "Technology\n"
     ]
    },
    {
     "name": "stderr",
     "output_type": "stream",
     "text": [
      "127.0.0.1 - - [08/May/2024 23:24:12] \"POST /predict_tolerance_risk HTTP/1.1\" 200 -\n"
     ]
    },
    {
     "name": "stdout",
     "output_type": "stream",
     "text": [
      "activity Technology\n",
      "ProfileData for Investor id: 108\n",
      "The length of ProfileData is: (1, 20)\n",
      "Technology\n"
     ]
    },
    {
     "name": "stderr",
     "output_type": "stream",
     "text": [
      "127.0.0.1 - - [08/May/2024 23:24:15] \"POST /predict_tolerance_risk HTTP/1.1\" 200 -\n"
     ]
    },
    {
     "name": "stdout",
     "output_type": "stream",
     "text": [
      "activity Technology\n",
      "ProfileData for Investor id: 108\n",
      "The length of ProfileData is: (1, 20)\n",
      "Technology\n"
     ]
    },
    {
     "name": "stderr",
     "output_type": "stream",
     "text": [
      "127.0.0.1 - - [08/May/2024 23:24:19] \"POST /predict_tolerance_risk HTTP/1.1\" 200 -\n"
     ]
    },
    {
     "name": "stdout",
     "output_type": "stream",
     "text": [
      "activity Technology\n"
     ]
    },
    {
     "name": "stderr",
     "output_type": "stream",
     "text": [
      "127.0.0.1 - - [08/May/2024 23:28:12] \"OPTIONS /predict_tolerance_risk HTTP/1.1\" 200 -\n"
     ]
    },
    {
     "name": "stdout",
     "output_type": "stream",
     "text": [
      "ProfileData for Investor id: 108\n",
      "The length of ProfileData is: (1, 20)\n",
      "Technology\n"
     ]
    },
    {
     "name": "stderr",
     "output_type": "stream",
     "text": [
      "127.0.0.1 - - [08/May/2024 23:28:15] \"POST /predict_tolerance_risk HTTP/1.1\" 200 -\n"
     ]
    },
    {
     "name": "stdout",
     "output_type": "stream",
     "text": [
      "activity Technology\n"
     ]
    },
    {
     "name": "stderr",
     "output_type": "stream",
     "text": [
      "127.0.0.1 - - [08/May/2024 23:28:30] \"OPTIONS /predict_tolerance_risk HTTP/1.1\" 200 -\n"
     ]
    },
    {
     "name": "stdout",
     "output_type": "stream",
     "text": [
      "ProfileData for Investor id: 108\n",
      "The length of ProfileData is: (1, 20)\n",
      "Technology\n"
     ]
    },
    {
     "name": "stderr",
     "output_type": "stream",
     "text": [
      "127.0.0.1 - - [08/May/2024 23:28:34] \"POST /predict_tolerance_risk HTTP/1.1\" 200 -\n"
     ]
    },
    {
     "name": "stdout",
     "output_type": "stream",
     "text": [
      "activity Technology\n"
     ]
    },
    {
     "name": "stderr",
     "output_type": "stream",
     "text": [
      "127.0.0.1 - - [08/May/2024 23:28:50] \"OPTIONS /predict_tolerance_risk HTTP/1.1\" 200 -\n"
     ]
    },
    {
     "name": "stdout",
     "output_type": "stream",
     "text": [
      "ProfileData for Investor id: 108\n",
      "The length of ProfileData is: (1, 20)\n",
      "Technology\n"
     ]
    },
    {
     "name": "stderr",
     "output_type": "stream",
     "text": [
      "127.0.0.1 - - [08/May/2024 23:28:53] \"POST /predict_tolerance_risk HTTP/1.1\" 200 -\n"
     ]
    },
    {
     "name": "stdout",
     "output_type": "stream",
     "text": [
      "activity Technology\n"
     ]
    },
    {
     "name": "stderr",
     "output_type": "stream",
     "text": [
      "127.0.0.1 - - [08/May/2024 23:29:08] \"OPTIONS /predict_tolerance_risk HTTP/1.1\" 200 -\n"
     ]
    },
    {
     "name": "stdout",
     "output_type": "stream",
     "text": [
      "ProfileData for Investor id: 108\n",
      "The length of ProfileData is: (1, 20)\n",
      "Technology\n"
     ]
    },
    {
     "name": "stderr",
     "output_type": "stream",
     "text": [
      "127.0.0.1 - - [08/May/2024 23:29:11] \"POST /predict_tolerance_risk HTTP/1.1\" 200 -\n"
     ]
    },
    {
     "name": "stdout",
     "output_type": "stream",
     "text": [
      "activity Technology\n",
      "ProfileData for Investor id: 108\n",
      "The length of ProfileData is: (1, 20)\n",
      "Technology\n"
     ]
    },
    {
     "name": "stderr",
     "output_type": "stream",
     "text": [
      "127.0.0.1 - - [08/May/2024 23:29:46] \"POST /predict_tolerance_risk HTTP/1.1\" 200 -\n"
     ]
    },
    {
     "name": "stdout",
     "output_type": "stream",
     "text": [
      "activity Technology\n",
      "ProfileData for Investor id: 108\n",
      "The length of ProfileData is: (1, 20)\n",
      "Technology\n"
     ]
    },
    {
     "name": "stderr",
     "output_type": "stream",
     "text": [
      "127.0.0.1 - - [08/May/2024 23:29:52] \"POST /predict_tolerance_risk HTTP/1.1\" 200 -\n"
     ]
    },
    {
     "name": "stdout",
     "output_type": "stream",
     "text": [
      "activity Technology\n",
      "ProfileData for Investor id: 108\n",
      "The length of ProfileData is: (1, 20)\n",
      "Technology\n"
     ]
    },
    {
     "name": "stderr",
     "output_type": "stream",
     "text": [
      "127.0.0.1 - - [08/May/2024 23:30:46] \"POST /predict_tolerance_risk HTTP/1.1\" 200 -\n"
     ]
    },
    {
     "name": "stdout",
     "output_type": "stream",
     "text": [
      "activity Technology\n",
      "ProfileData for Investor id: 108\n",
      "The length of ProfileData is: (1, 20)\n",
      "Technology\n"
     ]
    },
    {
     "name": "stderr",
     "output_type": "stream",
     "text": [
      "127.0.0.1 - - [08/May/2024 23:30:52] \"OPTIONS /predict_tolerance_risk HTTP/1.1\" 200 -\n"
     ]
    },
    {
     "name": "stdout",
     "output_type": "stream",
     "text": [
      "ProfileData for Investor id: 108\n",
      "The length of ProfileData is: (1, 20)\n",
      "Technology\n"
     ]
    },
    {
     "name": "stderr",
     "output_type": "stream",
     "text": [
      "127.0.0.1 - - [08/May/2024 23:30:55] \"POST /predict_tolerance_risk HTTP/1.1\" 200 -\n"
     ]
    },
    {
     "name": "stdout",
     "output_type": "stream",
     "text": [
      "activity Technology\n"
     ]
    },
    {
     "name": "stderr",
     "output_type": "stream",
     "text": [
      "127.0.0.1 - - [08/May/2024 23:30:57] \"POST /predict_tolerance_risk HTTP/1.1\" 200 -\n"
     ]
    },
    {
     "name": "stdout",
     "output_type": "stream",
     "text": [
      "activity Technology\n",
      "ProfileData for Investor id: 108\n",
      "The length of ProfileData is: (1, 20)\n",
      "Technology\n"
     ]
    },
    {
     "name": "stderr",
     "output_type": "stream",
     "text": [
      "127.0.0.1 - - [08/May/2024 23:31:20] \"POST /predict_tolerance_risk HTTP/1.1\" 200 -\n"
     ]
    },
    {
     "name": "stdout",
     "output_type": "stream",
     "text": [
      "activity Technology\n",
      "ProfileData for Investor id: 108\n",
      "The length of ProfileData is: (1, 20)\n",
      "Technology\n"
     ]
    },
    {
     "name": "stderr",
     "output_type": "stream",
     "text": [
      "127.0.0.1 - - [08/May/2024 23:31:25] \"OPTIONS /predict_tolerance_risk HTTP/1.1\" 200 -\n"
     ]
    },
    {
     "name": "stdout",
     "output_type": "stream",
     "text": [
      "ProfileData for Investor id: 108\n",
      "The length of ProfileData is: (1, 20)\n",
      "Technology\n",
      "ProfileData for Investor id: 108\n",
      "The length of ProfileData is: (1, 20)\n",
      "Technology\n"
     ]
    },
    {
     "name": "stderr",
     "output_type": "stream",
     "text": [
      "127.0.0.1 - - [08/May/2024 23:31:29] \"POST /predict_tolerance_risk HTTP/1.1\" 200 -\n"
     ]
    },
    {
     "name": "stdout",
     "output_type": "stream",
     "text": [
      "activity Technology\n"
     ]
    },
    {
     "name": "stderr",
     "output_type": "stream",
     "text": [
      "127.0.0.1 - - [08/May/2024 23:31:32] \"POST /predict_tolerance_risk HTTP/1.1\" 200 -\n"
     ]
    },
    {
     "name": "stdout",
     "output_type": "stream",
     "text": [
      "activity Technology\n"
     ]
    },
    {
     "name": "stderr",
     "output_type": "stream",
     "text": [
      "127.0.0.1 - - [08/May/2024 23:31:33] \"POST /predict_tolerance_risk HTTP/1.1\" 200 -\n"
     ]
    },
    {
     "name": "stdout",
     "output_type": "stream",
     "text": [
      "activity Technology\n",
      "ProfileData for Investor id: 108\n",
      "The length of ProfileData is: (1, 20)\n",
      "Technology\n"
     ]
    },
    {
     "name": "stderr",
     "output_type": "stream",
     "text": [
      "127.0.0.1 - - [08/May/2024 23:31:41] \"POST /predict_tolerance_risk HTTP/1.1\" 200 -\n"
     ]
    },
    {
     "name": "stdout",
     "output_type": "stream",
     "text": [
      "activity Technology\n",
      "ProfileData for Investor id: 108\n",
      "The length of ProfileData is: (1, 20)\n",
      "Technology\n"
     ]
    },
    {
     "name": "stderr",
     "output_type": "stream",
     "text": [
      "127.0.0.1 - - [08/May/2024 23:31:48] \"POST /predict_tolerance_risk HTTP/1.1\" 200 -\n"
     ]
    },
    {
     "name": "stdout",
     "output_type": "stream",
     "text": [
      "activity Technology\n",
      "ProfileData for Investor id: 108\n",
      "The length of ProfileData is: (1, 20)\n",
      "Technology\n"
     ]
    },
    {
     "name": "stderr",
     "output_type": "stream",
     "text": [
      "127.0.0.1 - - [08/May/2024 23:33:26] \"POST /predict_tolerance_risk HTTP/1.1\" 200 -\n"
     ]
    },
    {
     "name": "stdout",
     "output_type": "stream",
     "text": [
      "activity Technology\n",
      "ProfileData for Investor id: 108\n",
      "The length of ProfileData is: (1, 20)\n",
      "Technology\n"
     ]
    },
    {
     "name": "stderr",
     "output_type": "stream",
     "text": [
      "127.0.0.1 - - [08/May/2024 23:33:32] \"POST /predict_tolerance_risk HTTP/1.1\" 200 -\n"
     ]
    },
    {
     "name": "stdout",
     "output_type": "stream",
     "text": [
      "activity Technology\n",
      "ProfileData for Investor id: 108\n",
      "The length of ProfileData is: (1, 20)\n",
      "Technology\n",
      "ProfileData for Investor id: 108\n",
      "The length of ProfileData is: (1, 20)\n",
      "Technology\n"
     ]
    },
    {
     "name": "stderr",
     "output_type": "stream",
     "text": [
      "127.0.0.1 - - [08/May/2024 23:33:51] \"POST /predict_tolerance_risk HTTP/1.1\" 200 -\n"
     ]
    },
    {
     "name": "stdout",
     "output_type": "stream",
     "text": [
      "activity Technology\n"
     ]
    },
    {
     "name": "stderr",
     "output_type": "stream",
     "text": [
      "127.0.0.1 - - [08/May/2024 23:33:51] \"POST /predict_tolerance_risk HTTP/1.1\" 200 -\n"
     ]
    },
    {
     "name": "stdout",
     "output_type": "stream",
     "text": [
      "activity Technology\n",
      "ProfileData for Investor id: 108\n",
      "The length of ProfileData is: (1, 20)\n",
      "Technology\n",
      "ProfileData for Investor id: 108\n",
      "The length of ProfileData is: (1, 20)\n",
      "Technology\n"
     ]
    },
    {
     "name": "stderr",
     "output_type": "stream",
     "text": [
      "127.0.0.1 - - [08/May/2024 23:33:56] \"POST /predict_tolerance_risk HTTP/1.1\" 200 -\n",
      "127.0.0.1 - - [08/May/2024 23:33:56] \"POST /predict_tolerance_risk HTTP/1.1\" 200 -\n"
     ]
    },
    {
     "name": "stdout",
     "output_type": "stream",
     "text": [
      "activity Technology\n",
      "activity Technology\n"
     ]
    },
    {
     "name": "stderr",
     "output_type": "stream",
     "text": [
      "127.0.0.1 - - [08/May/2024 23:34:08] \"OPTIONS /predict_tolerance_risk HTTP/1.1\" 200 -\n"
     ]
    },
    {
     "name": "stdout",
     "output_type": "stream",
     "text": [
      "ProfileData for Investor id: 108\n",
      "The length of ProfileData is: (1, 20)\n",
      "Technology\n"
     ]
    },
    {
     "name": "stderr",
     "output_type": "stream",
     "text": [
      "127.0.0.1 - - [08/May/2024 23:34:10] \"OPTIONS /predict_tolerance_risk HTTP/1.1\" 200 -\n"
     ]
    },
    {
     "name": "stdout",
     "output_type": "stream",
     "text": [
      "ProfileData for Investor id: 108\n",
      "The length of ProfileData is: (1, 20)\n",
      "Technology\n",
      "ProfileData for Investor id: 108\n",
      "The length of ProfileData is: (1, 20)\n",
      "Technology\n",
      "ProfileData for Investor id: 108\n",
      "The length of ProfileData is: (1, 20)\n",
      "Technology\n",
      "ProfileData for Investor id: 108\n",
      "The length of ProfileData is: (1, 20)\n",
      "Technology\n",
      "ProfileData for Investor id: 108\n",
      "The length of ProfileData is: (1, 20)\n",
      "Technology\n",
      "ProfileData for Investor id: 108\n",
      "The length of ProfileData is: (1, 20)\n",
      "Technology\n"
     ]
    },
    {
     "name": "stderr",
     "output_type": "stream",
     "text": [
      "127.0.0.1 - - [08/May/2024 23:34:15] \"POST /predict_tolerance_risk HTTP/1.1\" 200 -\n"
     ]
    },
    {
     "name": "stdout",
     "output_type": "stream",
     "text": [
      "activity Technology\n"
     ]
    },
    {
     "name": "stderr",
     "output_type": "stream",
     "text": [
      "127.0.0.1 - - [08/May/2024 23:34:16] \"POST /predict_tolerance_risk HTTP/1.1\" 200 -\n"
     ]
    },
    {
     "name": "stdout",
     "output_type": "stream",
     "text": [
      "activity Technology\n",
      "ProfileData for Investor id: 108\n",
      "The length of ProfileData is: (1, 20)\n",
      "Technology\n"
     ]
    },
    {
     "name": "stderr",
     "output_type": "stream",
     "text": [
      "127.0.0.1 - - [08/May/2024 23:34:17] \"POST /predict_tolerance_risk HTTP/1.1\" 200 -\n",
      "127.0.0.1 - - [08/May/2024 23:34:17] \"POST /predict_tolerance_risk HTTP/1.1\" 200 -\n"
     ]
    },
    {
     "name": "stdout",
     "output_type": "stream",
     "text": [
      "activity Technology\n",
      "ProfileData for Investor id: 108\n",
      "The length of ProfileData is: (1, 20)\n",
      "Technology\n",
      "activity Technology\n",
      "ProfileData for Investor id: 108\n",
      "The length of ProfileData is: (1, 20)\n",
      "Technology\n"
     ]
    },
    {
     "name": "stderr",
     "output_type": "stream",
     "text": [
      "127.0.0.1 - - [08/May/2024 23:34:18] \"POST /predict_tolerance_risk HTTP/1.1\" 200 -\n",
      "127.0.0.1 - - [08/May/2024 23:34:18] \"POST /predict_tolerance_risk HTTP/1.1\" 200 -\n"
     ]
    },
    {
     "name": "stdout",
     "output_type": "stream",
     "text": [
      "activity Technology\n",
      "ProfileData for Investor id: 108\n",
      "The length of ProfileData is: (1, 20)\n",
      "Technology\n",
      "activity Technology\n",
      "ProfileData for Investor id: 108\n",
      "The length of ProfileData is: (1, 20)\n",
      "Technology\n"
     ]
    },
    {
     "name": "stderr",
     "output_type": "stream",
     "text": [
      "127.0.0.1 - - [08/May/2024 23:34:19] \"POST /predict_tolerance_risk HTTP/1.1\" 200 -\n"
     ]
    },
    {
     "name": "stdout",
     "output_type": "stream",
     "text": [
      "activity Technology\n",
      "ProfileData for Investor id: 108\n",
      "The length of ProfileData is: (1, 20)\n",
      "Technology\n"
     ]
    },
    {
     "name": "stderr",
     "output_type": "stream",
     "text": [
      "127.0.0.1 - - [08/May/2024 23:34:23] \"POST /predict_tolerance_risk HTTP/1.1\" 200 -\n"
     ]
    },
    {
     "name": "stdout",
     "output_type": "stream",
     "text": [
      "activity Technology\n",
      "ProfileData for Investor id: 108\n",
      "The length of ProfileData is: (1, 20)\n",
      "Technology\n"
     ]
    },
    {
     "name": "stderr",
     "output_type": "stream",
     "text": [
      "127.0.0.1 - - [08/May/2024 23:34:24] \"POST /predict_tolerance_risk HTTP/1.1\" 200 -\n",
      "127.0.0.1 - - [08/May/2024 23:34:24] \"POST /predict_tolerance_risk HTTP/1.1\" 200 -\n"
     ]
    },
    {
     "name": "stdout",
     "output_type": "stream",
     "text": [
      "activity Technology\n",
      "ProfileData for Investor id: 108\n",
      "The length of ProfileData is: (1, 20)\n",
      "Technology\n",
      "activity Technology\n",
      "ProfileData for Investor id: 108\n",
      "The length of ProfileData is: (1, 20)\n",
      "Technology\n"
     ]
    },
    {
     "name": "stderr",
     "output_type": "stream",
     "text": [
      "127.0.0.1 - - [08/May/2024 23:34:25] \"POST /predict_tolerance_risk HTTP/1.1\" 200 -\n"
     ]
    },
    {
     "name": "stdout",
     "output_type": "stream",
     "text": [
      "activity Technology\n",
      "ProfileData for Investor id: 108\n",
      "The length of ProfileData is: (1, 20)\n",
      "Technology\n",
      "activity "
     ]
    },
    {
     "name": "stderr",
     "output_type": "stream",
     "text": [
      "127.0.0.1 - - [08/May/2024 23:34:25] \"POST /predict_tolerance_risk HTTP/1.1\" 200 -\n",
      "127.0.0.1 - - [08/May/2024 23:34:25] \"POST /predict_tolerance_risk HTTP/1.1\" 200 -\n"
     ]
    },
    {
     "name": "stdout",
     "output_type": "stream",
     "text": [
      "Technology\n",
      "activity Technology\n"
     ]
    },
    {
     "name": "stderr",
     "output_type": "stream",
     "text": [
      "127.0.0.1 - - [08/May/2024 23:34:28] \"POST /predict_tolerance_risk HTTP/1.1\" 200 -\n"
     ]
    },
    {
     "name": "stdout",
     "output_type": "stream",
     "text": [
      "activity Technology\n"
     ]
    },
    {
     "name": "stderr",
     "output_type": "stream",
     "text": [
      "127.0.0.1 - - [08/May/2024 23:34:29] \"POST /predict_tolerance_risk HTTP/1.1\" 200 -\n",
      "127.0.0.1 - - [08/May/2024 23:34:29] \"POST /predict_tolerance_risk HTTP/1.1\" 200 -\n"
     ]
    },
    {
     "name": "stdout",
     "output_type": "stream",
     "text": [
      "activity Technology\n",
      "activity Technology\n"
     ]
    },
    {
     "name": "stderr",
     "output_type": "stream",
     "text": [
      "127.0.0.1 - - [08/May/2024 23:34:29] \"POST /predict_tolerance_risk HTTP/1.1\" 200 -\n"
     ]
    },
    {
     "name": "stdout",
     "output_type": "stream",
     "text": [
      "activity Technology\n"
     ]
    },
    {
     "name": "stderr",
     "output_type": "stream",
     "text": [
      "127.0.0.1 - - [08/May/2024 23:34:55] \"OPTIONS /predict_tolerance_risk HTTP/1.1\" 200 -\n"
     ]
    },
    {
     "name": "stdout",
     "output_type": "stream",
     "text": [
      "ProfileData for Investor id: 108\n",
      "The length of ProfileData is: (1, 20)\n",
      "Technology\n"
     ]
    },
    {
     "name": "stderr",
     "output_type": "stream",
     "text": [
      "127.0.0.1 - - [08/May/2024 23:34:58] \"POST /predict_tolerance_risk HTTP/1.1\" 200 -\n"
     ]
    },
    {
     "name": "stdout",
     "output_type": "stream",
     "text": [
      "activity Technology\n"
     ]
    },
    {
     "name": "stderr",
     "output_type": "stream",
     "text": [
      "127.0.0.1 - - [08/May/2024 23:35:40] \"OPTIONS /predict_tolerance_risk HTTP/1.1\" 200 -\n"
     ]
    },
    {
     "name": "stdout",
     "output_type": "stream",
     "text": [
      "ProfileData for Investor id: 108\n",
      "The length of ProfileData is: (1, 20)\n",
      "Technology\n"
     ]
    },
    {
     "name": "stderr",
     "output_type": "stream",
     "text": [
      "127.0.0.1 - - [08/May/2024 23:35:44] \"POST /predict_tolerance_risk HTTP/1.1\" 200 -\n"
     ]
    },
    {
     "name": "stdout",
     "output_type": "stream",
     "text": [
      "activity Technology\n"
     ]
    },
    {
     "name": "stderr",
     "output_type": "stream",
     "text": [
      "127.0.0.1 - - [08/May/2024 23:36:03] \"OPTIONS /predict_tolerance_risk HTTP/1.1\" 200 -\n"
     ]
    },
    {
     "name": "stdout",
     "output_type": "stream",
     "text": [
      "ProfileData for Investor id: 108\n",
      "The length of ProfileData is: (1, 20)\n",
      "Technology\n"
     ]
    },
    {
     "name": "stderr",
     "output_type": "stream",
     "text": [
      "127.0.0.1 - - [08/May/2024 23:36:06] \"POST /predict_tolerance_risk HTTP/1.1\" 200 -\n"
     ]
    },
    {
     "name": "stdout",
     "output_type": "stream",
     "text": [
      "activity Technology\n"
     ]
    },
    {
     "name": "stderr",
     "output_type": "stream",
     "text": [
      "127.0.0.1 - - [08/May/2024 23:37:05] \"OPTIONS /predict_tolerance_risk HTTP/1.1\" 200 -\n"
     ]
    },
    {
     "name": "stdout",
     "output_type": "stream",
     "text": [
      "ProfileData for Investor id: 108\n",
      "The length of ProfileData is: (1, 20)\n",
      "Technology\n"
     ]
    },
    {
     "name": "stderr",
     "output_type": "stream",
     "text": [
      "127.0.0.1 - - [08/May/2024 23:37:08] \"POST /predict_tolerance_risk HTTP/1.1\" 200 -\n"
     ]
    },
    {
     "name": "stdout",
     "output_type": "stream",
     "text": [
      "activity Technology\n"
     ]
    },
    {
     "name": "stderr",
     "output_type": "stream",
     "text": [
      "127.0.0.1 - - [08/May/2024 23:37:27] \"OPTIONS /predict_tolerance_risk HTTP/1.1\" 200 -\n"
     ]
    },
    {
     "name": "stdout",
     "output_type": "stream",
     "text": [
      "ProfileData for Investor id: 108\n",
      "The length of ProfileData is: (1, 20)\n",
      "Technology\n"
     ]
    },
    {
     "name": "stderr",
     "output_type": "stream",
     "text": [
      "127.0.0.1 - - [08/May/2024 23:37:30] \"POST /predict_tolerance_risk HTTP/1.1\" 200 -\n"
     ]
    },
    {
     "name": "stdout",
     "output_type": "stream",
     "text": [
      "activity Technology\n"
     ]
    },
    {
     "name": "stderr",
     "output_type": "stream",
     "text": [
      "127.0.0.1 - - [08/May/2024 23:37:33] \"OPTIONS /predict_tolerance_risk HTTP/1.1\" 200 -\n"
     ]
    },
    {
     "name": "stdout",
     "output_type": "stream",
     "text": [
      "ProfileData for Investor id: 108\n",
      "The length of ProfileData is: (1, 20)\n",
      "Technology\n"
     ]
    },
    {
     "name": "stderr",
     "output_type": "stream",
     "text": [
      "127.0.0.1 - - [08/May/2024 23:37:36] \"POST /predict_tolerance_risk HTTP/1.1\" 200 -\n"
     ]
    },
    {
     "name": "stdout",
     "output_type": "stream",
     "text": [
      "activity Technology\n"
     ]
    },
    {
     "name": "stderr",
     "output_type": "stream",
     "text": [
      "127.0.0.1 - - [08/May/2024 23:37:43] \"OPTIONS /predict_tolerance_risk HTTP/1.1\" 200 -\n"
     ]
    },
    {
     "name": "stdout",
     "output_type": "stream",
     "text": [
      "ProfileData for Investor id: 108\n",
      "The length of ProfileData is: (1, 20)\n",
      "Technology\n"
     ]
    },
    {
     "name": "stderr",
     "output_type": "stream",
     "text": [
      "127.0.0.1 - - [08/May/2024 23:37:46] \"POST /predict_tolerance_risk HTTP/1.1\" 200 -\n"
     ]
    },
    {
     "name": "stdout",
     "output_type": "stream",
     "text": [
      "activity Technology\n"
     ]
    },
    {
     "name": "stderr",
     "output_type": "stream",
     "text": [
      "127.0.0.1 - - [08/May/2024 23:37:48] \"OPTIONS /predict_tolerance_risk HTTP/1.1\" 200 -\n"
     ]
    },
    {
     "name": "stdout",
     "output_type": "stream",
     "text": [
      "ProfileData for Investor id: 108\n",
      "The length of ProfileData is: (1, 20)\n",
      "Technology\n"
     ]
    },
    {
     "name": "stderr",
     "output_type": "stream",
     "text": [
      "127.0.0.1 - - [08/May/2024 23:37:52] \"POST /predict_tolerance_risk HTTP/1.1\" 200 -\n"
     ]
    },
    {
     "name": "stdout",
     "output_type": "stream",
     "text": [
      "activity Technology\n"
     ]
    },
    {
     "name": "stderr",
     "output_type": "stream",
     "text": [
      "127.0.0.1 - - [08/May/2024 23:37:55] \"OPTIONS /predict_tolerance_risk HTTP/1.1\" 200 -\n"
     ]
    },
    {
     "name": "stdout",
     "output_type": "stream",
     "text": [
      "ProfileData for Investor id: 108\n",
      "The length of ProfileData is: (1, 20)\n",
      "Technology\n"
     ]
    },
    {
     "name": "stderr",
     "output_type": "stream",
     "text": [
      "127.0.0.1 - - [08/May/2024 23:37:59] \"POST /predict_tolerance_risk HTTP/1.1\" 200 -\n"
     ]
    },
    {
     "name": "stdout",
     "output_type": "stream",
     "text": [
      "activity Technology\n"
     ]
    },
    {
     "name": "stderr",
     "output_type": "stream",
     "text": [
      "127.0.0.1 - - [08/May/2024 23:38:04] \"OPTIONS /predict_tolerance_risk HTTP/1.1\" 200 -\n"
     ]
    },
    {
     "name": "stdout",
     "output_type": "stream",
     "text": [
      "ProfileData for Investor id: 108\n",
      "The length of ProfileData is: (1, 20)\n",
      "Technology\n"
     ]
    },
    {
     "name": "stderr",
     "output_type": "stream",
     "text": [
      "127.0.0.1 - - [08/May/2024 23:38:08] \"POST /predict_tolerance_risk HTTP/1.1\" 200 -\n"
     ]
    },
    {
     "name": "stdout",
     "output_type": "stream",
     "text": [
      "activity Technology\n"
     ]
    },
    {
     "name": "stderr",
     "output_type": "stream",
     "text": [
      "127.0.0.1 - - [08/May/2024 23:38:18] \"OPTIONS /predict_tolerance_risk HTTP/1.1\" 200 -\n"
     ]
    },
    {
     "name": "stdout",
     "output_type": "stream",
     "text": [
      "ProfileData for Investor id: 108\n",
      "The length of ProfileData is: (1, 20)\n",
      "Technology\n"
     ]
    },
    {
     "name": "stderr",
     "output_type": "stream",
     "text": [
      "127.0.0.1 - - [08/May/2024 23:38:22] \"POST /predict_tolerance_risk HTTP/1.1\" 200 -\n"
     ]
    },
    {
     "name": "stdout",
     "output_type": "stream",
     "text": [
      "activity Technology\n"
     ]
    },
    {
     "name": "stderr",
     "output_type": "stream",
     "text": [
      "127.0.0.1 - - [08/May/2024 23:38:48] \"OPTIONS /predict_tolerance_risk HTTP/1.1\" 200 -\n"
     ]
    },
    {
     "name": "stdout",
     "output_type": "stream",
     "text": [
      "ProfileData for Investor id: 108\n",
      "The length of ProfileData is: (1, 20)\n",
      "Technology\n",
      "ProfileData for Investor id: 108\n",
      "The length of ProfileData is: (1, 20)\n",
      "Technology\n"
     ]
    },
    {
     "name": "stderr",
     "output_type": "stream",
     "text": [
      "127.0.0.1 - - [08/May/2024 23:38:52] \"POST /predict_tolerance_risk HTTP/1.1\" 200 -\n"
     ]
    },
    {
     "name": "stdout",
     "output_type": "stream",
     "text": [
      "activity Technology\n"
     ]
    },
    {
     "name": "stderr",
     "output_type": "stream",
     "text": [
      "127.0.0.1 - - [08/May/2024 23:38:53] \"POST /predict_tolerance_risk HTTP/1.1\" 200 -\n"
     ]
    },
    {
     "name": "stdout",
     "output_type": "stream",
     "text": [
      "activity Technology\n",
      "ProfileData for Investor id: 108\n",
      "The length of ProfileData is: (1, 20)\n",
      "Technology\n"
     ]
    },
    {
     "name": "stderr",
     "output_type": "stream",
     "text": [
      "127.0.0.1 - - [08/May/2024 23:38:59] \"POST /predict_tolerance_risk HTTP/1.1\" 200 -\n"
     ]
    },
    {
     "name": "stdout",
     "output_type": "stream",
     "text": [
      "activity Technology\n",
      "ProfileData for Investor id: 108\n",
      "The length of ProfileData is: (1, 20)\n",
      "Technology\n"
     ]
    },
    {
     "name": "stderr",
     "output_type": "stream",
     "text": [
      "127.0.0.1 - - [08/May/2024 23:41:05] \"POST /predict_tolerance_risk HTTP/1.1\" 200 -\n"
     ]
    },
    {
     "name": "stdout",
     "output_type": "stream",
     "text": [
      "activity Technology\n",
      "ProfileData for Investor id: 108\n",
      "The length of ProfileData is: (1, 20)\n",
      "Technology\n",
      "ProfileData for Investor id: 108\n",
      "The length of ProfileData is: (1, 20)\n",
      "Technology\n",
      "ProfileData for Investor id: 108\n",
      "The length of ProfileData is: (1, 20)\n",
      "Technology\n",
      "ProfileData for Investor id: 108\n",
      "The length of ProfileData is: (1, 20)\n",
      "Technology\n",
      "ProfileData for Investor id: 108\n",
      "The length of ProfileData is: (1, 20)\n",
      "Technology\n"
     ]
    },
    {
     "name": "stderr",
     "output_type": "stream",
     "text": [
      "127.0.0.1 - - [08/May/2024 23:41:11] \"POST /predict_tolerance_risk HTTP/1.1\" 200 -\n"
     ]
    },
    {
     "name": "stdout",
     "output_type": "stream",
     "text": [
      "activity Technology\n"
     ]
    },
    {
     "name": "stderr",
     "output_type": "stream",
     "text": [
      "127.0.0.1 - - [08/May/2024 23:41:12] \"POST /predict_tolerance_risk HTTP/1.1\" 200 -\n"
     ]
    },
    {
     "name": "stdout",
     "output_type": "stream",
     "text": [
      "activity Technology\n"
     ]
    },
    {
     "name": "stderr",
     "output_type": "stream",
     "text": [
      "127.0.0.1 - - [08/May/2024 23:41:13] \"POST /predict_tolerance_risk HTTP/1.1\" 200 -\n"
     ]
    },
    {
     "name": "stdout",
     "output_type": "stream",
     "text": [
      "activity Technology\n"
     ]
    },
    {
     "name": "stderr",
     "output_type": "stream",
     "text": [
      "127.0.0.1 - - [08/May/2024 23:41:13] \"POST /predict_tolerance_risk HTTP/1.1\" 200 -\n"
     ]
    },
    {
     "name": "stdout",
     "output_type": "stream",
     "text": [
      "activity Technology\n"
     ]
    },
    {
     "name": "stderr",
     "output_type": "stream",
     "text": [
      "127.0.0.1 - - [08/May/2024 23:41:14] \"POST /predict_tolerance_risk HTTP/1.1\" 200 -\n"
     ]
    },
    {
     "name": "stdout",
     "output_type": "stream",
     "text": [
      "activity Technology\n",
      "ProfileData for Investor id: 108\n",
      "The length of ProfileData is: (1, 20)\n",
      "Technology\n",
      "ProfileData for Investor id: 108\n",
      "The length of ProfileData is: (1, 20)\n",
      "Technology\n",
      "ProfileData for Investor id: 108\n",
      "The length of ProfileData is: (1, 20)\n",
      "Technology\n",
      "ProfileData for Investor id: 108\n",
      "The length of ProfileData is: (1, 20)\n",
      "Technology\n",
      "ProfileData for Investor id: 108\n",
      "The length of ProfileData is: (1, 20)\n",
      "Technology\n"
     ]
    },
    {
     "name": "stderr",
     "output_type": "stream",
     "text": [
      "127.0.0.1 - - [08/May/2024 23:41:19] \"POST /predict_tolerance_risk HTTP/1.1\" 200 -\n"
     ]
    },
    {
     "name": "stdout",
     "output_type": "stream",
     "text": [
      "activity Technology\n"
     ]
    },
    {
     "name": "stderr",
     "output_type": "stream",
     "text": [
      "127.0.0.1 - - [08/May/2024 23:41:21] \"POST /predict_tolerance_risk HTTP/1.1\" 200 -\n"
     ]
    },
    {
     "name": "stdout",
     "output_type": "stream",
     "text": [
      "activity Technology\n"
     ]
    },
    {
     "name": "stderr",
     "output_type": "stream",
     "text": [
      "127.0.0.1 - - [08/May/2024 23:41:21] \"POST /predict_tolerance_risk HTTP/1.1\" 200 -\n"
     ]
    },
    {
     "name": "stdout",
     "output_type": "stream",
     "text": [
      "activity Technology\n"
     ]
    },
    {
     "name": "stderr",
     "output_type": "stream",
     "text": [
      "127.0.0.1 - - [08/May/2024 23:41:22] \"POST /predict_tolerance_risk HTTP/1.1\" 200 -\n"
     ]
    },
    {
     "name": "stdout",
     "output_type": "stream",
     "text": [
      "activity Technology\n"
     ]
    },
    {
     "name": "stderr",
     "output_type": "stream",
     "text": [
      "127.0.0.1 - - [08/May/2024 23:41:23] \"POST /predict_tolerance_risk HTTP/1.1\" 200 -\n"
     ]
    },
    {
     "name": "stdout",
     "output_type": "stream",
     "text": [
      "activity Technology\n",
      "ProfileData for Investor id: 108\n",
      "The length of ProfileData is: (1, 20)\n",
      "Technology\n"
     ]
    },
    {
     "name": "stderr",
     "output_type": "stream",
     "text": [
      "127.0.0.1 - - [08/May/2024 23:41:30] \"POST /predict_tolerance_risk HTTP/1.1\" 200 -\n"
     ]
    },
    {
     "name": "stdout",
     "output_type": "stream",
     "text": [
      "activity Technology\n",
      "ProfileData for Investor id: 108\n",
      "The length of ProfileData is: (1, 20)\n",
      "Technology\n"
     ]
    },
    {
     "name": "stderr",
     "output_type": "stream",
     "text": [
      "127.0.0.1 - - [08/May/2024 23:41:56] \"POST /predict_tolerance_risk HTTP/1.1\" 200 -\n"
     ]
    },
    {
     "name": "stdout",
     "output_type": "stream",
     "text": [
      "activity Technology\n",
      "ProfileData for Investor id: 108\n",
      "The length of ProfileData is: (1, 20)\n",
      "Technology\n"
     ]
    },
    {
     "name": "stderr",
     "output_type": "stream",
     "text": [
      "127.0.0.1 - - [08/May/2024 23:42:02] \"POST /predict_tolerance_risk HTTP/1.1\" 200 -\n"
     ]
    },
    {
     "name": "stdout",
     "output_type": "stream",
     "text": [
      "activity Technology\n",
      "ProfileData for Investor id: 108\n",
      "The length of ProfileData is: (1, 20)\n",
      "Technology\n"
     ]
    },
    {
     "name": "stderr",
     "output_type": "stream",
     "text": [
      "127.0.0.1 - - [08/May/2024 23:42:13] \"POST /predict_tolerance_risk HTTP/1.1\" 200 -\n"
     ]
    },
    {
     "name": "stdout",
     "output_type": "stream",
     "text": [
      "activity Technology\n",
      "ProfileData for Investor id: 108\n",
      "The length of ProfileData is: (1, 20)\n",
      "Technology\n"
     ]
    },
    {
     "name": "stderr",
     "output_type": "stream",
     "text": [
      "127.0.0.1 - - [08/May/2024 23:42:19] \"POST /predict_tolerance_risk HTTP/1.1\" 200 -\n"
     ]
    },
    {
     "name": "stdout",
     "output_type": "stream",
     "text": [
      "activity Technology\n",
      "ProfileData for Investor id: 108\n",
      "The length of ProfileData is: (1, 20)\n",
      "Technology\n"
     ]
    },
    {
     "name": "stderr",
     "output_type": "stream",
     "text": [
      "127.0.0.1 - - [08/May/2024 23:42:46] \"POST /predict_tolerance_risk HTTP/1.1\" 200 -\n"
     ]
    },
    {
     "name": "stdout",
     "output_type": "stream",
     "text": [
      "activity Technology\n",
      "ProfileData for Investor id: 108\n",
      "The length of ProfileData is: (1, 20)\n",
      "Technology\n"
     ]
    },
    {
     "name": "stderr",
     "output_type": "stream",
     "text": [
      "127.0.0.1 - - [08/May/2024 23:42:51] \"POST /predict_tolerance_risk HTTP/1.1\" 200 -\n"
     ]
    },
    {
     "name": "stdout",
     "output_type": "stream",
     "text": [
      "activity Technology\n",
      "ProfileData for Investor id: 108\n",
      "The length of ProfileData is: (1, 20)\n",
      "Technology\n"
     ]
    },
    {
     "name": "stderr",
     "output_type": "stream",
     "text": [
      "127.0.0.1 - - [08/May/2024 23:42:58] \"POST /predict_tolerance_risk HTTP/1.1\" 200 -\n"
     ]
    },
    {
     "name": "stdout",
     "output_type": "stream",
     "text": [
      "activity Technology\n",
      "ProfileData for Investor id: 108\n",
      "The length of ProfileData is: (1, 20)\n",
      "Technology\n",
      "ProfileData for Investor id: 108\n",
      "The length of ProfileData is: (1, 20)\n",
      "Technology\n"
     ]
    },
    {
     "name": "stderr",
     "output_type": "stream",
     "text": [
      "127.0.0.1 - - [08/May/2024 23:43:02] \"POST /predict_tolerance_risk HTTP/1.1\" 200 -\n"
     ]
    },
    {
     "name": "stdout",
     "output_type": "stream",
     "text": [
      "activity Technology\n"
     ]
    },
    {
     "name": "stderr",
     "output_type": "stream",
     "text": [
      "127.0.0.1 - - [08/May/2024 23:43:03] \"POST /predict_tolerance_risk HTTP/1.1\" 200 -\n"
     ]
    },
    {
     "name": "stdout",
     "output_type": "stream",
     "text": [
      "activity Technology\n",
      "ProfileData for Investor id: 108\n",
      "The length of ProfileData is: (1, 20)\n",
      "Technology\n"
     ]
    },
    {
     "name": "stderr",
     "output_type": "stream",
     "text": [
      "127.0.0.1 - - [08/May/2024 23:43:06] \"POST /predict_tolerance_risk HTTP/1.1\" 200 -\n"
     ]
    },
    {
     "name": "stdout",
     "output_type": "stream",
     "text": [
      "activity Technology\n"
     ]
    },
    {
     "name": "stderr",
     "output_type": "stream",
     "text": [
      "127.0.0.1 - - [08/May/2024 23:43:48] \"OPTIONS /predict_tolerance_risk HTTP/1.1\" 200 -\n"
     ]
    },
    {
     "name": "stdout",
     "output_type": "stream",
     "text": [
      "ProfileData for Investor id: 108\n",
      "The length of ProfileData is: (1, 20)\n",
      "Technology\n"
     ]
    },
    {
     "name": "stderr",
     "output_type": "stream",
     "text": [
      "127.0.0.1 - - [08/May/2024 23:43:51] \"POST /predict_tolerance_risk HTTP/1.1\" 200 -\n"
     ]
    },
    {
     "name": "stdout",
     "output_type": "stream",
     "text": [
      "activity Technology\n"
     ]
    },
    {
     "name": "stderr",
     "output_type": "stream",
     "text": [
      "127.0.0.1 - - [08/May/2024 23:43:58] \"OPTIONS /predict_tolerance_risk HTTP/1.1\" 200 -\n"
     ]
    },
    {
     "name": "stdout",
     "output_type": "stream",
     "text": [
      "ProfileData for Investor id: 108\n",
      "The length of ProfileData is: (1, 20)\n",
      "Technology\n"
     ]
    },
    {
     "name": "stderr",
     "output_type": "stream",
     "text": [
      "127.0.0.1 - - [08/May/2024 23:44:01] \"POST /predict_tolerance_risk HTTP/1.1\" 200 -\n"
     ]
    },
    {
     "name": "stdout",
     "output_type": "stream",
     "text": [
      "activity Technology\n"
     ]
    },
    {
     "name": "stderr",
     "output_type": "stream",
     "text": [
      "127.0.0.1 - - [08/May/2024 23:44:06] \"OPTIONS /predict_tolerance_risk HTTP/1.1\" 200 -\n"
     ]
    },
    {
     "name": "stdout",
     "output_type": "stream",
     "text": [
      "ProfileData for Investor id: 108\n",
      "The length of ProfileData is: (1, 20)\n",
      "Technology\n"
     ]
    },
    {
     "name": "stderr",
     "output_type": "stream",
     "text": [
      "127.0.0.1 - - [08/May/2024 23:44:09] \"POST /predict_tolerance_risk HTTP/1.1\" 200 -\n"
     ]
    },
    {
     "name": "stdout",
     "output_type": "stream",
     "text": [
      "activity Technology\n",
      "ProfileData for Investor id: 108\n",
      "The length of ProfileData is: (1, 20)\n",
      "Technology\n"
     ]
    },
    {
     "name": "stderr",
     "output_type": "stream",
     "text": [
      "127.0.0.1 - - [08/May/2024 23:45:27] \"OPTIONS /predict_tolerance_risk HTTP/1.1\" 200 -\n"
     ]
    },
    {
     "name": "stdout",
     "output_type": "stream",
     "text": [
      "ProfileData for Investor id: 108\n",
      "The length of ProfileData is: (1, 20)\n",
      "Technology\n"
     ]
    },
    {
     "name": "stderr",
     "output_type": "stream",
     "text": [
      "127.0.0.1 - - [08/May/2024 23:45:29] \"POST /predict_tolerance_risk HTTP/1.1\" 200 -\n"
     ]
    },
    {
     "name": "stdout",
     "output_type": "stream",
     "text": [
      "activity Technology\n"
     ]
    },
    {
     "name": "stderr",
     "output_type": "stream",
     "text": [
      "127.0.0.1 - - [08/May/2024 23:45:30] \"POST /predict_tolerance_risk HTTP/1.1\" 200 -\n"
     ]
    },
    {
     "name": "stdout",
     "output_type": "stream",
     "text": [
      "activity Technology\n",
      "ProfileData for Investor id: 108\n",
      "The length of ProfileData is: (1, 20)\n",
      "Technology\n"
     ]
    },
    {
     "name": "stderr",
     "output_type": "stream",
     "text": [
      "127.0.0.1 - - [08/May/2024 23:45:35] \"POST /predict_tolerance_risk HTTP/1.1\" 200 -\n"
     ]
    },
    {
     "name": "stdout",
     "output_type": "stream",
     "text": [
      "activity Technology\n",
      "ProfileData for Investor id: 108\n",
      "The length of ProfileData is: (1, 20)\n",
      "Technology\n"
     ]
    },
    {
     "name": "stderr",
     "output_type": "stream",
     "text": [
      "127.0.0.1 - - [08/May/2024 23:45:49] \"POST /predict_tolerance_risk HTTP/1.1\" 200 -\n"
     ]
    },
    {
     "name": "stdout",
     "output_type": "stream",
     "text": [
      "activity Technology\n",
      "ProfileData for Investor id: 108\n",
      "The length of ProfileData is: (1, 20)\n",
      "Technology\n",
      "ProfileData for Investor id: 108\n",
      "The length of ProfileData is: (1, 20)\n",
      "Technology\n"
     ]
    },
    {
     "name": "stderr",
     "output_type": "stream",
     "text": [
      "127.0.0.1 - - [08/May/2024 23:45:53] \"POST /predict_tolerance_risk HTTP/1.1\" 200 -\n"
     ]
    },
    {
     "name": "stdout",
     "output_type": "stream",
     "text": [
      "activity Technology\n"
     ]
    },
    {
     "name": "stderr",
     "output_type": "stream",
     "text": [
      "127.0.0.1 - - [08/May/2024 23:45:55] \"POST /predict_tolerance_risk HTTP/1.1\" 200 -\n"
     ]
    },
    {
     "name": "stdout",
     "output_type": "stream",
     "text": [
      "activity Technology\n",
      "ProfileData for Investor id: 108\n",
      "The length of ProfileData is: (1, 20)\n",
      "Technology\n"
     ]
    },
    {
     "name": "stderr",
     "output_type": "stream",
     "text": [
      "127.0.0.1 - - [08/May/2024 23:45:59] \"POST /predict_tolerance_risk HTTP/1.1\" 200 -\n"
     ]
    },
    {
     "name": "stdout",
     "output_type": "stream",
     "text": [
      "activity Technology\n"
     ]
    },
    {
     "name": "stderr",
     "output_type": "stream",
     "text": [
      "127.0.0.1 - - [08/May/2024 23:46:20] \"OPTIONS /predict_tolerance_risk HTTP/1.1\" 200 -\n"
     ]
    },
    {
     "name": "stdout",
     "output_type": "stream",
     "text": [
      "ProfileData for Investor id: 108\n",
      "The length of ProfileData is: (1, 20)\n",
      "Technology\n",
      "ProfileData for Investor id: 108\n",
      "The length of ProfileData is: (1, 20)\n",
      "Technology\n"
     ]
    },
    {
     "name": "stderr",
     "output_type": "stream",
     "text": [
      "127.0.0.1 - - [08/May/2024 23:46:24] \"POST /predict_tolerance_risk HTTP/1.1\" 200 -\n"
     ]
    },
    {
     "name": "stdout",
     "output_type": "stream",
     "text": [
      "activity Technology\n"
     ]
    },
    {
     "name": "stderr",
     "output_type": "stream",
     "text": [
      "127.0.0.1 - - [08/May/2024 23:46:25] \"POST /predict_tolerance_risk HTTP/1.1\" 200 -\n"
     ]
    },
    {
     "name": "stdout",
     "output_type": "stream",
     "text": [
      "activity Technology\n",
      "ProfileData for Investor id: 108\n",
      "The length of ProfileData is: (1, 20)\n",
      "Technology\n"
     ]
    },
    {
     "name": "stderr",
     "output_type": "stream",
     "text": [
      "127.0.0.1 - - [08/May/2024 23:46:31] \"POST /predict_tolerance_risk HTTP/1.1\" 200 -\n"
     ]
    },
    {
     "name": "stdout",
     "output_type": "stream",
     "text": [
      "activity Technology\n",
      "ProfileData for Investor id: 108\n",
      "The length of ProfileData is: (1, 20)\n",
      "Technology\n"
     ]
    },
    {
     "name": "stderr",
     "output_type": "stream",
     "text": [
      "127.0.0.1 - - [08/May/2024 23:47:05] \"POST /predict_tolerance_risk HTTP/1.1\" 200 -\n"
     ]
    },
    {
     "name": "stdout",
     "output_type": "stream",
     "text": [
      "activity Technology\n",
      "ProfileData for Investor id: 108\n",
      "The length of ProfileData is: (1, 20)\n",
      "Technology\n"
     ]
    },
    {
     "name": "stderr",
     "output_type": "stream",
     "text": [
      "127.0.0.1 - - [08/May/2024 23:47:09] \"POST /predict_tolerance_risk HTTP/1.1\" 200 -\n"
     ]
    },
    {
     "name": "stdout",
     "output_type": "stream",
     "text": [
      "activity Technology\n"
     ]
    },
    {
     "name": "stderr",
     "output_type": "stream",
     "text": [
      "127.0.0.1 - - [08/May/2024 23:47:30] \"OPTIONS /predict_tolerance_risk HTTP/1.1\" 200 -\n"
     ]
    },
    {
     "name": "stdout",
     "output_type": "stream",
     "text": [
      "ProfileData for Investor id: 108\n",
      "The length of ProfileData is: (1, 20)\n",
      "Technology\n"
     ]
    },
    {
     "name": "stderr",
     "output_type": "stream",
     "text": [
      "127.0.0.1 - - [08/May/2024 23:47:33] \"POST /predict_tolerance_risk HTTP/1.1\" 200 -\n"
     ]
    },
    {
     "name": "stdout",
     "output_type": "stream",
     "text": [
      "activity Technology\n",
      "ProfileData for Investor id: 108\n",
      "The length of ProfileData is: (1, 20)\n",
      "Technology\n"
     ]
    },
    {
     "name": "stderr",
     "output_type": "stream",
     "text": [
      "127.0.0.1 - - [08/May/2024 23:48:09] \"POST /predict_tolerance_risk HTTP/1.1\" 200 -\n"
     ]
    },
    {
     "name": "stdout",
     "output_type": "stream",
     "text": [
      "activity Technology\n",
      "ProfileData for Investor id: 108\n",
      "The length of ProfileData is: (1, 20)\n",
      "Technology\n"
     ]
    },
    {
     "name": "stderr",
     "output_type": "stream",
     "text": [
      "127.0.0.1 - - [08/May/2024 23:48:14] \"POST /predict_tolerance_risk HTTP/1.1\" 200 -\n"
     ]
    },
    {
     "name": "stdout",
     "output_type": "stream",
     "text": [
      "activity Technology\n"
     ]
    },
    {
     "name": "stderr",
     "output_type": "stream",
     "text": [
      "127.0.0.1 - - [08/May/2024 23:50:47] \"OPTIONS /predict_tolerance_risk HTTP/1.1\" 200 -\n"
     ]
    },
    {
     "name": "stdout",
     "output_type": "stream",
     "text": [
      "ProfileData for Investor id: 108\n",
      "The length of ProfileData is: (1, 20)\n",
      "Technology\n",
      "ProfileData for Investor id: 108\n",
      "The length of ProfileData is: (1, 20)\n",
      "Technology\n"
     ]
    },
    {
     "name": "stderr",
     "output_type": "stream",
     "text": [
      "127.0.0.1 - - [08/May/2024 23:50:51] \"POST /predict_tolerance_risk HTTP/1.1\" 200 -\n"
     ]
    },
    {
     "name": "stdout",
     "output_type": "stream",
     "text": [
      "activity Technology\n"
     ]
    },
    {
     "name": "stderr",
     "output_type": "stream",
     "text": [
      "127.0.0.1 - - [08/May/2024 23:50:51] \"POST /predict_tolerance_risk HTTP/1.1\" 200 -\n"
     ]
    },
    {
     "name": "stdout",
     "output_type": "stream",
     "text": [
      "activity Technology\n"
     ]
    },
    {
     "name": "stderr",
     "output_type": "stream",
     "text": [
      "127.0.0.1 - - [08/May/2024 23:51:06] \"OPTIONS /predict_tolerance_risk HTTP/1.1\" 200 -\n"
     ]
    },
    {
     "name": "stdout",
     "output_type": "stream",
     "text": [
      "ProfileData for Investor id: 108\n",
      "The length of ProfileData is: (1, 20)\n",
      "Technology\n"
     ]
    },
    {
     "name": "stderr",
     "output_type": "stream",
     "text": [
      "127.0.0.1 - - [08/May/2024 23:51:09] \"POST /predict_tolerance_risk HTTP/1.1\" 200 -\n"
     ]
    },
    {
     "name": "stdout",
     "output_type": "stream",
     "text": [
      "activity Technology\n"
     ]
    },
    {
     "name": "stderr",
     "output_type": "stream",
     "text": [
      "127.0.0.1 - - [08/May/2024 23:51:14] \"OPTIONS /predict_tolerance_risk HTTP/1.1\" 200 -\n"
     ]
    },
    {
     "name": "stdout",
     "output_type": "stream",
     "text": [
      "ProfileData for Investor id: 108\n",
      "The length of ProfileData is: (1, 20)\n",
      "Technology\n"
     ]
    },
    {
     "name": "stderr",
     "output_type": "stream",
     "text": [
      "127.0.0.1 - - [08/May/2024 23:51:17] \"POST /predict_tolerance_risk HTTP/1.1\" 200 -\n"
     ]
    },
    {
     "name": "stdout",
     "output_type": "stream",
     "text": [
      "activity Technology\n"
     ]
    },
    {
     "name": "stderr",
     "output_type": "stream",
     "text": [
      "127.0.0.1 - - [08/May/2024 23:51:39] \"OPTIONS /predict_tolerance_risk HTTP/1.1\" 200 -\n"
     ]
    },
    {
     "name": "stdout",
     "output_type": "stream",
     "text": [
      "ProfileData for Investor id: 108\n",
      "The length of ProfileData is: (1, 20)\n",
      "Technology\n"
     ]
    },
    {
     "name": "stderr",
     "output_type": "stream",
     "text": [
      "127.0.0.1 - - [08/May/2024 23:51:42] \"POST /predict_tolerance_risk HTTP/1.1\" 200 -\n"
     ]
    },
    {
     "name": "stdout",
     "output_type": "stream",
     "text": [
      "activity Technology\n"
     ]
    },
    {
     "name": "stderr",
     "output_type": "stream",
     "text": [
      "127.0.0.1 - - [08/May/2024 23:52:53] \"OPTIONS /predict_tolerance_risk HTTP/1.1\" 200 -\n"
     ]
    },
    {
     "name": "stdout",
     "output_type": "stream",
     "text": [
      "ProfileData for Investor id: 108\n",
      "The length of ProfileData is: (1, 20)\n",
      "Technology\n"
     ]
    },
    {
     "name": "stderr",
     "output_type": "stream",
     "text": [
      "127.0.0.1 - - [08/May/2024 23:52:56] \"POST /predict_tolerance_risk HTTP/1.1\" 200 -\n"
     ]
    },
    {
     "name": "stdout",
     "output_type": "stream",
     "text": [
      "activity Technology\n",
      "ProfileData for Investor id: 108\n",
      "The length of ProfileData is: (1, 20)\n",
      "Technology\n",
      "ProfileData for Investor id: 108\n",
      "The length of ProfileData is: (1, 20)\n",
      "Technology\n"
     ]
    },
    {
     "name": "stderr",
     "output_type": "stream",
     "text": [
      "127.0.0.1 - - [08/May/2024 23:53:33] \"POST /predict_tolerance_risk HTTP/1.1\" 200 -\n"
     ]
    },
    {
     "name": "stdout",
     "output_type": "stream",
     "text": [
      "activity Technology\n"
     ]
    },
    {
     "name": "stderr",
     "output_type": "stream",
     "text": [
      "127.0.0.1 - - [08/May/2024 23:53:34] \"POST /predict_tolerance_risk HTTP/1.1\" 200 -\n"
     ]
    },
    {
     "name": "stdout",
     "output_type": "stream",
     "text": [
      "activity Technology\n",
      "ProfileData for Investor id: 108\n",
      "The length of ProfileData is: (1, 20)\n",
      "Technology\n",
      "ProfileData for Investor id: 108\n",
      "The length of ProfileData is: (1, 20)\n",
      "Technology\n"
     ]
    },
    {
     "name": "stderr",
     "output_type": "stream",
     "text": [
      "127.0.0.1 - - [08/May/2024 23:53:39] \"POST /predict_tolerance_risk HTTP/1.1\" 200 -\n"
     ]
    },
    {
     "name": "stdout",
     "output_type": "stream",
     "text": [
      "activity Technology\n"
     ]
    },
    {
     "name": "stderr",
     "output_type": "stream",
     "text": [
      "127.0.0.1 - - [08/May/2024 23:53:40] \"POST /predict_tolerance_risk HTTP/1.1\" 200 -\n"
     ]
    },
    {
     "name": "stdout",
     "output_type": "stream",
     "text": [
      "activity Technology\n",
      "ProfileData for Investor id: 108\n",
      "The length of ProfileData is: (1, 20)\n",
      "Technology\n"
     ]
    },
    {
     "name": "stderr",
     "output_type": "stream",
     "text": [
      "127.0.0.1 - - [08/May/2024 23:54:03] \"POST /predict_tolerance_risk HTTP/1.1\" 200 -\n"
     ]
    },
    {
     "name": "stdout",
     "output_type": "stream",
     "text": [
      "activity Technology\n",
      "ProfileData for Investor id: 108\n",
      "The length of ProfileData is: (1, 20)\n",
      "Technology\n",
      "ProfileData for Investor id: 108\n",
      "The length of ProfileData is: (1, 20)\n",
      "Technology\n"
     ]
    },
    {
     "name": "stderr",
     "output_type": "stream",
     "text": [
      "127.0.0.1 - - [08/May/2024 23:54:09] \"POST /predict_tolerance_risk HTTP/1.1\" 200 -\n"
     ]
    },
    {
     "name": "stdout",
     "output_type": "stream",
     "text": [
      "activity Technology\n"
     ]
    },
    {
     "name": "stderr",
     "output_type": "stream",
     "text": [
      "127.0.0.1 - - [08/May/2024 23:54:09] \"POST /predict_tolerance_risk HTTP/1.1\" 200 -\n"
     ]
    },
    {
     "name": "stdout",
     "output_type": "stream",
     "text": [
      "activity Technology\n",
      "ProfileData for Investor id: 108\n",
      "The length of ProfileData is: (1, 20)\n",
      "Technology\n"
     ]
    },
    {
     "name": "stderr",
     "output_type": "stream",
     "text": [
      "127.0.0.1 - - [08/May/2024 23:54:15] \"POST /predict_tolerance_risk HTTP/1.1\" 200 -\n"
     ]
    },
    {
     "name": "stdout",
     "output_type": "stream",
     "text": [
      "activity Technology\n",
      "ProfileData for Investor id: 108\n",
      "The length of ProfileData is: (1, 20)\n",
      "Technology\n"
     ]
    },
    {
     "name": "stderr",
     "output_type": "stream",
     "text": [
      "127.0.0.1 - - [08/May/2024 23:54:18] \"POST /predict_tolerance_risk HTTP/1.1\" 200 -\n"
     ]
    },
    {
     "name": "stdout",
     "output_type": "stream",
     "text": [
      "activity Technology\n",
      "ProfileData for Investor id: 108\n",
      "The length of ProfileData is: (1, 20)\n",
      "Technology\n"
     ]
    },
    {
     "name": "stderr",
     "output_type": "stream",
     "text": [
      "127.0.0.1 - - [08/May/2024 23:54:24] \"POST /predict_tolerance_risk HTTP/1.1\" 200 -\n"
     ]
    },
    {
     "name": "stdout",
     "output_type": "stream",
     "text": [
      "activity Technology\n",
      "ProfileData for Investor id: 108\n",
      "The length of ProfileData is: (1, 20)\n",
      "Technology\n"
     ]
    },
    {
     "name": "stderr",
     "output_type": "stream",
     "text": [
      "127.0.0.1 - - [08/May/2024 23:54:37] \"POST /predict_tolerance_risk HTTP/1.1\" 200 -\n"
     ]
    },
    {
     "name": "stdout",
     "output_type": "stream",
     "text": [
      "activity Technology\n",
      "ProfileData for Investor id: 108\n",
      "The length of ProfileData is: (1, 20)\n",
      "Technology\n"
     ]
    },
    {
     "name": "stderr",
     "output_type": "stream",
     "text": [
      "127.0.0.1 - - [08/May/2024 23:54:41] \"POST /predict_tolerance_risk HTTP/1.1\" 200 -\n"
     ]
    },
    {
     "name": "stdout",
     "output_type": "stream",
     "text": [
      "activity Technology\n"
     ]
    },
    {
     "name": "stderr",
     "output_type": "stream",
     "text": [
      "127.0.0.1 - - [09/May/2024 00:00:11] \"OPTIONS /predict_tolerance_risk HTTP/1.1\" 200 -\n"
     ]
    },
    {
     "name": "stdout",
     "output_type": "stream",
     "text": [
      "ProfileData for Investor id: 108\n",
      "The length of ProfileData is: (1, 20)\n",
      "Technology\n"
     ]
    },
    {
     "name": "stderr",
     "output_type": "stream",
     "text": [
      "127.0.0.1 - - [09/May/2024 00:00:14] \"POST /predict_tolerance_risk HTTP/1.1\" 200 -\n"
     ]
    },
    {
     "name": "stdout",
     "output_type": "stream",
     "text": [
      "activity Technology\n",
      "ProfileData for Investor id: 108\n",
      "The length of ProfileData is: (1, 20)\n",
      "Technology\n"
     ]
    },
    {
     "name": "stderr",
     "output_type": "stream",
     "text": [
      "127.0.0.1 - - [09/May/2024 00:01:01] \"POST /predict_tolerance_risk HTTP/1.1\" 200 -\n"
     ]
    },
    {
     "name": "stdout",
     "output_type": "stream",
     "text": [
      "activity Technology\n",
      "ProfileData for Investor id: 108\n",
      "The length of ProfileData is: (1, 20)\n",
      "Technology\n"
     ]
    },
    {
     "name": "stderr",
     "output_type": "stream",
     "text": [
      "127.0.0.1 - - [09/May/2024 00:01:06] \"POST /predict_tolerance_risk HTTP/1.1\" 200 -\n"
     ]
    },
    {
     "name": "stdout",
     "output_type": "stream",
     "text": [
      "activity Technology\n"
     ]
    },
    {
     "name": "stderr",
     "output_type": "stream",
     "text": [
      "127.0.0.1 - - [09/May/2024 00:03:33] \"OPTIONS /predict_tolerance_risk HTTP/1.1\" 200 -\n"
     ]
    },
    {
     "name": "stdout",
     "output_type": "stream",
     "text": [
      "ProfileData for Investor id: 108\n",
      "The length of ProfileData is: (1, 20)\n",
      "Technology\n"
     ]
    },
    {
     "name": "stderr",
     "output_type": "stream",
     "text": [
      "127.0.0.1 - - [09/May/2024 00:03:36] \"POST /predict_tolerance_risk HTTP/1.1\" 200 -\n"
     ]
    },
    {
     "name": "stdout",
     "output_type": "stream",
     "text": [
      "activity Technology\n",
      "ProfileData for Investor id: 108\n",
      "The length of ProfileData is: (1, 20)\n",
      "Technology\n"
     ]
    },
    {
     "name": "stderr",
     "output_type": "stream",
     "text": [
      "127.0.0.1 - - [09/May/2024 00:04:23] \"OPTIONS /predict_tolerance_risk HTTP/1.1\" 200 -\n"
     ]
    },
    {
     "name": "stdout",
     "output_type": "stream",
     "text": [
      "ProfileData for Investor id: 108\n",
      "The length of ProfileData is: (1, 20)\n",
      "Technology\n"
     ]
    },
    {
     "name": "stderr",
     "output_type": "stream",
     "text": [
      "127.0.0.1 - - [09/May/2024 00:04:25] \"POST /predict_tolerance_risk HTTP/1.1\" 200 -\n"
     ]
    },
    {
     "name": "stdout",
     "output_type": "stream",
     "text": [
      "activity Technology\n"
     ]
    },
    {
     "name": "stderr",
     "output_type": "stream",
     "text": [
      "127.0.0.1 - - [09/May/2024 00:04:26] \"POST /predict_tolerance_risk HTTP/1.1\" 200 -\n"
     ]
    },
    {
     "name": "stdout",
     "output_type": "stream",
     "text": [
      "activity Technology\n",
      "ProfileData for Investor id: 108\n",
      "The length of ProfileData is: (1, 20)\n",
      "Technology\n",
      "ProfileData for Investor id: 108\n",
      "The length of ProfileData is: (1, 20)\n",
      "Technology\n"
     ]
    },
    {
     "name": "stderr",
     "output_type": "stream",
     "text": [
      "127.0.0.1 - - [09/May/2024 00:04:31] \"POST /predict_tolerance_risk HTTP/1.1\" 200 -\n"
     ]
    },
    {
     "name": "stdout",
     "output_type": "stream",
     "text": [
      "activity Technology\n"
     ]
    },
    {
     "name": "stderr",
     "output_type": "stream",
     "text": [
      "127.0.0.1 - - [09/May/2024 00:04:32] \"POST /predict_tolerance_risk HTTP/1.1\" 200 -\n"
     ]
    },
    {
     "name": "stdout",
     "output_type": "stream",
     "text": [
      "activity Technology\n"
     ]
    },
    {
     "name": "stderr",
     "output_type": "stream",
     "text": [
      "127.0.0.1 - - [09/May/2024 00:04:35] \"OPTIONS /predict_tolerance_risk HTTP/1.1\" 200 -\n"
     ]
    },
    {
     "name": "stdout",
     "output_type": "stream",
     "text": [
      "ProfileData for Investor id: 108\n",
      "The length of ProfileData is: (1, 20)\n",
      "Technology\n"
     ]
    },
    {
     "name": "stderr",
     "output_type": "stream",
     "text": [
      "127.0.0.1 - - [09/May/2024 00:04:38] \"POST /predict_tolerance_risk HTTP/1.1\" 200 -\n"
     ]
    },
    {
     "name": "stdout",
     "output_type": "stream",
     "text": [
      "activity Technology\n"
     ]
    },
    {
     "name": "stderr",
     "output_type": "stream",
     "text": [
      "127.0.0.1 - - [09/May/2024 00:04:49] \"OPTIONS /predict_tolerance_risk HTTP/1.1\" 200 -\n"
     ]
    },
    {
     "name": "stdout",
     "output_type": "stream",
     "text": [
      "ProfileData for Investor id: 108\n",
      "The length of ProfileData is: (1, 20)\n",
      "Technology\n"
     ]
    },
    {
     "name": "stderr",
     "output_type": "stream",
     "text": [
      "127.0.0.1 - - [09/May/2024 00:04:52] \"POST /predict_tolerance_risk HTTP/1.1\" 200 -\n"
     ]
    },
    {
     "name": "stdout",
     "output_type": "stream",
     "text": [
      "activity Technology\n"
     ]
    },
    {
     "name": "stderr",
     "output_type": "stream",
     "text": [
      "127.0.0.1 - - [09/May/2024 00:06:26] \"OPTIONS /predict_tolerance_risk HTTP/1.1\" 200 -\n"
     ]
    },
    {
     "name": "stdout",
     "output_type": "stream",
     "text": [
      "ProfileData for Investor id: 108\n",
      "The length of ProfileData is: (1, 20)\n",
      "Technology\n"
     ]
    },
    {
     "name": "stderr",
     "output_type": "stream",
     "text": [
      "127.0.0.1 - - [09/May/2024 00:06:30] \"POST /predict_tolerance_risk HTTP/1.1\" 200 -\n"
     ]
    },
    {
     "name": "stdout",
     "output_type": "stream",
     "text": [
      "activity Technology\n"
     ]
    },
    {
     "name": "stderr",
     "output_type": "stream",
     "text": [
      "127.0.0.1 - - [09/May/2024 00:06:59] \"OPTIONS /predict_tolerance_risk HTTP/1.1\" 200 -\n"
     ]
    },
    {
     "name": "stdout",
     "output_type": "stream",
     "text": [
      "ProfileData for Investor id: 108\n",
      "The length of ProfileData is: (1, 20)\n",
      "Technology\n",
      "ProfileData for Investor id: 108\n",
      "The length of ProfileData is: (1, 20)\n",
      "Technology\n",
      "ProfileData for Investor id: 108\n",
      "The length of ProfileData is: (1, 20)\n",
      "Technology\n"
     ]
    },
    {
     "name": "stderr",
     "output_type": "stream",
     "text": [
      "127.0.0.1 - - [09/May/2024 00:07:04] \"POST /predict_tolerance_risk HTTP/1.1\" 200 -\n"
     ]
    },
    {
     "name": "stdout",
     "output_type": "stream",
     "text": [
      "activity Technology\n",
      "activity Technology\n"
     ]
    },
    {
     "name": "stderr",
     "output_type": "stream",
     "text": [
      "127.0.0.1 - - [09/May/2024 00:07:04] \"POST /predict_tolerance_risk HTTP/1.1\" 200 -\n",
      "127.0.0.1 - - [09/May/2024 00:07:07] \"POST /predict_tolerance_risk HTTP/1.1\" 200 -\n"
     ]
    },
    {
     "name": "stdout",
     "output_type": "stream",
     "text": [
      "activity Technology\n",
      "ProfileData for Investor id: 108\n",
      "The length of ProfileData is: (1, 20)\n",
      "Technology\n"
     ]
    },
    {
     "name": "stderr",
     "output_type": "stream",
     "text": [
      "127.0.0.1 - - [09/May/2024 00:07:12] \"POST /predict_tolerance_risk HTTP/1.1\" 200 -\n"
     ]
    },
    {
     "name": "stdout",
     "output_type": "stream",
     "text": [
      "activity Technology\n",
      "ProfileData for Investor id: 108\n",
      "The length of ProfileData is: (1, 20)\n",
      "Technology\n"
     ]
    },
    {
     "name": "stderr",
     "output_type": "stream",
     "text": [
      "127.0.0.1 - - [09/May/2024 00:07:21] \"POST /predict_tolerance_risk HTTP/1.1\" 200 -\n"
     ]
    },
    {
     "name": "stdout",
     "output_type": "stream",
     "text": [
      "activity Technology\n",
      "ProfileData for Investor id: 108\n",
      "The length of ProfileData is: (1, 20)\n",
      "Technology\n"
     ]
    },
    {
     "name": "stderr",
     "output_type": "stream",
     "text": [
      "127.0.0.1 - - [09/May/2024 00:07:27] \"POST /predict_tolerance_risk HTTP/1.1\" 200 -\n"
     ]
    },
    {
     "name": "stdout",
     "output_type": "stream",
     "text": [
      "activity Technology\n",
      "ProfileData for Investor id: 108\n",
      "The length of ProfileData is: (1, 20)\n",
      "Technology\n"
     ]
    },
    {
     "name": "stderr",
     "output_type": "stream",
     "text": [
      "127.0.0.1 - - [09/May/2024 00:07:41] \"POST /predict_tolerance_risk HTTP/1.1\" 200 -\n"
     ]
    },
    {
     "name": "stdout",
     "output_type": "stream",
     "text": [
      "activity Technology\n",
      "ProfileData for Investor id: 108\n",
      "The length of ProfileData is: (1, 20)\n",
      "Technology\n"
     ]
    },
    {
     "name": "stderr",
     "output_type": "stream",
     "text": [
      "127.0.0.1 - - [09/May/2024 00:07:46] \"OPTIONS /predict_tolerance_risk HTTP/1.1\" 200 -\n"
     ]
    },
    {
     "name": "stdout",
     "output_type": "stream",
     "text": [
      "ProfileData for Investor id: 108\n",
      "The length of ProfileData is: (1, 20)\n",
      "Technology\n"
     ]
    },
    {
     "name": "stderr",
     "output_type": "stream",
     "text": [
      "127.0.0.1 - - [09/May/2024 00:07:47] \"POST /predict_tolerance_risk HTTP/1.1\" 200 -\n"
     ]
    },
    {
     "name": "stdout",
     "output_type": "stream",
     "text": [
      "activity Technology\n"
     ]
    },
    {
     "name": "stderr",
     "output_type": "stream",
     "text": [
      "127.0.0.1 - - [09/May/2024 00:07:50] \"POST /predict_tolerance_risk HTTP/1.1\" 200 -\n"
     ]
    },
    {
     "name": "stdout",
     "output_type": "stream",
     "text": [
      "activity Technology\n",
      "ProfileData for Investor id: 108\n",
      "The length of ProfileData is: (1, 20)\n",
      "Technology\n"
     ]
    },
    {
     "name": "stderr",
     "output_type": "stream",
     "text": [
      "127.0.0.1 - - [09/May/2024 00:08:01] \"POST /predict_tolerance_risk HTTP/1.1\" 200 -\n"
     ]
    },
    {
     "name": "stdout",
     "output_type": "stream",
     "text": [
      "activity Technology\n",
      "ProfileData for Investor id: 108\n",
      "The length of ProfileData is: (1, 20)\n",
      "Technology\n"
     ]
    },
    {
     "name": "stderr",
     "output_type": "stream",
     "text": [
      "127.0.0.1 - - [09/May/2024 00:08:07] \"POST /predict_tolerance_risk HTTP/1.1\" 200 -\n"
     ]
    },
    {
     "name": "stdout",
     "output_type": "stream",
     "text": [
      "activity Technology\n"
     ]
    },
    {
     "name": "stderr",
     "output_type": "stream",
     "text": [
      "127.0.0.1 - - [09/May/2024 00:08:42] \"OPTIONS /predict_tolerance_risk HTTP/1.1\" 200 -\n"
     ]
    },
    {
     "name": "stdout",
     "output_type": "stream",
     "text": [
      "ProfileData for Investor id: 108\n",
      "The length of ProfileData is: (1, 20)\n",
      "Technology\n"
     ]
    },
    {
     "name": "stderr",
     "output_type": "stream",
     "text": [
      "127.0.0.1 - - [09/May/2024 00:08:45] \"POST /predict_tolerance_risk HTTP/1.1\" 200 -\n"
     ]
    },
    {
     "name": "stdout",
     "output_type": "stream",
     "text": [
      "activity Technology\n",
      "ProfileData for Investor id: 108\n",
      "The length of ProfileData is: (1, 20)\n",
      "Technology\n"
     ]
    },
    {
     "name": "stderr",
     "output_type": "stream",
     "text": [
      "127.0.0.1 - - [09/May/2024 00:09:35] \"POST /predict_tolerance_risk HTTP/1.1\" 200 -\n"
     ]
    },
    {
     "name": "stdout",
     "output_type": "stream",
     "text": [
      "activity Technology\n",
      "ProfileData for Investor id: 108\n",
      "The length of ProfileData is: (1, 20)\n",
      "Technology\n"
     ]
    },
    {
     "name": "stderr",
     "output_type": "stream",
     "text": [
      "127.0.0.1 - - [09/May/2024 00:09:41] \"POST /predict_tolerance_risk HTTP/1.1\" 200 -\n"
     ]
    },
    {
     "name": "stdout",
     "output_type": "stream",
     "text": [
      "activity Technology\n",
      "ProfileData for Investor id: 108\n",
      "The length of ProfileData is: (1, 20)\n",
      "Technology\n"
     ]
    },
    {
     "name": "stderr",
     "output_type": "stream",
     "text": [
      "127.0.0.1 - - [09/May/2024 00:09:56] \"POST /predict_tolerance_risk HTTP/1.1\" 200 -\n"
     ]
    },
    {
     "name": "stdout",
     "output_type": "stream",
     "text": [
      "activity Technology\n",
      "ProfileData for Investor id: 108\n",
      "The length of ProfileData is: (1, 20)\n",
      "Technology\n",
      "ProfileData for Investor id: 108\n",
      "The length of ProfileData is: (1, 20)\n",
      "Technology\n"
     ]
    },
    {
     "name": "stderr",
     "output_type": "stream",
     "text": [
      "127.0.0.1 - - [09/May/2024 00:10:03] \"POST /predict_tolerance_risk HTTP/1.1\" 200 -\n",
      "127.0.0.1 - - [09/May/2024 00:10:03] \"POST /predict_tolerance_risk HTTP/1.1\" 200 -\n"
     ]
    },
    {
     "name": "stdout",
     "output_type": "stream",
     "text": [
      "activity Technology\n",
      "activity Technology\n",
      "ProfileData for Investor id: 108\n",
      "The length of ProfileData is: (1, 20)\n",
      "Technology\n"
     ]
    },
    {
     "name": "stderr",
     "output_type": "stream",
     "text": [
      "127.0.0.1 - - [09/May/2024 00:10:09] \"POST /predict_tolerance_risk HTTP/1.1\" 200 -\n"
     ]
    },
    {
     "name": "stdout",
     "output_type": "stream",
     "text": [
      "activity Technology\n",
      "ProfileData for Investor id: 108\n",
      "The length of ProfileData is: (1, 20)\n",
      "Technology\n"
     ]
    },
    {
     "name": "stderr",
     "output_type": "stream",
     "text": [
      "127.0.0.1 - - [09/May/2024 00:10:14] \"POST /predict_tolerance_risk HTTP/1.1\" 200 -\n"
     ]
    },
    {
     "name": "stdout",
     "output_type": "stream",
     "text": [
      "activity Technology\n",
      "ProfileData for Investor id: 108\n",
      "The length of ProfileData is: (1, 20)\n",
      "Technology\n"
     ]
    },
    {
     "name": "stderr",
     "output_type": "stream",
     "text": [
      "127.0.0.1 - - [09/May/2024 00:10:21] \"POST /predict_tolerance_risk HTTP/1.1\" 200 -\n"
     ]
    },
    {
     "name": "stdout",
     "output_type": "stream",
     "text": [
      "activity Technology\n",
      "ProfileData for Investor id: 108\n",
      "The length of ProfileData is: (1, 20)\n",
      "Technology\n"
     ]
    },
    {
     "name": "stderr",
     "output_type": "stream",
     "text": [
      "127.0.0.1 - - [09/May/2024 00:10:42] \"POST /predict_tolerance_risk HTTP/1.1\" 200 -\n"
     ]
    },
    {
     "name": "stdout",
     "output_type": "stream",
     "text": [
      "activity Technology\n",
      "ProfileData for Investor id: 108\n",
      "The length of ProfileData is: (1, 20)\n",
      "Technology\n"
     ]
    },
    {
     "name": "stderr",
     "output_type": "stream",
     "text": [
      "127.0.0.1 - - [09/May/2024 00:10:47] \"POST /predict_tolerance_risk HTTP/1.1\" 200 -\n"
     ]
    },
    {
     "name": "stdout",
     "output_type": "stream",
     "text": [
      "activity Technology\n"
     ]
    },
    {
     "name": "stderr",
     "output_type": "stream",
     "text": [
      "127.0.0.1 - - [09/May/2024 00:11:03] \"OPTIONS /predict_tolerance_risk HTTP/1.1\" 200 -\n"
     ]
    },
    {
     "name": "stdout",
     "output_type": "stream",
     "text": [
      "ProfileData for Investor id: 108\n",
      "The length of ProfileData is: (1, 20)\n",
      "Technology\n"
     ]
    },
    {
     "name": "stderr",
     "output_type": "stream",
     "text": [
      "127.0.0.1 - - [09/May/2024 00:11:06] \"POST /predict_tolerance_risk HTTP/1.1\" 200 -\n"
     ]
    },
    {
     "name": "stdout",
     "output_type": "stream",
     "text": [
      "activity Technology\n",
      "ProfileData for Investor id: 108\n",
      "The length of ProfileData is: (1, 20)\n",
      "Technology\n"
     ]
    },
    {
     "name": "stderr",
     "output_type": "stream",
     "text": [
      "127.0.0.1 - - [09/May/2024 00:11:51] \"POST /predict_tolerance_risk HTTP/1.1\" 200 -\n"
     ]
    },
    {
     "name": "stdout",
     "output_type": "stream",
     "text": [
      "activity Technology\n",
      "ProfileData for Investor id: 108\n",
      "The length of ProfileData is: (1, 20)\n",
      "Technology\n"
     ]
    },
    {
     "name": "stderr",
     "output_type": "stream",
     "text": [
      "127.0.0.1 - - [09/May/2024 00:11:56] \"POST /predict_tolerance_risk HTTP/1.1\" 200 -\n"
     ]
    },
    {
     "name": "stdout",
     "output_type": "stream",
     "text": [
      "activity Technology\n"
     ]
    },
    {
     "name": "stderr",
     "output_type": "stream",
     "text": [
      "127.0.0.1 - - [09/May/2024 00:13:16] \"OPTIONS /predict_tolerance_risk HTTP/1.1\" 200 -\n"
     ]
    },
    {
     "name": "stdout",
     "output_type": "stream",
     "text": [
      "ProfileData for Investor id: 108\n",
      "The length of ProfileData is: (1, 20)\n",
      "Technology\n"
     ]
    },
    {
     "name": "stderr",
     "output_type": "stream",
     "text": [
      "127.0.0.1 - - [09/May/2024 00:13:19] \"POST /predict_tolerance_risk HTTP/1.1\" 200 -\n"
     ]
    },
    {
     "name": "stdout",
     "output_type": "stream",
     "text": [
      "activity Technology\n",
      "ProfileData for Investor id: 108\n",
      "The length of ProfileData is: (1, 20)\n",
      "Technology\n"
     ]
    },
    {
     "name": "stderr",
     "output_type": "stream",
     "text": [
      "127.0.0.1 - - [09/May/2024 00:13:59] \"POST /predict_tolerance_risk HTTP/1.1\" 200 -\n"
     ]
    },
    {
     "name": "stdout",
     "output_type": "stream",
     "text": [
      "activity Technology\n",
      "ProfileData for Investor id: 108\n",
      "The length of ProfileData is: (1, 20)\n",
      "Technology\n"
     ]
    },
    {
     "name": "stderr",
     "output_type": "stream",
     "text": [
      "127.0.0.1 - - [09/May/2024 00:14:02] \"OPTIONS /predict_tolerance_risk HTTP/1.1\" 200 -\n"
     ]
    },
    {
     "name": "stdout",
     "output_type": "stream",
     "text": [
      "ProfileData for Investor id: 108\n",
      "The length of ProfileData is: (1, 20)\n",
      "Technology\n"
     ]
    },
    {
     "name": "stderr",
     "output_type": "stream",
     "text": [
      "127.0.0.1 - - [09/May/2024 00:14:04] \"POST /predict_tolerance_risk HTTP/1.1\" 200 -\n"
     ]
    },
    {
     "name": "stdout",
     "output_type": "stream",
     "text": [
      "activity Technology\n"
     ]
    },
    {
     "name": "stderr",
     "output_type": "stream",
     "text": [
      "127.0.0.1 - - [09/May/2024 00:14:06] \"POST /predict_tolerance_risk HTTP/1.1\" 200 -\n"
     ]
    },
    {
     "name": "stdout",
     "output_type": "stream",
     "text": [
      "activity Technology\n",
      "ProfileData for Investor id: 108\n",
      "The length of ProfileData is: (1, 20)\n",
      "Technology\n"
     ]
    },
    {
     "name": "stderr",
     "output_type": "stream",
     "text": [
      "127.0.0.1 - - [09/May/2024 00:14:54] \"POST /predict_tolerance_risk HTTP/1.1\" 200 -\n"
     ]
    },
    {
     "name": "stdout",
     "output_type": "stream",
     "text": [
      "activity Technology\n"
     ]
    },
    {
     "name": "stderr",
     "output_type": "stream",
     "text": [
      "127.0.0.1 - - [09/May/2024 00:14:57] \"OPTIONS /predict_tolerance_risk HTTP/1.1\" 200 -\n"
     ]
    },
    {
     "name": "stdout",
     "output_type": "stream",
     "text": [
      "ProfileData for Investor id: 108\n",
      "The length of ProfileData is: (1, 20)\n",
      "Technology\n",
      "ProfileData for Investor id: 108\n",
      "The length of ProfileData is: (1, 20)\n",
      "Technology\n",
      "ProfileData for Investor id: 108\n",
      "The length of ProfileData is: (1, 20)\n",
      "Technology\n"
     ]
    },
    {
     "name": "stderr",
     "output_type": "stream",
     "text": [
      "127.0.0.1 - - [09/May/2024 00:15:01] \"POST /predict_tolerance_risk HTTP/1.1\" 200 -\n"
     ]
    },
    {
     "name": "stdout",
     "output_type": "stream",
     "text": [
      "activity Technology\n"
     ]
    },
    {
     "name": "stderr",
     "output_type": "stream",
     "text": [
      "127.0.0.1 - - [09/May/2024 00:15:01] \"POST /predict_tolerance_risk HTTP/1.1\" 200 -\n"
     ]
    },
    {
     "name": "stdout",
     "output_type": "stream",
     "text": [
      "activity Technology\n"
     ]
    },
    {
     "name": "stderr",
     "output_type": "stream",
     "text": [
      "127.0.0.1 - - [09/May/2024 00:15:04] \"POST /predict_tolerance_risk HTTP/1.1\" 200 -\n"
     ]
    },
    {
     "name": "stdout",
     "output_type": "stream",
     "text": [
      "activity Technology\n"
     ]
    },
    {
     "name": "stderr",
     "output_type": "stream",
     "text": [
      "127.0.0.1 - - [09/May/2024 00:15:13] \"OPTIONS /predict_tolerance_risk HTTP/1.1\" 200 -\n"
     ]
    },
    {
     "name": "stdout",
     "output_type": "stream",
     "text": [
      "ProfileData for Investor id: 108\n",
      "The length of ProfileData is: (1, 20)\n",
      "Technology\n"
     ]
    },
    {
     "name": "stderr",
     "output_type": "stream",
     "text": [
      "127.0.0.1 - - [09/May/2024 00:15:16] \"POST /predict_tolerance_risk HTTP/1.1\" 200 -\n"
     ]
    },
    {
     "name": "stdout",
     "output_type": "stream",
     "text": [
      "activity Technology\n"
     ]
    },
    {
     "name": "stderr",
     "output_type": "stream",
     "text": [
      "127.0.0.1 - - [09/May/2024 00:15:32] \"OPTIONS /predict_tolerance_risk HTTP/1.1\" 200 -\n"
     ]
    },
    {
     "name": "stdout",
     "output_type": "stream",
     "text": [
      "ProfileData for Investor id: 108\n",
      "The length of ProfileData is: (1, 20)\n",
      "Technology\n"
     ]
    },
    {
     "name": "stderr",
     "output_type": "stream",
     "text": [
      "127.0.0.1 - - [09/May/2024 00:15:35] \"POST /predict_tolerance_risk HTTP/1.1\" 200 -\n"
     ]
    },
    {
     "name": "stdout",
     "output_type": "stream",
     "text": [
      "activity Technology\n"
     ]
    },
    {
     "name": "stderr",
     "output_type": "stream",
     "text": [
      "127.0.0.1 - - [09/May/2024 00:15:41] \"OPTIONS /predict_tolerance_risk HTTP/1.1\" 200 -\n"
     ]
    },
    {
     "name": "stdout",
     "output_type": "stream",
     "text": [
      "ProfileData for Investor id: 108\n",
      "The length of ProfileData is: (1, 20)\n",
      "Technology\n"
     ]
    },
    {
     "name": "stderr",
     "output_type": "stream",
     "text": [
      "127.0.0.1 - - [09/May/2024 00:15:44] \"POST /predict_tolerance_risk HTTP/1.1\" 200 -\n"
     ]
    },
    {
     "name": "stdout",
     "output_type": "stream",
     "text": [
      "activity Technology\n"
     ]
    },
    {
     "name": "stderr",
     "output_type": "stream",
     "text": [
      "127.0.0.1 - - [09/May/2024 00:15:59] \"OPTIONS /predict_tolerance_risk HTTP/1.1\" 200 -\n"
     ]
    },
    {
     "name": "stdout",
     "output_type": "stream",
     "text": [
      "ProfileData for Investor id: 108\n",
      "The length of ProfileData is: (1, 20)\n",
      "Technology\n"
     ]
    },
    {
     "name": "stderr",
     "output_type": "stream",
     "text": [
      "127.0.0.1 - - [09/May/2024 00:16:03] \"POST /predict_tolerance_risk HTTP/1.1\" 200 -\n"
     ]
    },
    {
     "name": "stdout",
     "output_type": "stream",
     "text": [
      "activity Technology\n",
      "ProfileData for Investor id: 108\n",
      "The length of ProfileData is: (1, 20)\n",
      "Technology\n"
     ]
    },
    {
     "name": "stderr",
     "output_type": "stream",
     "text": [
      "127.0.0.1 - - [09/May/2024 00:18:07] \"POST /predict_tolerance_risk HTTP/1.1\" 200 -\n"
     ]
    },
    {
     "name": "stdout",
     "output_type": "stream",
     "text": [
      "activity Technology\n",
      "ProfileData for Investor id: 108\n",
      "The length of ProfileData is: (1, 20)\n",
      "Technology\n",
      "ProfileData for Investor id: 108\n",
      "The length of ProfileData is: (1, 20)\n",
      "Technology\n"
     ]
    },
    {
     "name": "stderr",
     "output_type": "stream",
     "text": [
      "127.0.0.1 - - [09/May/2024 00:18:11] \"POST /predict_tolerance_risk HTTP/1.1\" 200 -\n"
     ]
    },
    {
     "name": "stdout",
     "output_type": "stream",
     "text": [
      "activity Technology\n",
      "ProfileData for Investor id: 108\n",
      "The length of ProfileData is: (1, 20)\n",
      "Technology\n",
      "ProfileData for Investor id: 108\n",
      "The length of ProfileData is: (1, 20)\n",
      "Technology\n"
     ]
    },
    {
     "name": "stderr",
     "output_type": "stream",
     "text": [
      "127.0.0.1 - - [09/May/2024 00:18:14] \"POST /predict_tolerance_risk HTTP/1.1\" 200 -\n"
     ]
    },
    {
     "name": "stdout",
     "output_type": "stream",
     "text": [
      "activity Technology\n"
     ]
    },
    {
     "name": "stderr",
     "output_type": "stream",
     "text": [
      "127.0.0.1 - - [09/May/2024 00:18:16] \"POST /predict_tolerance_risk HTTP/1.1\" 200 -\n"
     ]
    },
    {
     "name": "stdout",
     "output_type": "stream",
     "text": [
      "activity Technology\n"
     ]
    },
    {
     "name": "stderr",
     "output_type": "stream",
     "text": [
      "127.0.0.1 - - [09/May/2024 00:18:17] \"POST /predict_tolerance_risk HTTP/1.1\" 200 -\n"
     ]
    },
    {
     "name": "stdout",
     "output_type": "stream",
     "text": [
      "activity Technology\n",
      "ProfileData for Investor id: 108\n",
      "The length of ProfileData is: (1, 20)\n",
      "Technology\n"
     ]
    },
    {
     "name": "stderr",
     "output_type": "stream",
     "text": [
      "127.0.0.1 - - [09/May/2024 00:18:22] \"POST /predict_tolerance_risk HTTP/1.1\" 200 -\n"
     ]
    },
    {
     "name": "stdout",
     "output_type": "stream",
     "text": [
      "activity Technology\n",
      "ProfileData for Investor id: 108\n",
      "The length of ProfileData is: (1, 20)\n",
      "Technology\n"
     ]
    },
    {
     "name": "stderr",
     "output_type": "stream",
     "text": [
      "127.0.0.1 - - [09/May/2024 00:18:25] \"POST /predict_tolerance_risk HTTP/1.1\" 200 -\n"
     ]
    },
    {
     "name": "stdout",
     "output_type": "stream",
     "text": [
      "activity Technology\n",
      "ProfileData for Investor id: 108\n",
      "The length of ProfileData is: (1, 20)\n",
      "Technology\n"
     ]
    },
    {
     "name": "stderr",
     "output_type": "stream",
     "text": [
      "127.0.0.1 - - [09/May/2024 00:18:31] \"POST /predict_tolerance_risk HTTP/1.1\" 200 -\n"
     ]
    },
    {
     "name": "stdout",
     "output_type": "stream",
     "text": [
      "activity Technology\n",
      "ProfileData for Investor id: 108\n",
      "The length of ProfileData is: (1, 20)\n",
      "Technology\n"
     ]
    },
    {
     "name": "stderr",
     "output_type": "stream",
     "text": [
      "127.0.0.1 - - [09/May/2024 00:18:40] \"POST /predict_tolerance_risk HTTP/1.1\" 200 -\n"
     ]
    },
    {
     "name": "stdout",
     "output_type": "stream",
     "text": [
      "activity Technology\n",
      "ProfileData for Investor id: 108\n",
      "The length of ProfileData is: (1, 20)\n",
      "Technology\n",
      "ProfileData for Investor id: 108\n",
      "The length of ProfileData is: (1, 20)\n",
      "Technology\n"
     ]
    },
    {
     "name": "stderr",
     "output_type": "stream",
     "text": [
      "127.0.0.1 - - [09/May/2024 00:18:45] \"POST /predict_tolerance_risk HTTP/1.1\" 200 -\n"
     ]
    },
    {
     "name": "stdout",
     "output_type": "stream",
     "text": [
      "activity Technology\n"
     ]
    },
    {
     "name": "stderr",
     "output_type": "stream",
     "text": [
      "127.0.0.1 - - [09/May/2024 00:18:45] \"POST /predict_tolerance_risk HTTP/1.1\" 200 -\n"
     ]
    },
    {
     "name": "stdout",
     "output_type": "stream",
     "text": [
      "activity Technology\n",
      "ProfileData for Investor id: 108\n",
      "The length of ProfileData is: (1, 20)\n",
      "Technology\n"
     ]
    },
    {
     "name": "stderr",
     "output_type": "stream",
     "text": [
      "127.0.0.1 - - [09/May/2024 00:18:50] \"POST /predict_tolerance_risk HTTP/1.1\" 200 -\n"
     ]
    },
    {
     "name": "stdout",
     "output_type": "stream",
     "text": [
      "activity Technology\n"
     ]
    },
    {
     "name": "stderr",
     "output_type": "stream",
     "text": [
      "127.0.0.1 - - [09/May/2024 00:25:14] \"OPTIONS /predict_tolerance_risk HTTP/1.1\" 200 -\n"
     ]
    },
    {
     "name": "stdout",
     "output_type": "stream",
     "text": [
      "ProfileData for Investor id: 108\n",
      "The length of ProfileData is: (1, 20)\n",
      "Technology\n"
     ]
    },
    {
     "name": "stderr",
     "output_type": "stream",
     "text": [
      "127.0.0.1 - - [09/May/2024 00:25:17] \"POST /predict_tolerance_risk HTTP/1.1\" 200 -\n"
     ]
    },
    {
     "name": "stdout",
     "output_type": "stream",
     "text": [
      "activity Technology\n"
     ]
    },
    {
     "name": "stderr",
     "output_type": "stream",
     "text": [
      "127.0.0.1 - - [09/May/2024 00:25:25] \"OPTIONS /predict_tolerance_risk HTTP/1.1\" 200 -\n"
     ]
    },
    {
     "name": "stdout",
     "output_type": "stream",
     "text": [
      "ProfileData for Investor id: 108\n",
      "The length of ProfileData is: (1, 20)\n",
      "Technology\n"
     ]
    },
    {
     "name": "stderr",
     "output_type": "stream",
     "text": [
      "127.0.0.1 - - [09/May/2024 00:25:28] \"POST /predict_tolerance_risk HTTP/1.1\" 200 -\n"
     ]
    },
    {
     "name": "stdout",
     "output_type": "stream",
     "text": [
      "activity Technology\n"
     ]
    },
    {
     "name": "stderr",
     "output_type": "stream",
     "text": [
      "127.0.0.1 - - [09/May/2024 00:25:43] \"OPTIONS /predict_tolerance_risk HTTP/1.1\" 200 -\n"
     ]
    },
    {
     "name": "stdout",
     "output_type": "stream",
     "text": [
      "ProfileData for Investor id: 108\n",
      "The length of ProfileData is: (1, 20)\n",
      "Technology\n"
     ]
    },
    {
     "name": "stderr",
     "output_type": "stream",
     "text": [
      "127.0.0.1 - - [09/May/2024 00:25:46] \"POST /predict_tolerance_risk HTTP/1.1\" 200 -\n"
     ]
    },
    {
     "name": "stdout",
     "output_type": "stream",
     "text": [
      "activity Technology\n"
     ]
    },
    {
     "name": "stderr",
     "output_type": "stream",
     "text": [
      "127.0.0.1 - - [09/May/2024 00:26:19] \"OPTIONS /predict_tolerance_risk HTTP/1.1\" 200 -\n"
     ]
    },
    {
     "name": "stdout",
     "output_type": "stream",
     "text": [
      "ProfileData for Investor id: 108\n",
      "The length of ProfileData is: (1, 20)\n",
      "Technology\n"
     ]
    },
    {
     "name": "stderr",
     "output_type": "stream",
     "text": [
      "127.0.0.1 - - [09/May/2024 00:26:22] \"POST /predict_tolerance_risk HTTP/1.1\" 200 -\n"
     ]
    },
    {
     "name": "stdout",
     "output_type": "stream",
     "text": [
      "activity Technology\n",
      "ProfileData for Investor id: 108\n",
      "The length of ProfileData is: (1, 20)\n",
      "Technology\n"
     ]
    },
    {
     "name": "stderr",
     "output_type": "stream",
     "text": [
      "127.0.0.1 - - [09/May/2024 00:26:48] \"OPTIONS /predict_tolerance_risk HTTP/1.1\" 200 -\n",
      "127.0.0.1 - - [09/May/2024 00:26:48] \"POST /predict_tolerance_risk HTTP/1.1\" 200 -\n"
     ]
    },
    {
     "name": "stdout",
     "output_type": "stream",
     "text": [
      "ProfileData for Investor id: 108\n",
      "The length of ProfileData is: (1, 20)\n",
      "Technology\n",
      "activity Technology\n",
      "ProfileData for Investor id: 108\n",
      "The length of ProfileData is: (1, 20)\n",
      "Technology\n"
     ]
    },
    {
     "name": "stderr",
     "output_type": "stream",
     "text": [
      "127.0.0.1 - - [09/May/2024 00:26:51] \"POST /predict_tolerance_risk HTTP/1.1\" 200 -\n"
     ]
    },
    {
     "name": "stdout",
     "output_type": "stream",
     "text": [
      "activity Technology\n"
     ]
    },
    {
     "name": "stderr",
     "output_type": "stream",
     "text": [
      "127.0.0.1 - - [09/May/2024 00:26:54] \"POST /predict_tolerance_risk HTTP/1.1\" 200 -\n"
     ]
    },
    {
     "name": "stdout",
     "output_type": "stream",
     "text": [
      "activity Technology\n"
     ]
    },
    {
     "name": "stderr",
     "output_type": "stream",
     "text": [
      "127.0.0.1 - - [09/May/2024 00:27:19] \"OPTIONS /predict_tolerance_risk HTTP/1.1\" 200 -\n"
     ]
    },
    {
     "name": "stdout",
     "output_type": "stream",
     "text": [
      "ProfileData for Investor id: 108\n",
      "The length of ProfileData is: (1, 20)\n",
      "Technology\n"
     ]
    },
    {
     "name": "stderr",
     "output_type": "stream",
     "text": [
      "127.0.0.1 - - [09/May/2024 00:27:22] \"POST /predict_tolerance_risk HTTP/1.1\" 200 -\n"
     ]
    },
    {
     "name": "stdout",
     "output_type": "stream",
     "text": [
      "activity Technology\n",
      "ProfileData for Investor id: 108\n",
      "The length of ProfileData is: (1, 20)\n",
      "Technology\n"
     ]
    },
    {
     "name": "stderr",
     "output_type": "stream",
     "text": [
      "127.0.0.1 - - [09/May/2024 00:27:32] \"POST /predict_tolerance_risk HTTP/1.1\" 200 -\n"
     ]
    },
    {
     "name": "stdout",
     "output_type": "stream",
     "text": [
      "activity Technology\n",
      "ProfileData for Investor id: 108\n",
      "The length of ProfileData is: (1, 20)\n",
      "Technology\n"
     ]
    },
    {
     "name": "stderr",
     "output_type": "stream",
     "text": [
      "127.0.0.1 - - [09/May/2024 00:27:37] \"POST /predict_tolerance_risk HTTP/1.1\" 200 -\n"
     ]
    },
    {
     "name": "stdout",
     "output_type": "stream",
     "text": [
      "activity Technology\n",
      "ProfileData for Investor id: 108\n",
      "The length of ProfileData is: (1, 20)\n",
      "Technology\n"
     ]
    },
    {
     "name": "stderr",
     "output_type": "stream",
     "text": [
      "127.0.0.1 - - [09/May/2024 00:28:00] \"POST /predict_tolerance_risk HTTP/1.1\" 200 -\n"
     ]
    },
    {
     "name": "stdout",
     "output_type": "stream",
     "text": [
      "activity Technology\n",
      "ProfileData for Investor id: 108\n",
      "The length of ProfileData is: (1, 20)\n",
      "Technology\n"
     ]
    },
    {
     "name": "stderr",
     "output_type": "stream",
     "text": [
      "127.0.0.1 - - [09/May/2024 00:28:07] \"POST /predict_tolerance_risk HTTP/1.1\" 200 -\n"
     ]
    },
    {
     "name": "stdout",
     "output_type": "stream",
     "text": [
      "activity Technology\n"
     ]
    },
    {
     "name": "stderr",
     "output_type": "stream",
     "text": [
      "127.0.0.1 - - [09/May/2024 00:28:23] \"OPTIONS /predict_tolerance_risk HTTP/1.1\" 200 -\n"
     ]
    },
    {
     "name": "stdout",
     "output_type": "stream",
     "text": [
      "ProfileData for Investor id: 108\n",
      "The length of ProfileData is: (1, 20)\n",
      "Technology\n"
     ]
    },
    {
     "name": "stderr",
     "output_type": "stream",
     "text": [
      "127.0.0.1 - - [09/May/2024 00:28:26] \"POST /predict_tolerance_risk HTTP/1.1\" 200 -\n"
     ]
    },
    {
     "name": "stdout",
     "output_type": "stream",
     "text": [
      "activity Technology\n"
     ]
    },
    {
     "name": "stderr",
     "output_type": "stream",
     "text": [
      "127.0.0.1 - - [09/May/2024 00:28:41] \"OPTIONS /predict_tolerance_risk HTTP/1.1\" 200 -\n"
     ]
    },
    {
     "name": "stdout",
     "output_type": "stream",
     "text": [
      "ProfileData for Investor id: 108\n",
      "The length of ProfileData is: (1, 20)\n",
      "Technology\n"
     ]
    },
    {
     "name": "stderr",
     "output_type": "stream",
     "text": [
      "127.0.0.1 - - [09/May/2024 00:28:45] \"POST /predict_tolerance_risk HTTP/1.1\" 200 -\n"
     ]
    },
    {
     "name": "stdout",
     "output_type": "stream",
     "text": [
      "activity Technology\n",
      "ProfileData for Investor id: 108\n",
      "The length of ProfileData is: (1, 20)\n",
      "Technology\n"
     ]
    },
    {
     "name": "stderr",
     "output_type": "stream",
     "text": [
      "127.0.0.1 - - [09/May/2024 00:28:50] \"POST /predict_tolerance_risk HTTP/1.1\" 200 -\n"
     ]
    },
    {
     "name": "stdout",
     "output_type": "stream",
     "text": [
      "activity Technology\n",
      "ProfileData for Investor id: 108\n",
      "The length of ProfileData is: (1, 20)\n",
      "Technology\n"
     ]
    },
    {
     "name": "stderr",
     "output_type": "stream",
     "text": [
      "127.0.0.1 - - [09/May/2024 00:28:56] \"POST /predict_tolerance_risk HTTP/1.1\" 200 -\n"
     ]
    },
    {
     "name": "stdout",
     "output_type": "stream",
     "text": [
      "activity Technology\n"
     ]
    },
    {
     "name": "stderr",
     "output_type": "stream",
     "text": [
      "127.0.0.1 - - [09/May/2024 00:28:56] \"OPTIONS /predict_tolerance_risk HTTP/1.1\" 200 -\n"
     ]
    },
    {
     "name": "stdout",
     "output_type": "stream",
     "text": [
      "ProfileData for Investor id: 108\n",
      "The length of ProfileData is: (1, 20)\n",
      "Technology\n"
     ]
    },
    {
     "name": "stderr",
     "output_type": "stream",
     "text": [
      "127.0.0.1 - - [09/May/2024 00:29:00] \"POST /predict_tolerance_risk HTTP/1.1\" 200 -\n"
     ]
    },
    {
     "name": "stdout",
     "output_type": "stream",
     "text": [
      "activity Technology\n"
     ]
    },
    {
     "name": "stderr",
     "output_type": "stream",
     "text": [
      "127.0.0.1 - - [09/May/2024 00:29:13] \"OPTIONS /predict_tolerance_risk HTTP/1.1\" 200 -\n"
     ]
    },
    {
     "name": "stdout",
     "output_type": "stream",
     "text": [
      "ProfileData for Investor id: 108\n",
      "The length of ProfileData is: (1, 20)\n",
      "Technology\n"
     ]
    },
    {
     "name": "stderr",
     "output_type": "stream",
     "text": [
      "127.0.0.1 - - [09/May/2024 00:29:17] \"POST /predict_tolerance_risk HTTP/1.1\" 200 -\n"
     ]
    },
    {
     "name": "stdout",
     "output_type": "stream",
     "text": [
      "activity Technology\n",
      "ProfileData for Investor id: 108\n",
      "The length of ProfileData is: (1, 20)\n",
      "Technology\n"
     ]
    },
    {
     "name": "stderr",
     "output_type": "stream",
     "text": [
      "127.0.0.1 - - [09/May/2024 00:29:25] \"POST /predict_tolerance_risk HTTP/1.1\" 200 -\n"
     ]
    },
    {
     "name": "stdout",
     "output_type": "stream",
     "text": [
      "activity Technology\n",
      "ProfileData for Investor id: 108\n",
      "The length of ProfileData is: (1, 20)\n",
      "Technology\n"
     ]
    },
    {
     "name": "stderr",
     "output_type": "stream",
     "text": [
      "127.0.0.1 - - [09/May/2024 00:29:30] \"POST /predict_tolerance_risk HTTP/1.1\" 200 -\n"
     ]
    },
    {
     "name": "stdout",
     "output_type": "stream",
     "text": [
      "activity Technology\n",
      "ProfileData for Investor id: 108\n",
      "The length of ProfileData is: (1, 20)\n",
      "Technology\n"
     ]
    },
    {
     "name": "stderr",
     "output_type": "stream",
     "text": [
      "127.0.0.1 - - [09/May/2024 00:30:04] \"POST /predict_tolerance_risk HTTP/1.1\" 200 -\n"
     ]
    },
    {
     "name": "stdout",
     "output_type": "stream",
     "text": [
      "activity Technology\n",
      "ProfileData for Investor id: 108\n",
      "The length of ProfileData is: (1, 20)\n",
      "Technology\n"
     ]
    },
    {
     "name": "stderr",
     "output_type": "stream",
     "text": [
      "127.0.0.1 - - [09/May/2024 00:30:10] \"POST /predict_tolerance_risk HTTP/1.1\" 200 -\n"
     ]
    },
    {
     "name": "stdout",
     "output_type": "stream",
     "text": [
      "activity Technology\n",
      "ProfileData for Investor id: 108\n",
      "The length of ProfileData is: (1, 20)\n",
      "Technology\n"
     ]
    },
    {
     "name": "stderr",
     "output_type": "stream",
     "text": [
      "127.0.0.1 - - [09/May/2024 00:31:08] \"POST /predict_tolerance_risk HTTP/1.1\" 200 -\n"
     ]
    },
    {
     "name": "stdout",
     "output_type": "stream",
     "text": [
      "activity Technology\n",
      "ProfileData for Investor id: 108\n",
      "The length of ProfileData is: (1, 20)\n",
      "Technology\n"
     ]
    },
    {
     "name": "stderr",
     "output_type": "stream",
     "text": [
      "127.0.0.1 - - [09/May/2024 00:31:13] \"POST /predict_tolerance_risk HTTP/1.1\" 200 -\n"
     ]
    },
    {
     "name": "stdout",
     "output_type": "stream",
     "text": [
      "activity Technology\n",
      "ProfileData for Investor id: 108\n",
      "The length of ProfileData is: (1, 20)\n",
      "Technology\n"
     ]
    },
    {
     "name": "stderr",
     "output_type": "stream",
     "text": [
      "127.0.0.1 - - [09/May/2024 00:31:17] \"POST /predict_tolerance_risk HTTP/1.1\" 200 -\n"
     ]
    },
    {
     "name": "stdout",
     "output_type": "stream",
     "text": [
      "activity Technology\n",
      "ProfileData for Investor id: 108\n",
      "The length of ProfileData is: (1, 20)\n",
      "Technology\n",
      "ProfileData for Investor id: 108\n",
      "The length of ProfileData is: (1, 20)\n",
      "Technology\n"
     ]
    },
    {
     "name": "stderr",
     "output_type": "stream",
     "text": [
      "127.0.0.1 - - [09/May/2024 00:31:24] \"POST /predict_tolerance_risk HTTP/1.1\" 200 -\n"
     ]
    },
    {
     "name": "stdout",
     "output_type": "stream",
     "text": [
      "activity Technology\n"
     ]
    },
    {
     "name": "stderr",
     "output_type": "stream",
     "text": [
      "127.0.0.1 - - [09/May/2024 00:31:24] \"POST /predict_tolerance_risk HTTP/1.1\" 200 -\n"
     ]
    },
    {
     "name": "stdout",
     "output_type": "stream",
     "text": [
      "activity Technology\n",
      "ProfileData for Investor id: 108\n",
      "The length of ProfileData is: (1, 20)\n",
      "Technology\n",
      "ProfileData for Investor id: 108\n",
      "The length of ProfileData is: (1, 20)\n",
      "Technology\n"
     ]
    },
    {
     "name": "stderr",
     "output_type": "stream",
     "text": [
      "127.0.0.1 - - [09/May/2024 00:31:28] \"POST /predict_tolerance_risk HTTP/1.1\" 200 -\n"
     ]
    },
    {
     "name": "stdout",
     "output_type": "stream",
     "text": [
      "activity Technology\n"
     ]
    },
    {
     "name": "stderr",
     "output_type": "stream",
     "text": [
      "127.0.0.1 - - [09/May/2024 00:31:29] \"POST /predict_tolerance_risk HTTP/1.1\" 200 -\n"
     ]
    },
    {
     "name": "stdout",
     "output_type": "stream",
     "text": [
      "activity Technology\n",
      "ProfileData for Investor id: 108\n",
      "The length of ProfileData is: (1, 20)\n",
      "Technology\n"
     ]
    },
    {
     "name": "stderr",
     "output_type": "stream",
     "text": [
      "127.0.0.1 - - [09/May/2024 00:31:32] \"POST /predict_tolerance_risk HTTP/1.1\" 200 -\n"
     ]
    },
    {
     "name": "stdout",
     "output_type": "stream",
     "text": [
      "activity Technology\n"
     ]
    },
    {
     "name": "stderr",
     "output_type": "stream",
     "text": [
      "127.0.0.1 - - [09/May/2024 00:31:47] \"OPTIONS /predict_tolerance_risk HTTP/1.1\" 200 -\n"
     ]
    },
    {
     "name": "stdout",
     "output_type": "stream",
     "text": [
      "ProfileData for Investor id: 108\n",
      "The length of ProfileData is: (1, 20)\n",
      "Technology\n"
     ]
    },
    {
     "name": "stderr",
     "output_type": "stream",
     "text": [
      "127.0.0.1 - - [09/May/2024 00:31:49] \"POST /predict_tolerance_risk HTTP/1.1\" 200 -\n"
     ]
    },
    {
     "name": "stdout",
     "output_type": "stream",
     "text": [
      "activity Technology\n",
      "ProfileData for Investor id: 108\n",
      "The length of ProfileData is: (1, 20)\n",
      "Technology\n"
     ]
    },
    {
     "name": "stderr",
     "output_type": "stream",
     "text": [
      "127.0.0.1 - - [09/May/2024 00:32:33] \"POST /predict_tolerance_risk HTTP/1.1\" 200 -\n"
     ]
    },
    {
     "name": "stdout",
     "output_type": "stream",
     "text": [
      "activity Technology\n",
      "ProfileData for Investor id: 108\n",
      "The length of ProfileData is: (1, 20)\n",
      "Technology\n"
     ]
    },
    {
     "name": "stderr",
     "output_type": "stream",
     "text": [
      "127.0.0.1 - - [09/May/2024 00:32:38] \"POST /predict_tolerance_risk HTTP/1.1\" 200 -\n"
     ]
    },
    {
     "name": "stdout",
     "output_type": "stream",
     "text": [
      "activity Technology\n"
     ]
    },
    {
     "name": "stderr",
     "output_type": "stream",
     "text": [
      "127.0.0.1 - - [09/May/2024 00:36:22] \"OPTIONS /predict_tolerance_risk HTTP/1.1\" 200 -\n"
     ]
    },
    {
     "name": "stdout",
     "output_type": "stream",
     "text": [
      "ProfileData for Investor id: 108\n",
      "The length of ProfileData is: (1, 20)\n",
      "Technology\n"
     ]
    },
    {
     "name": "stderr",
     "output_type": "stream",
     "text": [
      "127.0.0.1 - - [09/May/2024 00:36:25] \"POST /predict_tolerance_risk HTTP/1.1\" 200 -\n"
     ]
    },
    {
     "name": "stdout",
     "output_type": "stream",
     "text": [
      "activity Technology\n"
     ]
    },
    {
     "name": "stderr",
     "output_type": "stream",
     "text": [
      "127.0.0.1 - - [09/May/2024 00:36:33] \"OPTIONS /predict_tolerance_risk HTTP/1.1\" 200 -\n"
     ]
    },
    {
     "name": "stdout",
     "output_type": "stream",
     "text": [
      "ProfileData for Investor id: 108\n",
      "The length of ProfileData is: (1, 20)\n",
      "Technology\n"
     ]
    },
    {
     "name": "stderr",
     "output_type": "stream",
     "text": [
      "127.0.0.1 - - [09/May/2024 00:36:36] \"POST /predict_tolerance_risk HTTP/1.1\" 200 -\n"
     ]
    },
    {
     "name": "stdout",
     "output_type": "stream",
     "text": [
      "activity Technology\n",
      "ProfileData for Investor id: 108\n",
      "The length of ProfileData is: (1, 20)\n",
      "Technology\n"
     ]
    },
    {
     "name": "stderr",
     "output_type": "stream",
     "text": [
      "127.0.0.1 - - [09/May/2024 00:36:41] \"POST /predict_tolerance_risk HTTP/1.1\" 200 -\n"
     ]
    },
    {
     "name": "stdout",
     "output_type": "stream",
     "text": [
      "activity Technology\n"
     ]
    },
    {
     "name": "stderr",
     "output_type": "stream",
     "text": [
      "127.0.0.1 - - [09/May/2024 00:36:42] \"OPTIONS /predict_tolerance_risk HTTP/1.1\" 200 -\n"
     ]
    },
    {
     "name": "stdout",
     "output_type": "stream",
     "text": [
      "ProfileData for Investor id: 108\n",
      "The length of ProfileData is: (1, 20)\n",
      "Technology\n"
     ]
    },
    {
     "name": "stderr",
     "output_type": "stream",
     "text": [
      "127.0.0.1 - - [09/May/2024 00:36:46] \"POST /predict_tolerance_risk HTTP/1.1\" 200 -\n"
     ]
    },
    {
     "name": "stdout",
     "output_type": "stream",
     "text": [
      "activity Technology\n"
     ]
    },
    {
     "name": "stderr",
     "output_type": "stream",
     "text": [
      "127.0.0.1 - - [09/May/2024 00:37:02] \"OPTIONS /predict_tolerance_risk HTTP/1.1\" 200 -\n"
     ]
    },
    {
     "name": "stdout",
     "output_type": "stream",
     "text": [
      "ProfileData for Investor id: 108\n",
      "The length of ProfileData is: (1, 20)\n",
      "Technology\n"
     ]
    },
    {
     "name": "stderr",
     "output_type": "stream",
     "text": [
      "127.0.0.1 - - [09/May/2024 00:37:05] \"POST /predict_tolerance_risk HTTP/1.1\" 200 -\n"
     ]
    },
    {
     "name": "stdout",
     "output_type": "stream",
     "text": [
      "activity Technology\n"
     ]
    },
    {
     "name": "stderr",
     "output_type": "stream",
     "text": [
      "127.0.0.1 - - [09/May/2024 00:37:27] \"OPTIONS /predict_tolerance_risk HTTP/1.1\" 200 -\n"
     ]
    },
    {
     "name": "stdout",
     "output_type": "stream",
     "text": [
      "ProfileData for Investor id: 108\n",
      "The length of ProfileData is: (1, 20)\n",
      "Technology\n"
     ]
    },
    {
     "name": "stderr",
     "output_type": "stream",
     "text": [
      "127.0.0.1 - - [09/May/2024 00:37:31] \"POST /predict_tolerance_risk HTTP/1.1\" 200 -\n"
     ]
    },
    {
     "name": "stdout",
     "output_type": "stream",
     "text": [
      "activity Technology\n",
      "ProfileData for Investor id: 108\n",
      "The length of ProfileData is: (1, 20)\n",
      "Technology\n"
     ]
    },
    {
     "name": "stderr",
     "output_type": "stream",
     "text": [
      "127.0.0.1 - - [09/May/2024 00:38:49] \"POST /predict_tolerance_risk HTTP/1.1\" 200 -\n"
     ]
    },
    {
     "name": "stdout",
     "output_type": "stream",
     "text": [
      "activity Technology\n",
      "ProfileData for Investor id: 108\n",
      "The length of ProfileData is: (1, 20)\n",
      "Technology\n"
     ]
    },
    {
     "name": "stderr",
     "output_type": "stream",
     "text": [
      "127.0.0.1 - - [09/May/2024 00:38:55] \"POST /predict_tolerance_risk HTTP/1.1\" 200 -\n"
     ]
    },
    {
     "name": "stdout",
     "output_type": "stream",
     "text": [
      "activity Technology\n"
     ]
    },
    {
     "name": "stderr",
     "output_type": "stream",
     "text": [
      "127.0.0.1 - - [09/May/2024 00:39:28] \"OPTIONS /predict_tolerance_risk HTTP/1.1\" 200 -\n"
     ]
    },
    {
     "name": "stdout",
     "output_type": "stream",
     "text": [
      "ProfileData for Investor id: 108\n",
      "The length of ProfileData is: (1, 20)\n",
      "Technology\n"
     ]
    },
    {
     "name": "stderr",
     "output_type": "stream",
     "text": [
      "127.0.0.1 - - [09/May/2024 00:39:31] \"POST /predict_tolerance_risk HTTP/1.1\" 200 -\n"
     ]
    },
    {
     "name": "stdout",
     "output_type": "stream",
     "text": [
      "activity Technology\n",
      "ProfileData for Investor id: 108\n",
      "The length of ProfileData is: (1, 20)\n",
      "Technology\n"
     ]
    },
    {
     "name": "stderr",
     "output_type": "stream",
     "text": [
      "127.0.0.1 - - [09/May/2024 00:39:38] \"OPTIONS /predict_tolerance_risk HTTP/1.1\" 200 -\n"
     ]
    },
    {
     "name": "stdout",
     "output_type": "stream",
     "text": [
      "ProfileData for Investor id: 108\n",
      "The length of ProfileData is: (1, 20)\n",
      "Technology\n"
     ]
    },
    {
     "name": "stderr",
     "output_type": "stream",
     "text": [
      "127.0.0.1 - - [09/May/2024 00:39:39] \"POST /predict_tolerance_risk HTTP/1.1\" 200 -\n"
     ]
    },
    {
     "name": "stdout",
     "output_type": "stream",
     "text": [
      "activity Technology\n"
     ]
    },
    {
     "name": "stderr",
     "output_type": "stream",
     "text": [
      "127.0.0.1 - - [09/May/2024 00:39:42] \"POST /predict_tolerance_risk HTTP/1.1\" 200 -\n"
     ]
    },
    {
     "name": "stdout",
     "output_type": "stream",
     "text": [
      "activity Technology\n",
      "ProfileData for Investor id: 108\n",
      "The length of ProfileData is: (1, 20)\n",
      "Technology\n",
      "ProfileData for Investor id: 108\n",
      "The length of ProfileData is: (1, 20)\n",
      "Technology\n"
     ]
    },
    {
     "name": "stderr",
     "output_type": "stream",
     "text": [
      "127.0.0.1 - - [09/May/2024 00:39:45] \"POST /predict_tolerance_risk HTTP/1.1\" 200 -\n"
     ]
    },
    {
     "name": "stdout",
     "output_type": "stream",
     "text": [
      "activity Technology\n"
     ]
    },
    {
     "name": "stderr",
     "output_type": "stream",
     "text": [
      "127.0.0.1 - - [09/May/2024 00:39:47] \"POST /predict_tolerance_risk HTTP/1.1\" 200 -\n"
     ]
    },
    {
     "name": "stdout",
     "output_type": "stream",
     "text": [
      "activity Technology\n",
      "ProfileData for Investor id: 108\n",
      "The length of ProfileData is: (1, 20)\n",
      "Technology\n",
      "ProfileData for Investor id: 108\n",
      "The length of ProfileData is: (1, 20)\n",
      "Technology\n"
     ]
    },
    {
     "name": "stderr",
     "output_type": "stream",
     "text": [
      "127.0.0.1 - - [09/May/2024 00:39:52] \"POST /predict_tolerance_risk HTTP/1.1\" 200 -\n"
     ]
    },
    {
     "name": "stdout",
     "output_type": "stream",
     "text": [
      "activity Technology\n"
     ]
    },
    {
     "name": "stderr",
     "output_type": "stream",
     "text": [
      "127.0.0.1 - - [09/May/2024 00:39:53] \"POST /predict_tolerance_risk HTTP/1.1\" 200 -\n"
     ]
    },
    {
     "name": "stdout",
     "output_type": "stream",
     "text": [
      "activity Technology\n",
      "ProfileData for Investor id: 108\n",
      "The length of ProfileData is: (1, 20)\n",
      "Technology\n"
     ]
    },
    {
     "name": "stderr",
     "output_type": "stream",
     "text": [
      "127.0.0.1 - - [09/May/2024 00:39:58] \"POST /predict_tolerance_risk HTTP/1.1\" 200 -\n"
     ]
    },
    {
     "name": "stdout",
     "output_type": "stream",
     "text": [
      "activity Technology\n",
      "ProfileData for Investor id: 108\n",
      "The length of ProfileData is: (1, 20)\n",
      "Technology\n"
     ]
    },
    {
     "name": "stderr",
     "output_type": "stream",
     "text": [
      "127.0.0.1 - - [09/May/2024 00:40:08] \"POST /predict_tolerance_risk HTTP/1.1\" 200 -\n"
     ]
    },
    {
     "name": "stdout",
     "output_type": "stream",
     "text": [
      "activity Technology\n",
      "ProfileData for Investor id: 108\n",
      "The length of ProfileData is: (1, 20)\n",
      "Technology\n"
     ]
    },
    {
     "name": "stderr",
     "output_type": "stream",
     "text": [
      "127.0.0.1 - - [09/May/2024 00:40:14] \"POST /predict_tolerance_risk HTTP/1.1\" 200 -\n"
     ]
    },
    {
     "name": "stdout",
     "output_type": "stream",
     "text": [
      "activity Technology\n",
      "ProfileData for Investor id: 108\n",
      "The length of ProfileData is: (1, 20)\n",
      "Technology\n"
     ]
    },
    {
     "name": "stderr",
     "output_type": "stream",
     "text": [
      "127.0.0.1 - - [09/May/2024 00:40:22] \"POST /predict_tolerance_risk HTTP/1.1\" 200 -\n"
     ]
    },
    {
     "name": "stdout",
     "output_type": "stream",
     "text": [
      "activity Technology\n",
      "ProfileData for Investor id: 108\n",
      "The length of ProfileData is: (1, 20)\n",
      "Technology\n"
     ]
    },
    {
     "name": "stderr",
     "output_type": "stream",
     "text": [
      "127.0.0.1 - - [09/May/2024 00:40:28] \"POST /predict_tolerance_risk HTTP/1.1\" 200 -\n"
     ]
    },
    {
     "name": "stdout",
     "output_type": "stream",
     "text": [
      "activity Technology\n",
      "ProfileData for Investor id: 108\n",
      "The length of ProfileData is: (1, 20)\n",
      "Technology\n"
     ]
    },
    {
     "name": "stderr",
     "output_type": "stream",
     "text": [
      "127.0.0.1 - - [09/May/2024 00:41:07] \"POST /predict_tolerance_risk HTTP/1.1\" 200 -\n"
     ]
    },
    {
     "name": "stdout",
     "output_type": "stream",
     "text": [
      "activity Technology\n",
      "ProfileData for Investor id: 108\n",
      "The length of ProfileData is: (1, 20)\n",
      "Technology\n"
     ]
    },
    {
     "name": "stderr",
     "output_type": "stream",
     "text": [
      "127.0.0.1 - - [09/May/2024 00:41:09] \"POST /predict_tolerance_risk HTTP/1.1\" 200 -\n"
     ]
    },
    {
     "name": "stdout",
     "output_type": "stream",
     "text": [
      "activity Technology\n",
      "ProfileData for Investor id: 108\n",
      "The length of ProfileData is: (1, 20)\n",
      "Technology\n"
     ]
    },
    {
     "name": "stderr",
     "output_type": "stream",
     "text": [
      "127.0.0.1 - - [09/May/2024 00:41:11] \"POST /predict_tolerance_risk HTTP/1.1\" 200 -\n"
     ]
    },
    {
     "name": "stdout",
     "output_type": "stream",
     "text": [
      "activity Technology\n",
      "ProfileData for Investor id: 108\n",
      "The length of ProfileData is: (1, 20)\n",
      "Technology\n"
     ]
    },
    {
     "name": "stderr",
     "output_type": "stream",
     "text": [
      "127.0.0.1 - - [09/May/2024 00:41:13] \"POST /predict_tolerance_risk HTTP/1.1\" 200 -\n"
     ]
    },
    {
     "name": "stdout",
     "output_type": "stream",
     "text": [
      "activity Technology\n"
     ]
    },
    {
     "name": "stderr",
     "output_type": "stream",
     "text": [
      "127.0.0.1 - - [09/May/2024 00:45:13] \"OPTIONS /predict_tolerance_risk HTTP/1.1\" 200 -\n"
     ]
    },
    {
     "name": "stdout",
     "output_type": "stream",
     "text": [
      "ProfileData for Investor id: 108\n",
      "The length of ProfileData is: (1, 20)\n",
      "Technology\n"
     ]
    },
    {
     "name": "stderr",
     "output_type": "stream",
     "text": [
      "127.0.0.1 - - [09/May/2024 00:45:16] \"POST /predict_tolerance_risk HTTP/1.1\" 200 -\n"
     ]
    },
    {
     "name": "stdout",
     "output_type": "stream",
     "text": [
      "activity Technology\n"
     ]
    },
    {
     "name": "stderr",
     "output_type": "stream",
     "text": [
      "127.0.0.1 - - [09/May/2024 00:45:23] \"OPTIONS /predict_tolerance_risk HTTP/1.1\" 200 -\n"
     ]
    },
    {
     "name": "stdout",
     "output_type": "stream",
     "text": [
      "ProfileData for Investor id: 108\n",
      "The length of ProfileData is: (1, 20)\n",
      "Technology\n"
     ]
    },
    {
     "name": "stderr",
     "output_type": "stream",
     "text": [
      "127.0.0.1 - - [09/May/2024 00:45:25] \"OPTIONS /predict_tolerance_risk HTTP/1.1\" 200 -\n"
     ]
    },
    {
     "name": "stdout",
     "output_type": "stream",
     "text": [
      "ProfileData for Investor id: 108\n",
      "The length of ProfileData is: (1, 20)\n",
      "Technology\n"
     ]
    },
    {
     "name": "stderr",
     "output_type": "stream",
     "text": [
      "127.0.0.1 - - [09/May/2024 00:45:26] \"POST /predict_tolerance_risk HTTP/1.1\" 200 -\n"
     ]
    },
    {
     "name": "stdout",
     "output_type": "stream",
     "text": [
      "activity Technology\n"
     ]
    },
    {
     "name": "stderr",
     "output_type": "stream",
     "text": [
      "127.0.0.1 - - [09/May/2024 00:45:28] \"POST /predict_tolerance_risk HTTP/1.1\" 200 -\n"
     ]
    },
    {
     "name": "stdout",
     "output_type": "stream",
     "text": [
      "activity Technology\n"
     ]
    },
    {
     "name": "stderr",
     "output_type": "stream",
     "text": [
      "127.0.0.1 - - [09/May/2024 00:46:58] \"OPTIONS /predict_tolerance_risk HTTP/1.1\" 200 -\n"
     ]
    },
    {
     "name": "stdout",
     "output_type": "stream",
     "text": [
      "ProfileData for Investor id: 108\n",
      "The length of ProfileData is: (1, 20)\n",
      "Technology\n",
      "ProfileData for Investor id: 108\n",
      "The length of ProfileData is: (1, 20)\n",
      "Technology\n"
     ]
    },
    {
     "name": "stderr",
     "output_type": "stream",
     "text": [
      "127.0.0.1 - - [09/May/2024 00:47:01] \"POST /predict_tolerance_risk HTTP/1.1\" 200 -\n"
     ]
    },
    {
     "name": "stdout",
     "output_type": "stream",
     "text": [
      "activity Technology\n"
     ]
    },
    {
     "name": "stderr",
     "output_type": "stream",
     "text": [
      "127.0.0.1 - - [09/May/2024 00:47:03] \"POST /predict_tolerance_risk HTTP/1.1\" 200 -\n"
     ]
    },
    {
     "name": "stdout",
     "output_type": "stream",
     "text": [
      "activity Technology\n",
      "ProfileData for Investor id: 108\n",
      "The length of ProfileData is: (1, 20)\n",
      "Technology\n"
     ]
    },
    {
     "name": "stderr",
     "output_type": "stream",
     "text": [
      "127.0.0.1 - - [09/May/2024 00:47:08] \"POST /predict_tolerance_risk HTTP/1.1\" 200 -\n"
     ]
    },
    {
     "name": "stdout",
     "output_type": "stream",
     "text": [
      "activity Technology\n",
      "ProfileData for Investor id: 108\n",
      "The length of ProfileData is: (1, 20)\n",
      "Technology\n"
     ]
    },
    {
     "name": "stderr",
     "output_type": "stream",
     "text": [
      "127.0.0.1 - - [09/May/2024 00:47:13] \"POST /predict_tolerance_risk HTTP/1.1\" 200 -\n"
     ]
    },
    {
     "name": "stdout",
     "output_type": "stream",
     "text": [
      "activity Technology\n",
      "ProfileData for Investor id: 108\n",
      "The length of ProfileData is: (1, 20)\n",
      "Technology\n"
     ]
    },
    {
     "name": "stderr",
     "output_type": "stream",
     "text": [
      "127.0.0.1 - - [09/May/2024 00:47:19] \"POST /predict_tolerance_risk HTTP/1.1\" 200 -\n"
     ]
    },
    {
     "name": "stdout",
     "output_type": "stream",
     "text": [
      "activity Technology\n",
      "ProfileData for Investor id: 108\n",
      "The length of ProfileData is: (1, 20)\n",
      "Technology\n"
     ]
    },
    {
     "name": "stderr",
     "output_type": "stream",
     "text": [
      "127.0.0.1 - - [09/May/2024 00:47:24] \"OPTIONS /predict_tolerance_risk HTTP/1.1\" 200 -\n"
     ]
    },
    {
     "name": "stdout",
     "output_type": "stream",
     "text": [
      "ProfileData for Investor id: 108\n",
      "The length of ProfileData is: (1, 20)\n",
      "Technology\n"
     ]
    },
    {
     "name": "stderr",
     "output_type": "stream",
     "text": [
      "127.0.0.1 - - [09/May/2024 00:47:25] \"POST /predict_tolerance_risk HTTP/1.1\" 200 -\n"
     ]
    },
    {
     "name": "stdout",
     "output_type": "stream",
     "text": [
      "activity Technology\n",
      "ProfileData for Investor id: 108\n",
      "The length of ProfileData is: (1, 20)\n",
      "Technology\n"
     ]
    },
    {
     "name": "stderr",
     "output_type": "stream",
     "text": [
      "127.0.0.1 - - [09/May/2024 00:47:28] \"POST /predict_tolerance_risk HTTP/1.1\" 200 -\n"
     ]
    },
    {
     "name": "stdout",
     "output_type": "stream",
     "text": [
      "activity Technology\n"
     ]
    },
    {
     "name": "stderr",
     "output_type": "stream",
     "text": [
      "127.0.0.1 - - [09/May/2024 00:47:31] \"POST /predict_tolerance_risk HTTP/1.1\" 200 -\n"
     ]
    },
    {
     "name": "stdout",
     "output_type": "stream",
     "text": [
      "activity Technology\n"
     ]
    },
    {
     "name": "stderr",
     "output_type": "stream",
     "text": [
      "127.0.0.1 - - [09/May/2024 00:47:43] \"OPTIONS /predict_tolerance_risk HTTP/1.1\" 200 -\n"
     ]
    },
    {
     "name": "stdout",
     "output_type": "stream",
     "text": [
      "ProfileData for Investor id: 108\n",
      "The length of ProfileData is: (1, 20)\n",
      "Technology\n"
     ]
    },
    {
     "name": "stderr",
     "output_type": "stream",
     "text": [
      "127.0.0.1 - - [09/May/2024 00:47:47] \"POST /predict_tolerance_risk HTTP/1.1\" 200 -\n"
     ]
    },
    {
     "name": "stdout",
     "output_type": "stream",
     "text": [
      "activity Technology\n"
     ]
    },
    {
     "name": "stderr",
     "output_type": "stream",
     "text": [
      "127.0.0.1 - - [09/May/2024 00:47:51] \"OPTIONS /predict_tolerance_risk HTTP/1.1\" 200 -\n"
     ]
    },
    {
     "name": "stdout",
     "output_type": "stream",
     "text": [
      "ProfileData for Investor id: 108\n",
      "The length of ProfileData is: (1, 20)\n",
      "Technology\n",
      "ProfileData for Investor id: 108\n",
      "The length of ProfileData is: (1, 20)\n",
      "Technology\n",
      "ProfileData for Investor id: 108\n",
      "The length of ProfileData is: (1, 20)\n",
      "Technology\n",
      "ProfileData for Investor id: 108\n",
      "The length of ProfileData is: (1, 20)\n",
      "Technology\n"
     ]
    },
    {
     "name": "stderr",
     "output_type": "stream",
     "text": [
      "127.0.0.1 - - [09/May/2024 00:47:56] \"POST /predict_tolerance_risk HTTP/1.1\" 200 -\n",
      "127.0.0.1 - - [09/May/2024 00:47:56] \"POST /predict_tolerance_risk HTTP/1.1\" 200 -\n",
      "127.0.0.1 - - [09/May/2024 00:47:57] \"POST /predict_tolerance_risk HTTP/1.1\" 200 -\n"
     ]
    },
    {
     "name": "stdout",
     "output_type": "stream",
     "text": [
      "activity Technology\n",
      "activity Technology\n",
      "activity Technology\n"
     ]
    },
    {
     "name": "stderr",
     "output_type": "stream",
     "text": [
      "127.0.0.1 - - [09/May/2024 00:47:57] \"POST /predict_tolerance_risk HTTP/1.1\" 200 -\n"
     ]
    },
    {
     "name": "stdout",
     "output_type": "stream",
     "text": [
      "activity Technology\n"
     ]
    },
    {
     "name": "stderr",
     "output_type": "stream",
     "text": [
      "127.0.0.1 - - [09/May/2024 00:48:01] \"OPTIONS /predict_tolerance_risk HTTP/1.1\" 200 -\n"
     ]
    },
    {
     "name": "stdout",
     "output_type": "stream",
     "text": [
      "ProfileData for Investor id: 108\n",
      "The length of ProfileData is: (1, 20)\n",
      "Technology\n"
     ]
    },
    {
     "name": "stderr",
     "output_type": "stream",
     "text": [
      "127.0.0.1 - - [09/May/2024 00:48:04] \"POST /predict_tolerance_risk HTTP/1.1\" 200 -\n"
     ]
    },
    {
     "name": "stdout",
     "output_type": "stream",
     "text": [
      "activity Technology\n"
     ]
    },
    {
     "name": "stderr",
     "output_type": "stream",
     "text": [
      "127.0.0.1 - - [09/May/2024 00:48:54] \"OPTIONS /predict_tolerance_risk HTTP/1.1\" 200 -\n"
     ]
    },
    {
     "name": "stdout",
     "output_type": "stream",
     "text": [
      "ProfileData for Investor id: 108\n",
      "The length of ProfileData is: (1, 20)\n",
      "Technology\n"
     ]
    },
    {
     "name": "stderr",
     "output_type": "stream",
     "text": [
      "127.0.0.1 - - [09/May/2024 00:48:58] \"POST /predict_tolerance_risk HTTP/1.1\" 200 -\n"
     ]
    },
    {
     "name": "stdout",
     "output_type": "stream",
     "text": [
      "activity Technology\n"
     ]
    },
    {
     "name": "stderr",
     "output_type": "stream",
     "text": [
      "127.0.0.1 - - [09/May/2024 00:49:01] \"OPTIONS /predict_tolerance_risk HTTP/1.1\" 200 -\n"
     ]
    },
    {
     "name": "stdout",
     "output_type": "stream",
     "text": [
      "ProfileData for Investor id: 108\n",
      "The length of ProfileData is: (1, 20)\n",
      "Technology\n"
     ]
    },
    {
     "name": "stderr",
     "output_type": "stream",
     "text": [
      "127.0.0.1 - - [09/May/2024 00:49:04] \"POST /predict_tolerance_risk HTTP/1.1\" 200 -\n"
     ]
    },
    {
     "name": "stdout",
     "output_type": "stream",
     "text": [
      "activity Technology\n"
     ]
    },
    {
     "name": "stderr",
     "output_type": "stream",
     "text": [
      "127.0.0.1 - - [09/May/2024 00:51:11] \"OPTIONS /predict_tolerance_risk HTTP/1.1\" 200 -\n"
     ]
    },
    {
     "name": "stdout",
     "output_type": "stream",
     "text": [
      "ProfileData for Investor id: 108\n",
      "The length of ProfileData is: (1, 20)\n",
      "Technology\n",
      "ProfileData for Investor id: 108\n",
      "The length of ProfileData is: (1, 20)\n",
      "Technology\n",
      "ProfileData for Investor id: 108\n",
      "The length of ProfileData is: (1, 20)\n",
      "Technology\n"
     ]
    },
    {
     "name": "stderr",
     "output_type": "stream",
     "text": [
      "127.0.0.1 - - [09/May/2024 00:51:16] \"POST /predict_tolerance_risk HTTP/1.1\" 200 -\n"
     ]
    },
    {
     "name": "stdout",
     "output_type": "stream",
     "text": [
      "activity Technology\n"
     ]
    },
    {
     "name": "stderr",
     "output_type": "stream",
     "text": [
      "127.0.0.1 - - [09/May/2024 00:51:18] \"POST /predict_tolerance_risk HTTP/1.1\" 200 -\n"
     ]
    },
    {
     "name": "stdout",
     "output_type": "stream",
     "text": [
      "activity Technology\n"
     ]
    },
    {
     "name": "stderr",
     "output_type": "stream",
     "text": [
      "127.0.0.1 - - [09/May/2024 00:51:19] \"POST /predict_tolerance_risk HTTP/1.1\" 200 -\n"
     ]
    },
    {
     "name": "stdout",
     "output_type": "stream",
     "text": [
      "activity Technology\n",
      "ProfileData for Investor id: 108\n",
      "The length of ProfileData is: (1, 20)\n",
      "Technology\n"
     ]
    },
    {
     "name": "stderr",
     "output_type": "stream",
     "text": [
      "127.0.0.1 - - [09/May/2024 00:51:33] \"OPTIONS /predict_tolerance_risk HTTP/1.1\" 200 -\n"
     ]
    },
    {
     "name": "stdout",
     "output_type": "stream",
     "text": [
      "ProfileData for Investor id: 108\n",
      "The length of ProfileData is: (1, 20)\n",
      "Technology\n",
      "ProfileData for Investor id: 108\n",
      "The length of ProfileData is: (1, 20)\n",
      "Technology\n"
     ]
    },
    {
     "name": "stderr",
     "output_type": "stream",
     "text": [
      "127.0.0.1 - - [09/May/2024 00:51:37] \"POST /predict_tolerance_risk HTTP/1.1\" 200 -\n"
     ]
    },
    {
     "name": "stdout",
     "output_type": "stream",
     "text": [
      "activity Technology\n"
     ]
    },
    {
     "name": "stderr",
     "output_type": "stream",
     "text": [
      "127.0.0.1 - - [09/May/2024 00:51:38] \"POST /predict_tolerance_risk HTTP/1.1\" 200 -\n",
      "127.0.0.1 - - [09/May/2024 00:51:38] \"POST /predict_tolerance_risk HTTP/1.1\" 200 -\n"
     ]
    },
    {
     "name": "stdout",
     "output_type": "stream",
     "text": [
      "activity Technology\n",
      "activity Technology\n",
      "ProfileData for Investor id: 108\n",
      "The length of ProfileData is: (1, 20)\n",
      "Technology\n"
     ]
    },
    {
     "name": "stderr",
     "output_type": "stream",
     "text": [
      "127.0.0.1 - - [09/May/2024 00:51:42] \"OPTIONS /predict_tolerance_risk HTTP/1.1\" 200 -\n"
     ]
    },
    {
     "name": "stdout",
     "output_type": "stream",
     "text": [
      "ProfileData for Investor id: 108\n",
      "The length of ProfileData is: (1, 20)\n",
      "Technology\n",
      "ProfileData for Investor id: 108\n",
      "The length of ProfileData is: (1, 20)\n",
      "Technology\n"
     ]
    },
    {
     "name": "stderr",
     "output_type": "stream",
     "text": [
      "127.0.0.1 - - [09/May/2024 00:51:44] \"POST /predict_tolerance_risk HTTP/1.1\" 200 -\n"
     ]
    },
    {
     "name": "stdout",
     "output_type": "stream",
     "text": [
      "activity Technology\n"
     ]
    },
    {
     "name": "stderr",
     "output_type": "stream",
     "text": [
      "127.0.0.1 - - [09/May/2024 00:51:46] \"POST /predict_tolerance_risk HTTP/1.1\" 200 -\n"
     ]
    },
    {
     "name": "stdout",
     "output_type": "stream",
     "text": [
      "activity Technology\n"
     ]
    },
    {
     "name": "stderr",
     "output_type": "stream",
     "text": [
      "127.0.0.1 - - [09/May/2024 00:51:47] \"POST /predict_tolerance_risk HTTP/1.1\" 200 -\n"
     ]
    },
    {
     "name": "stdout",
     "output_type": "stream",
     "text": [
      "activity Technology\n"
     ]
    },
    {
     "name": "stderr",
     "output_type": "stream",
     "text": [
      "127.0.0.1 - - [09/May/2024 00:51:52] \"OPTIONS /predict_tolerance_risk HTTP/1.1\" 200 -\n"
     ]
    },
    {
     "name": "stdout",
     "output_type": "stream",
     "text": [
      "ProfileData for Investor id: 108\n",
      "The length of ProfileData is: (1, 20)\n",
      "Technology\n"
     ]
    },
    {
     "name": "stderr",
     "output_type": "stream",
     "text": [
      "127.0.0.1 - - [09/May/2024 00:51:56] \"POST /predict_tolerance_risk HTTP/1.1\" 200 -\n"
     ]
    },
    {
     "name": "stdout",
     "output_type": "stream",
     "text": [
      "activity Technology\n"
     ]
    },
    {
     "name": "stderr",
     "output_type": "stream",
     "text": [
      "127.0.0.1 - - [09/May/2024 00:52:40] \"OPTIONS /predict_tolerance_risk HTTP/1.1\" 200 -\n"
     ]
    },
    {
     "name": "stdout",
     "output_type": "stream",
     "text": [
      "ProfileData for Investor id: 108\n",
      "The length of ProfileData is: (1, 20)\n",
      "Technology\n"
     ]
    },
    {
     "name": "stderr",
     "output_type": "stream",
     "text": [
      "127.0.0.1 - - [09/May/2024 00:52:44] \"POST /predict_tolerance_risk HTTP/1.1\" 200 -\n"
     ]
    },
    {
     "name": "stdout",
     "output_type": "stream",
     "text": [
      "activity Technology\n"
     ]
    },
    {
     "name": "stderr",
     "output_type": "stream",
     "text": [
      "127.0.0.1 - - [09/May/2024 00:53:25] \"OPTIONS /predict_tolerance_risk HTTP/1.1\" 200 -\n"
     ]
    },
    {
     "name": "stdout",
     "output_type": "stream",
     "text": [
      "ProfileData for Investor id: 108\n",
      "The length of ProfileData is: (1, 20)\n",
      "Technology\n"
     ]
    },
    {
     "name": "stderr",
     "output_type": "stream",
     "text": [
      "127.0.0.1 - - [09/May/2024 00:53:28] \"POST /predict_tolerance_risk HTTP/1.1\" 200 -\n"
     ]
    },
    {
     "name": "stdout",
     "output_type": "stream",
     "text": [
      "activity Technology\n",
      "ProfileData for Investor id: 108\n",
      "The length of ProfileData is: (1, 20)\n",
      "Technology\n"
     ]
    },
    {
     "name": "stderr",
     "output_type": "stream",
     "text": [
      "127.0.0.1 - - [09/May/2024 00:53:40] \"POST /predict_tolerance_risk HTTP/1.1\" 200 -\n"
     ]
    },
    {
     "name": "stdout",
     "output_type": "stream",
     "text": [
      "activity Technology\n",
      "ProfileData for Investor id: 108\n",
      "The length of ProfileData is: (1, 20)\n",
      "Technology\n"
     ]
    },
    {
     "name": "stderr",
     "output_type": "stream",
     "text": [
      "127.0.0.1 - - [09/May/2024 00:53:46] \"POST /predict_tolerance_risk HTTP/1.1\" 200 -\n"
     ]
    },
    {
     "name": "stdout",
     "output_type": "stream",
     "text": [
      "activity Technology\n",
      "ProfileData for Investor id: 108\n",
      "The length of ProfileData is: (1, 20)\n",
      "Technology\n"
     ]
    },
    {
     "name": "stderr",
     "output_type": "stream",
     "text": [
      "127.0.0.1 - - [09/May/2024 00:54:56] \"POST /predict_tolerance_risk HTTP/1.1\" 200 -\n"
     ]
    },
    {
     "name": "stdout",
     "output_type": "stream",
     "text": [
      "activity Technology\n",
      "ProfileData for Investor id: 108\n",
      "The length of ProfileData is: (1, 20)\n",
      "Technology\n",
      "ProfileData for Investor id: 108\n",
      "The length of ProfileData is: (1, 20)\n",
      "Technology\n",
      "ProfileData for Investor id: 108\n",
      "The length of ProfileData is: (1, 20)\n",
      "Technology\n"
     ]
    },
    {
     "name": "stderr",
     "output_type": "stream",
     "text": [
      "127.0.0.1 - - [09/May/2024 00:55:03] \"POST /predict_tolerance_risk HTTP/1.1\" 200 -\n",
      "127.0.0.1 - - [09/May/2024 00:55:03] \"POST /predict_tolerance_risk HTTP/1.1\" 200 -\n"
     ]
    },
    {
     "name": "stdout",
     "output_type": "stream",
     "text": [
      "activity Technology\n",
      "activity Technology\n",
      "ProfileData for Investor id: 108\n",
      "The length of ProfileData is: (1, 20)\n",
      "Technology\n",
      "ProfileData for Investor id: 108\n",
      "The length of ProfileData is: (1, 20)\n",
      "Technology\n"
     ]
    },
    {
     "name": "stderr",
     "output_type": "stream",
     "text": [
      "127.0.0.1 - - [09/May/2024 00:55:05] \"POST /predict_tolerance_risk HTTP/1.1\" 200 -\n"
     ]
    },
    {
     "name": "stdout",
     "output_type": "stream",
     "text": [
      "activity Technology\n",
      "ProfileData for Investor id: 108\n",
      "The length of ProfileData is: (1, 20)\n",
      "Technology\n"
     ]
    },
    {
     "name": "stderr",
     "output_type": "stream",
     "text": [
      "127.0.0.1 - - [09/May/2024 00:55:08] \"POST /predict_tolerance_risk HTTP/1.1\" 200 -\n",
      "127.0.0.1 - - [09/May/2024 00:55:08] \"POST /predict_tolerance_risk HTTP/1.1\" 200 -\n"
     ]
    },
    {
     "name": "stdout",
     "output_type": "stream",
     "text": [
      "activity Technology\n",
      "activity Technology\n",
      "ProfileData for Investor id: 108\n",
      "The length of ProfileData is: (1, 20)\n",
      "Technology\n",
      "ProfileData for Investor id: 108\n",
      "The length of ProfileData is: (1, 20)\n",
      "Technology\n"
     ]
    },
    {
     "name": "stderr",
     "output_type": "stream",
     "text": [
      "127.0.0.1 - - [09/May/2024 00:55:10] \"POST /predict_tolerance_risk HTTP/1.1\" 200 -\n"
     ]
    },
    {
     "name": "stdout",
     "output_type": "stream",
     "text": [
      "activity Technology\n",
      "ProfileData for Investor id: 108\n",
      "The length of ProfileData is: (1, 20)\n",
      "Technology\n",
      "ProfileData for Investor id: 108\n",
      "The length of ProfileData is: (1, 20)\n",
      "Technology\n"
     ]
    },
    {
     "name": "stderr",
     "output_type": "stream",
     "text": [
      "127.0.0.1 - - [09/May/2024 00:55:12] \"POST /predict_tolerance_risk HTTP/1.1\" 200 -\n"
     ]
    },
    {
     "name": "stdout",
     "output_type": "stream",
     "text": [
      "activity Technology\n"
     ]
    },
    {
     "name": "stderr",
     "output_type": "stream",
     "text": [
      "127.0.0.1 - - [09/May/2024 00:55:13] \"POST /predict_tolerance_risk HTTP/1.1\" 200 -\n"
     ]
    },
    {
     "name": "stdout",
     "output_type": "stream",
     "text": [
      "activity Technology\n"
     ]
    },
    {
     "name": "stderr",
     "output_type": "stream",
     "text": [
      "127.0.0.1 - - [09/May/2024 00:55:15] \"POST /predict_tolerance_risk HTTP/1.1\" 200 -\n",
      "127.0.0.1 - - [09/May/2024 00:55:15] \"POST /predict_tolerance_risk HTTP/1.1\" 200 -\n"
     ]
    },
    {
     "name": "stdout",
     "output_type": "stream",
     "text": [
      "activity Technology\n",
      "activity Technology\n",
      "ProfileData for Investor id: 108\n",
      "The length of ProfileData is: (1, 20)\n",
      "Technology\n"
     ]
    },
    {
     "name": "stderr",
     "output_type": "stream",
     "text": [
      "127.0.0.1 - - [09/May/2024 00:55:18] \"POST /predict_tolerance_risk HTTP/1.1\" 200 -\n"
     ]
    },
    {
     "name": "stdout",
     "output_type": "stream",
     "text": [
      "activity Technology\n"
     ]
    },
    {
     "name": "stderr",
     "output_type": "stream",
     "text": [
      "127.0.0.1 - - [09/May/2024 00:55:51] \"OPTIONS /predict_tolerance_risk HTTP/1.1\" 200 -\n"
     ]
    },
    {
     "name": "stdout",
     "output_type": "stream",
     "text": [
      "ProfileData for Investor id: 108\n",
      "The length of ProfileData is: (1, 20)\n",
      "Technology\n"
     ]
    },
    {
     "name": "stderr",
     "output_type": "stream",
     "text": [
      "127.0.0.1 - - [09/May/2024 00:55:54] \"POST /predict_tolerance_risk HTTP/1.1\" 200 -\n"
     ]
    },
    {
     "name": "stdout",
     "output_type": "stream",
     "text": [
      "activity Technology\n",
      "ProfileData for Investor id: 108\n",
      "The length of ProfileData is: (1, 20)\n",
      "Technology\n"
     ]
    },
    {
     "name": "stderr",
     "output_type": "stream",
     "text": [
      "127.0.0.1 - - [09/May/2024 00:55:59] \"POST /predict_tolerance_risk HTTP/1.1\" 200 -\n"
     ]
    },
    {
     "name": "stdout",
     "output_type": "stream",
     "text": [
      "activity Technology\n",
      "ProfileData for Investor id: 108\n",
      "The length of ProfileData is: (1, 20)\n",
      "Technology\n",
      "ProfileData for Investor id: 108\n",
      "The length of ProfileData is: (1, 20)\n",
      "Technology\n"
     ]
    },
    {
     "name": "stderr",
     "output_type": "stream",
     "text": [
      "127.0.0.1 - - [09/May/2024 00:56:05] \"POST /predict_tolerance_risk HTTP/1.1\" 200 -\n"
     ]
    },
    {
     "name": "stdout",
     "output_type": "stream",
     "text": [
      "activity Technology\n"
     ]
    },
    {
     "name": "stderr",
     "output_type": "stream",
     "text": [
      "127.0.0.1 - - [09/May/2024 00:56:07] \"POST /predict_tolerance_risk HTTP/1.1\" 200 -\n"
     ]
    },
    {
     "name": "stdout",
     "output_type": "stream",
     "text": [
      "activity Technology\n",
      "ProfileData for Investor id: 108\n",
      "The length of ProfileData is: (1, 20)\n",
      "Technology\n"
     ]
    },
    {
     "name": "stderr",
     "output_type": "stream",
     "text": [
      "127.0.0.1 - - [09/May/2024 00:56:13] \"POST /predict_tolerance_risk HTTP/1.1\" 200 -\n"
     ]
    },
    {
     "name": "stdout",
     "output_type": "stream",
     "text": [
      "activity Technology\n",
      "ProfileData for Investor id: 108\n",
      "The length of ProfileData is: (1, 20)\n",
      "Technology\n",
      "ProfileData for Investor id: 108\n",
      "The length of ProfileData is: (1, 20)\n",
      "Technology\n",
      "ProfileData for Investor id: 108\n",
      "The length of ProfileData is: (1, 20)\n",
      "Technology\n"
     ]
    },
    {
     "name": "stderr",
     "output_type": "stream",
     "text": [
      "127.0.0.1 - - [09/May/2024 00:56:55] \"POST /predict_tolerance_risk HTTP/1.1\" 200 -\n"
     ]
    },
    {
     "name": "stdout",
     "output_type": "stream",
     "text": [
      "activity Technology\n"
     ]
    },
    {
     "name": "stderr",
     "output_type": "stream",
     "text": [
      "127.0.0.1 - - [09/May/2024 00:56:57] \"POST /predict_tolerance_risk HTTP/1.1\" 200 -\n"
     ]
    },
    {
     "name": "stdout",
     "output_type": "stream",
     "text": [
      "activity Technology\n",
      "ProfileData for Investor id: 108\n",
      "The length of ProfileData is: (1, 20)\n",
      "Technology\n"
     ]
    },
    {
     "name": "stderr",
     "output_type": "stream",
     "text": [
      "127.0.0.1 - - [09/May/2024 00:56:58] \"POST /predict_tolerance_risk HTTP/1.1\" 200 -\n"
     ]
    },
    {
     "name": "stdout",
     "output_type": "stream",
     "text": [
      "activity Technology\n",
      "ProfileData for Investor id: 108\n",
      "The length of ProfileData is: (1, 20)\n",
      "Technology\n",
      "ProfileData for Investor id: 108\n",
      "The length of ProfileData is: (1, 20)\n",
      "Technology\n"
     ]
    },
    {
     "name": "stderr",
     "output_type": "stream",
     "text": [
      "127.0.0.1 - - [09/May/2024 00:57:01] \"POST /predict_tolerance_risk HTTP/1.1\" 200 -\n"
     ]
    },
    {
     "name": "stdout",
     "output_type": "stream",
     "text": [
      "activity Technology\n"
     ]
    },
    {
     "name": "stderr",
     "output_type": "stream",
     "text": [
      "127.0.0.1 - - [09/May/2024 00:57:03] \"POST /predict_tolerance_risk HTTP/1.1\" 200 -\n"
     ]
    },
    {
     "name": "stdout",
     "output_type": "stream",
     "text": [
      "activity Technology\n"
     ]
    },
    {
     "name": "stderr",
     "output_type": "stream",
     "text": [
      "127.0.0.1 - - [09/May/2024 00:57:03] \"POST /predict_tolerance_risk HTTP/1.1\" 200 -\n"
     ]
    },
    {
     "name": "stdout",
     "output_type": "stream",
     "text": [
      "activity Technology\n",
      "ProfileData for Investor id: 108\n",
      "The length of ProfileData is: (1, 20)\n",
      "Technology\n"
     ]
    },
    {
     "name": "stderr",
     "output_type": "stream",
     "text": [
      "127.0.0.1 - - [09/May/2024 00:57:12] \"POST /predict_tolerance_risk HTTP/1.1\" 200 -\n"
     ]
    },
    {
     "name": "stdout",
     "output_type": "stream",
     "text": [
      "activity Technology\n",
      "ProfileData for Investor id: 108\n",
      "The length of ProfileData is: (1, 20)\n",
      "Technology\n"
     ]
    },
    {
     "name": "stderr",
     "output_type": "stream",
     "text": [
      "127.0.0.1 - - [09/May/2024 00:57:18] \"POST /predict_tolerance_risk HTTP/1.1\" 200 -\n"
     ]
    },
    {
     "name": "stdout",
     "output_type": "stream",
     "text": [
      "activity Technology\n",
      "ProfileData for Investor id: 108\n",
      "The length of ProfileData is: (1, 20)\n",
      "Technology\n"
     ]
    },
    {
     "name": "stderr",
     "output_type": "stream",
     "text": [
      "127.0.0.1 - - [09/May/2024 00:57:28] \"POST /predict_tolerance_risk HTTP/1.1\" 200 -\n"
     ]
    },
    {
     "name": "stdout",
     "output_type": "stream",
     "text": [
      "activity Technology\n",
      "ProfileData for Investor id: 108\n",
      "The length of ProfileData is: (1, 20)\n",
      "Technology\n"
     ]
    },
    {
     "name": "stderr",
     "output_type": "stream",
     "text": [
      "127.0.0.1 - - [09/May/2024 00:57:33] \"POST /predict_tolerance_risk HTTP/1.1\" 200 -\n"
     ]
    },
    {
     "name": "stdout",
     "output_type": "stream",
     "text": [
      "activity Technology\n"
     ]
    },
    {
     "name": "stderr",
     "output_type": "stream",
     "text": [
      "127.0.0.1 - - [09/May/2024 01:02:37] \"OPTIONS /predict_tolerance_risk HTTP/1.1\" 200 -\n"
     ]
    },
    {
     "name": "stdout",
     "output_type": "stream",
     "text": [
      "ProfileData for Investor id: 108\n",
      "The length of ProfileData is: (1, 20)\n",
      "Technology\n"
     ]
    },
    {
     "name": "stderr",
     "output_type": "stream",
     "text": [
      "127.0.0.1 - - [09/May/2024 01:02:40] \"POST /predict_tolerance_risk HTTP/1.1\" 200 -\n"
     ]
    },
    {
     "name": "stdout",
     "output_type": "stream",
     "text": [
      "activity Technology\n"
     ]
    },
    {
     "name": "stderr",
     "output_type": "stream",
     "text": [
      "127.0.0.1 - - [09/May/2024 01:03:07] \"OPTIONS /predict_tolerance_risk HTTP/1.1\" 200 -\n"
     ]
    },
    {
     "name": "stdout",
     "output_type": "stream",
     "text": [
      "ProfileData for Investor id: 108\n",
      "The length of ProfileData is: (1, 20)\n",
      "Technology\n"
     ]
    },
    {
     "name": "stderr",
     "output_type": "stream",
     "text": [
      "127.0.0.1 - - [09/May/2024 01:03:10] \"POST /predict_tolerance_risk HTTP/1.1\" 200 -\n"
     ]
    },
    {
     "name": "stdout",
     "output_type": "stream",
     "text": [
      "activity Technology\n",
      "ProfileData for Investor id: 108\n",
      "The length of ProfileData is: (1, 20)\n",
      "Technology\n"
     ]
    },
    {
     "name": "stderr",
     "output_type": "stream",
     "text": [
      "127.0.0.1 - - [09/May/2024 01:03:21] \"POST /predict_tolerance_risk HTTP/1.1\" 200 -\n"
     ]
    },
    {
     "name": "stdout",
     "output_type": "stream",
     "text": [
      "activity Technology\n",
      "ProfileData for Investor id: 108\n",
      "The length of ProfileData is: (1, 20)\n",
      "Technology\n"
     ]
    },
    {
     "name": "stderr",
     "output_type": "stream",
     "text": [
      "127.0.0.1 - - [09/May/2024 01:03:26] \"POST /predict_tolerance_risk HTTP/1.1\" 200 -\n"
     ]
    },
    {
     "name": "stdout",
     "output_type": "stream",
     "text": [
      "activity Technology\n",
      "ProfileData for Investor id: 108\n",
      "The length of ProfileData is: (1, 20)\n",
      "Technology\n"
     ]
    },
    {
     "name": "stderr",
     "output_type": "stream",
     "text": [
      "127.0.0.1 - - [09/May/2024 01:03:52] \"POST /predict_tolerance_risk HTTP/1.1\" 200 -\n"
     ]
    },
    {
     "name": "stdout",
     "output_type": "stream",
     "text": [
      "activity Technology\n",
      "ProfileData for Investor id: 108\n",
      "The length of ProfileData is: (1, 20)\n",
      "Technology\n"
     ]
    },
    {
     "name": "stderr",
     "output_type": "stream",
     "text": [
      "127.0.0.1 - - [09/May/2024 01:03:56] \"POST /predict_tolerance_risk HTTP/1.1\" 200 -\n"
     ]
    },
    {
     "name": "stdout",
     "output_type": "stream",
     "text": [
      "activity Technology\n"
     ]
    },
    {
     "name": "stderr",
     "output_type": "stream",
     "text": [
      "127.0.0.1 - - [09/May/2024 01:06:24] \"OPTIONS /predict_tolerance_risk HTTP/1.1\" 200 -\n"
     ]
    },
    {
     "name": "stdout",
     "output_type": "stream",
     "text": [
      "ProfileData for Investor id: 108\n",
      "The length of ProfileData is: (1, 20)\n",
      "Technology\n"
     ]
    },
    {
     "name": "stderr",
     "output_type": "stream",
     "text": [
      "127.0.0.1 - - [09/May/2024 01:06:26] \"POST /predict_tolerance_risk HTTP/1.1\" 200 -\n"
     ]
    },
    {
     "name": "stdout",
     "output_type": "stream",
     "text": [
      "activity Technology\n",
      "ProfileData for Investor id: 108\n",
      "The length of ProfileData is: (1, 20)\n",
      "Technology\n"
     ]
    },
    {
     "name": "stderr",
     "output_type": "stream",
     "text": [
      "127.0.0.1 - - [09/May/2024 01:07:03] \"POST /predict_tolerance_risk HTTP/1.1\" 200 -\n"
     ]
    },
    {
     "name": "stdout",
     "output_type": "stream",
     "text": [
      "activity Technology\n",
      "ProfileData for Investor id: 108\n",
      "The length of ProfileData is: (1, 20)\n",
      "Technology\n"
     ]
    },
    {
     "name": "stderr",
     "output_type": "stream",
     "text": [
      "127.0.0.1 - - [09/May/2024 01:07:08] \"POST /predict_tolerance_risk HTTP/1.1\" 200 -\n"
     ]
    },
    {
     "name": "stdout",
     "output_type": "stream",
     "text": [
      "activity Technology\n"
     ]
    },
    {
     "name": "stderr",
     "output_type": "stream",
     "text": [
      "127.0.0.1 - - [09/May/2024 01:07:13] \"OPTIONS /predict_tolerance_risk HTTP/1.1\" 200 -\n"
     ]
    },
    {
     "name": "stdout",
     "output_type": "stream",
     "text": [
      "ProfileData for Investor id: 108\n",
      "The length of ProfileData is: (1, 20)\n",
      "Technology\n"
     ]
    },
    {
     "name": "stderr",
     "output_type": "stream",
     "text": [
      "127.0.0.1 - - [09/May/2024 01:07:18] \"POST /predict_tolerance_risk HTTP/1.1\" 200 -\n"
     ]
    },
    {
     "name": "stdout",
     "output_type": "stream",
     "text": [
      "activity Technology\n",
      "ProfileData for Investor id: 108\n",
      "The length of ProfileData is: (1, 20)\n",
      "Technology\n"
     ]
    },
    {
     "name": "stderr",
     "output_type": "stream",
     "text": [
      "127.0.0.1 - - [09/May/2024 01:08:20] \"POST /predict_tolerance_risk HTTP/1.1\" 200 -\n"
     ]
    },
    {
     "name": "stdout",
     "output_type": "stream",
     "text": [
      "activity Technology\n",
      "ProfileData for Investor id: 108\n",
      "The length of ProfileData is: (1, 20)\n",
      "Technology\n"
     ]
    },
    {
     "name": "stderr",
     "output_type": "stream",
     "text": [
      "127.0.0.1 - - [09/May/2024 01:08:24] \"POST /predict_tolerance_risk HTTP/1.1\" 200 -\n"
     ]
    },
    {
     "name": "stdout",
     "output_type": "stream",
     "text": [
      "activity Technology\n"
     ]
    },
    {
     "name": "stderr",
     "output_type": "stream",
     "text": [
      "127.0.0.1 - - [09/May/2024 01:08:27] \"OPTIONS /predict_tolerance_risk HTTP/1.1\" 200 -\n"
     ]
    },
    {
     "name": "stdout",
     "output_type": "stream",
     "text": [
      "ProfileData for Investor id: 108\n",
      "The length of ProfileData is: (1, 20)\n",
      "Technology\n"
     ]
    },
    {
     "name": "stderr",
     "output_type": "stream",
     "text": [
      "127.0.0.1 - - [09/May/2024 01:08:30] \"POST /predict_tolerance_risk HTTP/1.1\" 200 -\n"
     ]
    },
    {
     "name": "stdout",
     "output_type": "stream",
     "text": [
      "activity Technology\n"
     ]
    },
    {
     "name": "stderr",
     "output_type": "stream",
     "text": [
      "127.0.0.1 - - [09/May/2024 01:08:43] \"OPTIONS /predict_tolerance_risk HTTP/1.1\" 200 -\n"
     ]
    },
    {
     "name": "stdout",
     "output_type": "stream",
     "text": [
      "ProfileData for Investor id: 108\n",
      "The length of ProfileData is: (1, 20)\n",
      "Technology\n"
     ]
    },
    {
     "name": "stderr",
     "output_type": "stream",
     "text": [
      "127.0.0.1 - - [09/May/2024 01:08:46] \"POST /predict_tolerance_risk HTTP/1.1\" 200 -\n"
     ]
    },
    {
     "name": "stdout",
     "output_type": "stream",
     "text": [
      "activity Technology\n",
      "ProfileData for Investor id: 108\n",
      "The length of ProfileData is: (1, 20)\n",
      "Technology\n"
     ]
    },
    {
     "name": "stderr",
     "output_type": "stream",
     "text": [
      "127.0.0.1 - - [09/May/2024 01:09:26] \"POST /predict_tolerance_risk HTTP/1.1\" 200 -\n"
     ]
    },
    {
     "name": "stdout",
     "output_type": "stream",
     "text": [
      "activity Technology\n",
      "ProfileData for Investor id: 108\n",
      "The length of ProfileData is: (1, 20)\n",
      "Technology\n"
     ]
    },
    {
     "name": "stderr",
     "output_type": "stream",
     "text": [
      "127.0.0.1 - - [09/May/2024 01:09:31] \"POST /predict_tolerance_risk HTTP/1.1\" 200 -\n"
     ]
    },
    {
     "name": "stdout",
     "output_type": "stream",
     "text": [
      "activity Technology\n",
      "ProfileData for Investor id: 108\n",
      "The length of ProfileData is: (1, 20)\n",
      "Technology\n"
     ]
    },
    {
     "name": "stderr",
     "output_type": "stream",
     "text": [
      "127.0.0.1 - - [09/May/2024 01:09:39] \"POST /predict_tolerance_risk HTTP/1.1\" 200 -\n"
     ]
    },
    {
     "name": "stdout",
     "output_type": "stream",
     "text": [
      "activity Technology\n",
      "ProfileData for Investor id: 108\n",
      "The length of ProfileData is: (1, 20)\n",
      "Technology\n"
     ]
    },
    {
     "name": "stderr",
     "output_type": "stream",
     "text": [
      "127.0.0.1 - - [09/May/2024 01:09:44] \"POST /predict_tolerance_risk HTTP/1.1\" 200 -\n"
     ]
    },
    {
     "name": "stdout",
     "output_type": "stream",
     "text": [
      "activity Technology\n"
     ]
    },
    {
     "name": "stderr",
     "output_type": "stream",
     "text": [
      "127.0.0.1 - - [09/May/2024 01:12:11] \"OPTIONS /predict_tolerance_risk HTTP/1.1\" 200 -\n"
     ]
    },
    {
     "name": "stdout",
     "output_type": "stream",
     "text": [
      "ProfileData for Investor id: 108\n",
      "The length of ProfileData is: (1, 20)\n",
      "Technology\n"
     ]
    },
    {
     "name": "stderr",
     "output_type": "stream",
     "text": [
      "127.0.0.1 - - [09/May/2024 01:12:13] \"POST /predict_tolerance_risk HTTP/1.1\" 200 -\n"
     ]
    },
    {
     "name": "stdout",
     "output_type": "stream",
     "text": [
      "activity Technology\n",
      "ProfileData for Investor id: 108\n",
      "The length of ProfileData is: (1, 20)\n",
      "Technology\n"
     ]
    },
    {
     "name": "stderr",
     "output_type": "stream",
     "text": [
      "127.0.0.1 - - [09/May/2024 01:12:49] \"POST /predict_tolerance_risk HTTP/1.1\" 200 -\n"
     ]
    },
    {
     "name": "stdout",
     "output_type": "stream",
     "text": [
      "activity Technology\n",
      "ProfileData for Investor id: 108\n",
      "The length of ProfileData is: (1, 20)\n",
      "Technology\n"
     ]
    },
    {
     "name": "stderr",
     "output_type": "stream",
     "text": [
      "127.0.0.1 - - [09/May/2024 01:12:53] \"POST /predict_tolerance_risk HTTP/1.1\" 200 -\n"
     ]
    },
    {
     "name": "stdout",
     "output_type": "stream",
     "text": [
      "activity Technology\n"
     ]
    },
    {
     "name": "stderr",
     "output_type": "stream",
     "text": [
      "127.0.0.1 - - [09/May/2024 01:13:42] \"OPTIONS /predict_tolerance_risk HTTP/1.1\" 200 -\n"
     ]
    },
    {
     "name": "stdout",
     "output_type": "stream",
     "text": [
      "ProfileData for Investor id: 108\n",
      "The length of ProfileData is: (1, 20)\n",
      "Technology\n"
     ]
    },
    {
     "name": "stderr",
     "output_type": "stream",
     "text": [
      "127.0.0.1 - - [09/May/2024 01:13:45] \"POST /predict_tolerance_risk HTTP/1.1\" 200 -\n"
     ]
    },
    {
     "name": "stdout",
     "output_type": "stream",
     "text": [
      "activity Technology\n",
      "ProfileData for Investor id: 108\n",
      "The length of ProfileData is: (1, 20)\n",
      "Technology\n"
     ]
    },
    {
     "name": "stderr",
     "output_type": "stream",
     "text": [
      "127.0.0.1 - - [09/May/2024 01:14:21] \"POST /predict_tolerance_risk HTTP/1.1\" 200 -\n"
     ]
    },
    {
     "name": "stdout",
     "output_type": "stream",
     "text": [
      "activity Technology\n",
      "ProfileData for Investor id: 108\n",
      "The length of ProfileData is: (1, 20)\n",
      "Technology\n"
     ]
    },
    {
     "name": "stderr",
     "output_type": "stream",
     "text": [
      "127.0.0.1 - - [09/May/2024 01:14:25] \"POST /predict_tolerance_risk HTTP/1.1\" 200 -\n"
     ]
    },
    {
     "name": "stdout",
     "output_type": "stream",
     "text": [
      "activity Technology\n"
     ]
    },
    {
     "name": "stderr",
     "output_type": "stream",
     "text": [
      "127.0.0.1 - - [09/May/2024 01:16:13] \"OPTIONS /predict_tolerance_risk HTTP/1.1\" 200 -\n"
     ]
    },
    {
     "name": "stdout",
     "output_type": "stream",
     "text": [
      "ProfileData for Investor id: 108\n",
      "The length of ProfileData is: (1, 20)\n",
      "Technology\n"
     ]
    },
    {
     "name": "stderr",
     "output_type": "stream",
     "text": [
      "127.0.0.1 - - [09/May/2024 01:16:16] \"POST /predict_tolerance_risk HTTP/1.1\" 200 -\n"
     ]
    },
    {
     "name": "stdout",
     "output_type": "stream",
     "text": [
      "activity Technology\n",
      "ProfileData for Investor id: 108\n",
      "The length of ProfileData is: (1, 20)\n",
      "Technology\n"
     ]
    },
    {
     "name": "stderr",
     "output_type": "stream",
     "text": [
      "127.0.0.1 - - [09/May/2024 01:16:51] \"POST /predict_tolerance_risk HTTP/1.1\" 200 -\n"
     ]
    },
    {
     "name": "stdout",
     "output_type": "stream",
     "text": [
      "activity Technology\n",
      "ProfileData for Investor id: 108\n",
      "The length of ProfileData is: (1, 20)\n",
      "Technology\n"
     ]
    },
    {
     "name": "stderr",
     "output_type": "stream",
     "text": [
      "127.0.0.1 - - [09/May/2024 01:16:56] \"POST /predict_tolerance_risk HTTP/1.1\" 200 -\n"
     ]
    },
    {
     "name": "stdout",
     "output_type": "stream",
     "text": [
      "activity Technology\n"
     ]
    },
    {
     "name": "stderr",
     "output_type": "stream",
     "text": [
      "127.0.0.1 - - [09/May/2024 04:20:13] \"OPTIONS /predict_tolerance_risk HTTP/1.1\" 200 -\n"
     ]
    },
    {
     "name": "stdout",
     "output_type": "stream",
     "text": [
      "ProfileData for Investor id: 108\n",
      "The length of ProfileData is: (1, 20)\n",
      "Technology\n"
     ]
    },
    {
     "name": "stderr",
     "output_type": "stream",
     "text": [
      "127.0.0.1 - - [09/May/2024 04:20:19] \"POST /predict_tolerance_risk HTTP/1.1\" 200 -\n"
     ]
    },
    {
     "name": "stdout",
     "output_type": "stream",
     "text": [
      "activity Technology\n",
      "ProfileData for Investor id: 108\n",
      "The length of ProfileData is: (1, 20)\n",
      "Technology\n"
     ]
    },
    {
     "name": "stderr",
     "output_type": "stream",
     "text": [
      "127.0.0.1 - - [09/May/2024 04:20:56] \"POST /predict_tolerance_risk HTTP/1.1\" 200 -\n"
     ]
    },
    {
     "name": "stdout",
     "output_type": "stream",
     "text": [
      "activity Technology\n",
      "ProfileData for Investor id: 108\n",
      "The length of ProfileData is: (1, 20)\n",
      "Technology\n"
     ]
    },
    {
     "name": "stderr",
     "output_type": "stream",
     "text": [
      "127.0.0.1 - - [09/May/2024 04:20:59] \"POST /predict_tolerance_risk HTTP/1.1\" 200 -\n"
     ]
    },
    {
     "name": "stdout",
     "output_type": "stream",
     "text": [
      "activity Technology\n"
     ]
    },
    {
     "name": "stderr",
     "output_type": "stream",
     "text": [
      "127.0.0.1 - - [09/May/2024 10:32:40] \"OPTIONS /predict_tolerance_risk HTTP/1.1\" 200 -\n"
     ]
    },
    {
     "name": "stdout",
     "output_type": "stream",
     "text": [
      "ProfileData for Investor id: 108\n",
      "The length of ProfileData is: (1, 20)\n",
      "Technology\n"
     ]
    },
    {
     "name": "stderr",
     "output_type": "stream",
     "text": [
      "127.0.0.1 - - [09/May/2024 10:32:43] \"POST /predict_tolerance_risk HTTP/1.1\" 200 -\n"
     ]
    },
    {
     "name": "stdout",
     "output_type": "stream",
     "text": [
      "activity Technology\n",
      "ProfileData for Investor id: 108\n",
      "The length of ProfileData is: (1, 20)\n",
      "Technology\n"
     ]
    },
    {
     "name": "stderr",
     "output_type": "stream",
     "text": [
      "127.0.0.1 - - [09/May/2024 10:33:18] \"POST /predict_tolerance_risk HTTP/1.1\" 200 -\n"
     ]
    },
    {
     "name": "stdout",
     "output_type": "stream",
     "text": [
      "activity Technology\n",
      "ProfileData for Investor id: 108\n",
      "The length of ProfileData is: (1, 20)\n",
      "Technology\n"
     ]
    },
    {
     "name": "stderr",
     "output_type": "stream",
     "text": [
      "127.0.0.1 - - [09/May/2024 10:33:22] \"POST /predict_tolerance_risk HTTP/1.1\" 200 -\n"
     ]
    },
    {
     "name": "stdout",
     "output_type": "stream",
     "text": [
      "activity Technology\n"
     ]
    },
    {
     "name": "stderr",
     "output_type": "stream",
     "text": [
      "127.0.0.1 - - [09/May/2024 10:45:14] \"OPTIONS /predict_tolerance_risk HTTP/1.1\" 200 -\n"
     ]
    },
    {
     "name": "stdout",
     "output_type": "stream",
     "text": [
      "ProfileData for Investor id: 108\n",
      "The length of ProfileData is: (1, 20)\n",
      "Technology\n"
     ]
    },
    {
     "name": "stderr",
     "output_type": "stream",
     "text": [
      "127.0.0.1 - - [09/May/2024 10:45:14] \"OPTIONS /predict_tolerance_risk HTTP/1.1\" 200 -\n"
     ]
    },
    {
     "name": "stdout",
     "output_type": "stream",
     "text": [
      "ProfileData for Investor id: 108\n",
      "The length of ProfileData is: (1, 20)\n",
      "Technology\n"
     ]
    },
    {
     "name": "stderr",
     "output_type": "stream",
     "text": [
      "127.0.0.1 - - [09/May/2024 10:45:17] \"POST /predict_tolerance_risk HTTP/1.1\" 200 -\n",
      "127.0.0.1 - - [09/May/2024 10:45:17] \"POST /predict_tolerance_risk HTTP/1.1\" 200 -\n"
     ]
    },
    {
     "name": "stdout",
     "output_type": "stream",
     "text": [
      "activity Technology\n",
      "activity Technology\n"
     ]
    },
    {
     "name": "stderr",
     "output_type": "stream",
     "text": [
      "127.0.0.1 - - [09/May/2024 10:45:31] \"OPTIONS /predict_tolerance_risk HTTP/1.1\" 200 -\n"
     ]
    },
    {
     "name": "stdout",
     "output_type": "stream",
     "text": [
      "ProfileData for Investor id: 108\n",
      "The length of ProfileData is: (1, 20)\n",
      "Technology\n",
      "ProfileData for Investor id: 108\n",
      "The length of ProfileData is: (1, 20)\n",
      "Technology\n"
     ]
    },
    {
     "name": "stderr",
     "output_type": "stream",
     "text": [
      "127.0.0.1 - - [09/May/2024 10:45:35] \"POST /predict_tolerance_risk HTTP/1.1\" 200 -\n",
      "127.0.0.1 - - [09/May/2024 10:45:35] \"POST /predict_tolerance_risk HTTP/1.1\" 200 -\n"
     ]
    },
    {
     "name": "stdout",
     "output_type": "stream",
     "text": [
      "activity Technology\n",
      "activity Technology\n"
     ]
    },
    {
     "name": "stderr",
     "output_type": "stream",
     "text": [
      "127.0.0.1 - - [09/May/2024 10:45:48] \"OPTIONS /predict_tolerance_risk HTTP/1.1\" 200 -\n"
     ]
    },
    {
     "name": "stdout",
     "output_type": "stream",
     "text": [
      "ProfileData for Investor id: 108\n",
      "The length of ProfileData is: (1, 20)\n",
      "Technology\n"
     ]
    },
    {
     "name": "stderr",
     "output_type": "stream",
     "text": [
      "127.0.0.1 - - [09/May/2024 10:45:52] \"POST /predict_tolerance_risk HTTP/1.1\" 200 -\n"
     ]
    },
    {
     "name": "stdout",
     "output_type": "stream",
     "text": [
      "activity Technology\n"
     ]
    },
    {
     "name": "stderr",
     "output_type": "stream",
     "text": [
      "127.0.0.1 - - [09/May/2024 10:46:10] \"OPTIONS /predict_tolerance_risk HTTP/1.1\" 200 -\n"
     ]
    },
    {
     "name": "stdout",
     "output_type": "stream",
     "text": [
      "ProfileData for Investor id: 108\n",
      "The length of ProfileData is: (1, 20)\n",
      "Technology\n"
     ]
    },
    {
     "name": "stderr",
     "output_type": "stream",
     "text": [
      "127.0.0.1 - - [09/May/2024 10:46:14] \"POST /predict_tolerance_risk HTTP/1.1\" 200 -\n"
     ]
    },
    {
     "name": "stdout",
     "output_type": "stream",
     "text": [
      "activity Technology\n"
     ]
    },
    {
     "name": "stderr",
     "output_type": "stream",
     "text": [
      "127.0.0.1 - - [09/May/2024 10:46:43] \"OPTIONS /predict_tolerance_risk HTTP/1.1\" 200 -\n"
     ]
    },
    {
     "name": "stdout",
     "output_type": "stream",
     "text": [
      "ProfileData for Investor id: 108\n",
      "The length of ProfileData is: (1, 20)\n",
      "Technology\n"
     ]
    },
    {
     "name": "stderr",
     "output_type": "stream",
     "text": [
      "127.0.0.1 - - [09/May/2024 10:46:46] \"OPTIONS /predict_tolerance_risk HTTP/1.1\" 200 -\n"
     ]
    },
    {
     "name": "stdout",
     "output_type": "stream",
     "text": [
      "ProfileData for Investor id: 108\n",
      "The length of ProfileData is: (1, 20)\n",
      "Technology\n"
     ]
    },
    {
     "name": "stderr",
     "output_type": "stream",
     "text": [
      "127.0.0.1 - - [09/May/2024 10:46:47] \"POST /predict_tolerance_risk HTTP/1.1\" 200 -\n"
     ]
    },
    {
     "name": "stdout",
     "output_type": "stream",
     "text": [
      "activity Technology\n"
     ]
    },
    {
     "name": "stderr",
     "output_type": "stream",
     "text": [
      "127.0.0.1 - - [09/May/2024 10:46:49] \"POST /predict_tolerance_risk HTTP/1.1\" 200 -\n"
     ]
    },
    {
     "name": "stdout",
     "output_type": "stream",
     "text": [
      "activity Technology\n"
     ]
    },
    {
     "name": "stderr",
     "output_type": "stream",
     "text": [
      "127.0.0.1 - - [09/May/2024 10:47:07] \"OPTIONS /predict_tolerance_risk HTTP/1.1\" 200 -\n"
     ]
    },
    {
     "name": "stdout",
     "output_type": "stream",
     "text": [
      "ProfileData for Investor id: 108\n",
      "The length of ProfileData is: (1, 20)\n",
      "Technology\n"
     ]
    },
    {
     "name": "stderr",
     "output_type": "stream",
     "text": [
      "127.0.0.1 - - [09/May/2024 10:47:10] \"POST /predict_tolerance_risk HTTP/1.1\" 200 -\n"
     ]
    },
    {
     "name": "stdout",
     "output_type": "stream",
     "text": [
      "activity Technology\n",
      "ProfileData for Investor id: 108\n",
      "The length of ProfileData is: (1, 20)\n",
      "Technology\n"
     ]
    },
    {
     "name": "stderr",
     "output_type": "stream",
     "text": [
      "127.0.0.1 - - [09/May/2024 10:49:16] \"POST /predict_tolerance_risk HTTP/1.1\" 200 -\n"
     ]
    },
    {
     "name": "stdout",
     "output_type": "stream",
     "text": [
      "activity Technology\n",
      "ProfileData for Investor id: 108\n",
      "The length of ProfileData is: (1, 20)\n",
      "Technology\n"
     ]
    },
    {
     "name": "stderr",
     "output_type": "stream",
     "text": [
      "127.0.0.1 - - [09/May/2024 10:49:22] \"POST /predict_tolerance_risk HTTP/1.1\" 200 -\n"
     ]
    },
    {
     "name": "stdout",
     "output_type": "stream",
     "text": [
      "activity Technology\n",
      "ProfileData for Investor id: 108\n",
      "The length of ProfileData is: (1, 20)\n",
      "Technology\n"
     ]
    },
    {
     "name": "stderr",
     "output_type": "stream",
     "text": [
      "127.0.0.1 - - [09/May/2024 10:49:28] \"POST /predict_tolerance_risk HTTP/1.1\" 200 -\n"
     ]
    },
    {
     "name": "stdout",
     "output_type": "stream",
     "text": [
      "activity Technology\n",
      "ProfileData for Investor id: 108\n",
      "The length of ProfileData is: (1, 20)\n",
      "Technology\n"
     ]
    },
    {
     "name": "stderr",
     "output_type": "stream",
     "text": [
      "127.0.0.1 - - [09/May/2024 10:49:34] \"POST /predict_tolerance_risk HTTP/1.1\" 200 -\n"
     ]
    },
    {
     "name": "stdout",
     "output_type": "stream",
     "text": [
      "activity Technology\n",
      "ProfileData for Investor id: 108\n",
      "The length of ProfileData is: (1, 20)\n",
      "Technology\n"
     ]
    },
    {
     "name": "stderr",
     "output_type": "stream",
     "text": [
      "127.0.0.1 - - [09/May/2024 10:50:20] \"POST /predict_tolerance_risk HTTP/1.1\" 200 -\n"
     ]
    },
    {
     "name": "stdout",
     "output_type": "stream",
     "text": [
      "ProfileData for Investor id: 108\n",
      "The length of ProfileData is: (1, 20)\n",
      "Technology\n",
      "activity Technology\n",
      "ProfileData for Investor id: 108\n",
      "The length of ProfileData is: (1, 20)\n",
      "Technology\n"
     ]
    },
    {
     "name": "stderr",
     "output_type": "stream",
     "text": [
      "127.0.0.1 - - [09/May/2024 10:50:23] \"POST /predict_tolerance_risk HTTP/1.1\" 200 -\n"
     ]
    },
    {
     "name": "stdout",
     "output_type": "stream",
     "text": [
      "activity Technology\n"
     ]
    },
    {
     "name": "stderr",
     "output_type": "stream",
     "text": [
      "127.0.0.1 - - [09/May/2024 10:50:26] \"POST /predict_tolerance_risk HTTP/1.1\" 200 -\n"
     ]
    },
    {
     "name": "stdout",
     "output_type": "stream",
     "text": [
      "activity Technology\n",
      "ProfileData for Investor id: 108\n",
      "The length of ProfileData is: (1, 20)\n",
      "Technology\n"
     ]
    },
    {
     "name": "stderr",
     "output_type": "stream",
     "text": [
      "127.0.0.1 - - [09/May/2024 10:50:29] \"POST /predict_tolerance_risk HTTP/1.1\" 200 -\n"
     ]
    },
    {
     "name": "stdout",
     "output_type": "stream",
     "text": [
      "activity Technology\n",
      "ProfileData for Investor id: 108\n",
      "The length of ProfileData is: (1, 20)\n",
      "Technology\n"
     ]
    },
    {
     "name": "stderr",
     "output_type": "stream",
     "text": [
      "127.0.0.1 - - [09/May/2024 10:50:42] \"POST /predict_tolerance_risk HTTP/1.1\" 200 -\n"
     ]
    },
    {
     "name": "stdout",
     "output_type": "stream",
     "text": [
      "activity Technology\n",
      "ProfileData for Investor id: 108\n",
      "The length of ProfileData is: (1, 20)\n",
      "Technology\n"
     ]
    },
    {
     "name": "stderr",
     "output_type": "stream",
     "text": [
      "127.0.0.1 - - [09/May/2024 10:50:47] \"POST /predict_tolerance_risk HTTP/1.1\" 200 -\n"
     ]
    },
    {
     "name": "stdout",
     "output_type": "stream",
     "text": [
      "activity Technology\n",
      "ProfileData for Investor id: 108\n",
      "The length of ProfileData is: (1, 20)\n",
      "Technology\n"
     ]
    },
    {
     "name": "stderr",
     "output_type": "stream",
     "text": [
      "127.0.0.1 - - [09/May/2024 10:51:02] \"POST /predict_tolerance_risk HTTP/1.1\" 200 -\n"
     ]
    },
    {
     "name": "stdout",
     "output_type": "stream",
     "text": [
      "activity Technology\n",
      "ProfileData for Investor id: 108\n",
      "The length of ProfileData is: (1, 20)\n",
      "Technology\n"
     ]
    },
    {
     "name": "stderr",
     "output_type": "stream",
     "text": [
      "127.0.0.1 - - [09/May/2024 10:51:08] \"POST /predict_tolerance_risk HTTP/1.1\" 200 -\n"
     ]
    },
    {
     "name": "stdout",
     "output_type": "stream",
     "text": [
      "activity Technology\n",
      "ProfileData for Investor id: 108\n",
      "The length of ProfileData is: (1, 20)\n",
      "Technology\n",
      "ProfileData for Investor id: 108\n",
      "The length of ProfileData is: (1, 20)\n",
      "Technology\n",
      "ProfileData for Investor id: 108\n",
      "The length of ProfileData is: (1, 20)\n",
      "Technology\n",
      "ProfileData for Investor id: 108\n",
      "The length of ProfileData is: (1, 20)\n",
      "Technology\n"
     ]
    },
    {
     "name": "stderr",
     "output_type": "stream",
     "text": [
      "127.0.0.1 - - [09/May/2024 10:51:20] \"POST /predict_tolerance_risk HTTP/1.1\" 200 -\n"
     ]
    },
    {
     "name": "stdout",
     "output_type": "stream",
     "text": [
      "activity Technology\n"
     ]
    },
    {
     "name": "stderr",
     "output_type": "stream",
     "text": [
      "127.0.0.1 - - [09/May/2024 10:51:22] \"POST /predict_tolerance_risk HTTP/1.1\" 200 -\n",
      "127.0.0.1 - - [09/May/2024 10:51:22] \"POST /predict_tolerance_risk HTTP/1.1\" 200 -\n"
     ]
    },
    {
     "name": "stdout",
     "output_type": "stream",
     "text": [
      "activity Technology\n",
      "activity Technology\n",
      "ProfileData for Investor id: 108\n",
      "The length of ProfileData is: (1, 20)\n",
      "Technology\n"
     ]
    },
    {
     "name": "stderr",
     "output_type": "stream",
     "text": [
      "127.0.0.1 - - [09/May/2024 10:51:23] \"POST /predict_tolerance_risk HTTP/1.1\" 200 -\n"
     ]
    },
    {
     "name": "stdout",
     "output_type": "stream",
     "text": [
      "activity Technology\n",
      "ProfileData for Investor id: 108\n",
      "The length of ProfileData is: (1, 20)\n",
      "TechnologyProfileData for Investor id:\n",
      " 108\n",
      "The length of ProfileData is: (1, 20)\n",
      "Technology\n",
      "ProfileData for Investor id: 108\n",
      "The length of ProfileData is: (1, 20)\n",
      "Technology\n"
     ]
    },
    {
     "name": "stderr",
     "output_type": "stream",
     "text": [
      "127.0.0.1 - - [09/May/2024 10:51:26] \"POST /predict_tolerance_risk HTTP/1.1\" 200 -\n"
     ]
    },
    {
     "name": "stdout",
     "output_type": "stream",
     "text": [
      "activity Technology\n"
     ]
    },
    {
     "name": "stderr",
     "output_type": "stream",
     "text": [
      "127.0.0.1 - - [09/May/2024 10:51:27] \"POST /predict_tolerance_risk HTTP/1.1\" 200 -\n",
      "127.0.0.1 - - [09/May/2024 10:51:27] \"POST /predict_tolerance_risk HTTP/1.1\" 200 -\n"
     ]
    },
    {
     "name": "stdout",
     "output_type": "stream",
     "text": [
      "activity Technology\n",
      "activity Technology\n"
     ]
    },
    {
     "name": "stderr",
     "output_type": "stream",
     "text": [
      "127.0.0.1 - - [09/May/2024 10:51:28] \"POST /predict_tolerance_risk HTTP/1.1\" 200 -\n"
     ]
    },
    {
     "name": "stdout",
     "output_type": "stream",
     "text": [
      "activity Technology\n"
     ]
    },
    {
     "name": "stderr",
     "output_type": "stream",
     "text": [
      "127.0.0.1 - - [09/May/2024 10:53:08] \"OPTIONS /predict_tolerance_risk HTTP/1.1\" 200 -\n"
     ]
    },
    {
     "name": "stdout",
     "output_type": "stream",
     "text": [
      "ProfileData for Investor id: 108\n",
      "The length of ProfileData is: (1, 20)\n",
      "Technology\n"
     ]
    },
    {
     "name": "stderr",
     "output_type": "stream",
     "text": [
      "127.0.0.1 - - [09/May/2024 10:53:08] \"OPTIONS /predict_tolerance_risk HTTP/1.1\" 200 -\n"
     ]
    },
    {
     "name": "stdout",
     "output_type": "stream",
     "text": [
      "ProfileData for Investor id: 108\n",
      "The length of ProfileData is: (1, 20)\n",
      "Technology\n"
     ]
    },
    {
     "name": "stderr",
     "output_type": "stream",
     "text": [
      "127.0.0.1 - - [09/May/2024 10:53:11] \"POST /predict_tolerance_risk HTTP/1.1\" 200 -\n"
     ]
    },
    {
     "name": "stdout",
     "output_type": "stream",
     "text": [
      "activity Technology\n"
     ]
    },
    {
     "name": "stderr",
     "output_type": "stream",
     "text": [
      "127.0.0.1 - - [09/May/2024 10:53:11] \"POST /predict_tolerance_risk HTTP/1.1\" 200 -\n"
     ]
    },
    {
     "name": "stdout",
     "output_type": "stream",
     "text": [
      "activity Technology\n"
     ]
    },
    {
     "name": "stderr",
     "output_type": "stream",
     "text": [
      "127.0.0.1 - - [09/May/2024 10:53:36] \"OPTIONS /predict_tolerance_risk HTTP/1.1\" 200 -\n"
     ]
    },
    {
     "name": "stdout",
     "output_type": "stream",
     "text": [
      "ProfileData for Investor id: 108\n",
      "The length of ProfileData is: (1, 20)\n",
      "Technology\n"
     ]
    },
    {
     "name": "stderr",
     "output_type": "stream",
     "text": [
      "127.0.0.1 - - [09/May/2024 10:53:39] \"POST /predict_tolerance_risk HTTP/1.1\" 200 -\n"
     ]
    },
    {
     "name": "stdout",
     "output_type": "stream",
     "text": [
      "activity Technology\n"
     ]
    },
    {
     "name": "stderr",
     "output_type": "stream",
     "text": [
      "127.0.0.1 - - [09/May/2024 10:53:47] \"OPTIONS /predict_tolerance_risk HTTP/1.1\" 200 -\n"
     ]
    },
    {
     "name": "stdout",
     "output_type": "stream",
     "text": [
      "ProfileData for Investor id: 108\n",
      "The length of ProfileData is: (1, 20)\n",
      "Technology\n"
     ]
    },
    {
     "name": "stderr",
     "output_type": "stream",
     "text": [
      "127.0.0.1 - - [09/May/2024 10:53:51] \"POST /predict_tolerance_risk HTTP/1.1\" 200 -\n"
     ]
    },
    {
     "name": "stdout",
     "output_type": "stream",
     "text": [
      "activity Technology\n",
      "ProfileData for Investor id: 108\n",
      "The length of ProfileData is: (1, 20)\n",
      "Technology\n",
      "ProfileData for Investor id: 108\n",
      "The length of ProfileData is: (1, 20)\n",
      "Technology\n"
     ]
    },
    {
     "name": "stderr",
     "output_type": "stream",
     "text": [
      "127.0.0.1 - - [09/May/2024 10:54:51] \"POST /predict_tolerance_risk HTTP/1.1\" 200 -\n"
     ]
    },
    {
     "name": "stdout",
     "output_type": "stream",
     "text": [
      "activity Technology\n"
     ]
    },
    {
     "name": "stderr",
     "output_type": "stream",
     "text": [
      "127.0.0.1 - - [09/May/2024 10:54:53] \"POST /predict_tolerance_risk HTTP/1.1\" 200 -\n"
     ]
    },
    {
     "name": "stdout",
     "output_type": "stream",
     "text": [
      "activity Technology\n",
      "ProfileData for Investor id: 108\n",
      "The length of ProfileData is: (1, 20)\n",
      "Technology\n",
      "ProfileData for Investor id: 108\n",
      "The length of ProfileData is: (1, 20)\n",
      "Technology\n"
     ]
    },
    {
     "name": "stderr",
     "output_type": "stream",
     "text": [
      "127.0.0.1 - - [09/May/2024 10:54:57] \"POST /predict_tolerance_risk HTTP/1.1\" 200 -\n"
     ]
    },
    {
     "name": "stdout",
     "output_type": "stream",
     "text": [
      "activity Technology\n"
     ]
    },
    {
     "name": "stderr",
     "output_type": "stream",
     "text": [
      "127.0.0.1 - - [09/May/2024 10:54:58] \"POST /predict_tolerance_risk HTTP/1.1\" 200 -\n"
     ]
    },
    {
     "name": "stdout",
     "output_type": "stream",
     "text": [
      "activity Technology\n",
      "ProfileData for Investor id: 108\n",
      "The length of ProfileData is: (1, 20)\n",
      "Technology\n"
     ]
    },
    {
     "name": "stderr",
     "output_type": "stream",
     "text": [
      "127.0.0.1 - - [09/May/2024 10:55:22] \"POST /predict_tolerance_risk HTTP/1.1\" 200 -\n"
     ]
    },
    {
     "name": "stdout",
     "output_type": "stream",
     "text": [
      "activity Technology\n",
      "ProfileData for Investor id: 108\n",
      "The length of ProfileData is: (1, 20)\n",
      "Technology\n",
      "ProfileData for Investor id: 108\n",
      "The length of ProfileData is: (1, 20)\n",
      "Technology\n"
     ]
    },
    {
     "name": "stderr",
     "output_type": "stream",
     "text": [
      "127.0.0.1 - - [09/May/2024 10:55:27] \"POST /predict_tolerance_risk HTTP/1.1\" 200 -\n"
     ]
    },
    {
     "name": "stdout",
     "output_type": "stream",
     "text": [
      "activity Technology\n"
     ]
    },
    {
     "name": "stderr",
     "output_type": "stream",
     "text": [
      "127.0.0.1 - - [09/May/2024 10:55:28] \"POST /predict_tolerance_risk HTTP/1.1\" 200 -\n"
     ]
    },
    {
     "name": "stdout",
     "output_type": "stream",
     "text": [
      "activity Technology\n",
      "ProfileData for Investor id: 108\n",
      "The length of ProfileData is: (1, 20)\n",
      "Technology\n"
     ]
    },
    {
     "name": "stderr",
     "output_type": "stream",
     "text": [
      "127.0.0.1 - - [09/May/2024 10:55:32] \"POST /predict_tolerance_risk HTTP/1.1\" 200 -\n"
     ]
    },
    {
     "name": "stdout",
     "output_type": "stream",
     "text": [
      "activity Technology\n"
     ]
    },
    {
     "name": "stderr",
     "output_type": "stream",
     "text": [
      "127.0.0.1 - - [09/May/2024 10:55:39] \"OPTIONS /predict_tolerance_risk HTTP/1.1\" 200 -\n",
      "127.0.0.1 - - [09/May/2024 10:55:39] \"OPTIONS /predict_tolerance_risk HTTP/1.1\" 200 -\n"
     ]
    },
    {
     "name": "stdout",
     "output_type": "stream",
     "text": [
      "ProfileData for Investor id: 108\n",
      "The length of ProfileData is: (1, 20)\n",
      "Technology\n",
      "ProfileData for Investor id: 108\n",
      "The length of ProfileData is: (1, 20)\n",
      "Technology\n"
     ]
    },
    {
     "name": "stderr",
     "output_type": "stream",
     "text": [
      "127.0.0.1 - - [09/May/2024 10:55:42] \"POST /predict_tolerance_risk HTTP/1.1\" 200 -\n",
      "127.0.0.1 - - [09/May/2024 10:55:42] \"POST /predict_tolerance_risk HTTP/1.1\" 200 -\n"
     ]
    },
    {
     "name": "stdout",
     "output_type": "stream",
     "text": [
      "activity Technology\n",
      "activity Technology\n"
     ]
    },
    {
     "name": "stderr",
     "output_type": "stream",
     "text": [
      "127.0.0.1 - - [09/May/2024 10:55:48] \"OPTIONS /predict_tolerance_risk HTTP/1.1\" 200 -\n"
     ]
    },
    {
     "name": "stdout",
     "output_type": "stream",
     "text": [
      "ProfileData for Investor id: 108\n",
      "The length of ProfileData is: (1, 20)\n",
      "Technology\n"
     ]
    },
    {
     "name": "stderr",
     "output_type": "stream",
     "text": [
      "127.0.0.1 - - [09/May/2024 10:55:51] \"POST /predict_tolerance_risk HTTP/1.1\" 200 -\n"
     ]
    },
    {
     "name": "stdout",
     "output_type": "stream",
     "text": [
      "activity Technology\n"
     ]
    },
    {
     "name": "stderr",
     "output_type": "stream",
     "text": [
      "127.0.0.1 - - [09/May/2024 10:55:54] \"OPTIONS /predict_tolerance_risk HTTP/1.1\" 200 -\n"
     ]
    },
    {
     "name": "stdout",
     "output_type": "stream",
     "text": [
      "ProfileData for Investor id: 108\n",
      "The length of ProfileData is: (1, 20)\n",
      "Technology\n"
     ]
    },
    {
     "name": "stderr",
     "output_type": "stream",
     "text": [
      "127.0.0.1 - - [09/May/2024 10:55:57] \"POST /predict_tolerance_risk HTTP/1.1\" 200 -\n"
     ]
    },
    {
     "name": "stdout",
     "output_type": "stream",
     "text": [
      "activity Technology\n"
     ]
    },
    {
     "name": "stderr",
     "output_type": "stream",
     "text": [
      "127.0.0.1 - - [09/May/2024 10:57:24] \"OPTIONS /predict_tolerance_risk HTTP/1.1\" 200 -\n"
     ]
    },
    {
     "name": "stdout",
     "output_type": "stream",
     "text": [
      "ProfileData for Investor id: 108\n",
      "The length of ProfileData is: (1, 20)\n",
      "Technology\n"
     ]
    },
    {
     "name": "stderr",
     "output_type": "stream",
     "text": [
      "127.0.0.1 - - [09/May/2024 10:57:28] \"POST /predict_tolerance_risk HTTP/1.1\" 200 -\n"
     ]
    },
    {
     "name": "stdout",
     "output_type": "stream",
     "text": [
      "activity Technology\n"
     ]
    },
    {
     "name": "stderr",
     "output_type": "stream",
     "text": [
      "127.0.0.1 - - [09/May/2024 10:57:42] \"OPTIONS /predict_tolerance_risk HTTP/1.1\" 200 -\n"
     ]
    },
    {
     "name": "stdout",
     "output_type": "stream",
     "text": [
      "ProfileData for Investor id: 108\n",
      "The length of ProfileData is: (1, 20)\n",
      "Technology\n",
      "ProfileData for Investor id: 108\n",
      "The length of ProfileData is: (1, 20)\n",
      "Technology\n",
      "ProfileData for Investor id: 108\n",
      "The length of ProfileData is: (1, 20)\n",
      "Technology\n"
     ]
    },
    {
     "name": "stderr",
     "output_type": "stream",
     "text": [
      "127.0.0.1 - - [09/May/2024 10:57:48] \"OPTIONS /predict_tolerance_risk HTTP/1.1\" 200 -\n"
     ]
    },
    {
     "name": "stdout",
     "output_type": "stream",
     "text": [
      "ProfileData for Investor id: 108\n",
      "The length of ProfileData is: (1, 20)\n",
      "Technology\n",
      "ProfileData for Investor id: 108\n",
      "The length of ProfileData is: (1, 20)\n",
      "Technology\n"
     ]
    },
    {
     "name": "stderr",
     "output_type": "stream",
     "text": [
      "127.0.0.1 - - [09/May/2024 10:57:50] \"POST /predict_tolerance_risk HTTP/1.1\" 200 -\n"
     ]
    },
    {
     "name": "stdout",
     "output_type": "stream",
     "text": [
      "activity Technology\n"
     ]
    },
    {
     "name": "stderr",
     "output_type": "stream",
     "text": [
      "127.0.0.1 - - [09/May/2024 10:57:55] \"POST /predict_tolerance_risk HTTP/1.1\" 200 -\n",
      "127.0.0.1 - - [09/May/2024 10:57:55] \"POST /predict_tolerance_risk HTTP/1.1\" 200 -\n"
     ]
    },
    {
     "name": "stdout",
     "output_type": "stream",
     "text": [
      "activity Technology\n",
      "activity Technology\n"
     ]
    },
    {
     "name": "stderr",
     "output_type": "stream",
     "text": [
      "127.0.0.1 - - [09/May/2024 10:57:55] \"POST /predict_tolerance_risk HTTP/1.1\" 200 -\n",
      "127.0.0.1 - - [09/May/2024 10:57:55] \"OPTIONS /predict_tolerance_risk HTTP/1.1\" 200 -\n"
     ]
    },
    {
     "name": "stdout",
     "output_type": "stream",
     "text": [
      "activity Technology\n",
      "ProfileData for Investor id: 108\n",
      "The length of ProfileData is: (1, 20)\n",
      "Technology\n",
      "ProfileData for Investor id: 108\n",
      "The length of ProfileData is: (1, 20)\n",
      "Technology\n",
      "ProfileData for Investor id: 108\n",
      "The length of ProfileData is: (1, 20)\n",
      "Technology\n",
      "ProfileData for Investor id: 108\n",
      "The length of ProfileData is: (1, 20)\n",
      "Technology\n"
     ]
    },
    {
     "name": "stderr",
     "output_type": "stream",
     "text": [
      "127.0.0.1 - - [09/May/2024 10:57:58] \"POST /predict_tolerance_risk HTTP/1.1\" 200 -\n"
     ]
    },
    {
     "name": "stdout",
     "output_type": "stream",
     "text": [
      "activity Technology\n"
     ]
    },
    {
     "name": "stderr",
     "output_type": "stream",
     "text": [
      "127.0.0.1 - - [09/May/2024 10:58:05] \"POST /predict_tolerance_risk HTTP/1.1\" 200 -\n",
      "127.0.0.1 - - [09/May/2024 10:58:05] \"POST /predict_tolerance_risk HTTP/1.1\" 200 -\n"
     ]
    },
    {
     "name": "stdout",
     "output_type": "stream",
     "text": [
      "activity Technology\n",
      "activity Technology\n"
     ]
    },
    {
     "name": "stderr",
     "output_type": "stream",
     "text": [
      "127.0.0.1 - - [09/May/2024 10:58:05] \"POST /predict_tolerance_risk HTTP/1.1\" 200 -\n",
      "127.0.0.1 - - [09/May/2024 10:58:05] \"POST /predict_tolerance_risk HTTP/1.1\" 200 -\n"
     ]
    },
    {
     "name": "stdout",
     "output_type": "stream",
     "text": [
      "activity Technology\n",
      "activity Technology\n"
     ]
    },
    {
     "name": "stderr",
     "output_type": "stream",
     "text": [
      "127.0.0.1 - - [09/May/2024 10:58:48] \"OPTIONS /predict_tolerance_risk HTTP/1.1\" 200 -\n"
     ]
    },
    {
     "name": "stdout",
     "output_type": "stream",
     "text": [
      "ProfileData for Investor id: 108\n",
      "The length of ProfileData is: (1, 20)\n",
      "Technology\n"
     ]
    },
    {
     "name": "stderr",
     "output_type": "stream",
     "text": [
      "127.0.0.1 - - [09/May/2024 10:58:51] \"POST /predict_tolerance_risk HTTP/1.1\" 200 -\n"
     ]
    },
    {
     "name": "stdout",
     "output_type": "stream",
     "text": [
      "activity Technology\n",
      "ProfileData for Investor id: 108\n",
      "The length of ProfileData is: (1, 20)\n",
      "Technology\n"
     ]
    },
    {
     "name": "stderr",
     "output_type": "stream",
     "text": [
      "127.0.0.1 - - [09/May/2024 11:00:18] \"POST /predict_tolerance_risk HTTP/1.1\" 200 -\n"
     ]
    },
    {
     "name": "stdout",
     "output_type": "stream",
     "text": [
      "activity Technology\n",
      "ProfileData for Investor id: 108\n",
      "The length of ProfileData is: (1, 20)\n",
      "Technology\n",
      "ProfileData for Investor id: 108\n",
      "The length of ProfileData is: (1, 20)\n",
      "Technology\n"
     ]
    },
    {
     "name": "stderr",
     "output_type": "stream",
     "text": [
      "127.0.0.1 - - [09/May/2024 11:00:21] \"POST /predict_tolerance_risk HTTP/1.1\" 200 -\n"
     ]
    },
    {
     "name": "stdout",
     "output_type": "stream",
     "text": [
      "activity Technology\n"
     ]
    },
    {
     "name": "stderr",
     "output_type": "stream",
     "text": [
      "127.0.0.1 - - [09/May/2024 11:00:24] \"POST /predict_tolerance_risk HTTP/1.1\" 200 -\n"
     ]
    },
    {
     "name": "stdout",
     "output_type": "stream",
     "text": [
      "activity Technology\n",
      "ProfileData for Investor id: 108\n",
      "The length of ProfileData is: (1, 20)\n",
      "Technology\n"
     ]
    },
    {
     "name": "stderr",
     "output_type": "stream",
     "text": [
      "127.0.0.1 - - [09/May/2024 11:00:27] \"POST /predict_tolerance_risk HTTP/1.1\" 200 -\n"
     ]
    },
    {
     "name": "stdout",
     "output_type": "stream",
     "text": [
      "activity Technology\n",
      "ProfileData for Investor id: 108\n",
      "The length of ProfileData is: (1, 20)\n",
      "Technology\n"
     ]
    },
    {
     "name": "stderr",
     "output_type": "stream",
     "text": [
      "127.0.0.1 - - [09/May/2024 11:00:45] \"POST /predict_tolerance_risk HTTP/1.1\" 200 -\n"
     ]
    },
    {
     "name": "stdout",
     "output_type": "stream",
     "text": [
      "activity Technology\n",
      "ProfileData for Investor id: 108\n",
      "The length of ProfileData is: (1, 20)\n",
      "Technology\n"
     ]
    },
    {
     "name": "stderr",
     "output_type": "stream",
     "text": [
      "127.0.0.1 - - [09/May/2024 11:00:51] \"POST /predict_tolerance_risk HTTP/1.1\" 200 -\n"
     ]
    },
    {
     "name": "stdout",
     "output_type": "stream",
     "text": [
      "activity Technology\n",
      "ProfileData for Investor id: 108\n",
      "The length of ProfileData is: (1, 20)\n",
      "Technology\n"
     ]
    },
    {
     "name": "stderr",
     "output_type": "stream",
     "text": [
      "127.0.0.1 - - [09/May/2024 11:01:16] \"POST /predict_tolerance_risk HTTP/1.1\" 200 -\n"
     ]
    },
    {
     "name": "stdout",
     "output_type": "stream",
     "text": [
      "activity Technology\n",
      "ProfileData for Investor id: 108\n",
      "The length of ProfileData is: (1, 20)\n",
      "Technology\n"
     ]
    },
    {
     "name": "stderr",
     "output_type": "stream",
     "text": [
      "127.0.0.1 - - [09/May/2024 11:01:21] \"POST /predict_tolerance_risk HTTP/1.1\" 200 -\n"
     ]
    },
    {
     "name": "stdout",
     "output_type": "stream",
     "text": [
      "activity Technology\n"
     ]
    },
    {
     "name": "stderr",
     "output_type": "stream",
     "text": [
      "127.0.0.1 - - [09/May/2024 11:02:54] \"OPTIONS /predict_tolerance_risk HTTP/1.1\" 200 -\n"
     ]
    },
    {
     "name": "stdout",
     "output_type": "stream",
     "text": [
      "ProfileData for Investor id: 108\n",
      "The length of ProfileData is: (1, 20)\n",
      "Technology\n"
     ]
    },
    {
     "name": "stderr",
     "output_type": "stream",
     "text": [
      "127.0.0.1 - - [09/May/2024 11:03:00] \"POST /predict_tolerance_risk HTTP/1.1\" 200 -\n"
     ]
    },
    {
     "name": "stdout",
     "output_type": "stream",
     "text": [
      "activity Technology\n",
      "ProfileData for Investor id: 108\n",
      "The length of ProfileData is: (1, 20)\n",
      "Technology\n",
      "ProfileData for Investor id: 108\n",
      "The length of ProfileData is: (1, 20)\n",
      "Technology\n",
      "ProfileData for Investor id: 108\n",
      "The length of ProfileData is: (1, 20)\n",
      "Technology\n"
     ]
    },
    {
     "name": "stderr",
     "output_type": "stream",
     "text": [
      "127.0.0.1 - - [09/May/2024 11:03:44] \"POST /predict_tolerance_risk HTTP/1.1\" 200 -\n"
     ]
    },
    {
     "name": "stdout",
     "output_type": "stream",
     "text": [
      "activity Technology\n"
     ]
    },
    {
     "name": "stderr",
     "output_type": "stream",
     "text": [
      "127.0.0.1 - - [09/May/2024 11:03:46] \"POST /predict_tolerance_risk HTTP/1.1\" 200 -\n"
     ]
    },
    {
     "name": "stdout",
     "output_type": "stream",
     "text": [
      "activity Technology\n"
     ]
    },
    {
     "name": "stderr",
     "output_type": "stream",
     "text": [
      "127.0.0.1 - - [09/May/2024 11:03:47] \"POST /predict_tolerance_risk HTTP/1.1\" 200 -\n"
     ]
    },
    {
     "name": "stdout",
     "output_type": "stream",
     "text": [
      "activity Technology\n",
      "ProfileData for Investor id: 108\n",
      "The length of ProfileData is: (1, 20)\n",
      "Technology\n",
      "ProfileData for Investor id: 108\n",
      "The length of ProfileData is: (1, 20)\n",
      "Technology\n",
      "ProfileData for Investor id: 108\n",
      "The length of ProfileData is: (1, 20)\n",
      "Technology\n",
      "ProfileData for Investor id: 108\n",
      "The length of ProfileData is: (1, 20)\n",
      "Technology\n",
      "ProfileData for Investor id: 108\n",
      "The length of ProfileData is: (1, 20)\n",
      "Technology\n",
      "ProfileData for Investor id: 108\n",
      "The length of ProfileData is: (1, 20)\n",
      "Technology\n"
     ]
    },
    {
     "name": "stderr",
     "output_type": "stream",
     "text": [
      "127.0.0.1 - - [09/May/2024 11:03:52] \"POST /predict_tolerance_risk HTTP/1.1\" 200 -\n"
     ]
    },
    {
     "name": "stdout",
     "output_type": "stream",
     "text": [
      "activity Technology\n"
     ]
    },
    {
     "name": "stderr",
     "output_type": "stream",
     "text": [
      "127.0.0.1 - - [09/May/2024 11:03:53] \"POST /predict_tolerance_risk HTTP/1.1\" 200 -\n"
     ]
    },
    {
     "name": "stdout",
     "output_type": "stream",
     "text": [
      "activity Technology\n"
     ]
    },
    {
     "name": "stderr",
     "output_type": "stream",
     "text": [
      "127.0.0.1 - - [09/May/2024 11:03:54] \"POST /predict_tolerance_risk HTTP/1.1\" 200 -\n"
     ]
    },
    {
     "name": "stdout",
     "output_type": "stream",
     "text": [
      "activity Technology\n",
      "ProfileData for Investor id: 108\n",
      "The length of ProfileData is: (1, 20)\n",
      "Technology\n"
     ]
    },
    {
     "name": "stderr",
     "output_type": "stream",
     "text": [
      "127.0.0.1 - - [09/May/2024 11:03:54] \"POST /predict_tolerance_risk HTTP/1.1\" 200 -\n"
     ]
    },
    {
     "name": "stdout",
     "output_type": "stream",
     "text": [
      "activity Technology\n"
     ]
    },
    {
     "name": "stderr",
     "output_type": "stream",
     "text": [
      "127.0.0.1 - - [09/May/2024 11:03:54] \"POST /predict_tolerance_risk HTTP/1.1\" 200 -\n"
     ]
    },
    {
     "name": "stdout",
     "output_type": "stream",
     "text": [
      "activity Technology\n"
     ]
    },
    {
     "name": "stderr",
     "output_type": "stream",
     "text": [
      "127.0.0.1 - - [09/May/2024 11:03:55] \"POST /predict_tolerance_risk HTTP/1.1\" 200 -\n"
     ]
    },
    {
     "name": "stdout",
     "output_type": "stream",
     "text": [
      "activity Technology\n",
      "ProfileData for Investor id: 108\n",
      "The length of ProfileData is: (1, 20)\n",
      "Technology\n",
      "ProfileData for Investor id: 108\n",
      "The length of ProfileData is: (1, 20)\n",
      "Technology\n",
      "ProfileData for Investor id: 108\n",
      "The length of ProfileData is: (1, 20)\n",
      "Technology\n",
      "ProfileData for Investor id: 108\n",
      "The length of ProfileData is: (1, 20)\n",
      "Technology\n"
     ]
    },
    {
     "name": "stderr",
     "output_type": "stream",
     "text": [
      "127.0.0.1 - - [09/May/2024 11:03:58] \"POST /predict_tolerance_risk HTTP/1.1\" 200 -\n"
     ]
    },
    {
     "name": "stdout",
     "output_type": "stream",
     "text": [
      "activity Technology\n"
     ]
    },
    {
     "name": "stderr",
     "output_type": "stream",
     "text": [
      "127.0.0.1 - - [09/May/2024 11:04:00] \"POST /predict_tolerance_risk HTTP/1.1\" 200 -\n"
     ]
    },
    {
     "name": "stdout",
     "output_type": "stream",
     "text": [
      "activity Technology\n"
     ]
    },
    {
     "name": "stderr",
     "output_type": "stream",
     "text": [
      "127.0.0.1 - - [09/May/2024 11:04:01] \"POST /predict_tolerance_risk HTTP/1.1\" 200 -\n",
      "127.0.0.1 - - [09/May/2024 11:04:01] \"POST /predict_tolerance_risk HTTP/1.1\" 200 -\n"
     ]
    },
    {
     "name": "stdout",
     "output_type": "stream",
     "text": [
      "activity Technology\n",
      "ProfileData for Investor id: 108\n",
      "The length of ProfileData is: (1, 20)\n",
      "Technology\n",
      "activity Technology\n"
     ]
    },
    {
     "name": "stderr",
     "output_type": "stream",
     "text": [
      "127.0.0.1 - - [09/May/2024 11:04:01] \"POST /predict_tolerance_risk HTTP/1.1\" 200 -\n"
     ]
    },
    {
     "name": "stdout",
     "output_type": "stream",
     "text": [
      "activity Technology\n",
      "ProfileData for Investor id: 108\n",
      "The length of ProfileData is: (1, 20)\n",
      "Technology\n"
     ]
    },
    {
     "name": "stderr",
     "output_type": "stream",
     "text": [
      "127.0.0.1 - - [09/May/2024 11:04:04] \"POST /predict_tolerance_risk HTTP/1.1\" 200 -\n"
     ]
    },
    {
     "name": "stdout",
     "output_type": "stream",
     "text": [
      "activity Technology\n"
     ]
    },
    {
     "name": "stderr",
     "output_type": "stream",
     "text": [
      "127.0.0.1 - - [09/May/2024 11:04:07] \"POST /predict_tolerance_risk HTTP/1.1\" 200 -\n"
     ]
    },
    {
     "name": "stdout",
     "output_type": "stream",
     "text": [
      "activity Technology\n",
      "ProfileData for Investor id: 108\n",
      "The length of ProfileData is: (1, 20)\n",
      "Technology\n"
     ]
    },
    {
     "name": "stderr",
     "output_type": "stream",
     "text": [
      "127.0.0.1 - - [09/May/2024 11:04:31] \"POST /predict_tolerance_risk HTTP/1.1\" 200 -\n"
     ]
    },
    {
     "name": "stdout",
     "output_type": "stream",
     "text": [
      "activity Technology\n",
      "ProfileData for Investor id: 108\n",
      "The length of ProfileData is: (1, 20)\n",
      "Technology\n"
     ]
    },
    {
     "name": "stderr",
     "output_type": "stream",
     "text": [
      "127.0.0.1 - - [09/May/2024 11:04:35] \"POST /predict_tolerance_risk HTTP/1.1\" 200 -\n"
     ]
    },
    {
     "name": "stdout",
     "output_type": "stream",
     "text": [
      "activity Technology\n"
     ]
    },
    {
     "name": "stderr",
     "output_type": "stream",
     "text": [
      "127.0.0.1 - - [09/May/2024 11:07:53] \"OPTIONS /predict_tolerance_risk HTTP/1.1\" 200 -\n"
     ]
    },
    {
     "name": "stdout",
     "output_type": "stream",
     "text": [
      "ProfileData for Investor id: 108\n",
      "The length of ProfileData is: (1, 20)\n",
      "Technology\n"
     ]
    },
    {
     "name": "stderr",
     "output_type": "stream",
     "text": [
      "127.0.0.1 - - [09/May/2024 11:07:55] \"POST /predict_tolerance_risk HTTP/1.1\" 200 -\n"
     ]
    },
    {
     "name": "stdout",
     "output_type": "stream",
     "text": [
      "activity Technology\n",
      "ProfileData for Investor id: 108\n",
      "The length of ProfileData is: (1, 20)\n",
      "Technology\n"
     ]
    },
    {
     "name": "stderr",
     "output_type": "stream",
     "text": [
      "127.0.0.1 - - [09/May/2024 11:08:33] \"OPTIONS /predict_tolerance_risk HTTP/1.1\" 200 -\n"
     ]
    },
    {
     "name": "stdout",
     "output_type": "stream",
     "text": [
      "ProfileData for Investor id: 108\n",
      "The length of ProfileData is: (1, 20)\n",
      "Technology\n"
     ]
    },
    {
     "name": "stderr",
     "output_type": "stream",
     "text": [
      "127.0.0.1 - - [09/May/2024 11:08:35] \"POST /predict_tolerance_risk HTTP/1.1\" 200 -\n"
     ]
    },
    {
     "name": "stdout",
     "output_type": "stream",
     "text": [
      "activity Technology\n"
     ]
    },
    {
     "name": "stderr",
     "output_type": "stream",
     "text": [
      "127.0.0.1 - - [09/May/2024 11:08:37] \"POST /predict_tolerance_risk HTTP/1.1\" 200 -\n"
     ]
    },
    {
     "name": "stdout",
     "output_type": "stream",
     "text": [
      "activity Technology\n",
      "ProfileData for Investor id: 108\n",
      "The length of ProfileData is: (1, 20)\n",
      "Technology\n"
     ]
    },
    {
     "name": "stderr",
     "output_type": "stream",
     "text": [
      "127.0.0.1 - - [09/May/2024 11:08:41] \"POST /predict_tolerance_risk HTTP/1.1\" 200 -\n"
     ]
    },
    {
     "name": "stdout",
     "output_type": "stream",
     "text": [
      "activity Technology\n"
     ]
    },
    {
     "name": "stderr",
     "output_type": "stream",
     "text": [
      "127.0.0.1 - - [09/May/2024 11:08:54] \"OPTIONS /predict_tolerance_risk HTTP/1.1\" 200 -\n"
     ]
    },
    {
     "name": "stdout",
     "output_type": "stream",
     "text": [
      "ProfileData for Investor id: 108\n",
      "The length of ProfileData is: (1, 20)\n",
      "Technology\n"
     ]
    },
    {
     "name": "stderr",
     "output_type": "stream",
     "text": [
      "127.0.0.1 - - [09/May/2024 11:08:57] \"POST /predict_tolerance_risk HTTP/1.1\" 200 -\n"
     ]
    },
    {
     "name": "stdout",
     "output_type": "stream",
     "text": [
      "activity Technology\n"
     ]
    },
    {
     "name": "stderr",
     "output_type": "stream",
     "text": [
      "127.0.0.1 - - [09/May/2024 11:09:17] \"OPTIONS /predict_tolerance_risk HTTP/1.1\" 200 -\n"
     ]
    },
    {
     "name": "stdout",
     "output_type": "stream",
     "text": [
      "ProfileData for Investor id: 108\n",
      "The length of ProfileData is: (1, 20)\n",
      "Technology\n",
      "ProfileData for Investor id: 108\n",
      "The length of ProfileData is: (1, 20)\n",
      "Technology\n"
     ]
    },
    {
     "name": "stderr",
     "output_type": "stream",
     "text": [
      "127.0.0.1 - - [09/May/2024 11:09:21] \"POST /predict_tolerance_risk HTTP/1.1\" 200 -\n"
     ]
    },
    {
     "name": "stdout",
     "output_type": "stream",
     "text": [
      "activity Technology\n"
     ]
    },
    {
     "name": "stderr",
     "output_type": "stream",
     "text": [
      "127.0.0.1 - - [09/May/2024 11:09:21] \"POST /predict_tolerance_risk HTTP/1.1\" 200 -\n"
     ]
    },
    {
     "name": "stdout",
     "output_type": "stream",
     "text": [
      "activity Technology\n"
     ]
    },
    {
     "name": "stderr",
     "output_type": "stream",
     "text": [
      "127.0.0.1 - - [09/May/2024 11:09:37] \"OPTIONS /predict_tolerance_risk HTTP/1.1\" 200 -\n"
     ]
    },
    {
     "name": "stdout",
     "output_type": "stream",
     "text": [
      "ProfileData for Investor id: 108\n",
      "The length of ProfileData is: (1, 20)\n",
      "Technology\n",
      "ProfileData for Investor id: 108\n",
      "The length of ProfileData is: (1, 20)\n",
      "Technology\n"
     ]
    },
    {
     "name": "stderr",
     "output_type": "stream",
     "text": [
      "127.0.0.1 - - [09/May/2024 11:09:41] \"POST /predict_tolerance_risk HTTP/1.1\" 200 -\n",
      "127.0.0.1 - - [09/May/2024 11:09:41] \"POST /predict_tolerance_risk HTTP/1.1\" 200 -\n"
     ]
    },
    {
     "name": "stdout",
     "output_type": "stream",
     "text": [
      "activity Technology\n",
      "activity Technology\n",
      "ProfileData for Investor id: 108\n",
      "The length of ProfileData is: (1, 20)\n",
      "Technology\n"
     ]
    },
    {
     "name": "stderr",
     "output_type": "stream",
     "text": [
      "127.0.0.1 - - [09/May/2024 11:10:13] \"POST /predict_tolerance_risk HTTP/1.1\" 200 -\n"
     ]
    },
    {
     "name": "stdout",
     "output_type": "stream",
     "text": [
      "activity Technology\n"
     ]
    },
    {
     "name": "stderr",
     "output_type": "stream",
     "text": [
      "127.0.0.1 - - [09/May/2024 11:10:15] \"OPTIONS /predict_tolerance_risk HTTP/1.1\" 200 -\n"
     ]
    },
    {
     "name": "stdout",
     "output_type": "stream",
     "text": [
      "ProfileData for Investor id: 108\n",
      "The length of ProfileData is: (1, 20)\n",
      "Technology\n",
      "ProfileData for Investor id: 108\n",
      "The length of ProfileData is: (1, 20)\n",
      "Technology\n"
     ]
    },
    {
     "name": "stderr",
     "output_type": "stream",
     "text": [
      "127.0.0.1 - - [09/May/2024 11:10:19] \"POST /predict_tolerance_risk HTTP/1.1\" 200 -\n"
     ]
    },
    {
     "name": "stdout",
     "output_type": "stream",
     "text": [
      "activity Technology\n"
     ]
    },
    {
     "name": "stderr",
     "output_type": "stream",
     "text": [
      "127.0.0.1 - - [09/May/2024 11:10:20] \"POST /predict_tolerance_risk HTTP/1.1\" 200 -\n"
     ]
    },
    {
     "name": "stdout",
     "output_type": "stream",
     "text": [
      "activity Technology\n"
     ]
    },
    {
     "name": "stderr",
     "output_type": "stream",
     "text": [
      "127.0.0.1 - - [09/May/2024 11:11:00] \"OPTIONS /predict_tolerance_risk HTTP/1.1\" 200 -\n"
     ]
    },
    {
     "name": "stdout",
     "output_type": "stream",
     "text": [
      "ProfileData for Investor id: 108\n",
      "The length of ProfileData is: (1, 20)\n",
      "Technology\n"
     ]
    },
    {
     "name": "stderr",
     "output_type": "stream",
     "text": [
      "127.0.0.1 - - [09/May/2024 11:11:03] \"POST /predict_tolerance_risk HTTP/1.1\" 200 -\n"
     ]
    },
    {
     "name": "stdout",
     "output_type": "stream",
     "text": [
      "activity Technology\n",
      "ProfileData for Investor id: 108\n",
      "The length of ProfileData is: (1, 20)\n",
      "Technology\n",
      "ProfileData for Investor id: 108\n",
      "The length of ProfileData is: (1, 20)\n",
      "Technology\n"
     ]
    },
    {
     "name": "stderr",
     "output_type": "stream",
     "text": [
      "127.0.0.1 - - [09/May/2024 11:11:08] \"POST /predict_tolerance_risk HTTP/1.1\" 200 -\n",
      "127.0.0.1 - - [09/May/2024 11:11:08] \"POST /predict_tolerance_risk HTTP/1.1\" 200 -\n"
     ]
    },
    {
     "name": "stdout",
     "output_type": "stream",
     "text": [
      "activity Technology\n",
      "activity Technology\n"
     ]
    },
    {
     "name": "stderr",
     "output_type": "stream",
     "text": [
      "127.0.0.1 - - [09/May/2024 11:11:36] \"OPTIONS /predict_tolerance_risk HTTP/1.1\" 200 -\n"
     ]
    },
    {
     "name": "stdout",
     "output_type": "stream",
     "text": [
      "ProfileData for Investor id: 108\n",
      "The length of ProfileData is: (1, 20)\n",
      "Technology\n",
      "ProfileData for Investor id: 108\n",
      "The length of ProfileData is: (1, 20)\n",
      "Technology\n"
     ]
    },
    {
     "name": "stderr",
     "output_type": "stream",
     "text": [
      "127.0.0.1 - - [09/May/2024 11:11:40] \"POST /predict_tolerance_risk HTTP/1.1\" 200 -\n"
     ]
    },
    {
     "name": "stdout",
     "output_type": "stream",
     "text": [
      "activity Technology\n"
     ]
    },
    {
     "name": "stderr",
     "output_type": "stream",
     "text": [
      "127.0.0.1 - - [09/May/2024 11:11:41] \"POST /predict_tolerance_risk HTTP/1.1\" 200 -\n"
     ]
    },
    {
     "name": "stdout",
     "output_type": "stream",
     "text": [
      "activity Technology\n",
      "ProfileData for Investor id: 108\n",
      "The length of ProfileData is: (1, 20)\n",
      "Technology\n"
     ]
    },
    {
     "name": "stderr",
     "output_type": "stream",
     "text": [
      "127.0.0.1 - - [09/May/2024 11:12:04] \"POST /predict_tolerance_risk HTTP/1.1\" 200 -\n"
     ]
    },
    {
     "name": "stdout",
     "output_type": "stream",
     "text": [
      "activity Technology\n",
      "ProfileData for Investor id: 108\n",
      "The length of ProfileData is: (1, 20)\n",
      "Technology\n"
     ]
    },
    {
     "name": "stderr",
     "output_type": "stream",
     "text": [
      "127.0.0.1 - - [09/May/2024 11:12:12] \"POST /predict_tolerance_risk HTTP/1.1\" 200 -\n"
     ]
    },
    {
     "name": "stdout",
     "output_type": "stream",
     "text": [
      "activity Technology\n"
     ]
    },
    {
     "name": "stderr",
     "output_type": "stream",
     "text": [
      "127.0.0.1 - - [09/May/2024 11:13:33] \"OPTIONS /predict_tolerance_risk HTTP/1.1\" 200 -\n"
     ]
    },
    {
     "name": "stdout",
     "output_type": "stream",
     "text": [
      "ProfileData for Investor id: 108\n",
      "The length of ProfileData is: (1, 20)\n",
      "Technology\n"
     ]
    },
    {
     "name": "stderr",
     "output_type": "stream",
     "text": [
      "127.0.0.1 - - [09/May/2024 11:13:36] \"POST /predict_tolerance_risk HTTP/1.1\" 200 -\n"
     ]
    },
    {
     "name": "stdout",
     "output_type": "stream",
     "text": [
      "activity Technology\n",
      "ProfileData for Investor id: 108\n",
      "The length of ProfileData is: (1, 20)\n",
      "Technology\n",
      "ProfileData for Investor id: 108\n",
      "The length of ProfileData is: (1, 20)\n",
      "Technology\n"
     ]
    },
    {
     "name": "stderr",
     "output_type": "stream",
     "text": [
      "127.0.0.1 - - [09/May/2024 11:13:51] \"POST /predict_tolerance_risk HTTP/1.1\" 200 -\n"
     ]
    },
    {
     "name": "stdout",
     "output_type": "stream",
     "text": [
      "activity Technology\n"
     ]
    },
    {
     "name": "stderr",
     "output_type": "stream",
     "text": [
      "127.0.0.1 - - [09/May/2024 11:13:53] \"POST /predict_tolerance_risk HTTP/1.1\" 200 -\n"
     ]
    },
    {
     "name": "stdout",
     "output_type": "stream",
     "text": [
      "activity Technology\n",
      "ProfileData for Investor id: 108\n",
      "The length of ProfileData is: (1, 20)\n",
      "Technology\n",
      "ProfileData for Investor id: 108\n",
      "The length of ProfileData is: (1, 20)\n",
      "Technology\n"
     ]
    },
    {
     "name": "stderr",
     "output_type": "stream",
     "text": [
      "127.0.0.1 - - [09/May/2024 11:13:57] \"POST /predict_tolerance_risk HTTP/1.1\" 200 -\n"
     ]
    },
    {
     "name": "stdout",
     "output_type": "stream",
     "text": [
      "activity Technology\n"
     ]
    },
    {
     "name": "stderr",
     "output_type": "stream",
     "text": [
      "127.0.0.1 - - [09/May/2024 11:13:59] \"POST /predict_tolerance_risk HTTP/1.1\" 200 -\n"
     ]
    },
    {
     "name": "stdout",
     "output_type": "stream",
     "text": [
      "activity Technology\n",
      "ProfileData for Investor id: 108\n",
      "The length of ProfileData is: (1, 20)\n",
      "Technology\n",
      "ProfileData for Investor id: 108\n",
      "The length of ProfileData is: (1, 20)\n",
      "Technology\n",
      "ProfileData for Investor id: 108\n",
      "The length of ProfileData is: (1, 20)\n",
      "Technology\n"
     ]
    },
    {
     "name": "stderr",
     "output_type": "stream",
     "text": [
      "127.0.0.1 - - [09/May/2024 11:14:10] \"POST /predict_tolerance_risk HTTP/1.1\" 200 -\n"
     ]
    },
    {
     "name": "stdout",
     "output_type": "stream",
     "text": [
      "activity Technology\n"
     ]
    },
    {
     "name": "stderr",
     "output_type": "stream",
     "text": [
      "127.0.0.1 - - [09/May/2024 11:14:11] \"POST /predict_tolerance_risk HTTP/1.1\" 200 -\n"
     ]
    },
    {
     "name": "stdout",
     "output_type": "stream",
     "text": [
      "activity Technology\n"
     ]
    },
    {
     "name": "stderr",
     "output_type": "stream",
     "text": [
      "127.0.0.1 - - [09/May/2024 11:14:12] \"POST /predict_tolerance_risk HTTP/1.1\" 200 -\n"
     ]
    },
    {
     "name": "stdout",
     "output_type": "stream",
     "text": [
      "activity Technology\n",
      "ProfileData for Investor id: 108\n",
      "The length of ProfileData is: (1, 20)\n",
      "Technology\n",
      "ProfileData for Investor id: 108\n",
      "The length of ProfileData is: (1, 20)\n",
      "Technology\n",
      "ProfileData for Investor id: 108\n",
      "The length of ProfileData is: (1, 20)\n",
      "Technology\n"
     ]
    },
    {
     "name": "stderr",
     "output_type": "stream",
     "text": [
      "127.0.0.1 - - [09/May/2024 11:14:18] \"POST /predict_tolerance_risk HTTP/1.1\" 200 -\n"
     ]
    },
    {
     "name": "stdout",
     "output_type": "stream",
     "text": [
      "activity Technology\n"
     ]
    },
    {
     "name": "stderr",
     "output_type": "stream",
     "text": [
      "127.0.0.1 - - [09/May/2024 11:14:18] \"POST /predict_tolerance_risk HTTP/1.1\" 200 -\n"
     ]
    },
    {
     "name": "stdout",
     "output_type": "stream",
     "text": [
      "activity Technology\n"
     ]
    },
    {
     "name": "stderr",
     "output_type": "stream",
     "text": [
      "127.0.0.1 - - [09/May/2024 11:14:19] \"POST /predict_tolerance_risk HTTP/1.1\" 200 -\n"
     ]
    },
    {
     "name": "stdout",
     "output_type": "stream",
     "text": [
      "activity Technology\n"
     ]
    },
    {
     "name": "stderr",
     "output_type": "stream",
     "text": [
      "127.0.0.1 - - [09/May/2024 11:14:19] \"OPTIONS /predict_tolerance_risk HTTP/1.1\" 200 -\n"
     ]
    },
    {
     "name": "stdout",
     "output_type": "stream",
     "text": [
      "ProfileData for Investor id: 108\n",
      "The length of ProfileData is: (1, 20)\n",
      "Technology\n"
     ]
    },
    {
     "name": "stderr",
     "output_type": "stream",
     "text": [
      "127.0.0.1 - - [09/May/2024 11:14:22] \"POST /predict_tolerance_risk HTTP/1.1\" 200 -\n"
     ]
    },
    {
     "name": "stdout",
     "output_type": "stream",
     "text": [
      "activity Technology\n",
      "ProfileData for Investor id: 108\n",
      "The length of ProfileData is: (1, 20)\n",
      "Technology\n"
     ]
    },
    {
     "name": "stderr",
     "output_type": "stream",
     "text": [
      "127.0.0.1 - - [09/May/2024 11:15:48] \"POST /predict_tolerance_risk HTTP/1.1\" 200 -\n"
     ]
    },
    {
     "name": "stdout",
     "output_type": "stream",
     "text": [
      "activity Technology\n",
      "ProfileData for Investor id: 108\n",
      "The length of ProfileData is: (1, 20)\n",
      "Technology\n"
     ]
    },
    {
     "name": "stderr",
     "output_type": "stream",
     "text": [
      "127.0.0.1 - - [09/May/2024 11:15:55] \"POST /predict_tolerance_risk HTTP/1.1\" 200 -\n"
     ]
    },
    {
     "name": "stdout",
     "output_type": "stream",
     "text": [
      "activity Technology\n",
      "ProfileData for Investor id: 108\n",
      "The length of ProfileData is: (1, 20)\n",
      "Technology\n",
      "ProfileData for Investor id: 108\n",
      "The length of ProfileData is: (1, 20)\n",
      "Technology\n",
      "ProfileData for Investor id: 108\n",
      "The length of ProfileData is: (1, 20)\n",
      "Technology\n"
     ]
    },
    {
     "name": "stderr",
     "output_type": "stream",
     "text": [
      "127.0.0.1 - - [09/May/2024 11:16:53] \"POST /predict_tolerance_risk HTTP/1.1\" 200 -\n",
      "127.0.0.1 - - [09/May/2024 11:16:53] \"POST /predict_tolerance_risk HTTP/1.1\" 200 -\n"
     ]
    },
    {
     "name": "stdout",
     "output_type": "stream",
     "text": [
      "activity Technology\n",
      "activity Technology\n"
     ]
    },
    {
     "name": "stderr",
     "output_type": "stream",
     "text": [
      "127.0.0.1 - - [09/May/2024 11:16:54] \"POST /predict_tolerance_risk HTTP/1.1\" 200 -\n"
     ]
    },
    {
     "name": "stdout",
     "output_type": "stream",
     "text": [
      "activity Technology\n",
      "ProfileData for Investor id: 108\n",
      "The length of ProfileData is: (1, 20)\n",
      "Technology\n",
      "ProfileData for Investor id: 108\n",
      "The length of ProfileData is: (1, 20)\n",
      "Technology\n",
      "ProfileData for Investor id: 108\n",
      "The length of ProfileData is: (1, 20)\n",
      "Technology\n"
     ]
    },
    {
     "name": "stderr",
     "output_type": "stream",
     "text": [
      "127.0.0.1 - - [09/May/2024 11:16:57] \"POST /predict_tolerance_risk HTTP/1.1\" 200 -\n",
      "127.0.0.1 - - [09/May/2024 11:16:57] \"POST /predict_tolerance_risk HTTP/1.1\" 200 -\n"
     ]
    },
    {
     "name": "stdout",
     "output_type": "stream",
     "text": [
      "activity Technology\n",
      "activity Technology\n"
     ]
    },
    {
     "name": "stderr",
     "output_type": "stream",
     "text": [
      "127.0.0.1 - - [09/May/2024 11:16:58] \"POST /predict_tolerance_risk HTTP/1.1\" 200 -\n"
     ]
    },
    {
     "name": "stdout",
     "output_type": "stream",
     "text": [
      "activity Technology\n"
     ]
    },
    {
     "name": "stderr",
     "output_type": "stream",
     "text": [
      "127.0.0.1 - - [09/May/2024 11:28:11] \"OPTIONS /predict_tolerance_risk HTTP/1.1\" 200 -\n"
     ]
    },
    {
     "name": "stdout",
     "output_type": "stream",
     "text": [
      "ProfileData for Investor id: 108\n",
      "The length of ProfileData is: (1, 20)\n",
      "Technology\n",
      "ProfileData for Investor id: 108\n",
      "The length of ProfileData is: (1, 20)\n",
      "Technology\n",
      "ProfileData for Investor id: 108\n",
      "The length of ProfileData is: (1, 20)\n",
      "Technology\n",
      "ProfileData for Investor id: 108\n",
      "The length of ProfileData is: (1, 20)\n",
      "Technology\n",
      "ProfileData for Investor id: 108\n",
      "The length of ProfileData is: (1, 20)\n",
      "Technology\n",
      "ProfileData for Investor id: 108\n",
      "The length of ProfileData is: (1, 20)\n",
      "Technology\n",
      "ProfileData for Investor id: 108\n",
      "The length of ProfileData is: (1, 20)\n",
      "Technology\n"
     ]
    },
    {
     "name": "stderr",
     "output_type": "stream",
     "text": [
      "127.0.0.1 - - [09/May/2024 11:28:16] \"POST /predict_tolerance_risk HTTP/1.1\" 200 -\n"
     ]
    },
    {
     "name": "stdout",
     "output_type": "stream",
     "text": [
      "activity Technology\n"
     ]
    },
    {
     "name": "stderr",
     "output_type": "stream",
     "text": [
      "127.0.0.1 - - [09/May/2024 11:28:17] \"POST /predict_tolerance_risk HTTP/1.1\" 200 -\n",
      "127.0.0.1 - - [09/May/2024 11:28:17] \"POST /predict_tolerance_risk HTTP/1.1\" 200 -\n",
      "127.0.0.1 - - [09/May/2024 11:28:17] \"POST /predict_tolerance_risk HTTP/1.1\" 200 -\n"
     ]
    },
    {
     "name": "stdout",
     "output_type": "stream",
     "text": [
      "activity Technology\n",
      "activity Technology\n",
      "activity Technology\n"
     ]
    },
    {
     "name": "stderr",
     "output_type": "stream",
     "text": [
      "127.0.0.1 - - [09/May/2024 11:28:17] \"POST /predict_tolerance_risk HTTP/1.1\" 200 -\n",
      "127.0.0.1 - - [09/May/2024 11:28:17] \"POST /predict_tolerance_risk HTTP/1.1\" 200 -\n",
      "127.0.0.1 - - [09/May/2024 11:28:17] \"POST /predict_tolerance_risk HTTP/1.1\" 200 -\n"
     ]
    },
    {
     "name": "stdout",
     "output_type": "stream",
     "text": [
      "activity Technology\n",
      "activity Technology\n",
      "activity Technology\n"
     ]
    },
    {
     "name": "stderr",
     "output_type": "stream",
     "text": [
      "127.0.0.1 - - [09/May/2024 11:28:55] \"OPTIONS /predict_tolerance_risk HTTP/1.1\" 200 -\n"
     ]
    },
    {
     "name": "stdout",
     "output_type": "stream",
     "text": [
      "ProfileData for Investor id: 108\n",
      "The length of ProfileData is: (1, 20)\n",
      "Technology\n"
     ]
    },
    {
     "name": "stderr",
     "output_type": "stream",
     "text": [
      "127.0.0.1 - - [09/May/2024 11:28:58] \"POST /predict_tolerance_risk HTTP/1.1\" 200 -\n"
     ]
    },
    {
     "name": "stdout",
     "output_type": "stream",
     "text": [
      "activity Technology\n",
      "ProfileData for Investor id: 108\n",
      "The length of ProfileData is: (1, 20)\n",
      "Technology\n",
      "ProfileData for Investor id: 108\n",
      "The length of ProfileData is: (1, 20)\n",
      "Technology\n",
      "ProfileData for Investor id: 108\n",
      "The length of ProfileData is: (1, 20)\n",
      "Technology\n",
      "ProfileData for Investor id: 108\n",
      "The length of ProfileData is: (1, 20)\n",
      "Technology\n"
     ]
    },
    {
     "name": "stderr",
     "output_type": "stream",
     "text": [
      "127.0.0.1 - - [09/May/2024 11:32:24] \"POST /predict_tolerance_risk HTTP/1.1\" 200 -\n"
     ]
    },
    {
     "name": "stdout",
     "output_type": "stream",
     "text": [
      "ProfileData for Investor id: 108\n",
      "The length of ProfileData is: (1, 20)\n",
      "Technology\n",
      "activity Technology\n",
      "ProfileData for Investor id: 108\n",
      "The length of ProfileData is: (1, 20)\n",
      "Technology\n",
      "ProfileData for Investor id: 108\n",
      "The length of ProfileData is: (1, 20)\n",
      "Technology\n"
     ]
    },
    {
     "name": "stderr",
     "output_type": "stream",
     "text": [
      "127.0.0.1 - - [09/May/2024 11:32:26] \"POST /predict_tolerance_risk HTTP/1.1\" 200 -\n"
     ]
    },
    {
     "name": "stdout",
     "output_type": "stream",
     "text": [
      "activity Technology\n"
     ]
    },
    {
     "name": "stderr",
     "output_type": "stream",
     "text": [
      "127.0.0.1 - - [09/May/2024 11:32:27] \"POST /predict_tolerance_risk HTTP/1.1\" 200 -\n"
     ]
    },
    {
     "name": "stdout",
     "output_type": "stream",
     "text": [
      "activity Technology\n",
      "ProfileData for Investor id: 108\n",
      "The length of ProfileData is: (1, 20)\n",
      "Technology\n"
     ]
    },
    {
     "name": "stderr",
     "output_type": "stream",
     "text": [
      "127.0.0.1 - - [09/May/2024 11:32:28] \"POST /predict_tolerance_risk HTTP/1.1\" 200 -\n"
     ]
    },
    {
     "name": "stdout",
     "output_type": "stream",
     "text": [
      "activity Technology\n"
     ]
    },
    {
     "name": "stderr",
     "output_type": "stream",
     "text": [
      "127.0.0.1 - - [09/May/2024 11:32:28] \"POST /predict_tolerance_risk HTTP/1.1\" 200 -\n"
     ]
    },
    {
     "name": "stdout",
     "output_type": "stream",
     "text": [
      "activity Technology\n"
     ]
    },
    {
     "name": "stderr",
     "output_type": "stream",
     "text": [
      "127.0.0.1 - - [09/May/2024 11:32:29] \"POST /predict_tolerance_risk HTTP/1.1\" 200 -\n"
     ]
    },
    {
     "name": "stdout",
     "output_type": "stream",
     "text": [
      "ProfileData for Investor id: 108\n",
      "The length of ProfileData is: (1, 20)\n",
      "Technology\n",
      "activity Technology\n"
     ]
    },
    {
     "name": "stderr",
     "output_type": "stream",
     "text": [
      "127.0.0.1 - - [09/May/2024 11:32:29] \"POST /predict_tolerance_risk HTTP/1.1\" 200 -\n"
     ]
    },
    {
     "name": "stdout",
     "output_type": "stream",
     "text": [
      "activity Technology\n",
      "ProfileData for Investor id: 108\n",
      "The length of ProfileData is: (1, 20)\n",
      "Technology\n"
     ]
    },
    {
     "name": "stderr",
     "output_type": "stream",
     "text": [
      "127.0.0.1 - - [09/May/2024 11:32:30] \"POST /predict_tolerance_risk HTTP/1.1\" 200 -\n"
     ]
    },
    {
     "name": "stdout",
     "output_type": "stream",
     "text": [
      "activity Technology\n",
      "ProfileData for Investor id: 108\n",
      "The length of ProfileData is: (1, 20)\n",
      "Technology\n",
      "ProfileData for Investor id: 108\n",
      "The length of ProfileData is: (1, 20)\n",
      "Technology\n",
      "ProfileData for Investor id: 108\n",
      "The length of ProfileData is: (1, 20)\n",
      "Technology\n",
      "ProfileData for Investor id: 108\n",
      "The length of ProfileData is: (1, 20)\n",
      "Technology\n"
     ]
    },
    {
     "name": "stderr",
     "output_type": "stream",
     "text": [
      "127.0.0.1 - - [09/May/2024 11:32:31] \"POST /predict_tolerance_risk HTTP/1.1\" 200 -\n"
     ]
    },
    {
     "name": "stdout",
     "output_type": "stream",
     "text": [
      "activity Technology\n"
     ]
    },
    {
     "name": "stderr",
     "output_type": "stream",
     "text": [
      "127.0.0.1 - - [09/May/2024 11:32:32] \"POST /predict_tolerance_risk HTTP/1.1\" 200 -\n"
     ]
    },
    {
     "name": "stdout",
     "output_type": "stream",
     "text": [
      "activity Technology\n"
     ]
    },
    {
     "name": "stderr",
     "output_type": "stream",
     "text": [
      "127.0.0.1 - - [09/May/2024 11:32:33] \"POST /predict_tolerance_risk HTTP/1.1\" 200 -\n"
     ]
    },
    {
     "name": "stdout",
     "output_type": "stream",
     "text": [
      "activity Technology\n"
     ]
    },
    {
     "name": "stderr",
     "output_type": "stream",
     "text": [
      "127.0.0.1 - - [09/May/2024 11:32:33] \"POST /predict_tolerance_risk HTTP/1.1\" 200 -\n"
     ]
    },
    {
     "name": "stdout",
     "output_type": "stream",
     "text": [
      "activity Technology\n"
     ]
    },
    {
     "name": "stderr",
     "output_type": "stream",
     "text": [
      "127.0.0.1 - - [09/May/2024 11:32:34] \"POST /predict_tolerance_risk HTTP/1.1\" 200 -\n",
      "127.0.0.1 - - [09/May/2024 11:32:34] \"POST /predict_tolerance_risk HTTP/1.1\" 200 -\n"
     ]
    },
    {
     "name": "stdout",
     "output_type": "stream",
     "text": [
      "activity Technology\n",
      "activity Technology\n"
     ]
    },
    {
     "name": "stderr",
     "output_type": "stream",
     "text": [
      "127.0.0.1 - - [09/May/2024 11:36:09] \"OPTIONS /predict_tolerance_risk HTTP/1.1\" 200 -\n"
     ]
    },
    {
     "name": "stdout",
     "output_type": "stream",
     "text": [
      "ProfileData for Investor id: 108\n",
      "The length of ProfileData is: (1, 20)\n",
      "Technology\n"
     ]
    },
    {
     "name": "stderr",
     "output_type": "stream",
     "text": [
      "127.0.0.1 - - [09/May/2024 11:36:12] \"POST /predict_tolerance_risk HTTP/1.1\" 200 -\n"
     ]
    },
    {
     "name": "stdout",
     "output_type": "stream",
     "text": [
      "activity Technology\n",
      "ProfileData for Investor id: 108\n",
      "The length of ProfileData is: (1, 20)\n",
      "Technology\n"
     ]
    },
    {
     "name": "stderr",
     "output_type": "stream",
     "text": [
      "127.0.0.1 - - [09/May/2024 11:36:47] \"POST /predict_tolerance_risk HTTP/1.1\" 200 -\n"
     ]
    },
    {
     "name": "stdout",
     "output_type": "stream",
     "text": [
      "activity Technology\n",
      "ProfileData for Investor id: 108\n",
      "The length of ProfileData is: (1, 20)\n",
      "Technology\n"
     ]
    },
    {
     "name": "stderr",
     "output_type": "stream",
     "text": [
      "127.0.0.1 - - [09/May/2024 11:36:50] \"POST /predict_tolerance_risk HTTP/1.1\" 200 -\n"
     ]
    },
    {
     "name": "stdout",
     "output_type": "stream",
     "text": [
      "activity Technology\n"
     ]
    },
    {
     "name": "stderr",
     "output_type": "stream",
     "text": [
      "127.0.0.1 - - [09/May/2024 11:37:25] \"OPTIONS /predict_tolerance_risk HTTP/1.1\" 200 -\n"
     ]
    },
    {
     "name": "stdout",
     "output_type": "stream",
     "text": [
      "ProfileData for Investor id: 108\n",
      "The length of ProfileData is: (1, 20)\n",
      "Technology\n"
     ]
    },
    {
     "name": "stderr",
     "output_type": "stream",
     "text": [
      "127.0.0.1 - - [09/May/2024 11:37:27] \"POST /predict_tolerance_risk HTTP/1.1\" 200 -\n"
     ]
    },
    {
     "name": "stdout",
     "output_type": "stream",
     "text": [
      "activity Technology\n"
     ]
    },
    {
     "name": "stderr",
     "output_type": "stream",
     "text": [
      "127.0.0.1 - - [09/May/2024 11:38:01] \"OPTIONS /predict_tolerance_risk HTTP/1.1\" 200 -\n"
     ]
    },
    {
     "name": "stdout",
     "output_type": "stream",
     "text": [
      "ProfileData for Investor id: 108\n",
      "The length of ProfileData is: (1, 20)\n",
      "Technology\n"
     ]
    },
    {
     "name": "stderr",
     "output_type": "stream",
     "text": [
      "127.0.0.1 - - [09/May/2024 11:38:04] \"POST /predict_tolerance_risk HTTP/1.1\" 200 -\n"
     ]
    },
    {
     "name": "stdout",
     "output_type": "stream",
     "text": [
      "activity Technology\n",
      "ProfileData for Investor id: 108\n",
      "The length of ProfileData is: (1, 20)\n",
      "Technology\n"
     ]
    },
    {
     "name": "stderr",
     "output_type": "stream",
     "text": [
      "127.0.0.1 - - [09/May/2024 11:38:15] \"POST /predict_tolerance_risk HTTP/1.1\" 200 -\n"
     ]
    },
    {
     "name": "stdout",
     "output_type": "stream",
     "text": [
      "activity Technology\n",
      "ProfileData for Investor id: 108\n",
      "The length of ProfileData is: (1, 20)\n",
      "Technology\n"
     ]
    },
    {
     "name": "stderr",
     "output_type": "stream",
     "text": [
      "127.0.0.1 - - [09/May/2024 11:38:21] \"POST /predict_tolerance_risk HTTP/1.1\" 200 -\n"
     ]
    },
    {
     "name": "stdout",
     "output_type": "stream",
     "text": [
      "activity Technology\n"
     ]
    },
    {
     "name": "stderr",
     "output_type": "stream",
     "text": [
      "127.0.0.1 - - [09/May/2024 11:38:31] \"OPTIONS /predict_tolerance_risk HTTP/1.1\" 200 -\n"
     ]
    },
    {
     "name": "stdout",
     "output_type": "stream",
     "text": [
      "ProfileData for Investor id: 108\n",
      "The length of ProfileData is: (1, 20)\n",
      "Technology\n"
     ]
    },
    {
     "name": "stderr",
     "output_type": "stream",
     "text": [
      "127.0.0.1 - - [09/May/2024 11:38:35] \"POST /predict_tolerance_risk HTTP/1.1\" 200 -\n"
     ]
    },
    {
     "name": "stdout",
     "output_type": "stream",
     "text": [
      "activity Technology\n",
      "ProfileData for Investor id: 108\n",
      "The length of ProfileData is: (1, 20)\n",
      "Technology\n"
     ]
    },
    {
     "name": "stderr",
     "output_type": "stream",
     "text": [
      "127.0.0.1 - - [09/May/2024 11:39:11] \"OPTIONS /predict_tolerance_risk HTTP/1.1\" 200 -\n",
      "127.0.0.1 - - [09/May/2024 11:39:11] \"POST /predict_tolerance_risk HTTP/1.1\" 200 -\n"
     ]
    },
    {
     "name": "stdout",
     "output_type": "stream",
     "text": [
      "ProfileData for Investor id: 108\n",
      "The length of ProfileData is: (1, 20)\n",
      "Technology\n",
      "activity Technology\n",
      "ProfileData for Investor id: 108\n",
      "The length of ProfileData is: (1, 20)\n",
      "Technology\n"
     ]
    },
    {
     "name": "stderr",
     "output_type": "stream",
     "text": [
      "127.0.0.1 - - [09/May/2024 11:39:15] \"POST /predict_tolerance_risk HTTP/1.1\" 200 -\n"
     ]
    },
    {
     "name": "stdout",
     "output_type": "stream",
     "text": [
      "activity Technology\n"
     ]
    },
    {
     "name": "stderr",
     "output_type": "stream",
     "text": [
      "127.0.0.1 - - [09/May/2024 11:39:18] \"POST /predict_tolerance_risk HTTP/1.1\" 200 -\n"
     ]
    },
    {
     "name": "stdout",
     "output_type": "stream",
     "text": [
      "activity Technology\n"
     ]
    },
    {
     "name": "stderr",
     "output_type": "stream",
     "text": [
      "127.0.0.1 - - [09/May/2024 11:39:39] \"OPTIONS /predict_tolerance_risk HTTP/1.1\" 200 -\n"
     ]
    },
    {
     "name": "stdout",
     "output_type": "stream",
     "text": [
      "ProfileData for Investor id: 108\n",
      "The length of ProfileData is: (1, 20)\n",
      "Technology\n"
     ]
    },
    {
     "name": "stderr",
     "output_type": "stream",
     "text": [
      "127.0.0.1 - - [09/May/2024 11:39:43] \"POST /predict_tolerance_risk HTTP/1.1\" 200 -\n"
     ]
    },
    {
     "name": "stdout",
     "output_type": "stream",
     "text": [
      "activity Technology\n",
      "ProfileData for Investor id: 108\n",
      "The length of ProfileData is: (1, 20)\n",
      "Technology\n"
     ]
    },
    {
     "name": "stderr",
     "output_type": "stream",
     "text": [
      "127.0.0.1 - - [09/May/2024 11:40:07] \"POST /predict_tolerance_risk HTTP/1.1\" 200 -\n"
     ]
    },
    {
     "name": "stdout",
     "output_type": "stream",
     "text": [
      "activity Technology\n",
      "ProfileData for Investor id: 108\n",
      "The length of ProfileData is: (1, 20)\n",
      "Technology\n"
     ]
    },
    {
     "name": "stderr",
     "output_type": "stream",
     "text": [
      "127.0.0.1 - - [09/May/2024 11:40:12] \"POST /predict_tolerance_risk HTTP/1.1\" 200 -\n"
     ]
    },
    {
     "name": "stdout",
     "output_type": "stream",
     "text": [
      "activity Technology\n"
     ]
    },
    {
     "name": "stderr",
     "output_type": "stream",
     "text": [
      "127.0.0.1 - - [09/May/2024 11:40:29] \"OPTIONS /predict_tolerance_risk HTTP/1.1\" 200 -\n"
     ]
    },
    {
     "name": "stdout",
     "output_type": "stream",
     "text": [
      "ProfileData for Investor id: 108\n",
      "The length of ProfileData is: (1, 20)\n",
      "Technology\n"
     ]
    },
    {
     "name": "stderr",
     "output_type": "stream",
     "text": [
      "127.0.0.1 - - [09/May/2024 11:40:32] \"POST /predict_tolerance_risk HTTP/1.1\" 200 -\n"
     ]
    },
    {
     "name": "stdout",
     "output_type": "stream",
     "text": [
      "activity Technology\n",
      "ProfileData for Investor id: 108\n",
      "The length of ProfileData is: (1, 20)\n",
      "Technology\n"
     ]
    },
    {
     "name": "stderr",
     "output_type": "stream",
     "text": [
      "127.0.0.1 - - [09/May/2024 11:40:46] \"POST /predict_tolerance_risk HTTP/1.1\" 200 -\n"
     ]
    },
    {
     "name": "stdout",
     "output_type": "stream",
     "text": [
      "activity Technology\n",
      "ProfileData for Investor id: 108\n",
      "The length of ProfileData is: (1, 20)\n",
      "Technology\n"
     ]
    },
    {
     "name": "stderr",
     "output_type": "stream",
     "text": [
      "127.0.0.1 - - [09/May/2024 11:40:52] \"POST /predict_tolerance_risk HTTP/1.1\" 200 -\n"
     ]
    },
    {
     "name": "stdout",
     "output_type": "stream",
     "text": [
      "activity Technology\n",
      "ProfileData for Investor id: 108\n",
      "The length of ProfileData is: (1, 20)\n",
      "Technology\n"
     ]
    },
    {
     "name": "stderr",
     "output_type": "stream",
     "text": [
      "127.0.0.1 - - [09/May/2024 11:41:10] \"POST /predict_tolerance_risk HTTP/1.1\" 200 -\n"
     ]
    },
    {
     "name": "stdout",
     "output_type": "stream",
     "text": [
      "activity Technology\n",
      "ProfileData for Investor id: 108\n",
      "The length of ProfileData is: (1, 20)\n",
      "Technology\n"
     ]
    },
    {
     "name": "stderr",
     "output_type": "stream",
     "text": [
      "127.0.0.1 - - [09/May/2024 11:41:16] \"POST /predict_tolerance_risk HTTP/1.1\" 200 -\n"
     ]
    },
    {
     "name": "stdout",
     "output_type": "stream",
     "text": [
      "activity Technology\n"
     ]
    },
    {
     "name": "stderr",
     "output_type": "stream",
     "text": [
      "127.0.0.1 - - [09/May/2024 11:41:22] \"OPTIONS /predict_tolerance_risk HTTP/1.1\" 200 -\n"
     ]
    },
    {
     "name": "stdout",
     "output_type": "stream",
     "text": [
      "ProfileData for Investor id: 108\n",
      "The length of ProfileData is: (1, 20)\n",
      "Technology\n"
     ]
    },
    {
     "name": "stderr",
     "output_type": "stream",
     "text": [
      "127.0.0.1 - - [09/May/2024 11:41:26] \"POST /predict_tolerance_risk HTTP/1.1\" 200 -\n"
     ]
    },
    {
     "name": "stdout",
     "output_type": "stream",
     "text": [
      "activity Technology\n",
      "ProfileData for Investor id: 108\n",
      "The length of ProfileData is: (1, 20)\n",
      "Technology\n"
     ]
    },
    {
     "name": "stderr",
     "output_type": "stream",
     "text": [
      "127.0.0.1 - - [09/May/2024 11:41:44] \"POST /predict_tolerance_risk HTTP/1.1\" 200 -\n"
     ]
    },
    {
     "name": "stdout",
     "output_type": "stream",
     "text": [
      "activity Technology\n",
      "ProfileData for Investor id: 108\n",
      "The length of ProfileData is: (1, 20)\n",
      "Technology\n"
     ]
    },
    {
     "name": "stderr",
     "output_type": "stream",
     "text": [
      "127.0.0.1 - - [09/May/2024 11:41:49] \"POST /predict_tolerance_risk HTTP/1.1\" 200 -\n"
     ]
    },
    {
     "name": "stdout",
     "output_type": "stream",
     "text": [
      "activity Technology\n",
      "ProfileData for Investor id: 108\n",
      "The length of ProfileData is: (1, 20)\n",
      "Technology\n"
     ]
    },
    {
     "name": "stderr",
     "output_type": "stream",
     "text": [
      "127.0.0.1 - - [09/May/2024 11:42:11] \"POST /predict_tolerance_risk HTTP/1.1\" 200 -\n"
     ]
    },
    {
     "name": "stdout",
     "output_type": "stream",
     "text": [
      "activity Technology\n",
      "ProfileData for Investor id: 108\n",
      "The length of ProfileData is: (1, 20)\n",
      "Technology\n"
     ]
    },
    {
     "name": "stderr",
     "output_type": "stream",
     "text": [
      "127.0.0.1 - - [09/May/2024 11:42:15] \"POST /predict_tolerance_risk HTTP/1.1\" 200 -\n"
     ]
    },
    {
     "name": "stdout",
     "output_type": "stream",
     "text": [
      "activity Technology\n"
     ]
    },
    {
     "name": "stderr",
     "output_type": "stream",
     "text": [
      "127.0.0.1 - - [09/May/2024 11:42:22] \"OPTIONS /predict_tolerance_risk HTTP/1.1\" 200 -\n"
     ]
    },
    {
     "name": "stdout",
     "output_type": "stream",
     "text": [
      "ProfileData for Investor id: 108\n",
      "The length of ProfileData is: (1, 20)\n",
      "Technology\n"
     ]
    },
    {
     "name": "stderr",
     "output_type": "stream",
     "text": [
      "127.0.0.1 - - [09/May/2024 11:42:28] \"POST /predict_tolerance_risk HTTP/1.1\" 200 -\n"
     ]
    },
    {
     "name": "stdout",
     "output_type": "stream",
     "text": [
      "activity Technology\n",
      "ProfileData for Investor id: 108\n",
      "The length of ProfileData is: (1, 20)\n",
      "Technology\n"
     ]
    },
    {
     "name": "stderr",
     "output_type": "stream",
     "text": [
      "127.0.0.1 - - [09/May/2024 11:43:07] \"POST /predict_tolerance_risk HTTP/1.1\" 200 -\n"
     ]
    },
    {
     "name": "stdout",
     "output_type": "stream",
     "text": [
      "activity Technology\n",
      "ProfileData for Investor id: 108\n",
      "The length of ProfileData is: (1, 20)\n",
      "Technology\n"
     ]
    },
    {
     "name": "stderr",
     "output_type": "stream",
     "text": [
      "127.0.0.1 - - [09/May/2024 11:43:11] \"POST /predict_tolerance_risk HTTP/1.1\" 200 -\n"
     ]
    },
    {
     "name": "stdout",
     "output_type": "stream",
     "text": [
      "activity Technology\n"
     ]
    },
    {
     "name": "stderr",
     "output_type": "stream",
     "text": [
      "127.0.0.1 - - [09/May/2024 11:45:27] \"OPTIONS /predict_tolerance_risk HTTP/1.1\" 200 -\n"
     ]
    },
    {
     "name": "stdout",
     "output_type": "stream",
     "text": [
      "ProfileData for Investor id: 108\n",
      "The length of ProfileData is: (1, 20)\n",
      "Technology\n"
     ]
    },
    {
     "name": "stderr",
     "output_type": "stream",
     "text": [
      "127.0.0.1 - - [09/May/2024 11:45:29] \"POST /predict_tolerance_risk HTTP/1.1\" 200 -\n"
     ]
    },
    {
     "name": "stdout",
     "output_type": "stream",
     "text": [
      "activity Technology\n",
      "ProfileData for Investor id: 108\n",
      "The length of ProfileData is: (1, 20)\n",
      "Technology\n"
     ]
    },
    {
     "name": "stderr",
     "output_type": "stream",
     "text": [
      "127.0.0.1 - - [09/May/2024 11:45:33] \"POST /predict_tolerance_risk HTTP/1.1\" 200 -\n"
     ]
    },
    {
     "name": "stdout",
     "output_type": "stream",
     "text": [
      "activity Technology\n"
     ]
    },
    {
     "name": "stderr",
     "output_type": "stream",
     "text": [
      "127.0.0.1 - - [09/May/2024 11:45:40] \"OPTIONS /predict_tolerance_risk HTTP/1.1\" 200 -\n"
     ]
    },
    {
     "name": "stdout",
     "output_type": "stream",
     "text": [
      "ProfileData for Investor id: 108\n",
      "The length of ProfileData is: (1, 20)\n",
      "Technology\n"
     ]
    },
    {
     "name": "stderr",
     "output_type": "stream",
     "text": [
      "127.0.0.1 - - [09/May/2024 11:45:42] \"POST /predict_tolerance_risk HTTP/1.1\" 200 -\n"
     ]
    },
    {
     "name": "stdout",
     "output_type": "stream",
     "text": [
      "activity Technology\n"
     ]
    },
    {
     "name": "stderr",
     "output_type": "stream",
     "text": [
      "127.0.0.1 - - [09/May/2024 11:46:53] \"OPTIONS /predict_tolerance_risk HTTP/1.1\" 200 -\n"
     ]
    },
    {
     "name": "stdout",
     "output_type": "stream",
     "text": [
      "ProfileData for Investor id: 108\n",
      "The length of ProfileData is: (1, 20)\n",
      "Technology\n"
     ]
    },
    {
     "name": "stderr",
     "output_type": "stream",
     "text": [
      "127.0.0.1 - - [09/May/2024 11:46:56] \"POST /predict_tolerance_risk HTTP/1.1\" 200 -\n"
     ]
    },
    {
     "name": "stdout",
     "output_type": "stream",
     "text": [
      "activity Technology\n",
      "ProfileData for Investor id: 108\n",
      "The length of ProfileData is: (1, 20)\n",
      "Technology\n"
     ]
    },
    {
     "name": "stderr",
     "output_type": "stream",
     "text": [
      "127.0.0.1 - - [09/May/2024 11:47:11] \"POST /predict_tolerance_risk HTTP/1.1\" 200 -\n"
     ]
    },
    {
     "name": "stdout",
     "output_type": "stream",
     "text": [
      "activity Technology\n",
      "ProfileData for Investor id: 108\n",
      "The length of ProfileData is: (1, 20)\n",
      "Technology\n"
     ]
    },
    {
     "name": "stderr",
     "output_type": "stream",
     "text": [
      "127.0.0.1 - - [09/May/2024 11:47:15] \"OPTIONS /predict_tolerance_risk HTTP/1.1\" 200 -\n"
     ]
    },
    {
     "name": "stdout",
     "output_type": "stream",
     "text": [
      "ProfileData for Investor id: 108\n",
      "The length of ProfileData is: (1, 20)\n",
      "Technology\n",
      "ProfileData for Investor id: 108\n",
      "The length of ProfileData is: (1, 20)\n",
      "Technology\n"
     ]
    },
    {
     "name": "stderr",
     "output_type": "stream",
     "text": [
      "127.0.0.1 - - [09/May/2024 11:47:17] \"POST /predict_tolerance_risk HTTP/1.1\" 200 -\n"
     ]
    },
    {
     "name": "stdout",
     "output_type": "stream",
     "text": [
      "activity Technology\n"
     ]
    },
    {
     "name": "stderr",
     "output_type": "stream",
     "text": [
      "127.0.0.1 - - [09/May/2024 11:47:19] \"POST /predict_tolerance_risk HTTP/1.1\" 200 -\n"
     ]
    },
    {
     "name": "stdout",
     "output_type": "stream",
     "text": [
      "activity Technology\n"
     ]
    },
    {
     "name": "stderr",
     "output_type": "stream",
     "text": [
      "127.0.0.1 - - [09/May/2024 11:47:20] \"POST /predict_tolerance_risk HTTP/1.1\" 200 -\n"
     ]
    },
    {
     "name": "stdout",
     "output_type": "stream",
     "text": [
      "activity Technology\n",
      "ProfileData for Investor id: 108\n",
      "The length of ProfileData is: (1, 20)\n",
      "Technology\n",
      "ProfileData for Investor id: 108\n",
      "The length of ProfileData is: (1, 20)\n",
      "Technology\n"
     ]
    },
    {
     "name": "stderr",
     "output_type": "stream",
     "text": [
      "127.0.0.1 - - [09/May/2024 11:47:26] \"POST /predict_tolerance_risk HTTP/1.1\" 200 -\n"
     ]
    },
    {
     "name": "stdout",
     "output_type": "stream",
     "text": [
      "activity Technology\n"
     ]
    },
    {
     "name": "stderr",
     "output_type": "stream",
     "text": [
      "127.0.0.1 - - [09/May/2024 11:47:28] \"POST /predict_tolerance_risk HTTP/1.1\" 200 -\n"
     ]
    },
    {
     "name": "stdout",
     "output_type": "stream",
     "text": [
      "activity Technology\n",
      "ProfileData for Investor id: 108\n",
      "The length of ProfileData is: (1, 20)\n",
      "Technology\n"
     ]
    },
    {
     "name": "stderr",
     "output_type": "stream",
     "text": [
      "127.0.0.1 - - [09/May/2024 11:47:34] \"POST /predict_tolerance_risk HTTP/1.1\" 200 -\n"
     ]
    },
    {
     "name": "stdout",
     "output_type": "stream",
     "text": [
      "activity Technology\n"
     ]
    },
    {
     "name": "stderr",
     "output_type": "stream",
     "text": [
      "127.0.0.1 - - [09/May/2024 11:47:58] \"OPTIONS /predict_tolerance_risk HTTP/1.1\" 200 -\n"
     ]
    },
    {
     "name": "stdout",
     "output_type": "stream",
     "text": [
      "ProfileData for Investor id: 108\n",
      "The length of ProfileData is: (1, 20)\n",
      "Technology\n"
     ]
    },
    {
     "name": "stderr",
     "output_type": "stream",
     "text": [
      "127.0.0.1 - - [09/May/2024 11:48:02] \"POST /predict_tolerance_risk HTTP/1.1\" 200 -\n"
     ]
    },
    {
     "name": "stdout",
     "output_type": "stream",
     "text": [
      "activity Technology\n"
     ]
    },
    {
     "name": "stderr",
     "output_type": "stream",
     "text": [
      "127.0.0.1 - - [09/May/2024 11:48:10] \"OPTIONS /predict_tolerance_risk HTTP/1.1\" 200 -\n"
     ]
    },
    {
     "name": "stdout",
     "output_type": "stream",
     "text": [
      "ProfileData for Investor id: 108\n",
      "The length of ProfileData is: (1, 20)\n",
      "Technology\n"
     ]
    },
    {
     "name": "stderr",
     "output_type": "stream",
     "text": [
      "127.0.0.1 - - [09/May/2024 11:48:12] \"POST /predict_tolerance_risk HTTP/1.1\" 200 -\n"
     ]
    },
    {
     "name": "stdout",
     "output_type": "stream",
     "text": [
      "activity Technology\n",
      "ProfileData for Investor id: 108\n",
      "The length of ProfileData is: (1, 20)\n",
      "Technology\n"
     ]
    },
    {
     "name": "stderr",
     "output_type": "stream",
     "text": [
      "127.0.0.1 - - [09/May/2024 11:48:35] \"POST /predict_tolerance_risk HTTP/1.1\" 200 -\n"
     ]
    },
    {
     "name": "stdout",
     "output_type": "stream",
     "text": [
      "activity Technology\n",
      "ProfileData for Investor id: 108\n",
      "The length of ProfileData is: (1, 20)\n",
      "Technology\n"
     ]
    },
    {
     "name": "stderr",
     "output_type": "stream",
     "text": [
      "127.0.0.1 - - [09/May/2024 11:48:41] \"POST /predict_tolerance_risk HTTP/1.1\" 200 -\n"
     ]
    },
    {
     "name": "stdout",
     "output_type": "stream",
     "text": [
      "activity Technology\n",
      "ProfileData for Investor id: 108\n",
      "The length of ProfileData is: (1, 20)\n",
      "Technology\n"
     ]
    },
    {
     "name": "stderr",
     "output_type": "stream",
     "text": [
      "127.0.0.1 - - [09/May/2024 11:49:08] \"POST /predict_tolerance_risk HTTP/1.1\" 200 -\n"
     ]
    },
    {
     "name": "stdout",
     "output_type": "stream",
     "text": [
      "activity Technology\n",
      "ProfileData for Investor id: 108\n",
      "The length of ProfileData is: (1, 20)\n",
      "Technology\n"
     ]
    },
    {
     "name": "stderr",
     "output_type": "stream",
     "text": [
      "127.0.0.1 - - [09/May/2024 11:49:13] \"POST /predict_tolerance_risk HTTP/1.1\" 200 -\n"
     ]
    },
    {
     "name": "stdout",
     "output_type": "stream",
     "text": [
      "activity Technology\n",
      "ProfileData for Investor id: 108\n",
      "The length of ProfileData is: (1, 20)\n",
      "Technology\n"
     ]
    },
    {
     "name": "stderr",
     "output_type": "stream",
     "text": [
      "127.0.0.1 - - [09/May/2024 11:49:45] \"POST /predict_tolerance_risk HTTP/1.1\" 200 -\n"
     ]
    },
    {
     "name": "stdout",
     "output_type": "stream",
     "text": [
      "activity Technology\n",
      "ProfileData for Investor id: 108\n",
      "The length of ProfileData is: (1, 20)\n",
      "Technology\n",
      "ProfileData for Investor id: 108\n",
      "The length of ProfileData is: (1, 20)\n",
      "Technology\n"
     ]
    },
    {
     "name": "stderr",
     "output_type": "stream",
     "text": [
      "127.0.0.1 - - [09/May/2024 11:49:48] \"POST /predict_tolerance_risk HTTP/1.1\" 200 -\n"
     ]
    },
    {
     "name": "stdout",
     "output_type": "stream",
     "text": [
      "activity Technology\n"
     ]
    },
    {
     "name": "stderr",
     "output_type": "stream",
     "text": [
      "127.0.0.1 - - [09/May/2024 11:49:49] \"POST /predict_tolerance_risk HTTP/1.1\" 200 -\n"
     ]
    },
    {
     "name": "stdout",
     "output_type": "stream",
     "text": [
      "activity Technology\n",
      "ProfileData for Investor id: 108\n",
      "The length of ProfileData is: (1, 20)\n",
      "Technology\n"
     ]
    },
    {
     "name": "stderr",
     "output_type": "stream",
     "text": [
      "127.0.0.1 - - [09/May/2024 11:49:52] \"POST /predict_tolerance_risk HTTP/1.1\" 200 -\n"
     ]
    },
    {
     "name": "stdout",
     "output_type": "stream",
     "text": [
      "activity Technology\n"
     ]
    },
    {
     "name": "stderr",
     "output_type": "stream",
     "text": [
      "127.0.0.1 - - [09/May/2024 11:50:55] \"OPTIONS /predict_tolerance_risk HTTP/1.1\" 200 -\n"
     ]
    },
    {
     "name": "stdout",
     "output_type": "stream",
     "text": [
      "ProfileData for Investor id: 108\n",
      "The length of ProfileData is: (1, 20)\n",
      "Technology\n"
     ]
    },
    {
     "name": "stderr",
     "output_type": "stream",
     "text": [
      "127.0.0.1 - - [09/May/2024 11:50:58] \"POST /predict_tolerance_risk HTTP/1.1\" 200 -\n"
     ]
    },
    {
     "name": "stdout",
     "output_type": "stream",
     "text": [
      "activity Technology\n"
     ]
    },
    {
     "name": "stderr",
     "output_type": "stream",
     "text": [
      "127.0.0.1 - - [09/May/2024 11:51:27] \"OPTIONS /predict_tolerance_risk HTTP/1.1\" 200 -\n"
     ]
    },
    {
     "name": "stdout",
     "output_type": "stream",
     "text": [
      "ProfileData for Investor id: 108\n",
      "The length of ProfileData is: (1, 20)\n",
      "Technology\n"
     ]
    },
    {
     "name": "stderr",
     "output_type": "stream",
     "text": [
      "127.0.0.1 - - [09/May/2024 11:51:30] \"POST /predict_tolerance_risk HTTP/1.1\" 200 -\n"
     ]
    },
    {
     "name": "stdout",
     "output_type": "stream",
     "text": [
      "activity Technology\n",
      "ProfileData for Investor id: 108\n",
      "The length of ProfileData is: (1, 20)\n",
      "Technology\n"
     ]
    },
    {
     "name": "stderr",
     "output_type": "stream",
     "text": [
      "127.0.0.1 - - [09/May/2024 11:51:46] \"POST /predict_tolerance_risk HTTP/1.1\" 200 -\n"
     ]
    },
    {
     "name": "stdout",
     "output_type": "stream",
     "text": [
      "activity Technology\n",
      "ProfileData for Investor id: 108\n",
      "The length of ProfileData is: (1, 20)\n",
      "Technology\n"
     ]
    },
    {
     "name": "stderr",
     "output_type": "stream",
     "text": [
      "127.0.0.1 - - [09/May/2024 11:51:52] \"POST /predict_tolerance_risk HTTP/1.1\" 200 -\n"
     ]
    },
    {
     "name": "stdout",
     "output_type": "stream",
     "text": [
      "activity Technology\n"
     ]
    },
    {
     "name": "stderr",
     "output_type": "stream",
     "text": [
      "127.0.0.1 - - [09/May/2024 11:52:12] \"OPTIONS /predict_tolerance_risk HTTP/1.1\" 200 -\n"
     ]
    },
    {
     "name": "stdout",
     "output_type": "stream",
     "text": [
      "ProfileData for Investor id: 108\n",
      "The length of ProfileData is: (1, 20)\n",
      "Technology\n"
     ]
    },
    {
     "name": "stderr",
     "output_type": "stream",
     "text": [
      "127.0.0.1 - - [09/May/2024 11:52:15] \"POST /predict_tolerance_risk HTTP/1.1\" 200 -\n"
     ]
    },
    {
     "name": "stdout",
     "output_type": "stream",
     "text": [
      "activity Technology\n"
     ]
    },
    {
     "name": "stderr",
     "output_type": "stream",
     "text": [
      "127.0.0.1 - - [09/May/2024 11:52:27] \"OPTIONS /predict_tolerance_risk HTTP/1.1\" 200 -\n"
     ]
    },
    {
     "name": "stdout",
     "output_type": "stream",
     "text": [
      "ProfileData for Investor id: 108\n",
      "The length of ProfileData is: (1, 20)\n",
      "Technology\n"
     ]
    },
    {
     "name": "stderr",
     "output_type": "stream",
     "text": [
      "127.0.0.1 - - [09/May/2024 11:52:31] \"POST /predict_tolerance_risk HTTP/1.1\" 200 -\n"
     ]
    },
    {
     "name": "stdout",
     "output_type": "stream",
     "text": [
      "activity Technology\n",
      "ProfileData for Investor id: 108\n",
      "The length of ProfileData is: (1, 20)\n",
      "Technology\n"
     ]
    },
    {
     "name": "stderr",
     "output_type": "stream",
     "text": [
      "127.0.0.1 - - [09/May/2024 11:52:39] \"POST /predict_tolerance_risk HTTP/1.1\" 200 -\n"
     ]
    },
    {
     "name": "stdout",
     "output_type": "stream",
     "text": [
      "activity Technology\n",
      "ProfileData for Investor id: 108\n",
      "The length of ProfileData is: (1, 20)\n",
      "Technology\n"
     ]
    },
    {
     "name": "stderr",
     "output_type": "stream",
     "text": [
      "127.0.0.1 - - [09/May/2024 11:52:45] \"POST /predict_tolerance_risk HTTP/1.1\" 200 -\n"
     ]
    },
    {
     "name": "stdout",
     "output_type": "stream",
     "text": [
      "activity Technology\n"
     ]
    },
    {
     "name": "stderr",
     "output_type": "stream",
     "text": [
      "127.0.0.1 - - [09/May/2024 11:52:49] \"OPTIONS /predict_tolerance_risk HTTP/1.1\" 200 -\n"
     ]
    },
    {
     "name": "stdout",
     "output_type": "stream",
     "text": [
      "ProfileData for Investor id: 108\n",
      "The length of ProfileData is: (1, 20)\n",
      "Technology\n",
      "ProfileData for Investor id: 108\n",
      "The length of ProfileData is: (1, 20)\n",
      "Technology\n",
      "ProfileData for Investor id: 108\n",
      "The length of ProfileData is: (1, 20)\n",
      "Technology\n"
     ]
    },
    {
     "name": "stderr",
     "output_type": "stream",
     "text": [
      "127.0.0.1 - - [09/May/2024 11:52:54] \"POST /predict_tolerance_risk HTTP/1.1\" 200 -\n"
     ]
    },
    {
     "name": "stdout",
     "output_type": "stream",
     "text": [
      "activity Technology\n"
     ]
    },
    {
     "name": "stderr",
     "output_type": "stream",
     "text": [
      "127.0.0.1 - - [09/May/2024 11:52:57] \"POST /predict_tolerance_risk HTTP/1.1\" 200 -\n",
      "127.0.0.1 - - [09/May/2024 11:52:57] \"POST /predict_tolerance_risk HTTP/1.1\" 200 -\n"
     ]
    },
    {
     "name": "stdout",
     "output_type": "stream",
     "text": [
      "activity Technology\n",
      "activity Technology\n"
     ]
    },
    {
     "name": "stderr",
     "output_type": "stream",
     "text": [
      "127.0.0.1 - - [09/May/2024 11:53:07] \"OPTIONS /predict_tolerance_risk HTTP/1.1\" 200 -\n"
     ]
    },
    {
     "name": "stdout",
     "output_type": "stream",
     "text": [
      "ProfileData for Investor id: 108\n",
      "The length of ProfileData is: (1, 20)\n",
      "Technology\n",
      "ProfileData for Investor id: 108\n",
      "The length of ProfileData is: (1, 20)\n",
      "Technology\n",
      "ProfileData for Investor id: 108\n",
      "The length of ProfileData is: (1, 20)\n",
      "Technology\n"
     ]
    },
    {
     "name": "stderr",
     "output_type": "stream",
     "text": [
      "127.0.0.1 - - [09/May/2024 11:53:11] \"POST /predict_tolerance_risk HTTP/1.1\" 200 -\n",
      "127.0.0.1 - - [09/May/2024 11:53:12] \"POST /predict_tolerance_risk HTTP/1.1\" 200 -\n"
     ]
    },
    {
     "name": "stdout",
     "output_type": "stream",
     "text": [
      "activity Technology\n",
      "activity Technology\n"
     ]
    },
    {
     "name": "stderr",
     "output_type": "stream",
     "text": [
      "127.0.0.1 - - [09/May/2024 11:53:12] \"POST /predict_tolerance_risk HTTP/1.1\" 200 -\n"
     ]
    },
    {
     "name": "stdout",
     "output_type": "stream",
     "text": [
      "activity Technology\n"
     ]
    },
    {
     "name": "stderr",
     "output_type": "stream",
     "text": [
      "127.0.0.1 - - [09/May/2024 11:53:22] \"OPTIONS /predict_tolerance_risk HTTP/1.1\" 200 -\n"
     ]
    },
    {
     "name": "stdout",
     "output_type": "stream",
     "text": [
      "ProfileData for Investor id: 108\n",
      "The length of ProfileData is: (1, 20)\n",
      "Technology\n"
     ]
    },
    {
     "name": "stderr",
     "output_type": "stream",
     "text": [
      "127.0.0.1 - - [09/May/2024 11:53:25] \"POST /predict_tolerance_risk HTTP/1.1\" 200 -\n"
     ]
    },
    {
     "name": "stdout",
     "output_type": "stream",
     "text": [
      "activity Technology\n"
     ]
    },
    {
     "name": "stderr",
     "output_type": "stream",
     "text": [
      "127.0.0.1 - - [09/May/2024 11:53:57] \"OPTIONS /predict_tolerance_risk HTTP/1.1\" 200 -\n"
     ]
    },
    {
     "name": "stdout",
     "output_type": "stream",
     "text": [
      "ProfileData for Investor id: 108\n",
      "The length of ProfileData is: (1, 20)\n",
      "Technology\n"
     ]
    },
    {
     "name": "stderr",
     "output_type": "stream",
     "text": [
      "127.0.0.1 - - [09/May/2024 11:54:01] \"POST /predict_tolerance_risk HTTP/1.1\" 200 -\n"
     ]
    },
    {
     "name": "stdout",
     "output_type": "stream",
     "text": [
      "activity Technology\n",
      "ProfileData for Investor id: 108\n",
      "The length of ProfileData is: (1, 20)\n",
      "Technology\n"
     ]
    },
    {
     "name": "stderr",
     "output_type": "stream",
     "text": [
      "127.0.0.1 - - [09/May/2024 11:56:28] \"POST /predict_tolerance_risk HTTP/1.1\" 200 -\n"
     ]
    },
    {
     "name": "stdout",
     "output_type": "stream",
     "text": [
      "activity Technology\n",
      "ProfileData for Investor id: 108\n",
      "The length of ProfileData is: (1, 20)\n",
      "Technology\n"
     ]
    },
    {
     "name": "stderr",
     "output_type": "stream",
     "text": [
      "127.0.0.1 - - [09/May/2024 11:56:34] \"POST /predict_tolerance_risk HTTP/1.1\" 200 -\n"
     ]
    },
    {
     "name": "stdout",
     "output_type": "stream",
     "text": [
      "activity Technology\n",
      "ProfileData for Investor id: 108\n",
      "The length of ProfileData is: (1, 20)\n",
      "Technology\n"
     ]
    },
    {
     "name": "stderr",
     "output_type": "stream",
     "text": [
      "127.0.0.1 - - [09/May/2024 11:57:42] \"POST /predict_tolerance_risk HTTP/1.1\" 200 -\n"
     ]
    },
    {
     "name": "stdout",
     "output_type": "stream",
     "text": [
      "activity Technology\n",
      "ProfileData for Investor id: 108\n",
      "The length of ProfileData is: (1, 20)\n",
      "Technology\n"
     ]
    },
    {
     "name": "stderr",
     "output_type": "stream",
     "text": [
      "127.0.0.1 - - [09/May/2024 11:57:48] \"POST /predict_tolerance_risk HTTP/1.1\" 200 -\n"
     ]
    },
    {
     "name": "stdout",
     "output_type": "stream",
     "text": [
      "activity Technology\n",
      "ProfileData for Investor id: 108\n",
      "The length of ProfileData is: (1, 20)\n",
      "Technology\n"
     ]
    },
    {
     "name": "stderr",
     "output_type": "stream",
     "text": [
      "127.0.0.1 - - [09/May/2024 11:58:31] \"POST /predict_tolerance_risk HTTP/1.1\" 200 -\n"
     ]
    },
    {
     "name": "stdout",
     "output_type": "stream",
     "text": [
      "activity Technology\n",
      "ProfileData for Investor id: 108\n",
      "The length of ProfileData is: (1, 20)\n",
      "Technology\n",
      "ProfileData for Investor id: 108\n",
      "The length of ProfileData is: (1, 20)\n",
      "Technology\n",
      "ProfileData for Investor id: 108\n",
      "The length of ProfileData is: (1, 20)\n",
      "Technology\n"
     ]
    },
    {
     "name": "stderr",
     "output_type": "stream",
     "text": [
      "127.0.0.1 - - [09/May/2024 11:58:35] \"POST /predict_tolerance_risk HTTP/1.1\" 200 -\n"
     ]
    },
    {
     "name": "stdout",
     "output_type": "stream",
     "text": [
      "activity Technology\n"
     ]
    },
    {
     "name": "stderr",
     "output_type": "stream",
     "text": [
      "127.0.0.1 - - [09/May/2024 11:58:37] \"POST /predict_tolerance_risk HTTP/1.1\" 200 -\n",
      "127.0.0.1 - - [09/May/2024 11:58:37] \"POST /predict_tolerance_risk HTTP/1.1\" 200 -\n"
     ]
    },
    {
     "name": "stdout",
     "output_type": "stream",
     "text": [
      "activity Technology\n",
      "activity Technology\n",
      "ProfileData for Investor id: 108\n",
      "The length of ProfileData is: (1, 20)\n",
      "Technology\n",
      "ProfileData for Investor id: 108\n",
      "The length of ProfileData is: (1, 20)\n",
      "Technology\n"
     ]
    },
    {
     "name": "stderr",
     "output_type": "stream",
     "text": [
      "127.0.0.1 - - [09/May/2024 11:58:41] \"POST /predict_tolerance_risk HTTP/1.1\" 200 -\n"
     ]
    },
    {
     "name": "stdout",
     "output_type": "stream",
     "text": [
      "activity Technology\n"
     ]
    },
    {
     "name": "stderr",
     "output_type": "stream",
     "text": [
      "127.0.0.1 - - [09/May/2024 11:58:43] \"POST /predict_tolerance_risk HTTP/1.1\" 200 -\n"
     ]
    },
    {
     "name": "stdout",
     "output_type": "stream",
     "text": [
      "activity Technology\n",
      "ProfileData for Investor id: 108\n",
      "The length of ProfileData is: (1, 20)\n",
      "Technology\n",
      "ProfileData for Investor id: 108\n",
      "The length of ProfileData is: (1, 20)\n",
      "Technology\n",
      "ProfileData for Investor id: 108\n",
      "The length of ProfileData is: (1, 20)\n",
      "Technology\n",
      "ProfileData for Investor id: 108\n",
      "The length of ProfileData is: (1, 20)\n",
      "Technology\n"
     ]
    },
    {
     "name": "stderr",
     "output_type": "stream",
     "text": [
      "127.0.0.1 - - [09/May/2024 11:58:49] \"POST /predict_tolerance_risk HTTP/1.1\" 200 -\n"
     ]
    },
    {
     "name": "stdout",
     "output_type": "stream",
     "text": [
      "activity Technology\n"
     ]
    },
    {
     "name": "stderr",
     "output_type": "stream",
     "text": [
      "127.0.0.1 - - [09/May/2024 11:58:49] \"POST /predict_tolerance_risk HTTP/1.1\" 200 -\n"
     ]
    },
    {
     "name": "stdout",
     "output_type": "stream",
     "text": [
      "activity Technology\n"
     ]
    },
    {
     "name": "stderr",
     "output_type": "stream",
     "text": [
      "127.0.0.1 - - [09/May/2024 11:58:49] \"POST /predict_tolerance_risk HTTP/1.1\" 200 -\n"
     ]
    },
    {
     "name": "stdout",
     "output_type": "stream",
     "text": [
      "activity Technology\n"
     ]
    },
    {
     "name": "stderr",
     "output_type": "stream",
     "text": [
      "127.0.0.1 - - [09/May/2024 11:58:50] \"POST /predict_tolerance_risk HTTP/1.1\" 200 -\n"
     ]
    },
    {
     "name": "stdout",
     "output_type": "stream",
     "text": [
      "activity Technology\n",
      "ProfileData for Investor id: 108\n",
      "The length of ProfileData is: (1, 20)\n",
      "Technology\n",
      "ProfileData for Investor id: 108\n",
      "The length of ProfileData is: (1, 20)\n",
      "Technology\n",
      "ProfileData for Investor id: 108\n",
      "The length of ProfileData is: (1, 20)\n",
      "Technology\n",
      "ProfileData for Investor id: 108\n",
      "The length of ProfileData is: (1, 20)\n",
      "Technology\n",
      "ProfileData for Investor id: 108\n",
      "The length of ProfileData is: (1, 20)\n",
      "Technology\n"
     ]
    },
    {
     "name": "stderr",
     "output_type": "stream",
     "text": [
      "127.0.0.1 - - [09/May/2024 11:58:58] \"POST /predict_tolerance_risk HTTP/1.1\" 200 -\n"
     ]
    },
    {
     "name": "stdout",
     "output_type": "stream",
     "text": [
      "activity Technology\n"
     ]
    },
    {
     "name": "stderr",
     "output_type": "stream",
     "text": [
      "127.0.0.1 - - [09/May/2024 11:58:58] \"POST /predict_tolerance_risk HTTP/1.1\" 200 -\n",
      "127.0.0.1 - - [09/May/2024 11:58:58] \"POST /predict_tolerance_risk HTTP/1.1\" 200 -\n",
      "127.0.0.1 - - [09/May/2024 11:58:58] \"POST /predict_tolerance_risk HTTP/1.1\" 200 -\n"
     ]
    },
    {
     "name": "stdout",
     "output_type": "stream",
     "text": [
      "activity Technology\n",
      "activity Technologyactivity\n",
      " Technology\n"
     ]
    },
    {
     "name": "stderr",
     "output_type": "stream",
     "text": [
      "127.0.0.1 - - [09/May/2024 11:58:59] \"POST /predict_tolerance_risk HTTP/1.1\" 200 -\n"
     ]
    },
    {
     "name": "stdout",
     "output_type": "stream",
     "text": [
      "activity Technology\n",
      "ProfileData for Investor id: 108\n",
      "The length of ProfileData is: (1, 20)\n",
      "Technology\n"
     ]
    },
    {
     "name": "stderr",
     "output_type": "stream",
     "text": [
      "127.0.0.1 - - [09/May/2024 11:59:03] \"POST /predict_tolerance_risk HTTP/1.1\" 200 -\n"
     ]
    },
    {
     "name": "stdout",
     "output_type": "stream",
     "text": [
      "activity Technology\n"
     ]
    },
    {
     "name": "stderr",
     "output_type": "stream",
     "text": [
      "127.0.0.1 - - [09/May/2024 12:01:58] \"OPTIONS /predict_tolerance_risk HTTP/1.1\" 200 -\n"
     ]
    },
    {
     "name": "stdout",
     "output_type": "stream",
     "text": [
      "ProfileData for Investor id: 108\n",
      "The length of ProfileData is: (1, 20)\n",
      "Technology\n"
     ]
    },
    {
     "name": "stderr",
     "output_type": "stream",
     "text": [
      "127.0.0.1 - - [09/May/2024 12:02:01] \"POST /predict_tolerance_risk HTTP/1.1\" 200 -\n"
     ]
    },
    {
     "name": "stdout",
     "output_type": "stream",
     "text": [
      "activity Technology\n",
      "ProfileData for Investor id: 108\n",
      "The length of ProfileData is: (1, 20)\n",
      "Technology\n"
     ]
    },
    {
     "name": "stderr",
     "output_type": "stream",
     "text": [
      "127.0.0.1 - - [09/May/2024 12:02:40] \"POST /predict_tolerance_risk HTTP/1.1\" 200 -\n"
     ]
    },
    {
     "name": "stdout",
     "output_type": "stream",
     "text": [
      "activity Technology\n",
      "ProfileData for Investor id: 108\n",
      "The length of ProfileData is: (1, 20)\n",
      "Technology\n"
     ]
    },
    {
     "name": "stderr",
     "output_type": "stream",
     "text": [
      "127.0.0.1 - - [09/May/2024 12:02:45] \"POST /predict_tolerance_risk HTTP/1.1\" 200 -\n"
     ]
    },
    {
     "name": "stdout",
     "output_type": "stream",
     "text": [
      "activity Technology\n"
     ]
    },
    {
     "name": "stderr",
     "output_type": "stream",
     "text": [
      "127.0.0.1 - - [09/May/2024 12:03:48] \"OPTIONS /predict_tolerance_risk HTTP/1.1\" 200 -\n"
     ]
    },
    {
     "name": "stdout",
     "output_type": "stream",
     "text": [
      "ProfileData for Investor id: 108\n",
      "The length of ProfileData is: (1, 20)\n",
      "Technology\n"
     ]
    },
    {
     "name": "stderr",
     "output_type": "stream",
     "text": [
      "127.0.0.1 - - [09/May/2024 12:03:51] \"POST /predict_tolerance_risk HTTP/1.1\" 200 -\n"
     ]
    },
    {
     "name": "stdout",
     "output_type": "stream",
     "text": [
      "activity Technology\n",
      "ProfileData for Investor id: 108\n",
      "The length of ProfileData is: (1, 20)\n",
      "Technology\n"
     ]
    },
    {
     "name": "stderr",
     "output_type": "stream",
     "text": [
      "127.0.0.1 - - [09/May/2024 12:04:32] \"POST /predict_tolerance_risk HTTP/1.1\" 200 -\n"
     ]
    },
    {
     "name": "stdout",
     "output_type": "stream",
     "text": [
      "activity Technology\n",
      "ProfileData for Investor id: 108\n",
      "The length of ProfileData is: (1, 20)\n",
      "Technology\n"
     ]
    },
    {
     "name": "stderr",
     "output_type": "stream",
     "text": [
      "127.0.0.1 - - [09/May/2024 12:04:36] \"POST /predict_tolerance_risk HTTP/1.1\" 200 -\n"
     ]
    },
    {
     "name": "stdout",
     "output_type": "stream",
     "text": [
      "activity Technology\n"
     ]
    },
    {
     "name": "stderr",
     "output_type": "stream",
     "text": [
      "127.0.0.1 - - [09/May/2024 12:07:43] \"OPTIONS /predict_tolerance_risk HTTP/1.1\" 200 -\n"
     ]
    },
    {
     "name": "stdout",
     "output_type": "stream",
     "text": [
      "ProfileData for Investor id: 108\n",
      "The length of ProfileData is: (1, 20)\n",
      "Technology\n"
     ]
    },
    {
     "name": "stderr",
     "output_type": "stream",
     "text": [
      "127.0.0.1 - - [09/May/2024 12:07:45] \"POST /predict_tolerance_risk HTTP/1.1\" 200 -\n"
     ]
    },
    {
     "name": "stdout",
     "output_type": "stream",
     "text": [
      "activity Technology\n",
      "ProfileData for Investor id: 108\n",
      "The length of ProfileData is: (1, 20)\n",
      "Technology\n"
     ]
    },
    {
     "name": "stderr",
     "output_type": "stream",
     "text": [
      "127.0.0.1 - - [09/May/2024 12:08:23] \"POST /predict_tolerance_risk HTTP/1.1\" 200 -\n"
     ]
    },
    {
     "name": "stdout",
     "output_type": "stream",
     "text": [
      "activity Technology\n",
      "ProfileData for Investor id: 108\n",
      "The length of ProfileData is: (1, 20)\n",
      "Technology\n"
     ]
    },
    {
     "name": "stderr",
     "output_type": "stream",
     "text": [
      "127.0.0.1 - - [09/May/2024 12:08:28] \"POST /predict_tolerance_risk HTTP/1.1\" 200 -\n"
     ]
    },
    {
     "name": "stdout",
     "output_type": "stream",
     "text": [
      "activity Technology\n"
     ]
    },
    {
     "name": "stderr",
     "output_type": "stream",
     "text": [
      "127.0.0.1 - - [09/May/2024 12:11:52] \"OPTIONS /predict_tolerance_risk HTTP/1.1\" 200 -\n"
     ]
    },
    {
     "name": "stdout",
     "output_type": "stream",
     "text": [
      "ProfileData for Investor id: 108\n",
      "The length of ProfileData is: (1, 20)\n",
      "Technology\n"
     ]
    },
    {
     "name": "stderr",
     "output_type": "stream",
     "text": [
      "127.0.0.1 - - [09/May/2024 12:11:55] \"POST /predict_tolerance_risk HTTP/1.1\" 200 -\n"
     ]
    },
    {
     "name": "stdout",
     "output_type": "stream",
     "text": [
      "activity Technology\n",
      "ProfileData for Investor id: 108\n",
      "The length of ProfileData is: (1, 20)\n",
      "Technology\n"
     ]
    },
    {
     "name": "stderr",
     "output_type": "stream",
     "text": [
      "127.0.0.1 - - [09/May/2024 12:12:30] \"POST /predict_tolerance_risk HTTP/1.1\" 200 -\n"
     ]
    },
    {
     "name": "stdout",
     "output_type": "stream",
     "text": [
      "activity Technology\n",
      "ProfileData for Investor id: 108\n",
      "The length of ProfileData is: (1, 20)\n",
      "Technology\n"
     ]
    },
    {
     "name": "stderr",
     "output_type": "stream",
     "text": [
      "127.0.0.1 - - [09/May/2024 12:12:35] \"POST /predict_tolerance_risk HTTP/1.1\" 200 -\n"
     ]
    },
    {
     "name": "stdout",
     "output_type": "stream",
     "text": [
      "activity Technology\n"
     ]
    },
    {
     "name": "stderr",
     "output_type": "stream",
     "text": [
      "127.0.0.1 - - [09/May/2024 13:02:01] \"OPTIONS /predict_tolerance_risk HTTP/1.1\" 200 -\n"
     ]
    },
    {
     "name": "stdout",
     "output_type": "stream",
     "text": [
      "ProfileData for Investor id: 108\n",
      "The length of ProfileData is: (1, 20)\n",
      "Technology\n"
     ]
    },
    {
     "name": "stderr",
     "output_type": "stream",
     "text": [
      "127.0.0.1 - - [09/May/2024 13:02:04] \"POST /predict_tolerance_risk HTTP/1.1\" 200 -\n"
     ]
    },
    {
     "name": "stdout",
     "output_type": "stream",
     "text": [
      "activity Technology\n",
      "ProfileData for Investor id: 108\n",
      "The length of ProfileData is: (1, 20)\n",
      "Technology\n"
     ]
    },
    {
     "name": "stderr",
     "output_type": "stream",
     "text": [
      "127.0.0.1 - - [09/May/2024 13:02:39] \"POST /predict_tolerance_risk HTTP/1.1\" 200 -\n"
     ]
    },
    {
     "name": "stdout",
     "output_type": "stream",
     "text": [
      "activity Technology\n",
      "ProfileData for Investor id: 108\n",
      "The length of ProfileData is: (1, 20)\n",
      "Technology\n"
     ]
    },
    {
     "name": "stderr",
     "output_type": "stream",
     "text": [
      "127.0.0.1 - - [09/May/2024 13:02:43] \"POST /predict_tolerance_risk HTTP/1.1\" 200 -\n"
     ]
    },
    {
     "name": "stdout",
     "output_type": "stream",
     "text": [
      "activity Technology\n"
     ]
    },
    {
     "name": "stderr",
     "output_type": "stream",
     "text": [
      "127.0.0.1 - - [09/May/2024 13:02:58] \"OPTIONS /predict_tolerance_risk HTTP/1.1\" 200 -\n"
     ]
    },
    {
     "name": "stdout",
     "output_type": "stream",
     "text": [
      "ProfileData for Investor id: 108\n",
      "The length of ProfileData is: (1, 20)\n",
      "Technology\n"
     ]
    },
    {
     "name": "stderr",
     "output_type": "stream",
     "text": [
      "127.0.0.1 - - [09/May/2024 13:03:01] \"POST /predict_tolerance_risk HTTP/1.1\" 200 -\n"
     ]
    },
    {
     "name": "stdout",
     "output_type": "stream",
     "text": [
      "activity Technology\n"
     ]
    },
    {
     "name": "stderr",
     "output_type": "stream",
     "text": [
      "127.0.0.1 - - [09/May/2024 13:03:26] \"OPTIONS /predict_tolerance_risk HTTP/1.1\" 200 -\n"
     ]
    },
    {
     "name": "stdout",
     "output_type": "stream",
     "text": [
      "ProfileData for Investor id: 108\n",
      "The length of ProfileData is: (1, 20)\n",
      "Technology\n"
     ]
    },
    {
     "name": "stderr",
     "output_type": "stream",
     "text": [
      "127.0.0.1 - - [09/May/2024 13:03:31] \"POST /predict_tolerance_risk HTTP/1.1\" 200 -\n"
     ]
    },
    {
     "name": "stdout",
     "output_type": "stream",
     "text": [
      "activity Technology\n",
      "ProfileData for Investor id: 108\n",
      "The length of ProfileData is: (1, 20)\n",
      "Technology\n"
     ]
    },
    {
     "name": "stderr",
     "output_type": "stream",
     "text": [
      "127.0.0.1 - - [09/May/2024 13:04:05] \"POST /predict_tolerance_risk HTTP/1.1\" 200 -\n"
     ]
    },
    {
     "name": "stdout",
     "output_type": "stream",
     "text": [
      "activity Technology\n",
      "ProfileData for Investor id: 108\n",
      "The length of ProfileData is: (1, 20)\n",
      "Technology\n"
     ]
    },
    {
     "name": "stderr",
     "output_type": "stream",
     "text": [
      "127.0.0.1 - - [09/May/2024 13:04:14] \"POST /predict_tolerance_risk HTTP/1.1\" 200 -\n"
     ]
    },
    {
     "name": "stdout",
     "output_type": "stream",
     "text": [
      "activity Technology\n"
     ]
    },
    {
     "name": "stderr",
     "output_type": "stream",
     "text": [
      "127.0.0.1 - - [09/May/2024 13:04:14] \"OPTIONS /predict_tolerance_risk HTTP/1.1\" 200 -\n"
     ]
    },
    {
     "name": "stdout",
     "output_type": "stream",
     "text": [
      "ProfileData for Investor id: 108\n",
      "The length of ProfileData is: (1, 20)\n",
      "Technology\n"
     ]
    },
    {
     "name": "stderr",
     "output_type": "stream",
     "text": [
      "127.0.0.1 - - [09/May/2024 13:04:20] \"POST /predict_tolerance_risk HTTP/1.1\" 200 -\n"
     ]
    },
    {
     "name": "stdout",
     "output_type": "stream",
     "text": [
      "activity Technology\n"
     ]
    },
    {
     "name": "stderr",
     "output_type": "stream",
     "text": [
      "127.0.0.1 - - [09/May/2024 13:04:40] \"OPTIONS /predict_tolerance_risk HTTP/1.1\" 200 -\n"
     ]
    },
    {
     "name": "stdout",
     "output_type": "stream",
     "text": [
      "ProfileData for Investor id: 108\n",
      "The length of ProfileData is: (1, 20)\n",
      "Technology\n"
     ]
    },
    {
     "name": "stderr",
     "output_type": "stream",
     "text": [
      "127.0.0.1 - - [09/May/2024 13:04:43] \"POST /predict_tolerance_risk HTTP/1.1\" 200 -\n"
     ]
    },
    {
     "name": "stdout",
     "output_type": "stream",
     "text": [
      "activity Technology\n",
      "ProfileData for Investor id: 108\n",
      "The length of ProfileData is: (1, 20)\n",
      "Technology\n"
     ]
    },
    {
     "name": "stderr",
     "output_type": "stream",
     "text": [
      "127.0.0.1 - - [09/May/2024 13:04:49] \"POST /predict_tolerance_risk HTTP/1.1\" 200 -\n"
     ]
    },
    {
     "name": "stdout",
     "output_type": "stream",
     "text": [
      "activity Technology\n",
      "ProfileData for Investor id: 108\n",
      "The length of ProfileData is: (1, 20)\n",
      "Technology\n"
     ]
    },
    {
     "name": "stderr",
     "output_type": "stream",
     "text": [
      "127.0.0.1 - - [09/May/2024 13:04:55] \"POST /predict_tolerance_risk HTTP/1.1\" 200 -\n"
     ]
    },
    {
     "name": "stdout",
     "output_type": "stream",
     "text": [
      "activity Technology\n"
     ]
    },
    {
     "name": "stderr",
     "output_type": "stream",
     "text": [
      "127.0.0.1 - - [09/May/2024 13:05:11] \"OPTIONS /predict_tolerance_risk HTTP/1.1\" 200 -\n"
     ]
    },
    {
     "name": "stdout",
     "output_type": "stream",
     "text": [
      "ProfileData for Investor id: 108\n",
      "The length of ProfileData is: (1, 20)\n",
      "Technology\n"
     ]
    },
    {
     "name": "stderr",
     "output_type": "stream",
     "text": [
      "127.0.0.1 - - [09/May/2024 13:05:14] \"POST /predict_tolerance_risk HTTP/1.1\" 200 -\n"
     ]
    },
    {
     "name": "stdout",
     "output_type": "stream",
     "text": [
      "activity Technology\n",
      "ProfileData for Investor id: 108\n",
      "The length of ProfileData is: (1, 20)\n",
      "Technology\n"
     ]
    },
    {
     "name": "stderr",
     "output_type": "stream",
     "text": [
      "127.0.0.1 - - [09/May/2024 13:05:53] \"POST /predict_tolerance_risk HTTP/1.1\" 200 -\n",
      "127.0.0.1 - - [09/May/2024 13:05:53] \"OPTIONS /predict_tolerance_risk HTTP/1.1\" 200 -\n"
     ]
    },
    {
     "name": "stdout",
     "output_type": "stream",
     "text": [
      "activity Technology\n",
      "ProfileData for Investor id: 108\n",
      "The length of ProfileData is: (1, 20)\n",
      "Technology\n",
      "ProfileData for Investor id: 108\n",
      "The length of ProfileData is: (1, 20)\n",
      "Technology\n"
     ]
    },
    {
     "name": "stderr",
     "output_type": "stream",
     "text": [
      "127.0.0.1 - - [09/May/2024 13:05:57] \"POST /predict_tolerance_risk HTTP/1.1\" 200 -\n"
     ]
    },
    {
     "name": "stdout",
     "output_type": "stream",
     "text": [
      "activity Technology\n"
     ]
    },
    {
     "name": "stderr",
     "output_type": "stream",
     "text": [
      "127.0.0.1 - - [09/May/2024 13:05:59] \"POST /predict_tolerance_risk HTTP/1.1\" 200 -\n"
     ]
    },
    {
     "name": "stdout",
     "output_type": "stream",
     "text": [
      "activity Technology\n"
     ]
    },
    {
     "name": "stderr",
     "output_type": "stream",
     "text": [
      "127.0.0.1 - - [09/May/2024 13:06:08] \"OPTIONS /predict_tolerance_risk HTTP/1.1\" 200 -\n"
     ]
    },
    {
     "name": "stdout",
     "output_type": "stream",
     "text": [
      "ProfileData for Investor id: 108\n",
      "The length of ProfileData is: (1, 20)\n",
      "Technology\n"
     ]
    },
    {
     "name": "stderr",
     "output_type": "stream",
     "text": [
      "127.0.0.1 - - [09/May/2024 13:06:11] \"POST /predict_tolerance_risk HTTP/1.1\" 200 -\n"
     ]
    },
    {
     "name": "stdout",
     "output_type": "stream",
     "text": [
      "activity Technology\n"
     ]
    },
    {
     "name": "stderr",
     "output_type": "stream",
     "text": [
      "127.0.0.1 - - [09/May/2024 13:06:23] \"OPTIONS /predict_tolerance_risk HTTP/1.1\" 200 -\n"
     ]
    },
    {
     "name": "stdout",
     "output_type": "stream",
     "text": [
      "ProfileData for Investor id: 108\n",
      "The length of ProfileData is: (1, 20)\n",
      "Technology\n"
     ]
    },
    {
     "name": "stderr",
     "output_type": "stream",
     "text": [
      "127.0.0.1 - - [09/May/2024 13:06:26] \"POST /predict_tolerance_risk HTTP/1.1\" 200 -\n"
     ]
    },
    {
     "name": "stdout",
     "output_type": "stream",
     "text": [
      "activity Technology\n",
      "ProfileData for Investor id: 108\n",
      "The length of ProfileData is: (1, 20)\n",
      "Technology\n"
     ]
    },
    {
     "name": "stderr",
     "output_type": "stream",
     "text": [
      "127.0.0.1 - - [09/May/2024 13:06:36] \"POST /predict_tolerance_risk HTTP/1.1\" 200 -\n"
     ]
    },
    {
     "name": "stdout",
     "output_type": "stream",
     "text": [
      "activity Technology\n",
      "ProfileData for Investor id: 108\n",
      "The length of ProfileData is: (1, 20)\n",
      "Technology\n"
     ]
    },
    {
     "name": "stderr",
     "output_type": "stream",
     "text": [
      "127.0.0.1 - - [09/May/2024 13:06:42] \"POST /predict_tolerance_risk HTTP/1.1\" 200 -\n"
     ]
    },
    {
     "name": "stdout",
     "output_type": "stream",
     "text": [
      "activity Technology\n"
     ]
    },
    {
     "name": "stderr",
     "output_type": "stream",
     "text": [
      "127.0.0.1 - - [09/May/2024 13:06:46] \"OPTIONS /predict_tolerance_risk HTTP/1.1\" 200 -\n"
     ]
    },
    {
     "name": "stdout",
     "output_type": "stream",
     "text": [
      "ProfileData for Investor id: 108\n",
      "The length of ProfileData is: (1, 20)\n",
      "Technology\n"
     ]
    },
    {
     "name": "stderr",
     "output_type": "stream",
     "text": [
      "127.0.0.1 - - [09/May/2024 13:06:50] \"POST /predict_tolerance_risk HTTP/1.1\" 200 -\n"
     ]
    },
    {
     "name": "stdout",
     "output_type": "stream",
     "text": [
      "activity Technology\n"
     ]
    },
    {
     "name": "stderr",
     "output_type": "stream",
     "text": [
      "127.0.0.1 - - [09/May/2024 13:07:13] \"OPTIONS /predict_tolerance_risk HTTP/1.1\" 200 -\n"
     ]
    },
    {
     "name": "stdout",
     "output_type": "stream",
     "text": [
      "ProfileData for Investor id: 108\n",
      "The length of ProfileData is: (1, 20)\n",
      "Technology\n"
     ]
    },
    {
     "name": "stderr",
     "output_type": "stream",
     "text": [
      "127.0.0.1 - - [09/May/2024 13:07:16] \"POST /predict_tolerance_risk HTTP/1.1\" 200 -\n"
     ]
    },
    {
     "name": "stdout",
     "output_type": "stream",
     "text": [
      "activity Technology\n"
     ]
    },
    {
     "name": "stderr",
     "output_type": "stream",
     "text": [
      "127.0.0.1 - - [09/May/2024 13:07:50] \"OPTIONS /predict_tolerance_risk HTTP/1.1\" 200 -\n"
     ]
    },
    {
     "name": "stdout",
     "output_type": "stream",
     "text": [
      "ProfileData for Investor id: 108\n",
      "The length of ProfileData is: (1, 20)\n",
      "Technology\n"
     ]
    },
    {
     "name": "stderr",
     "output_type": "stream",
     "text": [
      "127.0.0.1 - - [09/May/2024 13:07:54] \"POST /predict_tolerance_risk HTTP/1.1\" 200 -\n"
     ]
    },
    {
     "name": "stdout",
     "output_type": "stream",
     "text": [
      "activity Technology\n",
      "ProfileData for Investor id: 108\n",
      "The length of ProfileData is: (1, 20)\n",
      "Technology\n"
     ]
    },
    {
     "name": "stderr",
     "output_type": "stream",
     "text": [
      "127.0.0.1 - - [09/May/2024 13:08:08] \"POST /predict_tolerance_risk HTTP/1.1\" 200 -\n"
     ]
    },
    {
     "name": "stdout",
     "output_type": "stream",
     "text": [
      "activity Technology\n",
      "ProfileData for Investor id: 108\n",
      "The length of ProfileData is: (1, 20)\n",
      "Technology\n"
     ]
    },
    {
     "name": "stderr",
     "output_type": "stream",
     "text": [
      "127.0.0.1 - - [09/May/2024 13:08:13] \"POST /predict_tolerance_risk HTTP/1.1\" 200 -\n"
     ]
    },
    {
     "name": "stdout",
     "output_type": "stream",
     "text": [
      "activity Technology\n"
     ]
    },
    {
     "name": "stderr",
     "output_type": "stream",
     "text": [
      "127.0.0.1 - - [09/May/2024 13:09:16] \"OPTIONS /predict_tolerance_risk HTTP/1.1\" 200 -\n"
     ]
    },
    {
     "name": "stdout",
     "output_type": "stream",
     "text": [
      "ProfileData for Investor id: 108\n",
      "The length of ProfileData is: (1, 20)\n",
      "Technology\n"
     ]
    },
    {
     "name": "stderr",
     "output_type": "stream",
     "text": [
      "127.0.0.1 - - [09/May/2024 13:09:20] \"POST /predict_tolerance_risk HTTP/1.1\" 200 -\n"
     ]
    },
    {
     "name": "stdout",
     "output_type": "stream",
     "text": [
      "activity Technology\n",
      "ProfileData for Investor id: 108\n",
      "The length of ProfileData is: (1, 20)\n",
      "Technology\n"
     ]
    },
    {
     "name": "stderr",
     "output_type": "stream",
     "text": [
      "127.0.0.1 - - [09/May/2024 13:09:24] \"POST /predict_tolerance_risk HTTP/1.1\" 200 -\n"
     ]
    },
    {
     "name": "stdout",
     "output_type": "stream",
     "text": [
      "activity Technology\n",
      "ProfileData for Investor id: 108\n",
      "The length of ProfileData is: (1, 20)\n",
      "Technology\n"
     ]
    },
    {
     "name": "stderr",
     "output_type": "stream",
     "text": [
      "127.0.0.1 - - [09/May/2024 13:09:37] \"POST /predict_tolerance_risk HTTP/1.1\" 200 -\n"
     ]
    },
    {
     "name": "stdout",
     "output_type": "stream",
     "text": [
      "activity Technology\n",
      "ProfileData for Investor id: 108\n",
      "The length of ProfileData is: (1, 20)\n",
      "Technology\n"
     ]
    },
    {
     "name": "stderr",
     "output_type": "stream",
     "text": [
      "127.0.0.1 - - [09/May/2024 13:09:43] \"POST /predict_tolerance_risk HTTP/1.1\" 200 -\n"
     ]
    },
    {
     "name": "stdout",
     "output_type": "stream",
     "text": [
      "activity Technology\n"
     ]
    },
    {
     "name": "stderr",
     "output_type": "stream",
     "text": [
      "127.0.0.1 - - [09/May/2024 13:09:51] \"OPTIONS /predict_tolerance_risk HTTP/1.1\" 200 -\n"
     ]
    },
    {
     "name": "stdout",
     "output_type": "stream",
     "text": [
      "ProfileData for Investor id: 108\n",
      "The length of ProfileData is: (1, 20)\n",
      "Technology\n"
     ]
    },
    {
     "name": "stderr",
     "output_type": "stream",
     "text": [
      "127.0.0.1 - - [09/May/2024 13:09:54] \"POST /predict_tolerance_risk HTTP/1.1\" 200 -\n"
     ]
    },
    {
     "name": "stdout",
     "output_type": "stream",
     "text": [
      "activity Technology\n",
      "ProfileData for Investor id: 108\n",
      "The length of ProfileData is: (1, 20)\n",
      "Technology\n"
     ]
    },
    {
     "name": "stderr",
     "output_type": "stream",
     "text": [
      "127.0.0.1 - - [09/May/2024 13:10:04] \"POST /predict_tolerance_risk HTTP/1.1\" 200 -\n"
     ]
    },
    {
     "name": "stdout",
     "output_type": "stream",
     "text": [
      "activity Technology\n",
      "ProfileData for Investor id: 108\n",
      "The length of ProfileData is: (1, 20)\n",
      "Technology\n"
     ]
    },
    {
     "name": "stderr",
     "output_type": "stream",
     "text": [
      "127.0.0.1 - - [09/May/2024 13:10:08] \"OPTIONS /predict_tolerance_risk HTTP/1.1\" 200 -\n"
     ]
    },
    {
     "name": "stdout",
     "output_type": "stream",
     "text": [
      "ProfileData for Investor id: 108\n",
      "The length of ProfileData is: (1, 20)\n",
      "Technology\n",
      "ProfileData for Investor id: 108\n",
      "The length of ProfileData is: (1, 20)\n",
      "Technology\n"
     ]
    },
    {
     "name": "stderr",
     "output_type": "stream",
     "text": [
      "127.0.0.1 - - [09/May/2024 13:10:11] \"POST /predict_tolerance_risk HTTP/1.1\" 200 -\n"
     ]
    },
    {
     "name": "stdout",
     "output_type": "stream",
     "text": [
      "activity Technology\n"
     ]
    },
    {
     "name": "stderr",
     "output_type": "stream",
     "text": [
      "127.0.0.1 - - [09/May/2024 13:10:12] \"POST /predict_tolerance_risk HTTP/1.1\" 200 -\n"
     ]
    },
    {
     "name": "stdout",
     "output_type": "stream",
     "text": [
      "activity Technology\n"
     ]
    },
    {
     "name": "stderr",
     "output_type": "stream",
     "text": [
      "127.0.0.1 - - [09/May/2024 13:10:14] \"POST /predict_tolerance_risk HTTP/1.1\" 200 -\n"
     ]
    },
    {
     "name": "stdout",
     "output_type": "stream",
     "text": [
      "activity Technology\n",
      "ProfileData for Investor id: 108\n",
      "The length of ProfileData is: (1, 20)\n",
      "Technology\n"
     ]
    },
    {
     "name": "stderr",
     "output_type": "stream",
     "text": [
      "127.0.0.1 - - [09/May/2024 13:10:20] \"POST /predict_tolerance_risk HTTP/1.1\" 200 -\n"
     ]
    },
    {
     "name": "stdout",
     "output_type": "stream",
     "text": [
      "activity Technology\n",
      "ProfileData for Investor id: 108\n",
      "The length of ProfileData is: (1, 20)\n",
      "Technology\n"
     ]
    },
    {
     "name": "stderr",
     "output_type": "stream",
     "text": [
      "127.0.0.1 - - [09/May/2024 13:10:39] \"POST /predict_tolerance_risk HTTP/1.1\" 200 -\n"
     ]
    },
    {
     "name": "stdout",
     "output_type": "stream",
     "text": [
      "activity Technology\n",
      "ProfileData for Investor id: 108\n",
      "The length of ProfileData is: (1, 20)\n",
      "Technology\n"
     ]
    },
    {
     "name": "stderr",
     "output_type": "stream",
     "text": [
      "127.0.0.1 - - [09/May/2024 13:10:45] \"POST /predict_tolerance_risk HTTP/1.1\" 200 -\n"
     ]
    },
    {
     "name": "stdout",
     "output_type": "stream",
     "text": [
      "activity Technology\n",
      "ProfileData for Investor id: 108\n",
      "The length of ProfileData is: (1, 20)\n",
      "Technology\n"
     ]
    },
    {
     "name": "stderr",
     "output_type": "stream",
     "text": [
      "127.0.0.1 - - [09/May/2024 13:11:16] \"POST /predict_tolerance_risk HTTP/1.1\" 200 -\n"
     ]
    },
    {
     "name": "stdout",
     "output_type": "stream",
     "text": [
      "activity Technology\n",
      "ProfileData for Investor id: 108\n",
      "The length of ProfileData is: (1, 20)\n",
      "Technology\n"
     ]
    },
    {
     "name": "stderr",
     "output_type": "stream",
     "text": [
      "127.0.0.1 - - [09/May/2024 13:11:22] \"POST /predict_tolerance_risk HTTP/1.1\" 200 -\n"
     ]
    },
    {
     "name": "stdout",
     "output_type": "stream",
     "text": [
      "activity Technology\n",
      "ProfileData for Investor id: 108\n",
      "The length of ProfileData is: (1, 20)\n",
      "Technology\n"
     ]
    },
    {
     "name": "stderr",
     "output_type": "stream",
     "text": [
      "127.0.0.1 - - [09/May/2024 13:12:01] \"POST /predict_tolerance_risk HTTP/1.1\" 200 -\n"
     ]
    },
    {
     "name": "stdout",
     "output_type": "stream",
     "text": [
      "activity Technology\n",
      "ProfileData for Investor id: 108\n",
      "The length of ProfileData is: (1, 20)\n",
      "Technology\n"
     ]
    },
    {
     "name": "stderr",
     "output_type": "stream",
     "text": [
      "127.0.0.1 - - [09/May/2024 13:12:07] \"POST /predict_tolerance_risk HTTP/1.1\" 200 -\n"
     ]
    },
    {
     "name": "stdout",
     "output_type": "stream",
     "text": [
      "activity Technology\n"
     ]
    },
    {
     "name": "stderr",
     "output_type": "stream",
     "text": [
      "127.0.0.1 - - [09/May/2024 13:12:08] \"OPTIONS /predict_tolerance_risk HTTP/1.1\" 200 -\n"
     ]
    },
    {
     "name": "stdout",
     "output_type": "stream",
     "text": [
      "ProfileData for Investor id: 108\n",
      "The length of ProfileData is: (1, 20)\n",
      "Technology\n"
     ]
    },
    {
     "name": "stderr",
     "output_type": "stream",
     "text": [
      "127.0.0.1 - - [09/May/2024 13:12:12] \"POST /predict_tolerance_risk HTTP/1.1\" 200 -\n"
     ]
    },
    {
     "name": "stdout",
     "output_type": "stream",
     "text": [
      "activity Technology\n"
     ]
    },
    {
     "name": "stderr",
     "output_type": "stream",
     "text": [
      "127.0.0.1 - - [09/May/2024 13:12:20] \"OPTIONS /predict_tolerance_risk HTTP/1.1\" 200 -\n"
     ]
    },
    {
     "name": "stdout",
     "output_type": "stream",
     "text": [
      "ProfileData for Investor id: 108\n",
      "The length of ProfileData is: (1, 20)\n",
      "Technology\n"
     ]
    },
    {
     "name": "stderr",
     "output_type": "stream",
     "text": [
      "127.0.0.1 - - [09/May/2024 13:12:23] \"POST /predict_tolerance_risk HTTP/1.1\" 200 -\n"
     ]
    },
    {
     "name": "stdout",
     "output_type": "stream",
     "text": [
      "activity Technology\n"
     ]
    },
    {
     "name": "stderr",
     "output_type": "stream",
     "text": [
      "127.0.0.1 - - [09/May/2024 13:12:27] \"OPTIONS /predict_tolerance_risk HTTP/1.1\" 200 -\n"
     ]
    },
    {
     "name": "stdout",
     "output_type": "stream",
     "text": [
      "ProfileData for Investor id: 108\n",
      "The length of ProfileData is: (1, 20)\n",
      "Technology\n"
     ]
    },
    {
     "name": "stderr",
     "output_type": "stream",
     "text": [
      "127.0.0.1 - - [09/May/2024 13:12:31] \"POST /predict_tolerance_risk HTTP/1.1\" 200 -\n"
     ]
    },
    {
     "name": "stdout",
     "output_type": "stream",
     "text": [
      "activity Technology\n"
     ]
    },
    {
     "name": "stderr",
     "output_type": "stream",
     "text": [
      "127.0.0.1 - - [09/May/2024 13:12:41] \"OPTIONS /predict_tolerance_risk HTTP/1.1\" 200 -\n"
     ]
    },
    {
     "name": "stdout",
     "output_type": "stream",
     "text": [
      "ProfileData for Investor id: 108\n",
      "The length of ProfileData is: (1, 20)\n",
      "Technology\n"
     ]
    },
    {
     "name": "stderr",
     "output_type": "stream",
     "text": [
      "127.0.0.1 - - [09/May/2024 13:12:44] \"POST /predict_tolerance_risk HTTP/1.1\" 200 -\n"
     ]
    },
    {
     "name": "stdout",
     "output_type": "stream",
     "text": [
      "activity Technology\n",
      "ProfileData for Investor id: 108\n",
      "The length of ProfileData is: (1, 20)\n",
      "Technology\n"
     ]
    },
    {
     "name": "stderr",
     "output_type": "stream",
     "text": [
      "127.0.0.1 - - [09/May/2024 13:12:49] \"POST /predict_tolerance_risk HTTP/1.1\" 200 -\n"
     ]
    },
    {
     "name": "stdout",
     "output_type": "stream",
     "text": [
      "activity Technology\n",
      "ProfileData for Investor id: 108\n",
      "The length of ProfileData is: (1, 20)\n",
      "Technology\n"
     ]
    },
    {
     "name": "stderr",
     "output_type": "stream",
     "text": [
      "127.0.0.1 - - [09/May/2024 13:13:14] \"POST /predict_tolerance_risk HTTP/1.1\" 200 -\n"
     ]
    },
    {
     "name": "stdout",
     "output_type": "stream",
     "text": [
      "activity Technology\n",
      "ProfileData for Investor id: 108\n",
      "The length of ProfileData is: (1, 20)\n",
      "Technology\n"
     ]
    },
    {
     "name": "stderr",
     "output_type": "stream",
     "text": [
      "127.0.0.1 - - [09/May/2024 13:13:20] \"POST /predict_tolerance_risk HTTP/1.1\" 200 -\n"
     ]
    },
    {
     "name": "stdout",
     "output_type": "stream",
     "text": [
      "activity Technology\n"
     ]
    },
    {
     "name": "stderr",
     "output_type": "stream",
     "text": [
      "127.0.0.1 - - [09/May/2024 13:13:24] \"OPTIONS /predict_tolerance_risk HTTP/1.1\" 200 -\n"
     ]
    },
    {
     "name": "stdout",
     "output_type": "stream",
     "text": [
      "ProfileData for Investor id: 108\n",
      "The length of ProfileData is: (1, 20)\n",
      "Technology\n"
     ]
    },
    {
     "name": "stderr",
     "output_type": "stream",
     "text": [
      "127.0.0.1 - - [09/May/2024 13:13:28] \"POST /predict_tolerance_risk HTTP/1.1\" 200 -\n"
     ]
    },
    {
     "name": "stdout",
     "output_type": "stream",
     "text": [
      "activity Technology\n"
     ]
    },
    {
     "name": "stderr",
     "output_type": "stream",
     "text": [
      "127.0.0.1 - - [09/May/2024 13:13:31] \"OPTIONS /predict_tolerance_risk HTTP/1.1\" 200 -\n"
     ]
    },
    {
     "name": "stdout",
     "output_type": "stream",
     "text": [
      "ProfileData for Investor id: 108\n",
      "The length of ProfileData is: (1, 20)\n",
      "Technology\n"
     ]
    },
    {
     "name": "stderr",
     "output_type": "stream",
     "text": [
      "127.0.0.1 - - [09/May/2024 13:13:34] \"POST /predict_tolerance_risk HTTP/1.1\" 200 -\n"
     ]
    },
    {
     "name": "stdout",
     "output_type": "stream",
     "text": [
      "activity Technology\n",
      "ProfileData for Investor id: 108\n",
      "The length of ProfileData is: (1, 20)\n",
      "Technology\n"
     ]
    },
    {
     "name": "stderr",
     "output_type": "stream",
     "text": [
      "127.0.0.1 - - [09/May/2024 13:13:41] \"POST /predict_tolerance_risk HTTP/1.1\" 200 -\n"
     ]
    },
    {
     "name": "stdout",
     "output_type": "stream",
     "text": [
      "activity Technology\n",
      "ProfileData for Investor id: 108\n",
      "The length of ProfileData is: (1, 20)\n",
      "Technology\n"
     ]
    },
    {
     "name": "stderr",
     "output_type": "stream",
     "text": [
      "127.0.0.1 - - [09/May/2024 13:13:47] \"POST /predict_tolerance_risk HTTP/1.1\" 200 -\n"
     ]
    },
    {
     "name": "stdout",
     "output_type": "stream",
     "text": [
      "activity Technology\n",
      "ProfileData for Investor id: 108\n",
      "The length of ProfileData is: (1, 20)\n",
      "Technology\n"
     ]
    },
    {
     "name": "stderr",
     "output_type": "stream",
     "text": [
      "127.0.0.1 - - [09/May/2024 13:14:03] \"POST /predict_tolerance_risk HTTP/1.1\" 200 -\n"
     ]
    },
    {
     "name": "stdout",
     "output_type": "stream",
     "text": [
      "activity Technology\n",
      "ProfileData for Investor id: 108\n",
      "The length of ProfileData is: (1, 20)\n",
      "Technology\n"
     ]
    },
    {
     "name": "stderr",
     "output_type": "stream",
     "text": [
      "127.0.0.1 - - [09/May/2024 13:14:09] \"POST /predict_tolerance_risk HTTP/1.1\" 200 -\n"
     ]
    },
    {
     "name": "stdout",
     "output_type": "stream",
     "text": [
      "activity Technology\n",
      "ProfileData for Investor id: 108\n",
      "The length of ProfileData is: (1, 20)\n",
      "Technology\n"
     ]
    },
    {
     "name": "stderr",
     "output_type": "stream",
     "text": [
      "127.0.0.1 - - [09/May/2024 13:14:23] \"POST /predict_tolerance_risk HTTP/1.1\" 200 -\n"
     ]
    },
    {
     "name": "stdout",
     "output_type": "stream",
     "text": [
      "activity Technology\n",
      "ProfileData for Investor id: 108\n",
      "The length of ProfileData is: (1, 20)\n",
      "Technology\n"
     ]
    },
    {
     "name": "stderr",
     "output_type": "stream",
     "text": [
      "127.0.0.1 - - [09/May/2024 13:14:29] \"POST /predict_tolerance_risk HTTP/1.1\" 200 -\n"
     ]
    },
    {
     "name": "stdout",
     "output_type": "stream",
     "text": [
      "activity Technology\n",
      "ProfileData for Investor id: 108\n",
      "The length of ProfileData is: (1, 20)\n",
      "Technology\n"
     ]
    },
    {
     "name": "stderr",
     "output_type": "stream",
     "text": [
      "127.0.0.1 - - [09/May/2024 13:16:05] \"POST /predict_tolerance_risk HTTP/1.1\" 200 -\n"
     ]
    },
    {
     "name": "stdout",
     "output_type": "stream",
     "text": [
      "activity Technology\n",
      "ProfileData for Investor id: 108\n",
      "The length of ProfileData is: (1, 20)\n",
      "Technology\n"
     ]
    },
    {
     "name": "stderr",
     "output_type": "stream",
     "text": [
      "127.0.0.1 - - [09/May/2024 13:16:10] \"POST /predict_tolerance_risk HTTP/1.1\" 200 -\n"
     ]
    },
    {
     "name": "stdout",
     "output_type": "stream",
     "text": [
      "activity Technology\n",
      "ProfileData for Investor id: 108\n",
      "The length of ProfileData is: (1, 20)\n",
      "Technology\n"
     ]
    },
    {
     "name": "stderr",
     "output_type": "stream",
     "text": [
      "127.0.0.1 - - [09/May/2024 13:16:17] \"POST /predict_tolerance_risk HTTP/1.1\" 200 -\n"
     ]
    },
    {
     "name": "stdout",
     "output_type": "stream",
     "text": [
      "activity Technology\n",
      "ProfileData for Investor id: 108\n",
      "The length of ProfileData is: (1, 20)\n",
      "Technology\n"
     ]
    },
    {
     "name": "stderr",
     "output_type": "stream",
     "text": [
      "127.0.0.1 - - [09/May/2024 13:16:22] \"POST /predict_tolerance_risk HTTP/1.1\" 200 -\n"
     ]
    },
    {
     "name": "stdout",
     "output_type": "stream",
     "text": [
      "activity Technology\n",
      "ProfileData for Investor id: 108\n",
      "The length of ProfileData is: (1, 20)\n",
      "Technology\n"
     ]
    },
    {
     "name": "stderr",
     "output_type": "stream",
     "text": [
      "127.0.0.1 - - [09/May/2024 13:16:55] \"POST /predict_tolerance_risk HTTP/1.1\" 200 -\n"
     ]
    },
    {
     "name": "stdout",
     "output_type": "stream",
     "text": [
      "activity Technology\n",
      "ProfileData for Investor id: 108\n",
      "The length of ProfileData is: (1, 20)\n",
      "Technology\n"
     ]
    },
    {
     "name": "stderr",
     "output_type": "stream",
     "text": [
      "127.0.0.1 - - [09/May/2024 13:17:02] \"POST /predict_tolerance_risk HTTP/1.1\" 200 -\n"
     ]
    },
    {
     "name": "stdout",
     "output_type": "stream",
     "text": [
      "activity Technology\n",
      "ProfileData for Investor id: 108\n",
      "The length of ProfileData is: (1, 20)\n",
      "Technology\n"
     ]
    },
    {
     "name": "stderr",
     "output_type": "stream",
     "text": [
      "127.0.0.1 - - [09/May/2024 13:17:11] \"POST /predict_tolerance_risk HTTP/1.1\" 200 -\n"
     ]
    },
    {
     "name": "stdout",
     "output_type": "stream",
     "text": [
      "activity Technology\n",
      "ProfileData for Investor id: 108\n",
      "The length of ProfileData is: (1, 20)\n",
      "Technology\n",
      "ProfileData for Investor id: 108\n",
      "The length of ProfileData is: (1, 20)\n",
      "Technology\n"
     ]
    },
    {
     "name": "stderr",
     "output_type": "stream",
     "text": [
      "127.0.0.1 - - [09/May/2024 13:17:17] \"POST /predict_tolerance_risk HTTP/1.1\" 200 -\n"
     ]
    },
    {
     "name": "stdout",
     "output_type": "stream",
     "text": [
      "activity Technology\n"
     ]
    },
    {
     "name": "stderr",
     "output_type": "stream",
     "text": [
      "127.0.0.1 - - [09/May/2024 13:17:20] \"POST /predict_tolerance_risk HTTP/1.1\" 200 -\n"
     ]
    },
    {
     "name": "stdout",
     "output_type": "stream",
     "text": [
      "activity Technology\n",
      "ProfileData for Investor id: 108\n",
      "The length of ProfileData is: (1, 20)\n",
      "Technology\n",
      "ProfileData for Investor id: 108\n",
      "The length of ProfileData is: (1, 20)\n",
      "Technology\n"
     ]
    },
    {
     "name": "stderr",
     "output_type": "stream",
     "text": [
      "127.0.0.1 - - [09/May/2024 13:17:26] \"POST /predict_tolerance_risk HTTP/1.1\" 200 -\n"
     ]
    },
    {
     "name": "stdout",
     "output_type": "stream",
     "text": [
      "activity Technology\n"
     ]
    },
    {
     "name": "stderr",
     "output_type": "stream",
     "text": [
      "127.0.0.1 - - [09/May/2024 13:17:27] \"POST /predict_tolerance_risk HTTP/1.1\" 200 -\n"
     ]
    },
    {
     "name": "stdout",
     "output_type": "stream",
     "text": [
      "activity Technology\n",
      "ProfileData for Investor id: 108\n",
      "The length of ProfileData is: (1, 20)\n",
      "Technology\n"
     ]
    },
    {
     "name": "stderr",
     "output_type": "stream",
     "text": [
      "127.0.0.1 - - [09/May/2024 13:17:32] \"POST /predict_tolerance_risk HTTP/1.1\" 200 -\n"
     ]
    },
    {
     "name": "stdout",
     "output_type": "stream",
     "text": [
      "activity Technology\n"
     ]
    },
    {
     "name": "stderr",
     "output_type": "stream",
     "text": [
      "127.0.0.1 - - [09/May/2024 13:18:24] \"OPTIONS /predict_tolerance_risk HTTP/1.1\" 200 -\n"
     ]
    },
    {
     "name": "stdout",
     "output_type": "stream",
     "text": [
      "ProfileData for Investor id: 108\n",
      "The length of ProfileData is: (1, 20)\n",
      "Technology\n",
      "ProfileData for Investor id: 108\n",
      "The length of ProfileData is: (1, 20)\n",
      "Technology\n"
     ]
    },
    {
     "name": "stderr",
     "output_type": "stream",
     "text": [
      "127.0.0.1 - - [09/May/2024 13:18:27] \"POST /predict_tolerance_risk HTTP/1.1\" 200 -\n"
     ]
    },
    {
     "name": "stdout",
     "output_type": "stream",
     "text": [
      "activity Technology\n"
     ]
    },
    {
     "name": "stderr",
     "output_type": "stream",
     "text": [
      "127.0.0.1 - - [09/May/2024 13:18:28] \"POST /predict_tolerance_risk HTTP/1.1\" 200 -\n"
     ]
    },
    {
     "name": "stdout",
     "output_type": "stream",
     "text": [
      "activity Technology\n"
     ]
    },
    {
     "name": "stderr",
     "output_type": "stream",
     "text": [
      "127.0.0.1 - - [09/May/2024 13:18:46] \"OPTIONS /predict_tolerance_risk HTTP/1.1\" 200 -\n"
     ]
    },
    {
     "name": "stdout",
     "output_type": "stream",
     "text": [
      "ProfileData for Investor id: 108\n",
      "The length of ProfileData is: (1, 20)\n",
      "Technology\n"
     ]
    },
    {
     "name": "stderr",
     "output_type": "stream",
     "text": [
      "127.0.0.1 - - [09/May/2024 13:18:50] \"POST /predict_tolerance_risk HTTP/1.1\" 200 -\n"
     ]
    },
    {
     "name": "stdout",
     "output_type": "stream",
     "text": [
      "activity Technology\n",
      "ProfileData for Investor id: 108\n",
      "The length of ProfileData is: (1, 20)\n",
      "Technology\n",
      "ProfileData for Investor id: 108\n",
      "The length of ProfileData is: (1, 20)\n",
      "Technology\n"
     ]
    },
    {
     "name": "stderr",
     "output_type": "stream",
     "text": [
      "127.0.0.1 - - [09/May/2024 13:20:04] \"POST /predict_tolerance_risk HTTP/1.1\" 200 -\n"
     ]
    },
    {
     "name": "stdout",
     "output_type": "stream",
     "text": [
      "activity Technology\n"
     ]
    },
    {
     "name": "stderr",
     "output_type": "stream",
     "text": [
      "127.0.0.1 - - [09/May/2024 13:20:06] \"POST /predict_tolerance_risk HTTP/1.1\" 200 -\n"
     ]
    },
    {
     "name": "stdout",
     "output_type": "stream",
     "text": [
      "activity Technology\n",
      "ProfileData for Investor id: 108\n",
      "The length of ProfileData is: (1, 20)\n",
      "Technology\n",
      "ProfileData for Investor id: 108\n",
      "The length of ProfileData is: (1, 20)\n",
      "Technology\n"
     ]
    },
    {
     "name": "stderr",
     "output_type": "stream",
     "text": [
      "127.0.0.1 - - [09/May/2024 13:20:10] \"POST /predict_tolerance_risk HTTP/1.1\" 200 -\n"
     ]
    },
    {
     "name": "stdout",
     "output_type": "stream",
     "text": [
      "activity Technology\n"
     ]
    },
    {
     "name": "stderr",
     "output_type": "stream",
     "text": [
      "127.0.0.1 - - [09/May/2024 13:20:11] \"POST /predict_tolerance_risk HTTP/1.1\" 200 -\n"
     ]
    },
    {
     "name": "stdout",
     "output_type": "stream",
     "text": [
      "activity Technology\n",
      "ProfileData for Investor id: 108\n",
      "The length of ProfileData is: (1, 20)\n",
      "Technology\n"
     ]
    },
    {
     "name": "stderr",
     "output_type": "stream",
     "text": [
      "127.0.0.1 - - [09/May/2024 13:20:13] \"POST /predict_tolerance_risk HTTP/1.1\" 200 -\n"
     ]
    },
    {
     "name": "stdout",
     "output_type": "stream",
     "text": [
      "activity Technology\n",
      "ProfileData for Investor id: 108\n",
      "The length of ProfileData is: (1, 20)\n",
      "Technology\n"
     ]
    },
    {
     "name": "stderr",
     "output_type": "stream",
     "text": [
      "127.0.0.1 - - [09/May/2024 13:20:17] \"POST /predict_tolerance_risk HTTP/1.1\" 200 -\n"
     ]
    },
    {
     "name": "stdout",
     "output_type": "stream",
     "text": [
      "activity Technology\n"
     ]
    },
    {
     "name": "stderr",
     "output_type": "stream",
     "text": [
      "127.0.0.1 - - [09/May/2024 13:22:32] \"OPTIONS /predict_tolerance_risk HTTP/1.1\" 200 -\n"
     ]
    },
    {
     "name": "stdout",
     "output_type": "stream",
     "text": [
      "ProfileData for Investor id: 108\n",
      "The length of ProfileData is: (1, 20)\n",
      "Technology\n"
     ]
    },
    {
     "name": "stderr",
     "output_type": "stream",
     "text": [
      "127.0.0.1 - - [09/May/2024 13:22:35] \"POST /predict_tolerance_risk HTTP/1.1\" 200 -\n"
     ]
    },
    {
     "name": "stdout",
     "output_type": "stream",
     "text": [
      "activity Technology\n"
     ]
    },
    {
     "name": "stderr",
     "output_type": "stream",
     "text": [
      "127.0.0.1 - - [09/May/2024 13:23:16] \"OPTIONS /predict_tolerance_risk HTTP/1.1\" 200 -\n"
     ]
    },
    {
     "name": "stdout",
     "output_type": "stream",
     "text": [
      "ProfileData for Investor id: 108\n",
      "The length of ProfileData is: (1, 20)\n",
      "Technology\n",
      "ProfileData for Investor id: 108\n",
      "The length of ProfileData is: (1, 20)\n",
      "Technology\n"
     ]
    },
    {
     "name": "stderr",
     "output_type": "stream",
     "text": [
      "127.0.0.1 - - [09/May/2024 13:23:20] \"POST /predict_tolerance_risk HTTP/1.1\" 200 -\n"
     ]
    },
    {
     "name": "stdout",
     "output_type": "stream",
     "text": [
      "activity Technology\n"
     ]
    },
    {
     "name": "stderr",
     "output_type": "stream",
     "text": [
      "127.0.0.1 - - [09/May/2024 13:23:22] \"POST /predict_tolerance_risk HTTP/1.1\" 200 -\n"
     ]
    },
    {
     "name": "stdout",
     "output_type": "stream",
     "text": [
      "activity Technology\n"
     ]
    },
    {
     "name": "stderr",
     "output_type": "stream",
     "text": [
      "127.0.0.1 - - [09/May/2024 13:23:23] \"OPTIONS /predict_tolerance_risk HTTP/1.1\" 200 -\n"
     ]
    },
    {
     "name": "stdout",
     "output_type": "stream",
     "text": [
      "ProfileData for Investor id: 108\n",
      "The length of ProfileData is: (1, 20)\n",
      "Technology\n",
      "ProfileData for Investor id: 108\n",
      "The length of ProfileData is: (1, 20)\n",
      "Technology\n"
     ]
    },
    {
     "name": "stderr",
     "output_type": "stream",
     "text": [
      "127.0.0.1 - - [09/May/2024 13:23:27] \"POST /predict_tolerance_risk HTTP/1.1\" 200 -\n"
     ]
    },
    {
     "name": "stdout",
     "output_type": "stream",
     "text": [
      "activity Technology\n"
     ]
    },
    {
     "name": "stderr",
     "output_type": "stream",
     "text": [
      "127.0.0.1 - - [09/May/2024 13:23:28] \"POST /predict_tolerance_risk HTTP/1.1\" 200 -\n"
     ]
    },
    {
     "name": "stdout",
     "output_type": "stream",
     "text": [
      "activity Technology\n",
      "ProfileData for Investor id: 108\n",
      "The length of ProfileData is: (1, 20)\n",
      "Technology\n"
     ]
    },
    {
     "name": "stderr",
     "output_type": "stream",
     "text": [
      "127.0.0.1 - - [09/May/2024 13:24:55] \"POST /predict_tolerance_risk HTTP/1.1\" 200 -\n"
     ]
    },
    {
     "name": "stdout",
     "output_type": "stream",
     "text": [
      "activity Technology\n",
      "ProfileData for Investor id: 108\n",
      "The length of ProfileData is: (1, 20)\n",
      "Technology\n",
      "ProfileData for Investor id: 108\n",
      "The length of ProfileData is: (1, 20)\n",
      "Technology\n"
     ]
    },
    {
     "name": "stderr",
     "output_type": "stream",
     "text": [
      "127.0.0.1 - - [09/May/2024 13:25:00] \"POST /predict_tolerance_risk HTTP/1.1\" 200 -\n",
      "127.0.0.1 - - [09/May/2024 13:25:00] \"POST /predict_tolerance_risk HTTP/1.1\" 200 -\n"
     ]
    },
    {
     "name": "stdout",
     "output_type": "stream",
     "text": [
      "activity Technology\n",
      "activity Technology\n",
      "ProfileData for Investor id: 108\n",
      "The length of ProfileData is: (1, 20)\n",
      "Technology\n"
     ]
    },
    {
     "name": "stderr",
     "output_type": "stream",
     "text": [
      "127.0.0.1 - - [09/May/2024 13:25:05] \"POST /predict_tolerance_risk HTTP/1.1\" 200 -\n"
     ]
    },
    {
     "name": "stdout",
     "output_type": "stream",
     "text": [
      "activity Technology\n"
     ]
    },
    {
     "name": "stderr",
     "output_type": "stream",
     "text": [
      "127.0.0.1 - - [09/May/2024 13:26:46] \"OPTIONS /predict_tolerance_risk HTTP/1.1\" 200 -\n",
      "127.0.0.1 - - [09/May/2024 13:26:46] \"OPTIONS /predict_tolerance_risk HTTP/1.1\" 200 -\n"
     ]
    },
    {
     "name": "stdout",
     "output_type": "stream",
     "text": [
      "ProfileData for Investor id: 108\n",
      "The length of ProfileData is: (1, 20)\n",
      "Technology\n",
      "ProfileData for Investor id: 108\n",
      "The length of ProfileData is: (1, 20)\n",
      "Technology\n"
     ]
    },
    {
     "name": "stderr",
     "output_type": "stream",
     "text": [
      "127.0.0.1 - - [09/May/2024 13:26:50] \"POST /predict_tolerance_risk HTTP/1.1\" 200 -\n",
      "127.0.0.1 - - [09/May/2024 13:26:50] \"POST /predict_tolerance_risk HTTP/1.1\" 200 -\n"
     ]
    },
    {
     "name": "stdout",
     "output_type": "stream",
     "text": [
      "activity Technology\n",
      "activity Technology\n",
      "ProfileData for Investor id: 108\n",
      "The length of ProfileData is: (1, 20)\n",
      "Technology\n",
      "ProfileData for Investor id: 108\n",
      "The length of ProfileData is: (1, 20)\n",
      "Technology\n"
     ]
    },
    {
     "name": "stderr",
     "output_type": "stream",
     "text": [
      "127.0.0.1 - - [09/May/2024 13:28:01] \"POST /predict_tolerance_risk HTTP/1.1\" 200 -\n"
     ]
    },
    {
     "name": "stdout",
     "output_type": "stream",
     "text": [
      "activity Technology\n"
     ]
    },
    {
     "name": "stderr",
     "output_type": "stream",
     "text": [
      "127.0.0.1 - - [09/May/2024 13:28:02] \"POST /predict_tolerance_risk HTTP/1.1\" 200 -\n"
     ]
    },
    {
     "name": "stdout",
     "output_type": "stream",
     "text": [
      "activity Technology\n",
      "ProfileData for Investor id: 108\n",
      "The length of ProfileData is: (1, 20)\n",
      "Technology\n",
      "ProfileData for Investor id: 108\n",
      "The length of ProfileData is: (1, 20)\n",
      "Technology\n"
     ]
    },
    {
     "name": "stderr",
     "output_type": "stream",
     "text": [
      "127.0.0.1 - - [09/May/2024 13:28:06] \"POST /predict_tolerance_risk HTTP/1.1\" 200 -\n"
     ]
    },
    {
     "name": "stdout",
     "output_type": "stream",
     "text": [
      "activity Technology\n"
     ]
    },
    {
     "name": "stderr",
     "output_type": "stream",
     "text": [
      "127.0.0.1 - - [09/May/2024 13:28:07] \"POST /predict_tolerance_risk HTTP/1.1\" 200 -\n"
     ]
    },
    {
     "name": "stdout",
     "output_type": "stream",
     "text": [
      "activity Technology\n"
     ]
    },
    {
     "name": "stderr",
     "output_type": "stream",
     "text": [
      "127.0.0.1 - - [09/May/2024 13:28:21] \"OPTIONS /predict_tolerance_risk HTTP/1.1\" 200 -\n",
      "127.0.0.1 - - [09/May/2024 13:28:21] \"OPTIONS /predict_tolerance_risk HTTP/1.1\" 200 -\n"
     ]
    },
    {
     "name": "stdout",
     "output_type": "stream",
     "text": [
      "ProfileData for Investor id: 108\n",
      "The length of ProfileData is: (1, 20)\n",
      "Technology\n",
      "ProfileData for Investor id: 108\n",
      "The length of ProfileData is: (1, 20)\n",
      "Technology\n"
     ]
    },
    {
     "name": "stderr",
     "output_type": "stream",
     "text": [
      "127.0.0.1 - - [09/May/2024 13:28:24] \"POST /predict_tolerance_risk HTTP/1.1\" 200 -\n",
      "127.0.0.1 - - [09/May/2024 13:28:24] \"POST /predict_tolerance_risk HTTP/1.1\" 200 -\n"
     ]
    },
    {
     "name": "stdout",
     "output_type": "stream",
     "text": [
      "activity Technology\n",
      "activity Technology\n"
     ]
    },
    {
     "name": "stderr",
     "output_type": "stream",
     "text": [
      "127.0.0.1 - - [09/May/2024 13:28:49] \"OPTIONS /predict_tolerance_risk HTTP/1.1\" 200 -\n"
     ]
    },
    {
     "name": "stdout",
     "output_type": "stream",
     "text": [
      "ProfileData for Investor id: 108\n",
      "The length of ProfileData is: (1, 20)\n",
      "Technology\n"
     ]
    },
    {
     "name": "stderr",
     "output_type": "stream",
     "text": [
      "127.0.0.1 - - [09/May/2024 13:28:53] \"POST /predict_tolerance_risk HTTP/1.1\" 200 -\n"
     ]
    },
    {
     "name": "stdout",
     "output_type": "stream",
     "text": [
      "activity Technology\n"
     ]
    },
    {
     "name": "stderr",
     "output_type": "stream",
     "text": [
      "127.0.0.1 - - [09/May/2024 13:29:15] \"OPTIONS /predict_tolerance_risk HTTP/1.1\" 200 -\n"
     ]
    },
    {
     "name": "stdout",
     "output_type": "stream",
     "text": [
      "ProfileData for Investor id: 108\n",
      "The length of ProfileData is: (1, 20)\n",
      "Technology\n"
     ]
    },
    {
     "name": "stderr",
     "output_type": "stream",
     "text": [
      "127.0.0.1 - - [09/May/2024 13:29:18] \"POST /predict_tolerance_risk HTTP/1.1\" 200 -\n"
     ]
    },
    {
     "name": "stdout",
     "output_type": "stream",
     "text": [
      "activity Technology\n"
     ]
    },
    {
     "name": "stderr",
     "output_type": "stream",
     "text": [
      "127.0.0.1 - - [09/May/2024 13:29:28] \"OPTIONS /predict_tolerance_risk HTTP/1.1\" 200 -\n"
     ]
    },
    {
     "name": "stdout",
     "output_type": "stream",
     "text": [
      "ProfileData for Investor id: 108\n",
      "The length of ProfileData is: (1, 20)\n",
      "Technology\n"
     ]
    },
    {
     "name": "stderr",
     "output_type": "stream",
     "text": [
      "127.0.0.1 - - [09/May/2024 13:29:32] \"POST /predict_tolerance_risk HTTP/1.1\" 200 -\n"
     ]
    },
    {
     "name": "stdout",
     "output_type": "stream",
     "text": [
      "activity Technology\n"
     ]
    },
    {
     "name": "stderr",
     "output_type": "stream",
     "text": [
      "127.0.0.1 - - [09/May/2024 13:29:43] \"OPTIONS /predict_tolerance_risk HTTP/1.1\" 200 -\n"
     ]
    },
    {
     "name": "stdout",
     "output_type": "stream",
     "text": [
      "ProfileData for Investor id: 108\n",
      "The length of ProfileData is: (1, 20)\n",
      "Technology\n"
     ]
    },
    {
     "name": "stderr",
     "output_type": "stream",
     "text": [
      "127.0.0.1 - - [09/May/2024 13:29:46] \"POST /predict_tolerance_risk HTTP/1.1\" 200 -\n"
     ]
    },
    {
     "name": "stdout",
     "output_type": "stream",
     "text": [
      "activity Technology\n"
     ]
    },
    {
     "name": "stderr",
     "output_type": "stream",
     "text": [
      "127.0.0.1 - - [09/May/2024 13:30:14] \"OPTIONS /predict_tolerance_risk HTTP/1.1\" 200 -\n"
     ]
    },
    {
     "name": "stdout",
     "output_type": "stream",
     "text": [
      "ProfileData for Investor id: 108\n",
      "The length of ProfileData is: (1, 20)\n",
      "Technology\n"
     ]
    },
    {
     "name": "stderr",
     "output_type": "stream",
     "text": [
      "127.0.0.1 - - [09/May/2024 13:30:18] \"POST /predict_tolerance_risk HTTP/1.1\" 200 -\n"
     ]
    },
    {
     "name": "stdout",
     "output_type": "stream",
     "text": [
      "activity Technology\n"
     ]
    },
    {
     "name": "stderr",
     "output_type": "stream",
     "text": [
      "127.0.0.1 - - [09/May/2024 13:30:48] \"OPTIONS /predict_tolerance_risk HTTP/1.1\" 200 -\n"
     ]
    },
    {
     "name": "stdout",
     "output_type": "stream",
     "text": [
      "ProfileData for Investor id: 108\n",
      "The length of ProfileData is: (1, 20)\n",
      "Technology\n"
     ]
    },
    {
     "name": "stderr",
     "output_type": "stream",
     "text": [
      "127.0.0.1 - - [09/May/2024 13:30:51] \"POST /predict_tolerance_risk HTTP/1.1\" 200 -\n"
     ]
    },
    {
     "name": "stdout",
     "output_type": "stream",
     "text": [
      "activity Technology\n",
      "ProfileData for Investor id: 108\n",
      "The length of ProfileData is: (1, 20)\n",
      "Technology\n"
     ]
    },
    {
     "name": "stderr",
     "output_type": "stream",
     "text": [
      "127.0.0.1 - - [09/May/2024 13:30:58] \"POST /predict_tolerance_risk HTTP/1.1\" 200 -\n"
     ]
    },
    {
     "name": "stdout",
     "output_type": "stream",
     "text": [
      "activity Technology\n",
      "ProfileData for Investor id: 108\n",
      "The length of ProfileData is: (1, 20)\n",
      "Technology\n",
      "ProfileData for Investor id: 108\n",
      "The length of ProfileData is: (1, 20)\n",
      "Technology\n"
     ]
    },
    {
     "name": "stderr",
     "output_type": "stream",
     "text": [
      "127.0.0.1 - - [09/May/2024 13:31:04] \"POST /predict_tolerance_risk HTTP/1.1\" 200 -\n"
     ]
    },
    {
     "name": "stdout",
     "output_type": "stream",
     "text": [
      "activity Technology\n"
     ]
    },
    {
     "name": "stderr",
     "output_type": "stream",
     "text": [
      "127.0.0.1 - - [09/May/2024 13:31:05] \"POST /predict_tolerance_risk HTTP/1.1\" 200 -\n"
     ]
    },
    {
     "name": "stdout",
     "output_type": "stream",
     "text": [
      "activity Technology\n",
      "ProfileData for Investor id: 108\n",
      "The length of ProfileData is: (1, 20)\n",
      "Technology\n"
     ]
    },
    {
     "name": "stderr",
     "output_type": "stream",
     "text": [
      "127.0.0.1 - - [09/May/2024 13:31:11] \"POST /predict_tolerance_risk HTTP/1.1\" 200 -\n"
     ]
    },
    {
     "name": "stdout",
     "output_type": "stream",
     "text": [
      "activity Technology\n"
     ]
    },
    {
     "name": "stderr",
     "output_type": "stream",
     "text": [
      "127.0.0.1 - - [09/May/2024 13:32:44] \"OPTIONS /predict_tolerance_risk HTTP/1.1\" 200 -\n"
     ]
    },
    {
     "name": "stdout",
     "output_type": "stream",
     "text": [
      "ProfileData for Investor id: 108\n",
      "The length of ProfileData is: (1, 20)\n",
      "Technology\n"
     ]
    },
    {
     "name": "stderr",
     "output_type": "stream",
     "text": [
      "127.0.0.1 - - [09/May/2024 13:32:47] \"POST /predict_tolerance_risk HTTP/1.1\" 200 -\n"
     ]
    },
    {
     "name": "stdout",
     "output_type": "stream",
     "text": [
      "activity Technology\n",
      "ProfileData for Investor id: 108\n",
      "The length of ProfileData is: (1, 20)\n",
      "Technology\n"
     ]
    },
    {
     "name": "stderr",
     "output_type": "stream",
     "text": [
      "127.0.0.1 - - [09/May/2024 13:32:51] \"POST /predict_tolerance_risk HTTP/1.1\" 200 -\n"
     ]
    },
    {
     "name": "stdout",
     "output_type": "stream",
     "text": [
      "activity Technology\n",
      "ProfileData for Investor id: 108\n",
      "The length of ProfileData is: (1, 20)\n",
      "Technology\n"
     ]
    },
    {
     "name": "stderr",
     "output_type": "stream",
     "text": [
      "127.0.0.1 - - [09/May/2024 13:32:57] \"POST /predict_tolerance_risk HTTP/1.1\" 200 -\n"
     ]
    },
    {
     "name": "stdout",
     "output_type": "stream",
     "text": [
      "activity Technology\n"
     ]
    },
    {
     "name": "stderr",
     "output_type": "stream",
     "text": [
      "127.0.0.1 - - [09/May/2024 13:33:10] \"OPTIONS /predict_tolerance_risk HTTP/1.1\" 200 -\n"
     ]
    },
    {
     "name": "stdout",
     "output_type": "stream",
     "text": [
      "ProfileData for Investor id: 108\n",
      "The length of ProfileData is: (1, 20)\n",
      "Technology\n"
     ]
    },
    {
     "name": "stderr",
     "output_type": "stream",
     "text": [
      "127.0.0.1 - - [09/May/2024 13:33:14] \"POST /predict_tolerance_risk HTTP/1.1\" 200 -\n"
     ]
    },
    {
     "name": "stdout",
     "output_type": "stream",
     "text": [
      "activity Technology\n"
     ]
    },
    {
     "name": "stderr",
     "output_type": "stream",
     "text": [
      "127.0.0.1 - - [09/May/2024 13:33:21] \"OPTIONS /predict_tolerance_risk HTTP/1.1\" 200 -\n"
     ]
    },
    {
     "name": "stdout",
     "output_type": "stream",
     "text": [
      "ProfileData for Investor id: 108\n",
      "The length of ProfileData is: (1, 20)\n",
      "Technology\n"
     ]
    },
    {
     "name": "stderr",
     "output_type": "stream",
     "text": [
      "127.0.0.1 - - [09/May/2024 13:33:22] \"OPTIONS /predict_tolerance_risk HTTP/1.1\" 200 -\n"
     ]
    },
    {
     "name": "stdout",
     "output_type": "stream",
     "text": [
      "ProfileData for Investor id: 108\n",
      "The length of ProfileData is: (1, 20)\n",
      "Technology\n"
     ]
    },
    {
     "name": "stderr",
     "output_type": "stream",
     "text": [
      "127.0.0.1 - - [09/May/2024 13:33:25] \"POST /predict_tolerance_risk HTTP/1.1\" 200 -\n"
     ]
    },
    {
     "name": "stdout",
     "output_type": "stream",
     "text": [
      "activity Technology\n"
     ]
    },
    {
     "name": "stderr",
     "output_type": "stream",
     "text": [
      "127.0.0.1 - - [09/May/2024 13:33:26] \"POST /predict_tolerance_risk HTTP/1.1\" 200 -\n"
     ]
    },
    {
     "name": "stdout",
     "output_type": "stream",
     "text": [
      "activity Technology\n",
      "ProfileData for Investor id: 108\n",
      "The length of ProfileData is: (1, 20)\n",
      "Technology\n"
     ]
    },
    {
     "name": "stderr",
     "output_type": "stream",
     "text": [
      "127.0.0.1 - - [09/May/2024 13:33:31] \"POST /predict_tolerance_risk HTTP/1.1\" 200 -\n"
     ]
    },
    {
     "name": "stdout",
     "output_type": "stream",
     "text": [
      "activity Technology\n",
      "ProfileData for Investor id: 108\n",
      "The length of ProfileData is: (1, 20)\n",
      "Technology\n"
     ]
    },
    {
     "name": "stderr",
     "output_type": "stream",
     "text": [
      "127.0.0.1 - - [09/May/2024 13:33:39] \"POST /predict_tolerance_risk HTTP/1.1\" 200 -\n"
     ]
    },
    {
     "name": "stdout",
     "output_type": "stream",
     "text": [
      "activity Technology\n",
      "ProfileData for Investor id: 108\n",
      "The length of ProfileData is: (1, 20)\n",
      "Technology\n"
     ]
    },
    {
     "name": "stderr",
     "output_type": "stream",
     "text": [
      "127.0.0.1 - - [09/May/2024 13:33:49] \"POST /predict_tolerance_risk HTTP/1.1\" 200 -\n"
     ]
    },
    {
     "name": "stdout",
     "output_type": "stream",
     "text": [
      "activity Technology\n",
      "ProfileData for Investor id: 108\n",
      "The length of ProfileData is: (1, 20)\n",
      "Technology\n",
      "ProfileData for Investor id: 108\n",
      "The length of ProfileData is: (1, 20)\n",
      "Technology\n"
     ]
    },
    {
     "name": "stderr",
     "output_type": "stream",
     "text": [
      "127.0.0.1 - - [09/May/2024 13:33:56] \"POST /predict_tolerance_risk HTTP/1.1\" 200 -\n"
     ]
    },
    {
     "name": "stdout",
     "output_type": "stream",
     "text": [
      "activity Technology\n"
     ]
    },
    {
     "name": "stderr",
     "output_type": "stream",
     "text": [
      "127.0.0.1 - - [09/May/2024 13:33:57] \"POST /predict_tolerance_risk HTTP/1.1\" 200 -\n"
     ]
    },
    {
     "name": "stdout",
     "output_type": "stream",
     "text": [
      "activity Technology\n",
      "ProfileData for Investor id: 108\n",
      "The length of ProfileData is: (1, 20)\n",
      "Technology\n"
     ]
    },
    {
     "name": "stderr",
     "output_type": "stream",
     "text": [
      "127.0.0.1 - - [09/May/2024 13:34:03] \"POST /predict_tolerance_risk HTTP/1.1\" 200 -\n"
     ]
    },
    {
     "name": "stdout",
     "output_type": "stream",
     "text": [
      "activity Technology\n"
     ]
    },
    {
     "name": "stderr",
     "output_type": "stream",
     "text": [
      "127.0.0.1 - - [09/May/2024 13:34:06] \"OPTIONS /predict_tolerance_risk HTTP/1.1\" 200 -\n"
     ]
    },
    {
     "name": "stdout",
     "output_type": "stream",
     "text": [
      "ProfileData for Investor id: 108\n",
      "The length of ProfileData is: (1, 20)\n",
      "Technology\n"
     ]
    },
    {
     "name": "stderr",
     "output_type": "stream",
     "text": [
      "127.0.0.1 - - [09/May/2024 13:34:11] \"POST /predict_tolerance_risk HTTP/1.1\" 200 -\n"
     ]
    },
    {
     "name": "stdout",
     "output_type": "stream",
     "text": [
      "activity Technology\n"
     ]
    },
    {
     "name": "stderr",
     "output_type": "stream",
     "text": [
      "127.0.0.1 - - [09/May/2024 13:34:19] \"OPTIONS /predict_tolerance_risk HTTP/1.1\" 200 -\n"
     ]
    },
    {
     "name": "stdout",
     "output_type": "stream",
     "text": [
      "ProfileData for Investor id: 108\n",
      "The length of ProfileData is: (1, 20)\n",
      "Technology\n",
      "ProfileData for Investor id: 108\n",
      "The length of ProfileData is: (1, 20)\n",
      "Technology\n",
      "ProfileData for Investor id: 108\n",
      "The length of ProfileData is: (1, 20)\n",
      "Technology\n",
      "ProfileData for Investor id: 108\n",
      "The length of ProfileData is: (1, 20)\n",
      "Technology\n"
     ]
    },
    {
     "name": "stderr",
     "output_type": "stream",
     "text": [
      "127.0.0.1 - - [09/May/2024 13:34:24] \"POST /predict_tolerance_risk HTTP/1.1\" 200 -\n",
      "127.0.0.1 - - [09/May/2024 13:34:24] \"POST /predict_tolerance_risk HTTP/1.1\" 200 -\n"
     ]
    },
    {
     "name": "stdout",
     "output_type": "stream",
     "text": [
      "activity Technology\n",
      "activity Technology\n"
     ]
    },
    {
     "name": "stderr",
     "output_type": "stream",
     "text": [
      "127.0.0.1 - - [09/May/2024 13:34:24] \"POST /predict_tolerance_risk HTTP/1.1\" 200 -\n",
      "127.0.0.1 - - [09/May/2024 13:34:25] \"POST /predict_tolerance_risk HTTP/1.1\" 200 -\n"
     ]
    },
    {
     "name": "stdout",
     "output_type": "stream",
     "text": [
      "activity Technology\n",
      "activity Technology\n"
     ]
    },
    {
     "name": "stderr",
     "output_type": "stream",
     "text": [
      "127.0.0.1 - - [09/May/2024 13:34:37] \"OPTIONS /predict_tolerance_risk HTTP/1.1\" 200 -\n"
     ]
    },
    {
     "name": "stdout",
     "output_type": "stream",
     "text": [
      "ProfileData for Investor id: 108\n",
      "The length of ProfileData is: (1, 20)\n",
      "Technology\n"
     ]
    },
    {
     "name": "stderr",
     "output_type": "stream",
     "text": [
      "127.0.0.1 - - [09/May/2024 13:34:43] \"POST /predict_tolerance_risk HTTP/1.1\" 200 -\n"
     ]
    },
    {
     "name": "stdout",
     "output_type": "stream",
     "text": [
      "activity Technology\n"
     ]
    },
    {
     "name": "stderr",
     "output_type": "stream",
     "text": [
      "127.0.0.1 - - [09/May/2024 13:35:07] \"OPTIONS /predict_tolerance_risk HTTP/1.1\" 200 -\n"
     ]
    },
    {
     "name": "stdout",
     "output_type": "stream",
     "text": [
      "ProfileData for Investor id: 108\n",
      "The length of ProfileData is: (1, 20)\n",
      "Technology\n",
      "ProfileData for Investor id: 108\n",
      "The length of ProfileData is: (1, 20)\n",
      "Technology\n"
     ]
    },
    {
     "name": "stderr",
     "output_type": "stream",
     "text": [
      "127.0.0.1 - - [09/May/2024 13:35:13] \"POST /predict_tolerance_risk HTTP/1.1\" 200 -\n"
     ]
    },
    {
     "name": "stdout",
     "output_type": "stream",
     "text": [
      "activity Technology\n"
     ]
    },
    {
     "name": "stderr",
     "output_type": "stream",
     "text": [
      "127.0.0.1 - - [09/May/2024 13:35:14] \"POST /predict_tolerance_risk HTTP/1.1\" 200 -\n"
     ]
    },
    {
     "name": "stdout",
     "output_type": "stream",
     "text": [
      "activity Technology\n"
     ]
    },
    {
     "name": "stderr",
     "output_type": "stream",
     "text": [
      "127.0.0.1 - - [09/May/2024 13:35:21] \"OPTIONS /predict_tolerance_risk HTTP/1.1\" 200 -\n"
     ]
    },
    {
     "name": "stdout",
     "output_type": "stream",
     "text": [
      "ProfileData for Investor id: 108\n",
      "The length of ProfileData is: (1, 20)\n",
      "Technology\n"
     ]
    },
    {
     "name": "stderr",
     "output_type": "stream",
     "text": [
      "127.0.0.1 - - [09/May/2024 13:35:24] \"POST /predict_tolerance_risk HTTP/1.1\" 200 -\n"
     ]
    },
    {
     "name": "stdout",
     "output_type": "stream",
     "text": [
      "activity Technology\n",
      "ProfileData for Investor id: 108\n",
      "The length of ProfileData is: (1, 20)\n",
      "Technology\n"
     ]
    },
    {
     "name": "stderr",
     "output_type": "stream",
     "text": [
      "127.0.0.1 - - [09/May/2024 13:35:33] \"POST /predict_tolerance_risk HTTP/1.1\" 200 -\n"
     ]
    },
    {
     "name": "stdout",
     "output_type": "stream",
     "text": [
      "activity Technology\n",
      "ProfileData for Investor id: 108\n",
      "The length of ProfileData is: (1, 20)\n",
      "Technology\n"
     ]
    },
    {
     "name": "stderr",
     "output_type": "stream",
     "text": [
      "127.0.0.1 - - [09/May/2024 13:35:39] \"POST /predict_tolerance_risk HTTP/1.1\" 200 -\n"
     ]
    },
    {
     "name": "stdout",
     "output_type": "stream",
     "text": [
      "activity Technology\n"
     ]
    },
    {
     "name": "stderr",
     "output_type": "stream",
     "text": [
      "127.0.0.1 - - [09/May/2024 13:35:46] \"OPTIONS /predict_tolerance_risk HTTP/1.1\" 200 -\n"
     ]
    },
    {
     "name": "stdout",
     "output_type": "stream",
     "text": [
      "ProfileData for Investor id: 108\n",
      "The length of ProfileData is: (1, 20)\n",
      "Technology\n"
     ]
    },
    {
     "name": "stderr",
     "output_type": "stream",
     "text": [
      "127.0.0.1 - - [09/May/2024 13:35:50] \"POST /predict_tolerance_risk HTTP/1.1\" 200 -\n"
     ]
    },
    {
     "name": "stdout",
     "output_type": "stream",
     "text": [
      "activity Technology\n",
      "ProfileData for Investor id: 108\n",
      "The length of ProfileData is: (1, 20)\n",
      "Technology\n"
     ]
    },
    {
     "name": "stderr",
     "output_type": "stream",
     "text": [
      "127.0.0.1 - - [09/May/2024 13:36:02] \"POST /predict_tolerance_risk HTTP/1.1\" 200 -\n"
     ]
    },
    {
     "name": "stdout",
     "output_type": "stream",
     "text": [
      "activity Technology\n",
      "ProfileData for Investor id: 108\n",
      "The length of ProfileData is: (1, 20)\n",
      "Technology\n"
     ]
    },
    {
     "name": "stderr",
     "output_type": "stream",
     "text": [
      "127.0.0.1 - - [09/May/2024 13:36:09] \"POST /predict_tolerance_risk HTTP/1.1\" 200 -\n"
     ]
    },
    {
     "name": "stdout",
     "output_type": "stream",
     "text": [
      "activity Technology\n"
     ]
    },
    {
     "name": "stderr",
     "output_type": "stream",
     "text": [
      "127.0.0.1 - - [09/May/2024 13:36:48] \"OPTIONS /predict_tolerance_risk HTTP/1.1\" 200 -\n"
     ]
    },
    {
     "name": "stdout",
     "output_type": "stream",
     "text": [
      "ProfileData for Investor id: 108\n",
      "The length of ProfileData is: (1, 20)\n",
      "Technology\n"
     ]
    },
    {
     "name": "stderr",
     "output_type": "stream",
     "text": [
      "127.0.0.1 - - [09/May/2024 13:36:51] \"POST /predict_tolerance_risk HTTP/1.1\" 200 -\n"
     ]
    },
    {
     "name": "stdout",
     "output_type": "stream",
     "text": [
      "activity Technology\n",
      "ProfileData for Investor id: 108\n",
      "The length of ProfileData is: (1, 20)\n",
      "Technology\n"
     ]
    },
    {
     "name": "stderr",
     "output_type": "stream",
     "text": [
      "127.0.0.1 - - [09/May/2024 13:37:46] \"POST /predict_tolerance_risk HTTP/1.1\" 200 -\n"
     ]
    },
    {
     "name": "stdout",
     "output_type": "stream",
     "text": [
      "activity Technology\n",
      "ProfileData for Investor id: 108\n",
      "The length of ProfileData is: (1, 20)\n",
      "Technology\n"
     ]
    },
    {
     "name": "stderr",
     "output_type": "stream",
     "text": [
      "127.0.0.1 - - [09/May/2024 13:37:52] \"POST /predict_tolerance_risk HTTP/1.1\" 200 -\n"
     ]
    },
    {
     "name": "stdout",
     "output_type": "stream",
     "text": [
      "activity Technology\n"
     ]
    },
    {
     "name": "stderr",
     "output_type": "stream",
     "text": [
      "127.0.0.1 - - [09/May/2024 13:38:22] \"OPTIONS /predict_tolerance_risk HTTP/1.1\" 200 -\n"
     ]
    },
    {
     "name": "stdout",
     "output_type": "stream",
     "text": [
      "ProfileData for Investor id: 108\n",
      "The length of ProfileData is: (1, 20)\n",
      "Technology\n",
      "ProfileData for Investor id: 108\n",
      "The length of ProfileData is: (1, 20)\n",
      "Technology\n"
     ]
    },
    {
     "name": "stderr",
     "output_type": "stream",
     "text": [
      "127.0.0.1 - - [09/May/2024 13:38:26] \"POST /predict_tolerance_risk HTTP/1.1\" 200 -\n"
     ]
    },
    {
     "name": "stdout",
     "output_type": "stream",
     "text": [
      "activity Technology\n"
     ]
    },
    {
     "name": "stderr",
     "output_type": "stream",
     "text": [
      "127.0.0.1 - - [09/May/2024 13:38:27] \"POST /predict_tolerance_risk HTTP/1.1\" 200 -\n"
     ]
    },
    {
     "name": "stdout",
     "output_type": "stream",
     "text": [
      "activity Technology\n",
      "ProfileData for Investor id: 108\n",
      "The length of ProfileData is: (1, 20)\n",
      "Technology\n"
     ]
    },
    {
     "name": "stderr",
     "output_type": "stream",
     "text": [
      "127.0.0.1 - - [09/May/2024 13:38:33] \"POST /predict_tolerance_risk HTTP/1.1\" 200 -\n"
     ]
    },
    {
     "name": "stdout",
     "output_type": "stream",
     "text": [
      "activity Technology\n"
     ]
    },
    {
     "name": "stderr",
     "output_type": "stream",
     "text": [
      "127.0.0.1 - - [09/May/2024 13:38:39] \"OPTIONS /predict_tolerance_risk HTTP/1.1\" 200 -\n"
     ]
    },
    {
     "name": "stdout",
     "output_type": "stream",
     "text": [
      "ProfileData for Investor id: 108\n",
      "The length of ProfileData is: (1, 20)\n",
      "Technology\n",
      "ProfileData for Investor id: 108\n",
      "The length of ProfileData is: (1, 20)\n",
      "Technology\n"
     ]
    },
    {
     "name": "stderr",
     "output_type": "stream",
     "text": [
      "127.0.0.1 - - [09/May/2024 13:38:46] \"POST /predict_tolerance_risk HTTP/1.1\" 200 -\n"
     ]
    },
    {
     "name": "stdout",
     "output_type": "stream",
     "text": [
      "activity Technology\n"
     ]
    },
    {
     "name": "stderr",
     "output_type": "stream",
     "text": [
      "127.0.0.1 - - [09/May/2024 13:38:48] \"POST /predict_tolerance_risk HTTP/1.1\" 200 -\n"
     ]
    },
    {
     "name": "stdout",
     "output_type": "stream",
     "text": [
      "activity Technology\n",
      "ProfileData for Investor id: 108\n",
      "The length of ProfileData is: (1, 20)\n",
      "Technology\n"
     ]
    },
    {
     "name": "stderr",
     "output_type": "stream",
     "text": [
      "127.0.0.1 - - [09/May/2024 13:38:57] \"POST /predict_tolerance_risk HTTP/1.1\" 200 -\n"
     ]
    },
    {
     "name": "stdout",
     "output_type": "stream",
     "text": [
      "activity Technology\n",
      "ProfileData for Investor id: 108\n",
      "The length of ProfileData is: (1, 20)\n",
      "Technology\n",
      "ProfileData for Investor id: 108\n",
      "The length of ProfileData is: (1, 20)\n",
      "Technology\n"
     ]
    },
    {
     "name": "stderr",
     "output_type": "stream",
     "text": [
      "127.0.0.1 - - [09/May/2024 13:39:13] \"POST /predict_tolerance_risk HTTP/1.1\" 200 -\n"
     ]
    },
    {
     "name": "stdout",
     "output_type": "stream",
     "text": [
      "activity Technology\n"
     ]
    },
    {
     "name": "stderr",
     "output_type": "stream",
     "text": [
      "127.0.0.1 - - [09/May/2024 13:39:15] \"POST /predict_tolerance_risk HTTP/1.1\" 200 -\n"
     ]
    },
    {
     "name": "stdout",
     "output_type": "stream",
     "text": [
      "activity Technology\n",
      "ProfileData for Investor id: 108\n",
      "The length of ProfileData is: (1, 20)\n",
      "Technology\n",
      "ProfileData for Investor id: 108\n",
      "The length of ProfileData is: (1, 20)\n",
      "Technology\n"
     ]
    },
    {
     "name": "stderr",
     "output_type": "stream",
     "text": [
      "127.0.0.1 - - [09/May/2024 13:39:19] \"POST /predict_tolerance_risk HTTP/1.1\" 200 -\n"
     ]
    },
    {
     "name": "stdout",
     "output_type": "stream",
     "text": [
      "activity Technology\n"
     ]
    },
    {
     "name": "stderr",
     "output_type": "stream",
     "text": [
      "127.0.0.1 - - [09/May/2024 13:39:21] \"POST /predict_tolerance_risk HTTP/1.1\" 200 -\n"
     ]
    },
    {
     "name": "stdout",
     "output_type": "stream",
     "text": [
      "activity Technology\n"
     ]
    },
    {
     "name": "stderr",
     "output_type": "stream",
     "text": [
      "127.0.0.1 - - [09/May/2024 13:39:44] \"OPTIONS /predict_tolerance_risk HTTP/1.1\" 200 -\n"
     ]
    },
    {
     "name": "stdout",
     "output_type": "stream",
     "text": [
      "ProfileData for Investor id: 108\n",
      "The length of ProfileData is: (1, 20)\n",
      "Technology\n"
     ]
    },
    {
     "name": "stderr",
     "output_type": "stream",
     "text": [
      "127.0.0.1 - - [09/May/2024 13:39:49] \"POST /predict_tolerance_risk HTTP/1.1\" 200 -\n"
     ]
    },
    {
     "name": "stdout",
     "output_type": "stream",
     "text": [
      "activity Technology\n",
      "ProfileData for Investor id: 108\n",
      "The length of ProfileData is: (1, 20)\n",
      "Technology\n"
     ]
    },
    {
     "name": "stderr",
     "output_type": "stream",
     "text": [
      "127.0.0.1 - - [09/May/2024 13:40:16] \"POST /predict_tolerance_risk HTTP/1.1\" 200 -\n"
     ]
    },
    {
     "name": "stdout",
     "output_type": "stream",
     "text": [
      "activity Technology\n",
      "ProfileData for Investor id: 108\n",
      "The length of ProfileData is: (1, 20)\n",
      "Technology\n"
     ]
    },
    {
     "name": "stderr",
     "output_type": "stream",
     "text": [
      "127.0.0.1 - - [09/May/2024 13:40:21] \"POST /predict_tolerance_risk HTTP/1.1\" 200 -\n"
     ]
    },
    {
     "name": "stdout",
     "output_type": "stream",
     "text": [
      "activity Technology\n",
      "ProfileData for Investor id: 108\n",
      "The length of ProfileData is: (1, 20)\n",
      "Technology\n"
     ]
    },
    {
     "name": "stderr",
     "output_type": "stream",
     "text": [
      "127.0.0.1 - - [09/May/2024 13:40:39] \"POST /predict_tolerance_risk HTTP/1.1\" 200 -\n"
     ]
    },
    {
     "name": "stdout",
     "output_type": "stream",
     "text": [
      "activity Technology\n",
      "ProfileData for Investor id: 108\n",
      "The length of ProfileData is: (1, 20)\n",
      "Technology\n"
     ]
    },
    {
     "name": "stderr",
     "output_type": "stream",
     "text": [
      "127.0.0.1 - - [09/May/2024 13:40:45] \"POST /predict_tolerance_risk HTTP/1.1\" 200 -\n"
     ]
    },
    {
     "name": "stdout",
     "output_type": "stream",
     "text": [
      "activity Technology\n",
      "ProfileData for Investor id: 108\n",
      "The length of ProfileData is: (1, 20)\n",
      "Technology\n"
     ]
    },
    {
     "name": "stderr",
     "output_type": "stream",
     "text": [
      "127.0.0.1 - - [09/May/2024 13:41:56] \"POST /predict_tolerance_risk HTTP/1.1\" 200 -\n"
     ]
    },
    {
     "name": "stdout",
     "output_type": "stream",
     "text": [
      "activity Technology\n",
      "ProfileData for Investor id: 108\n",
      "The length of ProfileData is: (1, 20)\n",
      "Technology\n"
     ]
    },
    {
     "name": "stderr",
     "output_type": "stream",
     "text": [
      "127.0.0.1 - - [09/May/2024 13:42:01] \"POST /predict_tolerance_risk HTTP/1.1\" 200 -\n"
     ]
    },
    {
     "name": "stdout",
     "output_type": "stream",
     "text": [
      "activity Technology\n",
      "ProfileData for Investor id: 108\n",
      "The length of ProfileData is: (1, 20)\n",
      "Technology\n"
     ]
    },
    {
     "name": "stderr",
     "output_type": "stream",
     "text": [
      "127.0.0.1 - - [09/May/2024 13:42:11] \"POST /predict_tolerance_risk HTTP/1.1\" 200 -\n"
     ]
    },
    {
     "name": "stdout",
     "output_type": "stream",
     "text": [
      "activity Technology\n",
      "ProfileData for Investor id: 108\n",
      "The length of ProfileData is: (1, 20)\n",
      "Technology\n"
     ]
    },
    {
     "name": "stderr",
     "output_type": "stream",
     "text": [
      "127.0.0.1 - - [09/May/2024 13:42:18] \"POST /predict_tolerance_risk HTTP/1.1\" 200 -\n"
     ]
    },
    {
     "name": "stdout",
     "output_type": "stream",
     "text": [
      "activity Technology\n",
      "ProfileData for Investor id: 108\n",
      "The length of ProfileData is: (1, 20)\n",
      "Technology\n",
      "ProfileData for Investor id: 108\n",
      "The length of ProfileData is: (1, 20)\n",
      "Technology\n"
     ]
    },
    {
     "name": "stderr",
     "output_type": "stream",
     "text": [
      "127.0.0.1 - - [09/May/2024 13:42:59] \"POST /predict_tolerance_risk HTTP/1.1\" 200 -\n"
     ]
    },
    {
     "name": "stdout",
     "output_type": "stream",
     "text": [
      "activity Technology\n"
     ]
    },
    {
     "name": "stderr",
     "output_type": "stream",
     "text": [
      "127.0.0.1 - - [09/May/2024 13:43:01] \"OPTIONS /predict_tolerance_risk HTTP/1.1\" 200 -\n"
     ]
    },
    {
     "name": "stdout",
     "output_type": "stream",
     "text": [
      "ProfileData for Investor id: 108\n",
      "The length of ProfileData is: (1, 20)\n",
      "Technology\n"
     ]
    },
    {
     "name": "stderr",
     "output_type": "stream",
     "text": [
      "127.0.0.1 - - [09/May/2024 13:43:01] \"POST /predict_tolerance_risk HTTP/1.1\" 200 -\n"
     ]
    },
    {
     "name": "stdout",
     "output_type": "stream",
     "text": [
      "activity Technology\n",
      "ProfileData for Investor id: 108\n",
      "The length of ProfileData is: (1, 20)\n",
      "Technology\n",
      "ProfileData for Investor id: 108\n",
      "The length of ProfileData is: (1, 20)\n",
      "Technology\n"
     ]
    },
    {
     "name": "stderr",
     "output_type": "stream",
     "text": [
      "127.0.0.1 - - [09/May/2024 13:43:05] \"POST /predict_tolerance_risk HTTP/1.1\" 200 -\n"
     ]
    },
    {
     "name": "stdout",
     "output_type": "stream",
     "text": [
      "activity Technology\n"
     ]
    },
    {
     "name": "stderr",
     "output_type": "stream",
     "text": [
      "127.0.0.1 - - [09/May/2024 13:43:06] \"POST /predict_tolerance_risk HTTP/1.1\" 200 -\n"
     ]
    },
    {
     "name": "stdout",
     "output_type": "stream",
     "text": [
      "activity Technology\n"
     ]
    },
    {
     "name": "stderr",
     "output_type": "stream",
     "text": [
      "127.0.0.1 - - [09/May/2024 13:43:08] \"POST /predict_tolerance_risk HTTP/1.1\" 200 -\n"
     ]
    },
    {
     "name": "stdout",
     "output_type": "stream",
     "text": [
      "activity Technology\n",
      "ProfileData for Investor id: 108\n",
      "The length of ProfileData is: (1, 20)\n",
      "Technology\n"
     ]
    },
    {
     "name": "stderr",
     "output_type": "stream",
     "text": [
      "127.0.0.1 - - [09/May/2024 13:43:51] \"POST /predict_tolerance_risk HTTP/1.1\" 200 -\n"
     ]
    },
    {
     "name": "stdout",
     "output_type": "stream",
     "text": [
      "activity Technology\n",
      "ProfileData for Investor id: 108\n",
      "The length of ProfileData is: (1, 20)\n",
      "Technology\n"
     ]
    },
    {
     "name": "stderr",
     "output_type": "stream",
     "text": [
      "127.0.0.1 - - [09/May/2024 13:43:56] \"POST /predict_tolerance_risk HTTP/1.1\" 200 -\n"
     ]
    },
    {
     "name": "stdout",
     "output_type": "stream",
     "text": [
      "activity Technology\n",
      "ProfileData for Investor id: 108\n",
      "The length of ProfileData is: (1, 20)\n",
      "Technology\n"
     ]
    },
    {
     "name": "stderr",
     "output_type": "stream",
     "text": [
      "127.0.0.1 - - [09/May/2024 13:44:14] \"POST /predict_tolerance_risk HTTP/1.1\" 200 -\n"
     ]
    },
    {
     "name": "stdout",
     "output_type": "stream",
     "text": [
      "activity Technology\n",
      "ProfileData for Investor id: 108\n",
      "The length of ProfileData is: (1, 20)\n",
      "Technology\n"
     ]
    },
    {
     "name": "stderr",
     "output_type": "stream",
     "text": [
      "127.0.0.1 - - [09/May/2024 13:44:20] \"POST /predict_tolerance_risk HTTP/1.1\" 200 -\n"
     ]
    },
    {
     "name": "stdout",
     "output_type": "stream",
     "text": [
      "activity Technology\n"
     ]
    },
    {
     "name": "stderr",
     "output_type": "stream",
     "text": [
      "127.0.0.1 - - [09/May/2024 13:44:53] \"OPTIONS /predict_tolerance_risk HTTP/1.1\" 200 -\n"
     ]
    },
    {
     "name": "stdout",
     "output_type": "stream",
     "text": [
      "ProfileData for Investor id: 108\n",
      "The length of ProfileData is: (1, 20)\n",
      "Technology\n"
     ]
    },
    {
     "name": "stderr",
     "output_type": "stream",
     "text": [
      "127.0.0.1 - - [09/May/2024 13:44:57] \"POST /predict_tolerance_risk HTTP/1.1\" 200 -\n"
     ]
    },
    {
     "name": "stdout",
     "output_type": "stream",
     "text": [
      "activity Technology\n",
      "ProfileData for Investor id: 108\n",
      "The length of ProfileData is: (1, 20)\n",
      "Technology\n"
     ]
    },
    {
     "name": "stderr",
     "output_type": "stream",
     "text": [
      "127.0.0.1 - - [09/May/2024 13:45:46] \"POST /predict_tolerance_risk HTTP/1.1\" 200 -\n"
     ]
    },
    {
     "name": "stdout",
     "output_type": "stream",
     "text": [
      "activity Technology\n",
      "ProfileData for Investor id: 108\n",
      "The length of ProfileData is: (1, 20)\n",
      "Technology\n",
      "ProfileData for Investor id: 108\n",
      "The length of ProfileData is: (1, 20)\n",
      "Technology\n"
     ]
    },
    {
     "name": "stderr",
     "output_type": "stream",
     "text": [
      "127.0.0.1 - - [09/May/2024 13:45:52] \"POST /predict_tolerance_risk HTTP/1.1\" 200 -\n"
     ]
    },
    {
     "name": "stdout",
     "output_type": "stream",
     "text": [
      "activity Technology\n"
     ]
    },
    {
     "name": "stderr",
     "output_type": "stream",
     "text": [
      "127.0.0.1 - - [09/May/2024 13:45:55] \"POST /predict_tolerance_risk HTTP/1.1\" 200 -\n"
     ]
    },
    {
     "name": "stdout",
     "output_type": "stream",
     "text": [
      "activity Technology\n",
      "ProfileData for Investor id: 108\n",
      "The length of ProfileData is: (1, 20)\n",
      "Technology\n"
     ]
    },
    {
     "name": "stderr",
     "output_type": "stream",
     "text": [
      "127.0.0.1 - - [09/May/2024 13:46:01] \"POST /predict_tolerance_risk HTTP/1.1\" 200 -\n"
     ]
    },
    {
     "name": "stdout",
     "output_type": "stream",
     "text": [
      "activity Technology\n"
     ]
    },
    {
     "name": "stderr",
     "output_type": "stream",
     "text": [
      "127.0.0.1 - - [09/May/2024 13:46:20] \"OPTIONS /predict_tolerance_risk HTTP/1.1\" 200 -\n"
     ]
    },
    {
     "name": "stdout",
     "output_type": "stream",
     "text": [
      "ProfileData for Investor id: 108\n",
      "The length of ProfileData is: (1, 20)\n",
      "Technology\n"
     ]
    },
    {
     "name": "stderr",
     "output_type": "stream",
     "text": [
      "127.0.0.1 - - [09/May/2024 13:46:23] \"POST /predict_tolerance_risk HTTP/1.1\" 200 -\n"
     ]
    },
    {
     "name": "stdout",
     "output_type": "stream",
     "text": [
      "activity Technology\n",
      "ProfileData for Investor id: 108\n",
      "The length of ProfileData is: (1, 20)\n",
      "Technology\n"
     ]
    },
    {
     "name": "stderr",
     "output_type": "stream",
     "text": [
      "127.0.0.1 - - [09/May/2024 13:46:43] \"POST /predict_tolerance_risk HTTP/1.1\" 200 -\n"
     ]
    },
    {
     "name": "stdout",
     "output_type": "stream",
     "text": [
      "activity Technology\n",
      "ProfileData for Investor id: 108\n",
      "The length of ProfileData is: (1, 20)\n",
      "Technology\n",
      "ProfileData for Investor id: 108\n",
      "The length of ProfileData is: (1, 20)\n",
      "Technology\n"
     ]
    },
    {
     "name": "stderr",
     "output_type": "stream",
     "text": [
      "127.0.0.1 - - [09/May/2024 13:46:48] \"POST /predict_tolerance_risk HTTP/1.1\" 200 -\n"
     ]
    },
    {
     "name": "stdout",
     "output_type": "stream",
     "text": [
      "activity Technology\n"
     ]
    },
    {
     "name": "stderr",
     "output_type": "stream",
     "text": [
      "127.0.0.1 - - [09/May/2024 13:46:49] \"POST /predict_tolerance_risk HTTP/1.1\" 200 -\n"
     ]
    },
    {
     "name": "stdout",
     "output_type": "stream",
     "text": [
      "activity Technology\n",
      "ProfileData for Investor id: 108\n",
      "The length of ProfileData is: (1, 20)\n",
      "Technology\n"
     ]
    },
    {
     "name": "stderr",
     "output_type": "stream",
     "text": [
      "127.0.0.1 - - [09/May/2024 13:46:54] \"POST /predict_tolerance_risk HTTP/1.1\" 200 -\n"
     ]
    },
    {
     "name": "stdout",
     "output_type": "stream",
     "text": [
      "activity Technology\n"
     ]
    },
    {
     "name": "stderr",
     "output_type": "stream",
     "text": [
      "127.0.0.1 - - [09/May/2024 13:47:20] \"OPTIONS /predict_tolerance_risk HTTP/1.1\" 200 -\n"
     ]
    },
    {
     "name": "stdout",
     "output_type": "stream",
     "text": [
      "ProfileData for Investor id: 108\n",
      "The length of ProfileData is: (1, 20)\n",
      "Technology\n"
     ]
    },
    {
     "name": "stderr",
     "output_type": "stream",
     "text": [
      "127.0.0.1 - - [09/May/2024 13:47:24] \"POST /predict_tolerance_risk HTTP/1.1\" 200 -\n"
     ]
    },
    {
     "name": "stdout",
     "output_type": "stream",
     "text": [
      "activity Technology\n",
      "ProfileData for Investor id: 108\n",
      "The length of ProfileData is: (1, 20)\n",
      "Technology\n"
     ]
    },
    {
     "name": "stderr",
     "output_type": "stream",
     "text": [
      "127.0.0.1 - - [09/May/2024 13:47:38] \"POST /predict_tolerance_risk HTTP/1.1\" 200 -\n"
     ]
    },
    {
     "name": "stdout",
     "output_type": "stream",
     "text": [
      "activity Technology\n",
      "ProfileData for Investor id: 108\n",
      "The length of ProfileData is: (1, 20)\n",
      "Technology\n"
     ]
    },
    {
     "name": "stderr",
     "output_type": "stream",
     "text": [
      "127.0.0.1 - - [09/May/2024 13:47:43] \"OPTIONS /predict_tolerance_risk HTTP/1.1\" 200 -\n"
     ]
    },
    {
     "name": "stdout",
     "output_type": "stream",
     "text": [
      "ProfileData for Investor id: 108\n",
      "The length of ProfileData is: (1, 20)\n",
      "Technology\n"
     ]
    },
    {
     "name": "stderr",
     "output_type": "stream",
     "text": [
      "127.0.0.1 - - [09/May/2024 13:47:45] \"POST /predict_tolerance_risk HTTP/1.1\" 200 -\n"
     ]
    },
    {
     "name": "stdout",
     "output_type": "stream",
     "text": [
      "activity Technology\n",
      "ProfileData for Investor id: 108\n",
      "The length of ProfileData is: (1, 20)\n",
      "Technology\n"
     ]
    },
    {
     "name": "stderr",
     "output_type": "stream",
     "text": [
      "127.0.0.1 - - [09/May/2024 13:47:47] \"POST /predict_tolerance_risk HTTP/1.1\" 200 -\n"
     ]
    },
    {
     "name": "stdout",
     "output_type": "stream",
     "text": [
      "activity Technology\n"
     ]
    },
    {
     "name": "stderr",
     "output_type": "stream",
     "text": [
      "127.0.0.1 - - [09/May/2024 13:47:50] \"POST /predict_tolerance_risk HTTP/1.1\" 200 -\n"
     ]
    },
    {
     "name": "stdout",
     "output_type": "stream",
     "text": [
      "activity Technology\n",
      "ProfileData for Investor id: 108\n",
      "The length of ProfileData is: (1, 20)\n",
      "Technology\n"
     ]
    },
    {
     "name": "stderr",
     "output_type": "stream",
     "text": [
      "127.0.0.1 - - [09/May/2024 13:47:56] \"POST /predict_tolerance_risk HTTP/1.1\" 200 -\n"
     ]
    },
    {
     "name": "stdout",
     "output_type": "stream",
     "text": [
      "activity Technology\n"
     ]
    },
    {
     "name": "stderr",
     "output_type": "stream",
     "text": [
      "127.0.0.1 - - [09/May/2024 13:48:30] \"OPTIONS /predict_tolerance_risk HTTP/1.1\" 200 -\n"
     ]
    },
    {
     "name": "stdout",
     "output_type": "stream",
     "text": [
      "ProfileData for Investor id: 108\n",
      "The length of ProfileData is: (1, 20)\n",
      "Technology\n",
      "ProfileData for Investor id: 108\n",
      "The length of ProfileData is: (1, 20)\n",
      "Technology\n",
      "ProfileData for Investor id: 108\n",
      "The length of ProfileData is: (1, 20)\n",
      "Technology\n",
      "ProfileData for Investor id: 108\n",
      "The length of ProfileData is: (1, 20)\n",
      "Technology\n"
     ]
    },
    {
     "name": "stderr",
     "output_type": "stream",
     "text": [
      "127.0.0.1 - - [09/May/2024 13:48:35] \"POST /predict_tolerance_risk HTTP/1.1\" 200 -\n"
     ]
    },
    {
     "name": "stdout",
     "output_type": "stream",
     "text": [
      "activity Technology\n"
     ]
    },
    {
     "name": "stderr",
     "output_type": "stream",
     "text": [
      "127.0.0.1 - - [09/May/2024 13:48:38] \"POST /predict_tolerance_risk HTTP/1.1\" 200 -\n",
      "127.0.0.1 - - [09/May/2024 13:48:38] \"POST /predict_tolerance_risk HTTP/1.1\" 200 -\n",
      "127.0.0.1 - - [09/May/2024 13:48:38] \"POST /predict_tolerance_risk HTTP/1.1\" 200 -\n"
     ]
    },
    {
     "name": "stdout",
     "output_type": "stream",
     "text": [
      "activity Technology\n",
      "activity Technology\n",
      "activity Technology\n",
      "ProfileData for Investor id: 108\n",
      "The length of ProfileData is: (1, 20)\n",
      "Technology\n"
     ]
    },
    {
     "name": "stderr",
     "output_type": "stream",
     "text": [
      "127.0.0.1 - - [09/May/2024 13:49:34] \"POST /predict_tolerance_risk HTTP/1.1\" 200 -\n"
     ]
    },
    {
     "name": "stdout",
     "output_type": "stream",
     "text": [
      "activity Technology\n",
      "ProfileData for Investor id: 108\n",
      "The length of ProfileData is: (1, 20)\n",
      "Technology\n"
     ]
    },
    {
     "name": "stderr",
     "output_type": "stream",
     "text": [
      "127.0.0.1 - - [09/May/2024 13:49:40] \"POST /predict_tolerance_risk HTTP/1.1\" 200 -\n"
     ]
    },
    {
     "name": "stdout",
     "output_type": "stream",
     "text": [
      "activity Technology\n",
      "ProfileData for Investor id: 108\n",
      "The length of ProfileData is: (1, 20)\n",
      "Technology\n"
     ]
    },
    {
     "name": "stderr",
     "output_type": "stream",
     "text": [
      "127.0.0.1 - - [09/May/2024 13:49:52] \"POST /predict_tolerance_risk HTTP/1.1\" 200 -\n"
     ]
    },
    {
     "name": "stdout",
     "output_type": "stream",
     "text": [
      "activity Technology\n",
      "ProfileData for Investor id: 108\n",
      "The length of ProfileData is: (1, 20)\n",
      "Technology\n"
     ]
    },
    {
     "name": "stderr",
     "output_type": "stream",
     "text": [
      "127.0.0.1 - - [09/May/2024 13:49:58] \"POST /predict_tolerance_risk HTTP/1.1\" 200 -\n"
     ]
    },
    {
     "name": "stdout",
     "output_type": "stream",
     "text": [
      "activity Technology\n",
      "ProfileData for Investor id: 108\n",
      "The length of ProfileData is: (1, 20)\n",
      "Technology\n"
     ]
    },
    {
     "name": "stderr",
     "output_type": "stream",
     "text": [
      "127.0.0.1 - - [09/May/2024 13:50:49] \"POST /predict_tolerance_risk HTTP/1.1\" 200 -\n"
     ]
    },
    {
     "name": "stdout",
     "output_type": "stream",
     "text": [
      "activity Technology\n",
      "ProfileData for Investor id: 108\n",
      "The length of ProfileData is: (1, 20)\n",
      "Technology\n"
     ]
    },
    {
     "name": "stderr",
     "output_type": "stream",
     "text": [
      "127.0.0.1 - - [09/May/2024 13:50:54] \"OPTIONS /predict_tolerance_risk HTTP/1.1\" 200 -\n"
     ]
    },
    {
     "name": "stdout",
     "output_type": "stream",
     "text": [
      "ProfileData for Investor id: 108\n",
      "The length of ProfileData is: (1, 20)\n",
      "Technology\n"
     ]
    },
    {
     "name": "stderr",
     "output_type": "stream",
     "text": [
      "127.0.0.1 - - [09/May/2024 13:50:55] \"POST /predict_tolerance_risk HTTP/1.1\" 200 -\n"
     ]
    },
    {
     "name": "stdout",
     "output_type": "stream",
     "text": [
      "activity Technology\n"
     ]
    },
    {
     "name": "stderr",
     "output_type": "stream",
     "text": [
      "127.0.0.1 - - [09/May/2024 13:50:57] \"POST /predict_tolerance_risk HTTP/1.1\" 200 -\n"
     ]
    },
    {
     "name": "stdout",
     "output_type": "stream",
     "text": [
      "activity Technology\n"
     ]
    },
    {
     "name": "stderr",
     "output_type": "stream",
     "text": [
      "127.0.0.1 - - [09/May/2024 13:51:03] \"OPTIONS /predict_tolerance_risk HTTP/1.1\" 200 -\n"
     ]
    },
    {
     "name": "stdout",
     "output_type": "stream",
     "text": [
      "ProfileData for Investor id: 108\n",
      "The length of ProfileData is: (1, 20)\n",
      "Technology\n"
     ]
    },
    {
     "name": "stderr",
     "output_type": "stream",
     "text": [
      "127.0.0.1 - - [09/May/2024 13:51:07] \"POST /predict_tolerance_risk HTTP/1.1\" 200 -\n"
     ]
    },
    {
     "name": "stdout",
     "output_type": "stream",
     "text": [
      "activity Technology\n"
     ]
    },
    {
     "name": "stderr",
     "output_type": "stream",
     "text": [
      "127.0.0.1 - - [09/May/2024 13:51:37] \"OPTIONS /predict_tolerance_risk HTTP/1.1\" 200 -\n"
     ]
    },
    {
     "name": "stdout",
     "output_type": "stream",
     "text": [
      "ProfileData for Investor id: 108\n",
      "The length of ProfileData is: (1, 20)\n",
      "Technology\n"
     ]
    },
    {
     "name": "stderr",
     "output_type": "stream",
     "text": [
      "127.0.0.1 - - [09/May/2024 13:51:40] \"POST /predict_tolerance_risk HTTP/1.1\" 200 -\n"
     ]
    },
    {
     "name": "stdout",
     "output_type": "stream",
     "text": [
      "activity Technology\n",
      "ProfileData for Investor id: 108\n",
      "The length of ProfileData is: (1, 20)\n",
      "Technology\n"
     ]
    },
    {
     "name": "stderr",
     "output_type": "stream",
     "text": [
      "127.0.0.1 - - [09/May/2024 13:51:51] \"POST /predict_tolerance_risk HTTP/1.1\" 200 -\n"
     ]
    },
    {
     "name": "stdout",
     "output_type": "stream",
     "text": [
      "activity Technology\n",
      "ProfileData for Investor id: 108\n",
      "The length of ProfileData is: (1, 20)\n",
      "Technology\n"
     ]
    },
    {
     "name": "stderr",
     "output_type": "stream",
     "text": [
      "127.0.0.1 - - [09/May/2024 13:51:56] \"POST /predict_tolerance_risk HTTP/1.1\" 200 -\n"
     ]
    },
    {
     "name": "stdout",
     "output_type": "stream",
     "text": [
      "activity Technology\n",
      "ProfileData for Investor id: 108\n",
      "The length of ProfileData is: (1, 20)\n",
      "Technology\n",
      "ProfileData for Investor id: 108\n",
      "The length of ProfileData is: (1, 20)\n",
      "Technology\n"
     ]
    },
    {
     "name": "stderr",
     "output_type": "stream",
     "text": [
      "127.0.0.1 - - [09/May/2024 13:52:41] \"POST /predict_tolerance_risk HTTP/1.1\" 200 -\n"
     ]
    },
    {
     "name": "stdout",
     "output_type": "stream",
     "text": [
      "activity Technology\n"
     ]
    },
    {
     "name": "stderr",
     "output_type": "stream",
     "text": [
      "127.0.0.1 - - [09/May/2024 13:52:43] \"POST /predict_tolerance_risk HTTP/1.1\" 200 -\n"
     ]
    },
    {
     "name": "stdout",
     "output_type": "stream",
     "text": [
      "activity Technology\n",
      "ProfileData for Investor id: 108\n",
      "The length of ProfileData is: (1, 20)\n",
      "Technology\n",
      "ProfileData for Investor id: 108\n",
      "The length of ProfileData is: (1, 20)\n",
      "Technology\n"
     ]
    },
    {
     "name": "stderr",
     "output_type": "stream",
     "text": [
      "127.0.0.1 - - [09/May/2024 13:52:47] \"POST /predict_tolerance_risk HTTP/1.1\" 200 -\n"
     ]
    },
    {
     "name": "stdout",
     "output_type": "stream",
     "text": [
      "activity Technology\n"
     ]
    },
    {
     "name": "stderr",
     "output_type": "stream",
     "text": [
      "127.0.0.1 - - [09/May/2024 13:52:49] \"POST /predict_tolerance_risk HTTP/1.1\" 200 -\n"
     ]
    },
    {
     "name": "stdout",
     "output_type": "stream",
     "text": [
      "activity Technology\n",
      "ProfileData for Investor id: 108\n",
      "The length of ProfileData is: (1, 20)\n",
      "Technology\n",
      "ProfileData for Investor id: 108\n",
      "The length of ProfileData is: (1, 20)\n",
      "Technology\n"
     ]
    },
    {
     "name": "stderr",
     "output_type": "stream",
     "text": [
      "127.0.0.1 - - [09/May/2024 13:53:23] \"POST /predict_tolerance_risk HTTP/1.1\" 200 -\n"
     ]
    },
    {
     "name": "stdout",
     "output_type": "stream",
     "text": [
      "activity Technology\n"
     ]
    },
    {
     "name": "stderr",
     "output_type": "stream",
     "text": [
      "127.0.0.1 - - [09/May/2024 13:53:23] \"POST /predict_tolerance_risk HTTP/1.1\" 200 -\n"
     ]
    },
    {
     "name": "stdout",
     "output_type": "stream",
     "text": [
      "activity Technology\n",
      "ProfileData for Investor id: 108\n",
      "The length of ProfileData is: (1, 20)\n",
      "Technology\n",
      "ProfileData for Investor id: 108\n",
      "The length of ProfileData is: (1, 20)\n",
      "Technology\n",
      "ProfileData for Investor id: 108\n",
      "The length of ProfileData is: (1, 20)\n",
      "Technology\n"
     ]
    },
    {
     "name": "stderr",
     "output_type": "stream",
     "text": [
      "127.0.0.1 - - [09/May/2024 13:53:29] \"POST /predict_tolerance_risk HTTP/1.1\" 200 -\n"
     ]
    },
    {
     "name": "stdout",
     "output_type": "stream",
     "text": [
      "activity Technology\n"
     ]
    },
    {
     "name": "stderr",
     "output_type": "stream",
     "text": [
      "127.0.0.1 - - [09/May/2024 13:53:30] \"POST /predict_tolerance_risk HTTP/1.1\" 200 -\n"
     ]
    },
    {
     "name": "stdout",
     "output_type": "stream",
     "text": [
      "activity Technology\n"
     ]
    },
    {
     "name": "stderr",
     "output_type": "stream",
     "text": [
      "127.0.0.1 - - [09/May/2024 13:53:30] \"POST /predict_tolerance_risk HTTP/1.1\" 200 -\n"
     ]
    },
    {
     "name": "stdout",
     "output_type": "stream",
     "text": [
      "activity Technology\n",
      "ProfileData for Investor id: 108\n",
      "The length of ProfileData is: (1, 20)\n",
      "Technology\n"
     ]
    },
    {
     "name": "stderr",
     "output_type": "stream",
     "text": [
      "127.0.0.1 - - [09/May/2024 13:53:36] \"POST /predict_tolerance_risk HTTP/1.1\" 200 -\n"
     ]
    },
    {
     "name": "stdout",
     "output_type": "stream",
     "text": [
      "activity Technology\n",
      "ProfileData for Investor id: 108\n",
      "The length of ProfileData is: (1, 20)\n",
      "Technology\n"
     ]
    },
    {
     "name": "stderr",
     "output_type": "stream",
     "text": [
      "127.0.0.1 - - [09/May/2024 13:53:43] \"POST /predict_tolerance_risk HTTP/1.1\" 200 -\n"
     ]
    },
    {
     "name": "stdout",
     "output_type": "stream",
     "text": [
      "activity Technology\n",
      "ProfileData for Investor id: 108\n",
      "The length of ProfileData is: (1, 20)\n",
      "Technology\n"
     ]
    },
    {
     "name": "stderr",
     "output_type": "stream",
     "text": [
      "127.0.0.1 - - [09/May/2024 13:53:48] \"POST /predict_tolerance_risk HTTP/1.1\" 200 -\n"
     ]
    },
    {
     "name": "stdout",
     "output_type": "stream",
     "text": [
      "activity Technology\n"
     ]
    },
    {
     "name": "stderr",
     "output_type": "stream",
     "text": [
      "127.0.0.1 - - [09/May/2024 13:55:00] \"OPTIONS /predict_tolerance_risk HTTP/1.1\" 200 -\n"
     ]
    },
    {
     "name": "stdout",
     "output_type": "stream",
     "text": [
      "ProfileData for Investor id: 108\n",
      "The length of ProfileData is: (1, 20)\n",
      "Technology\n"
     ]
    },
    {
     "name": "stderr",
     "output_type": "stream",
     "text": [
      "127.0.0.1 - - [09/May/2024 13:55:02] \"POST /predict_tolerance_risk HTTP/1.1\" 200 -\n"
     ]
    },
    {
     "name": "stdout",
     "output_type": "stream",
     "text": [
      "activity Technology\n",
      "ProfileData for Investor id: 108\n",
      "The length of ProfileData is: (1, 20)\n",
      "Technology\n"
     ]
    },
    {
     "name": "stderr",
     "output_type": "stream",
     "text": [
      "127.0.0.1 - - [09/May/2024 13:55:39] \"POST /predict_tolerance_risk HTTP/1.1\" 200 -\n"
     ]
    },
    {
     "name": "stdout",
     "output_type": "stream",
     "text": [
      "activity Technology\n",
      "ProfileData for Investor id: 108\n",
      "The length of ProfileData is: (1, 20)\n",
      "Technology\n"
     ]
    },
    {
     "name": "stderr",
     "output_type": "stream",
     "text": [
      "127.0.0.1 - - [09/May/2024 13:55:43] \"POST /predict_tolerance_risk HTTP/1.1\" 200 -\n"
     ]
    },
    {
     "name": "stdout",
     "output_type": "stream",
     "text": [
      "activity Technology\n"
     ]
    },
    {
     "name": "stderr",
     "output_type": "stream",
     "text": [
      "127.0.0.1 - - [09/May/2024 13:56:23] \"OPTIONS /predict_tolerance_risk HTTP/1.1\" 200 -\n"
     ]
    },
    {
     "name": "stdout",
     "output_type": "stream",
     "text": [
      "ProfileData for Investor id: 108\n",
      "The length of ProfileData is: (1, 20)\n",
      "Technology\n"
     ]
    },
    {
     "name": "stderr",
     "output_type": "stream",
     "text": [
      "127.0.0.1 - - [09/May/2024 13:56:25] \"POST /predict_tolerance_risk HTTP/1.1\" 200 -\n"
     ]
    },
    {
     "name": "stdout",
     "output_type": "stream",
     "text": [
      "activity Technology\n",
      "ProfileData for Investor id: 108\n",
      "The length of ProfileData is: (1, 20)\n",
      "Technology\n"
     ]
    },
    {
     "name": "stderr",
     "output_type": "stream",
     "text": [
      "127.0.0.1 - - [09/May/2024 13:57:00] \"POST /predict_tolerance_risk HTTP/1.1\" 200 -\n"
     ]
    },
    {
     "name": "stdout",
     "output_type": "stream",
     "text": [
      "activity Technology\n",
      "ProfileData for Investor id: 108\n",
      "The length of ProfileData is: (1, 20)\n",
      "Technology\n"
     ]
    },
    {
     "name": "stderr",
     "output_type": "stream",
     "text": [
      "127.0.0.1 - - [09/May/2024 13:57:05] \"POST /predict_tolerance_risk HTTP/1.1\" 200 -\n"
     ]
    },
    {
     "name": "stdout",
     "output_type": "stream",
     "text": [
      "activity Technology\n"
     ]
    },
    {
     "name": "stderr",
     "output_type": "stream",
     "text": [
      "127.0.0.1 - - [09/May/2024 13:59:39] \"OPTIONS /predict_tolerance_risk HTTP/1.1\" 200 -\n"
     ]
    },
    {
     "name": "stdout",
     "output_type": "stream",
     "text": [
      "ProfileData for Investor id: 108\n",
      "The length of ProfileData is: (1, 20)\n",
      "Technology\n"
     ]
    },
    {
     "name": "stderr",
     "output_type": "stream",
     "text": [
      "127.0.0.1 - - [09/May/2024 13:59:41] \"POST /predict_tolerance_risk HTTP/1.1\" 200 -\n"
     ]
    },
    {
     "name": "stdout",
     "output_type": "stream",
     "text": [
      "activity Technology\n"
     ]
    },
    {
     "name": "stderr",
     "output_type": "stream",
     "text": [
      "127.0.0.1 - - [09/May/2024 13:59:52] \"OPTIONS /predict_tolerance_risk HTTP/1.1\" 200 -\n"
     ]
    },
    {
     "name": "stdout",
     "output_type": "stream",
     "text": [
      "ProfileData for Investor id: 108\n",
      "The length of ProfileData is: (1, 20)\n",
      "Technology\n"
     ]
    },
    {
     "name": "stderr",
     "output_type": "stream",
     "text": [
      "127.0.0.1 - - [09/May/2024 13:59:55] \"POST /predict_tolerance_risk HTTP/1.1\" 200 -\n"
     ]
    },
    {
     "name": "stdout",
     "output_type": "stream",
     "text": [
      "activity Technology\n",
      "ProfileData for Investor id: 108\n",
      "The length of ProfileData is: (1, 20)\n",
      "Technology\n"
     ]
    },
    {
     "name": "stderr",
     "output_type": "stream",
     "text": [
      "127.0.0.1 - - [09/May/2024 14:00:38] \"POST /predict_tolerance_risk HTTP/1.1\" 200 -\n"
     ]
    },
    {
     "name": "stdout",
     "output_type": "stream",
     "text": [
      "activity Technology\n",
      "ProfileData for Investor id: 108\n",
      "The length of ProfileData is: (1, 20)\n",
      "Technology\n"
     ]
    },
    {
     "name": "stderr",
     "output_type": "stream",
     "text": [
      "127.0.0.1 - - [09/May/2024 14:00:43] \"POST /predict_tolerance_risk HTTP/1.1\" 200 -\n"
     ]
    },
    {
     "name": "stdout",
     "output_type": "stream",
     "text": [
      "activity Technology\n",
      "ProfileData for Investor id: 108\n",
      "The length of ProfileData is: (1, 20)\n",
      "Technology\n"
     ]
    },
    {
     "name": "stderr",
     "output_type": "stream",
     "text": [
      "127.0.0.1 - - [09/May/2024 14:00:50] \"POST /predict_tolerance_risk HTTP/1.1\" 200 -\n"
     ]
    },
    {
     "name": "stdout",
     "output_type": "stream",
     "text": [
      "activity Technology\n",
      "ProfileData for Investor id: 108\n",
      "The length of ProfileData is: (1, 20)\n",
      "Technology\n"
     ]
    },
    {
     "name": "stderr",
     "output_type": "stream",
     "text": [
      "127.0.0.1 - - [09/May/2024 14:00:54] \"POST /predict_tolerance_risk HTTP/1.1\" 200 -\n"
     ]
    },
    {
     "name": "stdout",
     "output_type": "stream",
     "text": [
      "activity Technology\n"
     ]
    },
    {
     "name": "stderr",
     "output_type": "stream",
     "text": [
      "127.0.0.1 - - [09/May/2024 14:06:25] \"OPTIONS /predict_tolerance_risk HTTP/1.1\" 200 -\n"
     ]
    },
    {
     "name": "stdout",
     "output_type": "stream",
     "text": [
      "ProfileData for Investor id: 108\n",
      "The length of ProfileData is: (1, 20)\n",
      "Technology\n"
     ]
    },
    {
     "name": "stderr",
     "output_type": "stream",
     "text": [
      "127.0.0.1 - - [09/May/2024 14:06:27] \"POST /predict_tolerance_risk HTTP/1.1\" 200 -\n"
     ]
    },
    {
     "name": "stdout",
     "output_type": "stream",
     "text": [
      "activity Technology\n"
     ]
    },
    {
     "name": "stderr",
     "output_type": "stream",
     "text": [
      "127.0.0.1 - - [09/May/2024 14:06:35] \"OPTIONS /predict_tolerance_risk HTTP/1.1\" 200 -\n"
     ]
    },
    {
     "name": "stdout",
     "output_type": "stream",
     "text": [
      "ProfileData for Investor id: 108\n",
      "The length of ProfileData is: (1, 20)\n",
      "Technology\n"
     ]
    },
    {
     "name": "stderr",
     "output_type": "stream",
     "text": [
      "127.0.0.1 - - [09/May/2024 14:06:38] \"POST /predict_tolerance_risk HTTP/1.1\" 200 -\n"
     ]
    },
    {
     "name": "stdout",
     "output_type": "stream",
     "text": [
      "activity Technology\n",
      "ProfileData for Investor id: 108\n",
      "The length of ProfileData is: (1, 20)\n",
      "Technology\n"
     ]
    },
    {
     "name": "stderr",
     "output_type": "stream",
     "text": [
      "127.0.0.1 - - [09/May/2024 14:07:24] \"POST /predict_tolerance_risk HTTP/1.1\" 200 -\n"
     ]
    },
    {
     "name": "stdout",
     "output_type": "stream",
     "text": [
      "activity Technology\n",
      "ProfileData for Investor id: 108\n",
      "The length of ProfileData is: (1, 20)\n",
      "Technology\n"
     ]
    },
    {
     "name": "stderr",
     "output_type": "stream",
     "text": [
      "127.0.0.1 - - [09/May/2024 14:07:29] \"POST /predict_tolerance_risk HTTP/1.1\" 200 -\n"
     ]
    },
    {
     "name": "stdout",
     "output_type": "stream",
     "text": [
      "activity Technology\n",
      "ProfileData for Investor id: 108\n",
      "The length of ProfileData is: (1, 20)\n",
      "Technology\n"
     ]
    },
    {
     "name": "stderr",
     "output_type": "stream",
     "text": [
      "127.0.0.1 - - [09/May/2024 14:07:33] \"POST /predict_tolerance_risk HTTP/1.1\" 200 -\n"
     ]
    },
    {
     "name": "stdout",
     "output_type": "stream",
     "text": [
      "activity Technology\n",
      "ProfileData for Investor id: 108\n",
      "The length of ProfileData is: (1, 20)\n",
      "Technology\n"
     ]
    },
    {
     "name": "stderr",
     "output_type": "stream",
     "text": [
      "127.0.0.1 - - [09/May/2024 14:07:38] \"POST /predict_tolerance_risk HTTP/1.1\" 200 -\n"
     ]
    },
    {
     "name": "stdout",
     "output_type": "stream",
     "text": [
      "activity Technology\n"
     ]
    },
    {
     "name": "stderr",
     "output_type": "stream",
     "text": [
      "127.0.0.1 - - [09/May/2024 14:09:40] \"OPTIONS /predict_tolerance_risk HTTP/1.1\" 200 -\n"
     ]
    },
    {
     "name": "stdout",
     "output_type": "stream",
     "text": [
      "ProfileData for Investor id: 108\n",
      "The length of ProfileData is: (1, 20)\n",
      "Technology\n"
     ]
    },
    {
     "name": "stderr",
     "output_type": "stream",
     "text": [
      "127.0.0.1 - - [09/May/2024 14:09:41] \"OPTIONS /predict_tolerance_risk HTTP/1.1\" 200 -\n"
     ]
    },
    {
     "name": "stdout",
     "output_type": "stream",
     "text": [
      "ProfileData for Investor id: 108\n",
      "The length of ProfileData is: (1, 20)\n",
      "Technology\n"
     ]
    },
    {
     "name": "stderr",
     "output_type": "stream",
     "text": [
      "127.0.0.1 - - [09/May/2024 14:09:44] \"POST /predict_tolerance_risk HTTP/1.1\" 200 -\n"
     ]
    },
    {
     "name": "stdout",
     "output_type": "stream",
     "text": [
      "activity Technology\n"
     ]
    },
    {
     "name": "stderr",
     "output_type": "stream",
     "text": [
      "127.0.0.1 - - [09/May/2024 14:09:45] \"POST /predict_tolerance_risk HTTP/1.1\" 200 -\n"
     ]
    },
    {
     "name": "stdout",
     "output_type": "stream",
     "text": [
      "activity Technology\n"
     ]
    },
    {
     "name": "stderr",
     "output_type": "stream",
     "text": [
      "127.0.0.1 - - [09/May/2024 14:10:30] \"OPTIONS /predict_tolerance_risk HTTP/1.1\" 200 -\n"
     ]
    },
    {
     "name": "stdout",
     "output_type": "stream",
     "text": [
      "ProfileData for Investor id: 108\n",
      "The length of ProfileData is: (1, 20)\n",
      "Technology\n"
     ]
    },
    {
     "name": "stderr",
     "output_type": "stream",
     "text": [
      "127.0.0.1 - - [09/May/2024 14:10:33] \"POST /predict_tolerance_risk HTTP/1.1\" 200 -\n"
     ]
    },
    {
     "name": "stdout",
     "output_type": "stream",
     "text": [
      "activity Technology\n"
     ]
    },
    {
     "name": "stderr",
     "output_type": "stream",
     "text": [
      "127.0.0.1 - - [09/May/2024 14:10:41] \"OPTIONS /predict_tolerance_risk HTTP/1.1\" 200 -\n"
     ]
    },
    {
     "name": "stdout",
     "output_type": "stream",
     "text": [
      "ProfileData for Investor id: 108\n",
      "The length of ProfileData is: (1, 20)\n",
      "Technology\n"
     ]
    },
    {
     "name": "stderr",
     "output_type": "stream",
     "text": [
      "127.0.0.1 - - [09/May/2024 14:10:44] \"POST /predict_tolerance_risk HTTP/1.1\" 200 -\n"
     ]
    },
    {
     "name": "stdout",
     "output_type": "stream",
     "text": [
      "activity Technology\n",
      "ProfileData for Investor id: 108\n",
      "The length of ProfileData is: (1, 20)\n",
      "Technology\n"
     ]
    },
    {
     "name": "stderr",
     "output_type": "stream",
     "text": [
      "127.0.0.1 - - [09/May/2024 14:11:00] \"POST /predict_tolerance_risk HTTP/1.1\" 200 -\n"
     ]
    },
    {
     "name": "stdout",
     "output_type": "stream",
     "text": [
      "activity Technology\n",
      "ProfileData for Investor id: 108\n",
      "The length of ProfileData is: (1, 20)\n",
      "Technology\n",
      "ProfileData for Investor id: 108\n",
      "The length of ProfileData is: (1, 20)\n",
      "Technology\n"
     ]
    },
    {
     "name": "stderr",
     "output_type": "stream",
     "text": [
      "127.0.0.1 - - [09/May/2024 14:11:05] \"POST /predict_tolerance_risk HTTP/1.1\" 200 -\n",
      "127.0.0.1 - - [09/May/2024 14:11:06] \"POST /predict_tolerance_risk HTTP/1.1\" 200 -\n"
     ]
    },
    {
     "name": "stdout",
     "output_type": "stream",
     "text": [
      "activity Technology\n",
      "activity Technology\n",
      "ProfileData for Investor id: 108\n",
      "The length of ProfileData is: (1, 20)\n",
      "Technology\n"
     ]
    },
    {
     "name": "stderr",
     "output_type": "stream",
     "text": [
      "127.0.0.1 - - [09/May/2024 14:11:11] \"POST /predict_tolerance_risk HTTP/1.1\" 200 -\n"
     ]
    },
    {
     "name": "stdout",
     "output_type": "stream",
     "text": [
      "activity Technology\n",
      "ProfileData for Investor id: 108\n",
      "The length of ProfileData is: (1, 20)\n",
      "Technology\n",
      "ProfileData for Investor id: 108\n",
      "The length of ProfileData is: (1, 20)\n",
      "Technology\n"
     ]
    },
    {
     "name": "stderr",
     "output_type": "stream",
     "text": [
      "127.0.0.1 - - [09/May/2024 14:11:54] \"POST /predict_tolerance_risk HTTP/1.1\" 200 -\n"
     ]
    },
    {
     "name": "stdout",
     "output_type": "stream",
     "text": [
      "activity Technology\n"
     ]
    },
    {
     "name": "stderr",
     "output_type": "stream",
     "text": [
      "127.0.0.1 - - [09/May/2024 14:11:55] \"POST /predict_tolerance_risk HTTP/1.1\" 200 -\n"
     ]
    },
    {
     "name": "stdout",
     "output_type": "stream",
     "text": [
      "activity Technology\n",
      "ProfileData for Investor id: 108\n",
      "The length of ProfileData is: (1, 20)\n",
      "Technology\n",
      "ProfileData for Investor id: 108\n",
      "The length of ProfileData is: (1, 20)\n",
      "Technology\n"
     ]
    },
    {
     "name": "stderr",
     "output_type": "stream",
     "text": [
      "127.0.0.1 - - [09/May/2024 14:11:59] \"POST /predict_tolerance_risk HTTP/1.1\" 200 -\n"
     ]
    },
    {
     "name": "stdout",
     "output_type": "stream",
     "text": [
      "activity Technology\n"
     ]
    },
    {
     "name": "stderr",
     "output_type": "stream",
     "text": [
      "127.0.0.1 - - [09/May/2024 14:12:00] \"POST /predict_tolerance_risk HTTP/1.1\" 200 -\n"
     ]
    },
    {
     "name": "stdout",
     "output_type": "stream",
     "text": [
      "activity Technology\n"
     ]
    },
    {
     "name": "stderr",
     "output_type": "stream",
     "text": [
      "127.0.0.1 - - [09/May/2024 14:13:02] \"OPTIONS /predict_tolerance_risk HTTP/1.1\" 200 -\n"
     ]
    },
    {
     "name": "stdout",
     "output_type": "stream",
     "text": [
      "ProfileData for Investor id: 108\n",
      "The length of ProfileData is: (1, 20)\n",
      "Technology\n",
      "ProfileData for Investor id: 108\n",
      "The length of ProfileData is: (1, 20)\n",
      "Technology\n"
     ]
    },
    {
     "name": "stderr",
     "output_type": "stream",
     "text": [
      "127.0.0.1 - - [09/May/2024 14:13:05] \"POST /predict_tolerance_risk HTTP/1.1\" 200 -\n"
     ]
    },
    {
     "name": "stdout",
     "output_type": "stream",
     "text": [
      "activity Technology\n"
     ]
    },
    {
     "name": "stderr",
     "output_type": "stream",
     "text": [
      "127.0.0.1 - - [09/May/2024 14:13:06] \"POST /predict_tolerance_risk HTTP/1.1\" 200 -\n",
      "127.0.0.1 - - [09/May/2024 14:13:06] \"OPTIONS /predict_tolerance_risk HTTP/1.1\" 200 -\n"
     ]
    },
    {
     "name": "stdout",
     "output_type": "stream",
     "text": [
      "activity Technology\n",
      "ProfileData for Investor id: 108\n",
      "The length of ProfileData is: (1, 20)\n",
      "Technology\n"
     ]
    },
    {
     "name": "stderr",
     "output_type": "stream",
     "text": [
      "127.0.0.1 - - [09/May/2024 14:13:09] \"POST /predict_tolerance_risk HTTP/1.1\" 200 -\n"
     ]
    },
    {
     "name": "stdout",
     "output_type": "stream",
     "text": [
      "activity Technology\n"
     ]
    },
    {
     "name": "stderr",
     "output_type": "stream",
     "text": [
      "127.0.0.1 - - [09/May/2024 14:13:24] \"OPTIONS /predict_tolerance_risk HTTP/1.1\" 200 -\n"
     ]
    },
    {
     "name": "stdout",
     "output_type": "stream",
     "text": [
      "ProfileData for Investor id: 108\n",
      "The length of ProfileData is: (1, 20)\n",
      "Technology\n"
     ]
    },
    {
     "name": "stderr",
     "output_type": "stream",
     "text": [
      "127.0.0.1 - - [09/May/2024 14:13:27] \"POST /predict_tolerance_risk HTTP/1.1\" 200 -\n"
     ]
    },
    {
     "name": "stdout",
     "output_type": "stream",
     "text": [
      "activity Technology\n"
     ]
    },
    {
     "name": "stderr",
     "output_type": "stream",
     "text": [
      "127.0.0.1 - - [09/May/2024 14:13:49] \"OPTIONS /predict_tolerance_risk HTTP/1.1\" 200 -\n"
     ]
    },
    {
     "name": "stdout",
     "output_type": "stream",
     "text": [
      "ProfileData for Investor id: 108\n",
      "The length of ProfileData is: (1, 20)\n",
      "Technology\n"
     ]
    },
    {
     "name": "stderr",
     "output_type": "stream",
     "text": [
      "127.0.0.1 - - [09/May/2024 14:13:52] \"POST /predict_tolerance_risk HTTP/1.1\" 200 -\n"
     ]
    },
    {
     "name": "stdout",
     "output_type": "stream",
     "text": [
      "activity Technology\n",
      "ProfileData for Investor id: 108\n",
      "The length of ProfileData is: (1, 20)\n",
      "Technology\n",
      "ProfileData for Investor id: 108\n",
      "The length of ProfileData is: (1, 20)\n",
      "Technology\n"
     ]
    },
    {
     "name": "stderr",
     "output_type": "stream",
     "text": [
      "127.0.0.1 - - [09/May/2024 14:15:29] \"POST /predict_tolerance_risk HTTP/1.1\" 200 -\n"
     ]
    },
    {
     "name": "stdout",
     "output_type": "stream",
     "text": [
      "activity Technology\n"
     ]
    },
    {
     "name": "stderr",
     "output_type": "stream",
     "text": [
      "127.0.0.1 - - [09/May/2024 14:15:32] \"POST /predict_tolerance_risk HTTP/1.1\" 200 -\n"
     ]
    },
    {
     "name": "stdout",
     "output_type": "stream",
     "text": [
      "activity Technology\n",
      "ProfileData for Investor id: 108\n",
      "The length of ProfileData is: (1, 20)\n",
      "Technology\n",
      "ProfileData for Investor id: 108\n",
      "The length of ProfileData is: (1, 20)\n",
      "Technology\n",
      "ProfileData for Investor id: 108\n",
      "The length of ProfileData is: (1, 20)\n",
      "Technology\n"
     ]
    },
    {
     "name": "stderr",
     "output_type": "stream",
     "text": [
      "127.0.0.1 - - [09/May/2024 14:15:36] \"POST /predict_tolerance_risk HTTP/1.1\" 200 -\n",
      "127.0.0.1 - - [09/May/2024 14:15:36] \"POST /predict_tolerance_risk HTTP/1.1\" 200 -\n"
     ]
    },
    {
     "name": "stdout",
     "output_type": "stream",
     "text": [
      "activity Technology\n",
      "activity Technology\n"
     ]
    },
    {
     "name": "stderr",
     "output_type": "stream",
     "text": [
      "127.0.0.1 - - [09/May/2024 14:15:38] \"POST /predict_tolerance_risk HTTP/1.1\" 200 -\n"
     ]
    },
    {
     "name": "stdout",
     "output_type": "stream",
     "text": [
      "activity Technology\n",
      "ProfileData for Investor id: 108\n",
      "The length of ProfileData is: (1, 20)\n",
      "Technology\n"
     ]
    },
    {
     "name": "stderr",
     "output_type": "stream",
     "text": [
      "127.0.0.1 - - [09/May/2024 14:15:42] \"POST /predict_tolerance_risk HTTP/1.1\" 200 -\n"
     ]
    },
    {
     "name": "stdout",
     "output_type": "stream",
     "text": [
      "activity Technology\n",
      "ProfileData for Investor id: 108\n",
      "The length of ProfileData is: (1, 20)\n",
      "Technology\n"
     ]
    },
    {
     "name": "stderr",
     "output_type": "stream",
     "text": [
      "127.0.0.1 - - [09/May/2024 14:15:53] \"POST /predict_tolerance_risk HTTP/1.1\" 200 -\n"
     ]
    },
    {
     "name": "stdout",
     "output_type": "stream",
     "text": [
      "activity Technology\n",
      "ProfileData for Investor id: 108\n",
      "The length of ProfileData is: (1, 20)\n",
      "Technology\n"
     ]
    },
    {
     "name": "stderr",
     "output_type": "stream",
     "text": [
      "127.0.0.1 - - [09/May/2024 14:15:58] \"POST /predict_tolerance_risk HTTP/1.1\" 200 -\n"
     ]
    },
    {
     "name": "stdout",
     "output_type": "stream",
     "text": [
      "activity Technology\n",
      "ProfileData for Investor id: 108\n",
      "The length of ProfileData is: (1, 20)\n",
      "Technology\n"
     ]
    },
    {
     "name": "stderr",
     "output_type": "stream",
     "text": [
      "127.0.0.1 - - [09/May/2024 14:16:02] \"POST /predict_tolerance_risk HTTP/1.1\" 200 -\n"
     ]
    },
    {
     "name": "stdout",
     "output_type": "stream",
     "text": [
      "activity Technology\n",
      "ProfileData for Investor id: 108\n",
      "The length of ProfileData is: (1, 20)\n",
      "Technology\n"
     ]
    },
    {
     "name": "stderr",
     "output_type": "stream",
     "text": [
      "127.0.0.1 - - [09/May/2024 14:16:07] \"POST /predict_tolerance_risk HTTP/1.1\" 200 -\n"
     ]
    },
    {
     "name": "stdout",
     "output_type": "stream",
     "text": [
      "activity Technology\n"
     ]
    },
    {
     "name": "stderr",
     "output_type": "stream",
     "text": [
      "127.0.0.1 - - [09/May/2024 14:17:56] \"OPTIONS /predict_tolerance_risk HTTP/1.1\" 200 -\n"
     ]
    },
    {
     "name": "stdout",
     "output_type": "stream",
     "text": [
      "ProfileData for Investor id: 108\n",
      "The length of ProfileData is: (1, 20)\n",
      "Technology\n"
     ]
    },
    {
     "name": "stderr",
     "output_type": "stream",
     "text": [
      "127.0.0.1 - - [09/May/2024 14:17:59] \"POST /predict_tolerance_risk HTTP/1.1\" 200 -\n"
     ]
    },
    {
     "name": "stdout",
     "output_type": "stream",
     "text": [
      "activity Technology\n",
      "ProfileData for Investor id: 108\n",
      "The length of ProfileData is: (1, 20)\n",
      "Technology\n"
     ]
    },
    {
     "name": "stderr",
     "output_type": "stream",
     "text": [
      "127.0.0.1 - - [09/May/2024 14:18:34] \"POST /predict_tolerance_risk HTTP/1.1\" 200 -\n"
     ]
    },
    {
     "name": "stdout",
     "output_type": "stream",
     "text": [
      "activity Technology\n",
      "ProfileData for Investor id: 108\n",
      "The length of ProfileData is: (1, 20)\n",
      "Technology\n"
     ]
    },
    {
     "name": "stderr",
     "output_type": "stream",
     "text": [
      "127.0.0.1 - - [09/May/2024 14:18:39] \"POST /predict_tolerance_risk HTTP/1.1\" 200 -\n"
     ]
    },
    {
     "name": "stdout",
     "output_type": "stream",
     "text": [
      "activity Technology\n"
     ]
    },
    {
     "name": "stderr",
     "output_type": "stream",
     "text": [
      "127.0.0.1 - - [09/May/2024 14:23:12] \"OPTIONS /predict_tolerance_risk HTTP/1.1\" 200 -\n"
     ]
    },
    {
     "name": "stdout",
     "output_type": "stream",
     "text": [
      "ProfileData for Investor id: 108\n",
      "The length of ProfileData is: (1, 20)\n",
      "Technology\n"
     ]
    },
    {
     "name": "stderr",
     "output_type": "stream",
     "text": [
      "127.0.0.1 - - [09/May/2024 14:23:15] \"POST /predict_tolerance_risk HTTP/1.1\" 200 -\n"
     ]
    },
    {
     "name": "stdout",
     "output_type": "stream",
     "text": [
      "activity Technology\n",
      "ProfileData for Investor id: 108\n",
      "The length of ProfileData is: (1, 20)\n",
      "Technology\n"
     ]
    },
    {
     "name": "stderr",
     "output_type": "stream",
     "text": [
      "127.0.0.1 - - [09/May/2024 14:23:51] \"POST /predict_tolerance_risk HTTP/1.1\" 200 -\n"
     ]
    },
    {
     "name": "stdout",
     "output_type": "stream",
     "text": [
      "activity Technology\n",
      "ProfileData for Investor id: 108\n",
      "The length of ProfileData is: (1, 20)\n",
      "Technology\n"
     ]
    },
    {
     "name": "stderr",
     "output_type": "stream",
     "text": [
      "127.0.0.1 - - [09/May/2024 14:23:55] \"POST /predict_tolerance_risk HTTP/1.1\" 200 -\n"
     ]
    },
    {
     "name": "stdout",
     "output_type": "stream",
     "text": [
      "activity Technology\n"
     ]
    },
    {
     "name": "stderr",
     "output_type": "stream",
     "text": [
      "127.0.0.1 - - [09/May/2024 14:24:09] \"OPTIONS /predict_tolerance_risk HTTP/1.1\" 200 -\n"
     ]
    },
    {
     "name": "stdout",
     "output_type": "stream",
     "text": [
      "ProfileData for Investor id: 108\n",
      "The length of ProfileData is: (1, 20)\n",
      "Technology\n"
     ]
    },
    {
     "name": "stderr",
     "output_type": "stream",
     "text": [
      "127.0.0.1 - - [09/May/2024 14:24:12] \"POST /predict_tolerance_risk HTTP/1.1\" 200 -\n"
     ]
    },
    {
     "name": "stdout",
     "output_type": "stream",
     "text": [
      "activity Technology\n"
     ]
    },
    {
     "name": "stderr",
     "output_type": "stream",
     "text": [
      "127.0.0.1 - - [09/May/2024 14:24:13] \"OPTIONS /predict_tolerance_risk HTTP/1.1\" 200 -\n"
     ]
    },
    {
     "name": "stdout",
     "output_type": "stream",
     "text": [
      "ProfileData for Investor id: 108\n",
      "The length of ProfileData is: (1, 20)\n",
      "Technology\n"
     ]
    },
    {
     "name": "stderr",
     "output_type": "stream",
     "text": [
      "127.0.0.1 - - [09/May/2024 14:24:16] \"POST /predict_tolerance_risk HTTP/1.1\" 200 -\n"
     ]
    },
    {
     "name": "stdout",
     "output_type": "stream",
     "text": [
      "activity Technology\n",
      "ProfileData for Investor id: 108\n",
      "The length of ProfileData is: (1, 20)\n",
      "Technology\n"
     ]
    },
    {
     "name": "stderr",
     "output_type": "stream",
     "text": [
      "127.0.0.1 - - [09/May/2024 14:25:18] \"POST /predict_tolerance_risk HTTP/1.1\" 200 -\n"
     ]
    },
    {
     "name": "stdout",
     "output_type": "stream",
     "text": [
      "activity Technology\n",
      "ProfileData for Investor id: 108\n",
      "The length of ProfileData is: (1, 20)\n",
      "Technology\n",
      "ProfileData for Investor id: 108\n",
      "The length of ProfileData is: (1, 20)\n",
      "Technology\n"
     ]
    },
    {
     "name": "stderr",
     "output_type": "stream",
     "text": [
      "127.0.0.1 - - [09/May/2024 14:25:22] \"POST /predict_tolerance_risk HTTP/1.1\" 200 -\n"
     ]
    },
    {
     "name": "stdout",
     "output_type": "stream",
     "text": [
      "activity Technology\n"
     ]
    },
    {
     "name": "stderr",
     "output_type": "stream",
     "text": [
      "127.0.0.1 - - [09/May/2024 14:25:23] \"POST /predict_tolerance_risk HTTP/1.1\" 200 -\n"
     ]
    },
    {
     "name": "stdout",
     "output_type": "stream",
     "text": [
      "activity Technology\n",
      "ProfileData for Investor id: 108\n",
      "The length of ProfileData is: (1, 20)\n",
      "Technology\n"
     ]
    },
    {
     "name": "stderr",
     "output_type": "stream",
     "text": [
      "127.0.0.1 - - [09/May/2024 14:25:27] \"POST /predict_tolerance_risk HTTP/1.1\" 200 -\n"
     ]
    },
    {
     "name": "stdout",
     "output_type": "stream",
     "text": [
      "activity Technology\n"
     ]
    },
    {
     "name": "stderr",
     "output_type": "stream",
     "text": [
      "127.0.0.1 - - [09/May/2024 14:27:31] \"OPTIONS /predict_tolerance_risk HTTP/1.1\" 200 -\n"
     ]
    },
    {
     "name": "stdout",
     "output_type": "stream",
     "text": [
      "ProfileData for Investor id: 108\n",
      "The length of ProfileData is: (1, 20)\n",
      "Technology\n"
     ]
    },
    {
     "name": "stderr",
     "output_type": "stream",
     "text": [
      "127.0.0.1 - - [09/May/2024 14:27:34] \"POST /predict_tolerance_risk HTTP/1.1\" 200 -\n"
     ]
    },
    {
     "name": "stdout",
     "output_type": "stream",
     "text": [
      "activity Technology\n"
     ]
    },
    {
     "name": "stderr",
     "output_type": "stream",
     "text": [
      "127.0.0.1 - - [09/May/2024 14:27:39] \"OPTIONS /predict_tolerance_risk HTTP/1.1\" 200 -\n"
     ]
    },
    {
     "name": "stdout",
     "output_type": "stream",
     "text": [
      "ProfileData for Investor id: 108\n",
      "The length of ProfileData is: (1, 20)\n",
      "Technology\n"
     ]
    },
    {
     "name": "stderr",
     "output_type": "stream",
     "text": [
      "127.0.0.1 - - [09/May/2024 14:27:42] \"POST /predict_tolerance_risk HTTP/1.1\" 200 -\n"
     ]
    },
    {
     "name": "stdout",
     "output_type": "stream",
     "text": [
      "activity Technology\n"
     ]
    },
    {
     "name": "stderr",
     "output_type": "stream",
     "text": [
      "127.0.0.1 - - [09/May/2024 14:27:53] \"OPTIONS /predict_tolerance_risk HTTP/1.1\" 200 -\n"
     ]
    },
    {
     "name": "stdout",
     "output_type": "stream",
     "text": [
      "ProfileData for Investor id: 108\n",
      "The length of ProfileData is: (1, 20)\n",
      "Technology\n"
     ]
    },
    {
     "name": "stderr",
     "output_type": "stream",
     "text": [
      "127.0.0.1 - - [09/May/2024 14:27:56] \"POST /predict_tolerance_risk HTTP/1.1\" 200 -\n"
     ]
    },
    {
     "name": "stdout",
     "output_type": "stream",
     "text": [
      "activity Technology\n"
     ]
    },
    {
     "name": "stderr",
     "output_type": "stream",
     "text": [
      "127.0.0.1 - - [09/May/2024 14:28:11] \"OPTIONS /predict_tolerance_risk HTTP/1.1\" 200 -\n"
     ]
    },
    {
     "name": "stdout",
     "output_type": "stream",
     "text": [
      "ProfileData for Investor id: 108\n",
      "The length of ProfileData is: (1, 20)\n",
      "Technology\n"
     ]
    },
    {
     "name": "stderr",
     "output_type": "stream",
     "text": [
      "127.0.0.1 - - [09/May/2024 14:28:15] \"POST /predict_tolerance_risk HTTP/1.1\" 200 -\n"
     ]
    },
    {
     "name": "stdout",
     "output_type": "stream",
     "text": [
      "activity Technology\n"
     ]
    },
    {
     "name": "stderr",
     "output_type": "stream",
     "text": [
      "127.0.0.1 - - [09/May/2024 14:29:14] \"OPTIONS /predict_tolerance_risk HTTP/1.1\" 200 -\n"
     ]
    },
    {
     "name": "stdout",
     "output_type": "stream",
     "text": [
      "ProfileData for Investor id: 108\n",
      "The length of ProfileData is: (1, 20)\n",
      "Technology\n"
     ]
    },
    {
     "name": "stderr",
     "output_type": "stream",
     "text": [
      "127.0.0.1 - - [09/May/2024 14:29:17] \"POST /predict_tolerance_risk HTTP/1.1\" 200 -\n"
     ]
    },
    {
     "name": "stdout",
     "output_type": "stream",
     "text": [
      "activity Technology\n",
      "ProfileData for Investor id: 108\n",
      "The length of ProfileData is: (1, 20)\n",
      "Technology\n"
     ]
    },
    {
     "name": "stderr",
     "output_type": "stream",
     "text": [
      "127.0.0.1 - - [09/May/2024 14:29:21] \"POST /predict_tolerance_risk HTTP/1.1\" 200 -\n"
     ]
    },
    {
     "name": "stdout",
     "output_type": "stream",
     "text": [
      "activity Technology\n",
      "ProfileData for Investor id: 108\n",
      "The length of ProfileData is: (1, 20)\n",
      "Technology\n"
     ]
    },
    {
     "name": "stderr",
     "output_type": "stream",
     "text": [
      "127.0.0.1 - - [09/May/2024 14:29:29] \"POST /predict_tolerance_risk HTTP/1.1\" 200 -\n"
     ]
    },
    {
     "name": "stdout",
     "output_type": "stream",
     "text": [
      "activity Technology\n",
      "ProfileData for Investor id: 108\n",
      "The length of ProfileData is: (1, 20)\n",
      "Technology\n"
     ]
    },
    {
     "name": "stderr",
     "output_type": "stream",
     "text": [
      "127.0.0.1 - - [09/May/2024 14:29:35] \"POST /predict_tolerance_risk HTTP/1.1\" 200 -\n"
     ]
    },
    {
     "name": "stdout",
     "output_type": "stream",
     "text": [
      "activity Technology\n"
     ]
    },
    {
     "name": "stderr",
     "output_type": "stream",
     "text": [
      "127.0.0.1 - - [09/May/2024 14:29:38] \"OPTIONS /predict_tolerance_risk HTTP/1.1\" 200 -\n"
     ]
    },
    {
     "name": "stdout",
     "output_type": "stream",
     "text": [
      "ProfileData for Investor id: 108\n",
      "The length of ProfileData is: (1, 20)\n",
      "Technology\n"
     ]
    },
    {
     "name": "stderr",
     "output_type": "stream",
     "text": [
      "127.0.0.1 - - [09/May/2024 14:29:42] \"POST /predict_tolerance_risk HTTP/1.1\" 200 -\n"
     ]
    },
    {
     "name": "stdout",
     "output_type": "stream",
     "text": [
      "activity Technology\n"
     ]
    },
    {
     "name": "stderr",
     "output_type": "stream",
     "text": [
      "127.0.0.1 - - [09/May/2024 14:29:46] \"OPTIONS /predict_tolerance_risk HTTP/1.1\" 200 -\n"
     ]
    },
    {
     "name": "stdout",
     "output_type": "stream",
     "text": [
      "ProfileData for Investor id: 108\n",
      "The length of ProfileData is: (1, 20)\n",
      "Technology\n",
      "ProfileData for Investor id: 108\n",
      "The length of ProfileData is: (1, 20)\n",
      "Technology\n",
      "ProfileData for Investor id:ProfileData for Investor id:  108\n",
      "The length of ProfileData is: (1, 20)\n",
      "Technology108\n",
      "\n",
      "The length of ProfileData is: (1, 20)\n",
      "Technology\n",
      "ProfileData for Investor id: 108\n",
      "The length of ProfileData is: (1, 20)\n",
      "Technology\n"
     ]
    },
    {
     "name": "stderr",
     "output_type": "stream",
     "text": [
      "127.0.0.1 - - [09/May/2024 14:29:51] \"POST /predict_tolerance_risk HTTP/1.1\" 200 -\n",
      "127.0.0.1 - - [09/May/2024 14:29:51] \"POST /predict_tolerance_risk HTTP/1.1\" 200 -\n",
      "127.0.0.1 - - [09/May/2024 14:29:51] \"POST /predict_tolerance_risk HTTP/1.1\" 200 -\n"
     ]
    },
    {
     "name": "stdout",
     "output_type": "stream",
     "text": [
      "activity Technology\n",
      "activity Technology\n",
      "activity Technology\n"
     ]
    },
    {
     "name": "stderr",
     "output_type": "stream",
     "text": [
      "127.0.0.1 - - [09/May/2024 14:29:51] \"POST /predict_tolerance_risk HTTP/1.1\" 200 -\n",
      "127.0.0.1 - - [09/May/2024 14:29:51] \"POST /predict_tolerance_risk HTTP/1.1\" 200 -\n"
     ]
    },
    {
     "name": "stdout",
     "output_type": "stream",
     "text": [
      "activity Technology\n",
      "activity Technology\n",
      "ProfileData for Investor id: 108\n",
      "The length of ProfileData is: (1, 20)\n",
      "Technology\n"
     ]
    },
    {
     "name": "stderr",
     "output_type": "stream",
     "text": [
      "127.0.0.1 - - [09/May/2024 14:30:43] \"POST /predict_tolerance_risk HTTP/1.1\" 200 -\n"
     ]
    },
    {
     "name": "stdout",
     "output_type": "stream",
     "text": [
      "activity Technology\n",
      "ProfileData for Investor id: 108\n",
      "The length of ProfileData is: (1, 20)\n",
      "Technology\n"
     ]
    },
    {
     "name": "stderr",
     "output_type": "stream",
     "text": [
      "127.0.0.1 - - [09/May/2024 14:30:49] \"POST /predict_tolerance_risk HTTP/1.1\" 200 -\n"
     ]
    },
    {
     "name": "stdout",
     "output_type": "stream",
     "text": [
      "activity Technology\n",
      "ProfileData for Investor id: 108\n",
      "The length of ProfileData is: (1, 20)\n",
      "Technology\n"
     ]
    },
    {
     "name": "stderr",
     "output_type": "stream",
     "text": [
      "127.0.0.1 - - [09/May/2024 14:31:23] \"POST /predict_tolerance_risk HTTP/1.1\" 200 -\n"
     ]
    },
    {
     "name": "stdout",
     "output_type": "stream",
     "text": [
      "activity Technology\n",
      "ProfileData for Investor id: 108\n",
      "The length of ProfileData is: (1, 20)\n",
      "Technology\n"
     ]
    },
    {
     "name": "stderr",
     "output_type": "stream",
     "text": [
      "127.0.0.1 - - [09/May/2024 14:31:29] \"POST /predict_tolerance_risk HTTP/1.1\" 200 -\n"
     ]
    },
    {
     "name": "stdout",
     "output_type": "stream",
     "text": [
      "activity Technology\n",
      "ProfileData for Investor id: 108\n",
      "The length of ProfileData is: (1, 20)\n",
      "Technology\n"
     ]
    },
    {
     "name": "stderr",
     "output_type": "stream",
     "text": [
      "127.0.0.1 - - [09/May/2024 14:32:09] \"POST /predict_tolerance_risk HTTP/1.1\" 200 -\n"
     ]
    },
    {
     "name": "stdout",
     "output_type": "stream",
     "text": [
      "activity Technology\n",
      "ProfileData for Investor id: 108\n",
      "The length of ProfileData is: (1, 20)\n",
      "Technology\n"
     ]
    },
    {
     "name": "stderr",
     "output_type": "stream",
     "text": [
      "127.0.0.1 - - [09/May/2024 14:32:16] \"POST /predict_tolerance_risk HTTP/1.1\" 200 -\n"
     ]
    },
    {
     "name": "stdout",
     "output_type": "stream",
     "text": [
      "activity Technology\n",
      "ProfileData for Investor id: 108\n",
      "The length of ProfileData is: (1, 20)\n",
      "Technology\n",
      "ProfileData for Investor id: 108\n",
      "The length of ProfileData is: (1, 20)\n",
      "Technology\n"
     ]
    },
    {
     "name": "stderr",
     "output_type": "stream",
     "text": [
      "127.0.0.1 - - [09/May/2024 14:33:57] \"POST /predict_tolerance_risk HTTP/1.1\" 200 -\n"
     ]
    },
    {
     "name": "stdout",
     "output_type": "stream",
     "text": [
      "activity Technology\n",
      "ProfileData for Investor id: 108\n",
      "The length of ProfileData is: (1, 20)\n",
      "Technology\n"
     ]
    },
    {
     "name": "stderr",
     "output_type": "stream",
     "text": [
      "127.0.0.1 - - [09/May/2024 14:34:00] \"POST /predict_tolerance_risk HTTP/1.1\" 200 -\n"
     ]
    },
    {
     "name": "stdout",
     "output_type": "stream",
     "text": [
      "activity Technology\n",
      "ProfileData for Investor id: 108\n",
      "The length of ProfileData is: (1, 20)\n",
      "Technology\n"
     ]
    },
    {
     "name": "stderr",
     "output_type": "stream",
     "text": [
      "127.0.0.1 - - [09/May/2024 14:34:04] \"POST /predict_tolerance_risk HTTP/1.1\" 200 -\n"
     ]
    },
    {
     "name": "stdout",
     "output_type": "stream",
     "text": [
      "activity Technology\n"
     ]
    },
    {
     "name": "stderr",
     "output_type": "stream",
     "text": [
      "127.0.0.1 - - [09/May/2024 14:34:06] \"POST /predict_tolerance_risk HTTP/1.1\" 200 -\n"
     ]
    },
    {
     "name": "stdout",
     "output_type": "stream",
     "text": [
      "activity Technology\n",
      "ProfileData for Investor id: 108\n",
      "The length of ProfileData is: (1, 20)\n",
      "Technology\n"
     ]
    },
    {
     "name": "stderr",
     "output_type": "stream",
     "text": [
      "127.0.0.1 - - [09/May/2024 14:34:53] \"POST /predict_tolerance_risk HTTP/1.1\" 200 -\n"
     ]
    },
    {
     "name": "stdout",
     "output_type": "stream",
     "text": [
      "activity Technology\n",
      "ProfileData for Investor id: 108\n",
      "The length of ProfileData is: (1, 20)\n",
      "Technology\n",
      "ProfileData for Investor id: 108\n",
      "The length of ProfileData is: (1, 20)\n",
      "Technology\n",
      "ProfileData for Investor id: 108\n",
      "The length of ProfileData is: (1, 20)\n",
      "Technology\n",
      "ProfileData for Investor id: 108\n",
      "The length of ProfileData is: (1, 20)\n",
      "Technology\n",
      "ProfileData for Investor id: 108\n",
      "The length of ProfileData is: (1, 20)\n",
      "Technology\n"
     ]
    },
    {
     "name": "stderr",
     "output_type": "stream",
     "text": [
      "127.0.0.1 - - [09/May/2024 14:35:01] \"POST /predict_tolerance_risk HTTP/1.1\" 200 -\n"
     ]
    },
    {
     "name": "stdout",
     "output_type": "stream",
     "text": [
      "activity Technology\n"
     ]
    },
    {
     "name": "stderr",
     "output_type": "stream",
     "text": [
      "127.0.0.1 - - [09/May/2024 14:35:01] \"POST /predict_tolerance_risk HTTP/1.1\" 200 -\n",
      "127.0.0.1 - - [09/May/2024 14:35:01] \"POST /predict_tolerance_risk HTTP/1.1\" 200 -\n"
     ]
    },
    {
     "name": "stdout",
     "output_type": "stream",
     "text": [
      "activity Technology\n",
      "activity Technology\n"
     ]
    },
    {
     "name": "stderr",
     "output_type": "stream",
     "text": [
      "127.0.0.1 - - [09/May/2024 14:35:02] \"POST /predict_tolerance_risk HTTP/1.1\" 200 -\n"
     ]
    },
    {
     "name": "stdout",
     "output_type": "stream",
     "text": [
      "activity Technology\n",
      "activity Technology\n"
     ]
    },
    {
     "name": "stderr",
     "output_type": "stream",
     "text": [
      "127.0.0.1 - - [09/May/2024 14:35:02] \"POST /predict_tolerance_risk HTTP/1.1\" 200 -\n"
     ]
    },
    {
     "name": "stdout",
     "output_type": "stream",
     "text": [
      "ProfileData for Investor id: 108\n",
      "The length of ProfileData is: (1, 20)\n",
      "Technology\n",
      "ProfileData for Investor id: 108\n",
      "The length of ProfileData is: (1, 20)\n",
      "Technology\n",
      "ProfileData for Investor id: 108\n",
      "The length of ProfileData is: (1, 20)\n",
      "Technology\n",
      "ProfileData for Investor id: 108\n",
      "The length of ProfileData is: (1, 20)\n",
      "Technology\n",
      "ProfileData for Investor id: 108\n",
      "The length of ProfileData is: (1, 20)\n",
      "Technology\n"
     ]
    },
    {
     "name": "stderr",
     "output_type": "stream",
     "text": [
      "127.0.0.1 - - [09/May/2024 14:35:08] \"POST /predict_tolerance_risk HTTP/1.1\" 200 -\n"
     ]
    },
    {
     "name": "stdout",
     "output_type": "stream",
     "text": [
      "activity Technology\n"
     ]
    },
    {
     "name": "stderr",
     "output_type": "stream",
     "text": [
      "127.0.0.1 - - [09/May/2024 14:35:08] \"POST /predict_tolerance_risk HTTP/1.1\" 200 -\n"
     ]
    },
    {
     "name": "stdout",
     "output_type": "stream",
     "text": [
      "activity Technology\n"
     ]
    },
    {
     "name": "stderr",
     "output_type": "stream",
     "text": [
      "127.0.0.1 - - [09/May/2024 14:35:09] \"POST /predict_tolerance_risk HTTP/1.1\" 200 -\n",
      "127.0.0.1 - - [09/May/2024 14:35:09] \"POST /predict_tolerance_risk HTTP/1.1\" 200 -\n"
     ]
    },
    {
     "name": "stdout",
     "output_type": "stream",
     "text": [
      "activity Technology\n",
      "activity Technology\n"
     ]
    },
    {
     "name": "stderr",
     "output_type": "stream",
     "text": [
      "127.0.0.1 - - [09/May/2024 14:35:11] \"POST /predict_tolerance_risk HTTP/1.1\" 200 -\n"
     ]
    },
    {
     "name": "stdout",
     "output_type": "stream",
     "text": [
      "activity Technology\n",
      "ProfileData for Investor id: 108\n",
      "The length of ProfileData is: (1, 20)\n",
      "Technology\n"
     ]
    },
    {
     "name": "stderr",
     "output_type": "stream",
     "text": [
      "127.0.0.1 - - [09/May/2024 14:35:16] \"POST /predict_tolerance_risk HTTP/1.1\" 200 -\n"
     ]
    },
    {
     "name": "stdout",
     "output_type": "stream",
     "text": [
      "activity Technology\n"
     ]
    },
    {
     "name": "stderr",
     "output_type": "stream",
     "text": [
      "127.0.0.1 - - [09/May/2024 14:38:48] \"OPTIONS /predict_tolerance_risk HTTP/1.1\" 200 -\n"
     ]
    },
    {
     "name": "stdout",
     "output_type": "stream",
     "text": [
      "ProfileData for Investor id: 108\n",
      "The length of ProfileData is: (1, 20)\n",
      "Technology\n"
     ]
    },
    {
     "name": "stderr",
     "output_type": "stream",
     "text": [
      "127.0.0.1 - - [09/May/2024 14:38:49] \"OPTIONS /predict_tolerance_risk HTTP/1.1\" 200 -\n"
     ]
    },
    {
     "name": "stdout",
     "output_type": "stream",
     "text": [
      "ProfileData for Investor id: 108\n",
      "The length of ProfileData is: (1, 20)\n",
      "Technology\n"
     ]
    },
    {
     "name": "stderr",
     "output_type": "stream",
     "text": [
      "127.0.0.1 - - [09/May/2024 14:38:51] \"POST /predict_tolerance_risk HTTP/1.1\" 200 -\n"
     ]
    },
    {
     "name": "stdout",
     "output_type": "stream",
     "text": [
      "activity Technology\n"
     ]
    },
    {
     "name": "stderr",
     "output_type": "stream",
     "text": [
      "127.0.0.1 - - [09/May/2024 14:38:52] \"POST /predict_tolerance_risk HTTP/1.1\" 200 -\n"
     ]
    },
    {
     "name": "stdout",
     "output_type": "stream",
     "text": [
      "activity Technology\n",
      "ProfileData for Investor id: 108\n",
      "The length of ProfileData is: (1, 20)\n",
      "Technology\n",
      "ProfileData for Investor id: 108\n",
      "The length of ProfileData is: (1, 20)\n",
      "Technology\n"
     ]
    },
    {
     "name": "stderr",
     "output_type": "stream",
     "text": [
      "127.0.0.1 - - [09/May/2024 14:40:01] \"POST /predict_tolerance_risk HTTP/1.1\" 200 -\n",
      "127.0.0.1 - - [09/May/2024 14:40:01] \"POST /predict_tolerance_risk HTTP/1.1\" 200 -\n"
     ]
    },
    {
     "name": "stdout",
     "output_type": "stream",
     "text": [
      "activity Technology\n",
      "activity Technology\n",
      "ProfileData for Investor id: 108\n",
      "The length of ProfileData is: (1, 20)\n",
      "Technology\n",
      "ProfileData for Investor id: 108\n",
      "The length of ProfileData is: (1, 20)\n",
      "Technology\n"
     ]
    },
    {
     "name": "stderr",
     "output_type": "stream",
     "text": [
      "127.0.0.1 - - [09/May/2024 14:40:07] \"POST /predict_tolerance_risk HTTP/1.1\" 200 -\n",
      "127.0.0.1 - - [09/May/2024 14:40:07] \"POST /predict_tolerance_risk HTTP/1.1\" 200 -\n"
     ]
    },
    {
     "name": "stdout",
     "output_type": "stream",
     "text": [
      "activity Technology\n",
      "activity Technology\n"
     ]
    },
    {
     "name": "stderr",
     "output_type": "stream",
     "text": [
      "127.0.0.1 - - [09/May/2024 14:43:06] \"OPTIONS /predict_tolerance_risk HTTP/1.1\" 200 -\n"
     ]
    },
    {
     "name": "stdout",
     "output_type": "stream",
     "text": [
      "ProfileData for Investor id: 108\n",
      "The length of ProfileData is: (1, 20)\n",
      "Technology\n"
     ]
    },
    {
     "name": "stderr",
     "output_type": "stream",
     "text": [
      "127.0.0.1 - - [09/May/2024 14:43:09] \"POST /predict_tolerance_risk HTTP/1.1\" 200 -\n"
     ]
    },
    {
     "name": "stdout",
     "output_type": "stream",
     "text": [
      "activity Technology\n",
      "ProfileData for Investor id: 108\n",
      "The length of ProfileData is: (1, 20)\n",
      "Technology\n"
     ]
    },
    {
     "name": "stderr",
     "output_type": "stream",
     "text": [
      "127.0.0.1 - - [09/May/2024 14:43:14] \"POST /predict_tolerance_risk HTTP/1.1\" 200 -\n"
     ]
    },
    {
     "name": "stdout",
     "output_type": "stream",
     "text": [
      "activity Technology\n"
     ]
    },
    {
     "name": "stderr",
     "output_type": "stream",
     "text": [
      "127.0.0.1 - - [09/May/2024 14:43:14] \"OPTIONS /predict_tolerance_risk HTTP/1.1\" 200 -\n"
     ]
    },
    {
     "name": "stdout",
     "output_type": "stream",
     "text": [
      "ProfileData for Investor id: 108\n",
      "The length of ProfileData is: (1, 20)\n",
      "Technology\n"
     ]
    },
    {
     "name": "stderr",
     "output_type": "stream",
     "text": [
      "127.0.0.1 - - [09/May/2024 14:43:17] \"POST /predict_tolerance_risk HTTP/1.1\" 200 -\n"
     ]
    },
    {
     "name": "stdout",
     "output_type": "stream",
     "text": [
      "activity Technology\n",
      "ProfileData for Investor id: 108\n",
      "The length of ProfileData is: (1, 20)\n",
      "Technology\n"
     ]
    },
    {
     "name": "stderr",
     "output_type": "stream",
     "text": [
      "127.0.0.1 - - [09/May/2024 14:43:21] \"POST /predict_tolerance_risk HTTP/1.1\" 200 -\n"
     ]
    },
    {
     "name": "stdout",
     "output_type": "stream",
     "text": [
      "activity Technology\n"
     ]
    },
    {
     "name": "stderr",
     "output_type": "stream",
     "text": [
      "127.0.0.1 - - [09/May/2024 14:43:40] \"OPTIONS /predict_tolerance_risk HTTP/1.1\" 200 -\n"
     ]
    },
    {
     "name": "stdout",
     "output_type": "stream",
     "text": [
      "ProfileData for Investor id: 108\n",
      "The length of ProfileData is: (1, 20)\n",
      "Technology\n"
     ]
    },
    {
     "name": "stderr",
     "output_type": "stream",
     "text": [
      "127.0.0.1 - - [09/May/2024 14:43:43] \"POST /predict_tolerance_risk HTTP/1.1\" 200 -\n"
     ]
    },
    {
     "name": "stdout",
     "output_type": "stream",
     "text": [
      "activity Technology\n"
     ]
    },
    {
     "name": "stderr",
     "output_type": "stream",
     "text": [
      "127.0.0.1 - - [09/May/2024 14:43:47] \"OPTIONS /predict_tolerance_risk HTTP/1.1\" 200 -\n"
     ]
    },
    {
     "name": "stdout",
     "output_type": "stream",
     "text": [
      "ProfileData for Investor id: 108\n",
      "The length of ProfileData is: (1, 20)\n",
      "Technology\n"
     ]
    },
    {
     "name": "stderr",
     "output_type": "stream",
     "text": [
      "127.0.0.1 - - [09/May/2024 14:43:50] \"POST /predict_tolerance_risk HTTP/1.1\" 200 -\n"
     ]
    },
    {
     "name": "stdout",
     "output_type": "stream",
     "text": [
      "activity Technology\n",
      "ProfileData for Investor id: 108\n",
      "The length of ProfileData is: (1, 20)\n",
      "Technology\n"
     ]
    },
    {
     "name": "stderr",
     "output_type": "stream",
     "text": [
      "127.0.0.1 - - [09/May/2024 14:46:08] \"POST /predict_tolerance_risk HTTP/1.1\" 200 -\n"
     ]
    },
    {
     "name": "stdout",
     "output_type": "stream",
     "text": [
      "activity Technology\n",
      "ProfileData for Investor id: 108\n",
      "The length of ProfileData is: (1, 20)\n",
      "Technology\n"
     ]
    },
    {
     "name": "stderr",
     "output_type": "stream",
     "text": [
      "127.0.0.1 - - [09/May/2024 14:46:14] \"POST /predict_tolerance_risk HTTP/1.1\" 200 -\n"
     ]
    },
    {
     "name": "stdout",
     "output_type": "stream",
     "text": [
      "activity Technology\n",
      "ProfileData for Investor id: 108\n",
      "The length of ProfileData is: (1, 20)\n",
      "Technology\n"
     ]
    },
    {
     "name": "stderr",
     "output_type": "stream",
     "text": [
      "127.0.0.1 - - [09/May/2024 14:46:29] \"POST /predict_tolerance_risk HTTP/1.1\" 200 -\n"
     ]
    },
    {
     "name": "stdout",
     "output_type": "stream",
     "text": [
      "activity Technology\n",
      "ProfileData for Investor id: 108\n",
      "The length of ProfileData is: (1, 20)\n",
      "Technology\n",
      "ProfileData for Investor id: 108\n",
      "The length of ProfileData is: (1, 20)\n",
      "Technology\n",
      "ProfileData for Investor id: 108\n",
      "The length of ProfileData is: (1, 20)\n",
      "Technology\n",
      "ProfileData for Investor id: 108\n",
      "The length of ProfileData is: (1, 20)\n",
      "Technology\n",
      "ProfileData for Investor id: 108\n",
      "The length of ProfileData is: (1, 20)\n",
      "Technology\n"
     ]
    },
    {
     "name": "stderr",
     "output_type": "stream",
     "text": [
      "127.0.0.1 - - [09/May/2024 14:46:34] \"POST /predict_tolerance_risk HTTP/1.1\" 200 -\n",
      "127.0.0.1 - - [09/May/2024 14:46:34] \"POST /predict_tolerance_risk HTTP/1.1\" 200 -\n"
     ]
    },
    {
     "name": "stdout",
     "output_type": "stream",
     "text": [
      "activity Technology\n",
      "activity Technology\n"
     ]
    },
    {
     "name": "stderr",
     "output_type": "stream",
     "text": [
      "127.0.0.1 - - [09/May/2024 14:46:35] \"POST /predict_tolerance_risk HTTP/1.1\" 200 -\n"
     ]
    },
    {
     "name": "stdout",
     "output_type": "stream",
     "text": [
      "activity Technology\n",
      "activity Technology\n"
     ]
    },
    {
     "name": "stderr",
     "output_type": "stream",
     "text": [
      "127.0.0.1 - - [09/May/2024 14:46:35] \"POST /predict_tolerance_risk HTTP/1.1\" 200 -\n",
      "127.0.0.1 - - [09/May/2024 14:46:35] \"POST /predict_tolerance_risk HTTP/1.1\" 200 -\n"
     ]
    },
    {
     "name": "stdout",
     "output_type": "stream",
     "text": [
      "activity Technology\n",
      "ProfileData for Investor id: 108\n",
      "The length of ProfileData is: (1, 20)\n",
      "Technology\n",
      "ProfileData for Investor id: 108\n",
      "The length of ProfileData is: (1, 20)\n",
      "Technology\n",
      "ProfileData for Investor id: 108\n",
      "The length of ProfileData is: (1, 20)\n",
      "Technology\n",
      "ProfileData for Investor id: 108\n",
      "The length of ProfileData is: (1, 20)\n",
      "Technology\n"
     ]
    },
    {
     "name": "stderr",
     "output_type": "stream",
     "text": [
      "127.0.0.1 - - [09/May/2024 14:46:40] \"POST /predict_tolerance_risk HTTP/1.1\" 200 -\n",
      "127.0.0.1 - - [09/May/2024 14:46:40] \"POST /predict_tolerance_risk HTTP/1.1\" 200 -\n"
     ]
    },
    {
     "name": "stdout",
     "output_type": "stream",
     "text": [
      "activity Technology\n",
      "activity Technology\n"
     ]
    },
    {
     "name": "stderr",
     "output_type": "stream",
     "text": [
      "127.0.0.1 - - [09/May/2024 14:46:41] \"POST /predict_tolerance_risk HTTP/1.1\" 200 -\n",
      "127.0.0.1 - - [09/May/2024 14:46:41] \"POST /predict_tolerance_risk HTTP/1.1\" 200 -\n"
     ]
    },
    {
     "name": "stdout",
     "output_type": "stream",
     "text": [
      "activity Technology\n",
      "activity Technology\n"
     ]
    },
    {
     "name": "stderr",
     "output_type": "stream",
     "text": [
      "127.0.0.1 - - [09/May/2024 14:46:53] \"OPTIONS /predict_tolerance_risk HTTP/1.1\" 200 -\n"
     ]
    },
    {
     "name": "stdout",
     "output_type": "stream",
     "text": [
      "ProfileData for Investor id: 108\n",
      "The length of ProfileData is: (1, 20)\n",
      "Technology\n"
     ]
    },
    {
     "name": "stderr",
     "output_type": "stream",
     "text": [
      "127.0.0.1 - - [09/May/2024 14:46:56] \"POST /predict_tolerance_risk HTTP/1.1\" 200 -\n"
     ]
    },
    {
     "name": "stdout",
     "output_type": "stream",
     "text": [
      "activity Technology\n"
     ]
    },
    {
     "name": "stderr",
     "output_type": "stream",
     "text": [
      "127.0.0.1 - - [09/May/2024 14:47:02] \"OPTIONS /predict_tolerance_risk HTTP/1.1\" 200 -\n"
     ]
    },
    {
     "name": "stdout",
     "output_type": "stream",
     "text": [
      "ProfileData for Investor id: 108\n",
      "The length of ProfileData is: (1, 20)\n",
      "Technology\n"
     ]
    },
    {
     "name": "stderr",
     "output_type": "stream",
     "text": [
      "127.0.0.1 - - [09/May/2024 14:47:05] \"POST /predict_tolerance_risk HTTP/1.1\" 200 -\n"
     ]
    },
    {
     "name": "stdout",
     "output_type": "stream",
     "text": [
      "activity Technology\n"
     ]
    },
    {
     "name": "stderr",
     "output_type": "stream",
     "text": [
      "127.0.0.1 - - [09/May/2024 14:47:10] \"OPTIONS /predict_tolerance_risk HTTP/1.1\" 200 -\n"
     ]
    },
    {
     "name": "stdout",
     "output_type": "stream",
     "text": [
      "ProfileData for Investor id: 108\n",
      "The length of ProfileData is: (1, 20)\n",
      "Technology\n"
     ]
    },
    {
     "name": "stderr",
     "output_type": "stream",
     "text": [
      "127.0.0.1 - - [09/May/2024 14:47:13] \"POST /predict_tolerance_risk HTTP/1.1\" 200 -\n"
     ]
    },
    {
     "name": "stdout",
     "output_type": "stream",
     "text": [
      "activity Technology\n",
      "ProfileData for Investor id: 108\n",
      "The length of ProfileData is: (1, 20)\n",
      "Technology\n"
     ]
    },
    {
     "name": "stderr",
     "output_type": "stream",
     "text": [
      "127.0.0.1 - - [09/May/2024 14:48:18] \"POST /predict_tolerance_risk HTTP/1.1\" 200 -\n"
     ]
    },
    {
     "name": "stdout",
     "output_type": "stream",
     "text": [
      "activity Technology\n",
      "ProfileData for Investor id: 108\n",
      "The length of ProfileData is: (1, 20)\n",
      "Technology\n"
     ]
    },
    {
     "name": "stderr",
     "output_type": "stream",
     "text": [
      "127.0.0.1 - - [09/May/2024 14:48:24] \"POST /predict_tolerance_risk HTTP/1.1\" 200 -\n"
     ]
    },
    {
     "name": "stdout",
     "output_type": "stream",
     "text": [
      "activity Technology\n",
      "ProfileData for Investor id: 108\n",
      "The length of ProfileData is: (1, 20)\n",
      "Technology\n",
      "ProfileData for Investor id: 108\n",
      "The length of ProfileData is: (1, 20)\n",
      "Technology\n"
     ]
    },
    {
     "name": "stderr",
     "output_type": "stream",
     "text": [
      "127.0.0.1 - - [09/May/2024 14:48:32] \"POST /predict_tolerance_risk HTTP/1.1\" 200 -\n"
     ]
    },
    {
     "name": "stdout",
     "output_type": "stream",
     "text": [
      "activity Technology\n"
     ]
    },
    {
     "name": "stderr",
     "output_type": "stream",
     "text": [
      "127.0.0.1 - - [09/May/2024 14:48:33] \"POST /predict_tolerance_risk HTTP/1.1\" 200 -\n"
     ]
    },
    {
     "name": "stdout",
     "output_type": "stream",
     "text": [
      "activity Technology\n",
      "ProfileData for Investor id: 108\n",
      "The length of ProfileData is: (1, 20)\n",
      "Technology\n",
      "ProfileData for Investor id: 108\n",
      "The length of ProfileData is: (1, 20)\n",
      "Technology\n"
     ]
    },
    {
     "name": "stderr",
     "output_type": "stream",
     "text": [
      "127.0.0.1 - - [09/May/2024 14:48:37] \"POST /predict_tolerance_risk HTTP/1.1\" 200 -\n"
     ]
    },
    {
     "name": "stdout",
     "output_type": "stream",
     "text": [
      "activity Technology\n"
     ]
    },
    {
     "name": "stderr",
     "output_type": "stream",
     "text": [
      "127.0.0.1 - - [09/May/2024 14:48:38] \"POST /predict_tolerance_risk HTTP/1.1\" 200 -\n"
     ]
    },
    {
     "name": "stdout",
     "output_type": "stream",
     "text": [
      "activity Technology\n"
     ]
    },
    {
     "name": "stderr",
     "output_type": "stream",
     "text": [
      "127.0.0.1 - - [09/May/2024 14:52:14] \"OPTIONS /predict_tolerance_risk HTTP/1.1\" 200 -\n"
     ]
    },
    {
     "name": "stdout",
     "output_type": "stream",
     "text": [
      "ProfileData for Investor id: 108\n",
      "The length of ProfileData is: (1, 20)\n",
      "Technology\n"
     ]
    },
    {
     "name": "stderr",
     "output_type": "stream",
     "text": [
      "127.0.0.1 - - [09/May/2024 14:52:17] \"POST /predict_tolerance_risk HTTP/1.1\" 200 -\n"
     ]
    },
    {
     "name": "stdout",
     "output_type": "stream",
     "text": [
      "activity Technology\n",
      "ProfileData for Investor id: 108\n",
      "The length of ProfileData is: (1, 20)\n",
      "Technology\n"
     ]
    },
    {
     "name": "stderr",
     "output_type": "stream",
     "text": [
      "127.0.0.1 - - [09/May/2024 14:52:56] \"POST /predict_tolerance_risk HTTP/1.1\" 200 -\n"
     ]
    },
    {
     "name": "stdout",
     "output_type": "stream",
     "text": [
      "activity Technology\n",
      "ProfileData for Investor id: 108\n",
      "The length of ProfileData is: (1, 20)\n",
      "Technology\n"
     ]
    },
    {
     "name": "stderr",
     "output_type": "stream",
     "text": [
      "127.0.0.1 - - [09/May/2024 14:53:01] \"POST /predict_tolerance_risk HTTP/1.1\" 200 -\n"
     ]
    },
    {
     "name": "stdout",
     "output_type": "stream",
     "text": [
      "activity Technology\n"
     ]
    },
    {
     "name": "stderr",
     "output_type": "stream",
     "text": [
      "127.0.0.1 - - [09/May/2024 14:54:06] \"OPTIONS /predict_tolerance_risk HTTP/1.1\" 200 -\n"
     ]
    },
    {
     "name": "stdout",
     "output_type": "stream",
     "text": [
      "ProfileData for Investor id: 108\n",
      "The length of ProfileData is: (1, 20)\n",
      "Technology\n"
     ]
    },
    {
     "name": "stderr",
     "output_type": "stream",
     "text": [
      "127.0.0.1 - - [09/May/2024 14:54:09] \"POST /predict_tolerance_risk HTTP/1.1\" 200 -\n"
     ]
    },
    {
     "name": "stdout",
     "output_type": "stream",
     "text": [
      "activity Technology\n",
      "ProfileData for Investor id: 108\n",
      "The length of ProfileData is: (1, 20)\n",
      "Technology\n"
     ]
    },
    {
     "name": "stderr",
     "output_type": "stream",
     "text": [
      "127.0.0.1 - - [09/May/2024 14:54:49] \"POST /predict_tolerance_risk HTTP/1.1\" 200 -\n"
     ]
    },
    {
     "name": "stdout",
     "output_type": "stream",
     "text": [
      "activity Technology\n",
      "ProfileData for Investor id: 108\n",
      "The length of ProfileData is: (1, 20)\n",
      "Technology\n"
     ]
    },
    {
     "name": "stderr",
     "output_type": "stream",
     "text": [
      "127.0.0.1 - - [09/May/2024 14:54:54] \"POST /predict_tolerance_risk HTTP/1.1\" 200 -\n"
     ]
    },
    {
     "name": "stdout",
     "output_type": "stream",
     "text": [
      "activity Technology\n"
     ]
    },
    {
     "name": "stderr",
     "output_type": "stream",
     "text": [
      "127.0.0.1 - - [09/May/2024 14:56:00] \"OPTIONS /predict_tolerance_risk HTTP/1.1\" 200 -\n"
     ]
    },
    {
     "name": "stdout",
     "output_type": "stream",
     "text": [
      "ProfileData for Investor id: 108\n",
      "The length of ProfileData is: (1, 20)\n",
      "Technology\n"
     ]
    },
    {
     "name": "stderr",
     "output_type": "stream",
     "text": [
      "127.0.0.1 - - [09/May/2024 14:56:02] \"POST /predict_tolerance_risk HTTP/1.1\" 200 -\n"
     ]
    },
    {
     "name": "stdout",
     "output_type": "stream",
     "text": [
      "activity Technology\n",
      "ProfileData for Investor id: 108\n",
      "The length of ProfileData is: (1, 20)\n",
      "Technology\n"
     ]
    },
    {
     "name": "stderr",
     "output_type": "stream",
     "text": [
      "127.0.0.1 - - [09/May/2024 14:56:06] \"POST /predict_tolerance_risk HTTP/1.1\" 200 -\n"
     ]
    },
    {
     "name": "stdout",
     "output_type": "stream",
     "text": [
      "activity Technology\n",
      "ProfileData for Investor id: 108\n",
      "The length of ProfileData is: (1, 20)\n",
      "Technology\n"
     ]
    },
    {
     "name": "stderr",
     "output_type": "stream",
     "text": [
      "127.0.0.1 - - [09/May/2024 14:57:16] \"POST /predict_tolerance_risk HTTP/1.1\" 200 -\n"
     ]
    },
    {
     "name": "stdout",
     "output_type": "stream",
     "text": [
      "activity Technology\n",
      "ProfileData for Investor id: 108\n",
      "The length of ProfileData is: (1, 20)\n",
      "Technology\n"
     ]
    },
    {
     "name": "stderr",
     "output_type": "stream",
     "text": [
      "127.0.0.1 - - [09/May/2024 14:57:19] \"POST /predict_tolerance_risk HTTP/1.1\" 200 -\n"
     ]
    },
    {
     "name": "stdout",
     "output_type": "stream",
     "text": [
      "activity Technology\n",
      "ProfileData for Investor id: 108\n",
      "The length of ProfileData is: (1, 20)\n",
      "Technology\n"
     ]
    },
    {
     "name": "stderr",
     "output_type": "stream",
     "text": [
      "127.0.0.1 - - [09/May/2024 14:57:21] \"POST /predict_tolerance_risk HTTP/1.1\" 200 -\n"
     ]
    },
    {
     "name": "stdout",
     "output_type": "stream",
     "text": [
      "ProfileData for Investor id: 108\n",
      "The length of ProfileData is: (1, 20)\n",
      "Technology\n",
      "activity Technology\n"
     ]
    },
    {
     "name": "stderr",
     "output_type": "stream",
     "text": [
      "127.0.0.1 - - [09/May/2024 14:57:23] \"POST /predict_tolerance_risk HTTP/1.1\" 200 -\n"
     ]
    },
    {
     "name": "stdout",
     "output_type": "stream",
     "text": [
      "activity Technology\n"
     ]
    },
    {
     "name": "stderr",
     "output_type": "stream",
     "text": [
      "127.0.0.1 - - [09/May/2024 15:02:17] \"OPTIONS /predict_tolerance_risk HTTP/1.1\" 200 -\n"
     ]
    },
    {
     "name": "stdout",
     "output_type": "stream",
     "text": [
      "ProfileData for Investor id: 108\n",
      "The length of ProfileData is: (1, 20)\n",
      "Technology\n"
     ]
    },
    {
     "name": "stderr",
     "output_type": "stream",
     "text": [
      "127.0.0.1 - - [09/May/2024 15:02:20] \"POST /predict_tolerance_risk HTTP/1.1\" 200 -\n"
     ]
    },
    {
     "name": "stdout",
     "output_type": "stream",
     "text": [
      "activity Technology\n",
      "ProfileData for Investor id: 108\n",
      "The length of ProfileData is: (1, 20)\n",
      "Technology\n"
     ]
    },
    {
     "name": "stderr",
     "output_type": "stream",
     "text": [
      "127.0.0.1 - - [09/May/2024 15:02:55] \"POST /predict_tolerance_risk HTTP/1.1\" 200 -\n"
     ]
    },
    {
     "name": "stdout",
     "output_type": "stream",
     "text": [
      "activity Technology\n",
      "ProfileData for Investor id: 108\n",
      "The length of ProfileData is: (1, 20)\n",
      "Technology\n"
     ]
    },
    {
     "name": "stderr",
     "output_type": "stream",
     "text": [
      "127.0.0.1 - - [09/May/2024 15:02:59] \"POST /predict_tolerance_risk HTTP/1.1\" 200 -\n"
     ]
    },
    {
     "name": "stdout",
     "output_type": "stream",
     "text": [
      "activity Technology\n"
     ]
    },
    {
     "name": "stderr",
     "output_type": "stream",
     "text": [
      "127.0.0.1 - - [09/May/2024 15:03:24] \"OPTIONS /predict_tolerance_risk HTTP/1.1\" 200 -\n"
     ]
    },
    {
     "name": "stdout",
     "output_type": "stream",
     "text": [
      "ProfileData for Investor id: 108\n",
      "The length of ProfileData is: (1, 20)\n",
      "Technology\n"
     ]
    },
    {
     "name": "stderr",
     "output_type": "stream",
     "text": [
      "127.0.0.1 - - [09/May/2024 15:03:27] \"POST /predict_tolerance_risk HTTP/1.1\" 200 -\n"
     ]
    },
    {
     "name": "stdout",
     "output_type": "stream",
     "text": [
      "activity Technology\n",
      "ProfileData for Investor id: 108\n",
      "The length of ProfileData is: (1, 20)\n",
      "Technology\n"
     ]
    },
    {
     "name": "stderr",
     "output_type": "stream",
     "text": [
      "127.0.0.1 - - [09/May/2024 15:03:30] \"POST /predict_tolerance_risk HTTP/1.1\" 200 -\n"
     ]
    },
    {
     "name": "stdout",
     "output_type": "stream",
     "text": [
      "activity Technology\n"
     ]
    },
    {
     "name": "stderr",
     "output_type": "stream",
     "text": [
      "127.0.0.1 - - [09/May/2024 15:04:03] \"OPTIONS /predict_tolerance_risk HTTP/1.1\" 200 -\n"
     ]
    },
    {
     "name": "stdout",
     "output_type": "stream",
     "text": [
      "ProfileData for Investor id: 108\n",
      "The length of ProfileData is: (1, 20)\n",
      "Technology\n"
     ]
    },
    {
     "name": "stderr",
     "output_type": "stream",
     "text": [
      "127.0.0.1 - - [09/May/2024 15:04:07] \"POST /predict_tolerance_risk HTTP/1.1\" 200 -\n"
     ]
    },
    {
     "name": "stdout",
     "output_type": "stream",
     "text": [
      "activity Technology\n"
     ]
    },
    {
     "name": "stderr",
     "output_type": "stream",
     "text": [
      "127.0.0.1 - - [09/May/2024 15:04:33] \"OPTIONS /predict_tolerance_risk HTTP/1.1\" 200 -\n"
     ]
    },
    {
     "name": "stdout",
     "output_type": "stream",
     "text": [
      "ProfileData for Investor id: 108\n",
      "The length of ProfileData is: (1, 20)\n",
      "Technology\n"
     ]
    },
    {
     "name": "stderr",
     "output_type": "stream",
     "text": [
      "127.0.0.1 - - [09/May/2024 15:04:36] \"POST /predict_tolerance_risk HTTP/1.1\" 200 -\n"
     ]
    },
    {
     "name": "stdout",
     "output_type": "stream",
     "text": [
      "activity Technology\n",
      "ProfileData for Investor id: 108\n",
      "The length of ProfileData is: (1, 20)\n",
      "Technology\n"
     ]
    },
    {
     "name": "stderr",
     "output_type": "stream",
     "text": [
      "127.0.0.1 - - [09/May/2024 15:04:58] \"POST /predict_tolerance_risk HTTP/1.1\" 200 -\n"
     ]
    },
    {
     "name": "stdout",
     "output_type": "stream",
     "text": [
      "activity Technology\n",
      "ProfileData for Investor id: 108\n",
      "The length of ProfileData is: (1, 20)\n",
      "Technology\n",
      "ProfileData for Investor id: 108\n",
      "The length of ProfileData is: (1, 20)\n",
      "Technology\n"
     ]
    },
    {
     "name": "stderr",
     "output_type": "stream",
     "text": [
      "127.0.0.1 - - [09/May/2024 15:05:04] \"POST /predict_tolerance_risk HTTP/1.1\" 200 -\n",
      "127.0.0.1 - - [09/May/2024 15:05:04] \"POST /predict_tolerance_risk HTTP/1.1\" 200 -\n"
     ]
    },
    {
     "name": "stdout",
     "output_type": "stream",
     "text": [
      "activity Technology\n",
      "activity Technology\n",
      "ProfileData for Investor id: 108\n",
      "The length of ProfileData is: (1, 20)\n",
      "Technology\n"
     ]
    },
    {
     "name": "stderr",
     "output_type": "stream",
     "text": [
      "127.0.0.1 - - [09/May/2024 15:05:09] \"POST /predict_tolerance_risk HTTP/1.1\" 200 -\n"
     ]
    },
    {
     "name": "stdout",
     "output_type": "stream",
     "text": [
      "activity Technology\n",
      "ProfileData for Investor id: 108\n",
      "The length of ProfileData is: (1, 20)\n",
      "Technology\n"
     ]
    },
    {
     "name": "stderr",
     "output_type": "stream",
     "text": [
      "127.0.0.1 - - [09/May/2024 15:05:39] \"POST /predict_tolerance_risk HTTP/1.1\" 200 -\n"
     ]
    },
    {
     "name": "stdout",
     "output_type": "stream",
     "text": [
      "activity Technology\n",
      "ProfileData for Investor id: 108\n",
      "The length of ProfileData is: (1, 20)\n",
      "Technology\n"
     ]
    },
    {
     "name": "stderr",
     "output_type": "stream",
     "text": [
      "127.0.0.1 - - [09/May/2024 15:05:43] \"POST /predict_tolerance_risk HTTP/1.1\" 200 -\n"
     ]
    },
    {
     "name": "stdout",
     "output_type": "stream",
     "text": [
      "activity Technology\n",
      "ProfileData for Investor id: 108\n",
      "The length of ProfileData is: (1, 20)\n",
      "Technology\n"
     ]
    },
    {
     "name": "stderr",
     "output_type": "stream",
     "text": [
      "127.0.0.1 - - [09/May/2024 15:05:47] \"POST /predict_tolerance_risk HTTP/1.1\" 200 -\n"
     ]
    },
    {
     "name": "stdout",
     "output_type": "stream",
     "text": [
      "activity Technology\n",
      "ProfileData for Investor id: 108\n",
      "The length of ProfileData is: (1, 20)\n",
      "Technology\n"
     ]
    },
    {
     "name": "stderr",
     "output_type": "stream",
     "text": [
      "127.0.0.1 - - [09/May/2024 15:05:52] \"POST /predict_tolerance_risk HTTP/1.1\" 200 -\n"
     ]
    },
    {
     "name": "stdout",
     "output_type": "stream",
     "text": [
      "activity Technology\n"
     ]
    },
    {
     "name": "stderr",
     "output_type": "stream",
     "text": [
      "127.0.0.1 - - [09/May/2024 15:11:26] \"OPTIONS /predict_tolerance_risk HTTP/1.1\" 200 -\n"
     ]
    },
    {
     "name": "stdout",
     "output_type": "stream",
     "text": [
      "ProfileData for Investor id: 108\n",
      "The length of ProfileData is: (1, 20)\n",
      "Technology\n"
     ]
    },
    {
     "name": "stderr",
     "output_type": "stream",
     "text": [
      "127.0.0.1 - - [09/May/2024 15:11:29] \"POST /predict_tolerance_risk HTTP/1.1\" 200 -\n"
     ]
    },
    {
     "name": "stdout",
     "output_type": "stream",
     "text": [
      "activity Technology\n",
      "ProfileData for Investor id: 108\n",
      "The length of ProfileData is: (1, 20)\n",
      "Technology\n"
     ]
    },
    {
     "name": "stderr",
     "output_type": "stream",
     "text": [
      "127.0.0.1 - - [09/May/2024 15:12:03] \"OPTIONS /predict_tolerance_risk HTTP/1.1\" 200 -\n"
     ]
    },
    {
     "name": "stdout",
     "output_type": "stream",
     "text": [
      "ProfileData for Investor id: 108\n",
      "The length of ProfileData is: (1, 20)\n",
      "Technology\n"
     ]
    },
    {
     "name": "stderr",
     "output_type": "stream",
     "text": [
      "127.0.0.1 - - [09/May/2024 15:12:03] \"OPTIONS /predict_tolerance_risk HTTP/1.1\" 200 -\n"
     ]
    },
    {
     "name": "stdout",
     "output_type": "stream",
     "text": [
      "ProfileData for Investor id: 108\n",
      "The length of ProfileData is: (1, 20)\n",
      "Technology\n"
     ]
    },
    {
     "name": "stderr",
     "output_type": "stream",
     "text": [
      "127.0.0.1 - - [09/May/2024 15:12:04] \"POST /predict_tolerance_risk HTTP/1.1\" 200 -\n"
     ]
    },
    {
     "name": "stdout",
     "output_type": "stream",
     "text": [
      "activity Technology\n",
      "ProfileData for Investor id: 108\n",
      "The length of ProfileData is: (1, 20)\n",
      "Technology\n"
     ]
    },
    {
     "name": "stderr",
     "output_type": "stream",
     "text": [
      "127.0.0.1 - - [09/May/2024 15:12:07] \"POST /predict_tolerance_risk HTTP/1.1\" 200 -\n"
     ]
    },
    {
     "name": "stdout",
     "output_type": "stream",
     "text": [
      "activity Technology\n"
     ]
    },
    {
     "name": "stderr",
     "output_type": "stream",
     "text": [
      "127.0.0.1 - - [09/May/2024 15:12:07] \"POST /predict_tolerance_risk HTTP/1.1\" 200 -\n"
     ]
    },
    {
     "name": "stdout",
     "output_type": "stream",
     "text": [
      "activity Technology\n"
     ]
    },
    {
     "name": "stderr",
     "output_type": "stream",
     "text": [
      "127.0.0.1 - - [09/May/2024 15:12:09] \"POST /predict_tolerance_risk HTTP/1.1\" 200 -\n"
     ]
    },
    {
     "name": "stdout",
     "output_type": "stream",
     "text": [
      "activity Technology\n"
     ]
    },
    {
     "name": "stderr",
     "output_type": "stream",
     "text": [
      "127.0.0.1 - - [09/May/2024 15:12:41] \"OPTIONS /predict_tolerance_risk HTTP/1.1\" 200 -\n"
     ]
    },
    {
     "name": "stdout",
     "output_type": "stream",
     "text": [
      "ProfileData for Investor id: 108\n",
      "The length of ProfileData is: (1, 20)\n",
      "Technology\n"
     ]
    },
    {
     "name": "stderr",
     "output_type": "stream",
     "text": [
      "127.0.0.1 - - [09/May/2024 15:12:45] \"POST /predict_tolerance_risk HTTP/1.1\" 200 -\n"
     ]
    },
    {
     "name": "stdout",
     "output_type": "stream",
     "text": [
      "activity Technology\n"
     ]
    },
    {
     "name": "stderr",
     "output_type": "stream",
     "text": [
      "127.0.0.1 - - [09/May/2024 15:12:54] \"OPTIONS /predict_tolerance_risk HTTP/1.1\" 200 -\n"
     ]
    },
    {
     "name": "stdout",
     "output_type": "stream",
     "text": [
      "ProfileData for Investor id: 108\n",
      "The length of ProfileData is: (1, 20)\n",
      "Technology\n"
     ]
    },
    {
     "name": "stderr",
     "output_type": "stream",
     "text": [
      "127.0.0.1 - - [09/May/2024 15:12:57] \"POST /predict_tolerance_risk HTTP/1.1\" 200 -\n"
     ]
    },
    {
     "name": "stdout",
     "output_type": "stream",
     "text": [
      "activity Technology\n"
     ]
    },
    {
     "name": "stderr",
     "output_type": "stream",
     "text": [
      "127.0.0.1 - - [09/May/2024 15:13:14] \"OPTIONS /predict_tolerance_risk HTTP/1.1\" 200 -\n"
     ]
    },
    {
     "name": "stdout",
     "output_type": "stream",
     "text": [
      "ProfileData for Investor id: 108\n",
      "The length of ProfileData is: (1, 20)\n",
      "Technology\n"
     ]
    },
    {
     "name": "stderr",
     "output_type": "stream",
     "text": [
      "127.0.0.1 - - [09/May/2024 15:13:18] \"POST /predict_tolerance_risk HTTP/1.1\" 200 -\n"
     ]
    },
    {
     "name": "stdout",
     "output_type": "stream",
     "text": [
      "activity Technology\n"
     ]
    },
    {
     "name": "stderr",
     "output_type": "stream",
     "text": [
      "127.0.0.1 - - [09/May/2024 15:13:33] \"OPTIONS /predict_tolerance_risk HTTP/1.1\" 200 -\n"
     ]
    },
    {
     "name": "stdout",
     "output_type": "stream",
     "text": [
      "ProfileData for Investor id: 108\n",
      "The length of ProfileData is: (1, 20)\n",
      "Technology\n"
     ]
    },
    {
     "name": "stderr",
     "output_type": "stream",
     "text": [
      "127.0.0.1 - - [09/May/2024 15:13:37] \"POST /predict_tolerance_risk HTTP/1.1\" 200 -\n"
     ]
    },
    {
     "name": "stdout",
     "output_type": "stream",
     "text": [
      "activity Technology\n",
      "ProfileData for Investor id: 108\n",
      "The length of ProfileData is: (1, 20)\n",
      "Technology\n",
      "ProfileData for Investor id: 108\n",
      "The length of ProfileData is: (1, 20)\n",
      "Technology\n"
     ]
    },
    {
     "name": "stderr",
     "output_type": "stream",
     "text": [
      "127.0.0.1 - - [09/May/2024 15:14:33] \"POST /predict_tolerance_risk HTTP/1.1\" 200 -\n"
     ]
    },
    {
     "name": "stdout",
     "output_type": "stream",
     "text": [
      "activity Technology\n"
     ]
    },
    {
     "name": "stderr",
     "output_type": "stream",
     "text": [
      "127.0.0.1 - - [09/May/2024 15:14:34] \"POST /predict_tolerance_risk HTTP/1.1\" 200 -\n"
     ]
    },
    {
     "name": "stdout",
     "output_type": "stream",
     "text": [
      "activity Technology\n",
      "ProfileData for Investor id: 108\n",
      "The length of ProfileData is: (1, 20)\n",
      "Technology\n",
      "ProfileData for Investor id: 108\n",
      "The length of ProfileData is: (1, 20)\n",
      "Technology\n"
     ]
    },
    {
     "name": "stderr",
     "output_type": "stream",
     "text": [
      "127.0.0.1 - - [09/May/2024 15:14:40] \"POST /predict_tolerance_risk HTTP/1.1\" 200 -\n"
     ]
    },
    {
     "name": "stdout",
     "output_type": "stream",
     "text": [
      "activity Technology\n"
     ]
    },
    {
     "name": "stderr",
     "output_type": "stream",
     "text": [
      "127.0.0.1 - - [09/May/2024 15:14:40] \"POST /predict_tolerance_risk HTTP/1.1\" 200 -\n"
     ]
    },
    {
     "name": "stdout",
     "output_type": "stream",
     "text": [
      "activity Technology\n",
      "ProfileData for Investor id: 108\n",
      "The length of ProfileData is: (1, 20)\n",
      "Technology\n"
     ]
    },
    {
     "name": "stderr",
     "output_type": "stream",
     "text": [
      "127.0.0.1 - - [09/May/2024 15:15:38] \"POST /predict_tolerance_risk HTTP/1.1\" 200 -\n"
     ]
    },
    {
     "name": "stdout",
     "output_type": "stream",
     "text": [
      "activity Technology\n",
      "ProfileData for Investor id: 108\n",
      "The length of ProfileData is: (1, 20)\n",
      "Technology\n"
     ]
    },
    {
     "name": "stderr",
     "output_type": "stream",
     "text": [
      "127.0.0.1 - - [09/May/2024 15:15:44] \"POST /predict_tolerance_risk HTTP/1.1\" 200 -\n"
     ]
    },
    {
     "name": "stdout",
     "output_type": "stream",
     "text": [
      "activity Technology\n",
      "ProfileData for Investor id: 108\n",
      "The length of ProfileData is: (1, 20)\n",
      "Technology\n"
     ]
    },
    {
     "name": "stderr",
     "output_type": "stream",
     "text": [
      "127.0.0.1 - - [09/May/2024 15:15:50] \"POST /predict_tolerance_risk HTTP/1.1\" 200 -\n"
     ]
    },
    {
     "name": "stdout",
     "output_type": "stream",
     "text": [
      "activity Technology\n",
      "ProfileData for Investor id: 108\n",
      "The length of ProfileData is: (1, 20)\n",
      "Technology\n",
      "ProfileData for Investor id: 108\n",
      "The length of ProfileData is: (1, 20)\n",
      "Technology\n"
     ]
    },
    {
     "name": "stderr",
     "output_type": "stream",
     "text": [
      "127.0.0.1 - - [09/May/2024 15:15:55] \"POST /predict_tolerance_risk HTTP/1.1\" 200 -\n"
     ]
    },
    {
     "name": "stdout",
     "output_type": "stream",
     "text": [
      "activity Technology\n"
     ]
    },
    {
     "name": "stderr",
     "output_type": "stream",
     "text": [
      "127.0.0.1 - - [09/May/2024 15:15:56] \"POST /predict_tolerance_risk HTTP/1.1\" 200 -\n"
     ]
    },
    {
     "name": "stdout",
     "output_type": "stream",
     "text": [
      "activity Technology\n",
      "ProfileData for Investor id: 108\n",
      "The length of ProfileData is: (1, 20)\n",
      "Technology\n",
      "ProfileData for Investor id: 108\n",
      "The length of ProfileData is: (1, 20)\n",
      "Technology\n"
     ]
    },
    {
     "name": "stderr",
     "output_type": "stream",
     "text": [
      "127.0.0.1 - - [09/May/2024 15:15:59] \"POST /predict_tolerance_risk HTTP/1.1\" 200 -\n"
     ]
    },
    {
     "name": "stdout",
     "output_type": "stream",
     "text": [
      "activity Technology\n"
     ]
    },
    {
     "name": "stderr",
     "output_type": "stream",
     "text": [
      "127.0.0.1 - - [09/May/2024 15:16:01] \"POST /predict_tolerance_risk HTTP/1.1\" 200 -\n"
     ]
    },
    {
     "name": "stdout",
     "output_type": "stream",
     "text": [
      "activity Technology\n",
      "ProfileData for Investor id: 108\n",
      "The length of ProfileData is: (1, 20)\n",
      "Technology\n"
     ]
    },
    {
     "name": "stderr",
     "output_type": "stream",
     "text": [
      "127.0.0.1 - - [09/May/2024 15:16:04] \"POST /predict_tolerance_risk HTTP/1.1\" 200 -\n"
     ]
    },
    {
     "name": "stdout",
     "output_type": "stream",
     "text": [
      "activity Technology\n"
     ]
    },
    {
     "name": "stderr",
     "output_type": "stream",
     "text": [
      "127.0.0.1 - - [09/May/2024 15:18:33] \"OPTIONS /predict_tolerance_risk HTTP/1.1\" 200 -\n"
     ]
    },
    {
     "name": "stdout",
     "output_type": "stream",
     "text": [
      "ProfileData for Investor id: 108\n",
      "The length of ProfileData is: (1, 20)\n",
      "Technology\n",
      "ProfileData for Investor id: 108\n",
      "The length of ProfileData is: (1, 20)\n",
      "Technology\n"
     ]
    },
    {
     "name": "stderr",
     "output_type": "stream",
     "text": [
      "127.0.0.1 - - [09/May/2024 15:18:36] \"POST /predict_tolerance_risk HTTP/1.1\" 200 -\n",
      "127.0.0.1 - - [09/May/2024 15:18:36] \"POST /predict_tolerance_risk HTTP/1.1\" 200 -\n"
     ]
    },
    {
     "name": "stdout",
     "output_type": "stream",
     "text": [
      "activity Technology\n",
      "activity Technology\n"
     ]
    },
    {
     "name": "stderr",
     "output_type": "stream",
     "text": [
      "127.0.0.1 - - [09/May/2024 15:18:44] \"OPTIONS /predict_tolerance_risk HTTP/1.1\" 200 -\n"
     ]
    },
    {
     "name": "stdout",
     "output_type": "stream",
     "text": [
      "ProfileData for Investor id: 108\n",
      "The length of ProfileData is: (1, 20)\n",
      "Technology\n"
     ]
    },
    {
     "name": "stderr",
     "output_type": "stream",
     "text": [
      "127.0.0.1 - - [09/May/2024 15:18:47] \"POST /predict_tolerance_risk HTTP/1.1\" 200 -\n"
     ]
    },
    {
     "name": "stdout",
     "output_type": "stream",
     "text": [
      "activity Technology\n"
     ]
    },
    {
     "name": "stderr",
     "output_type": "stream",
     "text": [
      "127.0.0.1 - - [09/May/2024 15:18:52] \"OPTIONS /predict_tolerance_risk HTTP/1.1\" 200 -\n"
     ]
    },
    {
     "name": "stdout",
     "output_type": "stream",
     "text": [
      "ProfileData for Investor id: 108\n",
      "The length of ProfileData is: (1, 20)\n",
      "Technology\n"
     ]
    },
    {
     "name": "stderr",
     "output_type": "stream",
     "text": [
      "127.0.0.1 - - [09/May/2024 15:18:55] \"POST /predict_tolerance_risk HTTP/1.1\" 200 -\n"
     ]
    },
    {
     "name": "stdout",
     "output_type": "stream",
     "text": [
      "activity Technology\n",
      "ProfileData for Investor id: 108\n",
      "The length of ProfileData is: (1, 20)\n",
      "Technology\n",
      "ProfileData for Investor id: 108\n",
      "The length of ProfileData is: (1, 20)\n",
      "Technology\n"
     ]
    },
    {
     "name": "stderr",
     "output_type": "stream",
     "text": [
      "127.0.0.1 - - [09/May/2024 15:20:35] \"POST /predict_tolerance_risk HTTP/1.1\" 200 -\n"
     ]
    },
    {
     "name": "stdout",
     "output_type": "stream",
     "text": [
      "activity Technology\n"
     ]
    },
    {
     "name": "stderr",
     "output_type": "stream",
     "text": [
      "127.0.0.1 - - [09/May/2024 15:20:36] \"POST /predict_tolerance_risk HTTP/1.1\" 200 -\n"
     ]
    },
    {
     "name": "stdout",
     "output_type": "stream",
     "text": [
      "activity Technology\n",
      "ProfileData for Investor id: 108\n",
      "The length of ProfileData is: (1, 20)\n",
      "Technology\n",
      "ProfileData for Investor id: 108\n",
      "The length of ProfileData is: (1, 20)\n",
      "Technology\n",
      "ProfileData for Investor id: 108\n",
      "The length of ProfileData is: (1, 20)\n",
      "Technology\n"
     ]
    },
    {
     "name": "stderr",
     "output_type": "stream",
     "text": [
      "127.0.0.1 - - [09/May/2024 15:20:41] \"POST /predict_tolerance_risk HTTP/1.1\" 200 -\n"
     ]
    },
    {
     "name": "stdout",
     "output_type": "stream",
     "text": [
      "activity Technology\n"
     ]
    },
    {
     "name": "stderr",
     "output_type": "stream",
     "text": [
      "127.0.0.1 - - [09/May/2024 15:20:42] \"POST /predict_tolerance_risk HTTP/1.1\" 200 -\n"
     ]
    },
    {
     "name": "stdout",
     "output_type": "stream",
     "text": [
      "activity Technology\n"
     ]
    },
    {
     "name": "stderr",
     "output_type": "stream",
     "text": [
      "127.0.0.1 - - [09/May/2024 15:20:44] \"POST /predict_tolerance_risk HTTP/1.1\" 200 -\n"
     ]
    },
    {
     "name": "stdout",
     "output_type": "stream",
     "text": [
      "activity Technology\n",
      "ProfileData for Investor id: 108\n",
      "The length of ProfileData is: (1, 20)\n",
      "Technology\n",
      "ProfileData for Investor id: 108\n",
      "The length of ProfileData is: (1, 20)\n",
      "Technology\n"
     ]
    },
    {
     "name": "stderr",
     "output_type": "stream",
     "text": [
      "127.0.0.1 - - [09/May/2024 15:20:48] \"POST /predict_tolerance_risk HTTP/1.1\" 200 -\n"
     ]
    },
    {
     "name": "stdout",
     "output_type": "stream",
     "text": [
      "activity Technology\n"
     ]
    },
    {
     "name": "stderr",
     "output_type": "stream",
     "text": [
      "127.0.0.1 - - [09/May/2024 15:20:49] \"POST /predict_tolerance_risk HTTP/1.1\" 200 -\n"
     ]
    },
    {
     "name": "stdout",
     "output_type": "stream",
     "text": [
      "activity Technology\n",
      "ProfileData for Investor id: 108\n",
      "The length of ProfileData is: (1, 20)\n",
      "Technology\n"
     ]
    },
    {
     "name": "stderr",
     "output_type": "stream",
     "text": [
      "127.0.0.1 - - [09/May/2024 15:20:52] \"POST /predict_tolerance_risk HTTP/1.1\" 200 -\n"
     ]
    },
    {
     "name": "stdout",
     "output_type": "stream",
     "text": [
      "activity Technology\n"
     ]
    },
    {
     "name": "stderr",
     "output_type": "stream",
     "text": [
      "127.0.0.1 - - [09/May/2024 15:24:06] \"OPTIONS /predict_tolerance_risk HTTP/1.1\" 200 -\n"
     ]
    },
    {
     "name": "stdout",
     "output_type": "stream",
     "text": [
      "ProfileData for Investor id: 108\n",
      "The length of ProfileData is: (1, 20)\n",
      "Technology\n"
     ]
    },
    {
     "name": "stderr",
     "output_type": "stream",
     "text": [
      "127.0.0.1 - - [09/May/2024 15:24:09] \"POST /predict_tolerance_risk HTTP/1.1\" 200 -\n"
     ]
    },
    {
     "name": "stdout",
     "output_type": "stream",
     "text": [
      "activity Technology\n",
      "ProfileData for Investor id: 108\n",
      "The length of ProfileData is: (1, 20)\n",
      "Technology\n"
     ]
    },
    {
     "name": "stderr",
     "output_type": "stream",
     "text": [
      "127.0.0.1 - - [09/May/2024 15:24:52] \"POST /predict_tolerance_risk HTTP/1.1\" 200 -\n"
     ]
    },
    {
     "name": "stdout",
     "output_type": "stream",
     "text": [
      "activity Technology\n",
      "ProfileData for Investor id: 108\n",
      "The length of ProfileData is: (1, 20)\n",
      "Technology\n"
     ]
    },
    {
     "name": "stderr",
     "output_type": "stream",
     "text": [
      "127.0.0.1 - - [09/May/2024 15:24:57] \"POST /predict_tolerance_risk HTTP/1.1\" 200 -\n"
     ]
    },
    {
     "name": "stdout",
     "output_type": "stream",
     "text": [
      "activity Technology\n"
     ]
    },
    {
     "name": "stderr",
     "output_type": "stream",
     "text": [
      "127.0.0.1 - - [09/May/2024 15:26:15] \"OPTIONS /predict_tolerance_risk HTTP/1.1\" 200 -\n"
     ]
    },
    {
     "name": "stdout",
     "output_type": "stream",
     "text": [
      "ProfileData for Investor id: 108\n",
      "The length of ProfileData is: (1, 20)\n",
      "Technology\n"
     ]
    },
    {
     "name": "stderr",
     "output_type": "stream",
     "text": [
      "127.0.0.1 - - [09/May/2024 15:26:18] \"POST /predict_tolerance_risk HTTP/1.1\" 200 -\n"
     ]
    },
    {
     "name": "stdout",
     "output_type": "stream",
     "text": [
      "activity Technology\n"
     ]
    },
    {
     "name": "stderr",
     "output_type": "stream",
     "text": [
      "127.0.0.1 - - [09/May/2024 15:26:37] \"OPTIONS /predict_tolerance_risk HTTP/1.1\" 200 -\n"
     ]
    },
    {
     "name": "stdout",
     "output_type": "stream",
     "text": [
      "ProfileData for Investor id: 108\n",
      "The length of ProfileData is: (1, 20)\n",
      "Technology\n"
     ]
    },
    {
     "name": "stderr",
     "output_type": "stream",
     "text": [
      "127.0.0.1 - - [09/May/2024 15:26:40] \"POST /predict_tolerance_risk HTTP/1.1\" 200 -\n"
     ]
    },
    {
     "name": "stdout",
     "output_type": "stream",
     "text": [
      "activity Technology\n",
      "ProfileData for Investor id: 108\n",
      "The length of ProfileData is: (1, 20)\n",
      "Technology\n"
     ]
    },
    {
     "name": "stderr",
     "output_type": "stream",
     "text": [
      "127.0.0.1 - - [09/May/2024 15:27:15] \"POST /predict_tolerance_risk HTTP/1.1\" 200 -\n"
     ]
    },
    {
     "name": "stdout",
     "output_type": "stream",
     "text": [
      "activity Technology\n",
      "ProfileData for Investor id: 108\n",
      "The length of ProfileData is: (1, 20)\n",
      "Technology\n"
     ]
    },
    {
     "name": "stderr",
     "output_type": "stream",
     "text": [
      "127.0.0.1 - - [09/May/2024 15:27:20] \"POST /predict_tolerance_risk HTTP/1.1\" 200 -\n"
     ]
    },
    {
     "name": "stdout",
     "output_type": "stream",
     "text": [
      "activity Technology\n",
      "ProfileData for Investor id: 108\n",
      "The length of ProfileData is: (1, 20)\n",
      "Technology\n"
     ]
    },
    {
     "name": "stderr",
     "output_type": "stream",
     "text": [
      "127.0.0.1 - - [09/May/2024 15:27:37] \"POST /predict_tolerance_risk HTTP/1.1\" 200 -\n"
     ]
    },
    {
     "name": "stdout",
     "output_type": "stream",
     "text": [
      "activity Technology\n",
      "ProfileData for Investor id: 108\n",
      "The length of ProfileData is: (1, 20)\n",
      "Technology\n"
     ]
    },
    {
     "name": "stderr",
     "output_type": "stream",
     "text": [
      "127.0.0.1 - - [09/May/2024 15:27:41] \"POST /predict_tolerance_risk HTTP/1.1\" 200 -\n"
     ]
    },
    {
     "name": "stdout",
     "output_type": "stream",
     "text": [
      "activity Technology\n"
     ]
    },
    {
     "name": "stderr",
     "output_type": "stream",
     "text": [
      "127.0.0.1 - - [09/May/2024 16:14:00] \"OPTIONS /predict_tolerance_risk HTTP/1.1\" 200 -\n"
     ]
    },
    {
     "name": "stdout",
     "output_type": "stream",
     "text": [
      "ProfileData for Investor id: 108\n",
      "The length of ProfileData is: (1, 20)\n",
      "Technology\n"
     ]
    },
    {
     "name": "stderr",
     "output_type": "stream",
     "text": [
      "127.0.0.1 - - [09/May/2024 16:14:03] \"POST /predict_tolerance_risk HTTP/1.1\" 200 -\n"
     ]
    },
    {
     "name": "stdout",
     "output_type": "stream",
     "text": [
      "activity Technology\n",
      "ProfileData for Investor id: 108\n",
      "The length of ProfileData is: (1, 20)\n",
      "Technology\n"
     ]
    },
    {
     "name": "stderr",
     "output_type": "stream",
     "text": [
      "127.0.0.1 - - [09/May/2024 16:14:38] \"POST /predict_tolerance_risk HTTP/1.1\" 200 -\n"
     ]
    },
    {
     "name": "stdout",
     "output_type": "stream",
     "text": [
      "activity Technology\n",
      "ProfileData for Investor id: 108\n",
      "The length of ProfileData is: (1, 20)\n",
      "Technology\n"
     ]
    },
    {
     "name": "stderr",
     "output_type": "stream",
     "text": [
      "127.0.0.1 - - [09/May/2024 16:14:42] \"POST /predict_tolerance_risk HTTP/1.1\" 200 -\n"
     ]
    },
    {
     "name": "stdout",
     "output_type": "stream",
     "text": [
      "activity Technology\n"
     ]
    },
    {
     "name": "stderr",
     "output_type": "stream",
     "text": [
      "127.0.0.1 - - [09/May/2024 16:14:50] \"OPTIONS /predict_tolerance_risk HTTP/1.1\" 200 -\n"
     ]
    },
    {
     "name": "stdout",
     "output_type": "stream",
     "text": [
      "ProfileData for Investor id: 108\n",
      "The length of ProfileData is: (1, 20)\n",
      "Technology\n"
     ]
    },
    {
     "name": "stderr",
     "output_type": "stream",
     "text": [
      "127.0.0.1 - - [09/May/2024 16:14:53] \"POST /predict_tolerance_risk HTTP/1.1\" 200 -\n"
     ]
    },
    {
     "name": "stdout",
     "output_type": "stream",
     "text": [
      "activity Technology\n",
      "ProfileData for Investor id: 108\n",
      "The length of ProfileData is: (1, 20)\n",
      "Technology\n"
     ]
    },
    {
     "name": "stderr",
     "output_type": "stream",
     "text": [
      "127.0.0.1 - - [09/May/2024 16:15:34] \"POST /predict_tolerance_risk HTTP/1.1\" 200 -\n"
     ]
    },
    {
     "name": "stdout",
     "output_type": "stream",
     "text": [
      "activity Technology\n",
      "ProfileData for Investor id: 108\n",
      "The length of ProfileData is: (1, 20)\n",
      "Technology\n"
     ]
    },
    {
     "name": "stderr",
     "output_type": "stream",
     "text": [
      "127.0.0.1 - - [09/May/2024 16:15:38] \"POST /predict_tolerance_risk HTTP/1.1\" 200 -\n"
     ]
    },
    {
     "name": "stdout",
     "output_type": "stream",
     "text": [
      "activity Technology\n"
     ]
    },
    {
     "name": "stderr",
     "output_type": "stream",
     "text": [
      "127.0.0.1 - - [09/May/2024 16:20:54] \"OPTIONS /predict_tolerance_risk HTTP/1.1\" 200 -\n"
     ]
    },
    {
     "name": "stdout",
     "output_type": "stream",
     "text": [
      "ProfileData for Investor id: 108\n",
      "The length of ProfileData is: (1, 20)\n",
      "Technology\n"
     ]
    },
    {
     "name": "stderr",
     "output_type": "stream",
     "text": [
      "127.0.0.1 - - [09/May/2024 16:20:56] \"POST /predict_tolerance_risk HTTP/1.1\" 200 -\n"
     ]
    },
    {
     "name": "stdout",
     "output_type": "stream",
     "text": [
      "activity Technology\n",
      "ProfileData for Investor id: 108\n",
      "The length of ProfileData is: (1, 20)\n",
      "Technology\n"
     ]
    },
    {
     "name": "stderr",
     "output_type": "stream",
     "text": [
      "127.0.0.1 - - [09/May/2024 16:21:33] \"POST /predict_tolerance_risk HTTP/1.1\" 200 -\n"
     ]
    },
    {
     "name": "stdout",
     "output_type": "stream",
     "text": [
      "activity Technology\n",
      "ProfileData for Investor id: 108\n",
      "The length of ProfileData is: (1, 20)\n",
      "Technology\n"
     ]
    },
    {
     "name": "stderr",
     "output_type": "stream",
     "text": [
      "127.0.0.1 - - [09/May/2024 16:21:37] \"POST /predict_tolerance_risk HTTP/1.1\" 200 -\n"
     ]
    },
    {
     "name": "stdout",
     "output_type": "stream",
     "text": [
      "activity Technology\n"
     ]
    },
    {
     "name": "stderr",
     "output_type": "stream",
     "text": [
      "127.0.0.1 - - [09/May/2024 16:36:45] \"OPTIONS /predict_tolerance_risk HTTP/1.1\" 200 -\n"
     ]
    },
    {
     "name": "stdout",
     "output_type": "stream",
     "text": [
      "ProfileData for Investor id: 108\n",
      "The length of ProfileData is: (1, 20)\n",
      "Technology\n"
     ]
    },
    {
     "name": "stderr",
     "output_type": "stream",
     "text": [
      "127.0.0.1 - - [09/May/2024 16:36:48] \"POST /predict_tolerance_risk HTTP/1.1\" 200 -\n"
     ]
    },
    {
     "name": "stdout",
     "output_type": "stream",
     "text": [
      "activity Technology\n",
      "ProfileData for Investor id: 108\n",
      "The length of ProfileData is: (1, 20)\n",
      "Technology\n"
     ]
    },
    {
     "name": "stderr",
     "output_type": "stream",
     "text": [
      "127.0.0.1 - - [09/May/2024 16:37:31] \"POST /predict_tolerance_risk HTTP/1.1\" 200 -\n"
     ]
    },
    {
     "name": "stdout",
     "output_type": "stream",
     "text": [
      "activity Technology\n",
      "ProfileData for Investor id: 108\n",
      "The length of ProfileData is: (1, 20)\n",
      "Technology\n"
     ]
    },
    {
     "name": "stderr",
     "output_type": "stream",
     "text": [
      "127.0.0.1 - - [09/May/2024 16:37:35] \"POST /predict_tolerance_risk HTTP/1.1\" 200 -\n"
     ]
    },
    {
     "name": "stdout",
     "output_type": "stream",
     "text": [
      "activity Technology\n"
     ]
    },
    {
     "name": "stderr",
     "output_type": "stream",
     "text": [
      "127.0.0.1 - - [09/May/2024 17:30:35] \"OPTIONS /predict_tolerance_risk HTTP/1.1\" 200 -\n"
     ]
    },
    {
     "name": "stdout",
     "output_type": "stream",
     "text": [
      "ProfileData for Investor id: 108\n",
      "The length of ProfileData is: (1, 20)\n",
      "Technology\n"
     ]
    },
    {
     "name": "stderr",
     "output_type": "stream",
     "text": [
      "127.0.0.1 - - [09/May/2024 17:30:39] \"POST /predict_tolerance_risk HTTP/1.1\" 200 -\n"
     ]
    },
    {
     "name": "stdout",
     "output_type": "stream",
     "text": [
      "activity Technology\n",
      "ProfileData for Investor id: 108\n",
      "The length of ProfileData is: (1, 20)\n",
      "Technology\n"
     ]
    },
    {
     "name": "stderr",
     "output_type": "stream",
     "text": [
      "127.0.0.1 - - [09/May/2024 17:31:30] \"POST /predict_tolerance_risk HTTP/1.1\" 200 -\n"
     ]
    },
    {
     "name": "stdout",
     "output_type": "stream",
     "text": [
      "activity Technology\n",
      "ProfileData for Investor id: 108\n",
      "The length of ProfileData is: (1, 20)\n",
      "Technology\n"
     ]
    },
    {
     "name": "stderr",
     "output_type": "stream",
     "text": [
      "127.0.0.1 - - [09/May/2024 17:31:34] \"POST /predict_tolerance_risk HTTP/1.1\" 200 -\n"
     ]
    },
    {
     "name": "stdout",
     "output_type": "stream",
     "text": [
      "activity Technology\n"
     ]
    },
    {
     "name": "stderr",
     "output_type": "stream",
     "text": [
      "127.0.0.1 - - [09/May/2024 17:35:23] \"OPTIONS /predict_tolerance_risk HTTP/1.1\" 200 -\n"
     ]
    },
    {
     "name": "stdout",
     "output_type": "stream",
     "text": [
      "ProfileData for Investor id: 108\n",
      "The length of ProfileData is: (1, 20)\n",
      "Technology\n"
     ]
    },
    {
     "name": "stderr",
     "output_type": "stream",
     "text": [
      "127.0.0.1 - - [09/May/2024 17:35:26] \"POST /predict_tolerance_risk HTTP/1.1\" 200 -\n"
     ]
    },
    {
     "name": "stdout",
     "output_type": "stream",
     "text": [
      "activity Technology\n",
      "ProfileData for Investor id: 108\n",
      "The length of ProfileData is: (1, 20)\n",
      "Technology\n"
     ]
    },
    {
     "name": "stderr",
     "output_type": "stream",
     "text": [
      "127.0.0.1 - - [09/May/2024 17:36:16] \"POST /predict_tolerance_risk HTTP/1.1\" 200 -\n"
     ]
    },
    {
     "name": "stdout",
     "output_type": "stream",
     "text": [
      "activity Technology\n",
      "ProfileData for Investor id: 108\n",
      "The length of ProfileData is: (1, 20)\n",
      "Technology\n"
     ]
    },
    {
     "name": "stderr",
     "output_type": "stream",
     "text": [
      "127.0.0.1 - - [09/May/2024 17:36:20] \"POST /predict_tolerance_risk HTTP/1.1\" 200 -\n"
     ]
    },
    {
     "name": "stdout",
     "output_type": "stream",
     "text": [
      "activity Technology\n"
     ]
    },
    {
     "name": "stderr",
     "output_type": "stream",
     "text": [
      "127.0.0.1 - - [09/May/2024 18:00:38] \"OPTIONS /predict_tolerance_risk HTTP/1.1\" 200 -\n"
     ]
    },
    {
     "name": "stdout",
     "output_type": "stream",
     "text": [
      "ProfileData for Investor id: 108\n",
      "The length of ProfileData is: (1, 20)\n",
      "Technology\n"
     ]
    },
    {
     "name": "stderr",
     "output_type": "stream",
     "text": [
      "127.0.0.1 - - [09/May/2024 18:00:41] \"POST /predict_tolerance_risk HTTP/1.1\" 200 -\n"
     ]
    },
    {
     "name": "stdout",
     "output_type": "stream",
     "text": [
      "activity Technology\n",
      "ProfileData for Investor id: 108\n",
      "The length of ProfileData is: (1, 20)\n",
      "Technology\n"
     ]
    },
    {
     "name": "stderr",
     "output_type": "stream",
     "text": [
      "127.0.0.1 - - [09/May/2024 18:01:26] \"POST /predict_tolerance_risk HTTP/1.1\" 200 -\n"
     ]
    },
    {
     "name": "stdout",
     "output_type": "stream",
     "text": [
      "activity Technology\n",
      "ProfileData for Investor id: 108\n",
      "The length of ProfileData is: (1, 20)\n",
      "Technology\n"
     ]
    },
    {
     "name": "stderr",
     "output_type": "stream",
     "text": [
      "127.0.0.1 - - [09/May/2024 18:01:31] \"POST /predict_tolerance_risk HTTP/1.1\" 200 -\n"
     ]
    },
    {
     "name": "stdout",
     "output_type": "stream",
     "text": [
      "activity Technology\n"
     ]
    },
    {
     "name": "stderr",
     "output_type": "stream",
     "text": [
      "127.0.0.1 - - [09/May/2024 18:03:17] \"OPTIONS /predict_tolerance_risk HTTP/1.1\" 200 -\n"
     ]
    },
    {
     "name": "stdout",
     "output_type": "stream",
     "text": [
      "ProfileData for Investor id: 108\n",
      "The length of ProfileData is: (1, 20)\n",
      "Technology\n"
     ]
    },
    {
     "name": "stderr",
     "output_type": "stream",
     "text": [
      "127.0.0.1 - - [09/May/2024 18:03:20] \"POST /predict_tolerance_risk HTTP/1.1\" 200 -\n"
     ]
    },
    {
     "name": "stdout",
     "output_type": "stream",
     "text": [
      "activity Technology\n",
      "ProfileData for Investor id: 108\n",
      "The length of ProfileData is: (1, 20)\n",
      "Technology\n"
     ]
    },
    {
     "name": "stderr",
     "output_type": "stream",
     "text": [
      "127.0.0.1 - - [09/May/2024 18:04:03] \"POST /predict_tolerance_risk HTTP/1.1\" 200 -\n"
     ]
    },
    {
     "name": "stdout",
     "output_type": "stream",
     "text": [
      "activity Technology\n",
      "ProfileData for Investor id: 108\n",
      "The length of ProfileData is: (1, 20)\n",
      "Technology\n"
     ]
    },
    {
     "name": "stderr",
     "output_type": "stream",
     "text": [
      "127.0.0.1 - - [09/May/2024 18:04:08] \"POST /predict_tolerance_risk HTTP/1.1\" 200 -\n"
     ]
    },
    {
     "name": "stdout",
     "output_type": "stream",
     "text": [
      "activity Technology\n"
     ]
    },
    {
     "name": "stderr",
     "output_type": "stream",
     "text": [
      "127.0.0.1 - - [09/May/2024 18:14:17] \"OPTIONS /predict_tolerance_risk HTTP/1.1\" 200 -\n"
     ]
    },
    {
     "name": "stdout",
     "output_type": "stream",
     "text": [
      "ProfileData for Investor id: 108\n",
      "The length of ProfileData is: (1, 20)\n",
      "Technology\n"
     ]
    },
    {
     "name": "stderr",
     "output_type": "stream",
     "text": [
      "127.0.0.1 - - [09/May/2024 18:14:20] \"POST /predict_tolerance_risk HTTP/1.1\" 200 -\n"
     ]
    },
    {
     "name": "stdout",
     "output_type": "stream",
     "text": [
      "activity Technology\n",
      "ProfileData for Investor id: 108\n",
      "The length of ProfileData is: (1, 20)\n",
      "Technology\n"
     ]
    },
    {
     "name": "stderr",
     "output_type": "stream",
     "text": [
      "127.0.0.1 - - [09/May/2024 18:15:03] \"POST /predict_tolerance_risk HTTP/1.1\" 200 -\n"
     ]
    },
    {
     "name": "stdout",
     "output_type": "stream",
     "text": [
      "activity Technology\n",
      "ProfileData for Investor id: 108\n",
      "The length of ProfileData is: (1, 20)\n",
      "Technology\n"
     ]
    },
    {
     "name": "stderr",
     "output_type": "stream",
     "text": [
      "127.0.0.1 - - [09/May/2024 18:15:08] \"POST /predict_tolerance_risk HTTP/1.1\" 200 -\n"
     ]
    },
    {
     "name": "stdout",
     "output_type": "stream",
     "text": [
      "activity Technology\n"
     ]
    },
    {
     "name": "stderr",
     "output_type": "stream",
     "text": [
      "127.0.0.1 - - [09/May/2024 18:15:59] \"OPTIONS /predict_tolerance_risk HTTP/1.1\" 200 -\n"
     ]
    },
    {
     "name": "stdout",
     "output_type": "stream",
     "text": [
      "ProfileData for Investor id: 108\n",
      "The length of ProfileData is: (1, 20)\n",
      "Technology\n"
     ]
    },
    {
     "name": "stderr",
     "output_type": "stream",
     "text": [
      "127.0.0.1 - - [09/May/2024 18:16:02] \"POST /predict_tolerance_risk HTTP/1.1\" 200 -\n"
     ]
    },
    {
     "name": "stdout",
     "output_type": "stream",
     "text": [
      "activity Technology\n",
      "ProfileData for Investor id: 108\n",
      "The length of ProfileData is: (1, 20)\n",
      "Technology\n"
     ]
    },
    {
     "name": "stderr",
     "output_type": "stream",
     "text": [
      "127.0.0.1 - - [09/May/2024 18:16:47] \"POST /predict_tolerance_risk HTTP/1.1\" 200 -\n"
     ]
    },
    {
     "name": "stdout",
     "output_type": "stream",
     "text": [
      "activity Technology\n",
      "ProfileData for Investor id: 108\n",
      "The length of ProfileData is: (1, 20)\n",
      "Technology\n"
     ]
    },
    {
     "name": "stderr",
     "output_type": "stream",
     "text": [
      "127.0.0.1 - - [09/May/2024 18:16:52] \"POST /predict_tolerance_risk HTTP/1.1\" 200 -\n"
     ]
    },
    {
     "name": "stdout",
     "output_type": "stream",
     "text": [
      "activity Technology\n"
     ]
    },
    {
     "name": "stderr",
     "output_type": "stream",
     "text": [
      "127.0.0.1 - - [09/May/2024 18:29:34] \"OPTIONS /predict_tolerance_risk HTTP/1.1\" 200 -\n"
     ]
    },
    {
     "name": "stdout",
     "output_type": "stream",
     "text": [
      "ProfileData for Investor id: 108\n",
      "The length of ProfileData is: (1, 20)\n",
      "Technology\n"
     ]
    },
    {
     "name": "stderr",
     "output_type": "stream",
     "text": [
      "127.0.0.1 - - [09/May/2024 18:29:37] \"POST /predict_tolerance_risk HTTP/1.1\" 200 -\n"
     ]
    },
    {
     "name": "stdout",
     "output_type": "stream",
     "text": [
      "activity Technology\n"
     ]
    },
    {
     "name": "stderr",
     "output_type": "stream",
     "text": [
      "127.0.0.1 - - [09/May/2024 18:29:50] \"OPTIONS /predict_tolerance_risk HTTP/1.1\" 200 -\n"
     ]
    },
    {
     "name": "stdout",
     "output_type": "stream",
     "text": [
      "ProfileData for Investor id: 108\n",
      "The length of ProfileData is: (1, 20)\n",
      "Technology\n"
     ]
    },
    {
     "name": "stderr",
     "output_type": "stream",
     "text": [
      "127.0.0.1 - - [09/May/2024 18:29:53] \"POST /predict_tolerance_risk HTTP/1.1\" 200 -\n"
     ]
    },
    {
     "name": "stdout",
     "output_type": "stream",
     "text": [
      "activity Technology\n",
      "ProfileData for Investor id: 108\n",
      "The length of ProfileData is: (1, 20)\n",
      "Technology\n"
     ]
    },
    {
     "name": "stderr",
     "output_type": "stream",
     "text": [
      "127.0.0.1 - - [09/May/2024 18:30:36] \"POST /predict_tolerance_risk HTTP/1.1\" 200 -\n"
     ]
    },
    {
     "name": "stdout",
     "output_type": "stream",
     "text": [
      "activity Technology\n",
      "ProfileData for Investor id: 108\n",
      "The length of ProfileData is: (1, 20)\n",
      "Technology\n"
     ]
    },
    {
     "name": "stderr",
     "output_type": "stream",
     "text": [
      "127.0.0.1 - - [09/May/2024 18:30:42] \"POST /predict_tolerance_risk HTTP/1.1\" 200 -\n"
     ]
    },
    {
     "name": "stdout",
     "output_type": "stream",
     "text": [
      "activity Technology\n"
     ]
    },
    {
     "name": "stderr",
     "output_type": "stream",
     "text": [
      "127.0.0.1 - - [09/May/2024 18:30:43] \"OPTIONS /predict_tolerance_risk HTTP/1.1\" 200 -\n"
     ]
    },
    {
     "name": "stdout",
     "output_type": "stream",
     "text": [
      "ProfileData for Investor id: 108\n",
      "The length of ProfileData is: (1, 20)\n",
      "Technology\n"
     ]
    },
    {
     "name": "stderr",
     "output_type": "stream",
     "text": [
      "127.0.0.1 - - [09/May/2024 18:30:46] \"POST /predict_tolerance_risk HTTP/1.1\" 200 -\n"
     ]
    },
    {
     "name": "stdout",
     "output_type": "stream",
     "text": [
      "activity Technology\n",
      "ProfileData for Investor id: 108\n",
      "The length of ProfileData is: (1, 20)\n",
      "Technology\n"
     ]
    },
    {
     "name": "stderr",
     "output_type": "stream",
     "text": [
      "127.0.0.1 - - [09/May/2024 18:30:55] \"POST /predict_tolerance_risk HTTP/1.1\" 200 -\n"
     ]
    },
    {
     "name": "stdout",
     "output_type": "stream",
     "text": [
      "activity Technology\n",
      "ProfileData for Investor id: 108\n",
      "The length of ProfileData is: (1, 20)\n",
      "Technology\n"
     ]
    },
    {
     "name": "stderr",
     "output_type": "stream",
     "text": [
      "127.0.0.1 - - [09/May/2024 18:31:01] \"POST /predict_tolerance_risk HTTP/1.1\" 200 -\n"
     ]
    },
    {
     "name": "stdout",
     "output_type": "stream",
     "text": [
      "activity Technology\n",
      "ProfileData for Investor id: 108\n",
      "The length of ProfileData is: (1, 20)\n",
      "Technology\n"
     ]
    },
    {
     "name": "stderr",
     "output_type": "stream",
     "text": [
      "127.0.0.1 - - [09/May/2024 18:31:35] \"POST /predict_tolerance_risk HTTP/1.1\" 200 -\n"
     ]
    },
    {
     "name": "stdout",
     "output_type": "stream",
     "text": [
      "activity Technology\n",
      "ProfileData for Investor id: 108\n",
      "The length of ProfileData is: (1, 20)\n",
      "Technology\n"
     ]
    },
    {
     "name": "stderr",
     "output_type": "stream",
     "text": [
      "127.0.0.1 - - [09/May/2024 18:31:40] \"POST /predict_tolerance_risk HTTP/1.1\" 200 -\n"
     ]
    },
    {
     "name": "stdout",
     "output_type": "stream",
     "text": [
      "activity Technology\n"
     ]
    },
    {
     "name": "stderr",
     "output_type": "stream",
     "text": [
      "127.0.0.1 - - [09/May/2024 18:31:49] \"OPTIONS /predict_tolerance_risk HTTP/1.1\" 200 -\n"
     ]
    },
    {
     "name": "stdout",
     "output_type": "stream",
     "text": [
      "ProfileData for Investor id: 108\n",
      "The length of ProfileData is: (1, 20)\n",
      "Technology\n"
     ]
    },
    {
     "name": "stderr",
     "output_type": "stream",
     "text": [
      "127.0.0.1 - - [09/May/2024 18:31:53] \"POST /predict_tolerance_risk HTTP/1.1\" 200 -\n"
     ]
    },
    {
     "name": "stdout",
     "output_type": "stream",
     "text": [
      "activity Technology\n",
      "ProfileData for Investor id: 108\n",
      "The length of ProfileData is: (1, 20)\n",
      "Technology\n"
     ]
    },
    {
     "name": "stderr",
     "output_type": "stream",
     "text": [
      "127.0.0.1 - - [09/May/2024 18:32:38] \"POST /predict_tolerance_risk HTTP/1.1\" 200 -\n"
     ]
    },
    {
     "name": "stdout",
     "output_type": "stream",
     "text": [
      "activity Technology\n",
      "ProfileData for Investor id: 108\n",
      "The length of ProfileData is: (1, 20)\n",
      "Technology\n"
     ]
    },
    {
     "name": "stderr",
     "output_type": "stream",
     "text": [
      "127.0.0.1 - - [09/May/2024 18:32:43] \"POST /predict_tolerance_risk HTTP/1.1\" 200 -\n"
     ]
    },
    {
     "name": "stdout",
     "output_type": "stream",
     "text": [
      "activity Technology\n"
     ]
    },
    {
     "name": "stderr",
     "output_type": "stream",
     "text": [
      "127.0.0.1 - - [09/May/2024 19:17:21] \"OPTIONS /predict_tolerance_risk HTTP/1.1\" 200 -\n"
     ]
    },
    {
     "name": "stdout",
     "output_type": "stream",
     "text": [
      "ProfileData for Investor id: 108\n",
      "The length of ProfileData is: (1, 20)\n",
      "Technology\n"
     ]
    },
    {
     "name": "stderr",
     "output_type": "stream",
     "text": [
      "127.0.0.1 - - [09/May/2024 19:17:26] \"POST /predict_tolerance_risk HTTP/1.1\" 200 -\n"
     ]
    },
    {
     "name": "stdout",
     "output_type": "stream",
     "text": [
      "activity Technology\n",
      "ProfileData for Investor id: 108\n",
      "The length of ProfileData is: (1, 20)\n",
      "Technology\n"
     ]
    },
    {
     "name": "stderr",
     "output_type": "stream",
     "text": [
      "127.0.0.1 - - [09/May/2024 19:18:13] \"POST /predict_tolerance_risk HTTP/1.1\" 200 -\n"
     ]
    },
    {
     "name": "stdout",
     "output_type": "stream",
     "text": [
      "activity Technology\n",
      "ProfileData for Investor id: 108\n",
      "The length of ProfileData is: (1, 20)\n",
      "Technology\n"
     ]
    },
    {
     "name": "stderr",
     "output_type": "stream",
     "text": [
      "127.0.0.1 - - [09/May/2024 19:18:17] \"POST /predict_tolerance_risk HTTP/1.1\" 200 -\n"
     ]
    },
    {
     "name": "stdout",
     "output_type": "stream",
     "text": [
      "activity Technology\n"
     ]
    },
    {
     "name": "stderr",
     "output_type": "stream",
     "text": [
      "127.0.0.1 - - [09/May/2024 20:42:13] \"OPTIONS /predict_tolerance_risk HTTP/1.1\" 200 -\n"
     ]
    },
    {
     "name": "stdout",
     "output_type": "stream",
     "text": [
      "ProfileData for Investor id: 108\n",
      "The length of ProfileData is: (1, 20)\n",
      "Technology\n"
     ]
    },
    {
     "name": "stderr",
     "output_type": "stream",
     "text": [
      "127.0.0.1 - - [09/May/2024 20:42:16] \"POST /predict_tolerance_risk HTTP/1.1\" 200 -\n"
     ]
    },
    {
     "name": "stdout",
     "output_type": "stream",
     "text": [
      "activity Technology\n",
      "ProfileData for Investor id: 108\n",
      "The length of ProfileData is: (1, 20)\n",
      "Technology\n"
     ]
    },
    {
     "name": "stderr",
     "output_type": "stream",
     "text": [
      "127.0.0.1 - - [09/May/2024 20:42:52] \"POST /predict_tolerance_risk HTTP/1.1\" 200 -\n"
     ]
    },
    {
     "name": "stdout",
     "output_type": "stream",
     "text": [
      "activity Technology\n",
      "ProfileData for Investor id: 108\n",
      "The length of ProfileData is: (1, 20)\n",
      "Technology\n"
     ]
    },
    {
     "name": "stderr",
     "output_type": "stream",
     "text": [
      "127.0.0.1 - - [09/May/2024 20:42:56] \"POST /predict_tolerance_risk HTTP/1.1\" 200 -\n"
     ]
    },
    {
     "name": "stdout",
     "output_type": "stream",
     "text": [
      "activity Technology\n"
     ]
    },
    {
     "name": "stderr",
     "output_type": "stream",
     "text": [
      "127.0.0.1 - - [09/May/2024 21:05:02] \"OPTIONS /predict_tolerance_risk HTTP/1.1\" 200 -\n"
     ]
    },
    {
     "name": "stdout",
     "output_type": "stream",
     "text": [
      "ProfileData for Investor id: 108\n",
      "The length of ProfileData is: (1, 20)\n",
      "Technology\n"
     ]
    },
    {
     "name": "stderr",
     "output_type": "stream",
     "text": [
      "127.0.0.1 - - [09/May/2024 21:05:05] \"POST /predict_tolerance_risk HTTP/1.1\" 200 -\n"
     ]
    },
    {
     "name": "stdout",
     "output_type": "stream",
     "text": [
      "activity Technology\n",
      "ProfileData for Investor id: 108\n",
      "The length of ProfileData is: (1, 20)\n",
      "Technology\n"
     ]
    },
    {
     "name": "stderr",
     "output_type": "stream",
     "text": [
      "127.0.0.1 - - [09/May/2024 21:05:43] \"POST /predict_tolerance_risk HTTP/1.1\" 200 -\n"
     ]
    },
    {
     "name": "stdout",
     "output_type": "stream",
     "text": [
      "activity Technology\n",
      "ProfileData for Investor id: 108\n",
      "The length of ProfileData is: (1, 20)\n",
      "Technology\n"
     ]
    },
    {
     "name": "stderr",
     "output_type": "stream",
     "text": [
      "127.0.0.1 - - [09/May/2024 21:05:48] \"POST /predict_tolerance_risk HTTP/1.1\" 200 -\n"
     ]
    },
    {
     "name": "stdout",
     "output_type": "stream",
     "text": [
      "activity Technology\n"
     ]
    },
    {
     "name": "stderr",
     "output_type": "stream",
     "text": [
      "127.0.0.1 - - [09/May/2024 23:23:19] \"OPTIONS /predict_tolerance_risk HTTP/1.1\" 200 -\n"
     ]
    },
    {
     "name": "stdout",
     "output_type": "stream",
     "text": [
      "ProfileData for Investor id: 108\n",
      "The length of ProfileData is: (1, 20)\n",
      "Technology\n"
     ]
    },
    {
     "name": "stderr",
     "output_type": "stream",
     "text": [
      "127.0.0.1 - - [09/May/2024 23:23:21] \"POST /predict_tolerance_risk HTTP/1.1\" 200 -\n"
     ]
    },
    {
     "name": "stdout",
     "output_type": "stream",
     "text": [
      "activity Technology\n"
     ]
    },
    {
     "name": "stderr",
     "output_type": "stream",
     "text": [
      "127.0.0.1 - - [09/May/2024 23:23:54] \"OPTIONS /predict_tolerance_risk HTTP/1.1\" 200 -\n"
     ]
    },
    {
     "name": "stdout",
     "output_type": "stream",
     "text": [
      "ProfileData for Investor id: 108\n",
      "The length of ProfileData is: (1, 20)\n",
      "Technology\n",
      "ProfileData for Investor id: 108\n",
      "The length of ProfileData is: (1, 20)\n",
      "Technology\n"
     ]
    },
    {
     "name": "stderr",
     "output_type": "stream",
     "text": [
      "127.0.0.1 - - [09/May/2024 23:23:57] \"POST /predict_tolerance_risk HTTP/1.1\" 200 -\n"
     ]
    },
    {
     "name": "stdout",
     "output_type": "stream",
     "text": [
      "activity Technology\n"
     ]
    },
    {
     "name": "stderr",
     "output_type": "stream",
     "text": [
      "127.0.0.1 - - [09/May/2024 23:23:58] \"POST /predict_tolerance_risk HTTP/1.1\" 200 -\n"
     ]
    },
    {
     "name": "stdout",
     "output_type": "stream",
     "text": [
      "activity Technology\n",
      "ProfileData for Investor id: 108\n",
      "The length of ProfileData is: (1, 20)\n",
      "Technology\n"
     ]
    },
    {
     "name": "stderr",
     "output_type": "stream",
     "text": [
      "127.0.0.1 - - [09/May/2024 23:24:04] \"POST /predict_tolerance_risk HTTP/1.1\" 200 -\n"
     ]
    },
    {
     "name": "stdout",
     "output_type": "stream",
     "text": [
      "activity Technology\n",
      "ProfileData for Investor id: 108\n",
      "The length of ProfileData is: (1, 20)\n",
      "Technology\n"
     ]
    },
    {
     "name": "stderr",
     "output_type": "stream",
     "text": [
      "127.0.0.1 - - [09/May/2024 23:24:38] \"POST /predict_tolerance_risk HTTP/1.1\" 200 -\n"
     ]
    },
    {
     "name": "stdout",
     "output_type": "stream",
     "text": [
      "activity Technology\n",
      "ProfileData for Investor id: 108\n",
      "The length of ProfileData is: (1, 20)\n",
      "Technology\n"
     ]
    },
    {
     "name": "stderr",
     "output_type": "stream",
     "text": [
      "127.0.0.1 - - [09/May/2024 23:24:43] \"POST /predict_tolerance_risk HTTP/1.1\" 200 -\n"
     ]
    },
    {
     "name": "stdout",
     "output_type": "stream",
     "text": [
      "activity Technology\n"
     ]
    },
    {
     "name": "stderr",
     "output_type": "stream",
     "text": [
      "127.0.0.1 - - [09/May/2024 23:24:45] \"OPTIONS /predict_tolerance_risk HTTP/1.1\" 200 -\n"
     ]
    },
    {
     "name": "stdout",
     "output_type": "stream",
     "text": [
      "ProfileData for Investor id: 108\n",
      "The length of ProfileData is: (1, 20)\n",
      "Technology\n"
     ]
    },
    {
     "name": "stderr",
     "output_type": "stream",
     "text": [
      "127.0.0.1 - - [09/May/2024 23:24:48] \"POST /predict_tolerance_risk HTTP/1.1\" 200 -\n"
     ]
    },
    {
     "name": "stdout",
     "output_type": "stream",
     "text": [
      "activity Technology\n",
      "ProfileData for Investor id: 108\n",
      "The length of ProfileData is: (1, 20)\n",
      "Technology\n"
     ]
    },
    {
     "name": "stderr",
     "output_type": "stream",
     "text": [
      "127.0.0.1 - - [09/May/2024 23:25:30] \"POST /predict_tolerance_risk HTTP/1.1\" 200 -\n"
     ]
    },
    {
     "name": "stdout",
     "output_type": "stream",
     "text": [
      "activity Technology\n",
      "ProfileData for Investor id: 108\n",
      "The length of ProfileData is: (1, 20)\n",
      "Technology\n"
     ]
    },
    {
     "name": "stderr",
     "output_type": "stream",
     "text": [
      "127.0.0.1 - - [09/May/2024 23:25:35] \"POST /predict_tolerance_risk HTTP/1.1\" 200 -\n"
     ]
    },
    {
     "name": "stdout",
     "output_type": "stream",
     "text": [
      "activity Technology\n"
     ]
    },
    {
     "name": "stderr",
     "output_type": "stream",
     "text": [
      "127.0.0.1 - - [09/May/2024 23:26:22] \"OPTIONS /predict_tolerance_risk HTTP/1.1\" 200 -\n"
     ]
    },
    {
     "name": "stdout",
     "output_type": "stream",
     "text": [
      "ProfileData for Investor id: 108\n",
      "The length of ProfileData is: (1, 20)\n",
      "Technology\n"
     ]
    },
    {
     "name": "stderr",
     "output_type": "stream",
     "text": [
      "127.0.0.1 - - [09/May/2024 23:26:25] \"POST /predict_tolerance_risk HTTP/1.1\" 200 -\n"
     ]
    },
    {
     "name": "stdout",
     "output_type": "stream",
     "text": [
      "activity Technology\n",
      "ProfileData for Investor id: 108\n",
      "The length of ProfileData is: (1, 20)\n",
      "Technology\n"
     ]
    },
    {
     "name": "stderr",
     "output_type": "stream",
     "text": [
      "127.0.0.1 - - [09/May/2024 23:27:03] \"OPTIONS /predict_tolerance_risk HTTP/1.1\" 200 -\n"
     ]
    },
    {
     "name": "stdout",
     "output_type": "stream",
     "text": [
      "ProfileData for Investor id: 108\n",
      "The length of ProfileData is: (1, 20)\n",
      "Technology\n"
     ]
    },
    {
     "name": "stderr",
     "output_type": "stream",
     "text": [
      "127.0.0.1 - - [09/May/2024 23:27:04] \"POST /predict_tolerance_risk HTTP/1.1\" 200 -\n"
     ]
    },
    {
     "name": "stdout",
     "output_type": "stream",
     "text": [
      "activity Technology\n",
      "ProfileData for Investor id: 108\n",
      "The length of ProfileData is: (1, 20)\n",
      "Technology\n"
     ]
    },
    {
     "name": "stderr",
     "output_type": "stream",
     "text": [
      "127.0.0.1 - - [09/May/2024 23:27:07] \"POST /predict_tolerance_risk HTTP/1.1\" 200 -\n"
     ]
    },
    {
     "name": "stdout",
     "output_type": "stream",
     "text": [
      "activity Technology\n"
     ]
    },
    {
     "name": "stderr",
     "output_type": "stream",
     "text": [
      "127.0.0.1 - - [09/May/2024 23:27:09] \"POST /predict_tolerance_risk HTTP/1.1\" 200 -\n"
     ]
    },
    {
     "name": "stdout",
     "output_type": "stream",
     "text": [
      "activity Technology\n"
     ]
    },
    {
     "name": "stderr",
     "output_type": "stream",
     "text": [
      "127.0.0.1 - - [09/May/2024 23:27:45] \"OPTIONS /predict_tolerance_risk HTTP/1.1\" 200 -\n"
     ]
    },
    {
     "name": "stdout",
     "output_type": "stream",
     "text": [
      "ProfileData for Investor id: 108\n",
      "The length of ProfileData is: (1, 20)\n",
      "Technology\n"
     ]
    },
    {
     "name": "stderr",
     "output_type": "stream",
     "text": [
      "127.0.0.1 - - [09/May/2024 23:27:48] \"POST /predict_tolerance_risk HTTP/1.1\" 200 -\n"
     ]
    },
    {
     "name": "stdout",
     "output_type": "stream",
     "text": [
      "activity Technology\n",
      "ProfileData for Investor id: 108\n",
      "The length of ProfileData is: (1, 20)\n",
      "Technology\n"
     ]
    },
    {
     "name": "stderr",
     "output_type": "stream",
     "text": [
      "127.0.0.1 - - [09/May/2024 23:28:02] \"POST /predict_tolerance_risk HTTP/1.1\" 200 -\n"
     ]
    },
    {
     "name": "stdout",
     "output_type": "stream",
     "text": [
      "activity Technology\n",
      "ProfileData for Investor id: 108\n",
      "The length of ProfileData is: (1, 20)\n",
      "Technology\n"
     ]
    },
    {
     "name": "stderr",
     "output_type": "stream",
     "text": [
      "127.0.0.1 - - [09/May/2024 23:28:08] \"POST /predict_tolerance_risk HTTP/1.1\" 200 -\n"
     ]
    },
    {
     "name": "stdout",
     "output_type": "stream",
     "text": [
      "activity Technology\n",
      "ProfileData for Investor id: 108\n",
      "The length of ProfileData is: (1, 20)\n",
      "Technology\n"
     ]
    },
    {
     "name": "stderr",
     "output_type": "stream",
     "text": [
      "127.0.0.1 - - [09/May/2024 23:28:31] \"POST /predict_tolerance_risk HTTP/1.1\" 200 -\n"
     ]
    },
    {
     "name": "stdout",
     "output_type": "stream",
     "text": [
      "activity Technology\n",
      "ProfileData for Investor id: 108\n",
      "The length of ProfileData is: (1, 20)\n",
      "Technology\n"
     ]
    },
    {
     "name": "stderr",
     "output_type": "stream",
     "text": [
      "127.0.0.1 - - [09/May/2024 23:28:36] \"POST /predict_tolerance_risk HTTP/1.1\" 200 -\n"
     ]
    },
    {
     "name": "stdout",
     "output_type": "stream",
     "text": [
      "activity Technology\n"
     ]
    },
    {
     "name": "stderr",
     "output_type": "stream",
     "text": [
      "127.0.0.1 - - [09/May/2024 23:43:31] \"OPTIONS /predict_tolerance_risk HTTP/1.1\" 200 -\n"
     ]
    },
    {
     "name": "stdout",
     "output_type": "stream",
     "text": [
      "ProfileData for Investor id: 108\n",
      "The length of ProfileData is: (1, 20)\n",
      "Technology\n"
     ]
    },
    {
     "name": "stderr",
     "output_type": "stream",
     "text": [
      "127.0.0.1 - - [09/May/2024 23:43:34] \"POST /predict_tolerance_risk HTTP/1.1\" 200 -\n"
     ]
    },
    {
     "name": "stdout",
     "output_type": "stream",
     "text": [
      "activity Technology\n",
      "ProfileData for Investor id: 108\n",
      "The length of ProfileData is: (1, 20)\n",
      "Technology\n"
     ]
    },
    {
     "name": "stderr",
     "output_type": "stream",
     "text": [
      "127.0.0.1 - - [09/May/2024 23:44:10] \"POST /predict_tolerance_risk HTTP/1.1\" 200 -\n"
     ]
    },
    {
     "name": "stdout",
     "output_type": "stream",
     "text": [
      "activity Technology\n",
      "ProfileData for Investor id: 108\n",
      "The length of ProfileData is: (1, 20)\n",
      "Technology\n"
     ]
    },
    {
     "name": "stderr",
     "output_type": "stream",
     "text": [
      "127.0.0.1 - - [09/May/2024 23:44:14] \"POST /predict_tolerance_risk HTTP/1.1\" 200 -\n"
     ]
    },
    {
     "name": "stdout",
     "output_type": "stream",
     "text": [
      "activity Technology\n"
     ]
    },
    {
     "name": "stderr",
     "output_type": "stream",
     "text": [
      "127.0.0.1 - - [09/May/2024 23:46:06] \"OPTIONS /predict_tolerance_risk HTTP/1.1\" 200 -\n"
     ]
    },
    {
     "name": "stdout",
     "output_type": "stream",
     "text": [
      "ProfileData for Investor id: 108\n",
      "The length of ProfileData is: (1, 20)\n",
      "Technology\n"
     ]
    },
    {
     "name": "stderr",
     "output_type": "stream",
     "text": [
      "127.0.0.1 - - [09/May/2024 23:46:09] \"POST /predict_tolerance_risk HTTP/1.1\" 200 -\n"
     ]
    },
    {
     "name": "stdout",
     "output_type": "stream",
     "text": [
      "activity Technology\n",
      "ProfileData for Investor id: 108\n",
      "The length of ProfileData is: (1, 20)\n",
      "Technology\n"
     ]
    },
    {
     "name": "stderr",
     "output_type": "stream",
     "text": [
      "127.0.0.1 - - [09/May/2024 23:46:45] \"POST /predict_tolerance_risk HTTP/1.1\" 200 -\n"
     ]
    },
    {
     "name": "stdout",
     "output_type": "stream",
     "text": [
      "activity Technology\n",
      "ProfileData for Investor id: 108\n",
      "The length of ProfileData is: (1, 20)\n",
      "Technology\n"
     ]
    },
    {
     "name": "stderr",
     "output_type": "stream",
     "text": [
      "127.0.0.1 - - [09/May/2024 23:46:50] \"POST /predict_tolerance_risk HTTP/1.1\" 200 -\n"
     ]
    },
    {
     "name": "stdout",
     "output_type": "stream",
     "text": [
      "activity Technology\n"
     ]
    },
    {
     "name": "stderr",
     "output_type": "stream",
     "text": [
      "127.0.0.1 - - [10/May/2024 00:22:53] \"OPTIONS /predict_tolerance_risk HTTP/1.1\" 200 -\n"
     ]
    },
    {
     "name": "stdout",
     "output_type": "stream",
     "text": [
      "ProfileData for Investor id: 108\n",
      "The length of ProfileData is: (1, 20)\n",
      "Technology\n"
     ]
    },
    {
     "name": "stderr",
     "output_type": "stream",
     "text": [
      "127.0.0.1 - - [10/May/2024 00:22:56] \"POST /predict_tolerance_risk HTTP/1.1\" 200 -\n"
     ]
    },
    {
     "name": "stdout",
     "output_type": "stream",
     "text": [
      "activity Technology\n",
      "ProfileData for Investor id: 108\n",
      "The length of ProfileData is: (1, 20)\n",
      "Technology\n"
     ]
    },
    {
     "name": "stderr",
     "output_type": "stream",
     "text": [
      "127.0.0.1 - - [10/May/2024 00:23:34] \"POST /predict_tolerance_risk HTTP/1.1\" 200 -\n"
     ]
    },
    {
     "name": "stdout",
     "output_type": "stream",
     "text": [
      "activity Technology\n",
      "ProfileData for Investor id: 108\n",
      "The length of ProfileData is: (1, 20)\n",
      "Technology\n"
     ]
    },
    {
     "name": "stderr",
     "output_type": "stream",
     "text": [
      "127.0.0.1 - - [10/May/2024 00:23:38] \"POST /predict_tolerance_risk HTTP/1.1\" 200 -\n"
     ]
    },
    {
     "name": "stdout",
     "output_type": "stream",
     "text": [
      "activity Technology\n"
     ]
    },
    {
     "name": "stderr",
     "output_type": "stream",
     "text": [
      "127.0.0.1 - - [10/May/2024 00:43:37] \"OPTIONS /predict_tolerance_risk HTTP/1.1\" 200 -\n"
     ]
    },
    {
     "name": "stdout",
     "output_type": "stream",
     "text": [
      "ProfileData for Investor id: 108\n",
      "The length of ProfileData is: (1, 20)\n",
      "Technology\n"
     ]
    },
    {
     "name": "stderr",
     "output_type": "stream",
     "text": [
      "127.0.0.1 - - [10/May/2024 00:43:39] \"POST /predict_tolerance_risk HTTP/1.1\" 200 -\n"
     ]
    },
    {
     "name": "stdout",
     "output_type": "stream",
     "text": [
      "activity Technology\n",
      "ProfileData for Investor id: 108\n",
      "The length of ProfileData is: (1, 20)\n",
      "Technology\n"
     ]
    },
    {
     "name": "stderr",
     "output_type": "stream",
     "text": [
      "127.0.0.1 - - [10/May/2024 00:44:14] \"POST /predict_tolerance_risk HTTP/1.1\" 200 -\n"
     ]
    },
    {
     "name": "stdout",
     "output_type": "stream",
     "text": [
      "activity Technology\n",
      "ProfileData for Investor id: 108\n",
      "The length of ProfileData is: (1, 20)\n",
      "Technology\n"
     ]
    },
    {
     "name": "stderr",
     "output_type": "stream",
     "text": [
      "127.0.0.1 - - [10/May/2024 00:44:17] \"POST /predict_tolerance_risk HTTP/1.1\" 200 -\n"
     ]
    },
    {
     "name": "stdout",
     "output_type": "stream",
     "text": [
      "activity Technology\n"
     ]
    },
    {
     "name": "stderr",
     "output_type": "stream",
     "text": [
      "127.0.0.1 - - [10/May/2024 00:46:09] \"OPTIONS /predict_tolerance_risk HTTP/1.1\" 200 -\n"
     ]
    },
    {
     "name": "stdout",
     "output_type": "stream",
     "text": [
      "ProfileData for Investor id: 108\n",
      "The length of ProfileData is: (1, 20)\n",
      "Technology\n"
     ]
    },
    {
     "name": "stderr",
     "output_type": "stream",
     "text": [
      "127.0.0.1 - - [10/May/2024 00:46:12] \"POST /predict_tolerance_risk HTTP/1.1\" 200 -\n"
     ]
    },
    {
     "name": "stdout",
     "output_type": "stream",
     "text": [
      "activity Technology\n",
      "ProfileData for Investor id: 108\n",
      "The length of ProfileData is: (1, 20)\n",
      "Technology\n"
     ]
    },
    {
     "name": "stderr",
     "output_type": "stream",
     "text": [
      "127.0.0.1 - - [10/May/2024 00:46:56] \"POST /predict_tolerance_risk HTTP/1.1\" 200 -\n"
     ]
    },
    {
     "name": "stdout",
     "output_type": "stream",
     "text": [
      "activity Technology\n",
      "ProfileData for Investor id: 108\n",
      "The length of ProfileData is: (1, 20)\n",
      "Technology\n"
     ]
    },
    {
     "name": "stderr",
     "output_type": "stream",
     "text": [
      "127.0.0.1 - - [10/May/2024 00:47:01] \"POST /predict_tolerance_risk HTTP/1.1\" 200 -\n"
     ]
    },
    {
     "name": "stdout",
     "output_type": "stream",
     "text": [
      "activity Technology\n"
     ]
    },
    {
     "name": "stderr",
     "output_type": "stream",
     "text": [
      "127.0.0.1 - - [10/May/2024 00:47:33] \"OPTIONS /predict_tolerance_risk HTTP/1.1\" 200 -\n"
     ]
    },
    {
     "name": "stdout",
     "output_type": "stream",
     "text": [
      "ProfileData for Investor id: 108\n",
      "The length of ProfileData is: (1, 20)\n",
      "Technology\n"
     ]
    },
    {
     "name": "stderr",
     "output_type": "stream",
     "text": [
      "127.0.0.1 - - [10/May/2024 00:47:36] \"POST /predict_tolerance_risk HTTP/1.1\" 200 -\n"
     ]
    },
    {
     "name": "stdout",
     "output_type": "stream",
     "text": [
      "activity Technology\n",
      "ProfileData for Investor id: 108\n",
      "The length of ProfileData is: (1, 20)\n",
      "Technology\n"
     ]
    },
    {
     "name": "stderr",
     "output_type": "stream",
     "text": [
      "127.0.0.1 - - [10/May/2024 00:48:18] \"POST /predict_tolerance_risk HTTP/1.1\" 200 -\n"
     ]
    },
    {
     "name": "stdout",
     "output_type": "stream",
     "text": [
      "activity Technology\n",
      "ProfileData for Investor id: 108\n",
      "The length of ProfileData is: (1, 20)\n",
      "Technology\n"
     ]
    },
    {
     "name": "stderr",
     "output_type": "stream",
     "text": [
      "127.0.0.1 - - [10/May/2024 00:48:23] \"POST /predict_tolerance_risk HTTP/1.1\" 200 -\n"
     ]
    },
    {
     "name": "stdout",
     "output_type": "stream",
     "text": [
      "activity Technology\n"
     ]
    },
    {
     "name": "stderr",
     "output_type": "stream",
     "text": [
      "127.0.0.1 - - [10/May/2024 00:50:07] \"OPTIONS /predict_tolerance_risk HTTP/1.1\" 200 -\n"
     ]
    },
    {
     "name": "stdout",
     "output_type": "stream",
     "text": [
      "ProfileData for Investor id: 108\n",
      "The length of ProfileData is: (1, 20)\n",
      "Technology\n"
     ]
    },
    {
     "name": "stderr",
     "output_type": "stream",
     "text": [
      "127.0.0.1 - - [10/May/2024 00:50:10] \"POST /predict_tolerance_risk HTTP/1.1\" 200 -\n"
     ]
    },
    {
     "name": "stdout",
     "output_type": "stream",
     "text": [
      "activity Technology\n",
      "ProfileData for Investor id: 108\n",
      "The length of ProfileData is: (1, 20)\n",
      "Technology\n"
     ]
    },
    {
     "name": "stderr",
     "output_type": "stream",
     "text": [
      "127.0.0.1 - - [10/May/2024 00:50:53] \"POST /predict_tolerance_risk HTTP/1.1\" 200 -\n"
     ]
    },
    {
     "name": "stdout",
     "output_type": "stream",
     "text": [
      "activity Technology\n",
      "ProfileData for Investor id: 108\n",
      "The length of ProfileData is: (1, 20)\n",
      "Technology\n"
     ]
    },
    {
     "name": "stderr",
     "output_type": "stream",
     "text": [
      "127.0.0.1 - - [10/May/2024 00:50:57] \"POST /predict_tolerance_risk HTTP/1.1\" 200 -\n"
     ]
    },
    {
     "name": "stdout",
     "output_type": "stream",
     "text": [
      "activity Technology\n"
     ]
    },
    {
     "name": "stderr",
     "output_type": "stream",
     "text": [
      "127.0.0.1 - - [10/May/2024 00:51:30] \"OPTIONS /predict_tolerance_risk HTTP/1.1\" 200 -\n"
     ]
    },
    {
     "name": "stdout",
     "output_type": "stream",
     "text": [
      "ProfileData for Investor id: 108\n",
      "The length of ProfileData is: (1, 20)\n",
      "Technology\n"
     ]
    },
    {
     "name": "stderr",
     "output_type": "stream",
     "text": [
      "127.0.0.1 - - [10/May/2024 00:51:33] \"POST /predict_tolerance_risk HTTP/1.1\" 200 -\n"
     ]
    },
    {
     "name": "stdout",
     "output_type": "stream",
     "text": [
      "activity Technology\n",
      "ProfileData for Investor id: 108\n",
      "The length of ProfileData is: (1, 20)\n",
      "Technology\n"
     ]
    },
    {
     "name": "stderr",
     "output_type": "stream",
     "text": [
      "127.0.0.1 - - [10/May/2024 00:52:16] \"POST /predict_tolerance_risk HTTP/1.1\" 200 -\n"
     ]
    },
    {
     "name": "stdout",
     "output_type": "stream",
     "text": [
      "activity Technology\n",
      "ProfileData for Investor id: 108\n",
      "The length of ProfileData is: (1, 20)\n",
      "Technology\n"
     ]
    },
    {
     "name": "stderr",
     "output_type": "stream",
     "text": [
      "127.0.0.1 - - [10/May/2024 00:52:21] \"POST /predict_tolerance_risk HTTP/1.1\" 200 -\n"
     ]
    },
    {
     "name": "stdout",
     "output_type": "stream",
     "text": [
      "activity Technology\n"
     ]
    },
    {
     "name": "stderr",
     "output_type": "stream",
     "text": [
      "127.0.0.1 - - [10/May/2024 01:04:44] \"OPTIONS /predict_tolerance_risk HTTP/1.1\" 200 -\n"
     ]
    },
    {
     "name": "stdout",
     "output_type": "stream",
     "text": [
      "ProfileData for Investor id: 108\n",
      "The length of ProfileData is: (1, 20)\n",
      "Technology\n"
     ]
    },
    {
     "name": "stderr",
     "output_type": "stream",
     "text": [
      "127.0.0.1 - - [10/May/2024 01:04:47] \"POST /predict_tolerance_risk HTTP/1.1\" 200 -\n"
     ]
    },
    {
     "name": "stdout",
     "output_type": "stream",
     "text": [
      "activity Technology\n",
      "ProfileData for Investor id: 108\n",
      "The length of ProfileData is: (1, 20)\n",
      "Technology\n"
     ]
    },
    {
     "name": "stderr",
     "output_type": "stream",
     "text": [
      "127.0.0.1 - - [10/May/2024 01:05:36] \"POST /predict_tolerance_risk HTTP/1.1\" 200 -\n"
     ]
    },
    {
     "name": "stdout",
     "output_type": "stream",
     "text": [
      "activity Technology\n",
      "ProfileData for Investor id: 108\n",
      "The length of ProfileData is: (1, 20)\n",
      "Technology\n"
     ]
    },
    {
     "name": "stderr",
     "output_type": "stream",
     "text": [
      "127.0.0.1 - - [10/May/2024 01:05:43] \"POST /predict_tolerance_risk HTTP/1.1\" 200 -\n"
     ]
    },
    {
     "name": "stdout",
     "output_type": "stream",
     "text": [
      "activity Technology\n"
     ]
    },
    {
     "name": "stderr",
     "output_type": "stream",
     "text": [
      "127.0.0.1 - - [10/May/2024 01:08:32] \"OPTIONS /predict_tolerance_risk HTTP/1.1\" 200 -\n"
     ]
    },
    {
     "name": "stdout",
     "output_type": "stream",
     "text": [
      "ProfileData for Investor id: 108\n",
      "The length of ProfileData is: (1, 20)\n",
      "Technology\n"
     ]
    },
    {
     "name": "stderr",
     "output_type": "stream",
     "text": [
      "127.0.0.1 - - [10/May/2024 01:08:35] \"POST /predict_tolerance_risk HTTP/1.1\" 200 -\n"
     ]
    },
    {
     "name": "stdout",
     "output_type": "stream",
     "text": [
      "activity Technology\n",
      "ProfileData for Investor id: 108\n",
      "The length of ProfileData is: (1, 20)\n",
      "Technology\n"
     ]
    },
    {
     "name": "stderr",
     "output_type": "stream",
     "text": [
      "127.0.0.1 - - [10/May/2024 01:09:19] \"POST /predict_tolerance_risk HTTP/1.1\" 200 -\n"
     ]
    },
    {
     "name": "stdout",
     "output_type": "stream",
     "text": [
      "activity Technology\n",
      "ProfileData for Investor id: 108\n",
      "The length of ProfileData is: (1, 20)\n",
      "Technology\n"
     ]
    },
    {
     "name": "stderr",
     "output_type": "stream",
     "text": [
      "127.0.0.1 - - [10/May/2024 01:09:23] \"POST /predict_tolerance_risk HTTP/1.1\" 200 -\n"
     ]
    },
    {
     "name": "stdout",
     "output_type": "stream",
     "text": [
      "activity Technology\n"
     ]
    },
    {
     "name": "stderr",
     "output_type": "stream",
     "text": [
      "127.0.0.1 - - [10/May/2024 01:17:56] \"OPTIONS /predict_tolerance_risk HTTP/1.1\" 200 -\n"
     ]
    },
    {
     "name": "stdout",
     "output_type": "stream",
     "text": [
      "ProfileData for Investor id: 108\n",
      "The length of ProfileData is: (1, 20)\n",
      "Technology\n"
     ]
    },
    {
     "name": "stderr",
     "output_type": "stream",
     "text": [
      "127.0.0.1 - - [10/May/2024 01:18:02] \"POST /predict_tolerance_risk HTTP/1.1\" 200 -\n"
     ]
    },
    {
     "name": "stdout",
     "output_type": "stream",
     "text": [
      "activity Technology\n",
      "ProfileData for Investor id: 108\n",
      "The length of ProfileData is: (1, 20)\n",
      "Technology\n"
     ]
    },
    {
     "name": "stderr",
     "output_type": "stream",
     "text": [
      "127.0.0.1 - - [10/May/2024 01:18:55] \"POST /predict_tolerance_risk HTTP/1.1\" 200 -\n"
     ]
    },
    {
     "name": "stdout",
     "output_type": "stream",
     "text": [
      "activity Technology\n",
      "ProfileData for Investor id: 108\n",
      "The length of ProfileData is: (1, 20)\n",
      "Technology\n"
     ]
    },
    {
     "name": "stderr",
     "output_type": "stream",
     "text": [
      "127.0.0.1 - - [10/May/2024 01:19:00] \"POST /predict_tolerance_risk HTTP/1.1\" 200 -\n"
     ]
    },
    {
     "name": "stdout",
     "output_type": "stream",
     "text": [
      "activity Technology\n"
     ]
    },
    {
     "name": "stderr",
     "output_type": "stream",
     "text": [
      "127.0.0.1 - - [10/May/2024 01:19:14] \"OPTIONS /predict_tolerance_risk HTTP/1.1\" 200 -\n"
     ]
    },
    {
     "name": "stdout",
     "output_type": "stream",
     "text": [
      "ProfileData for Investor id: 108\n",
      "The length of ProfileData is: (1, 20)\n",
      "Technology\n"
     ]
    },
    {
     "name": "stderr",
     "output_type": "stream",
     "text": [
      "127.0.0.1 - - [10/May/2024 01:19:21] \"POST /predict_tolerance_risk HTTP/1.1\" 200 -\n"
     ]
    },
    {
     "name": "stdout",
     "output_type": "stream",
     "text": [
      "activity Technology\n",
      "ProfileData for Investor id: 108\n",
      "The length of ProfileData is: (1, 20)\n",
      "Technology\n"
     ]
    },
    {
     "name": "stderr",
     "output_type": "stream",
     "text": [
      "127.0.0.1 - - [10/May/2024 01:20:19] \"POST /predict_tolerance_risk HTTP/1.1\" 200 -\n"
     ]
    },
    {
     "name": "stdout",
     "output_type": "stream",
     "text": [
      "activity Technology\n",
      "ProfileData for Investor id: 108\n",
      "The length of ProfileData is: (1, 20)\n",
      "Technology\n"
     ]
    },
    {
     "name": "stderr",
     "output_type": "stream",
     "text": [
      "127.0.0.1 - - [10/May/2024 01:20:23] \"POST /predict_tolerance_risk HTTP/1.1\" 200 -\n"
     ]
    },
    {
     "name": "stdout",
     "output_type": "stream",
     "text": [
      "activity Technology\n"
     ]
    },
    {
     "name": "stderr",
     "output_type": "stream",
     "text": [
      "127.0.0.1 - - [10/May/2024 10:21:15] \"OPTIONS /predict_tolerance_risk HTTP/1.1\" 200 -\n"
     ]
    },
    {
     "name": "stdout",
     "output_type": "stream",
     "text": [
      "ProfileData for Investor id: 108\n",
      "The length of ProfileData is: (1, 20)\n",
      "Technology\n"
     ]
    },
    {
     "name": "stderr",
     "output_type": "stream",
     "text": [
      "127.0.0.1 - - [10/May/2024 10:21:17] \"POST /predict_tolerance_risk HTTP/1.1\" 200 -\n"
     ]
    },
    {
     "name": "stdout",
     "output_type": "stream",
     "text": [
      "activity Technology\n",
      "ProfileData for Investor id: 108\n",
      "The length of ProfileData is: (1, 20)\n",
      "Technology\n"
     ]
    },
    {
     "name": "stderr",
     "output_type": "stream",
     "text": [
      "127.0.0.1 - - [10/May/2024 10:21:48] \"POST /predict_tolerance_risk HTTP/1.1\" 200 -\n"
     ]
    },
    {
     "name": "stdout",
     "output_type": "stream",
     "text": [
      "activity Technology\n",
      "ProfileData for Investor id: 108\n",
      "The length of ProfileData is: (1, 20)\n",
      "Technology\n"
     ]
    },
    {
     "name": "stderr",
     "output_type": "stream",
     "text": [
      "127.0.0.1 - - [10/May/2024 10:21:51] \"POST /predict_tolerance_risk HTTP/1.1\" 200 -\n"
     ]
    },
    {
     "name": "stdout",
     "output_type": "stream",
     "text": [
      "activity Technology\n"
     ]
    },
    {
     "name": "stderr",
     "output_type": "stream",
     "text": [
      "127.0.0.1 - - [10/May/2024 10:26:07] \"OPTIONS /predict_tolerance_risk HTTP/1.1\" 200 -\n"
     ]
    },
    {
     "name": "stdout",
     "output_type": "stream",
     "text": [
      "ProfileData for Investor id: 108\n",
      "The length of ProfileData is: (1, 20)\n",
      "Technology\n"
     ]
    },
    {
     "name": "stderr",
     "output_type": "stream",
     "text": [
      "127.0.0.1 - - [10/May/2024 10:26:09] \"POST /predict_tolerance_risk HTTP/1.1\" 200 -\n"
     ]
    },
    {
     "name": "stdout",
     "output_type": "stream",
     "text": [
      "activity Technology\n",
      "ProfileData for Investor id: 108\n",
      "The length of ProfileData is: (1, 20)\n",
      "Technology\n"
     ]
    },
    {
     "name": "stderr",
     "output_type": "stream",
     "text": [
      "127.0.0.1 - - [10/May/2024 10:26:54] \"POST /predict_tolerance_risk HTTP/1.1\" 200 -\n"
     ]
    },
    {
     "name": "stdout",
     "output_type": "stream",
     "text": [
      "activity Technology\n",
      "ProfileData for Investor id: 108\n",
      "The length of ProfileData is: (1, 20)\n",
      "Technology\n"
     ]
    },
    {
     "name": "stderr",
     "output_type": "stream",
     "text": [
      "127.0.0.1 - - [10/May/2024 10:26:58] \"POST /predict_tolerance_risk HTTP/1.1\" 200 -\n"
     ]
    },
    {
     "name": "stdout",
     "output_type": "stream",
     "text": [
      "activity Technology\n"
     ]
    },
    {
     "name": "stderr",
     "output_type": "stream",
     "text": [
      "127.0.0.1 - - [10/May/2024 10:48:46] \"OPTIONS /predict_tolerance_risk HTTP/1.1\" 200 -\n"
     ]
    },
    {
     "name": "stdout",
     "output_type": "stream",
     "text": [
      "ProfileData for Investor id: 108\n",
      "The length of ProfileData is: (1, 20)\n",
      "Technology\n"
     ]
    },
    {
     "name": "stderr",
     "output_type": "stream",
     "text": [
      "127.0.0.1 - - [10/May/2024 10:48:48] \"POST /predict_tolerance_risk HTTP/1.1\" 200 -\n"
     ]
    },
    {
     "name": "stdout",
     "output_type": "stream",
     "text": [
      "activity Technology\n",
      "ProfileData for Investor id: 108\n",
      "The length of ProfileData is: (1, 20)\n",
      "Technology\n"
     ]
    },
    {
     "name": "stderr",
     "output_type": "stream",
     "text": [
      "127.0.0.1 - - [10/May/2024 10:49:36] \"POST /predict_tolerance_risk HTTP/1.1\" 200 -\n"
     ]
    },
    {
     "name": "stdout",
     "output_type": "stream",
     "text": [
      "activity Technology\n",
      "ProfileData for Investor id: 108\n",
      "The length of ProfileData is: (1, 20)\n",
      "Technology\n"
     ]
    },
    {
     "name": "stderr",
     "output_type": "stream",
     "text": [
      "127.0.0.1 - - [10/May/2024 10:49:40] \"POST /predict_tolerance_risk HTTP/1.1\" 200 -\n"
     ]
    },
    {
     "name": "stdout",
     "output_type": "stream",
     "text": [
      "activity Technology\n"
     ]
    },
    {
     "name": "stderr",
     "output_type": "stream",
     "text": [
      "127.0.0.1 - - [10/May/2024 10:54:24] \"OPTIONS /predict_tolerance_risk HTTP/1.1\" 200 -\n"
     ]
    },
    {
     "name": "stdout",
     "output_type": "stream",
     "text": [
      "ProfileData for Investor id: 108\n",
      "The length of ProfileData is: (1, 20)\n",
      "Technology\n"
     ]
    },
    {
     "name": "stderr",
     "output_type": "stream",
     "text": [
      "127.0.0.1 - - [10/May/2024 10:54:26] \"POST /predict_tolerance_risk HTTP/1.1\" 200 -\n"
     ]
    },
    {
     "name": "stdout",
     "output_type": "stream",
     "text": [
      "activity Technology\n",
      "ProfileData for Investor id: 108\n",
      "The length of ProfileData is: (1, 20)\n",
      "Technology\n"
     ]
    },
    {
     "name": "stderr",
     "output_type": "stream",
     "text": [
      "127.0.0.1 - - [10/May/2024 10:55:01] \"POST /predict_tolerance_risk HTTP/1.1\" 200 -\n"
     ]
    },
    {
     "name": "stdout",
     "output_type": "stream",
     "text": [
      "activity Technology\n",
      "ProfileData for Investor id: 108\n",
      "The length of ProfileData is: (1, 20)\n",
      "Technology\n"
     ]
    },
    {
     "name": "stderr",
     "output_type": "stream",
     "text": [
      "127.0.0.1 - - [10/May/2024 10:55:05] \"POST /predict_tolerance_risk HTTP/1.1\" 200 -\n"
     ]
    },
    {
     "name": "stdout",
     "output_type": "stream",
     "text": [
      "activity Technology\n"
     ]
    },
    {
     "name": "stderr",
     "output_type": "stream",
     "text": [
      "127.0.0.1 - - [10/May/2024 10:57:45] \"OPTIONS /predict_tolerance_risk HTTP/1.1\" 200 -\n"
     ]
    },
    {
     "name": "stdout",
     "output_type": "stream",
     "text": [
      "ProfileData for Investor id: 108\n",
      "The length of ProfileData is: (1, 20)\n",
      "Technology\n"
     ]
    },
    {
     "name": "stderr",
     "output_type": "stream",
     "text": [
      "127.0.0.1 - - [10/May/2024 10:57:48] \"POST /predict_tolerance_risk HTTP/1.1\" 200 -\n"
     ]
    },
    {
     "name": "stdout",
     "output_type": "stream",
     "text": [
      "activity Technology\n",
      "ProfileData for Investor id: 108\n",
      "The length of ProfileData is: (1, 20)\n",
      "Technology\n"
     ]
    },
    {
     "name": "stderr",
     "output_type": "stream",
     "text": [
      "127.0.0.1 - - [10/May/2024 10:58:20] \"POST /predict_tolerance_risk HTTP/1.1\" 200 -\n"
     ]
    },
    {
     "name": "stdout",
     "output_type": "stream",
     "text": [
      "activity Technology\n",
      "ProfileData for Investor id: 108\n",
      "The length of ProfileData is: (1, 20)\n",
      "Technology\n"
     ]
    },
    {
     "name": "stderr",
     "output_type": "stream",
     "text": [
      "127.0.0.1 - - [10/May/2024 10:58:24] \"POST /predict_tolerance_risk HTTP/1.1\" 200 -\n"
     ]
    },
    {
     "name": "stdout",
     "output_type": "stream",
     "text": [
      "activity Technology\n"
     ]
    },
    {
     "name": "stderr",
     "output_type": "stream",
     "text": [
      "127.0.0.1 - - [10/May/2024 11:08:58] \"OPTIONS /predict_tolerance_risk HTTP/1.1\" 200 -\n"
     ]
    },
    {
     "name": "stdout",
     "output_type": "stream",
     "text": [
      "ProfileData for Investor id: 108\n",
      "The length of ProfileData is: (1, 20)\n",
      "Technology\n"
     ]
    },
    {
     "name": "stderr",
     "output_type": "stream",
     "text": [
      "127.0.0.1 - - [10/May/2024 11:09:01] \"POST /predict_tolerance_risk HTTP/1.1\" 200 -\n"
     ]
    },
    {
     "name": "stdout",
     "output_type": "stream",
     "text": [
      "activity Technology\n",
      "ProfileData for Investor id: 108\n",
      "The length of ProfileData is: (1, 20)\n",
      "Technology\n"
     ]
    },
    {
     "name": "stderr",
     "output_type": "stream",
     "text": [
      "127.0.0.1 - - [10/May/2024 11:09:38] \"POST /predict_tolerance_risk HTTP/1.1\" 200 -\n"
     ]
    },
    {
     "name": "stdout",
     "output_type": "stream",
     "text": [
      "activity Technology\n",
      "ProfileData for Investor id: 108\n",
      "The length of ProfileData is: (1, 20)\n",
      "Technology\n"
     ]
    },
    {
     "name": "stderr",
     "output_type": "stream",
     "text": [
      "127.0.0.1 - - [10/May/2024 11:09:41] \"POST /predict_tolerance_risk HTTP/1.1\" 200 -\n"
     ]
    },
    {
     "name": "stdout",
     "output_type": "stream",
     "text": [
      "activity Technology\n"
     ]
    },
    {
     "name": "stderr",
     "output_type": "stream",
     "text": [
      "127.0.0.1 - - [10/May/2024 11:22:14] \"OPTIONS /predict_tolerance_risk HTTP/1.1\" 200 -\n"
     ]
    },
    {
     "name": "stdout",
     "output_type": "stream",
     "text": [
      "ProfileData for Investor id: 108\n",
      "The length of ProfileData is: (1, 20)\n",
      "Technology\n"
     ]
    },
    {
     "name": "stderr",
     "output_type": "stream",
     "text": [
      "127.0.0.1 - - [10/May/2024 11:22:17] \"POST /predict_tolerance_risk HTTP/1.1\" 200 -\n"
     ]
    },
    {
     "name": "stdout",
     "output_type": "stream",
     "text": [
      "activity Technology\n",
      "ProfileData for Investor id: 108\n",
      "The length of ProfileData is: (1, 20)\n",
      "Technology\n"
     ]
    },
    {
     "name": "stderr",
     "output_type": "stream",
     "text": [
      "127.0.0.1 - - [10/May/2024 11:22:54] \"POST /predict_tolerance_risk HTTP/1.1\" 200 -\n"
     ]
    },
    {
     "name": "stdout",
     "output_type": "stream",
     "text": [
      "activity Technology\n",
      "ProfileData for Investor id: 108\n",
      "The length of ProfileData is: (1, 20)\n",
      "Technology\n"
     ]
    },
    {
     "name": "stderr",
     "output_type": "stream",
     "text": [
      "127.0.0.1 - - [10/May/2024 11:22:58] \"POST /predict_tolerance_risk HTTP/1.1\" 200 -\n"
     ]
    },
    {
     "name": "stdout",
     "output_type": "stream",
     "text": [
      "activity Technology\n"
     ]
    },
    {
     "name": "stderr",
     "output_type": "stream",
     "text": [
      "127.0.0.1 - - [10/May/2024 11:23:21] \"OPTIONS /predict_tolerance_risk HTTP/1.1\" 200 -\n"
     ]
    },
    {
     "name": "stdout",
     "output_type": "stream",
     "text": [
      "ProfileData for Investor id: 108\n",
      "The length of ProfileData is: (1, 20)\n",
      "Technology\n"
     ]
    },
    {
     "name": "stderr",
     "output_type": "stream",
     "text": [
      "127.0.0.1 - - [10/May/2024 11:23:24] \"POST /predict_tolerance_risk HTTP/1.1\" 200 -\n"
     ]
    },
    {
     "name": "stdout",
     "output_type": "stream",
     "text": [
      "activity Technology\n",
      "ProfileData for Investor id: 108\n",
      "The length of ProfileData is: (1, 20)\n",
      "Technology\n"
     ]
    },
    {
     "name": "stderr",
     "output_type": "stream",
     "text": [
      "127.0.0.1 - - [10/May/2024 11:24:00] \"POST /predict_tolerance_risk HTTP/1.1\" 200 -\n"
     ]
    },
    {
     "name": "stdout",
     "output_type": "stream",
     "text": [
      "activity Technology\n",
      "ProfileData for Investor id: 108\n",
      "The length of ProfileData is: (1, 20)\n",
      "Technology\n"
     ]
    },
    {
     "name": "stderr",
     "output_type": "stream",
     "text": [
      "127.0.0.1 - - [10/May/2024 11:24:04] \"POST /predict_tolerance_risk HTTP/1.1\" 200 -\n"
     ]
    },
    {
     "name": "stdout",
     "output_type": "stream",
     "text": [
      "activity Technology\n"
     ]
    },
    {
     "name": "stderr",
     "output_type": "stream",
     "text": [
      "127.0.0.1 - - [10/May/2024 11:34:16] \"OPTIONS /predict_tolerance_risk HTTP/1.1\" 200 -\n"
     ]
    },
    {
     "name": "stdout",
     "output_type": "stream",
     "text": [
      "ProfileData for Investor id: 108\n",
      "The length of ProfileData is: (1, 20)\n",
      "Technology\n"
     ]
    },
    {
     "name": "stderr",
     "output_type": "stream",
     "text": [
      "127.0.0.1 - - [10/May/2024 11:34:19] \"POST /predict_tolerance_risk HTTP/1.1\" 200 -\n"
     ]
    },
    {
     "name": "stdout",
     "output_type": "stream",
     "text": [
      "activity Technology\n",
      "ProfileData for Investor id: 108\n",
      "The length of ProfileData is: (1, 20)\n",
      "Technology\n"
     ]
    },
    {
     "name": "stderr",
     "output_type": "stream",
     "text": [
      "127.0.0.1 - - [10/May/2024 11:34:54] \"POST /predict_tolerance_risk HTTP/1.1\" 200 -\n"
     ]
    },
    {
     "name": "stdout",
     "output_type": "stream",
     "text": [
      "activity Technology\n",
      "ProfileData for Investor id: 108\n",
      "The length of ProfileData is: (1, 20)\n",
      "Technology\n"
     ]
    },
    {
     "name": "stderr",
     "output_type": "stream",
     "text": [
      "127.0.0.1 - - [10/May/2024 11:34:58] \"POST /predict_tolerance_risk HTTP/1.1\" 200 -\n"
     ]
    },
    {
     "name": "stdout",
     "output_type": "stream",
     "text": [
      "activity Technology\n"
     ]
    },
    {
     "name": "stderr",
     "output_type": "stream",
     "text": [
      "127.0.0.1 - - [10/May/2024 11:42:45] \"OPTIONS /predict_tolerance_risk HTTP/1.1\" 200 -\n"
     ]
    },
    {
     "name": "stdout",
     "output_type": "stream",
     "text": [
      "ProfileData for Investor id: 108\n",
      "The length of ProfileData is: (1, 20)\n",
      "Technology\n"
     ]
    },
    {
     "name": "stderr",
     "output_type": "stream",
     "text": [
      "127.0.0.1 - - [10/May/2024 11:42:48] \"POST /predict_tolerance_risk HTTP/1.1\" 200 -\n"
     ]
    },
    {
     "name": "stdout",
     "output_type": "stream",
     "text": [
      "activity Technology\n",
      "ProfileData for Investor id: 108\n",
      "The length of ProfileData is: (1, 20)\n",
      "Technology\n"
     ]
    },
    {
     "name": "stderr",
     "output_type": "stream",
     "text": [
      "127.0.0.1 - - [10/May/2024 11:43:22] \"POST /predict_tolerance_risk HTTP/1.1\" 200 -\n"
     ]
    },
    {
     "name": "stdout",
     "output_type": "stream",
     "text": [
      "activity Technology\n",
      "ProfileData for Investor id: 108\n",
      "The length of ProfileData is: (1, 20)\n",
      "Technology\n"
     ]
    },
    {
     "name": "stderr",
     "output_type": "stream",
     "text": [
      "127.0.0.1 - - [10/May/2024 11:43:26] \"POST /predict_tolerance_risk HTTP/1.1\" 200 -\n"
     ]
    },
    {
     "name": "stdout",
     "output_type": "stream",
     "text": [
      "activity Technology\n"
     ]
    },
    {
     "name": "stderr",
     "output_type": "stream",
     "text": [
      "127.0.0.1 - - [10/May/2024 12:00:32] \"OPTIONS /predict_tolerance_risk HTTP/1.1\" 200 -\n"
     ]
    },
    {
     "name": "stdout",
     "output_type": "stream",
     "text": [
      "ProfileData for Investor id: 108\n",
      "The length of ProfileData is: (1, 20)\n",
      "Technology\n"
     ]
    },
    {
     "name": "stderr",
     "output_type": "stream",
     "text": [
      "127.0.0.1 - - [10/May/2024 12:00:35] \"POST /predict_tolerance_risk HTTP/1.1\" 200 -\n"
     ]
    },
    {
     "name": "stdout",
     "output_type": "stream",
     "text": [
      "activity Technology\n",
      "ProfileData for Investor id: 108\n",
      "The length of ProfileData is: (1, 20)\n",
      "Technology\n"
     ]
    },
    {
     "name": "stderr",
     "output_type": "stream",
     "text": [
      "127.0.0.1 - - [10/May/2024 12:01:11] \"POST /predict_tolerance_risk HTTP/1.1\" 200 -\n"
     ]
    },
    {
     "name": "stdout",
     "output_type": "stream",
     "text": [
      "activity Technology\n",
      "ProfileData for Investor id: 108\n",
      "The length of ProfileData is: (1, 20)\n",
      "Technology\n"
     ]
    },
    {
     "name": "stderr",
     "output_type": "stream",
     "text": [
      "127.0.0.1 - - [10/May/2024 12:01:15] \"POST /predict_tolerance_risk HTTP/1.1\" 200 -\n"
     ]
    },
    {
     "name": "stdout",
     "output_type": "stream",
     "text": [
      "activity Technology\n"
     ]
    },
    {
     "name": "stderr",
     "output_type": "stream",
     "text": [
      "127.0.0.1 - - [10/May/2024 12:03:12] \"OPTIONS /predict_tolerance_risk HTTP/1.1\" 200 -\n"
     ]
    },
    {
     "name": "stdout",
     "output_type": "stream",
     "text": [
      "ProfileData for Investor id: 108\n",
      "The length of ProfileData is: (1, 20)\n",
      "Technology\n"
     ]
    },
    {
     "name": "stderr",
     "output_type": "stream",
     "text": [
      "127.0.0.1 - - [10/May/2024 12:03:14] \"POST /predict_tolerance_risk HTTP/1.1\" 200 -\n"
     ]
    },
    {
     "name": "stdout",
     "output_type": "stream",
     "text": [
      "activity Technology\n",
      "ProfileData for Investor id: 108\n",
      "The length of ProfileData is: (1, 20)\n",
      "Technology\n"
     ]
    },
    {
     "name": "stderr",
     "output_type": "stream",
     "text": [
      "127.0.0.1 - - [10/May/2024 12:03:52] \"POST /predict_tolerance_risk HTTP/1.1\" 200 -\n"
     ]
    },
    {
     "name": "stdout",
     "output_type": "stream",
     "text": [
      "activity Technology\n",
      "ProfileData for Investor id: 108\n",
      "The length of ProfileData is: (1, 20)\n",
      "Technology\n"
     ]
    },
    {
     "name": "stderr",
     "output_type": "stream",
     "text": [
      "127.0.0.1 - - [10/May/2024 12:03:56] \"POST /predict_tolerance_risk HTTP/1.1\" 200 -\n"
     ]
    },
    {
     "name": "stdout",
     "output_type": "stream",
     "text": [
      "activity Technology\n"
     ]
    },
    {
     "name": "stderr",
     "output_type": "stream",
     "text": [
      "127.0.0.1 - - [10/May/2024 12:37:36] \"OPTIONS /predict_tolerance_risk HTTP/1.1\" 200 -\n"
     ]
    },
    {
     "name": "stdout",
     "output_type": "stream",
     "text": [
      "ProfileData for Investor id: 108\n",
      "The length of ProfileData is: (1, 20)\n",
      "Technology\n"
     ]
    },
    {
     "name": "stderr",
     "output_type": "stream",
     "text": [
      "127.0.0.1 - - [10/May/2024 12:37:39] \"POST /predict_tolerance_risk HTTP/1.1\" 200 -\n"
     ]
    },
    {
     "name": "stdout",
     "output_type": "stream",
     "text": [
      "activity Technology\n",
      "ProfileData for Investor id: 108\n",
      "The length of ProfileData is: (1, 20)\n",
      "Technology\n"
     ]
    },
    {
     "name": "stderr",
     "output_type": "stream",
     "text": [
      "127.0.0.1 - - [10/May/2024 12:38:16] \"POST /predict_tolerance_risk HTTP/1.1\" 200 -\n"
     ]
    },
    {
     "name": "stdout",
     "output_type": "stream",
     "text": [
      "activity Technology\n",
      "ProfileData for Investor id: 108\n",
      "The length of ProfileData is: (1, 20)\n",
      "Technology\n"
     ]
    },
    {
     "name": "stderr",
     "output_type": "stream",
     "text": [
      "127.0.0.1 - - [10/May/2024 12:38:20] \"POST /predict_tolerance_risk HTTP/1.1\" 200 -\n"
     ]
    },
    {
     "name": "stdout",
     "output_type": "stream",
     "text": [
      "activity Technology\n"
     ]
    },
    {
     "name": "stderr",
     "output_type": "stream",
     "text": [
      "127.0.0.1 - - [10/May/2024 13:00:50] \"OPTIONS /predict_tolerance_risk HTTP/1.1\" 200 -\n"
     ]
    },
    {
     "name": "stdout",
     "output_type": "stream",
     "text": [
      "ProfileData for Investor id: 108\n",
      "The length of ProfileData is: (1, 20)\n",
      "Technology\n"
     ]
    },
    {
     "name": "stderr",
     "output_type": "stream",
     "text": [
      "127.0.0.1 - - [10/May/2024 13:00:52] \"POST /predict_tolerance_risk HTTP/1.1\" 200 -\n"
     ]
    },
    {
     "name": "stdout",
     "output_type": "stream",
     "text": [
      "activity Technology\n",
      "ProfileData for Investor id: 108\n",
      "The length of ProfileData is: (1, 20)\n",
      "Technology\n"
     ]
    },
    {
     "name": "stderr",
     "output_type": "stream",
     "text": [
      "127.0.0.1 - - [10/May/2024 13:01:27] \"POST /predict_tolerance_risk HTTP/1.1\" 200 -\n"
     ]
    },
    {
     "name": "stdout",
     "output_type": "stream",
     "text": [
      "activity Technology\n",
      "ProfileData for Investor id: 108\n",
      "The length of ProfileData is: (1, 20)\n",
      "Technology\n"
     ]
    },
    {
     "name": "stderr",
     "output_type": "stream",
     "text": [
      "127.0.0.1 - - [10/May/2024 13:01:31] \"POST /predict_tolerance_risk HTTP/1.1\" 200 -\n"
     ]
    },
    {
     "name": "stdout",
     "output_type": "stream",
     "text": [
      "activity Technology\n"
     ]
    },
    {
     "name": "stderr",
     "output_type": "stream",
     "text": [
      "127.0.0.1 - - [10/May/2024 13:07:19] \"OPTIONS /predict_tolerance_risk HTTP/1.1\" 200 -\n"
     ]
    },
    {
     "name": "stdout",
     "output_type": "stream",
     "text": [
      "ProfileData for Investor id: 108\n",
      "The length of ProfileData is: (1, 20)\n",
      "Technology\n"
     ]
    },
    {
     "name": "stderr",
     "output_type": "stream",
     "text": [
      "127.0.0.1 - - [10/May/2024 13:07:22] \"POST /predict_tolerance_risk HTTP/1.1\" 200 -\n"
     ]
    },
    {
     "name": "stdout",
     "output_type": "stream",
     "text": [
      "activity Technology\n",
      "ProfileData for Investor id: 108\n",
      "The length of ProfileData is: (1, 20)\n",
      "Technology\n"
     ]
    },
    {
     "name": "stderr",
     "output_type": "stream",
     "text": [
      "127.0.0.1 - - [10/May/2024 13:07:55] \"POST /predict_tolerance_risk HTTP/1.1\" 200 -\n"
     ]
    },
    {
     "name": "stdout",
     "output_type": "stream",
     "text": [
      "activity Technology\n",
      "ProfileData for Investor id: 108\n",
      "The length of ProfileData is: (1, 20)\n",
      "Technology\n"
     ]
    },
    {
     "name": "stderr",
     "output_type": "stream",
     "text": [
      "127.0.0.1 - - [10/May/2024 13:07:59] \"POST /predict_tolerance_risk HTTP/1.1\" 200 -\n"
     ]
    },
    {
     "name": "stdout",
     "output_type": "stream",
     "text": [
      "activity Technology\n"
     ]
    },
    {
     "name": "stderr",
     "output_type": "stream",
     "text": [
      "127.0.0.1 - - [10/May/2024 13:08:54] \"OPTIONS /predict_tolerance_risk HTTP/1.1\" 200 -\n"
     ]
    },
    {
     "name": "stdout",
     "output_type": "stream",
     "text": [
      "ProfileData for Investor id: 108\n",
      "The length of ProfileData is: (1, 20)\n",
      "Technology\n"
     ]
    },
    {
     "name": "stderr",
     "output_type": "stream",
     "text": [
      "127.0.0.1 - - [10/May/2024 13:08:56] \"POST /predict_tolerance_risk HTTP/1.1\" 200 -\n"
     ]
    },
    {
     "name": "stdout",
     "output_type": "stream",
     "text": [
      "activity Technology\n",
      "ProfileData for Investor id: 108\n",
      "The length of ProfileData is: (1, 20)\n",
      "Technology\n"
     ]
    },
    {
     "name": "stderr",
     "output_type": "stream",
     "text": [
      "127.0.0.1 - - [10/May/2024 13:09:31] \"POST /predict_tolerance_risk HTTP/1.1\" 200 -\n"
     ]
    },
    {
     "name": "stdout",
     "output_type": "stream",
     "text": [
      "activity Technology\n",
      "ProfileData for Investor id: 108\n",
      "The length of ProfileData is: (1, 20)\n",
      "Technology\n"
     ]
    },
    {
     "name": "stderr",
     "output_type": "stream",
     "text": [
      "127.0.0.1 - - [10/May/2024 13:09:34] \"POST /predict_tolerance_risk HTTP/1.1\" 200 -\n"
     ]
    },
    {
     "name": "stdout",
     "output_type": "stream",
     "text": [
      "activity Technology\n"
     ]
    },
    {
     "name": "stderr",
     "output_type": "stream",
     "text": [
      "127.0.0.1 - - [10/May/2024 13:15:03] \"OPTIONS /predict_tolerance_risk HTTP/1.1\" 200 -\n"
     ]
    },
    {
     "name": "stdout",
     "output_type": "stream",
     "text": [
      "ProfileData for Investor id: 108\n",
      "The length of ProfileData is: (1, 20)\n",
      "Technology\n"
     ]
    },
    {
     "name": "stderr",
     "output_type": "stream",
     "text": [
      "127.0.0.1 - - [10/May/2024 13:15:05] \"POST /predict_tolerance_risk HTTP/1.1\" 200 -\n"
     ]
    },
    {
     "name": "stdout",
     "output_type": "stream",
     "text": [
      "activity Technology\n",
      "ProfileData for Investor id: 108\n",
      "The length of ProfileData is: (1, 20)\n",
      "Technology\n"
     ]
    },
    {
     "name": "stderr",
     "output_type": "stream",
     "text": [
      "127.0.0.1 - - [10/May/2024 13:15:50] \"POST /predict_tolerance_risk HTTP/1.1\" 200 -\n"
     ]
    },
    {
     "name": "stdout",
     "output_type": "stream",
     "text": [
      "activity Technology\n",
      "ProfileData for Investor id: 108\n",
      "The length of ProfileData is: (1, 20)\n",
      "Technology\n"
     ]
    },
    {
     "name": "stderr",
     "output_type": "stream",
     "text": [
      "127.0.0.1 - - [10/May/2024 13:15:54] \"POST /predict_tolerance_risk HTTP/1.1\" 200 -\n"
     ]
    },
    {
     "name": "stdout",
     "output_type": "stream",
     "text": [
      "activity Technology\n"
     ]
    },
    {
     "name": "stderr",
     "output_type": "stream",
     "text": [
      "127.0.0.1 - - [10/May/2024 13:17:39] \"OPTIONS /predict_tolerance_risk HTTP/1.1\" 200 -\n"
     ]
    },
    {
     "name": "stdout",
     "output_type": "stream",
     "text": [
      "ProfileData for Investor id: 108\n",
      "The length of ProfileData is: (1, 20)\n",
      "Technology\n"
     ]
    },
    {
     "name": "stderr",
     "output_type": "stream",
     "text": [
      "127.0.0.1 - - [10/May/2024 13:17:41] \"POST /predict_tolerance_risk HTTP/1.1\" 200 -\n"
     ]
    },
    {
     "name": "stdout",
     "output_type": "stream",
     "text": [
      "activity Technology\n",
      "ProfileData for Investor id: 108\n",
      "The length of ProfileData is: (1, 20)\n",
      "Technology\n"
     ]
    },
    {
     "name": "stderr",
     "output_type": "stream",
     "text": [
      "127.0.0.1 - - [10/May/2024 13:18:21] \"POST /predict_tolerance_risk HTTP/1.1\" 200 -\n"
     ]
    },
    {
     "name": "stdout",
     "output_type": "stream",
     "text": [
      "activity Technology\n",
      "ProfileData for Investor id: 108\n",
      "The length of ProfileData is: (1, 20)\n",
      "Technology\n"
     ]
    },
    {
     "name": "stderr",
     "output_type": "stream",
     "text": [
      "127.0.0.1 - - [10/May/2024 13:18:25] \"POST /predict_tolerance_risk HTTP/1.1\" 200 -\n"
     ]
    },
    {
     "name": "stdout",
     "output_type": "stream",
     "text": [
      "activity Technology\n"
     ]
    },
    {
     "name": "stderr",
     "output_type": "stream",
     "text": [
      "127.0.0.1 - - [10/May/2024 13:22:32] \"OPTIONS /predict_tolerance_risk HTTP/1.1\" 200 -\n"
     ]
    },
    {
     "name": "stdout",
     "output_type": "stream",
     "text": [
      "ProfileData for Investor id: 108\n",
      "The length of ProfileData is: (1, 20)\n",
      "Technology\n"
     ]
    },
    {
     "name": "stderr",
     "output_type": "stream",
     "text": [
      "127.0.0.1 - - [10/May/2024 13:22:35] \"POST /predict_tolerance_risk HTTP/1.1\" 200 -\n"
     ]
    },
    {
     "name": "stdout",
     "output_type": "stream",
     "text": [
      "activity Technology\n"
     ]
    },
    {
     "name": "stderr",
     "output_type": "stream",
     "text": [
      "127.0.0.1 - - [10/May/2024 13:23:08] \"OPTIONS /predict_tolerance_risk HTTP/1.1\" 200 -\n"
     ]
    },
    {
     "name": "stdout",
     "output_type": "stream",
     "text": [
      "ProfileData for Investor id: 108\n",
      "The length of ProfileData is: (1, 20)\n",
      "Technology\n"
     ]
    },
    {
     "name": "stderr",
     "output_type": "stream",
     "text": [
      "127.0.0.1 - - [10/May/2024 13:23:11] \"POST /predict_tolerance_risk HTTP/1.1\" 200 -\n"
     ]
    },
    {
     "name": "stdout",
     "output_type": "stream",
     "text": [
      "activity Technology\n",
      "ProfileData for Investor id: 108\n",
      "The length of ProfileData is: (1, 20)\n",
      "Technology\n"
     ]
    },
    {
     "name": "stderr",
     "output_type": "stream",
     "text": [
      "127.0.0.1 - - [10/May/2024 13:23:17] \"POST /predict_tolerance_risk HTTP/1.1\" 200 -\n"
     ]
    },
    {
     "name": "stdout",
     "output_type": "stream",
     "text": [
      "activity Technology\n",
      "ProfileData for Investor id: 108\n",
      "The length of ProfileData is: (1, 20)\n",
      "Technology\n"
     ]
    },
    {
     "name": "stderr",
     "output_type": "stream",
     "text": [
      "127.0.0.1 - - [10/May/2024 13:23:23] \"POST /predict_tolerance_risk HTTP/1.1\" 200 -\n"
     ]
    },
    {
     "name": "stdout",
     "output_type": "stream",
     "text": [
      "activity Technology\n",
      "ProfileData for Investor id: 108\n",
      "The length of ProfileData is: (1, 20)\n",
      "Technology\n"
     ]
    },
    {
     "name": "stderr",
     "output_type": "stream",
     "text": [
      "127.0.0.1 - - [10/May/2024 13:24:00] \"POST /predict_tolerance_risk HTTP/1.1\" 200 -\n"
     ]
    },
    {
     "name": "stdout",
     "output_type": "stream",
     "text": [
      "activity Technology\n",
      "ProfileData for Investor id: 108\n",
      "The length of ProfileData is: (1, 20)\n",
      "Technology\n"
     ]
    },
    {
     "name": "stderr",
     "output_type": "stream",
     "text": [
      "127.0.0.1 - - [10/May/2024 13:24:04] \"POST /predict_tolerance_risk HTTP/1.1\" 200 -\n"
     ]
    },
    {
     "name": "stdout",
     "output_type": "stream",
     "text": [
      "activity Technology\n"
     ]
    },
    {
     "name": "stderr",
     "output_type": "stream",
     "text": [
      "127.0.0.1 - - [10/May/2024 13:26:45] \"OPTIONS /predict_tolerance_risk HTTP/1.1\" 200 -\n"
     ]
    },
    {
     "name": "stdout",
     "output_type": "stream",
     "text": [
      "ProfileData for Investor id: 108\n",
      "The length of ProfileData is: (1, 20)\n",
      "Technology\n"
     ]
    },
    {
     "name": "stderr",
     "output_type": "stream",
     "text": [
      "127.0.0.1 - - [10/May/2024 13:26:47] \"POST /predict_tolerance_risk HTTP/1.1\" 200 -\n"
     ]
    },
    {
     "name": "stdout",
     "output_type": "stream",
     "text": [
      "activity Technology\n",
      "ProfileData for Investor id: 108\n",
      "The length of ProfileData is: (1, 20)\n",
      "Technology\n"
     ]
    },
    {
     "name": "stderr",
     "output_type": "stream",
     "text": [
      "127.0.0.1 - - [10/May/2024 13:27:25] \"POST /predict_tolerance_risk HTTP/1.1\" 200 -\n"
     ]
    },
    {
     "name": "stdout",
     "output_type": "stream",
     "text": [
      "activity Technology\n",
      "ProfileData for Investor id: 108\n",
      "The length of ProfileData is: (1, 20)\n",
      "Technology\n"
     ]
    },
    {
     "name": "stderr",
     "output_type": "stream",
     "text": [
      "127.0.0.1 - - [10/May/2024 13:27:29] \"POST /predict_tolerance_risk HTTP/1.1\" 200 -\n"
     ]
    },
    {
     "name": "stdout",
     "output_type": "stream",
     "text": [
      "activity Technology\n"
     ]
    },
    {
     "name": "stderr",
     "output_type": "stream",
     "text": [
      "127.0.0.1 - - [10/May/2024 13:28:44] \"OPTIONS /predict_tolerance_risk HTTP/1.1\" 200 -\n"
     ]
    },
    {
     "name": "stdout",
     "output_type": "stream",
     "text": [
      "ProfileData for Investor id: 108\n",
      "The length of ProfileData is: (1, 20)\n",
      "Technology\n"
     ]
    },
    {
     "name": "stderr",
     "output_type": "stream",
     "text": [
      "127.0.0.1 - - [10/May/2024 13:28:47] \"POST /predict_tolerance_risk HTTP/1.1\" 200 -\n"
     ]
    },
    {
     "name": "stdout",
     "output_type": "stream",
     "text": [
      "activity Technology\n",
      "ProfileData for Investor id: 108\n",
      "The length of ProfileData is: (1, 20)\n",
      "Technology\n"
     ]
    },
    {
     "name": "stderr",
     "output_type": "stream",
     "text": [
      "127.0.0.1 - - [10/May/2024 14:40:27] \"POST /predict_tolerance_risk HTTP/1.1\" 200 -\n"
     ]
    },
    {
     "name": "stdout",
     "output_type": "stream",
     "text": [
      "activity Technology\n",
      "ProfileData for Investor id: 108\n",
      "The length of ProfileData is: (1, 20)\n",
      "Technology\n"
     ]
    },
    {
     "name": "stderr",
     "output_type": "stream",
     "text": [
      "127.0.0.1 - - [10/May/2024 14:40:31] \"POST /predict_tolerance_risk HTTP/1.1\" 200 -\n"
     ]
    },
    {
     "name": "stdout",
     "output_type": "stream",
     "text": [
      "activity Technology\n"
     ]
    },
    {
     "name": "stderr",
     "output_type": "stream",
     "text": [
      "127.0.0.1 - - [10/May/2024 14:41:59] \"OPTIONS /predict_tolerance_risk HTTP/1.1\" 200 -\n"
     ]
    },
    {
     "name": "stdout",
     "output_type": "stream",
     "text": [
      "ProfileData for Investor id: 108\n",
      "The length of ProfileData is: (1, 20)\n",
      "Technology\n"
     ]
    },
    {
     "name": "stderr",
     "output_type": "stream",
     "text": [
      "127.0.0.1 - - [10/May/2024 14:42:01] \"POST /predict_tolerance_risk HTTP/1.1\" 200 -\n"
     ]
    },
    {
     "name": "stdout",
     "output_type": "stream",
     "text": [
      "activity Technology\n",
      "ProfileData for Investor id: 108\n",
      "The length of ProfileData is: (1, 20)\n",
      "Technology\n"
     ]
    },
    {
     "name": "stderr",
     "output_type": "stream",
     "text": [
      "127.0.0.1 - - [10/May/2024 14:42:31] \"POST /predict_tolerance_risk HTTP/1.1\" 200 -\n"
     ]
    },
    {
     "name": "stdout",
     "output_type": "stream",
     "text": [
      "activity Technology\n",
      "ProfileData for Investor id: 108\n",
      "The length of ProfileData is: (1, 20)\n",
      "Technology\n"
     ]
    },
    {
     "name": "stderr",
     "output_type": "stream",
     "text": [
      "127.0.0.1 - - [10/May/2024 14:42:35] \"POST /predict_tolerance_risk HTTP/1.1\" 200 -\n"
     ]
    },
    {
     "name": "stdout",
     "output_type": "stream",
     "text": [
      "activity Technology\n"
     ]
    },
    {
     "name": "stderr",
     "output_type": "stream",
     "text": [
      "127.0.0.1 - - [10/May/2024 14:43:41] \"OPTIONS /predict_tolerance_risk HTTP/1.1\" 200 -\n"
     ]
    },
    {
     "name": "stdout",
     "output_type": "stream",
     "text": [
      "ProfileData for Investor id: 108\n",
      "The length of ProfileData is: (1, 20)\n",
      "Technology\n"
     ]
    },
    {
     "name": "stderr",
     "output_type": "stream",
     "text": [
      "127.0.0.1 - - [10/May/2024 14:43:43] \"POST /predict_tolerance_risk HTTP/1.1\" 200 -\n"
     ]
    },
    {
     "name": "stdout",
     "output_type": "stream",
     "text": [
      "activity Technology\n",
      "ProfileData for Investor id: 108\n",
      "The length of ProfileData is: (1, 20)\n",
      "Technology\n"
     ]
    },
    {
     "name": "stderr",
     "output_type": "stream",
     "text": [
      "127.0.0.1 - - [10/May/2024 14:44:17] \"POST /predict_tolerance_risk HTTP/1.1\" 200 -\n"
     ]
    },
    {
     "name": "stdout",
     "output_type": "stream",
     "text": [
      "activity Technology\n",
      "ProfileData for Investor id: 108\n",
      "The length of ProfileData is: (1, 20)\n",
      "Technology\n"
     ]
    },
    {
     "name": "stderr",
     "output_type": "stream",
     "text": [
      "127.0.0.1 - - [10/May/2024 14:44:21] \"POST /predict_tolerance_risk HTTP/1.1\" 200 -\n"
     ]
    },
    {
     "name": "stdout",
     "output_type": "stream",
     "text": [
      "activity Technology\n"
     ]
    },
    {
     "name": "stderr",
     "output_type": "stream",
     "text": [
      "127.0.0.1 - - [10/May/2024 14:44:23] \"OPTIONS /predict_tolerance_risk HTTP/1.1\" 200 -\n"
     ]
    },
    {
     "name": "stdout",
     "output_type": "stream",
     "text": [
      "ProfileData for Investor id: 108\n",
      "The length of ProfileData is: (1, 20)\n",
      "Technology\n"
     ]
    },
    {
     "name": "stderr",
     "output_type": "stream",
     "text": [
      "127.0.0.1 - - [10/May/2024 14:44:25] \"POST /predict_tolerance_risk HTTP/1.1\" 200 -\n"
     ]
    },
    {
     "name": "stdout",
     "output_type": "stream",
     "text": [
      "activity Technology\n",
      "ProfileData for Investor id: 108\n",
      "The length of ProfileData is: (1, 20)\n",
      "Technology\n"
     ]
    },
    {
     "name": "stderr",
     "output_type": "stream",
     "text": [
      "127.0.0.1 - - [10/May/2024 14:45:03] \"POST /predict_tolerance_risk HTTP/1.1\" 200 -\n"
     ]
    },
    {
     "name": "stdout",
     "output_type": "stream",
     "text": [
      "activity Technology\n",
      "ProfileData for Investor id: 108\n",
      "The length of ProfileData is: (1, 20)\n",
      "Technology\n"
     ]
    },
    {
     "name": "stderr",
     "output_type": "stream",
     "text": [
      "127.0.0.1 - - [10/May/2024 14:45:06] \"POST /predict_tolerance_risk HTTP/1.1\" 200 -\n"
     ]
    },
    {
     "name": "stdout",
     "output_type": "stream",
     "text": [
      "activity Technology\n"
     ]
    },
    {
     "name": "stderr",
     "output_type": "stream",
     "text": [
      "127.0.0.1 - - [10/May/2024 14:49:14] \"OPTIONS /predict_tolerance_risk HTTP/1.1\" 200 -\n"
     ]
    },
    {
     "name": "stdout",
     "output_type": "stream",
     "text": [
      "ProfileData for Investor id: 108\n",
      "The length of ProfileData is: (1, 20)\n",
      "Technology\n"
     ]
    },
    {
     "name": "stderr",
     "output_type": "stream",
     "text": [
      "127.0.0.1 - - [10/May/2024 14:49:16] \"POST /predict_tolerance_risk HTTP/1.1\" 200 -\n"
     ]
    },
    {
     "name": "stdout",
     "output_type": "stream",
     "text": [
      "activity Technology\n",
      "ProfileData for Investor id: 108\n",
      "The length of ProfileData is: (1, 20)\n",
      "Technology\n"
     ]
    },
    {
     "name": "stderr",
     "output_type": "stream",
     "text": [
      "127.0.0.1 - - [10/May/2024 14:49:54] \"POST /predict_tolerance_risk HTTP/1.1\" 200 -\n"
     ]
    },
    {
     "name": "stdout",
     "output_type": "stream",
     "text": [
      "activity Technology\n",
      "ProfileData for Investor id: 108\n",
      "The length of ProfileData is: (1, 20)\n",
      "Technology\n"
     ]
    },
    {
     "name": "stderr",
     "output_type": "stream",
     "text": [
      "127.0.0.1 - - [10/May/2024 14:49:58] \"POST /predict_tolerance_risk HTTP/1.1\" 200 -\n"
     ]
    },
    {
     "name": "stdout",
     "output_type": "stream",
     "text": [
      "activity Technology\n"
     ]
    },
    {
     "name": "stderr",
     "output_type": "stream",
     "text": [
      "127.0.0.1 - - [10/May/2024 14:50:37] \"OPTIONS /predict_tolerance_risk HTTP/1.1\" 200 -\n"
     ]
    },
    {
     "name": "stdout",
     "output_type": "stream",
     "text": [
      "ProfileData for Investor id: 108\n",
      "The length of ProfileData is: (1, 20)\n",
      "Technology\n"
     ]
    },
    {
     "name": "stderr",
     "output_type": "stream",
     "text": [
      "127.0.0.1 - - [10/May/2024 14:50:40] \"POST /predict_tolerance_risk HTTP/1.1\" 200 -\n"
     ]
    },
    {
     "name": "stdout",
     "output_type": "stream",
     "text": [
      "activity Technology\n"
     ]
    },
    {
     "name": "stderr",
     "output_type": "stream",
     "text": [
      "127.0.0.1 - - [10/May/2024 14:50:58] \"OPTIONS /predict_tolerance_risk HTTP/1.1\" 200 -\n"
     ]
    },
    {
     "name": "stdout",
     "output_type": "stream",
     "text": [
      "ProfileData for Investor id: 108\n",
      "The length of ProfileData is: (1, 20)\n",
      "Technology\n"
     ]
    },
    {
     "name": "stderr",
     "output_type": "stream",
     "text": [
      "127.0.0.1 - - [10/May/2024 14:51:01] \"POST /predict_tolerance_risk HTTP/1.1\" 200 -\n"
     ]
    },
    {
     "name": "stdout",
     "output_type": "stream",
     "text": [
      "activity Technology\n",
      "ProfileData for Investor id: 108\n",
      "The length of ProfileData is: (1, 20)\n",
      "Technology\n"
     ]
    },
    {
     "name": "stderr",
     "output_type": "stream",
     "text": [
      "127.0.0.1 - - [10/May/2024 14:51:31] \"POST /predict_tolerance_risk HTTP/1.1\" 200 -\n"
     ]
    },
    {
     "name": "stdout",
     "output_type": "stream",
     "text": [
      "activity Technology\n",
      "ProfileData for Investor id: 108\n",
      "The length of ProfileData is: (1, 20)\n",
      "Technology\n"
     ]
    },
    {
     "name": "stderr",
     "output_type": "stream",
     "text": [
      "127.0.0.1 - - [10/May/2024 14:51:37] \"POST /predict_tolerance_risk HTTP/1.1\" 200 -\n"
     ]
    },
    {
     "name": "stdout",
     "output_type": "stream",
     "text": [
      "activity Technology\n"
     ]
    },
    {
     "name": "stderr",
     "output_type": "stream",
     "text": [
      "127.0.0.1 - - [10/May/2024 14:51:49] \"OPTIONS /predict_tolerance_risk HTTP/1.1\" 200 -\n"
     ]
    },
    {
     "name": "stdout",
     "output_type": "stream",
     "text": [
      "ProfileData for Investor id: 108\n",
      "The length of ProfileData is: (1, 20)\n",
      "Technology\n",
      "ProfileData for Investor id: 108\n",
      "The length of ProfileData is: (1, 20)\n",
      "Technology\n"
     ]
    },
    {
     "name": "stderr",
     "output_type": "stream",
     "text": [
      "127.0.0.1 - - [10/May/2024 14:51:52] \"POST /predict_tolerance_risk HTTP/1.1\" 200 -\n",
      "127.0.0.1 - - [10/May/2024 14:51:52] \"POST /predict_tolerance_risk HTTP/1.1\" 200 -\n"
     ]
    },
    {
     "name": "stdout",
     "output_type": "stream",
     "text": [
      "activity Technology\n",
      "activity Technology\n",
      "ProfileData for Investor id: 108\n",
      "The length of ProfileData is: (1, 20)\n",
      "Technology\n"
     ]
    },
    {
     "name": "stderr",
     "output_type": "stream",
     "text": [
      "127.0.0.1 - - [10/May/2024 14:51:57] \"POST /predict_tolerance_risk HTTP/1.1\" 200 -\n"
     ]
    },
    {
     "name": "stdout",
     "output_type": "stream",
     "text": [
      "activity Technology\n"
     ]
    },
    {
     "name": "stderr",
     "output_type": "stream",
     "text": [
      "127.0.0.1 - - [10/May/2024 14:52:28] \"OPTIONS /predict_tolerance_risk HTTP/1.1\" 200 -\n"
     ]
    },
    {
     "name": "stdout",
     "output_type": "stream",
     "text": [
      "ProfileData for Investor id: 108\n",
      "The length of ProfileData is: (1, 20)\n",
      "Technology\n",
      "ProfileData for Investor id: 108\n",
      "The length of ProfileData is: (1, 20)\n",
      "Technology\n"
     ]
    },
    {
     "name": "stderr",
     "output_type": "stream",
     "text": [
      "127.0.0.1 - - [10/May/2024 14:52:31] \"POST /predict_tolerance_risk HTTP/1.1\" 200 -\n"
     ]
    },
    {
     "name": "stdout",
     "output_type": "stream",
     "text": [
      "activity Technology\n"
     ]
    },
    {
     "name": "stderr",
     "output_type": "stream",
     "text": [
      "127.0.0.1 - - [10/May/2024 14:52:32] \"POST /predict_tolerance_risk HTTP/1.1\" 200 -\n"
     ]
    },
    {
     "name": "stdout",
     "output_type": "stream",
     "text": [
      "activity Technology\n",
      "ProfileData for Investor id: 108\n",
      "The length of ProfileData is: (1, 20)\n",
      "Technology\n"
     ]
    },
    {
     "name": "stderr",
     "output_type": "stream",
     "text": [
      "127.0.0.1 - - [10/May/2024 14:52:38] \"POST /predict_tolerance_risk HTTP/1.1\" 200 -\n"
     ]
    },
    {
     "name": "stdout",
     "output_type": "stream",
     "text": [
      "activity Technology\n",
      "ProfileData for Investor id: 108\n",
      "The length of ProfileData is: (1, 20)\n",
      "Technology\n"
     ]
    },
    {
     "name": "stderr",
     "output_type": "stream",
     "text": [
      "127.0.0.1 - - [10/May/2024 14:53:08] \"POST /predict_tolerance_risk HTTP/1.1\" 200 -\n"
     ]
    },
    {
     "name": "stdout",
     "output_type": "stream",
     "text": [
      "activity Technology\n",
      "ProfileData for Investor id: 108\n",
      "The length of ProfileData is: (1, 20)\n",
      "Technology\n"
     ]
    },
    {
     "name": "stderr",
     "output_type": "stream",
     "text": [
      "127.0.0.1 - - [10/May/2024 14:53:12] \"POST /predict_tolerance_risk HTTP/1.1\" 200 -\n"
     ]
    },
    {
     "name": "stdout",
     "output_type": "stream",
     "text": [
      "activity Technology\n"
     ]
    },
    {
     "name": "stderr",
     "output_type": "stream",
     "text": [
      "127.0.0.1 - - [10/May/2024 14:53:42] \"OPTIONS /predict_tolerance_risk HTTP/1.1\" 200 -\n"
     ]
    },
    {
     "name": "stdout",
     "output_type": "stream",
     "text": [
      "ProfileData for Investor id: 108\n",
      "The length of ProfileData is: (1, 20)\n",
      "Technology\n"
     ]
    },
    {
     "name": "stderr",
     "output_type": "stream",
     "text": [
      "127.0.0.1 - - [10/May/2024 14:53:45] \"POST /predict_tolerance_risk HTTP/1.1\" 200 -\n"
     ]
    },
    {
     "name": "stdout",
     "output_type": "stream",
     "text": [
      "activity Technology\n",
      "ProfileData for Investor id: 108\n",
      "The length of ProfileData is: (1, 20)\n",
      "Technology\n"
     ]
    },
    {
     "name": "stderr",
     "output_type": "stream",
     "text": [
      "127.0.0.1 - - [10/May/2024 14:54:21] \"POST /predict_tolerance_risk HTTP/1.1\" 200 -\n"
     ]
    },
    {
     "name": "stdout",
     "output_type": "stream",
     "text": [
      "activity Technology\n",
      "ProfileData for Investor id: 108\n",
      "The length of ProfileData is: (1, 20)\n",
      "Technology\n"
     ]
    },
    {
     "name": "stderr",
     "output_type": "stream",
     "text": [
      "127.0.0.1 - - [10/May/2024 14:54:25] \"POST /predict_tolerance_risk HTTP/1.1\" 200 -\n"
     ]
    },
    {
     "name": "stdout",
     "output_type": "stream",
     "text": [
      "activity Technology\n"
     ]
    },
    {
     "name": "stderr",
     "output_type": "stream",
     "text": [
      "127.0.0.1 - - [10/May/2024 14:55:10] \"OPTIONS /predict_tolerance_risk HTTP/1.1\" 200 -\n"
     ]
    },
    {
     "name": "stdout",
     "output_type": "stream",
     "text": [
      "ProfileData for Investor id: 108\n",
      "The length of ProfileData is: (1, 20)\n",
      "Technology\n"
     ]
    },
    {
     "name": "stderr",
     "output_type": "stream",
     "text": [
      "127.0.0.1 - - [10/May/2024 14:55:13] \"POST /predict_tolerance_risk HTTP/1.1\" 200 -\n"
     ]
    },
    {
     "name": "stdout",
     "output_type": "stream",
     "text": [
      "activity Technology\n",
      "ProfileData for Investor id: 108\n",
      "The length of ProfileData is: (1, 20)\n",
      "Technology\n"
     ]
    },
    {
     "name": "stderr",
     "output_type": "stream",
     "text": [
      "127.0.0.1 - - [10/May/2024 14:55:54] \"POST /predict_tolerance_risk HTTP/1.1\" 200 -\n"
     ]
    },
    {
     "name": "stdout",
     "output_type": "stream",
     "text": [
      "activity Technology\n",
      "ProfileData for Investor id: 108\n",
      "The length of ProfileData is: (1, 20)\n",
      "Technology\n"
     ]
    },
    {
     "name": "stderr",
     "output_type": "stream",
     "text": [
      "127.0.0.1 - - [10/May/2024 14:55:58] \"POST /predict_tolerance_risk HTTP/1.1\" 200 -\n"
     ]
    },
    {
     "name": "stdout",
     "output_type": "stream",
     "text": [
      "activity Technology\n"
     ]
    },
    {
     "name": "stderr",
     "output_type": "stream",
     "text": [
      "127.0.0.1 - - [10/May/2024 14:56:01] \"OPTIONS /predict_tolerance_risk HTTP/1.1\" 200 -\n"
     ]
    },
    {
     "name": "stdout",
     "output_type": "stream",
     "text": [
      "ProfileData for Investor id: 108\n",
      "The length of ProfileData is: (1, 20)\n",
      "Technology\n"
     ]
    },
    {
     "name": "stderr",
     "output_type": "stream",
     "text": [
      "127.0.0.1 - - [10/May/2024 14:56:04] \"POST /predict_tolerance_risk HTTP/1.1\" 200 -\n"
     ]
    },
    {
     "name": "stdout",
     "output_type": "stream",
     "text": [
      "activity Technology\n"
     ]
    },
    {
     "name": "stderr",
     "output_type": "stream",
     "text": [
      "127.0.0.1 - - [10/May/2024 14:56:36] \"OPTIONS /predict_tolerance_risk HTTP/1.1\" 200 -\n"
     ]
    },
    {
     "name": "stdout",
     "output_type": "stream",
     "text": [
      "ProfileData for Investor id: 108\n",
      "The length of ProfileData is: (1, 20)\n",
      "Technology\n"
     ]
    },
    {
     "name": "stderr",
     "output_type": "stream",
     "text": [
      "127.0.0.1 - - [10/May/2024 14:56:40] \"POST /predict_tolerance_risk HTTP/1.1\" 200 -\n"
     ]
    },
    {
     "name": "stdout",
     "output_type": "stream",
     "text": [
      "activity Technology\n",
      "ProfileData for Investor id: 108\n",
      "The length of ProfileData is: (1, 20)\n",
      "Technology\n"
     ]
    },
    {
     "name": "stderr",
     "output_type": "stream",
     "text": [
      "127.0.0.1 - - [10/May/2024 14:56:52] \"POST /predict_tolerance_risk HTTP/1.1\" 200 -\n"
     ]
    },
    {
     "name": "stdout",
     "output_type": "stream",
     "text": [
      "activity Technology\n",
      "ProfileData for Investor id: 108\n",
      "The length of ProfileData is: (1, 20)\n",
      "Technology\n"
     ]
    },
    {
     "name": "stderr",
     "output_type": "stream",
     "text": [
      "127.0.0.1 - - [10/May/2024 14:56:58] \"POST /predict_tolerance_risk HTTP/1.1\" 200 -\n"
     ]
    },
    {
     "name": "stdout",
     "output_type": "stream",
     "text": [
      "activity Technology\n",
      "ProfileData for Investor id: 108\n",
      "The length of ProfileData is: (1, 20)\n",
      "Technology\n"
     ]
    },
    {
     "name": "stderr",
     "output_type": "stream",
     "text": [
      "127.0.0.1 - - [10/May/2024 14:57:45] \"POST /predict_tolerance_risk HTTP/1.1\" 200 -\n"
     ]
    },
    {
     "name": "stdout",
     "output_type": "stream",
     "text": [
      "activity Technology\n",
      "ProfileData for Investor id: 108\n",
      "The length of ProfileData is: (1, 20)\n",
      "Technology\n"
     ]
    },
    {
     "name": "stderr",
     "output_type": "stream",
     "text": [
      "127.0.0.1 - - [10/May/2024 14:57:48] \"POST /predict_tolerance_risk HTTP/1.1\" 200 -\n"
     ]
    },
    {
     "name": "stdout",
     "output_type": "stream",
     "text": [
      "activity Technology\n"
     ]
    },
    {
     "name": "stderr",
     "output_type": "stream",
     "text": [
      "127.0.0.1 - - [10/May/2024 15:15:44] \"OPTIONS /predict_tolerance_risk HTTP/1.1\" 200 -\n"
     ]
    },
    {
     "name": "stdout",
     "output_type": "stream",
     "text": [
      "ProfileData for Investor id: 108\n",
      "The length of ProfileData is: (1, 20)\n",
      "Technology\n"
     ]
    },
    {
     "name": "stderr",
     "output_type": "stream",
     "text": [
      "127.0.0.1 - - [10/May/2024 15:15:46] \"POST /predict_tolerance_risk HTTP/1.1\" 200 -\n"
     ]
    },
    {
     "name": "stdout",
     "output_type": "stream",
     "text": [
      "activity Technology\n"
     ]
    },
    {
     "name": "stderr",
     "output_type": "stream",
     "text": [
      "127.0.0.1 - - [10/May/2024 15:15:54] \"OPTIONS /predict_tolerance_risk HTTP/1.1\" 200 -\n"
     ]
    },
    {
     "name": "stdout",
     "output_type": "stream",
     "text": [
      "ProfileData for Investor id: 108\n",
      "The length of ProfileData is: (1, 20)\n",
      "Technology\n"
     ]
    },
    {
     "name": "stderr",
     "output_type": "stream",
     "text": [
      "127.0.0.1 - - [10/May/2024 15:15:56] \"POST /predict_tolerance_risk HTTP/1.1\" 200 -\n"
     ]
    },
    {
     "name": "stdout",
     "output_type": "stream",
     "text": [
      "activity Technology\n",
      "ProfileData for Investor id: 108\n",
      "The length of ProfileData is: (1, 20)\n",
      "Technology\n"
     ]
    },
    {
     "name": "stderr",
     "output_type": "stream",
     "text": [
      "127.0.0.1 - - [10/May/2024 15:16:37] \"POST /predict_tolerance_risk HTTP/1.1\" 200 -\n"
     ]
    },
    {
     "name": "stdout",
     "output_type": "stream",
     "text": [
      "activity Technology\n",
      "ProfileData for Investor id: 108\n",
      "The length of ProfileData is: (1, 20)\n",
      "Technology\n"
     ]
    },
    {
     "name": "stderr",
     "output_type": "stream",
     "text": [
      "127.0.0.1 - - [10/May/2024 15:16:43] \"POST /predict_tolerance_risk HTTP/1.1\" 200 -\n"
     ]
    },
    {
     "name": "stdout",
     "output_type": "stream",
     "text": [
      "activity Technology\n",
      "ProfileData for Investor id: 108\n",
      "The length of ProfileData is: (1, 20)\n",
      "Technology\n"
     ]
    },
    {
     "name": "stderr",
     "output_type": "stream",
     "text": [
      "127.0.0.1 - - [10/May/2024 15:16:48] \"POST /predict_tolerance_risk HTTP/1.1\" 200 -\n"
     ]
    },
    {
     "name": "stdout",
     "output_type": "stream",
     "text": [
      "activity Technology\n",
      "ProfileData for Investor id: 108\n",
      "The length of ProfileData is: (1, 20)\n",
      "Technology\n"
     ]
    },
    {
     "name": "stderr",
     "output_type": "stream",
     "text": [
      "127.0.0.1 - - [10/May/2024 15:16:52] \"POST /predict_tolerance_risk HTTP/1.1\" 200 -\n"
     ]
    },
    {
     "name": "stdout",
     "output_type": "stream",
     "text": [
      "activity Technology\n"
     ]
    },
    {
     "name": "stderr",
     "output_type": "stream",
     "text": [
      "127.0.0.1 - - [10/May/2024 15:35:47] \"OPTIONS /predict_tolerance_risk HTTP/1.1\" 200 -\n"
     ]
    },
    {
     "name": "stdout",
     "output_type": "stream",
     "text": [
      "ProfileData for Investor id: 108\n",
      "The length of ProfileData is: (1, 20)\n",
      "Technology\n"
     ]
    },
    {
     "name": "stderr",
     "output_type": "stream",
     "text": [
      "127.0.0.1 - - [10/May/2024 15:35:49] \"POST /predict_tolerance_risk HTTP/1.1\" 200 -\n"
     ]
    },
    {
     "name": "stdout",
     "output_type": "stream",
     "text": [
      "activity Technology\n",
      "ProfileData for Investor id: 108\n",
      "The length of ProfileData is: (1, 20)\n",
      "Technology\n"
     ]
    },
    {
     "name": "stderr",
     "output_type": "stream",
     "text": [
      "127.0.0.1 - - [10/May/2024 15:36:22] \"POST /predict_tolerance_risk HTTP/1.1\" 200 -\n"
     ]
    },
    {
     "name": "stdout",
     "output_type": "stream",
     "text": [
      "activity Technology\n",
      "ProfileData for Investor id: 108\n",
      "The length of ProfileData is: (1, 20)\n",
      "Technology\n"
     ]
    },
    {
     "name": "stderr",
     "output_type": "stream",
     "text": [
      "127.0.0.1 - - [10/May/2024 15:36:25] \"POST /predict_tolerance_risk HTTP/1.1\" 200 -\n"
     ]
    },
    {
     "name": "stdout",
     "output_type": "stream",
     "text": [
      "activity Technology\n"
     ]
    },
    {
     "name": "stderr",
     "output_type": "stream",
     "text": [
      "127.0.0.1 - - [10/May/2024 15:38:33] \"OPTIONS /predict_tolerance_risk HTTP/1.1\" 200 -\n"
     ]
    },
    {
     "name": "stdout",
     "output_type": "stream",
     "text": [
      "ProfileData for Investor id: 108\n",
      "The length of ProfileData is: (1, 20)\n",
      "Technology\n"
     ]
    },
    {
     "name": "stderr",
     "output_type": "stream",
     "text": [
      "127.0.0.1 - - [10/May/2024 15:38:35] \"POST /predict_tolerance_risk HTTP/1.1\" 200 -\n"
     ]
    },
    {
     "name": "stdout",
     "output_type": "stream",
     "text": [
      "activity Technology\n",
      "ProfileData for Investor id: 108\n",
      "The length of ProfileData is: (1, 20)\n",
      "Technology\n"
     ]
    },
    {
     "name": "stderr",
     "output_type": "stream",
     "text": [
      "127.0.0.1 - - [10/May/2024 15:39:07] \"POST /predict_tolerance_risk HTTP/1.1\" 200 -\n"
     ]
    },
    {
     "name": "stdout",
     "output_type": "stream",
     "text": [
      "activity Technology\n",
      "ProfileData for Investor id: 108\n",
      "The length of ProfileData is: (1, 20)\n",
      "Technology\n"
     ]
    },
    {
     "name": "stderr",
     "output_type": "stream",
     "text": [
      "127.0.0.1 - - [10/May/2024 15:39:11] \"POST /predict_tolerance_risk HTTP/1.1\" 200 -\n"
     ]
    },
    {
     "name": "stdout",
     "output_type": "stream",
     "text": [
      "activity Technology\n"
     ]
    },
    {
     "name": "stderr",
     "output_type": "stream",
     "text": [
      "127.0.0.1 - - [10/May/2024 15:40:51] \"OPTIONS /predict_tolerance_risk HTTP/1.1\" 200 -\n"
     ]
    },
    {
     "name": "stdout",
     "output_type": "stream",
     "text": [
      "ProfileData for Investor id: 108\n",
      "The length of ProfileData is: (1, 20)\n",
      "Technology\n"
     ]
    },
    {
     "name": "stderr",
     "output_type": "stream",
     "text": [
      "127.0.0.1 - - [10/May/2024 15:40:53] \"POST /predict_tolerance_risk HTTP/1.1\" 200 -\n"
     ]
    },
    {
     "name": "stdout",
     "output_type": "stream",
     "text": [
      "activity Technology\n"
     ]
    },
    {
     "name": "stderr",
     "output_type": "stream",
     "text": [
      "127.0.0.1 - - [10/May/2024 15:41:21] \"OPTIONS /predict_tolerance_risk HTTP/1.1\" 200 -\n"
     ]
    },
    {
     "name": "stdout",
     "output_type": "stream",
     "text": [
      "ProfileData for Investor id: 108\n",
      "The length of ProfileData is: (1, 20)\n",
      "Technology\n"
     ]
    },
    {
     "name": "stderr",
     "output_type": "stream",
     "text": [
      "127.0.0.1 - - [10/May/2024 15:41:24] \"POST /predict_tolerance_risk HTTP/1.1\" 200 -\n"
     ]
    },
    {
     "name": "stdout",
     "output_type": "stream",
     "text": [
      "activity Technology\n",
      "ProfileData for Investor id: 108\n",
      "The length of ProfileData is: (1, 20)\n",
      "Technology\n"
     ]
    },
    {
     "name": "stderr",
     "output_type": "stream",
     "text": [
      "127.0.0.1 - - [10/May/2024 15:41:31] \"POST /predict_tolerance_risk HTTP/1.1\" 200 -\n"
     ]
    },
    {
     "name": "stdout",
     "output_type": "stream",
     "text": [
      "activity Technology\n",
      "ProfileData for Investor id: 108\n",
      "The length of ProfileData is: (1, 20)\n",
      "Technology\n"
     ]
    },
    {
     "name": "stderr",
     "output_type": "stream",
     "text": [
      "127.0.0.1 - - [10/May/2024 15:41:37] \"POST /predict_tolerance_risk HTTP/1.1\" 200 -\n"
     ]
    },
    {
     "name": "stdout",
     "output_type": "stream",
     "text": [
      "activity Technology\n",
      "ProfileData for Investor id: 108\n",
      "The length of ProfileData is: (1, 20)\n",
      "Technology\n"
     ]
    },
    {
     "name": "stderr",
     "output_type": "stream",
     "text": [
      "127.0.0.1 - - [10/May/2024 15:42:02] \"POST /predict_tolerance_risk HTTP/1.1\" 200 -\n"
     ]
    },
    {
     "name": "stdout",
     "output_type": "stream",
     "text": [
      "activity Technology\n",
      "ProfileData for Investor id: 108\n",
      "The length of ProfileData is: (1, 20)\n",
      "Technology\n"
     ]
    },
    {
     "name": "stderr",
     "output_type": "stream",
     "text": [
      "127.0.0.1 - - [10/May/2024 15:42:06] \"POST /predict_tolerance_risk HTTP/1.1\" 200 -\n"
     ]
    },
    {
     "name": "stdout",
     "output_type": "stream",
     "text": [
      "activity Technology\n"
     ]
    },
    {
     "name": "stderr",
     "output_type": "stream",
     "text": [
      "127.0.0.1 - - [10/May/2024 17:25:16] \"OPTIONS /predict_tolerance_risk HTTP/1.1\" 200 -\n"
     ]
    },
    {
     "name": "stdout",
     "output_type": "stream",
     "text": [
      "ProfileData for Investor id: 108\n",
      "The length of ProfileData is: (1, 20)\n",
      "Technology\n"
     ]
    },
    {
     "name": "stderr",
     "output_type": "stream",
     "text": [
      "127.0.0.1 - - [10/May/2024 17:25:19] \"POST /predict_tolerance_risk HTTP/1.1\" 200 -\n"
     ]
    },
    {
     "name": "stdout",
     "output_type": "stream",
     "text": [
      "activity Technology\n",
      "ProfileData for Investor id: 108\n",
      "The length of ProfileData is: (1, 20)\n",
      "Technology\n"
     ]
    },
    {
     "name": "stderr",
     "output_type": "stream",
     "text": [
      "127.0.0.1 - - [10/May/2024 17:26:09] \"POST /predict_tolerance_risk HTTP/1.1\" 200 -\n"
     ]
    },
    {
     "name": "stdout",
     "output_type": "stream",
     "text": [
      "activity Technology\n",
      "ProfileData for Investor id: 108\n",
      "The length of ProfileData is: (1, 20)\n",
      "Technology\n"
     ]
    },
    {
     "name": "stderr",
     "output_type": "stream",
     "text": [
      "127.0.0.1 - - [10/May/2024 17:26:14] \"POST /predict_tolerance_risk HTTP/1.1\" 200 -\n"
     ]
    },
    {
     "name": "stdout",
     "output_type": "stream",
     "text": [
      "activity Technology\n"
     ]
    },
    {
     "name": "stderr",
     "output_type": "stream",
     "text": [
      "127.0.0.1 - - [10/May/2024 17:35:27] \"OPTIONS /predict_tolerance_risk HTTP/1.1\" 200 -\n"
     ]
    },
    {
     "name": "stdout",
     "output_type": "stream",
     "text": [
      "ProfileData for Investor id: 108\n",
      "The length of ProfileData is: (1, 20)\n",
      "Technology\n"
     ]
    },
    {
     "name": "stderr",
     "output_type": "stream",
     "text": [
      "127.0.0.1 - - [10/May/2024 17:35:30] \"POST /predict_tolerance_risk HTTP/1.1\" 200 -\n"
     ]
    },
    {
     "name": "stdout",
     "output_type": "stream",
     "text": [
      "activity Technology\n",
      "ProfileData for Investor id: 108\n",
      "The length of ProfileData is: (1, 20)\n",
      "Technology\n"
     ]
    },
    {
     "name": "stderr",
     "output_type": "stream",
     "text": [
      "127.0.0.1 - - [10/May/2024 17:36:05] \"POST /predict_tolerance_risk HTTP/1.1\" 200 -\n"
     ]
    },
    {
     "name": "stdout",
     "output_type": "stream",
     "text": [
      "activity Technology\n",
      "ProfileData for Investor id: 108\n",
      "The length of ProfileData is: (1, 20)\n",
      "Technology\n"
     ]
    },
    {
     "name": "stderr",
     "output_type": "stream",
     "text": [
      "127.0.0.1 - - [10/May/2024 17:36:10] \"POST /predict_tolerance_risk HTTP/1.1\" 200 -\n"
     ]
    },
    {
     "name": "stdout",
     "output_type": "stream",
     "text": [
      "activity Technology\n"
     ]
    },
    {
     "name": "stderr",
     "output_type": "stream",
     "text": [
      "127.0.0.1 - - [10/May/2024 17:39:39] \"OPTIONS /predict_tolerance_risk HTTP/1.1\" 200 -\n"
     ]
    },
    {
     "name": "stdout",
     "output_type": "stream",
     "text": [
      "ProfileData for Investor id: 108\n",
      "The length of ProfileData is: (1, 20)\n",
      "Technology\n"
     ]
    },
    {
     "name": "stderr",
     "output_type": "stream",
     "text": [
      "127.0.0.1 - - [10/May/2024 17:39:42] \"POST /predict_tolerance_risk HTTP/1.1\" 200 -\n"
     ]
    },
    {
     "name": "stdout",
     "output_type": "stream",
     "text": [
      "activity Technology\n",
      "ProfileData for Investor id: 108\n",
      "The length of ProfileData is: (1, 20)\n",
      "Technology\n"
     ]
    },
    {
     "name": "stderr",
     "output_type": "stream",
     "text": [
      "127.0.0.1 - - [10/May/2024 17:40:18] \"POST /predict_tolerance_risk HTTP/1.1\" 200 -\n"
     ]
    },
    {
     "name": "stdout",
     "output_type": "stream",
     "text": [
      "activity Technology\n",
      "ProfileData for Investor id: 108\n",
      "The length of ProfileData is: (1, 20)\n",
      "Technology\n"
     ]
    },
    {
     "name": "stderr",
     "output_type": "stream",
     "text": [
      "127.0.0.1 - - [10/May/2024 17:40:22] \"POST /predict_tolerance_risk HTTP/1.1\" 200 -\n"
     ]
    },
    {
     "name": "stdout",
     "output_type": "stream",
     "text": [
      "activity Technology\n"
     ]
    },
    {
     "name": "stderr",
     "output_type": "stream",
     "text": [
      "127.0.0.1 - - [10/May/2024 17:54:17] \"OPTIONS /predict_tolerance_risk HTTP/1.1\" 200 -\n"
     ]
    },
    {
     "name": "stdout",
     "output_type": "stream",
     "text": [
      "ProfileData for Investor id: 108\n",
      "The length of ProfileData is: (1, 20)\n",
      "Technology\n"
     ]
    },
    {
     "name": "stderr",
     "output_type": "stream",
     "text": [
      "127.0.0.1 - - [10/May/2024 17:54:20] \"POST /predict_tolerance_risk HTTP/1.1\" 200 -\n"
     ]
    },
    {
     "name": "stdout",
     "output_type": "stream",
     "text": [
      "activity Technology\n",
      "ProfileData for Investor id: 108\n",
      "The length of ProfileData is: (1, 20)\n",
      "Technology\n"
     ]
    },
    {
     "name": "stderr",
     "output_type": "stream",
     "text": [
      "127.0.0.1 - - [10/May/2024 17:54:56] \"POST /predict_tolerance_risk HTTP/1.1\" 200 -\n"
     ]
    },
    {
     "name": "stdout",
     "output_type": "stream",
     "text": [
      "activity Technology\n",
      "ProfileData for Investor id: 108\n",
      "The length of ProfileData is: (1, 20)\n",
      "Technology\n"
     ]
    },
    {
     "name": "stderr",
     "output_type": "stream",
     "text": [
      "127.0.0.1 - - [10/May/2024 17:55:00] \"POST /predict_tolerance_risk HTTP/1.1\" 200 -\n"
     ]
    },
    {
     "name": "stdout",
     "output_type": "stream",
     "text": [
      "activity Technology\n"
     ]
    },
    {
     "name": "stderr",
     "output_type": "stream",
     "text": [
      "127.0.0.1 - - [10/May/2024 17:55:04] \"OPTIONS /predict_tolerance_risk HTTP/1.1\" 200 -\n"
     ]
    },
    {
     "name": "stdout",
     "output_type": "stream",
     "text": [
      "ProfileData for Investor id: 108\n",
      "The length of ProfileData is: (1, 20)\n",
      "Technology\n"
     ]
    },
    {
     "name": "stderr",
     "output_type": "stream",
     "text": [
      "127.0.0.1 - - [10/May/2024 17:55:06] \"POST /predict_tolerance_risk HTTP/1.1\" 200 -\n"
     ]
    },
    {
     "name": "stdout",
     "output_type": "stream",
     "text": [
      "activity Technology\n",
      "ProfileData for Investor id: 108\n",
      "The length of ProfileData is: (1, 20)\n",
      "Technology\n"
     ]
    },
    {
     "name": "stderr",
     "output_type": "stream",
     "text": [
      "127.0.0.1 - - [10/May/2024 17:55:43] \"POST /predict_tolerance_risk HTTP/1.1\" 200 -\n"
     ]
    },
    {
     "name": "stdout",
     "output_type": "stream",
     "text": [
      "activity Technology\n",
      "ProfileData for Investor id: 108\n",
      "The length of ProfileData is: (1, 20)\n",
      "Technology\n"
     ]
    },
    {
     "name": "stderr",
     "output_type": "stream",
     "text": [
      "127.0.0.1 - - [10/May/2024 17:55:47] \"POST /predict_tolerance_risk HTTP/1.1\" 200 -\n"
     ]
    },
    {
     "name": "stdout",
     "output_type": "stream",
     "text": [
      "activity Technology\n"
     ]
    },
    {
     "name": "stderr",
     "output_type": "stream",
     "text": [
      "127.0.0.1 - - [10/May/2024 22:37:38] \"OPTIONS /predict_tolerance_risk HTTP/1.1\" 200 -\n"
     ]
    },
    {
     "name": "stdout",
     "output_type": "stream",
     "text": [
      "ProfileData for Investor id: 108\n",
      "The length of ProfileData is: (1, 20)\n",
      "Technology\n"
     ]
    },
    {
     "name": "stderr",
     "output_type": "stream",
     "text": [
      "127.0.0.1 - - [10/May/2024 22:37:44] \"POST /predict_tolerance_risk HTTP/1.1\" 200 -\n"
     ]
    },
    {
     "name": "stdout",
     "output_type": "stream",
     "text": [
      "activity Technology\n",
      "ProfileData for Investor id: 108\n",
      "The length of ProfileData is: (1, 20)\n",
      "Technology\n"
     ]
    },
    {
     "name": "stderr",
     "output_type": "stream",
     "text": [
      "127.0.0.1 - - [10/May/2024 22:38:46] \"POST /predict_tolerance_risk HTTP/1.1\" 200 -\n"
     ]
    },
    {
     "name": "stdout",
     "output_type": "stream",
     "text": [
      "activity Technology\n",
      "ProfileData for Investor id: 108\n",
      "The length of ProfileData is: (1, 20)\n",
      "Technology\n"
     ]
    },
    {
     "name": "stderr",
     "output_type": "stream",
     "text": [
      "127.0.0.1 - - [10/May/2024 22:38:53] \"POST /predict_tolerance_risk HTTP/1.1\" 200 -\n"
     ]
    },
    {
     "name": "stdout",
     "output_type": "stream",
     "text": [
      "activity Technology\n"
     ]
    },
    {
     "name": "stderr",
     "output_type": "stream",
     "text": [
      "127.0.0.1 - - [10/May/2024 22:43:15] \"OPTIONS /predict_tolerance_risk HTTP/1.1\" 200 -\n"
     ]
    },
    {
     "name": "stdout",
     "output_type": "stream",
     "text": [
      "ProfileData for Investor id: 108\n",
      "The length of ProfileData is: (1, 20)\n",
      "Technology\n"
     ]
    },
    {
     "name": "stderr",
     "output_type": "stream",
     "text": [
      "127.0.0.1 - - [10/May/2024 22:43:19] \"POST /predict_tolerance_risk HTTP/1.1\" 200 -\n"
     ]
    },
    {
     "name": "stdout",
     "output_type": "stream",
     "text": [
      "activity Technology\n",
      "ProfileData for Investor id: 108\n",
      "The length of ProfileData is: (1, 20)\n",
      "Technology\n"
     ]
    },
    {
     "name": "stderr",
     "output_type": "stream",
     "text": [
      "127.0.0.1 - - [10/May/2024 22:44:21] \"POST /predict_tolerance_risk HTTP/1.1\" 200 -\n"
     ]
    },
    {
     "name": "stdout",
     "output_type": "stream",
     "text": [
      "activity Technology\n",
      "ProfileData for Investor id: 108\n",
      "The length of ProfileData is: (1, 20)\n",
      "Technology\n"
     ]
    },
    {
     "name": "stderr",
     "output_type": "stream",
     "text": [
      "127.0.0.1 - - [10/May/2024 22:44:28] \"POST /predict_tolerance_risk HTTP/1.1\" 200 -\n"
     ]
    },
    {
     "name": "stdout",
     "output_type": "stream",
     "text": [
      "activity Technology\n"
     ]
    },
    {
     "name": "stderr",
     "output_type": "stream",
     "text": [
      "127.0.0.1 - - [10/May/2024 22:46:08] \"OPTIONS /predict_tolerance_risk HTTP/1.1\" 200 -\n"
     ]
    },
    {
     "name": "stdout",
     "output_type": "stream",
     "text": [
      "ProfileData for Investor id: 108\n",
      "The length of ProfileData is: (1, 20)\n",
      "Technology\n"
     ]
    },
    {
     "name": "stderr",
     "output_type": "stream",
     "text": [
      "127.0.0.1 - - [10/May/2024 22:46:13] \"POST /predict_tolerance_risk HTTP/1.1\" 200 -\n"
     ]
    },
    {
     "name": "stdout",
     "output_type": "stream",
     "text": [
      "activity Technology\n",
      "ProfileData for Investor id: 108\n",
      "The length of ProfileData is: (1, 20)\n",
      "Technology\n"
     ]
    },
    {
     "name": "stderr",
     "output_type": "stream",
     "text": [
      "127.0.0.1 - - [10/May/2024 22:47:14] \"POST /predict_tolerance_risk HTTP/1.1\" 200 -\n"
     ]
    },
    {
     "name": "stdout",
     "output_type": "stream",
     "text": [
      "activity Technology\n",
      "ProfileData for Investor id: 108\n",
      "The length of ProfileData is: (1, 20)\n",
      "Technology\n"
     ]
    },
    {
     "name": "stderr",
     "output_type": "stream",
     "text": [
      "127.0.0.1 - - [10/May/2024 22:47:22] \"POST /predict_tolerance_risk HTTP/1.1\" 200 -\n"
     ]
    },
    {
     "name": "stdout",
     "output_type": "stream",
     "text": [
      "activity Technology\n"
     ]
    },
    {
     "name": "stderr",
     "output_type": "stream",
     "text": [
      "127.0.0.1 - - [10/May/2024 22:48:25] \"OPTIONS /predict_tolerance_risk HTTP/1.1\" 200 -\n"
     ]
    },
    {
     "name": "stdout",
     "output_type": "stream",
     "text": [
      "ProfileData for Investor id: 108\n",
      "The length of ProfileData is: (1, 20)\n",
      "Technology\n"
     ]
    },
    {
     "name": "stderr",
     "output_type": "stream",
     "text": [
      "127.0.0.1 - - [10/May/2024 22:48:30] \"POST /predict_tolerance_risk HTTP/1.1\" 200 -\n"
     ]
    },
    {
     "name": "stdout",
     "output_type": "stream",
     "text": [
      "activity Technology\n"
     ]
    },
    {
     "name": "stderr",
     "output_type": "stream",
     "text": [
      "127.0.0.1 - - [10/May/2024 22:49:05] \"OPTIONS /predict_tolerance_risk HTTP/1.1\" 200 -\n"
     ]
    },
    {
     "name": "stdout",
     "output_type": "stream",
     "text": [
      "ProfileData for Investor id: 108\n",
      "The length of ProfileData is: (1, 20)\n",
      "Technology\n"
     ]
    },
    {
     "name": "stderr",
     "output_type": "stream",
     "text": [
      "127.0.0.1 - - [10/May/2024 22:49:09] \"POST /predict_tolerance_risk HTTP/1.1\" 200 -\n"
     ]
    },
    {
     "name": "stdout",
     "output_type": "stream",
     "text": [
      "activity Technology\n",
      "ProfileData for Investor id: 108\n",
      "The length of ProfileData is: (1, 20)\n",
      "Technology\n"
     ]
    },
    {
     "name": "stderr",
     "output_type": "stream",
     "text": [
      "127.0.0.1 - - [10/May/2024 22:49:42] \"POST /predict_tolerance_risk HTTP/1.1\" 200 -\n"
     ]
    },
    {
     "name": "stdout",
     "output_type": "stream",
     "text": [
      "activity Technology\n",
      "ProfileData for Investor id: 108\n",
      "The length of ProfileData is: (1, 20)\n",
      "Technology\n"
     ]
    },
    {
     "name": "stderr",
     "output_type": "stream",
     "text": [
      "127.0.0.1 - - [10/May/2024 22:49:49] \"POST /predict_tolerance_risk HTTP/1.1\" 200 -\n"
     ]
    },
    {
     "name": "stdout",
     "output_type": "stream",
     "text": [
      "activity Technology\n",
      "ProfileData for Investor id: 108\n",
      "The length of ProfileData is: (1, 20)\n",
      "Technology\n"
     ]
    },
    {
     "name": "stderr",
     "output_type": "stream",
     "text": [
      "127.0.0.1 - - [10/May/2024 22:50:27] \"POST /predict_tolerance_risk HTTP/1.1\" 200 -\n"
     ]
    },
    {
     "name": "stdout",
     "output_type": "stream",
     "text": [
      "activity Technology\n",
      "ProfileData for Investor id: 108\n",
      "The length of ProfileData is: (1, 20)\n",
      "Technology\n"
     ]
    },
    {
     "name": "stderr",
     "output_type": "stream",
     "text": [
      "127.0.0.1 - - [10/May/2024 22:50:33] \"POST /predict_tolerance_risk HTTP/1.1\" 200 -\n"
     ]
    },
    {
     "name": "stdout",
     "output_type": "stream",
     "text": [
      "activity Technology\n"
     ]
    },
    {
     "name": "stderr",
     "output_type": "stream",
     "text": [
      "127.0.0.1 - - [10/May/2024 22:55:13] \"OPTIONS /predict_tolerance_risk HTTP/1.1\" 200 -\n"
     ]
    },
    {
     "name": "stdout",
     "output_type": "stream",
     "text": [
      "ProfileData for Investor id: 108\n",
      "The length of ProfileData is: (1, 20)\n",
      "Technology\n"
     ]
    },
    {
     "name": "stderr",
     "output_type": "stream",
     "text": [
      "127.0.0.1 - - [10/May/2024 22:55:19] \"POST /predict_tolerance_risk HTTP/1.1\" 200 -\n"
     ]
    },
    {
     "name": "stdout",
     "output_type": "stream",
     "text": [
      "activity Technology\n",
      "ProfileData for Investor id: 108\n",
      "The length of ProfileData is: (1, 20)\n",
      "Technology\n"
     ]
    },
    {
     "name": "stderr",
     "output_type": "stream",
     "text": [
      "127.0.0.1 - - [10/May/2024 22:56:27] \"POST /predict_tolerance_risk HTTP/1.1\" 200 -\n"
     ]
    },
    {
     "name": "stdout",
     "output_type": "stream",
     "text": [
      "activity Technology\n",
      "ProfileData for Investor id: 108\n",
      "The length of ProfileData is: (1, 20)\n",
      "Technology\n"
     ]
    },
    {
     "name": "stderr",
     "output_type": "stream",
     "text": [
      "127.0.0.1 - - [10/May/2024 22:56:34] \"POST /predict_tolerance_risk HTTP/1.1\" 200 -\n"
     ]
    },
    {
     "name": "stdout",
     "output_type": "stream",
     "text": [
      "activity Technology\n"
     ]
    },
    {
     "name": "stderr",
     "output_type": "stream",
     "text": [
      "127.0.0.1 - - [11/May/2024 10:22:21] \"OPTIONS /predict_tolerance_risk HTTP/1.1\" 200 -\n"
     ]
    },
    {
     "name": "stdout",
     "output_type": "stream",
     "text": [
      "ProfileData for Investor id: 108\n",
      "The length of ProfileData is: (1, 20)\n",
      "Technology\n"
     ]
    },
    {
     "name": "stderr",
     "output_type": "stream",
     "text": [
      "127.0.0.1 - - [11/May/2024 10:22:24] \"POST /predict_tolerance_risk HTTP/1.1\" 200 -\n"
     ]
    },
    {
     "name": "stdout",
     "output_type": "stream",
     "text": [
      "activity Technology\n",
      "ProfileData for Investor id: 108\n",
      "The length of ProfileData is: (1, 20)\n",
      "Technology\n"
     ]
    },
    {
     "name": "stderr",
     "output_type": "stream",
     "text": [
      "127.0.0.1 - - [11/May/2024 10:23:00] \"OPTIONS /predict_tolerance_risk HTTP/1.1\" 200 -\n"
     ]
    },
    {
     "name": "stdout",
     "output_type": "stream",
     "text": [
      "ProfileData for Investor id: 108\n",
      "The length of ProfileData is: (1, 20)\n",
      "Technology\n"
     ]
    },
    {
     "name": "stderr",
     "output_type": "stream",
     "text": [
      "127.0.0.1 - - [11/May/2024 10:23:01] \"POST /predict_tolerance_risk HTTP/1.1\" 200 -\n"
     ]
    },
    {
     "name": "stdout",
     "output_type": "stream",
     "text": [
      "activity Technology\n"
     ]
    },
    {
     "name": "stderr",
     "output_type": "stream",
     "text": [
      "127.0.0.1 - - [11/May/2024 10:23:02] \"POST /predict_tolerance_risk HTTP/1.1\" 200 -\n"
     ]
    },
    {
     "name": "stdout",
     "output_type": "stream",
     "text": [
      "activity Technology\n",
      "ProfileData for Investor id: 108\n",
      "The length of ProfileData is: (1, 20)\n",
      "Technology\n"
     ]
    },
    {
     "name": "stderr",
     "output_type": "stream",
     "text": [
      "127.0.0.1 - - [11/May/2024 10:23:06] \"POST /predict_tolerance_risk HTTP/1.1\" 200 -\n"
     ]
    },
    {
     "name": "stdout",
     "output_type": "stream",
     "text": [
      "activity Technology\n",
      "ProfileData for Investor id: 108\n",
      "The length of ProfileData is: (1, 20)\n",
      "Technology\n"
     ]
    },
    {
     "name": "stderr",
     "output_type": "stream",
     "text": [
      "127.0.0.1 - - [11/May/2024 10:23:39] \"POST /predict_tolerance_risk HTTP/1.1\" 200 -\n"
     ]
    },
    {
     "name": "stdout",
     "output_type": "stream",
     "text": [
      "activity Technology\n",
      "ProfileData for Investor id: 108\n",
      "The length of ProfileData is: (1, 20)\n",
      "Technology\n"
     ]
    },
    {
     "name": "stderr",
     "output_type": "stream",
     "text": [
      "127.0.0.1 - - [11/May/2024 10:23:43] \"POST /predict_tolerance_risk HTTP/1.1\" 200 -\n"
     ]
    },
    {
     "name": "stdout",
     "output_type": "stream",
     "text": [
      "activity Technology\n"
     ]
    },
    {
     "name": "stderr",
     "output_type": "stream",
     "text": [
      "127.0.0.1 - - [11/May/2024 10:33:05] \"OPTIONS /predict_tolerance_risk HTTP/1.1\" 200 -\n"
     ]
    },
    {
     "name": "stdout",
     "output_type": "stream",
     "text": [
      "ProfileData for Investor id: 108\n",
      "The length of ProfileData is: (1, 20)\n",
      "Technology\n",
      "ProfileData for Investor id: 108\n",
      "The length of ProfileData is: (1, 20)\n",
      "Technology\n"
     ]
    },
    {
     "name": "stderr",
     "output_type": "stream",
     "text": [
      "127.0.0.1 - - [11/May/2024 10:33:08] \"POST /predict_tolerance_risk HTTP/1.1\" 200 -\n"
     ]
    },
    {
     "name": "stdout",
     "output_type": "stream",
     "text": [
      "activity Technology\n",
      "ProfileData for Investor id: 108\n",
      "The length of ProfileData is: (1, 20)\n",
      "Technology\n"
     ]
    },
    {
     "name": "stderr",
     "output_type": "stream",
     "text": [
      "127.0.0.1 - - [11/May/2024 10:33:10] \"POST /predict_tolerance_risk HTTP/1.1\" 200 -\n"
     ]
    },
    {
     "name": "stdout",
     "output_type": "stream",
     "text": [
      "activity Technology\n"
     ]
    },
    {
     "name": "stderr",
     "output_type": "stream",
     "text": [
      "127.0.0.1 - - [11/May/2024 10:33:12] \"POST /predict_tolerance_risk HTTP/1.1\" 200 -\n"
     ]
    },
    {
     "name": "stdout",
     "output_type": "stream",
     "text": [
      "activity Technology\n",
      "ProfileData for Investor id: 108\n",
      "The length of ProfileData is: (1, 20)\n",
      "Technology\n"
     ]
    },
    {
     "name": "stderr",
     "output_type": "stream",
     "text": [
      "127.0.0.1 - - [11/May/2024 10:34:46] \"POST /predict_tolerance_risk HTTP/1.1\" 200 -\n"
     ]
    },
    {
     "name": "stdout",
     "output_type": "stream",
     "text": [
      "activity Technology\n",
      "ProfileData for Investor id: 108\n",
      "The length of ProfileData is: (1, 20)\n",
      "Technology\n",
      "ProfileData for Investor id: 108\n",
      "The length of ProfileData is: (1, 20)\n",
      "Technology\n",
      "ProfileData for Investor id: 108\n",
      "The length of ProfileData is: (1, 20)\n",
      "Technology\n"
     ]
    },
    {
     "name": "stderr",
     "output_type": "stream",
     "text": [
      "127.0.0.1 - - [11/May/2024 10:34:51] \"POST /predict_tolerance_risk HTTP/1.1\" 200 -\n"
     ]
    },
    {
     "name": "stdout",
     "output_type": "stream",
     "text": [
      "activity Technology\n"
     ]
    },
    {
     "name": "stderr",
     "output_type": "stream",
     "text": [
      "127.0.0.1 - - [11/May/2024 10:34:51] \"POST /predict_tolerance_risk HTTP/1.1\" 200 -\n"
     ]
    },
    {
     "name": "stdout",
     "output_type": "stream",
     "text": [
      "activity Technology\n"
     ]
    },
    {
     "name": "stderr",
     "output_type": "stream",
     "text": [
      "127.0.0.1 - - [11/May/2024 10:34:51] \"POST /predict_tolerance_risk HTTP/1.1\" 200 -\n"
     ]
    },
    {
     "name": "stdout",
     "output_type": "stream",
     "text": [
      "activity Technology\n",
      "ProfileData for Investor id: 108\n",
      "The length of ProfileData is: (1, 20)\n",
      "Technology\n",
      "ProfileData for Investor id: 108\n",
      "The length of ProfileData is: (1, 20)\n",
      "Technology\n"
     ]
    },
    {
     "name": "stderr",
     "output_type": "stream",
     "text": [
      "127.0.0.1 - - [11/May/2024 10:34:56] \"POST /predict_tolerance_risk HTTP/1.1\" 200 -\n"
     ]
    },
    {
     "name": "stdout",
     "output_type": "stream",
     "text": [
      "activity Technology\n"
     ]
    },
    {
     "name": "stderr",
     "output_type": "stream",
     "text": [
      "127.0.0.1 - - [11/May/2024 10:34:56] \"POST /predict_tolerance_risk HTTP/1.1\" 200 -\n"
     ]
    },
    {
     "name": "stdout",
     "output_type": "stream",
     "text": [
      "activity Technology\n"
     ]
    },
    {
     "name": "stderr",
     "output_type": "stream",
     "text": [
      "127.0.0.1 - - [11/May/2024 10:35:31] \"OPTIONS /predict_tolerance_risk HTTP/1.1\" 200 -\n"
     ]
    },
    {
     "name": "stdout",
     "output_type": "stream",
     "text": [
      "ProfileData for Investor id: 108\n",
      "The length of ProfileData is: (1, 20)\n",
      "Technology\n"
     ]
    },
    {
     "name": "stderr",
     "output_type": "stream",
     "text": [
      "127.0.0.1 - - [11/May/2024 10:35:34] \"POST /predict_tolerance_risk HTTP/1.1\" 200 -\n"
     ]
    },
    {
     "name": "stdout",
     "output_type": "stream",
     "text": [
      "activity Technology\n",
      "ProfileData for Investor id: 108\n",
      "The length of ProfileData is: (1, 20)\n",
      "Technology\n"
     ]
    },
    {
     "name": "stderr",
     "output_type": "stream",
     "text": [
      "127.0.0.1 - - [11/May/2024 10:36:15] \"POST /predict_tolerance_risk HTTP/1.1\" 200 -\n"
     ]
    },
    {
     "name": "stdout",
     "output_type": "stream",
     "text": [
      "activity Technology\n",
      "ProfileData for Investor id: 108\n",
      "The length of ProfileData is: (1, 20)\n",
      "Technology\n"
     ]
    },
    {
     "name": "stderr",
     "output_type": "stream",
     "text": [
      "127.0.0.1 - - [11/May/2024 10:36:19] \"POST /predict_tolerance_risk HTTP/1.1\" 200 -\n"
     ]
    },
    {
     "name": "stdout",
     "output_type": "stream",
     "text": [
      "activity Technology\n"
     ]
    },
    {
     "name": "stderr",
     "output_type": "stream",
     "text": [
      "127.0.0.1 - - [11/May/2024 10:37:15] \"OPTIONS /predict_tolerance_risk HTTP/1.1\" 200 -\n"
     ]
    },
    {
     "name": "stdout",
     "output_type": "stream",
     "text": [
      "ProfileData for Investor id: 108\n",
      "The length of ProfileData is: (1, 20)\n",
      "Technology\n"
     ]
    },
    {
     "name": "stderr",
     "output_type": "stream",
     "text": [
      "127.0.0.1 - - [11/May/2024 10:37:18] \"POST /predict_tolerance_risk HTTP/1.1\" 200 -\n"
     ]
    },
    {
     "name": "stdout",
     "output_type": "stream",
     "text": [
      "activity Technology\n",
      "ProfileData for Investor id: 108\n",
      "The length of ProfileData is: (1, 20)\n",
      "Technology\n"
     ]
    },
    {
     "name": "stderr",
     "output_type": "stream",
     "text": [
      "127.0.0.1 - - [11/May/2024 10:37:57] \"POST /predict_tolerance_risk HTTP/1.1\" 200 -\n"
     ]
    },
    {
     "name": "stdout",
     "output_type": "stream",
     "text": [
      "activity Technology\n",
      "ProfileData for Investor id: 108\n",
      "The length of ProfileData is: (1, 20)\n",
      "Technology\n"
     ]
    },
    {
     "name": "stderr",
     "output_type": "stream",
     "text": [
      "127.0.0.1 - - [11/May/2024 10:38:02] \"POST /predict_tolerance_risk HTTP/1.1\" 200 -\n"
     ]
    },
    {
     "name": "stdout",
     "output_type": "stream",
     "text": [
      "activity Technology\n"
     ]
    },
    {
     "name": "stderr",
     "output_type": "stream",
     "text": [
      "127.0.0.1 - - [11/May/2024 10:43:41] \"OPTIONS /predict_tolerance_risk HTTP/1.1\" 200 -\n"
     ]
    },
    {
     "name": "stdout",
     "output_type": "stream",
     "text": [
      "ProfileData for Investor id: 108\n",
      "The length of ProfileData is: (1, 20)\n",
      "Technology\n"
     ]
    },
    {
     "name": "stderr",
     "output_type": "stream",
     "text": [
      "127.0.0.1 - - [11/May/2024 10:43:45] \"POST /predict_tolerance_risk HTTP/1.1\" 200 -\n"
     ]
    },
    {
     "name": "stdout",
     "output_type": "stream",
     "text": [
      "activity Technology\n",
      "ProfileData for Investor id: 108\n",
      "The length of ProfileData is: (1, 20)\n",
      "Technology\n"
     ]
    },
    {
     "name": "stderr",
     "output_type": "stream",
     "text": [
      "127.0.0.1 - - [11/May/2024 10:44:43] \"POST /predict_tolerance_risk HTTP/1.1\" 200 -\n"
     ]
    },
    {
     "name": "stdout",
     "output_type": "stream",
     "text": [
      "activity Technology\n",
      "ProfileData for Investor id: 108\n",
      "The length of ProfileData is: (1, 20)\n",
      "Technology\n"
     ]
    },
    {
     "name": "stderr",
     "output_type": "stream",
     "text": [
      "127.0.0.1 - - [11/May/2024 10:44:49] \"POST /predict_tolerance_risk HTTP/1.1\" 200 -\n"
     ]
    },
    {
     "name": "stdout",
     "output_type": "stream",
     "text": [
      "activity Technology\n"
     ]
    },
    {
     "name": "stderr",
     "output_type": "stream",
     "text": [
      "127.0.0.1 - - [11/May/2024 10:48:17] \"OPTIONS /predict_tolerance_risk HTTP/1.1\" 200 -\n"
     ]
    },
    {
     "name": "stdout",
     "output_type": "stream",
     "text": [
      "ProfileData for Investor id: 108\n",
      "The length of ProfileData is: (1, 20)\n",
      "Technology\n"
     ]
    },
    {
     "name": "stderr",
     "output_type": "stream",
     "text": [
      "127.0.0.1 - - [11/May/2024 10:48:21] \"POST /predict_tolerance_risk HTTP/1.1\" 200 -\n"
     ]
    },
    {
     "name": "stdout",
     "output_type": "stream",
     "text": [
      "activity Technology\n",
      "ProfileData for Investor id: 108\n",
      "The length of ProfileData is: (1, 20)\n",
      "Technology\n"
     ]
    },
    {
     "name": "stderr",
     "output_type": "stream",
     "text": [
      "127.0.0.1 - - [11/May/2024 10:49:09] \"POST /predict_tolerance_risk HTTP/1.1\" 200 -\n"
     ]
    },
    {
     "name": "stdout",
     "output_type": "stream",
     "text": [
      "activity Technology\n",
      "ProfileData for Investor id: 108\n",
      "The length of ProfileData is: (1, 20)\n",
      "Technology\n"
     ]
    },
    {
     "name": "stderr",
     "output_type": "stream",
     "text": [
      "127.0.0.1 - - [11/May/2024 10:49:13] \"POST /predict_tolerance_risk HTTP/1.1\" 200 -\n"
     ]
    },
    {
     "name": "stdout",
     "output_type": "stream",
     "text": [
      "activity Technology\n"
     ]
    },
    {
     "name": "stderr",
     "output_type": "stream",
     "text": [
      "127.0.0.1 - - [11/May/2024 10:49:50] \"OPTIONS /predict_tolerance_risk HTTP/1.1\" 200 -\n"
     ]
    },
    {
     "name": "stdout",
     "output_type": "stream",
     "text": [
      "ProfileData for Investor id: 108\n",
      "The length of ProfileData is: (1, 20)\n",
      "Technology\n"
     ]
    },
    {
     "name": "stderr",
     "output_type": "stream",
     "text": [
      "127.0.0.1 - - [11/May/2024 10:49:54] \"POST /predict_tolerance_risk HTTP/1.1\" 200 -\n"
     ]
    },
    {
     "name": "stdout",
     "output_type": "stream",
     "text": [
      "activity Technology\n"
     ]
    },
    {
     "name": "stderr",
     "output_type": "stream",
     "text": [
      "127.0.0.1 - - [11/May/2024 10:49:55] \"OPTIONS /predict_tolerance_risk HTTP/1.1\" 200 -\n"
     ]
    },
    {
     "name": "stdout",
     "output_type": "stream",
     "text": [
      "ProfileData for Investor id: 108\n",
      "The length of ProfileData is: (1, 20)\n",
      "Technology\n"
     ]
    },
    {
     "name": "stderr",
     "output_type": "stream",
     "text": [
      "127.0.0.1 - - [11/May/2024 10:50:00] \"POST /predict_tolerance_risk HTTP/1.1\" 200 -\n"
     ]
    },
    {
     "name": "stdout",
     "output_type": "stream",
     "text": [
      "activity Technology\n",
      "ProfileData for Investor id: 108\n",
      "The length of ProfileData is: (1, 20)\n",
      "Technology\n"
     ]
    },
    {
     "name": "stderr",
     "output_type": "stream",
     "text": [
      "127.0.0.1 - - [11/May/2024 10:51:55] \"POST /predict_tolerance_risk HTTP/1.1\" 200 -\n"
     ]
    },
    {
     "name": "stdout",
     "output_type": "stream",
     "text": [
      "activity Technology\n",
      "ProfileData for Investor id: 108\n",
      "The length of ProfileData is: (1, 20)\n",
      "Technology\n",
      "ProfileData for Investor id: 108\n",
      "The length of ProfileData is: (1, 20)\n",
      "Technology\n"
     ]
    },
    {
     "name": "stderr",
     "output_type": "stream",
     "text": [
      "127.0.0.1 - - [11/May/2024 10:52:01] \"POST /predict_tolerance_risk HTTP/1.1\" 200 -\n"
     ]
    },
    {
     "name": "stdout",
     "output_type": "stream",
     "text": [
      "activity Technology\n"
     ]
    },
    {
     "name": "stderr",
     "output_type": "stream",
     "text": [
      "127.0.0.1 - - [11/May/2024 10:52:03] \"POST /predict_tolerance_risk HTTP/1.1\" 200 -\n"
     ]
    },
    {
     "name": "stdout",
     "output_type": "stream",
     "text": [
      "activity Technology\n",
      "ProfileData for Investor id: 108\n",
      "The length of ProfileData is: (1, 20)\n",
      "Technology\n"
     ]
    },
    {
     "name": "stderr",
     "output_type": "stream",
     "text": [
      "127.0.0.1 - - [11/May/2024 10:52:08] \"POST /predict_tolerance_risk HTTP/1.1\" 200 -\n"
     ]
    },
    {
     "name": "stdout",
     "output_type": "stream",
     "text": [
      "activity Technology\n"
     ]
    },
    {
     "name": "stderr",
     "output_type": "stream",
     "text": [
      "127.0.0.1 - - [11/May/2024 10:53:05] \"OPTIONS /predict_tolerance_risk HTTP/1.1\" 200 -\n"
     ]
    },
    {
     "name": "stdout",
     "output_type": "stream",
     "text": [
      "ProfileData for Investor id: 108\n",
      "The length of ProfileData is: (1, 20)\n",
      "Technology\n"
     ]
    },
    {
     "name": "stderr",
     "output_type": "stream",
     "text": [
      "127.0.0.1 - - [11/May/2024 10:53:10] \"POST /predict_tolerance_risk HTTP/1.1\" 200 -\n"
     ]
    },
    {
     "name": "stdout",
     "output_type": "stream",
     "text": [
      "activity Technology\n",
      "ProfileData for Investor id: 108\n",
      "The length of ProfileData is: (1, 20)\n",
      "Technology\n"
     ]
    },
    {
     "name": "stderr",
     "output_type": "stream",
     "text": [
      "127.0.0.1 - - [11/May/2024 10:54:14] \"POST /predict_tolerance_risk HTTP/1.1\" 200 -\n"
     ]
    },
    {
     "name": "stdout",
     "output_type": "stream",
     "text": [
      "activity Technology\n",
      "ProfileData for Investor id: 108\n",
      "The length of ProfileData is: (1, 20)\n",
      "Technology\n"
     ]
    },
    {
     "name": "stderr",
     "output_type": "stream",
     "text": [
      "127.0.0.1 - - [11/May/2024 10:54:21] \"POST /predict_tolerance_risk HTTP/1.1\" 200 -\n"
     ]
    },
    {
     "name": "stdout",
     "output_type": "stream",
     "text": [
      "activity Technology\n"
     ]
    },
    {
     "name": "stderr",
     "output_type": "stream",
     "text": [
      "127.0.0.1 - - [11/May/2024 10:55:18] \"OPTIONS /predict_tolerance_risk HTTP/1.1\" 200 -\n"
     ]
    },
    {
     "name": "stdout",
     "output_type": "stream",
     "text": [
      "ProfileData for Investor id: 108\n",
      "The length of ProfileData is: (1, 20)\n",
      "Technology\n"
     ]
    },
    {
     "name": "stderr",
     "output_type": "stream",
     "text": [
      "127.0.0.1 - - [11/May/2024 10:55:23] \"POST /predict_tolerance_risk HTTP/1.1\" 200 -\n"
     ]
    },
    {
     "name": "stdout",
     "output_type": "stream",
     "text": [
      "activity Technology\n",
      "ProfileData for Investor id: 108\n",
      "The length of ProfileData is: (1, 20)\n",
      "Technology\n"
     ]
    },
    {
     "name": "stderr",
     "output_type": "stream",
     "text": [
      "127.0.0.1 - - [11/May/2024 10:56:24] \"POST /predict_tolerance_risk HTTP/1.1\" 200 -\n"
     ]
    },
    {
     "name": "stdout",
     "output_type": "stream",
     "text": [
      "activity Technology\n",
      "ProfileData for Investor id: 108\n",
      "The length of ProfileData is: (1, 20)\n",
      "Technology\n"
     ]
    },
    {
     "name": "stderr",
     "output_type": "stream",
     "text": [
      "127.0.0.1 - - [11/May/2024 10:56:30] \"POST /predict_tolerance_risk HTTP/1.1\" 200 -\n"
     ]
    },
    {
     "name": "stdout",
     "output_type": "stream",
     "text": [
      "activity Technology\n"
     ]
    },
    {
     "name": "stderr",
     "output_type": "stream",
     "text": [
      "127.0.0.1 - - [11/May/2024 10:56:54] \"OPTIONS /predict_tolerance_risk HTTP/1.1\" 200 -\n"
     ]
    },
    {
     "name": "stdout",
     "output_type": "stream",
     "text": [
      "ProfileData for Investor id: 108\n",
      "The length of ProfileData is: (1, 20)\n",
      "Technology\n"
     ]
    },
    {
     "name": "stderr",
     "output_type": "stream",
     "text": [
      "127.0.0.1 - - [11/May/2024 10:56:59] \"POST /predict_tolerance_risk HTTP/1.1\" 200 -\n"
     ]
    },
    {
     "name": "stdout",
     "output_type": "stream",
     "text": [
      "activity Technology\n"
     ]
    },
    {
     "name": "stderr",
     "output_type": "stream",
     "text": [
      "127.0.0.1 - - [11/May/2024 10:57:14] \"OPTIONS /predict_tolerance_risk HTTP/1.1\" 200 -\n"
     ]
    },
    {
     "name": "stdout",
     "output_type": "stream",
     "text": [
      "ProfileData for Investor id: 108\n",
      "The length of ProfileData is: (1, 20)\n",
      "Technology\n"
     ]
    },
    {
     "name": "stderr",
     "output_type": "stream",
     "text": [
      "127.0.0.1 - - [11/May/2024 10:57:19] \"POST /predict_tolerance_risk HTTP/1.1\" 200 -\n"
     ]
    },
    {
     "name": "stdout",
     "output_type": "stream",
     "text": [
      "activity Technology\n",
      "ProfileData for Investor id: 108\n",
      "The length of ProfileData is: (1, 20)\n",
      "Technology\n"
     ]
    },
    {
     "name": "stderr",
     "output_type": "stream",
     "text": [
      "127.0.0.1 - - [11/May/2024 10:58:31] \"POST /predict_tolerance_risk HTTP/1.1\" 200 -\n"
     ]
    },
    {
     "name": "stdout",
     "output_type": "stream",
     "text": [
      "activity Technology\n",
      "ProfileData for Investor id: 108\n",
      "The length of ProfileData is: (1, 20)\n",
      "Technology\n"
     ]
    },
    {
     "name": "stderr",
     "output_type": "stream",
     "text": [
      "127.0.0.1 - - [11/May/2024 10:58:39] \"POST /predict_tolerance_risk HTTP/1.1\" 200 -\n"
     ]
    },
    {
     "name": "stdout",
     "output_type": "stream",
     "text": [
      "activity Technology\n",
      "ProfileData for Investor id: 108\n",
      "The length of ProfileData is: (1, 20)\n",
      "Technology\n"
     ]
    },
    {
     "name": "stderr",
     "output_type": "stream",
     "text": [
      "127.0.0.1 - - [11/May/2024 10:58:53] \"POST /predict_tolerance_risk HTTP/1.1\" 200 -\n"
     ]
    },
    {
     "name": "stdout",
     "output_type": "stream",
     "text": [
      "activity Technology\n",
      "ProfileData for Investor id: 108\n",
      "The length of ProfileData is: (1, 20)\n",
      "Technology\n"
     ]
    },
    {
     "name": "stderr",
     "output_type": "stream",
     "text": [
      "127.0.0.1 - - [11/May/2024 10:58:59] \"POST /predict_tolerance_risk HTTP/1.1\" 200 -\n"
     ]
    },
    {
     "name": "stdout",
     "output_type": "stream",
     "text": [
      "activity Technology\n"
     ]
    },
    {
     "name": "stderr",
     "output_type": "stream",
     "text": [
      "127.0.0.1 - - [11/May/2024 10:59:22] \"OPTIONS /predict_tolerance_risk HTTP/1.1\" 200 -\n"
     ]
    },
    {
     "name": "stdout",
     "output_type": "stream",
     "text": [
      "ProfileData for Investor id: 108\n",
      "The length of ProfileData is: (1, 20)\n",
      "Technology\n"
     ]
    },
    {
     "name": "stderr",
     "output_type": "stream",
     "text": [
      "127.0.0.1 - - [11/May/2024 10:59:27] \"POST /predict_tolerance_risk HTTP/1.1\" 200 -\n"
     ]
    },
    {
     "name": "stdout",
     "output_type": "stream",
     "text": [
      "activity Technology\n",
      "ProfileData for Investor id: 108\n",
      "The length of ProfileData is: (1, 20)\n",
      "Technology\n"
     ]
    },
    {
     "name": "stderr",
     "output_type": "stream",
     "text": [
      "127.0.0.1 - - [11/May/2024 11:00:19] \"POST /predict_tolerance_risk HTTP/1.1\" 200 -\n"
     ]
    },
    {
     "name": "stdout",
     "output_type": "stream",
     "text": [
      "activity Technology\n",
      "ProfileData for Investor id: 108\n",
      "The length of ProfileData is: (1, 20)\n",
      "Technology\n"
     ]
    },
    {
     "name": "stderr",
     "output_type": "stream",
     "text": [
      "127.0.0.1 - - [11/May/2024 11:00:25] \"POST /predict_tolerance_risk HTTP/1.1\" 200 -\n"
     ]
    },
    {
     "name": "stdout",
     "output_type": "stream",
     "text": [
      "activity Technology\n"
     ]
    },
    {
     "name": "stderr",
     "output_type": "stream",
     "text": [
      "127.0.0.1 - - [11/May/2024 11:01:56] \"OPTIONS /predict_tolerance_risk HTTP/1.1\" 200 -\n"
     ]
    },
    {
     "name": "stdout",
     "output_type": "stream",
     "text": [
      "ProfileData for Investor id: 108\n",
      "The length of ProfileData is: (1, 20)\n",
      "Technology\n"
     ]
    },
    {
     "name": "stderr",
     "output_type": "stream",
     "text": [
      "127.0.0.1 - - [11/May/2024 11:02:01] \"POST /predict_tolerance_risk HTTP/1.1\" 200 -\n"
     ]
    },
    {
     "name": "stdout",
     "output_type": "stream",
     "text": [
      "activity Technology\n",
      "ProfileData for Investor id: 108\n",
      "The length of ProfileData is: (1, 20)\n",
      "Technology\n"
     ]
    },
    {
     "name": "stderr",
     "output_type": "stream",
     "text": [
      "127.0.0.1 - - [11/May/2024 11:02:58] \"POST /predict_tolerance_risk HTTP/1.1\" 200 -\n"
     ]
    },
    {
     "name": "stdout",
     "output_type": "stream",
     "text": [
      "activity Technology\n",
      "ProfileData for Investor id: 108\n",
      "The length of ProfileData is: (1, 20)\n",
      "Technology\n"
     ]
    },
    {
     "name": "stderr",
     "output_type": "stream",
     "text": [
      "127.0.0.1 - - [11/May/2024 11:03:04] \"POST /predict_tolerance_risk HTTP/1.1\" 200 -\n"
     ]
    },
    {
     "name": "stdout",
     "output_type": "stream",
     "text": [
      "activity Technology\n"
     ]
    },
    {
     "name": "stderr",
     "output_type": "stream",
     "text": [
      "127.0.0.1 - - [11/May/2024 12:38:09] \"OPTIONS /predict_tolerance_risk HTTP/1.1\" 200 -\n"
     ]
    },
    {
     "name": "stdout",
     "output_type": "stream",
     "text": [
      "ProfileData for Investor id: 108\n",
      "The length of ProfileData is: (1, 20)\n",
      "Technology\n"
     ]
    },
    {
     "name": "stderr",
     "output_type": "stream",
     "text": [
      "127.0.0.1 - - [11/May/2024 12:38:12] \"POST /predict_tolerance_risk HTTP/1.1\" 200 -\n"
     ]
    },
    {
     "name": "stdout",
     "output_type": "stream",
     "text": [
      "activity Technology\n",
      "ProfileData for Investor id: 108\n",
      "The length of ProfileData is: (1, 20)\n",
      "Technology\n"
     ]
    },
    {
     "name": "stderr",
     "output_type": "stream",
     "text": [
      "127.0.0.1 - - [11/May/2024 12:38:53] \"POST /predict_tolerance_risk HTTP/1.1\" 200 -\n"
     ]
    },
    {
     "name": "stdout",
     "output_type": "stream",
     "text": [
      "activity Technology\n",
      "ProfileData for Investor id: 108\n",
      "The length of ProfileData is: (1, 20)\n",
      "Technology\n"
     ]
    },
    {
     "name": "stderr",
     "output_type": "stream",
     "text": [
      "127.0.0.1 - - [11/May/2024 12:38:57] \"OPTIONS /predict_tolerance_risk HTTP/1.1\" 200 -\n"
     ]
    },
    {
     "name": "stdout",
     "output_type": "stream",
     "text": [
      "ProfileData for Investor id: 108\n",
      "The length of ProfileData is: (1, 20)\n",
      "Technology\n"
     ]
    },
    {
     "name": "stderr",
     "output_type": "stream",
     "text": [
      "127.0.0.1 - - [11/May/2024 12:38:58] \"POST /predict_tolerance_risk HTTP/1.1\" 200 -\n"
     ]
    },
    {
     "name": "stdout",
     "output_type": "stream",
     "text": [
      "activity Technology\n"
     ]
    },
    {
     "name": "stderr",
     "output_type": "stream",
     "text": [
      "127.0.0.1 - - [11/May/2024 12:39:00] \"POST /predict_tolerance_risk HTTP/1.1\" 200 -\n"
     ]
    },
    {
     "name": "stdout",
     "output_type": "stream",
     "text": [
      "activity Technology\n",
      "ProfileData for Investor id: 108\n",
      "The length of ProfileData is: (1, 20)\n",
      "Technology\n"
     ]
    },
    {
     "name": "stderr",
     "output_type": "stream",
     "text": [
      "127.0.0.1 - - [11/May/2024 12:39:38] \"POST /predict_tolerance_risk HTTP/1.1\" 200 -\n"
     ]
    },
    {
     "name": "stdout",
     "output_type": "stream",
     "text": [
      "activity Technology\n",
      "ProfileData for Investor id: 108\n",
      "The length of ProfileData is: (1, 20)\n",
      "Technology\n"
     ]
    },
    {
     "name": "stderr",
     "output_type": "stream",
     "text": [
      "127.0.0.1 - - [11/May/2024 12:39:42] \"POST /predict_tolerance_risk HTTP/1.1\" 200 -\n"
     ]
    },
    {
     "name": "stdout",
     "output_type": "stream",
     "text": [
      "activity Technology\n"
     ]
    },
    {
     "name": "stderr",
     "output_type": "stream",
     "text": [
      "127.0.0.1 - - [11/May/2024 12:40:13] \"OPTIONS /predict_tolerance_risk HTTP/1.1\" 200 -\n"
     ]
    },
    {
     "name": "stdout",
     "output_type": "stream",
     "text": [
      "ProfileData for Investor id: 108\n",
      "The length of ProfileData is: (1, 20)\n",
      "Technology\n"
     ]
    },
    {
     "name": "stderr",
     "output_type": "stream",
     "text": [
      "127.0.0.1 - - [11/May/2024 12:40:16] \"POST /predict_tolerance_risk HTTP/1.1\" 200 -\n"
     ]
    },
    {
     "name": "stdout",
     "output_type": "stream",
     "text": [
      "activity Technology\n",
      "ProfileData for Investor id: 108\n",
      "The length of ProfileData is: (1, 20)\n",
      "Technology\n"
     ]
    },
    {
     "name": "stderr",
     "output_type": "stream",
     "text": [
      "127.0.0.1 - - [11/May/2024 12:40:51] \"POST /predict_tolerance_risk HTTP/1.1\" 200 -\n"
     ]
    },
    {
     "name": "stdout",
     "output_type": "stream",
     "text": [
      "activity Technology\n",
      "ProfileData for Investor id: 108\n",
      "The length of ProfileData is: (1, 20)\n",
      "Technology\n"
     ]
    },
    {
     "name": "stderr",
     "output_type": "stream",
     "text": [
      "127.0.0.1 - - [11/May/2024 12:40:56] \"POST /predict_tolerance_risk HTTP/1.1\" 200 -\n"
     ]
    },
    {
     "name": "stdout",
     "output_type": "stream",
     "text": [
      "activity Technology\n"
     ]
    },
    {
     "name": "stderr",
     "output_type": "stream",
     "text": [
      "127.0.0.1 - - [11/May/2024 12:42:16] \"OPTIONS /predict_tolerance_risk HTTP/1.1\" 200 -\n"
     ]
    },
    {
     "name": "stdout",
     "output_type": "stream",
     "text": [
      "ProfileData for Investor id: 108\n",
      "The length of ProfileData is: (1, 20)\n",
      "Technology\n"
     ]
    },
    {
     "name": "stderr",
     "output_type": "stream",
     "text": [
      "127.0.0.1 - - [11/May/2024 12:42:19] \"POST /predict_tolerance_risk HTTP/1.1\" 200 -\n"
     ]
    },
    {
     "name": "stdout",
     "output_type": "stream",
     "text": [
      "activity Technology\n",
      "ProfileData for Investor id: 108\n",
      "The length of ProfileData is: (1, 20)\n",
      "Technology\n"
     ]
    },
    {
     "name": "stderr",
     "output_type": "stream",
     "text": [
      "127.0.0.1 - - [11/May/2024 12:42:54] \"POST /predict_tolerance_risk HTTP/1.1\" 200 -\n"
     ]
    },
    {
     "name": "stdout",
     "output_type": "stream",
     "text": [
      "activity Technology\n",
      "ProfileData for Investor id: 108\n",
      "The length of ProfileData is: (1, 20)\n",
      "Technology\n"
     ]
    },
    {
     "name": "stderr",
     "output_type": "stream",
     "text": [
      "127.0.0.1 - - [11/May/2024 12:42:58] \"POST /predict_tolerance_risk HTTP/1.1\" 200 -\n"
     ]
    },
    {
     "name": "stdout",
     "output_type": "stream",
     "text": [
      "activity Technology\n"
     ]
    },
    {
     "name": "stderr",
     "output_type": "stream",
     "text": [
      "127.0.0.1 - - [11/May/2024 12:43:11] \"OPTIONS /predict_tolerance_risk HTTP/1.1\" 200 -\n"
     ]
    },
    {
     "name": "stdout",
     "output_type": "stream",
     "text": [
      "ProfileData for Investor id: 108\n",
      "The length of ProfileData is: (1, 20)\n",
      "Technology\n"
     ]
    },
    {
     "name": "stderr",
     "output_type": "stream",
     "text": [
      "127.0.0.1 - - [11/May/2024 12:43:14] \"POST /predict_tolerance_risk HTTP/1.1\" 200 -\n"
     ]
    },
    {
     "name": "stdout",
     "output_type": "stream",
     "text": [
      "activity Technology\n"
     ]
    },
    {
     "name": "stderr",
     "output_type": "stream",
     "text": [
      "127.0.0.1 - - [11/May/2024 12:43:40] \"OPTIONS /predict_tolerance_risk HTTP/1.1\" 200 -\n"
     ]
    },
    {
     "name": "stdout",
     "output_type": "stream",
     "text": [
      "ProfileData for Investor id: 108\n",
      "The length of ProfileData is: (1, 20)\n",
      "Technology\n"
     ]
    },
    {
     "name": "stderr",
     "output_type": "stream",
     "text": [
      "127.0.0.1 - - [11/May/2024 12:43:44] \"POST /predict_tolerance_risk HTTP/1.1\" 200 -\n"
     ]
    },
    {
     "name": "stdout",
     "output_type": "stream",
     "text": [
      "activity Technology\n",
      "ProfileData for Investor id: 108\n",
      "The length of ProfileData is: (1, 20)\n",
      "Technology\n"
     ]
    },
    {
     "name": "stderr",
     "output_type": "stream",
     "text": [
      "127.0.0.1 - - [11/May/2024 12:43:55] \"POST /predict_tolerance_risk HTTP/1.1\" 200 -\n"
     ]
    },
    {
     "name": "stdout",
     "output_type": "stream",
     "text": [
      "activity Technology\n",
      "ProfileData for Investor id: 108\n",
      "The length of ProfileData is: (1, 20)\n",
      "Technology\n"
     ]
    },
    {
     "name": "stderr",
     "output_type": "stream",
     "text": [
      "127.0.0.1 - - [11/May/2024 12:44:01] \"POST /predict_tolerance_risk HTTP/1.1\" 200 -\n"
     ]
    },
    {
     "name": "stdout",
     "output_type": "stream",
     "text": [
      "activity Technology\n",
      "ProfileData for Investor id: 108\n",
      "The length of ProfileData is: (1, 20)\n",
      "Technology\n"
     ]
    },
    {
     "name": "stderr",
     "output_type": "stream",
     "text": [
      "127.0.0.1 - - [11/May/2024 12:44:28] \"POST /predict_tolerance_risk HTTP/1.1\" 200 -\n"
     ]
    },
    {
     "name": "stdout",
     "output_type": "stream",
     "text": [
      "activity Technology\n",
      "ProfileData for Investor id: 108\n",
      "The length of ProfileData is: (1, 20)\n",
      "Technology\n"
     ]
    },
    {
     "name": "stderr",
     "output_type": "stream",
     "text": [
      "127.0.0.1 - - [11/May/2024 12:44:32] \"POST /predict_tolerance_risk HTTP/1.1\" 200 -\n"
     ]
    },
    {
     "name": "stdout",
     "output_type": "stream",
     "text": [
      "activity Technology\n"
     ]
    },
    {
     "name": "stderr",
     "output_type": "stream",
     "text": [
      "127.0.0.1 - - [11/May/2024 12:44:57] \"OPTIONS /predict_tolerance_risk HTTP/1.1\" 200 -\n"
     ]
    },
    {
     "name": "stdout",
     "output_type": "stream",
     "text": [
      "ProfileData for Investor id: 108\n",
      "The length of ProfileData is: (1, 20)\n",
      "Technology\n"
     ]
    },
    {
     "name": "stderr",
     "output_type": "stream",
     "text": [
      "127.0.0.1 - - [11/May/2024 12:45:01] \"POST /predict_tolerance_risk HTTP/1.1\" 200 -\n"
     ]
    },
    {
     "name": "stdout",
     "output_type": "stream",
     "text": [
      "activity Technology\n",
      "ProfileData for Investor id: 108\n",
      "The length of ProfileData is: (1, 20)\n",
      "Technology\n"
     ]
    },
    {
     "name": "stderr",
     "output_type": "stream",
     "text": [
      "127.0.0.1 - - [11/May/2024 12:45:40] \"POST /predict_tolerance_risk HTTP/1.1\" 200 -\n"
     ]
    },
    {
     "name": "stdout",
     "output_type": "stream",
     "text": [
      "activity Technology\n",
      "ProfileData for Investor id: 108\n",
      "The length of ProfileData is: (1, 20)\n",
      "Technology\n"
     ]
    },
    {
     "name": "stderr",
     "output_type": "stream",
     "text": [
      "127.0.0.1 - - [11/May/2024 12:45:44] \"POST /predict_tolerance_risk HTTP/1.1\" 200 -\n"
     ]
    },
    {
     "name": "stdout",
     "output_type": "stream",
     "text": [
      "activity Technology\n"
     ]
    },
    {
     "name": "stderr",
     "output_type": "stream",
     "text": [
      "127.0.0.1 - - [11/May/2024 12:48:18] \"OPTIONS /predict_tolerance_risk HTTP/1.1\" 200 -\n"
     ]
    },
    {
     "name": "stdout",
     "output_type": "stream",
     "text": [
      "ProfileData for Investor id: 108\n",
      "The length of ProfileData is: (1, 20)\n",
      "Technology\n"
     ]
    },
    {
     "name": "stderr",
     "output_type": "stream",
     "text": [
      "127.0.0.1 - - [11/May/2024 12:48:21] \"POST /predict_tolerance_risk HTTP/1.1\" 200 -\n"
     ]
    },
    {
     "name": "stdout",
     "output_type": "stream",
     "text": [
      "activity Technology\n",
      "ProfileData for Investor id: 108\n",
      "The length of ProfileData is: (1, 20)\n",
      "Technology\n"
     ]
    },
    {
     "name": "stderr",
     "output_type": "stream",
     "text": [
      "127.0.0.1 - - [11/May/2024 12:49:02] \"OPTIONS /predict_tolerance_risk HTTP/1.1\" 200 -\n"
     ]
    },
    {
     "name": "stdout",
     "output_type": "stream",
     "text": [
      "ProfileData for Investor id: 108\n",
      "The length of ProfileData is: (1, 20)\n",
      "Technology\n"
     ]
    },
    {
     "name": "stderr",
     "output_type": "stream",
     "text": [
      "127.0.0.1 - - [11/May/2024 12:49:03] \"POST /predict_tolerance_risk HTTP/1.1\" 200 -\n"
     ]
    },
    {
     "name": "stdout",
     "output_type": "stream",
     "text": [
      "activity Technology\n",
      "ProfileData for Investor id: 108\n",
      "The length of ProfileData is: (1, 20)\n",
      "Technology\n"
     ]
    },
    {
     "name": "stderr",
     "output_type": "stream",
     "text": [
      "127.0.0.1 - - [11/May/2024 12:49:05] \"POST /predict_tolerance_risk HTTP/1.1\" 200 -\n"
     ]
    },
    {
     "name": "stdout",
     "output_type": "stream",
     "text": [
      "activity Technology\n"
     ]
    },
    {
     "name": "stderr",
     "output_type": "stream",
     "text": [
      "127.0.0.1 - - [11/May/2024 12:49:08] \"POST /predict_tolerance_risk HTTP/1.1\" 200 -\n"
     ]
    },
    {
     "name": "stdout",
     "output_type": "stream",
     "text": [
      "activity Technology\n",
      "ProfileData for Investor id: 108\n",
      "The length of ProfileData is: (1, 20)\n",
      "Technology\n"
     ]
    },
    {
     "name": "stderr",
     "output_type": "stream",
     "text": [
      "127.0.0.1 - - [11/May/2024 12:49:42] \"POST /predict_tolerance_risk HTTP/1.1\" 200 -\n"
     ]
    },
    {
     "name": "stdout",
     "output_type": "stream",
     "text": [
      "activity Technology\n",
      "ProfileData for Investor id: 108\n",
      "The length of ProfileData is: (1, 20)\n",
      "Technology\n"
     ]
    },
    {
     "name": "stderr",
     "output_type": "stream",
     "text": [
      "127.0.0.1 - - [11/May/2024 12:49:47] \"POST /predict_tolerance_risk HTTP/1.1\" 200 -\n"
     ]
    },
    {
     "name": "stdout",
     "output_type": "stream",
     "text": [
      "activity Technology\n"
     ]
    },
    {
     "name": "stderr",
     "output_type": "stream",
     "text": [
      "127.0.0.1 - - [11/May/2024 12:51:28] \"OPTIONS /predict_tolerance_risk HTTP/1.1\" 200 -\n"
     ]
    },
    {
     "name": "stdout",
     "output_type": "stream",
     "text": [
      "ProfileData for Investor id: 108\n",
      "The length of ProfileData is: (1, 20)\n",
      "Technology\n"
     ]
    },
    {
     "name": "stderr",
     "output_type": "stream",
     "text": [
      "127.0.0.1 - - [11/May/2024 12:51:31] \"POST /predict_tolerance_risk HTTP/1.1\" 200 -\n"
     ]
    },
    {
     "name": "stdout",
     "output_type": "stream",
     "text": [
      "activity Technology\n",
      "ProfileData for Investor id: 108\n",
      "The length of ProfileData is: (1, 20)\n",
      "Technology\n"
     ]
    },
    {
     "name": "stderr",
     "output_type": "stream",
     "text": [
      "127.0.0.1 - - [11/May/2024 12:52:10] \"POST /predict_tolerance_risk HTTP/1.1\" 200 -\n"
     ]
    },
    {
     "name": "stdout",
     "output_type": "stream",
     "text": [
      "activity Technology\n",
      "ProfileData for Investor id: 108\n",
      "The length of ProfileData is: (1, 20)\n",
      "Technology\n"
     ]
    },
    {
     "name": "stderr",
     "output_type": "stream",
     "text": [
      "127.0.0.1 - - [11/May/2024 12:52:14] \"POST /predict_tolerance_risk HTTP/1.1\" 200 -\n"
     ]
    },
    {
     "name": "stdout",
     "output_type": "stream",
     "text": [
      "activity Technology\n"
     ]
    },
    {
     "name": "stderr",
     "output_type": "stream",
     "text": [
      "127.0.0.1 - - [11/May/2024 12:52:53] \"OPTIONS /predict_tolerance_risk HTTP/1.1\" 200 -\n"
     ]
    },
    {
     "name": "stdout",
     "output_type": "stream",
     "text": [
      "ProfileData for Investor id: 108\n",
      "The length of ProfileData is: (1, 20)\n",
      "Technology\n"
     ]
    },
    {
     "name": "stderr",
     "output_type": "stream",
     "text": [
      "127.0.0.1 - - [11/May/2024 12:52:56] \"POST /predict_tolerance_risk HTTP/1.1\" 200 -\n"
     ]
    },
    {
     "name": "stdout",
     "output_type": "stream",
     "text": [
      "activity Technology\n",
      "ProfileData for Investor id: 108\n",
      "The length of ProfileData is: (1, 20)\n",
      "Technology\n"
     ]
    },
    {
     "name": "stderr",
     "output_type": "stream",
     "text": [
      "127.0.0.1 - - [11/May/2024 12:53:35] \"POST /predict_tolerance_risk HTTP/1.1\" 200 -\n"
     ]
    },
    {
     "name": "stdout",
     "output_type": "stream",
     "text": [
      "activity Technology\n",
      "ProfileData for Investor id: 108\n",
      "The length of ProfileData is: (1, 20)\n",
      "Technology\n"
     ]
    },
    {
     "name": "stderr",
     "output_type": "stream",
     "text": [
      "127.0.0.1 - - [11/May/2024 12:53:39] \"POST /predict_tolerance_risk HTTP/1.1\" 200 -\n"
     ]
    },
    {
     "name": "stdout",
     "output_type": "stream",
     "text": [
      "activity Technology\n"
     ]
    },
    {
     "name": "stderr",
     "output_type": "stream",
     "text": [
      "127.0.0.1 - - [11/May/2024 12:54:02] \"OPTIONS /predict_tolerance_risk HTTP/1.1\" 200 -\n"
     ]
    },
    {
     "name": "stdout",
     "output_type": "stream",
     "text": [
      "ProfileData for Investor id: 108\n",
      "The length of ProfileData is: (1, 20)\n",
      "Technology\n"
     ]
    },
    {
     "name": "stderr",
     "output_type": "stream",
     "text": [
      "127.0.0.1 - - [11/May/2024 12:54:05] \"POST /predict_tolerance_risk HTTP/1.1\" 200 -\n"
     ]
    },
    {
     "name": "stdout",
     "output_type": "stream",
     "text": [
      "activity Technology\n",
      "ProfileData for Investor id: 108\n",
      "The length of ProfileData is: (1, 20)\n",
      "Technology\n"
     ]
    },
    {
     "name": "stderr",
     "output_type": "stream",
     "text": [
      "127.0.0.1 - - [11/May/2024 12:54:50] \"POST /predict_tolerance_risk HTTP/1.1\" 200 -\n"
     ]
    },
    {
     "name": "stdout",
     "output_type": "stream",
     "text": [
      "activity Technology\n",
      "ProfileData for Investor id: 108\n",
      "The length of ProfileData is: (1, 20)\n",
      "Technology\n"
     ]
    },
    {
     "name": "stderr",
     "output_type": "stream",
     "text": [
      "127.0.0.1 - - [11/May/2024 12:54:54] \"POST /predict_tolerance_risk HTTP/1.1\" 200 -\n"
     ]
    },
    {
     "name": "stdout",
     "output_type": "stream",
     "text": [
      "activity Technology\n"
     ]
    },
    {
     "name": "stderr",
     "output_type": "stream",
     "text": [
      "127.0.0.1 - - [11/May/2024 12:57:48] \"OPTIONS /predict_tolerance_risk HTTP/1.1\" 200 -\n"
     ]
    },
    {
     "name": "stdout",
     "output_type": "stream",
     "text": [
      "ProfileData for Investor id: 108\n",
      "The length of ProfileData is: (1, 20)\n",
      "Technology\n"
     ]
    },
    {
     "name": "stderr",
     "output_type": "stream",
     "text": [
      "127.0.0.1 - - [11/May/2024 12:57:50] \"POST /predict_tolerance_risk HTTP/1.1\" 200 -\n"
     ]
    },
    {
     "name": "stdout",
     "output_type": "stream",
     "text": [
      "activity Technology\n",
      "ProfileData for Investor id: 108\n",
      "The length of ProfileData is: (1, 20)\n",
      "Technology\n"
     ]
    },
    {
     "name": "stderr",
     "output_type": "stream",
     "text": [
      "127.0.0.1 - - [11/May/2024 12:58:26] \"POST /predict_tolerance_risk HTTP/1.1\" 200 -\n"
     ]
    },
    {
     "name": "stdout",
     "output_type": "stream",
     "text": [
      "activity Technology\n",
      "ProfileData for Investor id: 108\n",
      "The length of ProfileData is: (1, 20)\n",
      "Technology\n"
     ]
    },
    {
     "name": "stderr",
     "output_type": "stream",
     "text": [
      "127.0.0.1 - - [11/May/2024 12:58:30] \"POST /predict_tolerance_risk HTTP/1.1\" 200 -\n"
     ]
    },
    {
     "name": "stdout",
     "output_type": "stream",
     "text": [
      "activity Technology\n"
     ]
    },
    {
     "name": "stderr",
     "output_type": "stream",
     "text": [
      "127.0.0.1 - - [11/May/2024 13:04:16] \"OPTIONS /predict_tolerance_risk HTTP/1.1\" 200 -\n"
     ]
    },
    {
     "name": "stdout",
     "output_type": "stream",
     "text": [
      "ProfileData for Investor id: 108\n",
      "The length of ProfileData is: (1, 20)\n",
      "Technology\n"
     ]
    },
    {
     "name": "stderr",
     "output_type": "stream",
     "text": [
      "127.0.0.1 - - [11/May/2024 13:04:18] \"POST /predict_tolerance_risk HTTP/1.1\" 200 -\n"
     ]
    },
    {
     "name": "stdout",
     "output_type": "stream",
     "text": [
      "activity Technology\n",
      "ProfileData for Investor id: 108\n",
      "The length of ProfileData is: (1, 20)\n",
      "Technology\n"
     ]
    },
    {
     "name": "stderr",
     "output_type": "stream",
     "text": [
      "127.0.0.1 - - [11/May/2024 13:04:53] \"POST /predict_tolerance_risk HTTP/1.1\" 200 -\n"
     ]
    },
    {
     "name": "stdout",
     "output_type": "stream",
     "text": [
      "activity Technology\n",
      "ProfileData for Investor id: 108\n",
      "The length of ProfileData is: (1, 20)\n",
      "Technology\n"
     ]
    },
    {
     "name": "stderr",
     "output_type": "stream",
     "text": [
      "127.0.0.1 - - [11/May/2024 13:04:58] \"POST /predict_tolerance_risk HTTP/1.1\" 200 -\n"
     ]
    },
    {
     "name": "stdout",
     "output_type": "stream",
     "text": [
      "activity Technology\n"
     ]
    },
    {
     "name": "stderr",
     "output_type": "stream",
     "text": [
      "127.0.0.1 - - [11/May/2024 13:05:02] \"OPTIONS /predict_tolerance_risk HTTP/1.1\" 200 -\n"
     ]
    },
    {
     "name": "stdout",
     "output_type": "stream",
     "text": [
      "ProfileData for Investor id: 108\n",
      "The length of ProfileData is: (1, 20)\n",
      "Technology\n"
     ]
    },
    {
     "name": "stderr",
     "output_type": "stream",
     "text": [
      "127.0.0.1 - - [11/May/2024 13:05:05] \"POST /predict_tolerance_risk HTTP/1.1\" 200 -\n"
     ]
    },
    {
     "name": "stdout",
     "output_type": "stream",
     "text": [
      "activity Technology\n",
      "ProfileData for Investor id: 108\n",
      "The length of ProfileData is: (1, 20)\n",
      "Technology\n"
     ]
    },
    {
     "name": "stderr",
     "output_type": "stream",
     "text": [
      "127.0.0.1 - - [11/May/2024 13:05:43] \"POST /predict_tolerance_risk HTTP/1.1\" 200 -\n"
     ]
    },
    {
     "name": "stdout",
     "output_type": "stream",
     "text": [
      "activity Technology\n"
     ]
    },
    {
     "name": "stderr",
     "output_type": "stream",
     "text": [
      "127.0.0.1 - - [11/May/2024 13:05:44] \"OPTIONS /predict_tolerance_risk HTTP/1.1\" 200 -\n"
     ]
    },
    {
     "name": "stdout",
     "output_type": "stream",
     "text": [
      "ProfileData for Investor id: 108\n",
      "The length of ProfileData is: (1, 20)\n",
      "Technology\n",
      "ProfileData for Investor id: 108\n",
      "The length of ProfileData is: (1, 20)\n",
      "Technology\n"
     ]
    },
    {
     "name": "stderr",
     "output_type": "stream",
     "text": [
      "127.0.0.1 - - [11/May/2024 13:05:47] \"POST /predict_tolerance_risk HTTP/1.1\" 200 -\n"
     ]
    },
    {
     "name": "stdout",
     "output_type": "stream",
     "text": [
      "activity Technology\n"
     ]
    },
    {
     "name": "stderr",
     "output_type": "stream",
     "text": [
      "127.0.0.1 - - [11/May/2024 13:05:49] \"POST /predict_tolerance_risk HTTP/1.1\" 200 -\n"
     ]
    },
    {
     "name": "stdout",
     "output_type": "stream",
     "text": [
      "activity Technology\n",
      "ProfileData for Investor id: 108\n",
      "The length of ProfileData is: (1, 20)\n",
      "Technology\n"
     ]
    },
    {
     "name": "stderr",
     "output_type": "stream",
     "text": [
      "127.0.0.1 - - [11/May/2024 13:06:25] \"POST /predict_tolerance_risk HTTP/1.1\" 200 -\n"
     ]
    },
    {
     "name": "stdout",
     "output_type": "stream",
     "text": [
      "activity Technology\n",
      "ProfileData for Investor id: 108\n",
      "The length of ProfileData is: (1, 20)\n",
      "Technology\n"
     ]
    },
    {
     "name": "stderr",
     "output_type": "stream",
     "text": [
      "127.0.0.1 - - [11/May/2024 13:06:29] \"POST /predict_tolerance_risk HTTP/1.1\" 200 -\n"
     ]
    },
    {
     "name": "stdout",
     "output_type": "stream",
     "text": [
      "activity Technology\n"
     ]
    },
    {
     "name": "stderr",
     "output_type": "stream",
     "text": [
      "127.0.0.1 - - [11/May/2024 13:09:00] \"OPTIONS /predict_tolerance_risk HTTP/1.1\" 200 -\n"
     ]
    },
    {
     "name": "stdout",
     "output_type": "stream",
     "text": [
      "ProfileData for Investor id: 108\n",
      "The length of ProfileData is: (1, 20)\n",
      "Technology\n"
     ]
    },
    {
     "name": "stderr",
     "output_type": "stream",
     "text": [
      "127.0.0.1 - - [11/May/2024 13:09:02] \"POST /predict_tolerance_risk HTTP/1.1\" 200 -\n"
     ]
    },
    {
     "name": "stdout",
     "output_type": "stream",
     "text": [
      "activity Technology\n",
      "ProfileData for Investor id: 108\n",
      "The length of ProfileData is: (1, 20)\n",
      "Technology\n"
     ]
    },
    {
     "name": "stderr",
     "output_type": "stream",
     "text": [
      "127.0.0.1 - - [11/May/2024 13:09:40] \"POST /predict_tolerance_risk HTTP/1.1\" 200 -\n"
     ]
    },
    {
     "name": "stdout",
     "output_type": "stream",
     "text": [
      "activity Technology\n",
      "ProfileData for Investor id: 108\n",
      "The length of ProfileData is: (1, 20)\n",
      "Technology\n"
     ]
    },
    {
     "name": "stderr",
     "output_type": "stream",
     "text": [
      "127.0.0.1 - - [11/May/2024 13:09:45] \"POST /predict_tolerance_risk HTTP/1.1\" 200 -\n"
     ]
    },
    {
     "name": "stdout",
     "output_type": "stream",
     "text": [
      "activity Technology\n"
     ]
    },
    {
     "name": "stderr",
     "output_type": "stream",
     "text": [
      "127.0.0.1 - - [11/May/2024 13:10:45] \"OPTIONS /predict_tolerance_risk HTTP/1.1\" 200 -\n"
     ]
    },
    {
     "name": "stdout",
     "output_type": "stream",
     "text": [
      "ProfileData for Investor id: 108\n",
      "The length of ProfileData is: (1, 20)\n",
      "Technology\n"
     ]
    },
    {
     "name": "stderr",
     "output_type": "stream",
     "text": [
      "127.0.0.1 - - [11/May/2024 13:10:48] \"POST /predict_tolerance_risk HTTP/1.1\" 200 -\n"
     ]
    },
    {
     "name": "stdout",
     "output_type": "stream",
     "text": [
      "activity Technology\n",
      "ProfileData for Investor id: 108\n",
      "The length of ProfileData is: (1, 20)\n",
      "Technology\n"
     ]
    },
    {
     "name": "stderr",
     "output_type": "stream",
     "text": [
      "127.0.0.1 - - [11/May/2024 13:11:25] \"POST /predict_tolerance_risk HTTP/1.1\" 200 -\n"
     ]
    },
    {
     "name": "stdout",
     "output_type": "stream",
     "text": [
      "activity Technology\n",
      "ProfileData for Investor id: 108\n",
      "The length of ProfileData is: (1, 20)\n",
      "Technology\n"
     ]
    },
    {
     "name": "stderr",
     "output_type": "stream",
     "text": [
      "127.0.0.1 - - [11/May/2024 13:11:30] \"POST /predict_tolerance_risk HTTP/1.1\" 200 -\n"
     ]
    },
    {
     "name": "stdout",
     "output_type": "stream",
     "text": [
      "activity Technology\n"
     ]
    },
    {
     "name": "stderr",
     "output_type": "stream",
     "text": [
      "127.0.0.1 - - [11/May/2024 13:11:44] \"OPTIONS /predict_tolerance_risk HTTP/1.1\" 200 -\n"
     ]
    },
    {
     "name": "stdout",
     "output_type": "stream",
     "text": [
      "ProfileData for Investor id: 108\n",
      "The length of ProfileData is: (1, 20)\n",
      "Technology\n"
     ]
    },
    {
     "name": "stderr",
     "output_type": "stream",
     "text": [
      "127.0.0.1 - - [11/May/2024 13:11:46] \"POST /predict_tolerance_risk HTTP/1.1\" 200 -\n"
     ]
    },
    {
     "name": "stdout",
     "output_type": "stream",
     "text": [
      "activity Technology\n",
      "ProfileData for Investor id: 108\n",
      "The length of ProfileData is: (1, 20)\n",
      "Technology\n"
     ]
    },
    {
     "name": "stderr",
     "output_type": "stream",
     "text": [
      "127.0.0.1 - - [11/May/2024 13:12:25] \"POST /predict_tolerance_risk HTTP/1.1\" 200 -\n"
     ]
    },
    {
     "name": "stdout",
     "output_type": "stream",
     "text": [
      "activity Technology\n",
      "ProfileData for Investor id: 108\n",
      "The length of ProfileData is: (1, 20)\n",
      "Technology\n"
     ]
    },
    {
     "name": "stderr",
     "output_type": "stream",
     "text": [
      "127.0.0.1 - - [11/May/2024 13:12:29] \"POST /predict_tolerance_risk HTTP/1.1\" 200 -\n"
     ]
    },
    {
     "name": "stdout",
     "output_type": "stream",
     "text": [
      "activity Technology\n"
     ]
    },
    {
     "name": "stderr",
     "output_type": "stream",
     "text": [
      "127.0.0.1 - - [11/May/2024 13:24:02] \"OPTIONS /predict_tolerance_risk HTTP/1.1\" 200 -\n"
     ]
    },
    {
     "name": "stdout",
     "output_type": "stream",
     "text": [
      "ProfileData for Investor id: 108\n",
      "The length of ProfileData is: (1, 20)\n",
      "Technology\n"
     ]
    },
    {
     "name": "stderr",
     "output_type": "stream",
     "text": [
      "127.0.0.1 - - [11/May/2024 13:24:05] \"POST /predict_tolerance_risk HTTP/1.1\" 200 -\n"
     ]
    },
    {
     "name": "stdout",
     "output_type": "stream",
     "text": [
      "activity Technology\n",
      "ProfileData for Investor id: 108\n",
      "The length of ProfileData is: (1, 20)\n",
      "Technology\n"
     ]
    },
    {
     "name": "stderr",
     "output_type": "stream",
     "text": [
      "127.0.0.1 - - [11/May/2024 13:24:43] \"POST /predict_tolerance_risk HTTP/1.1\" 200 -\n"
     ]
    },
    {
     "name": "stdout",
     "output_type": "stream",
     "text": [
      "activity Technology\n",
      "ProfileData for Investor id: 108\n",
      "The length of ProfileData is: (1, 20)\n",
      "Technology\n"
     ]
    },
    {
     "name": "stderr",
     "output_type": "stream",
     "text": [
      "127.0.0.1 - - [11/May/2024 13:24:48] \"POST /predict_tolerance_risk HTTP/1.1\" 200 -\n"
     ]
    },
    {
     "name": "stdout",
     "output_type": "stream",
     "text": [
      "activity Technology\n"
     ]
    },
    {
     "name": "stderr",
     "output_type": "stream",
     "text": [
      "127.0.0.1 - - [11/May/2024 13:25:53] \"OPTIONS /predict_tolerance_risk HTTP/1.1\" 200 -\n"
     ]
    },
    {
     "name": "stdout",
     "output_type": "stream",
     "text": [
      "ProfileData for Investor id: 108\n",
      "The length of ProfileData is: (1, 20)\n",
      "Technology\n"
     ]
    },
    {
     "name": "stderr",
     "output_type": "stream",
     "text": [
      "127.0.0.1 - - [11/May/2024 13:25:55] \"POST /predict_tolerance_risk HTTP/1.1\" 200 -\n"
     ]
    },
    {
     "name": "stdout",
     "output_type": "stream",
     "text": [
      "activity Technology\n",
      "ProfileData for Investor id: 108\n",
      "The length of ProfileData is: (1, 20)\n",
      "Technology\n"
     ]
    },
    {
     "name": "stderr",
     "output_type": "stream",
     "text": [
      "127.0.0.1 - - [11/May/2024 13:26:31] \"POST /predict_tolerance_risk HTTP/1.1\" 200 -\n"
     ]
    },
    {
     "name": "stdout",
     "output_type": "stream",
     "text": [
      "activity Technology\n",
      "ProfileData for Investor id: 108\n",
      "The length of ProfileData is: (1, 20)\n",
      "Technology\n"
     ]
    },
    {
     "name": "stderr",
     "output_type": "stream",
     "text": [
      "127.0.0.1 - - [11/May/2024 13:26:35] \"POST /predict_tolerance_risk HTTP/1.1\" 200 -\n"
     ]
    },
    {
     "name": "stdout",
     "output_type": "stream",
     "text": [
      "activity Technology\n"
     ]
    },
    {
     "name": "stderr",
     "output_type": "stream",
     "text": [
      "127.0.0.1 - - [11/May/2024 13:30:40] \"OPTIONS /predict_tolerance_risk HTTP/1.1\" 200 -\n"
     ]
    },
    {
     "name": "stdout",
     "output_type": "stream",
     "text": [
      "ProfileData for Investor id: 108\n",
      "The length of ProfileData is: (1, 20)\n",
      "Technology\n"
     ]
    },
    {
     "name": "stderr",
     "output_type": "stream",
     "text": [
      "127.0.0.1 - - [11/May/2024 13:30:43] \"POST /predict_tolerance_risk HTTP/1.1\" 200 -\n"
     ]
    },
    {
     "name": "stdout",
     "output_type": "stream",
     "text": [
      "activity Technology\n",
      "ProfileData for Investor id: 108\n",
      "The length of ProfileData is: (1, 20)\n",
      "Technology\n"
     ]
    },
    {
     "name": "stderr",
     "output_type": "stream",
     "text": [
      "127.0.0.1 - - [11/May/2024 13:31:19] \"POST /predict_tolerance_risk HTTP/1.1\" 200 -\n"
     ]
    },
    {
     "name": "stdout",
     "output_type": "stream",
     "text": [
      "activity Technology\n",
      "ProfileData for Investor id: 108\n",
      "The length of ProfileData is: (1, 20)\n",
      "Technology\n"
     ]
    },
    {
     "name": "stderr",
     "output_type": "stream",
     "text": [
      "127.0.0.1 - - [11/May/2024 13:31:23] \"POST /predict_tolerance_risk HTTP/1.1\" 200 -\n"
     ]
    },
    {
     "name": "stdout",
     "output_type": "stream",
     "text": [
      "activity Technology\n"
     ]
    },
    {
     "name": "stderr",
     "output_type": "stream",
     "text": [
      "127.0.0.1 - - [11/May/2024 13:49:36] \"OPTIONS /predict_tolerance_risk HTTP/1.1\" 200 -\n"
     ]
    },
    {
     "name": "stdout",
     "output_type": "stream",
     "text": [
      "ProfileData for Investor id: 108\n",
      "The length of ProfileData is: (1, 20)\n",
      "Technology\n"
     ]
    },
    {
     "name": "stderr",
     "output_type": "stream",
     "text": [
      "127.0.0.1 - - [11/May/2024 13:49:39] \"POST /predict_tolerance_risk HTTP/1.1\" 200 -\n"
     ]
    },
    {
     "name": "stdout",
     "output_type": "stream",
     "text": [
      "activity Technology\n",
      "ProfileData for Investor id: 108\n",
      "The length of ProfileData is: (1, 20)\n",
      "Technology\n"
     ]
    },
    {
     "name": "stderr",
     "output_type": "stream",
     "text": [
      "127.0.0.1 - - [11/May/2024 13:50:21] \"POST /predict_tolerance_risk HTTP/1.1\" 200 -\n"
     ]
    },
    {
     "name": "stdout",
     "output_type": "stream",
     "text": [
      "activity Technology\n",
      "ProfileData for Investor id: 108\n",
      "The length of ProfileData is: (1, 20)\n",
      "Technology\n"
     ]
    },
    {
     "name": "stderr",
     "output_type": "stream",
     "text": [
      "127.0.0.1 - - [11/May/2024 13:50:25] \"POST /predict_tolerance_risk HTTP/1.1\" 200 -\n"
     ]
    },
    {
     "name": "stdout",
     "output_type": "stream",
     "text": [
      "activity Technology\n"
     ]
    },
    {
     "name": "stderr",
     "output_type": "stream",
     "text": [
      "127.0.0.1 - - [11/May/2024 13:50:55] \"OPTIONS /predict_tolerance_risk HTTP/1.1\" 200 -\n"
     ]
    },
    {
     "name": "stdout",
     "output_type": "stream",
     "text": [
      "ProfileData for Investor id: 108\n",
      "The length of ProfileData is: (1, 20)\n",
      "Technology\n"
     ]
    },
    {
     "name": "stderr",
     "output_type": "stream",
     "text": [
      "127.0.0.1 - - [11/May/2024 13:50:57] \"POST /predict_tolerance_risk HTTP/1.1\" 200 -\n"
     ]
    },
    {
     "name": "stdout",
     "output_type": "stream",
     "text": [
      "activity Technology\n",
      "ProfileData for Investor id: 108\n",
      "The length of ProfileData is: (1, 20)\n",
      "Technology\n"
     ]
    },
    {
     "name": "stderr",
     "output_type": "stream",
     "text": [
      "127.0.0.1 - - [11/May/2024 13:51:34] \"POST /predict_tolerance_risk HTTP/1.1\" 200 -\n"
     ]
    },
    {
     "name": "stdout",
     "output_type": "stream",
     "text": [
      "activity Technology\n",
      "ProfileData for Investor id: 108\n",
      "The length of ProfileData is: (1, 20)\n",
      "Technology\n"
     ]
    },
    {
     "name": "stderr",
     "output_type": "stream",
     "text": [
      "127.0.0.1 - - [11/May/2024 13:51:38] \"POST /predict_tolerance_risk HTTP/1.1\" 200 -\n"
     ]
    },
    {
     "name": "stdout",
     "output_type": "stream",
     "text": [
      "activity Technology\n"
     ]
    },
    {
     "name": "stderr",
     "output_type": "stream",
     "text": [
      "127.0.0.1 - - [11/May/2024 13:54:33] \"OPTIONS /predict_tolerance_risk HTTP/1.1\" 200 -\n"
     ]
    },
    {
     "name": "stdout",
     "output_type": "stream",
     "text": [
      "ProfileData for Investor id: 108\n",
      "The length of ProfileData is: (1, 20)\n",
      "Technology\n"
     ]
    },
    {
     "name": "stderr",
     "output_type": "stream",
     "text": [
      "127.0.0.1 - - [11/May/2024 13:54:35] \"POST /predict_tolerance_risk HTTP/1.1\" 200 -\n"
     ]
    },
    {
     "name": "stdout",
     "output_type": "stream",
     "text": [
      "activity Technology\n",
      "ProfileData for Investor id: 108\n",
      "The length of ProfileData is: (1, 20)\n",
      "Technology\n"
     ]
    },
    {
     "name": "stderr",
     "output_type": "stream",
     "text": [
      "127.0.0.1 - - [11/May/2024 13:55:12] \"POST /predict_tolerance_risk HTTP/1.1\" 200 -\n"
     ]
    },
    {
     "name": "stdout",
     "output_type": "stream",
     "text": [
      "activity Technology\n",
      "ProfileData for Investor id: 108\n",
      "The length of ProfileData is: (1, 20)\n",
      "Technology\n"
     ]
    },
    {
     "name": "stderr",
     "output_type": "stream",
     "text": [
      "127.0.0.1 - - [11/May/2024 13:55:16] \"POST /predict_tolerance_risk HTTP/1.1\" 200 -\n"
     ]
    },
    {
     "name": "stdout",
     "output_type": "stream",
     "text": [
      "activity Technology\n"
     ]
    },
    {
     "name": "stderr",
     "output_type": "stream",
     "text": [
      "127.0.0.1 - - [11/May/2024 14:10:04] \"OPTIONS /predict_tolerance_risk HTTP/1.1\" 200 -\n"
     ]
    },
    {
     "name": "stdout",
     "output_type": "stream",
     "text": [
      "ProfileData for Investor id: 108\n",
      "The length of ProfileData is: (1, 20)\n",
      "Technology\n"
     ]
    },
    {
     "name": "stderr",
     "output_type": "stream",
     "text": [
      "127.0.0.1 - - [11/May/2024 14:10:07] \"POST /predict_tolerance_risk HTTP/1.1\" 200 -\n"
     ]
    },
    {
     "name": "stdout",
     "output_type": "stream",
     "text": [
      "activity Technology\n",
      "ProfileData for Investor id: 108\n",
      "The length of ProfileData is: (1, 20)\n",
      "Technology\n"
     ]
    },
    {
     "name": "stderr",
     "output_type": "stream",
     "text": [
      "127.0.0.1 - - [11/May/2024 14:10:45] \"POST /predict_tolerance_risk HTTP/1.1\" 200 -\n"
     ]
    },
    {
     "name": "stdout",
     "output_type": "stream",
     "text": [
      "activity Technology\n",
      "ProfileData for Investor id: 108\n",
      "The length of ProfileData is: (1, 20)\n",
      "Technology\n"
     ]
    },
    {
     "name": "stderr",
     "output_type": "stream",
     "text": [
      "127.0.0.1 - - [11/May/2024 14:10:49] \"POST /predict_tolerance_risk HTTP/1.1\" 200 -\n"
     ]
    },
    {
     "name": "stdout",
     "output_type": "stream",
     "text": [
      "activity Technology\n"
     ]
    },
    {
     "name": "stderr",
     "output_type": "stream",
     "text": [
      "127.0.0.1 - - [11/May/2024 14:11:11] \"OPTIONS /predict_tolerance_risk HTTP/1.1\" 200 -\n"
     ]
    },
    {
     "name": "stdout",
     "output_type": "stream",
     "text": [
      "ProfileData for Investor id: 108\n",
      "The length of ProfileData is: (1, 20)\n",
      "Technology\n"
     ]
    },
    {
     "name": "stderr",
     "output_type": "stream",
     "text": [
      "127.0.0.1 - - [11/May/2024 14:11:14] \"POST /predict_tolerance_risk HTTP/1.1\" 200 -\n"
     ]
    },
    {
     "name": "stdout",
     "output_type": "stream",
     "text": [
      "activity Technology\n",
      "ProfileData for Investor id: 108\n",
      "The length of ProfileData is: (1, 20)\n",
      "Technology\n"
     ]
    },
    {
     "name": "stderr",
     "output_type": "stream",
     "text": [
      "127.0.0.1 - - [11/May/2024 14:11:59] \"POST /predict_tolerance_risk HTTP/1.1\" 200 -\n"
     ]
    },
    {
     "name": "stdout",
     "output_type": "stream",
     "text": [
      "activity Technology\n"
     ]
    },
    {
     "name": "stderr",
     "output_type": "stream",
     "text": [
      "127.0.0.1 - - [11/May/2024 14:11:59] \"OPTIONS /predict_tolerance_risk HTTP/1.1\" 200 -\n"
     ]
    },
    {
     "name": "stdout",
     "output_type": "stream",
     "text": [
      "ProfileData for Investor id: 108\n",
      "The length of ProfileData is: (1, 20)\n",
      "Technology\n",
      "ProfileData for Investor id: 108\n",
      "The length of ProfileData is: (1, 20)\n",
      "Technology\n"
     ]
    },
    {
     "name": "stderr",
     "output_type": "stream",
     "text": [
      "127.0.0.1 - - [11/May/2024 14:12:02] \"POST /predict_tolerance_risk HTTP/1.1\" 200 -\n"
     ]
    },
    {
     "name": "stdout",
     "output_type": "stream",
     "text": [
      "activity Technology\n"
     ]
    },
    {
     "name": "stderr",
     "output_type": "stream",
     "text": [
      "127.0.0.1 - - [11/May/2024 14:12:04] \"POST /predict_tolerance_risk HTTP/1.1\" 200 -\n"
     ]
    },
    {
     "name": "stdout",
     "output_type": "stream",
     "text": [
      "activity Technology\n",
      "ProfileData for Investor id: 108\n",
      "The length of ProfileData is: (1, 20)\n",
      "Technology\n"
     ]
    },
    {
     "name": "stderr",
     "output_type": "stream",
     "text": [
      "127.0.0.1 - - [11/May/2024 14:12:47] \"POST /predict_tolerance_risk HTTP/1.1\" 200 -\n"
     ]
    },
    {
     "name": "stdout",
     "output_type": "stream",
     "text": [
      "activity Technology\n",
      "ProfileData for Investor id: 108\n",
      "The length of ProfileData is: (1, 20)\n",
      "Technology\n"
     ]
    },
    {
     "name": "stderr",
     "output_type": "stream",
     "text": [
      "127.0.0.1 - - [11/May/2024 14:12:52] \"POST /predict_tolerance_risk HTTP/1.1\" 200 -\n"
     ]
    },
    {
     "name": "stdout",
     "output_type": "stream",
     "text": [
      "activity Technology\n"
     ]
    },
    {
     "name": "stderr",
     "output_type": "stream",
     "text": [
      "127.0.0.1 - - [11/May/2024 14:15:12] \"OPTIONS /predict_tolerance_risk HTTP/1.1\" 200 -\n"
     ]
    },
    {
     "name": "stdout",
     "output_type": "stream",
     "text": [
      "ProfileData for Investor id: 108\n",
      "The length of ProfileData is: (1, 20)\n",
      "Technology\n"
     ]
    },
    {
     "name": "stderr",
     "output_type": "stream",
     "text": [
      "127.0.0.1 - - [11/May/2024 14:15:14] \"POST /predict_tolerance_risk HTTP/1.1\" 200 -\n"
     ]
    },
    {
     "name": "stdout",
     "output_type": "stream",
     "text": [
      "activity Technology\n"
     ]
    },
    {
     "name": "stderr",
     "output_type": "stream",
     "text": [
      "127.0.0.1 - - [11/May/2024 14:15:47] \"OPTIONS /predict_tolerance_risk HTTP/1.1\" 200 -\n"
     ]
    },
    {
     "name": "stdout",
     "output_type": "stream",
     "text": [
      "ProfileData for Investor id: 108\n",
      "The length of ProfileData is: (1, 20)\n",
      "Technology\n"
     ]
    },
    {
     "name": "stderr",
     "output_type": "stream",
     "text": [
      "127.0.0.1 - - [11/May/2024 14:15:50] \"POST /predict_tolerance_risk HTTP/1.1\" 200 -\n"
     ]
    },
    {
     "name": "stdout",
     "output_type": "stream",
     "text": [
      "activity Technology\n",
      "ProfileData for Investor id: 108\n",
      "The length of ProfileData is: (1, 20)\n",
      "Technology\n"
     ]
    },
    {
     "name": "stderr",
     "output_type": "stream",
     "text": [
      "127.0.0.1 - - [11/May/2024 14:16:10] \"POST /predict_tolerance_risk HTTP/1.1\" 200 -\n"
     ]
    },
    {
     "name": "stdout",
     "output_type": "stream",
     "text": [
      "activity Technology\n",
      "ProfileData for Investor id: 108\n",
      "The length of ProfileData is: (1, 20)\n",
      "Technology\n"
     ]
    },
    {
     "name": "stderr",
     "output_type": "stream",
     "text": [
      "127.0.0.1 - - [11/May/2024 14:16:16] \"POST /predict_tolerance_risk HTTP/1.1\" 200 -\n"
     ]
    },
    {
     "name": "stdout",
     "output_type": "stream",
     "text": [
      "activity Technology\n",
      "ProfileData for Investor id: 108\n",
      "The length of ProfileData is: (1, 20)\n",
      "Technology\n"
     ]
    },
    {
     "name": "stderr",
     "output_type": "stream",
     "text": [
      "127.0.0.1 - - [11/May/2024 14:16:44] \"POST /predict_tolerance_risk HTTP/1.1\" 200 -\n"
     ]
    },
    {
     "name": "stdout",
     "output_type": "stream",
     "text": [
      "activity Technology\n",
      "ProfileData for Investor id: 108\n",
      "The length of ProfileData is: (1, 20)\n",
      "Technology\n"
     ]
    },
    {
     "name": "stderr",
     "output_type": "stream",
     "text": [
      "127.0.0.1 - - [11/May/2024 14:16:49] \"POST /predict_tolerance_risk HTTP/1.1\" 200 -\n"
     ]
    },
    {
     "name": "stdout",
     "output_type": "stream",
     "text": [
      "activity Technology\n"
     ]
    },
    {
     "name": "stderr",
     "output_type": "stream",
     "text": [
      "127.0.0.1 - - [11/May/2024 14:19:58] \"OPTIONS /predict_tolerance_risk HTTP/1.1\" 200 -\n"
     ]
    },
    {
     "name": "stdout",
     "output_type": "stream",
     "text": [
      "ProfileData for Investor id: 108\n",
      "The length of ProfileData is: (1, 20)\n",
      "Technology\n"
     ]
    },
    {
     "name": "stderr",
     "output_type": "stream",
     "text": [
      "127.0.0.1 - - [11/May/2024 14:20:01] \"POST /predict_tolerance_risk HTTP/1.1\" 200 -\n"
     ]
    },
    {
     "name": "stdout",
     "output_type": "stream",
     "text": [
      "activity Technology\n",
      "ProfileData for Investor id: 108\n",
      "The length of ProfileData is: (1, 20)\n",
      "Technology\n"
     ]
    },
    {
     "name": "stderr",
     "output_type": "stream",
     "text": [
      "127.0.0.1 - - [11/May/2024 14:20:43] \"POST /predict_tolerance_risk HTTP/1.1\" 200 -\n"
     ]
    },
    {
     "name": "stdout",
     "output_type": "stream",
     "text": [
      "activity Technology\n",
      "ProfileData for Investor id: 108\n",
      "The length of ProfileData is: (1, 20)\n",
      "Technology\n"
     ]
    },
    {
     "name": "stderr",
     "output_type": "stream",
     "text": [
      "127.0.0.1 - - [11/May/2024 14:20:47] \"POST /predict_tolerance_risk HTTP/1.1\" 200 -\n"
     ]
    },
    {
     "name": "stdout",
     "output_type": "stream",
     "text": [
      "activity Technology\n"
     ]
    },
    {
     "name": "stderr",
     "output_type": "stream",
     "text": [
      "127.0.0.1 - - [11/May/2024 14:26:28] \"OPTIONS /predict_tolerance_risk HTTP/1.1\" 200 -\n"
     ]
    },
    {
     "name": "stdout",
     "output_type": "stream",
     "text": [
      "ProfileData for Investor id: 108\n",
      "The length of ProfileData is: (1, 20)\n",
      "Technology\n"
     ]
    },
    {
     "name": "stderr",
     "output_type": "stream",
     "text": [
      "127.0.0.1 - - [11/May/2024 14:26:31] \"POST /predict_tolerance_risk HTTP/1.1\" 200 -\n"
     ]
    },
    {
     "name": "stdout",
     "output_type": "stream",
     "text": [
      "activity Technology\n",
      "ProfileData for Investor id: 108\n",
      "The length of ProfileData is: (1, 20)\n",
      "Technology\n"
     ]
    },
    {
     "name": "stderr",
     "output_type": "stream",
     "text": [
      "127.0.0.1 - - [11/May/2024 14:27:14] \"POST /predict_tolerance_risk HTTP/1.1\" 200 -\n"
     ]
    },
    {
     "name": "stdout",
     "output_type": "stream",
     "text": [
      "activity Technology\n",
      "ProfileData for Investor id: 108\n",
      "The length of ProfileData is: (1, 20)\n",
      "Technology\n"
     ]
    },
    {
     "name": "stderr",
     "output_type": "stream",
     "text": [
      "127.0.0.1 - - [11/May/2024 14:27:20] \"POST /predict_tolerance_risk HTTP/1.1\" 200 -\n"
     ]
    },
    {
     "name": "stdout",
     "output_type": "stream",
     "text": [
      "activity Technology\n"
     ]
    },
    {
     "name": "stderr",
     "output_type": "stream",
     "text": [
      "127.0.0.1 - - [11/May/2024 14:27:33] \"OPTIONS /predict_tolerance_risk HTTP/1.1\" 200 -\n"
     ]
    },
    {
     "name": "stdout",
     "output_type": "stream",
     "text": [
      "ProfileData for Investor id: 108\n",
      "The length of ProfileData is: (1, 20)\n",
      "Technology\n"
     ]
    },
    {
     "name": "stderr",
     "output_type": "stream",
     "text": [
      "127.0.0.1 - - [11/May/2024 14:27:35] \"POST /predict_tolerance_risk HTTP/1.1\" 200 -\n"
     ]
    },
    {
     "name": "stdout",
     "output_type": "stream",
     "text": [
      "activity Technology\n"
     ]
    },
    {
     "name": "stderr",
     "output_type": "stream",
     "text": [
      "127.0.0.1 - - [11/May/2024 14:28:20] \"OPTIONS /predict_tolerance_risk HTTP/1.1\" 200 -\n"
     ]
    },
    {
     "name": "stdout",
     "output_type": "stream",
     "text": [
      "ProfileData for Investor id: 108\n",
      "The length of ProfileData is: (1, 20)\n",
      "Technology\n"
     ]
    },
    {
     "name": "stderr",
     "output_type": "stream",
     "text": [
      "127.0.0.1 - - [11/May/2024 14:28:23] \"POST /predict_tolerance_risk HTTP/1.1\" 200 -\n"
     ]
    },
    {
     "name": "stdout",
     "output_type": "stream",
     "text": [
      "activity Technology\n",
      "ProfileData for Investor id: 108\n",
      "The length of ProfileData is: (1, 20)\n",
      "Technology\n"
     ]
    },
    {
     "name": "stderr",
     "output_type": "stream",
     "text": [
      "127.0.0.1 - - [11/May/2024 14:28:31] \"POST /predict_tolerance_risk HTTP/1.1\" 200 -\n"
     ]
    },
    {
     "name": "stdout",
     "output_type": "stream",
     "text": [
      "activity Technology\n",
      "ProfileData for Investor id: 108\n",
      "The length of ProfileData is: (1, 20)\n",
      "Technology\n"
     ]
    },
    {
     "name": "stderr",
     "output_type": "stream",
     "text": [
      "127.0.0.1 - - [11/May/2024 14:28:37] \"POST /predict_tolerance_risk HTTP/1.1\" 200 -\n"
     ]
    },
    {
     "name": "stdout",
     "output_type": "stream",
     "text": [
      "activity Technology\n",
      "ProfileData for Investor id: 108\n",
      "The length of ProfileData is: (1, 20)\n",
      "Technology\n"
     ]
    },
    {
     "name": "stderr",
     "output_type": "stream",
     "text": [
      "127.0.0.1 - - [11/May/2024 14:29:26] \"POST /predict_tolerance_risk HTTP/1.1\" 200 -\n"
     ]
    },
    {
     "name": "stdout",
     "output_type": "stream",
     "text": [
      "activity Technology\n",
      "ProfileData for Investor id: 108\n",
      "The length of ProfileData is: (1, 20)\n",
      "Technology\n"
     ]
    },
    {
     "name": "stderr",
     "output_type": "stream",
     "text": [
      "127.0.0.1 - - [11/May/2024 14:29:30] \"POST /predict_tolerance_risk HTTP/1.1\" 200 -\n"
     ]
    },
    {
     "name": "stdout",
     "output_type": "stream",
     "text": [
      "activity Technology\n"
     ]
    },
    {
     "name": "stderr",
     "output_type": "stream",
     "text": [
      "127.0.0.1 - - [11/May/2024 14:29:33] \"OPTIONS /predict_tolerance_risk HTTP/1.1\" 200 -\n"
     ]
    },
    {
     "name": "stdout",
     "output_type": "stream",
     "text": [
      "ProfileData for Investor id: 108\n",
      "The length of ProfileData is: (1, 20)\n",
      "Technology\n"
     ]
    },
    {
     "name": "stderr",
     "output_type": "stream",
     "text": [
      "127.0.0.1 - - [11/May/2024 14:29:36] \"POST /predict_tolerance_risk HTTP/1.1\" 200 -\n"
     ]
    },
    {
     "name": "stdout",
     "output_type": "stream",
     "text": [
      "activity Technology\n"
     ]
    },
    {
     "name": "stderr",
     "output_type": "stream",
     "text": [
      "127.0.0.1 - - [11/May/2024 14:30:01] \"OPTIONS /predict_tolerance_risk HTTP/1.1\" 200 -\n"
     ]
    },
    {
     "name": "stdout",
     "output_type": "stream",
     "text": [
      "ProfileData for Investor id: 108\n",
      "The length of ProfileData is: (1, 20)\n",
      "Technology\n"
     ]
    },
    {
     "name": "stderr",
     "output_type": "stream",
     "text": [
      "127.0.0.1 - - [11/May/2024 14:30:05] \"POST /predict_tolerance_risk HTTP/1.1\" 200 -\n"
     ]
    },
    {
     "name": "stdout",
     "output_type": "stream",
     "text": [
      "activity Technology\n"
     ]
    },
    {
     "name": "stderr",
     "output_type": "stream",
     "text": [
      "127.0.0.1 - - [11/May/2024 14:30:21] \"OPTIONS /predict_tolerance_risk HTTP/1.1\" 200 -\n"
     ]
    },
    {
     "name": "stdout",
     "output_type": "stream",
     "text": [
      "ProfileData for Investor id: 108\n",
      "The length of ProfileData is: (1, 20)\n",
      "Technology\n"
     ]
    },
    {
     "name": "stderr",
     "output_type": "stream",
     "text": [
      "127.0.0.1 - - [11/May/2024 14:30:24] \"POST /predict_tolerance_risk HTTP/1.1\" 200 -\n"
     ]
    },
    {
     "name": "stdout",
     "output_type": "stream",
     "text": [
      "activity Technology\n",
      "ProfileData for Investor id: 108\n",
      "The length of ProfileData is: (1, 20)\n",
      "Technology\n"
     ]
    },
    {
     "name": "stderr",
     "output_type": "stream",
     "text": [
      "127.0.0.1 - - [11/May/2024 14:30:47] \"POST /predict_tolerance_risk HTTP/1.1\" 200 -\n"
     ]
    },
    {
     "name": "stdout",
     "output_type": "stream",
     "text": [
      "activity Technology\n",
      "ProfileData for Investor id: 108\n",
      "The length of ProfileData is: (1, 20)\n",
      "Technology\n"
     ]
    },
    {
     "name": "stderr",
     "output_type": "stream",
     "text": [
      "127.0.0.1 - - [11/May/2024 14:30:54] \"POST /predict_tolerance_risk HTTP/1.1\" 200 -\n"
     ]
    },
    {
     "name": "stdout",
     "output_type": "stream",
     "text": [
      "activity Technology\n"
     ]
    },
    {
     "name": "stderr",
     "output_type": "stream",
     "text": [
      "127.0.0.1 - - [11/May/2024 14:30:58] \"OPTIONS /predict_tolerance_risk HTTP/1.1\" 200 -\n"
     ]
    },
    {
     "name": "stdout",
     "output_type": "stream",
     "text": [
      "ProfileData for Investor id: 108\n",
      "The length of ProfileData is: (1, 20)\n",
      "Technology\n"
     ]
    },
    {
     "name": "stderr",
     "output_type": "stream",
     "text": [
      "127.0.0.1 - - [11/May/2024 14:31:01] \"POST /predict_tolerance_risk HTTP/1.1\" 200 -\n"
     ]
    },
    {
     "name": "stdout",
     "output_type": "stream",
     "text": [
      "activity Technology\n",
      "ProfileData for Investor id: 108\n",
      "The length of ProfileData is: (1, 20)\n",
      "Technology\n"
     ]
    },
    {
     "name": "stderr",
     "output_type": "stream",
     "text": [
      "127.0.0.1 - - [11/May/2024 14:32:01] \"POST /predict_tolerance_risk HTTP/1.1\" 200 -\n"
     ]
    },
    {
     "name": "stdout",
     "output_type": "stream",
     "text": [
      "activity Technology\n",
      "ProfileData for Investor id: 108\n",
      "The length of ProfileData is: (1, 20)\n",
      "Technology\n"
     ]
    },
    {
     "name": "stderr",
     "output_type": "stream",
     "text": [
      "127.0.0.1 - - [11/May/2024 14:32:07] \"POST /predict_tolerance_risk HTTP/1.1\" 200 -\n"
     ]
    },
    {
     "name": "stdout",
     "output_type": "stream",
     "text": [
      "activity Technology\n",
      "ProfileData for Investor id: 108\n",
      "The length of ProfileData is: (1, 20)\n",
      "Technology\n"
     ]
    },
    {
     "name": "stderr",
     "output_type": "stream",
     "text": [
      "127.0.0.1 - - [11/May/2024 14:32:16] \"POST /predict_tolerance_risk HTTP/1.1\" 200 -\n"
     ]
    },
    {
     "name": "stdout",
     "output_type": "stream",
     "text": [
      "activity Technology\n",
      "ProfileData for Investor id: 108\n",
      "The length of ProfileData is: (1, 20)\n",
      "Technology\n"
     ]
    },
    {
     "name": "stderr",
     "output_type": "stream",
     "text": [
      "127.0.0.1 - - [11/May/2024 14:32:21] \"POST /predict_tolerance_risk HTTP/1.1\" 200 -\n"
     ]
    },
    {
     "name": "stdout",
     "output_type": "stream",
     "text": [
      "activity Technology\n",
      "ProfileData for Investor id: 108\n",
      "The length of ProfileData is: (1, 20)\n",
      "Technology\n"
     ]
    },
    {
     "name": "stderr",
     "output_type": "stream",
     "text": [
      "127.0.0.1 - - [11/May/2024 14:32:25] \"POST /predict_tolerance_risk HTTP/1.1\" 200 -\n"
     ]
    },
    {
     "name": "stdout",
     "output_type": "stream",
     "text": [
      "activity Technology\n",
      "ProfileData for Investor id: 108\n",
      "The length of ProfileData is: (1, 20)\n",
      "Technology\n"
     ]
    },
    {
     "name": "stderr",
     "output_type": "stream",
     "text": [
      "127.0.0.1 - - [11/May/2024 14:32:29] \"POST /predict_tolerance_risk HTTP/1.1\" 200 -\n"
     ]
    },
    {
     "name": "stdout",
     "output_type": "stream",
     "text": [
      "activity Technology\n"
     ]
    },
    {
     "name": "stderr",
     "output_type": "stream",
     "text": [
      "127.0.0.1 - - [11/May/2024 15:07:04] \"OPTIONS /predict_tolerance_risk HTTP/1.1\" 200 -\n"
     ]
    },
    {
     "name": "stdout",
     "output_type": "stream",
     "text": [
      "ProfileData for Investor id: 108\n",
      "The length of ProfileData is: (1, 20)\n",
      "Technology\n"
     ]
    },
    {
     "name": "stderr",
     "output_type": "stream",
     "text": [
      "127.0.0.1 - - [11/May/2024 15:07:07] \"POST /predict_tolerance_risk HTTP/1.1\" 200 -\n"
     ]
    },
    {
     "name": "stdout",
     "output_type": "stream",
     "text": [
      "activity Technology\n",
      "ProfileData for Investor id: 108\n",
      "The length of ProfileData is: (1, 20)\n",
      "Technology\n"
     ]
    },
    {
     "name": "stderr",
     "output_type": "stream",
     "text": [
      "127.0.0.1 - - [11/May/2024 15:07:45] \"POST /predict_tolerance_risk HTTP/1.1\" 200 -\n"
     ]
    },
    {
     "name": "stdout",
     "output_type": "stream",
     "text": [
      "activity Technology\n",
      "ProfileData for Investor id: 108\n",
      "The length of ProfileData is: (1, 20)\n",
      "Technology\n"
     ]
    },
    {
     "name": "stderr",
     "output_type": "stream",
     "text": [
      "127.0.0.1 - - [11/May/2024 15:07:51] \"POST /predict_tolerance_risk HTTP/1.1\" 200 -\n"
     ]
    },
    {
     "name": "stdout",
     "output_type": "stream",
     "text": [
      "activity Technology\n"
     ]
    },
    {
     "name": "stderr",
     "output_type": "stream",
     "text": [
      "127.0.0.1 - - [11/May/2024 19:25:42] \"OPTIONS /predict_tolerance_risk HTTP/1.1\" 200 -\n"
     ]
    },
    {
     "name": "stdout",
     "output_type": "stream",
     "text": [
      "ProfileData for Investor id: 108\n",
      "The length of ProfileData is: (1, 20)\n",
      "Technology\n"
     ]
    },
    {
     "name": "stderr",
     "output_type": "stream",
     "text": [
      "127.0.0.1 - - [11/May/2024 19:25:45] \"POST /predict_tolerance_risk HTTP/1.1\" 200 -\n"
     ]
    },
    {
     "name": "stdout",
     "output_type": "stream",
     "text": [
      "activity Technology\n",
      "ProfileData for Investor id: 108\n",
      "The length of ProfileData is: (1, 20)\n",
      "Technology\n"
     ]
    },
    {
     "name": "stderr",
     "output_type": "stream",
     "text": [
      "127.0.0.1 - - [11/May/2024 19:26:50] \"POST /predict_tolerance_risk HTTP/1.1\" 200 -\n"
     ]
    },
    {
     "name": "stdout",
     "output_type": "stream",
     "text": [
      "activity Technology\n",
      "ProfileData for Investor id: 108\n",
      "The length of ProfileData is: (1, 20)\n",
      "Technology\n"
     ]
    },
    {
     "name": "stderr",
     "output_type": "stream",
     "text": [
      "127.0.0.1 - - [11/May/2024 19:26:57] \"POST /predict_tolerance_risk HTTP/1.1\" 200 -\n"
     ]
    },
    {
     "name": "stdout",
     "output_type": "stream",
     "text": [
      "activity Technology\n"
     ]
    },
    {
     "name": "stderr",
     "output_type": "stream",
     "text": [
      "127.0.0.1 - - [11/May/2024 19:28:10] \"OPTIONS /predict_tolerance_risk HTTP/1.1\" 200 -\n"
     ]
    },
    {
     "name": "stdout",
     "output_type": "stream",
     "text": [
      "ProfileData for Investor id: 108\n",
      "The length of ProfileData is: (1, 20)\n",
      "Technology\n"
     ]
    },
    {
     "name": "stderr",
     "output_type": "stream",
     "text": [
      "127.0.0.1 - - [11/May/2024 19:28:14] \"POST /predict_tolerance_risk HTTP/1.1\" 200 -\n"
     ]
    },
    {
     "name": "stdout",
     "output_type": "stream",
     "text": [
      "activity Technology\n",
      "ProfileData for Investor id: 108\n",
      "The length of ProfileData is: (1, 20)\n",
      "Technology\n"
     ]
    },
    {
     "name": "stderr",
     "output_type": "stream",
     "text": [
      "127.0.0.1 - - [11/May/2024 19:29:01] \"POST /predict_tolerance_risk HTTP/1.1\" 200 -\n"
     ]
    },
    {
     "name": "stdout",
     "output_type": "stream",
     "text": [
      "activity Technology\n",
      "ProfileData for Investor id: 108\n",
      "The length of ProfileData is: (1, 20)\n",
      "Technology\n"
     ]
    },
    {
     "name": "stderr",
     "output_type": "stream",
     "text": [
      "127.0.0.1 - - [11/May/2024 19:29:07] \"POST /predict_tolerance_risk HTTP/1.1\" 200 -\n"
     ]
    },
    {
     "name": "stdout",
     "output_type": "stream",
     "text": [
      "activity Technology\n"
     ]
    },
    {
     "name": "stderr",
     "output_type": "stream",
     "text": [
      "127.0.0.1 - - [12/May/2024 13:30:54] \"OPTIONS /predict_tolerance_risk HTTP/1.1\" 200 -\n"
     ]
    },
    {
     "name": "stdout",
     "output_type": "stream",
     "text": [
      "ProfileData for Investor id: 108\n",
      "The length of ProfileData is: (1, 20)\n",
      "Technology\n"
     ]
    },
    {
     "name": "stderr",
     "output_type": "stream",
     "text": [
      "127.0.0.1 - - [12/May/2024 13:30:57] \"POST /predict_tolerance_risk HTTP/1.1\" 200 -\n"
     ]
    },
    {
     "name": "stdout",
     "output_type": "stream",
     "text": [
      "activity Technology\n",
      "ProfileData for Investor id: 108\n",
      "The length of ProfileData is: (1, 20)\n",
      "Technology\n"
     ]
    },
    {
     "name": "stderr",
     "output_type": "stream",
     "text": [
      "127.0.0.1 - - [12/May/2024 13:31:34] \"POST /predict_tolerance_risk HTTP/1.1\" 200 -\n"
     ]
    },
    {
     "name": "stdout",
     "output_type": "stream",
     "text": [
      "activity Technology\n",
      "ProfileData for Investor id: 108\n",
      "The length of ProfileData is: (1, 20)\n",
      "Technology\n"
     ]
    },
    {
     "name": "stderr",
     "output_type": "stream",
     "text": [
      "127.0.0.1 - - [12/May/2024 13:31:38] \"POST /predict_tolerance_risk HTTP/1.1\" 200 -\n"
     ]
    },
    {
     "name": "stdout",
     "output_type": "stream",
     "text": [
      "activity Technology\n"
     ]
    },
    {
     "name": "stderr",
     "output_type": "stream",
     "text": [
      "127.0.0.1 - - [12/May/2024 20:42:58] \"OPTIONS /predict_tolerance_risk HTTP/1.1\" 200 -\n"
     ]
    },
    {
     "name": "stdout",
     "output_type": "stream",
     "text": [
      "ProfileData for Investor id: 108\n",
      "The length of ProfileData is: (1, 20)\n",
      "Technology\n"
     ]
    },
    {
     "name": "stderr",
     "output_type": "stream",
     "text": [
      "127.0.0.1 - - [12/May/2024 20:43:01] \"POST /predict_tolerance_risk HTTP/1.1\" 200 -\n"
     ]
    },
    {
     "name": "stdout",
     "output_type": "stream",
     "text": [
      "activity Technology\n",
      "ProfileData for Investor id: 108\n",
      "The length of ProfileData is: (1, 20)\n",
      "Technology\n"
     ]
    },
    {
     "name": "stderr",
     "output_type": "stream",
     "text": [
      "127.0.0.1 - - [12/May/2024 20:43:55] \"POST /predict_tolerance_risk HTTP/1.1\" 200 -\n"
     ]
    },
    {
     "name": "stdout",
     "output_type": "stream",
     "text": [
      "activity Technology\n",
      "ProfileData for Investor id: 108\n",
      "The length of ProfileData is: (1, 20)\n",
      "Technology\n"
     ]
    },
    {
     "name": "stderr",
     "output_type": "stream",
     "text": [
      "127.0.0.1 - - [12/May/2024 20:44:00] \"POST /predict_tolerance_risk HTTP/1.1\" 200 -\n"
     ]
    },
    {
     "name": "stdout",
     "output_type": "stream",
     "text": [
      "activity Technology\n"
     ]
    },
    {
     "name": "stderr",
     "output_type": "stream",
     "text": [
      "127.0.0.1 - - [13/May/2024 13:46:17] \"OPTIONS /predict_tolerance_risk HTTP/1.1\" 200 -\n"
     ]
    },
    {
     "name": "stdout",
     "output_type": "stream",
     "text": [
      "ProfileData for Investor id: 108\n",
      "The length of ProfileData is: (1, 20)\n",
      "Technology\n"
     ]
    },
    {
     "name": "stderr",
     "output_type": "stream",
     "text": [
      "127.0.0.1 - - [13/May/2024 13:46:20] \"POST /predict_tolerance_risk HTTP/1.1\" 200 -\n"
     ]
    },
    {
     "name": "stdout",
     "output_type": "stream",
     "text": [
      "activity Technology\n"
     ]
    },
    {
     "name": "stderr",
     "output_type": "stream",
     "text": [
      "127.0.0.1 - - [13/May/2024 13:46:44] \"OPTIONS /predict_tolerance_risk HTTP/1.1\" 200 -\n"
     ]
    },
    {
     "name": "stdout",
     "output_type": "stream",
     "text": [
      "ProfileData for Investor id: 108\n",
      "The length of ProfileData is: (1, 20)\n",
      "Technology\n"
     ]
    },
    {
     "name": "stderr",
     "output_type": "stream",
     "text": [
      "127.0.0.1 - - [13/May/2024 13:46:48] \"POST /predict_tolerance_risk HTTP/1.1\" 200 -\n"
     ]
    },
    {
     "name": "stdout",
     "output_type": "stream",
     "text": [
      "activity Technology\n",
      "ProfileData for Investor id: 108\n",
      "The length of ProfileData is: (1, 20)\n",
      "Technology\n"
     ]
    },
    {
     "name": "stderr",
     "output_type": "stream",
     "text": [
      "127.0.0.1 - - [13/May/2024 13:47:33] \"POST /predict_tolerance_risk HTTP/1.1\" 200 -\n"
     ]
    },
    {
     "name": "stdout",
     "output_type": "stream",
     "text": [
      "activity Technology\n",
      "ProfileData for Investor id: 108\n",
      "The length of ProfileData is: (1, 20)\n",
      "Technology\n"
     ]
    },
    {
     "name": "stderr",
     "output_type": "stream",
     "text": [
      "127.0.0.1 - - [13/May/2024 13:47:40] \"POST /predict_tolerance_risk HTTP/1.1\" 200 -\n"
     ]
    },
    {
     "name": "stdout",
     "output_type": "stream",
     "text": [
      "activity Technology\n",
      "ProfileData for Investor id: 108\n",
      "The length of ProfileData is: (1, 20)\n",
      "Technology\n"
     ]
    },
    {
     "name": "stderr",
     "output_type": "stream",
     "text": [
      "127.0.0.1 - - [13/May/2024 13:48:03] \"POST /predict_tolerance_risk HTTP/1.1\" 200 -\n"
     ]
    },
    {
     "name": "stdout",
     "output_type": "stream",
     "text": [
      "activity Technology\n",
      "ProfileData for Investor id: 108\n",
      "The length of ProfileData is: (1, 20)\n",
      "Technology\n"
     ]
    },
    {
     "name": "stderr",
     "output_type": "stream",
     "text": [
      "127.0.0.1 - - [13/May/2024 13:48:07] \"POST /predict_tolerance_risk HTTP/1.1\" 200 -\n"
     ]
    },
    {
     "name": "stdout",
     "output_type": "stream",
     "text": [
      "activity Technology\n"
     ]
    }
   ],
   "source": [
    "from flask import Flask, request, jsonify\n",
    "from sklearn.ensemble import RandomForestRegressor\n",
    "import requests\n",
    "import pandas as pd\n",
    "from sklearn.model_selection import train_test_split\n",
    "from flask_cors import CORS\n",
    "from sklearn.preprocessing import LabelEncoder\n",
    "from sklearn.metrics import r2_score\n",
    "\n",
    "import nest_asyncio\n",
    "\n",
    "nest_asyncio.apply()\n",
    "app = Flask(__name__)\n",
    "CORS(app) \n",
    "\n",
    "# Match for unique values\n",
    "employmentStatus_mapping  = {\n",
    "     \"Unemployed\" : 1,\n",
    "     \"Student\" : 2,\n",
    "     \"Retired\" : 2,\n",
    "     \"Employed part-time\" : 3,\n",
    "     \"Employed full-time\": 4,\n",
    "     \"Self-employed\" : 5,\n",
    "}\n",
    "\n",
    "age_mapping= {\n",
    "    \"Over 50\" : 1,\n",
    "    \"Under 18\" : 2,\n",
    "    \"18-25\" : 3,\n",
    "    \"26-35\" : 4,\n",
    "    \"36-50\" : 5,\n",
    "    \n",
    "}\n",
    "\n",
    "investmentGoal_mapping = {\n",
    "    \"Wealth accumulation\" : 1,\n",
    "    \"Retirement planning\" : 2,\n",
    "    \"Education funding\" : 3,\n",
    "    \"Buying a home\" : 4,\n",
    "    \"Starting a business\" : 5,\n",
    "    \"Other\" : 0\n",
    "}\n",
    "\n",
    "pastInvestmentExperience_mapping = {\n",
    "      \"Yes\" : 5,\n",
    "      \"No\" : 1\n",
    "}\n",
    " \n",
    "financialMarketKnowledge_mapping = {\n",
    "      \"Very high\" : 5,\n",
    "      \"High\" : 4,\n",
    "      \"Moderate\" : 3,\n",
    "      \"Low\" : 2,\n",
    "      \"Very low\" : 1\n",
    "}\n",
    "\n",
    "financialRiskComfortLevel_mapping   = {\n",
    "      \"Very high\" : 5,\n",
    "      \"High\" : 4,\n",
    "      \"Moderate\" : 3,\n",
    "      \"Low\" : 2,\n",
    "      \"Very low\" : 1,\n",
    "    \n",
    "}\n",
    "\n",
    "investmentProductKnowledge_mapping = { \n",
    "     \"Very high\" : 5,\n",
    "     \"High\" : 4,\n",
    "     \"Moderate\" : 3,\n",
    "     \"Low\" : 2,\n",
    "     \"Very low\" : 1\n",
    "}\n",
    "\n",
    "investmentSelectionCriteria_mapping = {\n",
    "      \"Expected return\" : 5,\n",
    "       \"Diversification\" :4 ,\n",
    "       \"Liquidity\" : 3,\n",
    "        \"Others\" : 2,\n",
    "        \"Risk tolerance\" : 2,\n",
    "        \"Tax considerations\" : 1,\n",
    "       \n",
    "}\n",
    "\n",
    "avoidSpecificInvestments_mapping = {\n",
    "      \"Yes\" : 5,\n",
    "      \"No\" : 1\n",
    "}\n",
    "\n",
    "annualIncomeRange_mapping = {\n",
    "      \"Under 25,000 TND\" : 1,\n",
    "      \"25,000 TND - 50,000 TND\" : 2,\n",
    "      \"50,000 TND - 70,000 TND\" : 3,\n",
    "      \"70,000 TND - 100,000 TND\" : 4,\n",
    "      \"Over 100,000 TND\" : 5\n",
    "}\n",
    "\n",
    "debts_mapping = {\n",
    "      \"Yes\" : 5,\n",
    "      \"No\" : 1\n",
    "}\n",
    "\n",
    "investmentTimeframe_mapping  = {\n",
    "    \"Very short term\" : 1,\n",
    "     \"Short term\" : 2,\n",
    "     \"Medium term\" : 3,\n",
    "     \"Long term\" : 4,\n",
    "    \"Very long term\" : 5\n",
    "}\n",
    "investmentStyle_mapping = {\n",
    "    \"Vey conservative\" : 1,\n",
    "      \"Conservative\" : 2,\n",
    "      \"Moderate\" : 3,\n",
    "      \"Aggressive\" : 4,\n",
    "     \"Very aggressive\" : 5\n",
    "}\n",
    "targetRateOfReturn_mapping  = {\n",
    "      \"0%-20%\" : 1,\n",
    "      \"20%-40%\" : 2,\n",
    "      \"40%-60%\" : 3,\n",
    "      \"60%-80%\" : 4,\n",
    "      \"80%-100%\" : 5\n",
    "}\n",
    "preferredIndustries_mapping  = {\n",
    "      \"Technology\" : 5,\n",
    "      \"Healthcare\" : 4,\n",
    "      \"Finance\" : 3,\n",
    "      \"Real Estate\" : 2,\n",
    "      \"Consumer Goods\" : 1,\n",
    "      \n",
    "     \n",
    "}\n",
    "liquidityPriority_mapping  = {\n",
    "     \"Very high priority\" : 1,\n",
    "      \"High priority\" : 2,\n",
    "      \"Medium priority\" : 3,\n",
    "      \"Low priority\" : 4,  #Des actifs moins liquides se réfèrent à des investissements qui ne peuvent pas être facilement vendus sur le marché ou convertis en espèces rapidement sans subir de perte significative de valeur ou rencontrer des difficultés à trouver des acheteurs.\n",
    "       \"Very low priority\" : 5\n",
    "}\n",
    "\n",
    "reactionToMarketDownturn_mapping  = {\n",
    "     \"Stay invested and ride it out\" : 5,\n",
    "    \"Increase investments\" : 4,\n",
    "     \"Rebalance portfolio\" : 3,\n",
    "    \"Sell investments and hold cash\" : 2,\n",
    "    \"Others\" : 1\n",
    "}\n",
    "comfortWithFluctuations_mapping = {\n",
    "      \"Very comfortable\" : 5,\n",
    "      \"Comfortable\" : 4,\n",
    "      \"Neutral\" : 3,\n",
    "      \"Uncomfortable\" : 2,\n",
    "     \"Very uncomfortable\" : 1\n",
    "}\n",
    "\n",
    "sourceOfFunds_mapping  = {\n",
    "      \"Other\" : 1,\n",
    "      \"Savings\" : 2,\n",
    "      \"Salary\" : 3,\n",
    "      \"Inheritance\" : 4,\n",
    "      \"Investment returns\" : 5\n",
    "}\n",
    "\n",
    "\n",
    "def fetch_profile_data(base_url, investor_id):\n",
    "    api_url = f'{base_url}{investor_id}'\n",
    "    response = requests.get(api_url)\n",
    "    \n",
    "    if response.status_code == 200:\n",
    "        # Extract JSON data from the response\n",
    "        data = response.json()\n",
    "        \n",
    "        # Create a Pandas DataFrame from JSON data\n",
    "        ProfileData = pd.DataFrame([data])\n",
    "        \n",
    "        print(\"ProfileData for Investor id:\", investor_id)\n",
    "        print(\"The length of ProfileData is:\", ProfileData.shape)\n",
    "        return ProfileData\n",
    "    else:\n",
    "        print(f\"Failed request {response.status_code}\")\n",
    "        return None\n",
    "\n",
    "\n",
    "def CleaningData(ProfileData):\n",
    "    ProfileData.fillna(0, inplace=True)\n",
    "    return ProfileData\n",
    "\n",
    "\n",
    "def apply_mapping_to_profile_data(profile_data):\n",
    "    CleaningProfileData = CleaningData(profile_data)\n",
    "    data = CleaningProfileData.replace({\n",
    "        'employmentStatus': employmentStatus_mapping,\n",
    "        'age': age_mapping,\n",
    "        'investmentGoal': investmentGoal_mapping,\n",
    "        'pastInvestmentExperience': pastInvestmentExperience_mapping,\n",
    "        'financialMarketKnowledge': financialMarketKnowledge_mapping,\n",
    "        'investmentProductKnowledge': investmentProductKnowledge_mapping,\n",
    "        'investmentSelectionCriteria': investmentSelectionCriteria_mapping,\n",
    "        'avoidSpecificInvestments': avoidSpecificInvestments_mapping,\n",
    "        'annualIncomeRange': annualIncomeRange_mapping,\n",
    "        'debts': debts_mapping,\n",
    "        'investmentTimeframe': investmentTimeframe_mapping,\n",
    "        'investmentStyle': investmentStyle_mapping,\n",
    "        'targetRateOfReturn': targetRateOfReturn_mapping,\n",
    "        'preferredIndustries': preferredIndustries_mapping,\n",
    "        'liquidityPriority': liquidityPriority_mapping,\n",
    "        'reactionToMarketDownturn': reactionToMarketDownturn_mapping,\n",
    "        'comfortWithFluctuations': comfortWithFluctuations_mapping,\n",
    "        'financialRiskComfortLevel': financialRiskComfortLevel_mapping,\n",
    "        'sourceOfFunds': sourceOfFunds_mapping\n",
    "    })\n",
    "\n",
    "    return data\n",
    "\n",
    "# Example usage:\n",
    "# ProfileData_mapped = apply_mapping_to_profile_data(ProfileData)\n",
    "# ProfileData_mapped\n",
    "\n",
    "def apply_label_encoding(filename):\n",
    "    # Load the dataset\n",
    "    data = pd.read_csv(filename)\n",
    "    \n",
    "    # Apply label encoding using the mappings\n",
    "    data['employment_status'] = data['employment_status'].map(employmentStatus_mapping)\n",
    "    data['age'] = data['age'].map(age_mapping)\n",
    "    data['investment_goal'] = data['investment_goal'].map(investmentGoal_mapping)\n",
    "    data['past_investment_experience'] = data['past_investment_experience'].map(pastInvestmentExperience_mapping)\n",
    "    data['financial_market_knowledge'] = data['financial_market_knowledge'].map(financialMarketKnowledge_mapping)\n",
    "    data['investment_product_knowledge'] = data['investment_product_knowledge'].map(investmentProductKnowledge_mapping)\n",
    "    data['investment_selection_criteria'] = data['investment_selection_criteria'].map(investmentSelectionCriteria_mapping)\n",
    "    data['avoid_specific_investments'] = data['avoid_specific_investments'].map(avoidSpecificInvestments_mapping)\n",
    "    data['annual_income_range'] = data['annual_income_range'].map(annualIncomeRange_mapping)\n",
    "    data['debts'] = data['debts'].map(debts_mapping)\n",
    "    data['investment_timeframe'] = data['investment_timeframe'].map(investmentTimeframe_mapping)\n",
    "    data['investment_style'] = data['investment_style'].map(investmentStyle_mapping)\n",
    "    data['target_rate_of_return'] = data['target_rate_of_return'].map(targetRateOfReturn_mapping)\n",
    "    data['preferred_industries'] = data['preferred_industries'].map(preferredIndustries_mapping)\n",
    "    data['liquidity_priority'] = data['liquidity_priority'].map(liquidityPriority_mapping)\n",
    "    data['reaction_to_market_downturn'] = data['reaction_to_market_downturn'].map(reactionToMarketDownturn_mapping)\n",
    "    data['comfort_with_fluctuations'] = data['comfort_with_fluctuations'].map(comfortWithFluctuations_mapping)\n",
    "    data['financial_risk_comfort_level'] = data['financial_risk_comfort_level'].map(financialRiskComfortLevel_mapping)\n",
    "    data['source_of_funds'] = data['source_of_funds'].map(sourceOfFunds_mapping)  \n",
    "    \n",
    "    return data\n",
    "\n",
    "def CleaningData(data):\n",
    "    data.fillna(0, inplace=True)\n",
    "    return data\n",
    "\n",
    "def preprocess_data_and_split(filename, target_column, test_size=0.2, random_state=42):\n",
    "    \n",
    "    # Load the dataset\n",
    "    data_mapped = apply_label_encoding(filename)\n",
    "    \n",
    "    # Clean the data\n",
    "    cleaned_data = CleaningData(data_mapped)\n",
    "    \n",
    "    # Separate features (X) and target variable (Y)\n",
    "    X = cleaned_data.drop(columns=[target_column])\n",
    "    Y = cleaned_data[target_column]\n",
    "\n",
    "    # Encode categorical variables\n",
    "    label_encoders = {}\n",
    "    for column in X.columns:\n",
    "        if X[column].dtype == 'object':\n",
    "            label_encoders[column] = LabelEncoder()\n",
    "            X[column] = label_encoders[column].fit_transform(X[column])\n",
    "\n",
    "    # Split the dataset into training and testing sets\n",
    "    X_train, X_test, Y_train, Y_test = train_test_split(X, Y, test_size=test_size, random_state=random_state)\n",
    "    \n",
    "    return X_train, X_test, Y_train, Y_test\n",
    "\n",
    " \n",
    "\n",
    "def train_random_forest_model(X_train, Y_train, n_estimators=260, random_state=42):\n",
    "\n",
    "    # Initialize and train the Random Forest model\n",
    "    rf_regressor = RandomForestRegressor(n_estimators=n_estimators, random_state=random_state)\n",
    "    rf_regressor.fit(X_train, Y_train)\n",
    "    \n",
    "    \n",
    "    return rf_regressor\n",
    "\n",
    "\n",
    "def predict_tolerance_risk(ProfileData_mapped, rf_regressor):\n",
    "\n",
    "    investor_profile_data = ProfileData_mapped.drop(columns=['userId'])\n",
    "    predicted_tolerance_risk = rf_regressor.predict(investor_profile_data)\n",
    "    \n",
    "    return predicted_tolerance_risk\n",
    "\n",
    "\n",
    "\n",
    "# Define Flask endpoint\n",
    "@app.route('/predict_tolerance_risk', methods=['POST'])\n",
    "def predict_tolerance_risk_endpoint():\n",
    "  \n",
    "    request_data = request.json\n",
    "    \n",
    "    if request_data is None or 'base_url' not in request_data or 'investor_id' not in request_data:\n",
    "        return jsonify({'error': 'Request data is missing or invalid.'}), 400\n",
    "    \n",
    "    \n",
    "    ProfileData = fetch_profile_data(request_data['base_url'], request_data['investor_id'])\n",
    "    activity = ProfileData['preferredIndustries'].values[0] if not ProfileData.empty else None\n",
    "    print(activity)\n",
    "    \n",
    "    if ProfileData is None:\n",
    "        return jsonify({'error': 'Failed to fetch profile data.'}), 500\n",
    "    \n",
    "    ProfileData_mapped = apply_mapping_to_profile_data(ProfileData)\n",
    " \n",
    "    \n",
    "    # Load trained model\n",
    "    X_train, X_test, Y_train, Y_test = preprocess_data_and_split(\"C:\\\\Users\\\\Ranim\\\\Downloads\\\\ProfileDataset4.csv\", \"risk_tolerance\")\n",
    "    rf_regressor = train_random_forest_model(X_train, Y_train)\n",
    "    \n",
    "    if rf_regressor is None:\n",
    "        return jsonify({'error': 'Failed to train the model.'}), 500\n",
    "    \n",
    "    # Predict tolerance risk\n",
    "    predicted_risk = predict_tolerance_risk(ProfileData_mapped, rf_regressor)\n",
    "\n",
    "    print('activity',activity)\n",
    "    return jsonify({'predicted_tolerance_risk': predicted_risk.tolist() , 'activity': activity}), 200\n",
    "\n",
    "# Run Flask app\n",
    "if __name__ == '__main__':\n",
    "    app.run(port=5004) \n"
   ]
  },
  {
   "cell_type": "code",
   "execution_count": null,
   "id": "565b9c32",
   "metadata": {},
   "outputs": [],
   "source": []
  }
 ],
 "metadata": {
  "kernelspec": {
   "display_name": "Python 3 (ipykernel)",
   "language": "python",
   "name": "python3"
  },
  "language_info": {
   "codemirror_mode": {
    "name": "ipython",
    "version": 3
   },
   "file_extension": ".py",
   "mimetype": "text/x-python",
   "name": "python",
   "nbconvert_exporter": "python",
   "pygments_lexer": "ipython3",
   "version": "3.9.7"
  }
 },
 "nbformat": 4,
 "nbformat_minor": 5
}
